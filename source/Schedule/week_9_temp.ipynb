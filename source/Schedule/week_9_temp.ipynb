{
 "cells": [
  {
   "cell_type": "markdown",
   "id": "endangered-recall",
   "metadata": {},
   "source": [
    "# Week 9 (3/29-4/4)"
   ]
  },
  {
   "cell_type": "markdown",
   "id": "straight-conclusion",
   "metadata": {},
   "source": [
    "## KDE and Bayes Classification"
   ]
  },
  {
   "cell_type": "markdown",
   "id": "crude-variance",
   "metadata": {},
   "source": [
    "## Project \n",
    "\n"
   ]
  },
  {
   "cell_type": "markdown",
   "id": "dangerous-bennett",
   "metadata": {},
   "source": [
    "## Resources"
   ]
  },
  {
   "cell_type": "markdown",
   "id": "regulation-property",
   "metadata": {},
   "source": [
    "### 1. Histogram demo"
   ]
  },
  {
   "cell_type": "code",
   "execution_count": null,
   "id": "alleged-spoke",
   "metadata": {},
   "outputs": [],
   "source": [
    "import numpy as np\n",
    "import seaborn as sns\n",
    "import matplotlib.pyplot as plt\n",
    "from ipywidgets import interact, fixed\n",
    "\n",
    "plt.style.use('bmh')\n",
    "%config InlineBackend.figure_format = 'retina'\n",
    "\n",
    "\n",
    "def hist(data, bins=10, shift=0):\n",
    "    '''\n",
    "    bins:\n",
    "        number of bins\n",
    "    shift: \n",
    "        shift of bin boundaries. \n",
    "    '''\n",
    "    \n",
    "    plt.figure(figsize=(12,4))\n",
    "    max_shift = 5\n",
    "    data = np.array(data)\n",
    "    plt.xlim(data.min() - max_shift, data.max() + max_shift)\n",
    "    sns.histplot(data,\n",
    "                 stat=\"density\",\n",
    "                 bins=bins,\n",
    "                 binrange =  (data.min() - max_shift + shift,\n",
    "                               data.max() + max_shift + shift)\n",
    "                )\n",
    "    sns.rugplot(data, height=0.05, color='w')\n",
    "    plt.show()\n",
    "\n",
    "\n",
    "N = 50\n",
    "rng = np.random.default_rng(10)\n",
    "data = rng.normal(loc=10, scale=5, size=N)\n",
    "interact(hist, shift=(0, 5, 0.25), bins=(1, 30, 1), data=fixed(data));"
   ]
  },
  {
   "cell_type": "markdown",
   "id": "breeding-norway",
   "metadata": {},
   "source": [
    "### 2. Gaussian  kernel\n",
    "\n",
    "$$f(x) = \\frac{1}{h\\sqrt{2\\pi}}\\exp\\left(-\\frac{1}{2}\\left(\\frac{x-X}{h}\\right)^2\\right)$$"
   ]
  },
  {
   "cell_type": "code",
   "execution_count": 1,
   "id": "french-success",
   "metadata": {},
   "outputs": [],
   "source": [
    "def ker(x, mu, sigma):\n",
    "    u = (x-mu)/sigma\n",
    "    return np.exp(-0.5*u**2)/(sigma*(2*np.pi)**0.5)"
   ]
  },
  {
   "cell_type": "markdown",
   "id": "coordinate-large",
   "metadata": {},
   "source": [
    "### 3. KDE plot"
   ]
  },
  {
   "cell_type": "code",
   "execution_count": 8,
   "id": "mounted-character",
   "metadata": {},
   "outputs": [],
   "source": [
    "def plot_kde(data, h=0.1):\n",
    "    x = np.linspace(data.min() - 2, data.max() + 2, 400)\n",
    "    plt.figure(figsize=(10,6))\n",
    "    plt.plot(x, kde(x, data, h))\n",
    "    plt.plot(data, [0]*len(data), 'r|', ms=15)"
   ]
  },
  {
   "cell_type": "markdown",
   "id": "super-irish",
   "metadata": {},
   "source": [
    "### 4. KDE integral widget"
   ]
  },
  {
   "cell_type": "code",
   "execution_count": 16,
   "id": "suited-petroleum",
   "metadata": {},
   "outputs": [
    {
     "data": {
      "application/vnd.jupyter.widget-view+json": {
       "model_id": "5f27730c6bf240098aa8e7ee1175fdab",
       "version_major": 2,
       "version_minor": 0
      },
      "text/plain": [
       "interactive(children=(FloatSlider(value=7.0, description='lower', max=18.711520554978158, min=-0.3479861642085…"
      ]
     },
     "metadata": {},
     "output_type": "display_data"
    }
   ],
   "source": [
    "import scipy\n",
    "\n",
    "def integrate(data, lower=7, upper=12):\n",
    "\n",
    "    kde_data = scipy.stats.gaussian_kde(data)\n",
    "    integral = kde_data.integrate_box(lower, upper)\n",
    "    xfill = np.linspace(lower, upper, 100)\n",
    "\n",
    "    x_min = data.min() - 1\n",
    "    x_max = data.max() + 1\n",
    "    x = np.linspace(x_min, x_max, 400)\n",
    "\n",
    "    plt.figure(figsize=(10, 5))\n",
    "    plt.xlim(x_min - 1, x_max + 1)\n",
    "    plt.title(f\"$\\int^{{{upper:.2f}}}_{{{lower:.2f}}}f(t)dt$ = {integral:.3f}\",\n",
    "              fontsize=14,\n",
    "              y=1.1)\n",
    "    plt.plot(x, kde_data(x))\n",
    "    if lower <= upper:\n",
    "        plt.fill_between(xfill,\n",
    "                         kde_data(xfill),\n",
    "                         0,\n",
    "                         color='steelblue',\n",
    "                         alpha=0.5)\n",
    "    plt.plot(data, [0] * len(data), 'r|', ms=15)\n",
    "\n",
    "\n",
    "N = 50\n",
    "rng = np.random.default_rng(10)\n",
    "data = rng.normal(loc=10, scale=5, size=N)\n",
    "interact(integrate,\n",
    "         data=fixed(data),\n",
    "         lower=(data.min() - 1, data.max() + 1, 1.0),\n",
    "         upper=(data.min() - 1, data.max() + 1, 1.0));"
   ]
  },
  {
   "cell_type": "code",
   "execution_count": null,
   "id": "satisfactory-myanmar",
   "metadata": {},
   "outputs": [],
   "source": []
  }
 ],
 "metadata": {
  "celltoolbar": "Raw Cell Format",
  "kernelspec": {
   "display_name": "Python 3",
   "language": "python",
   "name": "python3"
  },
  "language_info": {
   "codemirror_mode": {
    "name": "ipython",
    "version": 3
   },
   "file_extension": ".py",
   "mimetype": "text/x-python",
   "name": "python",
   "nbconvert_exporter": "python",
   "pygments_lexer": "ipython3",
   "version": "3.8.5"
  }
 },
 "nbformat": 4,
 "nbformat_minor": 5
}
