{
 "cells": [
  {
   "cell_type": "markdown",
   "metadata": {},
   "source": [
    "# Week 1 (2/1-2/7)"
   ]
  },
  {
   "cell_type": "markdown",
   "metadata": {},
   "source": [
    "## Zoom Recordings \n",
    "\n",
    "Access to recordings requires UB Zoom account. If prompted, choose \"Sign in with SSO\" and then enter your UB username and password. \n",
    "\n",
    "* [Tuesday](https://buffalo.zoom.us/rec/share/BABUjMbBNYCPIL5ACNqJ5jP0caks06y1I13kAnOKE4Jpvbp__kdYhsEJrCdT6Eg.4KzyQhldIV36tVgh)\n",
    "* [Thursday](https://buffalo.zoom.us/rec/share/c7QWAnO1XCZAGE8qhiZbvwkMWLNIVd7fUXJ5TgaQYZ_OW7w4BBoRZw-gD2qVOpMn.vg_2zHSVFD4JlVAA)"
   ]
  },
  {
   "cell_type": "markdown",
   "metadata": {
    "raw_mimetype": "text/restructuredtext"
   },
   "source": [
    "## Notebook\n",
    "\n",
    "- [View online](../_static/weekly_notebooks/week_1_class.html)\n",
    "- Download the notebook file: [week_1_class.ipynb](../_static/weekly_notebooks/week_1_class.ipynb)."
   ]
  },
  {
   "cell_type": "markdown",
   "metadata": {},
   "source": [
    "## Weekly digest"
   ]
  },
  {
   "cell_type": "raw",
   "metadata": {
    "raw_mimetype": "text/restructuredtext"
   },
   "source": [
    ".. toctree::\n",
    "   :maxdepth: 1\n",
    "\n",
    "   ../Digests/digest_1"
   ]
  },
  {
   "cell_type": "markdown",
   "metadata": {},
   "source": [
    "## Logistics \n",
    "\n",
    "* Syllabus and course organization"
   ]
  },
  {
   "cell_type": "markdown",
   "metadata": {},
   "source": [
    "## [Numpy](../Tools/Numpy/numpy_toc.rst)"
   ]
  },
  {
   "cell_type": "markdown",
   "metadata": {},
   "source": [
    "* Numpy arrays\n",
    "* Vectorization\n",
    "* Indexing and slicing\n",
    "* Aggregating and sorting\n",
    "* Broadcasting"
   ]
  },
  {
   "cell_type": "markdown",
   "metadata": {},
   "source": [
    "## Resources"
   ]
  },
  {
   "cell_type": "markdown",
   "metadata": {},
   "source": [
    "### 1. Visualizing numpy arrays"
   ]
  },
  {
   "cell_type": "code",
   "execution_count": 3,
   "metadata": {},
   "outputs": [],
   "source": [
    "import matplotlib.pyplot as plt\n",
    "import numpy as np\n",
    "\n",
    "def show(a, size=6, cmap=\"seismic\", text='limegreen', fontsize=\"large\"):\n",
    "    '''\n",
    "    Display an image of a 2-dimensional numpy array.\n",
    "    It is assumed that values of the array are between\n",
    "    0 and 1.\n",
    "    '''\n",
    "\n",
    "    h, w = a.shape\n",
    "    plt.figure(figsize=(size, size))\n",
    "    ax = plt.subplot(111)\n",
    "    plt.xticks(range(w + 1))\n",
    "    plt.yticks(range(h + 1))\n",
    "    for (j, i), v in np.ndenumerate(a):\n",
    "        ax.text(i,\n",
    "                j,\n",
    "                f\"{v:.1f}\",\n",
    "                ha='center',\n",
    "                va='center',\n",
    "                color=text,\n",
    "                weight=900,\n",
    "                fontsize=fontsize)\n",
    "    plt.imshow(a, cmap=cmap, vmin=0, vmax=1)\n",
    "    plt.show()"
   ]
  },
  {
   "cell_type": "markdown",
   "metadata": {},
   "source": [
    "## Exercises\n",
    "\n",
    "The exercise below should be completed using tools provided by numpy arrays. Do not use `for` or `while` loops, list comprehensions etc. The code in each case can be written in fewer than 10 lines. "
   ]
  },
  {
   "cell_type": "markdown",
   "metadata": {},
   "source": [
    "### Exercise 1\n",
    "\n",
    "Write a function `border(a)` which takes as an argument an 2-dimensional numpy array `a` and returns an array obtained by adding a border of zeros to `a`."
   ]
  },
  {
   "cell_type": "code",
   "execution_count": 71,
   "metadata": {
    "nbsphinx": "hidden"
   },
   "outputs": [],
   "source": [
    "# \"nbsphinx\": \"hidden\"\n",
    "\n",
    "def border(a):\n",
    "    h, w = a.shape\n",
    "    b = np.zeros((h+2, w+2), dtype=a.dtype)\n",
    "    b[1:-1, 1:-1] = a\n",
    "    return b"
   ]
  },
  {
   "cell_type": "code",
   "execution_count": 105,
   "metadata": {},
   "outputs": [
    {
     "name": "stdout",
     "output_type": "stream",
     "text": [
      "a:\n",
      "[[ 0  1  2  3]\n",
      " [ 4  5  6  7]\n",
      " [ 8  9 10 11]]\n",
      "\n",
      "border(a):\n",
      "[[ 0  0  0  0  0  0]\n",
      " [ 0  0  1  2  3  0]\n",
      " [ 0  4  5  6  7  0]\n",
      " [ 0  8  9 10 11  0]\n",
      " [ 0  0  0  0  0  0]]\n"
     ]
    }
   ],
   "source": [
    "a = np.arange(12).reshape(3, 4)\n",
    "print(f\"a:\\n{a}\\n\")\n",
    "print(f\"border(a):\\n{border(a)}\")"
   ]
  },
  {
   "cell_type": "markdown",
   "metadata": {},
   "source": [
    "### Exercise 2\n",
    "\n",
    "Write a function `row_split(a, k)` which for a given 2-dimensional numpy array `a` and a positive integer `k` returns a tuple of two 2-dimensional numpy arrays: one consisting of the first `k` rows of `a` and the second consisting of the remaining rows. "
   ]
  },
  {
   "cell_type": "code",
   "execution_count": 1,
   "metadata": {
    "nbsphinx": "hidden"
   },
   "outputs": [],
   "source": [
    "# \"nbsphinx\": \"hidden\"\n",
    "\n",
    "def row_split(a, k):\n",
    "    return (a[:k], a[k:])"
   ]
  },
  {
   "cell_type": "code",
   "execution_count": 7,
   "metadata": {},
   "outputs": [
    {
     "name": "stdout",
     "output_type": "stream",
     "text": [
      "a:\n",
      "[[ 0  1  2]\n",
      " [ 3  4  5]\n",
      " [ 6  7  8]\n",
      " [ 9 10 11]\n",
      " [12 13 14]]\n",
      "\n",
      "row_split(a, 3):\n",
      "[[0 1 2]\n",
      " [3 4 5]\n",
      " [6 7 8]]\n",
      "\n",
      " [[ 9 10 11]\n",
      " [12 13 14]]\n"
     ]
    }
   ],
   "source": [
    "a = np.arange(15).reshape(5, 3)\n",
    "splitted = row_split(a, 3)\n",
    "print(f\"a:\\n{a}\")\n",
    "print(f\"\\nrow_split(a, 3):\\n{splitted[0]}\\n\\n {splitted[1]}\")"
   ]
  },
  {
   "cell_type": "markdown",
   "metadata": {},
   "source": [
    "### Exercise 3\n",
    "\n",
    "Write a function `n_smallest(a, n)` which given a 1-dimensional numpy array `a` and an integer `n` returns an array with indices of `n` smallest elements of `a`. "
   ]
  },
  {
   "cell_type": "code",
   "execution_count": 52,
   "metadata": {
    "nbsphinx": "hidden"
   },
   "outputs": [],
   "source": [
    "# \"nbsphinx\": \"hidden\"\n",
    "\n",
    "def n_smallest(a, n):\n",
    "    return np.argsort(a)[:n]"
   ]
  },
  {
   "cell_type": "code",
   "execution_count": 107,
   "metadata": {},
   "outputs": [
    {
     "name": "stdout",
     "output_type": "stream",
     "text": [
      "a:\n",
      "[51 26 92 37 69 13 23 77 85 79]\n",
      "\n",
      "n_smallest(a, 3):\n",
      "[5 6 1]\n"
     ]
    }
   ],
   "source": [
    "a = np.random.randint(0, 100, 10) # array of random integers\n",
    "print(f\"a:\\n{a}\\n\")\n",
    "print(f\"n_smallest(a, 3):\\n{n_smallest(a, 3)}\")"
   ]
  },
  {
   "cell_type": "markdown",
   "metadata": {},
   "source": [
    "### Exercise 4\n",
    "\n",
    "Write function `checkers(n)` which returns an $n\\times n$ numpy array consisting of zeros and ones arranged in a checkerboard pattern. To check that this function works correctly, test it for both odd and even values of $n$. "
   ]
  },
  {
   "cell_type": "code",
   "execution_count": 6,
   "metadata": {
    "nbsphinx": "hidden"
   },
   "outputs": [],
   "source": [
    "# \"nbsphinx\": \"hidden\"\n",
    "\n",
    "def checkers(n):\n",
    "    a = np.zeros((n,n))\n",
    "    b = np.arange(n**2).reshape(n,n)\n",
    "    a[(b//n + b%n)%2 == 0] = 1\n",
    "    return a"
   ]
  },
  {
   "cell_type": "code",
   "execution_count": 8,
   "metadata": {},
   "outputs": [
    {
     "data": {
      "text/plain": [
       "array([[1., 0., 1., 0., 1., 0., 1., 0.],\n",
       "       [0., 1., 0., 1., 0., 1., 0., 1.],\n",
       "       [1., 0., 1., 0., 1., 0., 1., 0.],\n",
       "       [0., 1., 0., 1., 0., 1., 0., 1.],\n",
       "       [1., 0., 1., 0., 1., 0., 1., 0.],\n",
       "       [0., 1., 0., 1., 0., 1., 0., 1.],\n",
       "       [1., 0., 1., 0., 1., 0., 1., 0.],\n",
       "       [0., 1., 0., 1., 0., 1., 0., 1.]])"
      ]
     },
     "execution_count": 8,
     "metadata": {},
     "output_type": "execute_result"
    }
   ],
   "source": [
    "checkers(8)"
   ]
  },
  {
   "cell_type": "markdown",
   "metadata": {},
   "source": [
    "### Exercise 5\n",
    "\n",
    "Write a function `sub_table(n)` which returns an $n\\times n$ numpy array with the subtraction table of numbers from $0$ to $n-1$. The value in the row $i$ and column $j$ of the array should be the number $i - j$."
   ]
  },
  {
   "cell_type": "code",
   "execution_count": 80,
   "metadata": {
    "nbsphinx": "hidden"
   },
   "outputs": [],
   "source": [
    "# \"nbsphinx\": \"hidden\"\n",
    "\n",
    "def sub_table(n):\n",
    "    a = np.arange(n).reshape(n, 1)\n",
    "    b = np.arange(n)\n",
    "    return a-b"
   ]
  },
  {
   "cell_type": "code",
   "execution_count": 81,
   "metadata": {},
   "outputs": [
    {
     "data": {
      "text/plain": [
       "array([[  0,  -1,  -2,  -3,  -4,  -5,  -6,  -7,  -8,  -9, -10],\n",
       "       [  1,   0,  -1,  -2,  -3,  -4,  -5,  -6,  -7,  -8,  -9],\n",
       "       [  2,   1,   0,  -1,  -2,  -3,  -4,  -5,  -6,  -7,  -8],\n",
       "       [  3,   2,   1,   0,  -1,  -2,  -3,  -4,  -5,  -6,  -7],\n",
       "       [  4,   3,   2,   1,   0,  -1,  -2,  -3,  -4,  -5,  -6],\n",
       "       [  5,   4,   3,   2,   1,   0,  -1,  -2,  -3,  -4,  -5],\n",
       "       [  6,   5,   4,   3,   2,   1,   0,  -1,  -2,  -3,  -4],\n",
       "       [  7,   6,   5,   4,   3,   2,   1,   0,  -1,  -2,  -3],\n",
       "       [  8,   7,   6,   5,   4,   3,   2,   1,   0,  -1,  -2],\n",
       "       [  9,   8,   7,   6,   5,   4,   3,   2,   1,   0,  -1],\n",
       "       [ 10,   9,   8,   7,   6,   5,   4,   3,   2,   1,   0]])"
      ]
     },
     "execution_count": 81,
     "metadata": {},
     "output_type": "execute_result"
    }
   ],
   "source": [
    "sub_table(11)"
   ]
  },
  {
   "cell_type": "markdown",
   "metadata": {},
   "source": [
    "### Exercise 6\n",
    "\n",
    "If ${\\bf v} = [x_1, x_2, \\dots, x_n]$ and ${\\bf w} = [y_1, y_2, \\dots, y_n]$ are two vectors with $n$ coordinates then the Euclidean distance between $\\bf v$ and $\\bf w$ is given by the formula:\n",
    "\n",
    "$$d({\\bf v}, {\\bf w}) = \\sqrt{ (x_1 - y_1)^2 + (x_2 - y_2)^2 + \\dots + (x_n - y_n)^2}$$\n",
    "\n",
    "Let `X` be an $m\\times n$ numpy array, and let `w` be a 1-dimensional array with $n$ entries. Write a function \n",
    "`dist(X, w)` which returns a 1-dimensional array with $m$ entries, such that the $i$-th entry is the distance between the $i$-th row of `X` and `w`. "
   ]
  },
  {
   "cell_type": "code",
   "execution_count": 36,
   "metadata": {
    "nbsphinx": "hidden"
   },
   "outputs": [],
   "source": [
    "# \"nbsphinx\": \"hidden\"\n",
    "\n",
    "def dist(X, w):\n",
    "    return np.sqrt(((X - w)**2).sum(axis=1))"
   ]
  },
  {
   "cell_type": "code",
   "execution_count": 109,
   "metadata": {},
   "outputs": [
    {
     "name": "stdout",
     "output_type": "stream",
     "text": [
      "X:\n",
      "[[ 0  1  2  3]\n",
      " [ 4  5  6  7]\n",
      " [ 8  9 10 11]]\n",
      "\n",
      "w:\n",
      "[0 1 0 1]\n",
      "\n",
      "dist(X, w):\n",
      "[ 2.82842712 10.19803903 18.11077028]\n"
     ]
    }
   ],
   "source": [
    "X = np.arange(12).reshape(3, 4)\n",
    "w = np.array([0, 1, 0, 1])\n",
    "print(f\"X:\\n{X}\")\n",
    "print(f\"\\nw:\\n{w}\")\n",
    "print(f\"\\ndist(X, w):\\n{dist(X,w)}\")"
   ]
  },
  {
   "cell_type": "markdown",
   "metadata": {},
   "source": [
    "### Exercise 7\n",
    "\n",
    "Write a function `order_columns(a)` which takes as an argument a 2-dimensional numpy array \n",
    "and returns an array obtained by reordering columns of `a` according to the sum of their entries: the first column is the one where the sum of entries is the smallest, the last column is the one where the sum of entries is the largest. "
   ]
  },
  {
   "cell_type": "code",
   "execution_count": 1,
   "metadata": {
    "nbsphinx": "hidden"
   },
   "outputs": [],
   "source": [
    "# \"nbsphinx\": \"hidden\"\n",
    "import numpy as np\n",
    "\n",
    "def reorder_columns(a):\n",
    "    sum_args = np.argsort(a.sum(axis=0))\n",
    "    return a[:, sum_args]"
   ]
  },
  {
   "cell_type": "code",
   "execution_count": 2,
   "metadata": {},
   "outputs": [
    {
     "name": "stdout",
     "output_type": "stream",
     "text": [
      "\n",
      "a:\n",
      "[[3 2 2 5 1]\n",
      " [1 0 2 4 5]\n",
      " [3 5 2 5 4]]\n",
      "\n",
      "order_columns(a):\n",
      "[[2 3 2 1 5]\n",
      " [2 1 0 5 4]\n",
      " [2 3 5 4 5]]\n"
     ]
    }
   ],
   "source": [
    "a = np.random.randint(0, 6, (3,5)) # 3x5 array of random integers 0 <= n < 6\n",
    "print(f\"\\na:\\n{a}\")\n",
    "print(f\"\\norder_columns(a):\\n{reorder_columns(a)}\")"
   ]
  },
  {
   "cell_type": "markdown",
   "metadata": {},
   "source": [
    "### Exercise 8\n",
    "\n",
    "Write the function `first_smaller(a, n)` which takes as its argument a 1-dimensional numpy \n",
    "array `a` and a number `n` and returns the first entry of `a` which is smaller than `n`. \n",
    "If such entry does not exist the function should return `None`. "
   ]
  },
  {
   "cell_type": "code",
   "execution_count": 49,
   "metadata": {
    "nbsphinx": "hidden"
   },
   "outputs": [],
   "source": [
    "# \"nbsphinx\": \"hidden\"\n",
    "\n",
    "def first_smaller(a, n):\n",
    "    smaller = a[a<n]\n",
    "    if len(smaller) > 0:\n",
    "        return smaller[0]\n",
    "    else:\n",
    "        return None"
   ]
  },
  {
   "cell_type": "code",
   "execution_count": 54,
   "metadata": {},
   "outputs": [
    {
     "name": "stdout",
     "output_type": "stream",
     "text": [
      "\n",
      "a:\n",
      "[79 55 35 71  4 68 98 38 20 36]\n",
      "\n",
      "first_smaller(a, 50):\n",
      "35\n"
     ]
    }
   ],
   "source": [
    "a = np.random.randint(0, 100, 10) # array of 10 random integers 0 <= n < 100\n",
    "print(f\"\\na:\\n{a}\")\n",
    "print(f\"\\nfirst_smaller(a, 50):\\n{first_smaller(a, 50)}\")"
   ]
  }
 ],
 "metadata": {
  "celltoolbar": "Raw Cell Format",
  "kernelspec": {
   "display_name": "Python 3",
   "language": "python",
   "name": "python3"
  },
  "language_info": {
   "codemirror_mode": {
    "name": "ipython",
    "version": 3
   },
   "file_extension": ".py",
   "mimetype": "text/x-python",
   "name": "python",
   "nbconvert_exporter": "python",
   "pygments_lexer": "ipython3",
   "version": "3.8.5"
  }
 },
 "nbformat": 4,
 "nbformat_minor": 4
}
