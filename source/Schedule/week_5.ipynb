{
 "cells": [
  {
   "cell_type": "markdown",
   "id": "northern-guidance",
   "metadata": {},
   "source": [
    "# Week 5 (2/28-3/6)"
   ]
  },
  {
   "cell_type": "raw",
   "id": "be3624e3",
   "metadata": {
    "raw_mimetype": "text/html"
   },
   "source": [
    " <h3 style=\"color:red;\">There is no class on Wednesday, March 2.<h3> \n",
    " \n",
    " <h3 style=\"color:red;\">Office hours this week are on Saturday March 5, 4:00-5:30 PM on Discord.</h3>"
   ]
  },
  {
   "cell_type": "markdown",
   "id": "boolean-depression",
   "metadata": {},
   "source": [
    "## [Pandas](../Tools/Pandas/pandas_toc.rst)\n",
    "\n",
    "* GroupBy\n",
    "* Index operations"
   ]
  },
  {
   "cell_type": "markdown",
   "id": "ec8ddf67",
   "metadata": {},
   "source": [
    "## Resorces"
   ]
  },
  {
   "cell_type": "markdown",
   "id": "821049ff",
   "metadata": {},
   "source": [
    "### 1. Seaborn sample data "
   ]
  },
  {
   "cell_type": "raw",
   "id": "e78ff99f",
   "metadata": {
    "raw_mimetype": "text/restructuredtext"
   },
   "source": [
    "| :download:`tips.csv <tips.csv>`\n",
    "| :download:`flights.csv <flights.csv>`"
   ]
  },
  {
   "cell_type": "markdown",
   "id": "civic-hammer",
   "metadata": {},
   "source": [
    "## Exercises"
   ]
  },
  {
   "cell_type": "markdown",
   "id": "obvious-ministry",
   "metadata": {},
   "source": [
    "All exercises below use data on restaurant visits. A DataFrame with this data can be created as follows:"
   ]
  },
  {
   "cell_type": "code",
   "execution_count": 23,
   "id": "rental-inspection",
   "metadata": {},
   "outputs": [
    {
     "data": {
      "text/html": [
       "<div>\n",
       "<style scoped>\n",
       "    .dataframe tbody tr th:only-of-type {\n",
       "        vertical-align: middle;\n",
       "    }\n",
       "\n",
       "    .dataframe tbody tr th {\n",
       "        vertical-align: top;\n",
       "    }\n",
       "\n",
       "    .dataframe thead th {\n",
       "        text-align: right;\n",
       "    }\n",
       "</style>\n",
       "<table border=\"1\" class=\"dataframe\">\n",
       "  <thead>\n",
       "    <tr style=\"text-align: right;\">\n",
       "      <th></th>\n",
       "      <th>total_bill</th>\n",
       "      <th>tip</th>\n",
       "      <th>sex</th>\n",
       "      <th>smoker</th>\n",
       "      <th>day</th>\n",
       "      <th>time</th>\n",
       "      <th>size</th>\n",
       "    </tr>\n",
       "  </thead>\n",
       "  <tbody>\n",
       "    <tr>\n",
       "      <th>0</th>\n",
       "      <td>16.99</td>\n",
       "      <td>1.01</td>\n",
       "      <td>Female</td>\n",
       "      <td>No</td>\n",
       "      <td>Sun</td>\n",
       "      <td>Dinner</td>\n",
       "      <td>2</td>\n",
       "    </tr>\n",
       "    <tr>\n",
       "      <th>1</th>\n",
       "      <td>10.34</td>\n",
       "      <td>1.66</td>\n",
       "      <td>Male</td>\n",
       "      <td>No</td>\n",
       "      <td>Sun</td>\n",
       "      <td>Dinner</td>\n",
       "      <td>3</td>\n",
       "    </tr>\n",
       "    <tr>\n",
       "      <th>2</th>\n",
       "      <td>21.01</td>\n",
       "      <td>3.50</td>\n",
       "      <td>Male</td>\n",
       "      <td>No</td>\n",
       "      <td>Sun</td>\n",
       "      <td>Dinner</td>\n",
       "      <td>3</td>\n",
       "    </tr>\n",
       "    <tr>\n",
       "      <th>3</th>\n",
       "      <td>23.68</td>\n",
       "      <td>3.31</td>\n",
       "      <td>Male</td>\n",
       "      <td>No</td>\n",
       "      <td>Sun</td>\n",
       "      <td>Dinner</td>\n",
       "      <td>2</td>\n",
       "    </tr>\n",
       "    <tr>\n",
       "      <th>4</th>\n",
       "      <td>24.59</td>\n",
       "      <td>3.61</td>\n",
       "      <td>Female</td>\n",
       "      <td>No</td>\n",
       "      <td>Sun</td>\n",
       "      <td>Dinner</td>\n",
       "      <td>4</td>\n",
       "    </tr>\n",
       "  </tbody>\n",
       "</table>\n",
       "</div>"
      ],
      "text/plain": [
       "   total_bill   tip     sex smoker  day    time  size\n",
       "0       16.99  1.01  Female     No  Sun  Dinner     2\n",
       "1       10.34  1.66    Male     No  Sun  Dinner     3\n",
       "2       21.01  3.50    Male     No  Sun  Dinner     3\n",
       "3       23.68  3.31    Male     No  Sun  Dinner     2\n",
       "4       24.59  3.61  Female     No  Sun  Dinner     4"
      ]
     },
     "execution_count": 23,
     "metadata": {},
     "output_type": "execute_result"
    }
   ],
   "source": [
    "import seaborn as sns\n",
    "tips = sns.load_dataset(\"tips\")\n",
    "tips.head(5)"
   ]
  },
  {
   "cell_type": "markdown",
   "id": "earlier-giving",
   "metadata": {},
   "source": [
    "### Exercise 1\n",
    "\n",
    "How many people visited the restaurant each day of the week? \n",
    "\n",
    "**Check:** There were 152 visitors on Thursday."
   ]
  },
  {
   "cell_type": "code",
   "execution_count": 24,
   "id": "spectacular-rabbit",
   "metadata": {
    "nbsphinx": "hidden"
   },
   "outputs": [
    {
     "data": {
      "text/plain": [
       "day\n",
       "Thur    152\n",
       "Fri      40\n",
       "Sat     219\n",
       "Sun     216\n",
       "Name: size, dtype: int64"
      ]
     },
     "execution_count": 24,
     "metadata": {},
     "output_type": "execute_result"
    }
   ],
   "source": [
    "# \"nbsphinx\": \"hidden\"\n",
    "\n",
    "tips.groupby(by=\"day\")[\"size\"].sum()"
   ]
  },
  {
   "cell_type": "markdown",
   "id": "eleven-collect",
   "metadata": {},
   "source": [
    "### Exercise 2\n",
    "\n",
    "What was the average bill paid each day of the week? \n",
    "\n",
    "**Check:** <span class=\"tex2jax_ignore\">The average bill on Thursday was $17.48</span>."
   ]
  },
  {
   "cell_type": "code",
   "execution_count": 25,
   "id": "interstate-strategy",
   "metadata": {
    "nbsphinx": "hidden"
   },
   "outputs": [
    {
     "data": {
      "text/plain": [
       "day\n",
       "Thur    17.682742\n",
       "Fri     17.151579\n",
       "Sat     20.441379\n",
       "Sun     21.410000\n",
       "Name: total_bill, dtype: float64"
      ]
     },
     "execution_count": 25,
     "metadata": {},
     "output_type": "execute_result"
    }
   ],
   "source": [
    "# \"nbsphinx\": \"hidden\"\n",
    "\n",
    "tips.groupby(by=\"day\")[\"total_bill\"].mean()"
   ]
  },
  {
   "cell_type": "markdown",
   "id": "considerable-blair",
   "metadata": {},
   "source": [
    "### Exercise 3\n",
    "\n",
    "For each restaurant visit, compute  what percentage of the total bill was the tip, and then compute the average value of this percentage for male and for female customers. \n",
    "\n",
    "**Check:** The average tip for males was 15.76%."
   ]
  },
  {
   "cell_type": "code",
   "execution_count": 26,
   "id": "polished-jungle",
   "metadata": {
    "nbsphinx": "hidden"
   },
   "outputs": [
    {
     "data": {
      "text/plain": [
       "sex\n",
       "Male      15.765055\n",
       "Female    16.649074\n",
       "Name: tip_perc, dtype: float64"
      ]
     },
     "execution_count": 26,
     "metadata": {},
     "output_type": "execute_result"
    }
   ],
   "source": [
    "# \"nbsphinx\": \"hidden\"\n",
    "\n",
    "tips[\"tip_perc\"] = 100*tips[\"tip\"]/tips[\"total_bill\"]\n",
    "tips.groupby(by=\"sex\")[\"tip_perc\"].mean()"
   ]
  },
  {
   "cell_type": "markdown",
   "id": "alive-heading",
   "metadata": {},
   "source": [
    "### Exercise 4\n",
    "\n",
    "Compute a DateFrame with 10 rows selected from the tips data: 5 rows with the the 5 highest total bills for smokers and 5 rows with the 5 highest total bills for non-smokers\n",
    "\n",
    "\n",
    "**Check:** The 5 highest bills for smokers were <span class=\"tex2jax_ignore\">$50.81, $43.35, $44.30, $43.11 and $40.55."
   ]
  },
  {
   "cell_type": "code",
   "execution_count": 27,
   "id": "reflected-southwest",
   "metadata": {
    "nbsphinx": "hidden"
   },
   "outputs": [
    {
     "data": {
      "text/html": [
       "<div>\n",
       "<style scoped>\n",
       "    .dataframe tbody tr th:only-of-type {\n",
       "        vertical-align: middle;\n",
       "    }\n",
       "\n",
       "    .dataframe tbody tr th {\n",
       "        vertical-align: top;\n",
       "    }\n",
       "\n",
       "    .dataframe thead th {\n",
       "        text-align: right;\n",
       "    }\n",
       "</style>\n",
       "<table border=\"1\" class=\"dataframe\">\n",
       "  <thead>\n",
       "    <tr style=\"text-align: right;\">\n",
       "      <th></th>\n",
       "      <th></th>\n",
       "      <th>total_bill</th>\n",
       "      <th>tip</th>\n",
       "      <th>sex</th>\n",
       "      <th>smoker</th>\n",
       "      <th>day</th>\n",
       "      <th>time</th>\n",
       "      <th>size</th>\n",
       "      <th>tip_perc</th>\n",
       "    </tr>\n",
       "    <tr>\n",
       "      <th>smoker</th>\n",
       "      <th></th>\n",
       "      <th></th>\n",
       "      <th></th>\n",
       "      <th></th>\n",
       "      <th></th>\n",
       "      <th></th>\n",
       "      <th></th>\n",
       "      <th></th>\n",
       "      <th></th>\n",
       "    </tr>\n",
       "  </thead>\n",
       "  <tbody>\n",
       "    <tr>\n",
       "      <th rowspan=\"5\" valign=\"top\">Yes</th>\n",
       "      <th>170</th>\n",
       "      <td>50.81</td>\n",
       "      <td>10.00</td>\n",
       "      <td>Male</td>\n",
       "      <td>Yes</td>\n",
       "      <td>Sat</td>\n",
       "      <td>Dinner</td>\n",
       "      <td>3</td>\n",
       "      <td>19.681165</td>\n",
       "    </tr>\n",
       "    <tr>\n",
       "      <th>182</th>\n",
       "      <td>45.35</td>\n",
       "      <td>3.50</td>\n",
       "      <td>Male</td>\n",
       "      <td>Yes</td>\n",
       "      <td>Sun</td>\n",
       "      <td>Dinner</td>\n",
       "      <td>3</td>\n",
       "      <td>7.717751</td>\n",
       "    </tr>\n",
       "    <tr>\n",
       "      <th>102</th>\n",
       "      <td>44.30</td>\n",
       "      <td>2.50</td>\n",
       "      <td>Female</td>\n",
       "      <td>Yes</td>\n",
       "      <td>Sat</td>\n",
       "      <td>Dinner</td>\n",
       "      <td>3</td>\n",
       "      <td>5.643341</td>\n",
       "    </tr>\n",
       "    <tr>\n",
       "      <th>197</th>\n",
       "      <td>43.11</td>\n",
       "      <td>5.00</td>\n",
       "      <td>Female</td>\n",
       "      <td>Yes</td>\n",
       "      <td>Thur</td>\n",
       "      <td>Lunch</td>\n",
       "      <td>4</td>\n",
       "      <td>11.598237</td>\n",
       "    </tr>\n",
       "    <tr>\n",
       "      <th>184</th>\n",
       "      <td>40.55</td>\n",
       "      <td>3.00</td>\n",
       "      <td>Male</td>\n",
       "      <td>Yes</td>\n",
       "      <td>Sun</td>\n",
       "      <td>Dinner</td>\n",
       "      <td>2</td>\n",
       "      <td>7.398274</td>\n",
       "    </tr>\n",
       "    <tr>\n",
       "      <th rowspan=\"5\" valign=\"top\">No</th>\n",
       "      <th>212</th>\n",
       "      <td>48.33</td>\n",
       "      <td>9.00</td>\n",
       "      <td>Male</td>\n",
       "      <td>No</td>\n",
       "      <td>Sat</td>\n",
       "      <td>Dinner</td>\n",
       "      <td>4</td>\n",
       "      <td>18.621974</td>\n",
       "    </tr>\n",
       "    <tr>\n",
       "      <th>59</th>\n",
       "      <td>48.27</td>\n",
       "      <td>6.73</td>\n",
       "      <td>Male</td>\n",
       "      <td>No</td>\n",
       "      <td>Sat</td>\n",
       "      <td>Dinner</td>\n",
       "      <td>4</td>\n",
       "      <td>13.942407</td>\n",
       "    </tr>\n",
       "    <tr>\n",
       "      <th>156</th>\n",
       "      <td>48.17</td>\n",
       "      <td>5.00</td>\n",
       "      <td>Male</td>\n",
       "      <td>No</td>\n",
       "      <td>Sun</td>\n",
       "      <td>Dinner</td>\n",
       "      <td>6</td>\n",
       "      <td>10.379905</td>\n",
       "    </tr>\n",
       "    <tr>\n",
       "      <th>142</th>\n",
       "      <td>41.19</td>\n",
       "      <td>5.00</td>\n",
       "      <td>Male</td>\n",
       "      <td>No</td>\n",
       "      <td>Thur</td>\n",
       "      <td>Lunch</td>\n",
       "      <td>5</td>\n",
       "      <td>12.138869</td>\n",
       "    </tr>\n",
       "    <tr>\n",
       "      <th>23</th>\n",
       "      <td>39.42</td>\n",
       "      <td>7.58</td>\n",
       "      <td>Male</td>\n",
       "      <td>No</td>\n",
       "      <td>Sat</td>\n",
       "      <td>Dinner</td>\n",
       "      <td>4</td>\n",
       "      <td>19.228818</td>\n",
       "    </tr>\n",
       "  </tbody>\n",
       "</table>\n",
       "</div>"
      ],
      "text/plain": [
       "            total_bill    tip     sex smoker   day    time  size   tip_perc\n",
       "smoker                                                                     \n",
       "Yes    170       50.81  10.00    Male    Yes   Sat  Dinner     3  19.681165\n",
       "       182       45.35   3.50    Male    Yes   Sun  Dinner     3   7.717751\n",
       "       102       44.30   2.50  Female    Yes   Sat  Dinner     3   5.643341\n",
       "       197       43.11   5.00  Female    Yes  Thur   Lunch     4  11.598237\n",
       "       184       40.55   3.00    Male    Yes   Sun  Dinner     2   7.398274\n",
       "No     212       48.33   9.00    Male     No   Sat  Dinner     4  18.621974\n",
       "       59        48.27   6.73    Male     No   Sat  Dinner     4  13.942407\n",
       "       156       48.17   5.00    Male     No   Sun  Dinner     6  10.379905\n",
       "       142       41.19   5.00    Male     No  Thur   Lunch     5  12.138869\n",
       "       23        39.42   7.58    Male     No   Sat  Dinner     4  19.228818"
      ]
     },
     "execution_count": 27,
     "metadata": {},
     "output_type": "execute_result"
    }
   ],
   "source": [
    "# \"nbsphinx\": \"hidden\"\n",
    "\n",
    "def large_bills(df):\n",
    "\n",
    "    df = df.sort_values(by=\"total_bill\", ascending=False)\n",
    "    return df.head(5)\n",
    "\n",
    "big_bills = tips.groupby(\"smoker\").apply(large_bills)\n",
    "big_bills"
   ]
  },
  {
   "cell_type": "markdown",
   "id": "sitting-darkness",
   "metadata": {},
   "source": [
    "### Exercise 5\n",
    "\n",
    "Create a DataFrame with 4 rows selected from the tips data: a row with the highest total bill for a male smoker, a row with the highest total bill for a male non-smoker, and the same for a female smokers and a female non-smokers. \n",
    "\n",
    "\n",
    "**Check:** <span class=\"tex2jax_ignore\">The highest bills were $50.81 for male smoker, $48.33 for a male non-smoker, $44.30 for a female smoker and $35.83 for a female non-smoker.</span>"
   ]
  },
  {
   "cell_type": "code",
   "execution_count": 31,
   "id": "incredible-appliance",
   "metadata": {
    "nbsphinx": "hidden"
   },
   "outputs": [
    {
     "data": {
      "text/html": [
       "<div>\n",
       "<style scoped>\n",
       "    .dataframe tbody tr th:only-of-type {\n",
       "        vertical-align: middle;\n",
       "    }\n",
       "\n",
       "    .dataframe tbody tr th {\n",
       "        vertical-align: top;\n",
       "    }\n",
       "\n",
       "    .dataframe thead th {\n",
       "        text-align: right;\n",
       "    }\n",
       "</style>\n",
       "<table border=\"1\" class=\"dataframe\">\n",
       "  <thead>\n",
       "    <tr style=\"text-align: right;\">\n",
       "      <th></th>\n",
       "      <th></th>\n",
       "      <th>total_bill</th>\n",
       "      <th>tip</th>\n",
       "      <th>sex</th>\n",
       "      <th>smoker</th>\n",
       "      <th>day</th>\n",
       "      <th>time</th>\n",
       "      <th>size</th>\n",
       "      <th>tip_perc</th>\n",
       "    </tr>\n",
       "    <tr>\n",
       "      <th>sex</th>\n",
       "      <th>smoker</th>\n",
       "      <th></th>\n",
       "      <th></th>\n",
       "      <th></th>\n",
       "      <th></th>\n",
       "      <th></th>\n",
       "      <th></th>\n",
       "      <th></th>\n",
       "      <th></th>\n",
       "    </tr>\n",
       "  </thead>\n",
       "  <tbody>\n",
       "    <tr>\n",
       "      <th rowspan=\"2\" valign=\"top\">Male</th>\n",
       "      <th>Yes</th>\n",
       "      <td>50.81</td>\n",
       "      <td>10.00</td>\n",
       "      <td>Male</td>\n",
       "      <td>Yes</td>\n",
       "      <td>Sat</td>\n",
       "      <td>Dinner</td>\n",
       "      <td>3</td>\n",
       "      <td>19.681165</td>\n",
       "    </tr>\n",
       "    <tr>\n",
       "      <th>No</th>\n",
       "      <td>48.33</td>\n",
       "      <td>9.00</td>\n",
       "      <td>Male</td>\n",
       "      <td>No</td>\n",
       "      <td>Sat</td>\n",
       "      <td>Dinner</td>\n",
       "      <td>4</td>\n",
       "      <td>18.621974</td>\n",
       "    </tr>\n",
       "    <tr>\n",
       "      <th rowspan=\"2\" valign=\"top\">Female</th>\n",
       "      <th>Yes</th>\n",
       "      <td>44.30</td>\n",
       "      <td>2.50</td>\n",
       "      <td>Female</td>\n",
       "      <td>Yes</td>\n",
       "      <td>Sat</td>\n",
       "      <td>Dinner</td>\n",
       "      <td>3</td>\n",
       "      <td>5.643341</td>\n",
       "    </tr>\n",
       "    <tr>\n",
       "      <th>No</th>\n",
       "      <td>35.83</td>\n",
       "      <td>4.67</td>\n",
       "      <td>Female</td>\n",
       "      <td>No</td>\n",
       "      <td>Sat</td>\n",
       "      <td>Dinner</td>\n",
       "      <td>3</td>\n",
       "      <td>13.033771</td>\n",
       "    </tr>\n",
       "  </tbody>\n",
       "</table>\n",
       "</div>"
      ],
      "text/plain": [
       "               total_bill    tip     sex smoker  day    time  size   tip_perc\n",
       "sex    smoker                                                                \n",
       "Male   Yes          50.81  10.00    Male    Yes  Sat  Dinner     3  19.681165\n",
       "       No           48.33   9.00    Male     No  Sat  Dinner     4  18.621974\n",
       "Female Yes          44.30   2.50  Female    Yes  Sat  Dinner     3   5.643341\n",
       "       No           35.83   4.67  Female     No  Sat  Dinner     3  13.033771"
      ]
     },
     "execution_count": 31,
     "metadata": {},
     "output_type": "execute_result"
    }
   ],
   "source": [
    "# \"nbsphinx\": \"hidden\"\n",
    "\n",
    "def max_bills(df):\n",
    "\n",
    "    return df.loc[df[\"total_bill\"].idxmax()]\n",
    "\n",
    "big_bills = tips.groupby([\"sex\", \"smoker\"]).apply(max_bills)\n",
    "big_bills"
   ]
  },
  {
   "cell_type": "markdown",
   "id": "central-sampling",
   "metadata": {},
   "source": [
    "### Exercise 6\n",
    "\n",
    "Create a DataFrame with two rows indicating if a customer was a male or a female, and columns indicating which day of the week the customer visited the restaurant. The value in a given row and column should be the amount of the largest tip that a customer of a given sex and visiting on a given day paid. \n",
    "\n",
    "**Check:** <span class=\"tex2jax_ignore\">The highest tip paid on Thursday was $6.70 for males and $5.17 for females.</span>"
   ]
  },
  {
   "cell_type": "code",
   "execution_count": 22,
   "id": "empirical-certificate",
   "metadata": {
    "nbsphinx": "hidden"
   },
   "outputs": [
    {
     "data": {
      "text/html": [
       "<div>\n",
       "<style scoped>\n",
       "    .dataframe tbody tr th:only-of-type {\n",
       "        vertical-align: middle;\n",
       "    }\n",
       "\n",
       "    .dataframe tbody tr th {\n",
       "        vertical-align: top;\n",
       "    }\n",
       "\n",
       "    .dataframe thead th {\n",
       "        text-align: right;\n",
       "    }\n",
       "</style>\n",
       "<table border=\"1\" class=\"dataframe\">\n",
       "  <thead>\n",
       "    <tr style=\"text-align: right;\">\n",
       "      <th>day</th>\n",
       "      <th>Thur</th>\n",
       "      <th>Fri</th>\n",
       "      <th>Sat</th>\n",
       "      <th>Sun</th>\n",
       "    </tr>\n",
       "    <tr>\n",
       "      <th>sex</th>\n",
       "      <th></th>\n",
       "      <th></th>\n",
       "      <th></th>\n",
       "      <th></th>\n",
       "    </tr>\n",
       "  </thead>\n",
       "  <tbody>\n",
       "    <tr>\n",
       "      <th>Male</th>\n",
       "      <td>6.70</td>\n",
       "      <td>4.73</td>\n",
       "      <td>10.0</td>\n",
       "      <td>6.5</td>\n",
       "    </tr>\n",
       "    <tr>\n",
       "      <th>Female</th>\n",
       "      <td>5.17</td>\n",
       "      <td>4.30</td>\n",
       "      <td>6.5</td>\n",
       "      <td>5.2</td>\n",
       "    </tr>\n",
       "  </tbody>\n",
       "</table>\n",
       "</div>"
      ],
      "text/plain": [
       "day     Thur   Fri   Sat  Sun\n",
       "sex                          \n",
       "Male    6.70  4.73  10.0  6.5\n",
       "Female  5.17  4.30   6.5  5.2"
      ]
     },
     "execution_count": 22,
     "metadata": {},
     "output_type": "execute_result"
    }
   ],
   "source": [
    "# \"nbsphinx\": \"hidden\"\n",
    "\n",
    "df.groupby([\"sex\", \"day\"])[\"tip\"].max().unstack()"
   ]
  }
 ],
 "metadata": {
  "celltoolbar": "Raw Cell Format",
  "kernelspec": {
   "display_name": "Python 3 (ipykernel)",
   "language": "python",
   "name": "python3"
  },
  "language_info": {
   "codemirror_mode": {
    "name": "ipython",
    "version": 3
   },
   "file_extension": ".py",
   "mimetype": "text/x-python",
   "name": "python",
   "nbconvert_exporter": "python",
   "pygments_lexer": "ipython3",
   "version": "3.8.12"
  }
 },
 "nbformat": 4,
 "nbformat_minor": 5
}
