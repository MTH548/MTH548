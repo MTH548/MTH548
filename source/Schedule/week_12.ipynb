{
 "cells": [
  {
   "cell_type": "markdown",
   "id": "vocal-spouse",
   "metadata": {},
   "source": [
    "# Week 12 (4/19-4/25)"
   ]
  },
  {
   "cell_type": "markdown",
   "id": "normal-glossary",
   "metadata": {},
   "source": [
    "## Text classification with Naive Bayes\n",
    "\n",
    "* Text processing\n",
    "* Naive Bayes classification\n",
    "* Laplace smoothing"
   ]
  },
  {
   "cell_type": "markdown",
   "id": "sacred-trunk",
   "metadata": {},
   "source": [
    "## Project \n",
    "\n",
    "* [Text with naive Bayes](../Projects/text_with_naive_bayes/text_with_naive_bayes.ipynb)"
   ]
  }
 ],
 "metadata": {
  "celltoolbar": "Raw Cell Format",
  "kernelspec": {
   "display_name": "Python 3",
   "language": "python",
   "name": "python3"
  },
  "language_info": {
   "codemirror_mode": {
    "name": "ipython",
    "version": 3
   },
   "file_extension": ".py",
   "mimetype": "text/x-python",
   "name": "python",
   "nbconvert_exporter": "python",
   "pygments_lexer": "ipython3",
   "version": "3.8.5"
  }
 },
 "nbformat": 4,
 "nbformat_minor": 5
}
