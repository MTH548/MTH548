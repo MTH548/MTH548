{
 "cells": [
  {
   "cell_type": "markdown",
   "id": "vocal-spouse",
   "metadata": {},
   "source": [
    "# Week 12 (4/19-4/25)"
   ]
  },
  {
   "cell_type": "markdown",
   "id": "superior-converter",
   "metadata": {},
   "source": [
    "## Zoom recordings\n",
    "\n",
    "* [Tuesday](https://ub.hosted.panopto.com/Panopto/Pages/Viewer.aspx?id=89f6aaab-b26d-4a8b-900f-ad1001436b9f)"
   ]
  },
  {
   "cell_type": "markdown",
   "id": "wooden-rainbow",
   "metadata": {},
   "source": [
    "## Notebook\n",
    "\n",
    "- [View online](../_static/weekly_notebooks/week_12_class.html)\n",
    "- Download the notebook file: [week_11_class.ipynb](../_static/weekly_notebooks/week_12_class.ipynb)."
   ]
  },
  {
   "cell_type": "markdown",
   "id": "normal-glossary",
   "metadata": {},
   "source": [
    "## Text classification with Naive Bayes\n",
    "\n",
    "* Text processing\n",
    "* Naive Bayes classification\n",
    "* Laplace smoothing"
   ]
  },
  {
   "cell_type": "markdown",
   "id": "sacred-trunk",
   "metadata": {},
   "source": [
    "## Project \n",
    "\n",
    "* [Text with naive Bayes](../Projects/text_with_naive_bayes/text_with_naive_bayes.ipynb)"
   ]
  },
  {
   "cell_type": "markdown",
   "id": "incorrect-entry",
   "metadata": {},
   "source": [
    "## Resources"
   ]
  },
  {
   "cell_type": "markdown",
   "id": "meaning-construction",
   "metadata": {},
   "source": [
    "### 1. Tuesday summary"
   ]
  },
  {
   "cell_type": "code",
   "execution_count": 1,
   "id": "angry-toddler",
   "metadata": {},
   "outputs": [],
   "source": [
    "import re\n",
    "from collections import Counter\n",
    "import pandas as pd\n",
    "import requests\n",
    "\n",
    "movies = pd.read_csv(\"https://www.mth548.org/_downloads/e4d077fbbc676cd1c8f2bd8a753d42ba/movie_reviews.zip\")\n",
    "word_counts = pd.read_csv(\"https://www.mth548.org/_static/movie_word_counts.csv\").set_index(\"word\", drop=True)\n",
    "train_frac = 0.5\n",
    "train_df = movies.sample(frac=train_frac, random_state=0).copy()\n",
    "test_df = movies.drop(train_df.index).copy()"
   ]
  }
 ],
 "metadata": {
  "celltoolbar": "Raw Cell Format",
  "kernelspec": {
   "display_name": "Python 3",
   "language": "python",
   "name": "python3"
  },
  "language_info": {
   "codemirror_mode": {
    "name": "ipython",
    "version": 3
   },
   "file_extension": ".py",
   "mimetype": "text/x-python",
   "name": "python",
   "nbconvert_exporter": "python",
   "pygments_lexer": "ipython3",
   "version": "3.8.5"
  }
 },
 "nbformat": 4,
 "nbformat_minor": 5
}
