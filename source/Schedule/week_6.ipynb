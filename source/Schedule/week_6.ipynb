{
 "cells": [
  {
   "cell_type": "markdown",
   "id": "endangered-recall",
   "metadata": {},
   "source": [
    "# Week 6 (3/7-3/13)"
   ]
  },
  {
   "cell_type": "markdown",
   "id": "crude-variance",
   "metadata": {},
   "source": [
    "## Project \n",
    "\n",
    "* [Baby names](../Projects/baby_names/baby_names.ipynb)"
   ]
  },
  {
   "cell_type": "markdown",
   "id": "russian-plain",
   "metadata": {},
   "source": [
    "## Resources"
   ]
  },
  {
   "cell_type": "markdown",
   "id": "ff2f4cbe-fad1-46ce-a689-7f3d0e0e9ad8",
   "metadata": {},
   "source": [
    "### 1. Sample DataFrame merging data"
   ]
  },
  {
   "cell_type": "code",
   "execution_count": 32,
   "id": "unexpected-merchant",
   "metadata": {},
   "outputs": [],
   "source": [
    "import pandas as pd\n",
    "import numpy as np\n",
    "\n",
    "rng = np.random.default_rng(10)\n",
    "\n",
    "names = [\"Ava\", \"Benjamin\", \"Charlotte\", \"Daniel\", \"Emma\", \"Fredric\", \"Gianna\"]\n",
    "courses = [\"MTH 141\", \"MTH 142\", \"MTH 241\", \"MTH 306\", \"MTH 309\", \"MTH 311\"]\n",
    "rooms = [\"NSC 216\", \"Capen 110\", \"Park 440\"]\n",
    "\n",
    "# concat rows data\n",
    "scores1 = rng.integers(0, 100, 12).reshape(4, 3)\n",
    "scores2 = rng.integers(0, 100, 9).reshape(3, 3)\n",
    "columns = [\"problem_1\", \"problem_2\", \"problem_3\"]\n",
    "sec1 = pd.DataFrame(scores1, index=names[:4], columns=columns)\n",
    "sec2 = pd.DataFrame(scores2, index=names[4:7], columns=columns)\n",
    "\n",
    "# concat columns data\n",
    "scores1 = rng.integers(0, 100, 8).reshape(4, 2)\n",
    "scores2 = rng.integers(0, 100, 9).reshape(3, 3)\n",
    "part1 = pd.DataFrame(scores1,\n",
    "                     index=names[:4],\n",
    "                     columns=[\"problem_1\", \"problem_2\"])\n",
    "part2 = pd.DataFrame(scores2,\n",
    "                     index=names[:3],\n",
    "                     columns=[\"problem_3\", \"problem_4\", \"problem_5\"])\n",
    "\n",
    "# merging data\n",
    "office_nums = rng.integers(100, 150, len(names[:-1]))\n",
    "courses = pd.DataFrame({\"course\": courses,\n",
    "                        \"instructor\": rng.choice(names[1:], len(courses))})\n",
    "instructors = pd.DataFrame({\"name\": names[:-1], \"office\": office_nums}, dtype=\"object\")"
   ]
  },
  {
   "cell_type": "markdown",
   "id": "genetic-metallic",
   "metadata": {},
   "source": [
    "### 2. Plotly installation"
   ]
  },
  {
   "cell_type": "code",
   "execution_count": null,
   "id": "quick-lebanon",
   "metadata": {},
   "outputs": [],
   "source": [
    "%pip install plotly"
   ]
  },
  {
   "cell_type": "markdown",
   "id": "suburban-murray",
   "metadata": {},
   "source": [
    "### 3. Data for choropleth maps"
   ]
  },
  {
   "cell_type": "code",
   "execution_count": 2,
   "id": "pacific-parker",
   "metadata": {},
   "outputs": [],
   "source": [
    "url = \"https://raw.githubusercontent.com/plotly/datasets/master/2011_us_ag_exports.csv\""
   ]
  },
  {
   "cell_type": "markdown",
   "id": "86c2a786-1135-425d-8781-a9f1c636c56d",
   "metadata": {},
   "source": [
    "## Exercises\n",
    "\n",
    "**Note.** All exercises, except for the first one, use data contained in the `names.zip` file. "
   ]
  },
  {
   "cell_type": "code",
   "execution_count": 1,
   "id": "dirty-relief",
   "metadata": {
    "nbsphinx": "hidden"
   },
   "outputs": [
    {
     "data": {
      "text/html": [
       "<div>\n",
       "<style scoped>\n",
       "    .dataframe tbody tr th:only-of-type {\n",
       "        vertical-align: middle;\n",
       "    }\n",
       "\n",
       "    .dataframe tbody tr th {\n",
       "        vertical-align: top;\n",
       "    }\n",
       "\n",
       "    .dataframe thead th {\n",
       "        text-align: right;\n",
       "    }\n",
       "</style>\n",
       "<table border=\"1\" class=\"dataframe\">\n",
       "  <thead>\n",
       "    <tr style=\"text-align: right;\">\n",
       "      <th></th>\n",
       "      <th>year</th>\n",
       "      <th>name</th>\n",
       "      <th>sex</th>\n",
       "      <th>count</th>\n",
       "    </tr>\n",
       "  </thead>\n",
       "  <tbody>\n",
       "    <tr>\n",
       "      <th>0</th>\n",
       "      <td>1880</td>\n",
       "      <td>Mary</td>\n",
       "      <td>F</td>\n",
       "      <td>7065</td>\n",
       "    </tr>\n",
       "    <tr>\n",
       "      <th>1</th>\n",
       "      <td>1880</td>\n",
       "      <td>Anna</td>\n",
       "      <td>F</td>\n",
       "      <td>2604</td>\n",
       "    </tr>\n",
       "    <tr>\n",
       "      <th>2</th>\n",
       "      <td>1880</td>\n",
       "      <td>Emma</td>\n",
       "      <td>F</td>\n",
       "      <td>2003</td>\n",
       "    </tr>\n",
       "    <tr>\n",
       "      <th>3</th>\n",
       "      <td>1880</td>\n",
       "      <td>Elizabeth</td>\n",
       "      <td>F</td>\n",
       "      <td>1939</td>\n",
       "    </tr>\n",
       "    <tr>\n",
       "      <th>4</th>\n",
       "      <td>1880</td>\n",
       "      <td>Minnie</td>\n",
       "      <td>F</td>\n",
       "      <td>1746</td>\n",
       "    </tr>\n",
       "    <tr>\n",
       "      <th>...</th>\n",
       "      <td>...</td>\n",
       "      <td>...</td>\n",
       "      <td>...</td>\n",
       "      <td>...</td>\n",
       "    </tr>\n",
       "    <tr>\n",
       "      <th>2020858</th>\n",
       "      <td>2020</td>\n",
       "      <td>Zykell</td>\n",
       "      <td>M</td>\n",
       "      <td>5</td>\n",
       "    </tr>\n",
       "    <tr>\n",
       "      <th>2020859</th>\n",
       "      <td>2020</td>\n",
       "      <td>Zylus</td>\n",
       "      <td>M</td>\n",
       "      <td>5</td>\n",
       "    </tr>\n",
       "    <tr>\n",
       "      <th>2020860</th>\n",
       "      <td>2020</td>\n",
       "      <td>Zymari</td>\n",
       "      <td>M</td>\n",
       "      <td>5</td>\n",
       "    </tr>\n",
       "    <tr>\n",
       "      <th>2020861</th>\n",
       "      <td>2020</td>\n",
       "      <td>Zyn</td>\n",
       "      <td>M</td>\n",
       "      <td>5</td>\n",
       "    </tr>\n",
       "    <tr>\n",
       "      <th>2020862</th>\n",
       "      <td>2020</td>\n",
       "      <td>Zyran</td>\n",
       "      <td>M</td>\n",
       "      <td>5</td>\n",
       "    </tr>\n",
       "  </tbody>\n",
       "</table>\n",
       "<p>2020863 rows × 4 columns</p>\n",
       "</div>"
      ],
      "text/plain": [
       "         year       name sex  count\n",
       "0        1880       Mary   F   7065\n",
       "1        1880       Anna   F   2604\n",
       "2        1880       Emma   F   2003\n",
       "3        1880  Elizabeth   F   1939\n",
       "4        1880     Minnie   F   1746\n",
       "...       ...        ...  ..    ...\n",
       "2020858  2020     Zykell   M      5\n",
       "2020859  2020      Zylus   M      5\n",
       "2020860  2020     Zymari   M      5\n",
       "2020861  2020        Zyn   M      5\n",
       "2020862  2020      Zyran   M      5\n",
       "\n",
       "[2020863 rows x 4 columns]"
      ]
     },
     "execution_count": 1,
     "metadata": {},
     "output_type": "execute_result"
    }
   ],
   "source": [
    "# \"nbsphinx\": \"hidden\"\n",
    "\n",
    "# dataframe with baby names\n",
    "\n",
    "import zipfile\n",
    "import pandas as pd\n",
    "\n",
    "zip = zipfile.ZipFile('names.zip')\n",
    "files = [n for n in  zip.namelist() if n.endswith(\".txt\")]\n",
    "years = [int(f.split(\".\")[0][-4:]) for f in files]\n",
    "\n",
    "frames = []\n",
    "for f in files: \n",
    "    with zip.open(f) as foo:\n",
    "        df = pd.read_csv(foo, names=[\"name\", \"sex\", \"count\"])\n",
    "    frames.append(df)\n",
    "\n",
    "names = (pd.concat(frames,keys=years)\n",
    "         .reset_index(level=0)\n",
    "         .rename({\"level_0\": \"year\"}, axis=1)\n",
    "         .reset_index(drop=True)\n",
    "        )\n",
    "names"
   ]
  },
  {
   "cell_type": "markdown",
   "id": "cd57dd1e-0b03-4d1a-855a-f4525b661dab",
   "metadata": {},
   "source": [
    "### Exercise 1\n",
    "\n",
    "Construct a DataFrame with baby names data coming from the `namesbystate.zip` file. The DataFrame columns should have names \"state\", \"sex\", \"year\", \"name\", and \"count\". You don't need to save this data to a single csv file; if you do, the file size will be about 130 MB. \n",
    "\n",
    "**Check:** The DataFrame should have 6,215,834 rows."
   ]
  },
  {
   "cell_type": "code",
   "execution_count": 2,
   "id": "fitting-auditor",
   "metadata": {
    "nbsphinx": "hidden"
   },
   "outputs": [
    {
     "data": {
      "text/html": [
       "<div>\n",
       "<style scoped>\n",
       "    .dataframe tbody tr th:only-of-type {\n",
       "        vertical-align: middle;\n",
       "    }\n",
       "\n",
       "    .dataframe tbody tr th {\n",
       "        vertical-align: top;\n",
       "    }\n",
       "\n",
       "    .dataframe thead th {\n",
       "        text-align: right;\n",
       "    }\n",
       "</style>\n",
       "<table border=\"1\" class=\"dataframe\">\n",
       "  <thead>\n",
       "    <tr style=\"text-align: right;\">\n",
       "      <th></th>\n",
       "      <th>state</th>\n",
       "      <th>sex</th>\n",
       "      <th>year</th>\n",
       "      <th>name</th>\n",
       "      <th>count</th>\n",
       "    </tr>\n",
       "  </thead>\n",
       "  <tbody>\n",
       "    <tr>\n",
       "      <th>0</th>\n",
       "      <td>AK</td>\n",
       "      <td>F</td>\n",
       "      <td>1910</td>\n",
       "      <td>Mary</td>\n",
       "      <td>14</td>\n",
       "    </tr>\n",
       "    <tr>\n",
       "      <th>1</th>\n",
       "      <td>AK</td>\n",
       "      <td>F</td>\n",
       "      <td>1910</td>\n",
       "      <td>Annie</td>\n",
       "      <td>12</td>\n",
       "    </tr>\n",
       "    <tr>\n",
       "      <th>2</th>\n",
       "      <td>AK</td>\n",
       "      <td>F</td>\n",
       "      <td>1910</td>\n",
       "      <td>Anna</td>\n",
       "      <td>10</td>\n",
       "    </tr>\n",
       "    <tr>\n",
       "      <th>3</th>\n",
       "      <td>AK</td>\n",
       "      <td>F</td>\n",
       "      <td>1910</td>\n",
       "      <td>Margaret</td>\n",
       "      <td>8</td>\n",
       "    </tr>\n",
       "    <tr>\n",
       "      <th>4</th>\n",
       "      <td>AK</td>\n",
       "      <td>F</td>\n",
       "      <td>1910</td>\n",
       "      <td>Helen</td>\n",
       "      <td>7</td>\n",
       "    </tr>\n",
       "    <tr>\n",
       "      <th>...</th>\n",
       "      <td>...</td>\n",
       "      <td>...</td>\n",
       "      <td>...</td>\n",
       "      <td>...</td>\n",
       "      <td>...</td>\n",
       "    </tr>\n",
       "    <tr>\n",
       "      <th>6215829</th>\n",
       "      <td>WY</td>\n",
       "      <td>M</td>\n",
       "      <td>2020</td>\n",
       "      <td>Simon</td>\n",
       "      <td>5</td>\n",
       "    </tr>\n",
       "    <tr>\n",
       "      <th>6215830</th>\n",
       "      <td>WY</td>\n",
       "      <td>M</td>\n",
       "      <td>2020</td>\n",
       "      <td>Sterling</td>\n",
       "      <td>5</td>\n",
       "    </tr>\n",
       "    <tr>\n",
       "      <th>6215831</th>\n",
       "      <td>WY</td>\n",
       "      <td>M</td>\n",
       "      <td>2020</td>\n",
       "      <td>Stetson</td>\n",
       "      <td>5</td>\n",
       "    </tr>\n",
       "    <tr>\n",
       "      <th>6215832</th>\n",
       "      <td>WY</td>\n",
       "      <td>M</td>\n",
       "      <td>2020</td>\n",
       "      <td>Timothy</td>\n",
       "      <td>5</td>\n",
       "    </tr>\n",
       "    <tr>\n",
       "      <th>6215833</th>\n",
       "      <td>WY</td>\n",
       "      <td>M</td>\n",
       "      <td>2020</td>\n",
       "      <td>Wesley</td>\n",
       "      <td>5</td>\n",
       "    </tr>\n",
       "  </tbody>\n",
       "</table>\n",
       "<p>6215834 rows × 5 columns</p>\n",
       "</div>"
      ],
      "text/plain": [
       "        state sex  year      name  count\n",
       "0          AK   F  1910      Mary     14\n",
       "1          AK   F  1910     Annie     12\n",
       "2          AK   F  1910      Anna     10\n",
       "3          AK   F  1910  Margaret      8\n",
       "4          AK   F  1910     Helen      7\n",
       "...       ...  ..   ...       ...    ...\n",
       "6215829    WY   M  2020     Simon      5\n",
       "6215830    WY   M  2020  Sterling      5\n",
       "6215831    WY   M  2020   Stetson      5\n",
       "6215832    WY   M  2020   Timothy      5\n",
       "6215833    WY   M  2020    Wesley      5\n",
       "\n",
       "[6215834 rows x 5 columns]"
      ]
     },
     "execution_count": 2,
     "metadata": {},
     "output_type": "execute_result"
    }
   ],
   "source": [
    "# \"nbsphinx\": \"hidden\"\n",
    "\n",
    "zip = zipfile.ZipFile('namesbystate.zip')\n",
    "files = [n for n in  zip.namelist() if n.endswith(\".TXT\")]\n",
    "states = [f.split(\".\")[0] for f in files]\n",
    "\n",
    "frames = []\n",
    "for f in files: \n",
    "    with zip.open(f) as foo:\n",
    "        df = pd.read_csv(foo, names=[\"state\", \"sex\", \"year\", \"name\", \"count\"])\n",
    "    frames.append(df)\n",
    "\n",
    "bystate = pd.concat(frames).reset_index(drop=True)\n",
    "bystate"
   ]
  },
  {
   "cell_type": "markdown",
   "id": "324112c1-8fe2-4cff-9a31-6189aa331f24",
   "metadata": {},
   "source": [
    "### Exercise 2\n",
    "\n",
    "Compute a DataFrame that lists the total number of babies recorded each year. \n",
    "\n",
    "**Check:** There were 201,484 babies recorded in 1880 and 3,305,259 in 2020."
   ]
  },
  {
   "cell_type": "code",
   "execution_count": 3,
   "id": "straight-substitute",
   "metadata": {
    "nbsphinx": "hidden"
   },
   "outputs": [
    {
     "data": {
      "text/plain": [
       "year\n",
       "1880     201484\n",
       "1881     192691\n",
       "1882     221533\n",
       "1883     216944\n",
       "1884     243461\n",
       "         ...   \n",
       "2016    3662277\n",
       "2017    3568294\n",
       "2018    3505963\n",
       "2019    3455946\n",
       "2020    3305259\n",
       "Name: count, Length: 141, dtype: int64"
      ]
     },
     "execution_count": 3,
     "metadata": {},
     "output_type": "execute_result"
    }
   ],
   "source": [
    "# \"nbsphinx\": \"hidden\"\n",
    "\n",
    "n_babies = names.groupby(by=\"year\")[\"count\"].sum()\n",
    "n_babies"
   ]
  },
  {
   "cell_type": "markdown",
   "id": "a03bff42-ea0b-4eba-93d6-2a271d809f6f",
   "metadata": {},
   "source": [
    "### Exercise 3\n",
    "\n",
    "Compute a DataFrame that lists the number of male babies named \"John\" for each year. \n",
    "\n",
    "**Check:** There were 9,655 such babies recorded in 1880 and 8,180 in 2020."
   ]
  },
  {
   "cell_type": "code",
   "execution_count": 5,
   "id": "analyzed-radical",
   "metadata": {
    "nbsphinx": "hidden"
   },
   "outputs": [
    {
     "data": {
      "text/plain": [
       "year\n",
       "1880     9655\n",
       "1881     8769\n",
       "1882     9557\n",
       "1883     8894\n",
       "1884     9388\n",
       "        ...  \n",
       "2016    10034\n",
       "2017     9503\n",
       "2018     9170\n",
       "2019     8813\n",
       "2020     8180\n",
       "Name: count, Length: 141, dtype: int64"
      ]
     },
     "execution_count": 5,
     "metadata": {},
     "output_type": "execute_result"
    }
   ],
   "source": [
    "# \"nbsphinx\": \"hidden\"\n",
    "\n",
    "n_john = (names[(names[\"name\"] == \"John\") &\n",
    "               (names[\"sex\"] == \"M\")]\n",
    "               .groupby(by=\"year\")[\"count\"].sum())\n",
    "n_john"
   ]
  },
  {
   "cell_type": "markdown",
   "id": "7d13a0e5-22b3-40e9-9d22-d52152934e89",
   "metadata": {},
   "source": [
    "### Exercise 4\n",
    "\n",
    "Compute a DataFrame that lists how many different names were used each year for males and how many for females.\n",
    "\n",
    "**Check:** In 1880 there were 942 different names used for females and 1,058 for males. In 2020 these numbers were 17,360 for females and 13,911 for males."
   ]
  },
  {
   "cell_type": "code",
   "execution_count": 6,
   "id": "finished-resource",
   "metadata": {
    "nbsphinx": "hidden"
   },
   "outputs": [
    {
     "data": {
      "text/plain": [
       "year  sex\n",
       "1880  F        942\n",
       "      M       1058\n",
       "1881  F        938\n",
       "      M        996\n",
       "1882  F       1028\n",
       "             ...  \n",
       "2018  M      14073\n",
       "2019  F      17948\n",
       "      M      14082\n",
       "2020  F      17360\n",
       "      M      13911\n",
       "Name: name, Length: 282, dtype: int64"
      ]
     },
     "execution_count": 6,
     "metadata": {},
     "output_type": "execute_result"
    }
   ],
   "source": [
    "# \"nbsphinx\": \"hidden\"\n",
    "\n",
    "num_names = names.groupby(by=[\"year\", \"sex\"])[\"name\"].count()\n",
    "num_names"
   ]
  },
  {
   "cell_type": "markdown",
   "id": "7cb7ddb4-c031-4666-af1e-826bc4bea072",
   "metadata": {},
   "source": [
    "### Exercise 5\n",
    "\n",
    "Compute a DataFrame that for each name shows in which year the name appeared in the records for the first time.\n",
    "\n",
    "**Check:** Here are the first recorded years for a few names: Aaban 2007, Aabha 2011, Aabid 2003, Aabidah 2018. "
   ]
  },
  {
   "cell_type": "code",
   "execution_count": 7,
   "id": "critical-heading",
   "metadata": {
    "nbsphinx": "hidden"
   },
   "outputs": [
    {
     "data": {
      "text/plain": [
       "name\n",
       "Aaban      2007\n",
       "Aabha      2011\n",
       "Aabid      2003\n",
       "Aabidah    2018\n",
       "Aabir      2016\n",
       "           ... \n",
       "Zyvion     2009\n",
       "Zyvon      2015\n",
       "Zyyanna    2010\n",
       "Zyyon      2014\n",
       "Zzyzx      2010\n",
       "Name: year, Length: 100364, dtype: int64"
      ]
     },
     "execution_count": 7,
     "metadata": {},
     "output_type": "execute_result"
    }
   ],
   "source": [
    "# \"nbsphinx\": \"hidden\"\n",
    "\n",
    "first_use = names.groupby(by=[\"name\"])[\"year\"].min()\n",
    "first_use"
   ]
  },
  {
   "cell_type": "markdown",
   "id": "24b078b2-548e-45e9-9e95-893884d2bea3",
   "metadata": {},
   "source": [
    "### Exercise 6\n",
    "\n",
    "Compute a DataFrame that shows what was the most popular name for males and the most popular name for females each year. \n",
    "\n",
    "**Check:** The most popular names in 1880  were John and Mary, and in 2020 Liam and Olivia. "
   ]
  },
  {
   "cell_type": "code",
   "execution_count": 32,
   "id": "embedded-assembly",
   "metadata": {
    "nbsphinx": "hidden"
   },
   "outputs": [
    {
     "data": {
      "text/html": [
       "<div>\n",
       "<style scoped>\n",
       "    .dataframe tbody tr th:only-of-type {\n",
       "        vertical-align: middle;\n",
       "    }\n",
       "\n",
       "    .dataframe tbody tr th {\n",
       "        vertical-align: top;\n",
       "    }\n",
       "\n",
       "    .dataframe thead th {\n",
       "        text-align: right;\n",
       "    }\n",
       "</style>\n",
       "<table border=\"1\" class=\"dataframe\">\n",
       "  <thead>\n",
       "    <tr style=\"text-align: right;\">\n",
       "      <th></th>\n",
       "      <th></th>\n",
       "      <th>name</th>\n",
       "      <th>count</th>\n",
       "    </tr>\n",
       "    <tr>\n",
       "      <th>year</th>\n",
       "      <th>sex</th>\n",
       "      <th></th>\n",
       "      <th></th>\n",
       "    </tr>\n",
       "  </thead>\n",
       "  <tbody>\n",
       "    <tr>\n",
       "      <th rowspan=\"2\" valign=\"top\">1880</th>\n",
       "      <th>F</th>\n",
       "      <td>Mary</td>\n",
       "      <td>7065</td>\n",
       "    </tr>\n",
       "    <tr>\n",
       "      <th>M</th>\n",
       "      <td>John</td>\n",
       "      <td>9655</td>\n",
       "    </tr>\n",
       "    <tr>\n",
       "      <th rowspan=\"2\" valign=\"top\">1881</th>\n",
       "      <th>F</th>\n",
       "      <td>Mary</td>\n",
       "      <td>6919</td>\n",
       "    </tr>\n",
       "    <tr>\n",
       "      <th>M</th>\n",
       "      <td>John</td>\n",
       "      <td>8769</td>\n",
       "    </tr>\n",
       "    <tr>\n",
       "      <th>1882</th>\n",
       "      <th>F</th>\n",
       "      <td>Mary</td>\n",
       "      <td>8148</td>\n",
       "    </tr>\n",
       "    <tr>\n",
       "      <th>...</th>\n",
       "      <th>...</th>\n",
       "      <td>...</td>\n",
       "      <td>...</td>\n",
       "    </tr>\n",
       "    <tr>\n",
       "      <th>2018</th>\n",
       "      <th>M</th>\n",
       "      <td>Liam</td>\n",
       "      <td>19924</td>\n",
       "    </tr>\n",
       "    <tr>\n",
       "      <th rowspan=\"2\" valign=\"top\">2019</th>\n",
       "      <th>F</th>\n",
       "      <td>Olivia</td>\n",
       "      <td>18508</td>\n",
       "    </tr>\n",
       "    <tr>\n",
       "      <th>M</th>\n",
       "      <td>Liam</td>\n",
       "      <td>20555</td>\n",
       "    </tr>\n",
       "    <tr>\n",
       "      <th rowspan=\"2\" valign=\"top\">2020</th>\n",
       "      <th>F</th>\n",
       "      <td>Olivia</td>\n",
       "      <td>17535</td>\n",
       "    </tr>\n",
       "    <tr>\n",
       "      <th>M</th>\n",
       "      <td>Liam</td>\n",
       "      <td>19659</td>\n",
       "    </tr>\n",
       "  </tbody>\n",
       "</table>\n",
       "<p>282 rows × 2 columns</p>\n",
       "</div>"
      ],
      "text/plain": [
       "            name  count\n",
       "year sex               \n",
       "1880 F      Mary   7065\n",
       "     M      John   9655\n",
       "1881 F      Mary   6919\n",
       "     M      John   8769\n",
       "1882 F      Mary   8148\n",
       "...          ...    ...\n",
       "2018 M      Liam  19924\n",
       "2019 F    Olivia  18508\n",
       "     M      Liam  20555\n",
       "2020 F    Olivia  17535\n",
       "     M      Liam  19659\n",
       "\n",
       "[282 rows x 2 columns]"
      ]
     },
     "execution_count": 32,
     "metadata": {},
     "output_type": "execute_result"
    }
   ],
   "source": [
    "# \"nbsphinx\": \"hidden\"\n",
    "\n",
    "def top_name(grp):\n",
    "    return grp.sort_values(by=\"count\", ascending=False).head(1)\n",
    "\n",
    "most_popular = names.groupby(by=[\"year\", \"sex\"]).apply(top_name)\n",
    "most_popular.droplevel(level=2)[['name', 'count']]"
   ]
  }
 ],
 "metadata": {
  "celltoolbar": "Raw Cell Format",
  "kernelspec": {
   "display_name": "Python 3 (ipykernel)",
   "language": "python",
   "name": "python3"
  },
  "language_info": {
   "codemirror_mode": {
    "name": "ipython",
    "version": 3
   },
   "file_extension": ".py",
   "mimetype": "text/x-python",
   "name": "python",
   "nbconvert_exporter": "python",
   "pygments_lexer": "ipython3",
   "version": "3.8.12"
  }
 },
 "nbformat": 4,
 "nbformat_minor": 5
}
