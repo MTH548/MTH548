{
 "cells": [
  {
   "cell_type": "markdown",
   "id": "abroad-pledge",
   "metadata": {},
   "source": [
    "# Week 3 (2/15-2/21)"
   ]
  },
  {
   "cell_type": "markdown",
   "id": "exotic-nickel",
   "metadata": {},
   "source": [
    "## ipywidgets and interact \n",
    "\n",
    "* [ipywidgets documentation](https://ipywidgets.readthedocs.io)"
   ]
  },
  {
   "cell_type": "markdown",
   "id": "legislative-giving",
   "metadata": {},
   "source": [
    "## k-means\n",
    "\n",
    "* supervised vs unsupervised machine learning \n",
    "* k-means clustering algorithm"
   ]
  },
  {
   "cell_type": "markdown",
   "id": "dependent-clinton",
   "metadata": {},
   "source": [
    "## Project \n",
    "\n",
    "* [MNIST with k-means](../Projects/mnist_with_k_means/mnist_with_k_means.ipynb)"
   ]
  },
  {
   "cell_type": "markdown",
   "id": "ahead-fundamentals",
   "metadata": {},
   "source": [
    "## Resources"
   ]
  },
  {
   "cell_type": "markdown",
   "id": "complimentary-german",
   "metadata": {},
   "source": [
    "### 1. k-means and cluster plots"
   ]
  },
  {
   "cell_type": "code",
   "execution_count": 1,
   "id": "geological-conditions",
   "metadata": {},
   "outputs": [],
   "source": [
    "%config InlineBackend.figure_format = 'retina'\n",
    "import numpy as np\n",
    "import matplotlib.pyplot as plt\n",
    "from matplotlib.colors import ListedColormap\n",
    "\n",
    "\n",
    "def get_distances(X, Y):\n",
    "    \"\"\"\n",
    "    Given 2-dimensional numpy arrays X and Y\n",
    "    returns a 2-dimensional array whose (i, j)-entry\n",
    "    is the square of the Euclidean distance between\n",
    "    the i-th row of X and the j-th row of Y\n",
    "    \"\"\"\n",
    "\n",
    "    return np.sum((X[:, np.newaxis, :] - Y[np.newaxis, :, :])**2, axis=-1)\n",
    "\n",
    "\n",
    "def kmeans(X, n):\n",
    "    \"\"\"\n",
    "    Implements the k-mneans algorithm.\n",
    "    \n",
    "    X:\n",
    "        2-dimensional numpy array whose rows are coordinates of data points. \n",
    "    n:\n",
    "        Integer, the number of clusters. \n",
    "    \n",
    "    Returns:\n",
    "        A list of tuples (labels, centers), one tuple for each iteration step. \n",
    "        labels is a 1-dimensional array with labels od points in X, centers is \n",
    "        a 2-dimensional array with coordinates of centroids of clusters. \n",
    "        The last tuple on the list is the clustering final result. \n",
    "    \"\"\"\n",
    "\n",
    "    X = X.copy()\n",
    "    h = X.shape[0]\n",
    "    centers = X[np.random.choice(h, size=n, replace=False)]\n",
    "    new_centers = np.zeros_like(centers)\n",
    "\n",
    "    steps = []\n",
    "    while True:\n",
    "        d = get_distances(X, centers)\n",
    "        # assign points to clusters\n",
    "        labels = np.argmin(d, axis=1)\n",
    "        steps.append((labels, centers))\n",
    "        # compute centroids of clusters\n",
    "        for j in range(n):\n",
    "            new_centers[j] = np.mean(X[labels == j], axis=0)\n",
    "        if np.array_equal(centers, new_centers):\n",
    "            break\n",
    "        else:\n",
    "            centers = new_centers.copy()\n",
    "    return steps\n",
    "\n",
    "\n",
    "def plot_clusters(X, labels, centers=None):\n",
    "    \"\"\"\n",
    "    Plots clusters and their centoids. \n",
    "    \n",
    "    X:\n",
    "        2-dimensional numpy array whose rows are coordinates of data points. \n",
    "    labels:\n",
    "        1-dimensional numpy array with labels of points in X. \n",
    "    centers:\n",
    "        2-dimensional numpy array whose rows are coordinates of cluster\n",
    "        centroids.\n",
    "    \"\"\"\n",
    "    \n",
    "    # custom colormap\n",
    "    n = len(set(labels))\n",
    "    colors = ListedColormap(\n",
    "        ['tab:blue', 'tab:red', 'tab:green', 'tab:orange', 'tab:purple'][:n])\n",
    "    \n",
    "    plt.figure(figsize=(6, 6))\n",
    "    plt.scatter(X[:, 0], X[:, 1], c=labels, marker=\"+\", cmap=colors)\n",
    "    if centers is not None:\n",
    "        plt.scatter(centers[:, 0],\n",
    "                    centers[:, 1],\n",
    "                    c=range(centers.shape[0]),\n",
    "                    s=250,\n",
    "                    linewidths=3,\n",
    "                    edgecolors=\"k\",\n",
    "                    cmap=colors)\n",
    "    plt.show()\n",
    "\n",
    "\n",
    "def plot_iteration(X, steps, k=0):\n",
    "    \"\"\"\n",
    "    Plots clusters computed by a given iteration of k-means. \n",
    "    \n",
    "    X:\n",
    "        2-dimensional numpy array whose rows are coordinates of data points. \n",
    "    steps:\n",
    "        A list with cluster data produced by the kmeans function.\n",
    "    k:\n",
    "        An index of the steps list\n",
    "    \"\"\"\n",
    "\n",
    "    plot_clusters(X, steps[k][0], steps[k][1])"
   ]
  },
  {
   "cell_type": "markdown",
   "id": "abroad-compilation",
   "metadata": {},
   "source": [
    "## Exercises"
   ]
  },
  {
   "cell_type": "markdown",
   "id": "facial-needle",
   "metadata": {},
   "source": [
    "### Exercise 1\n",
    "\n",
    "Here are some JPEG image files (you can also use other images for this exercise):"
   ]
  },
  {
   "cell_type": "raw",
   "id": "physical-client",
   "metadata": {
    "raw_mimetype": "text/restructuredtext"
   },
   "source": [
    "| :download:`tiger.jpg <tiger.jpg>`\n",
    "| :download:`butterfly.jpg <butterfly.jpg>`\n",
    "| :download:`peppers.jpg <peppers.jpg>`\n",
    "| :download:`town.jpg <town.jpg>`"
   ]
  },
  {
   "cell_type": "markdown",
   "id": "wanted-telescope",
   "metadata": {},
   "source": [
    "* Use the k-means algorithm to organize colors of pixels in these images into $k$ clusters (for different values of $k$). \n",
    "* Make a plot showing colors of cluster centroids. \n",
    "* Display the images, but replace the color of each pixel with the color of the centroid of the cluster to which the pixel belongs. "
   ]
  }
 ],
 "metadata": {
  "celltoolbar": "Raw Cell Format",
  "kernelspec": {
   "display_name": "Python 3",
   "language": "python",
   "name": "python3"
  },
  "language_info": {
   "codemirror_mode": {
    "name": "ipython",
    "version": 3
   },
   "file_extension": ".py",
   "mimetype": "text/x-python",
   "name": "python",
   "nbconvert_exporter": "python",
   "pygments_lexer": "ipython3",
   "version": "3.8.5"
  }
 },
 "nbformat": 4,
 "nbformat_minor": 5
}
