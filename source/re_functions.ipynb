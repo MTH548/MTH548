{
 "cells": [
  {
   "cell_type": "markdown",
   "metadata": {},
   "source": [
    "# Functions in the re module"
   ]
  },
  {
   "cell_type": "markdown",
   "metadata": {},
   "source": [
    "The Python `re` module had several functions for searching and modifying strings using regular expressions. We describe a few of them. See the [re module documentation](https://docs.python.org/3/library/re.html?highlight=re#module-re) for the complete list. "
   ]
  },
  {
   "cell_type": "code",
   "execution_count": 1,
   "metadata": {},
   "outputs": [],
   "source": [
    "import re"
   ]
  },
  {
   "cell_type": "markdown",
   "metadata": {},
   "source": [
    "## re.findall"
   ]
  },
  {
   "cell_type": "raw",
   "metadata": {
    "raw_mimetype": "text/restructuredtext"
   },
   "source": [
    ".. function:: re.findall(pattern, string, flags=0)"
   ]
  },
  {
   "cell_type": "markdown",
   "metadata": {},
   "source": [
    "\n",
    "This function returns a list of all matches of the `pattern` in the `string`. The third argument, `flags` can be used to specify flags for the regular expression.\n",
    "\n",
    "For example, here we find all sequences of digits in a string:"
   ]
  },
  {
   "cell_type": "code",
   "execution_count": 2,
   "metadata": {},
   "outputs": [
    {
     "data": {
      "text/plain": [
       "['57', '100', '171', '3']"
      ]
     },
     "execution_count": 2,
     "metadata": {},
     "output_type": "execute_result"
    }
   ],
   "source": [
    "text1 = \"This costs $57 for a 100 lbs box, so $171 for 3 boxes.\"\n",
    "re.findall(r\"\\d+\", text1)"
   ]
  },
  {
   "cell_type": "markdown",
   "metadata": {},
   "source": [
    "### re.findall with match groups\n",
    "\n",
    "In some cases we are interested only in a part of a match. For example, we may want to find all dollar amounts in the format \"$57\", but we are interested in the numeric value \"57\" only. Such situations can be handled using a match groups (i.e. parts of a regular expression enclosed in parentheses). If we create a match group in the pattern, then the whole pattern will be matched, but only the value of the match group will be returned:"
   ]
  },
  {
   "cell_type": "code",
   "execution_count": 3,
   "metadata": {},
   "outputs": [
    {
     "data": {
      "text/plain": [
       "['57', '171']"
      ]
     },
     "execution_count": 3,
     "metadata": {},
     "output_type": "execute_result"
    }
   ],
   "source": [
    "# search for sequences of digits starting with \"$\", \n",
    "# but return digits only\n",
    "re.findall(r\"\\$(\\d+)\", text1)"
   ]
  },
  {
   "cell_type": "markdown",
   "metadata": {},
   "source": [
    "If the pattern includes more than one match group, `re.findall` will return a list of tuples with values of the match groups:"
   ]
  },
  {
   "cell_type": "code",
   "execution_count": 4,
   "metadata": {},
   "outputs": [
    {
     "data": {
      "text/plain": [
       "[('9', '30'), ('10', '15')]"
      ]
     },
     "execution_count": 4,
     "metadata": {},
     "output_type": "execute_result"
    }
   ],
   "source": [
    "text2 = \"This class starts at 9:30, and ends at at 10:15\"\n",
    "# find all tuples in the form (hours, minutes)\n",
    "re.findall(r\"(\\d+):(\\d+)\", text2)"
   ]
  },
  {
   "cell_type": "markdown",
   "metadata": {},
   "source": [
    "### Non-capturing match groups\n",
    "\n",
    "It often happens that need to create a match group in a regular expression just for the purpose of specifying what should be matched, and not because we want to retrieve its value. Such match groups can be specified using the format `(?:...)`, their values will not be returned by `re.findall`.   "
   ]
  },
  {
   "cell_type": "code",
   "execution_count": 5,
   "metadata": {},
   "outputs": [
    {
     "name": "stdout",
     "output_type": "stream",
     "text": [
      "BUF 11:30 PM =>=>=>=> EWR 12:45 PM\n",
      "EWR 7:45 PM =>=>=>=>=> LHR 6:55 AM\n"
     ]
    }
   ],
   "source": [
    "# flight itinerary\n",
    "from textwrap import dedent\n",
    "text3= \"\"\"\n",
    "       BUF 11:30 PM =>=>=>=> EWR 12:45 PM\n",
    "       EWR 7:45 PM =>=>=>=>=> LHR 6:55 AM\n",
    "       \"\"\"\n",
    "text3 = dedent(text3).strip()\n",
    "print(text3)"
   ]
  },
  {
   "cell_type": "code",
   "execution_count": 6,
   "metadata": {},
   "outputs": [
    {
     "data": {
      "text/plain": [
       "[('BUF 11:30 PM', 'EWR 12:45 PM'), ('EWR 7:45 PM', 'LHR 6:55 AM')]"
      ]
     },
     "execution_count": 6,
     "metadata": {},
     "output_type": "execute_result"
    }
   ],
   "source": [
    "# find all flight arrivals and departures\n",
    "re.findall(r\"\"\"(.+?)        # match departure\n",
    "               \\ (?:=>)+ \\  # match, but not capture, the =>=> part\n",
    "               (.+)         # match arrival\"\"\"  , text3, re.X)"
   ]
  },
  {
   "cell_type": "markdown",
   "metadata": {},
   "source": [
    "## re.sub"
   ]
  },
  {
   "cell_type": "raw",
   "metadata": {
    "raw_mimetype": "text/restructuredtext"
   },
   "source": [
    ".. function:: re.sub(pattern, repl, string, count=0, flags=0)"
   ]
  },
  {
   "cell_type": "markdown",
   "metadata": {},
   "source": [
    "This function finds matches for the `pattern` in the `string` and replaces them with the `repl` string. The `count` argument specifies the maximum number of replacements to be performed. The default value `count=0` means the all matches should be replaced. The `flags` argument can specify regular expression flags.  "
   ]
  },
  {
   "cell_type": "code",
   "execution_count": 29,
   "metadata": {},
   "outputs": [
    {
     "name": "stdout",
     "output_type": "stream",
     "text": [
      "\u001b[1mORIGINAL TEXT:\u001b[0m\n",
      "This costs $57 for a 100 lbs box, so $171 for 3 boxes.\n",
      "\n",
      "\u001b[1mNEW TEXT:\u001b[0m\n",
      "This costs $(NUMBER) for a (NUMBER) lbs box, so $(NUMBER) for (NUMBER) boxes.\n"
     ]
    }
   ],
   "source": [
    "text4 = \"This costs $57 for a 100 lbs box, so $171 for 3 boxes.\"\n",
    "# replace all sequences of digits by the string \"(NUMBER)\"\n",
    "new_text = re.sub(r\"\\d+\", r\"(NUMBER)\", text4)\n",
    "# print results\n",
    "print(f\"\\033[1mORIGINAL TEXT:\\033[0m\\n{text4}\\n\")\n",
    "print(f\"\\033[1mNEW TEXT:\\033[0m\\n{new_text}\")"
   ]
  },
  {
   "cell_type": "markdown",
   "metadata": {},
   "source": [
    "The function `re.sub` is more flexible than the example above suggests, since the value of the replacement string can depend on the value of the match being replaced. In order to make use of it, we need to specify one or more match groups in the pattern. Each capturing match group is automatically given a label `\\1`, `\\2`, `\\3` etc.\n",
    "(with `\\1` denoting the leftmost match group). When these labels are used in the replacement string, they will be themselves replaced by the values of the corresponding match groups."
   ]
  },
  {
   "cell_type": "markdown",
   "metadata": {},
   "source": [
    "**Examples.**"
   ]
  },
  {
   "cell_type": "code",
   "execution_count": 26,
   "metadata": {},
   "outputs": [
    {
     "name": "stdout",
     "output_type": "stream",
     "text": [
      "\u001b[1mORIGINAL TEXT:\u001b[0m\n",
      "This costs $57 for a 100 lbs box, so $171 for 3 boxes.\n",
      "\n",
      "\u001b[1mNEW TEXT:\u001b[0m\n",
      "This costs $57.00 for a 100 lbs box, so $171.00 for 3 boxes.\n"
     ]
    }
   ],
   "source": [
    "text4 = \"This costs $57 for a 100 lbs box, so $171 for 3 boxes.\"\n",
    "# add decimals to all prices\n",
    "new_text = re.sub(r\"(\\$\\d+)\", r\"\\1.00\", text4)\n",
    "# print results\n",
    "print(f\"\\033[1mORIGINAL TEXT:\\033[0m\\n{text4}\\n\")\n",
    "print(f\"\\033[1mNEW TEXT:\\033[0m\\n{new_text}\")"
   ]
  },
  {
   "cell_type": "code",
   "execution_count": 30,
   "metadata": {},
   "outputs": [
    {
     "name": "stdout",
     "output_type": "stream",
     "text": [
      "\u001b[1mORIGINAL TEXT:\u001b[0m\n",
      "Flight itinerary:\n",
      "BUF 11:30 PM =>=>=> EWR 12:45 PM =>=>=> LHR 6:55 AM\n",
      "\n",
      "\u001b[1mNEW TEXT:\u001b[0m\n",
      "Flight itinerary:\n",
      "Dep.: BUF 11:30 PM; Arr.: EWR 12:45 PM\n",
      "Dep.: EWR 12:45 PM; Arr.: LHR 6:55 AM\n"
     ]
    }
   ],
   "source": [
    "text5 = \"Flight itinerary:\\nBUF 11:30 PM =>=>=> EWR 12:45 PM =>=>=> LHR 6:55 AM\"\n",
    "# reformat the itinerary\n",
    "new_text = re.sub(r\"\"\"(.+?)           # \\1 first airport\n",
    "                      \\ (?:=>)+\\      #    the =>=> part\n",
    "                      (.+)            # \\2 second airport\n",
    "                      \\ (?:=>)+\\      #    the =>=> part\n",
    "                      (.+)            # \\3 third airport\n",
    "                      \"\"\", \n",
    "                  r\"Dep.: \\1; Arr.: \\2\\nDep.: \\2; Arr.: \\3\", text5, flags=re.X)\n",
    "# print results\n",
    "print(f\"\\033[1mORIGINAL TEXT:\\033[0m\\n{text5}\\n\")\n",
    "print(f\"\\033[1mNEW TEXT:\\033[0m\\n{new_text}\")"
   ]
  },
  {
   "cell_type": "code",
   "execution_count": null,
   "metadata": {},
   "outputs": [],
   "source": []
  }
 ],
 "metadata": {
  "celltoolbar": "Raw Cell Format",
  "kernelspec": {
   "display_name": "Python 3",
   "language": "python",
   "name": "python3"
  },
  "language_info": {
   "codemirror_mode": {
    "name": "ipython",
    "version": 3
   },
   "file_extension": ".py",
   "mimetype": "text/x-python",
   "name": "python",
   "nbconvert_exporter": "python",
   "pygments_lexer": "ipython3",
   "version": "3.7.3"
  }
 },
 "nbformat": 4,
 "nbformat_minor": 2
}
