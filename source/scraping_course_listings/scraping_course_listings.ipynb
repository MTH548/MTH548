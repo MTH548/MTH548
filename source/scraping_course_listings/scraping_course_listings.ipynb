{
 "cells": [
  {
   "cell_type": "markdown",
   "metadata": {},
   "source": [
    "# Scraping course listings"
   ]
  },
  {
   "cell_type": "markdown",
   "metadata": {},
   "source": [
    "## Course listings\n",
    "\n",
    "The following web page shows a table of UB undergraduate courses offered in the spring semester:"
   ]
  },
  {
   "cell_type": "raw",
   "metadata": {
    "raw_mimetype": "text/restructuredtext"
   },
   "source": [
    ".. code-block:: none\n",
    "   \n",
    "   http://www.buffalo.edu/class-schedule?switch=showcourses&semester=spring&division=1&dept=MTH"
   ]
  },
  {
   "cell_type": "raw",
   "metadata": {
    "raw_mimetype": "text/html"
   },
   "source": [
    "<img style=\"display: block; margin-left: auto; margin-right: auto; width: 90%;\" src=\"../_static/course_table.png\">"
   ]
  },
  {
   "cell_type": "markdown",
   "metadata": {},
   "source": [
    "Each table row contains data about a lecture, recitation etc. In addition, the **Course** column of the table contains links to pages with more detailed information. In particular, these individual pages list enrollment capacity and enrollment total for each course.    "
   ]
  },
  {
   "cell_type": "raw",
   "metadata": {
    "raw_mimetype": "text/html"
   },
   "source": [
    "<img style=\"display: block; margin-left: auto; margin-right:auto; width: 90%;\" src=\"../_static/course_details.png\">"
   ]
  },
  {
   "cell_type": "markdown",
   "metadata": {},
   "source": [
    "## Exercise\n",
    "\n",
    "* Use Beautiful Soup to scrap these web pages for information about math courses, including enrollment capacity and enrollment total. \n",
    "\n",
    "\n",
    "\n",
    "* Create a pandas dataframe containing information about all courses. Columns of the dataframe should be the same as columns of the main web page with course listing. Two additional columns should give the enrollment data.    "
   ]
  }
 ],
 "metadata": {
  "celltoolbar": "Raw Cell Format",
  "kernelspec": {
   "display_name": "Python 3",
   "language": "python",
   "name": "python3"
  },
  "language_info": {
   "codemirror_mode": {
    "name": "ipython",
    "version": 3
   },
   "file_extension": ".py",
   "mimetype": "text/x-python",
   "name": "python",
   "nbconvert_exporter": "python",
   "pygments_lexer": "ipython3",
   "version": "3.7.6"
  }
 },
 "nbformat": 4,
 "nbformat_minor": 4
}
