{
 "cells": [
  {
   "cell_type": "code",
   "execution_count": 1,
   "metadata": {
    "nbsphinx": "hidden"
   },
   "outputs": [],
   "source": [
    "# \"nbsphinx\": \"hidden\"\n",
    "\n",
    "import plotly.graph_objects as go\n",
    "import plotly.io as pio\n",
    "iframe_c = pio.renderers[\"iframe_connected\"]\n",
    "iframe_c.html_directory = \"../_static/plotly_express/iframe_figures\"\n",
    "pio.renderers.default = \"iframe_connected\"\n",
    "\n",
    "\n",
    "pio.templates[\"sphinx\"] = go.layout.Template(\n",
    "    layout_margin_l = 30,   \n",
    "    layout_margin_r = 30,\n",
    "    layout_margin_t = 60,\n",
    "    layout_margin_b = 30, \n",
    ")\n",
    "\n",
    "#pio.templates.default = \"plotly+sphinx\""
   ]
  },
  {
   "cell_type": "markdown",
   "metadata": {},
   "source": [
    "# Plotly Express"
   ]
  },
  {
   "cell_type": "markdown",
   "metadata": {},
   "source": [
    "[Plotly Express](https://plotly.com/python/plotly-express/) is a Plotly module with tools which simplify creation of many types of plots. It is especially useful for visualizing data coming from Pandas dataframes.  "
   ]
  },
  {
   "cell_type": "code",
   "execution_count": 2,
   "metadata": {},
   "outputs": [],
   "source": [
    "import plotly.express as px"
   ]
  },
  {
   "cell_type": "markdown",
   "metadata": {},
   "source": [
    "Plotly Express includes sample sets of data which will use here to illustrate its feature. \n",
    "The function `px.data.tips()` returns a dataframe with data on restaurant visits: the total bill amount, tip amount, sex of the person paying the bill, whether the visiting group included smokers, day and time (dinner or lunch) of the  visit, and the size of the group:"
   ]
  },
  {
   "cell_type": "code",
   "execution_count": 3,
   "metadata": {},
   "outputs": [
    {
     "data": {
      "text/html": [
       "<div>\n",
       "<style scoped>\n",
       "    .dataframe tbody tr th:only-of-type {\n",
       "        vertical-align: middle;\n",
       "    }\n",
       "\n",
       "    .dataframe tbody tr th {\n",
       "        vertical-align: top;\n",
       "    }\n",
       "\n",
       "    .dataframe thead th {\n",
       "        text-align: right;\n",
       "    }\n",
       "</style>\n",
       "<table border=\"1\" class=\"dataframe\">\n",
       "  <thead>\n",
       "    <tr style=\"text-align: right;\">\n",
       "      <th></th>\n",
       "      <th>total_bill</th>\n",
       "      <th>tip</th>\n",
       "      <th>sex</th>\n",
       "      <th>smoker</th>\n",
       "      <th>day</th>\n",
       "      <th>time</th>\n",
       "      <th>size</th>\n",
       "    </tr>\n",
       "  </thead>\n",
       "  <tbody>\n",
       "    <tr>\n",
       "      <th>0</th>\n",
       "      <td>16.99</td>\n",
       "      <td>1.01</td>\n",
       "      <td>Female</td>\n",
       "      <td>No</td>\n",
       "      <td>Sun</td>\n",
       "      <td>Dinner</td>\n",
       "      <td>2</td>\n",
       "    </tr>\n",
       "    <tr>\n",
       "      <th>1</th>\n",
       "      <td>10.34</td>\n",
       "      <td>1.66</td>\n",
       "      <td>Male</td>\n",
       "      <td>No</td>\n",
       "      <td>Sun</td>\n",
       "      <td>Dinner</td>\n",
       "      <td>3</td>\n",
       "    </tr>\n",
       "    <tr>\n",
       "      <th>2</th>\n",
       "      <td>21.01</td>\n",
       "      <td>3.50</td>\n",
       "      <td>Male</td>\n",
       "      <td>No</td>\n",
       "      <td>Sun</td>\n",
       "      <td>Dinner</td>\n",
       "      <td>3</td>\n",
       "    </tr>\n",
       "    <tr>\n",
       "      <th>3</th>\n",
       "      <td>23.68</td>\n",
       "      <td>3.31</td>\n",
       "      <td>Male</td>\n",
       "      <td>No</td>\n",
       "      <td>Sun</td>\n",
       "      <td>Dinner</td>\n",
       "      <td>2</td>\n",
       "    </tr>\n",
       "    <tr>\n",
       "      <th>4</th>\n",
       "      <td>24.59</td>\n",
       "      <td>3.61</td>\n",
       "      <td>Female</td>\n",
       "      <td>No</td>\n",
       "      <td>Sun</td>\n",
       "      <td>Dinner</td>\n",
       "      <td>4</td>\n",
       "    </tr>\n",
       "  </tbody>\n",
       "</table>\n",
       "</div>"
      ],
      "text/plain": [
       "   total_bill   tip     sex smoker  day    time  size\n",
       "0       16.99  1.01  Female     No  Sun  Dinner     2\n",
       "1       10.34  1.66    Male     No  Sun  Dinner     3\n",
       "2       21.01  3.50    Male     No  Sun  Dinner     3\n",
       "3       23.68  3.31    Male     No  Sun  Dinner     2\n",
       "4       24.59  3.61  Female     No  Sun  Dinner     4"
      ]
     },
     "execution_count": 3,
     "metadata": {},
     "output_type": "execute_result"
    }
   ],
   "source": [
    "tips = px.data.tips()\n",
    "tips.head()"
   ]
  },
  {
   "cell_type": "markdown",
   "metadata": {},
   "source": [
    "## Plots from dataframes"
   ]
  },
  {
   "cell_type": "markdown",
   "metadata": {},
   "source": [
    "In order to produce a scatter plot showing the bill amount on the $x$ axis and the tip amount on the $y$ axis we just need \n",
    "to specify the dataframe and names of the corresponding columns:"
   ]
  },
  {
   "cell_type": "code",
   "execution_count": 4,
   "metadata": {},
   "outputs": [
    {
     "data": {
      "text/html": [
       "<iframe\n",
       "    scrolling=\"no\"\n",
       "    width=\"100%\"\n",
       "    height=\"545px\"\n",
       "    src=\"../_static/plotly_express/iframe_figures/figure_4.html\"\n",
       "    frameborder=\"0\"\n",
       "    allowfullscreen\n",
       "></iframe>\n"
      ]
     },
     "metadata": {},
     "output_type": "display_data"
    }
   ],
   "source": [
    "fig = px.scatter(\n",
    "                 tips,            # dataframe\n",
    "                 x=\"total_bill\",  # x-values column\n",
    "                 y=\"tip\",         # y-values column\n",
    "                 title=\"Restaurant data\")\n",
    "fig.show()"
   ]
  },
  {
   "cell_type": "markdown",
   "metadata": {},
   "source": [
    "We can use the values in the \"day\" column to assign marker colors:"
   ]
  },
  {
   "cell_type": "code",
   "execution_count": 5,
   "metadata": {},
   "outputs": [
    {
     "data": {
      "text/html": [
       "<iframe\n",
       "    scrolling=\"no\"\n",
       "    width=\"100%\"\n",
       "    height=\"545px\"\n",
       "    src=\"../_static/plotly_express/iframe_figures/figure_5.html\"\n",
       "    frameborder=\"0\"\n",
       "    allowfullscreen\n",
       "></iframe>\n"
      ]
     },
     "metadata": {},
     "output_type": "display_data"
    }
   ],
   "source": [
    "fig = px.scatter(\n",
    "                 tips,\n",
    "                 x=\"total_bill\",\n",
    "                 y=\"tip\",\n",
    "                 color=\"day\",  # assign colors based on values of this column\n",
    "                 title=\"Restaurant data\")\n",
    "fig.show()"
   ]
  },
  {
   "cell_type": "markdown",
   "metadata": {},
   "source": [
    "By clicking on a color dot in the legend, we can hide markers of that color in the plot. Double clicking on a dot in the legend shows markers of the specified color only. \n",
    "\n",
    "Next, we set different marker sizes based on values in the \"size\" column: "
   ]
  },
  {
   "cell_type": "code",
   "execution_count": 6,
   "metadata": {},
   "outputs": [
    {
     "data": {
      "text/html": [
       "<iframe\n",
       "    scrolling=\"no\"\n",
       "    width=\"100%\"\n",
       "    height=\"545px\"\n",
       "    src=\"../_static/plotly_express/iframe_figures/figure_6.html\"\n",
       "    frameborder=\"0\"\n",
       "    allowfullscreen\n",
       "></iframe>\n"
      ]
     },
     "metadata": {},
     "output_type": "display_data"
    }
   ],
   "source": [
    "fig = px.scatter(\n",
    "                 tips,\n",
    "                 x=\"total_bill\",\n",
    "                 y=\"tip\",\n",
    "                 color=\"day\",\n",
    "                 size=\"size\",  # assign marker sizes based on values of this column\n",
    "                 title=\"Restaurant data\")\n",
    "fig.show()"
   ]
  },
  {
   "cell_type": "markdown",
   "metadata": {},
   "source": [
    "We can also split the plot into subplots based on values of some column. Below we create two subplots, each displaying data for a different value of the \"time\" column: "
   ]
  },
  {
   "cell_type": "code",
   "execution_count": 7,
   "metadata": {},
   "outputs": [
    {
     "data": {
      "text/html": [
       "<iframe\n",
       "    scrolling=\"no\"\n",
       "    width=\"100%\"\n",
       "    height=\"545px\"\n",
       "    src=\"../_static/plotly_express/iframe_figures/figure_7.html\"\n",
       "    frameborder=\"0\"\n",
       "    allowfullscreen\n",
       "></iframe>\n"
      ]
     },
     "metadata": {},
     "output_type": "display_data"
    }
   ],
   "source": [
    "fig = px.scatter(\n",
    "                 tips,\n",
    "                 x=\"total_bill\",\n",
    "                 y=\"tip\",\n",
    "                 color=\"day\",\n",
    "                 size=\"size\",\n",
    "                 facet_row=\"time\",  # rows of subplots depending on \"time\" value\n",
    "                 title=\"Restaurant data\")\n",
    "fig.show()"
   ]
  },
  {
   "cell_type": "markdown",
   "metadata": {},
   "source": [
    "We can subdivide the plot even further using the values of the \"sex\" column:"
   ]
  },
  {
   "cell_type": "code",
   "execution_count": 8,
   "metadata": {},
   "outputs": [
    {
     "data": {
      "text/html": [
       "<iframe\n",
       "    scrolling=\"no\"\n",
       "    width=\"100%\"\n",
       "    height=\"545px\"\n",
       "    src=\"../_static/plotly_express/iframe_figures/figure_8.html\"\n",
       "    frameborder=\"0\"\n",
       "    allowfullscreen\n",
       "></iframe>\n"
      ]
     },
     "metadata": {},
     "output_type": "display_data"
    }
   ],
   "source": [
    "fig = px.scatter(\n",
    "                 tips,\n",
    "                 x=\"total_bill\",\n",
    "                 y=\"tip\",\n",
    "                 color=\"day\",\n",
    "                 size=\"size\",\n",
    "                 facet_row=\"time\",  # rows of subplots depending on \"time\" value\n",
    "                 facet_col=\"sex\",   # columns of subplots depending on \"sex\" value\n",
    "                 title=\"Restaurant data\")\n",
    "fig.show()"
   ]
  },
  {
   "cell_type": "markdown",
   "metadata": {},
   "source": [
    "Numerical data can be also visualized on a 3-dimensional scatter plot, with column values providing $x$, $y$, and $z$ coordinates:"
   ]
  },
  {
   "cell_type": "code",
   "execution_count": 9,
   "metadata": {
    "scrolled": false
   },
   "outputs": [
    {
     "data": {
      "text/html": [
       "<iframe\n",
       "    scrolling=\"no\"\n",
       "    width=\"100%\"\n",
       "    height=\"545px\"\n",
       "    src=\"../_static/plotly_express/iframe_figures/figure_9.html\"\n",
       "    frameborder=\"0\"\n",
       "    allowfullscreen\n",
       "></iframe>\n"
      ]
     },
     "metadata": {},
     "output_type": "display_data"
    }
   ],
   "source": [
    "df = px.data.election()\n",
    "fig = px.scatter_3d(tips, \n",
    "                    x=\"total_bill\", \n",
    "                    y=\"tip\", \n",
    "                    z=\"size\",\n",
    "                    color = \"day\")\n",
    "fig.show()"
   ]
  },
  {
   "cell_type": "markdown",
   "metadata": {},
   "source": [
    "While all above examples show scatter plots only, Plotly Express can be used to create many other types of plots. See the [documentation](https://plotly.com/python/plotly-express/) for details. "
   ]
  },
  {
   "cell_type": "markdown",
   "metadata": {},
   "source": [
    "## Customizing plots"
   ]
  },
  {
   "cell_type": "markdown",
   "metadata": {},
   "source": [
    "Plotly Express functions return Plotly figure objects, which can be customized using other Plotly tools. For example, we can use the `fig.add_trace()` method to add additional traces a figure:  "
   ]
  },
  {
   "cell_type": "code",
   "execution_count": 10,
   "metadata": {},
   "outputs": [
    {
     "data": {
      "text/html": [
       "<iframe\n",
       "    scrolling=\"no\"\n",
       "    width=\"100%\"\n",
       "    height=\"545px\"\n",
       "    src=\"../_static/plotly_express/iframe_figures/figure_10.html\"\n",
       "    frameborder=\"0\"\n",
       "    allowfullscreen\n",
       "></iframe>\n"
      ]
     },
     "metadata": {},
     "output_type": "display_data"
    }
   ],
   "source": [
    "import plotly.graph_objects as go\n",
    "\n",
    "# create a figure using Plotly Express\n",
    "fig = px.scatter(tips, x=\"total_bill\", y=\"tip\", color=\"day\", size=\"size\")\n",
    "\n",
    "# create a trace\n",
    "line = go.Scatter(x=[10, 50],\n",
    "                  y=[2, 10],\n",
    "                  mode=\"lines\",\n",
    "                  line_color='black',\n",
    "                  line_width=10,\n",
    "                  opacity=0.5)\n",
    "\n",
    "# add trace to the figure\n",
    "fig.add_trace(line)\n",
    "fig.show()"
   ]
  },
  {
   "cell_type": "markdown",
   "metadata": {},
   "source": [
    "We can use `fig.update_layout()` method to change the figure layout:"
   ]
  },
  {
   "cell_type": "code",
   "execution_count": 11,
   "metadata": {},
   "outputs": [
    {
     "data": {
      "text/html": [
       "<iframe\n",
       "    scrolling=\"no\"\n",
       "    width=\"100%\"\n",
       "    height=\"545px\"\n",
       "    src=\"../_static/plotly_express/iframe_figures/figure_11.html\"\n",
       "    frameborder=\"0\"\n",
       "    allowfullscreen\n",
       "></iframe>\n"
      ]
     },
     "metadata": {},
     "output_type": "display_data"
    }
   ],
   "source": [
    "# create a figure using Plotly Express\n",
    "fig = px.scatter(tips, x=\"total_bill\", y=\"tip\", color=\"day\", size=\"size\")\n",
    "\n",
    "# modify layout of the figure\n",
    "fig.update_layout(title_text=\"<b>Restaurant data</b>\",\n",
    "                  title_font_family=\"Courier New\",\n",
    "                  title_font_size=30,\n",
    "                  title_font_color=\"cornflowerblue\")\n",
    "fig.show()"
   ]
  },
  {
   "cell_type": "markdown",
   "metadata": {},
   "source": [
    "We can also apply the method `fig.update_traces()` to modify traces included in the figure. Below we use it to change colors of markers. The `selector` argument indicates which markers should be affected by the change. For example, the code"
   ]
  },
  {
   "cell_type": "raw",
   "metadata": {
    "raw_mimetype": "text/restructuredtext"
   },
   "source": [
    ".. code-block:: python\n",
    "\n",
    "   fig.update_traces(marker_color=\"DarkOrange\", selector={\"marker_color\" : '#EF553B'})"
   ]
  },
  {
   "cell_type": "markdown",
   "metadata": {},
   "source": [
    "selects all markers with color '#EF553B', and sets their color to \"DarkOrange\". Hexadecimal codes of colors appearing in the original figure can be obtained e.g. by using `fig.to_dict()` to get a dictionary describing the figure, and then inspecting the dictionary.  "
   ]
  },
  {
   "cell_type": "code",
   "execution_count": 12,
   "metadata": {},
   "outputs": [
    {
     "data": {
      "text/html": [
       "<iframe\n",
       "    scrolling=\"no\"\n",
       "    width=\"100%\"\n",
       "    height=\"545px\"\n",
       "    src=\"../_static/plotly_express/iframe_figures/figure_12.html\"\n",
       "    frameborder=\"0\"\n",
       "    allowfullscreen\n",
       "></iframe>\n"
      ]
     },
     "metadata": {},
     "output_type": "display_data"
    }
   ],
   "source": [
    "# create a figure using Plotly Express\n",
    "fig = px.scatter(tips, x=\"total_bill\", y=\"tip\", color=\"day\", size=\"size\")\n",
    "\n",
    "# change colors of markers\n",
    "fig.update_traces(marker_color=\"DarkOrange\", selector={\"marker_color\": '#EF553B'})\n",
    "fig.update_traces(marker_color=\"RoyalBlue\", selector={\"marker_color\": '#00cc96'})\n",
    "fig.update_traces(marker_color=\"Chartreuse\", selector={\"marker_color\": '#ab63fa'})\n",
    "fig.update_traces(marker_color=\"DeepPink\", selector={\"marker_color\": '#636efa'})"
   ]
  }
 ],
 "metadata": {
  "celltoolbar": "Raw Cell Format",
  "kernelspec": {
   "display_name": "Python 3",
   "language": "python",
   "name": "python3"
  },
  "language_info": {
   "codemirror_mode": {
    "name": "ipython",
    "version": 3
   },
   "file_extension": ".py",
   "mimetype": "text/x-python",
   "name": "python",
   "nbconvert_exporter": "python",
   "pygments_lexer": "ipython3",
   "version": "3.7.6"
  }
 },
 "nbformat": 4,
 "nbformat_minor": 4
}
