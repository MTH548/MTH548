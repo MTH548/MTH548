{
 "cells": [
  {
   "cell_type": "markdown",
   "metadata": {},
   "source": [
    "# NHTSA complaints database\n",
    "\n",
    "The National Highway Traffic Safety Administration (part of the US Department of Transportation) maintains a database of vehicle safety complaints: you can file a complaint [here](https://www-odi.nhtsa.dot.gov/VehicleComplaint/). "
   ]
  },
  {
   "cell_type": "markdown",
   "metadata": {},
   "source": [
    "|\n",
    "\n",
    "## NHTSA  database web API\n",
    "\n",
    "The NHTSA  database can be accessed using a [web API](https://webapi.nhtsa.gov/Default.aspx?Complaints/API/81). The basic API functionality is as follows."
   ]
  },
  {
   "cell_type": "markdown",
   "metadata": {},
   "source": [
    "* Request a list of all possible model years of vehicles in the database:"
   ]
  },
  {
   "cell_type": "raw",
   "metadata": {
    "raw_mimetype": "text/restructuredtext"
   },
   "source": [
    ".. code-block:: tex\n",
    "   \n",
    "   http://www.nhtsa.gov/webapi/api/Complaints/vehicle"
   ]
  },
  {
   "cell_type": "markdown",
   "metadata": {},
   "source": [
    "**Example:**"
   ]
  },
  {
   "cell_type": "code",
   "execution_count": 1,
   "metadata": {
    "nbsphinx": "hidden"
   },
   "outputs": [],
   "source": [
    "# \"nbsphinx\": \"hidden\"\n",
    "# a cheat to make html printout looks better when rendered by Sphinx\n",
    "\n",
    "normal_print = print\n",
    "\n",
    "def new_print(s, width=109):\n",
    "    s = str(s)\n",
    "    lines = s.split('\\n')\n",
    "    for line in lines:\n",
    "        for n in range(0, len(line), width):\n",
    "            normal_print(line[n:n+width])\n",
    "\n",
    "print = new_print"
   ]
  },
  {
   "cell_type": "code",
   "execution_count": 2,
   "metadata": {},
   "outputs": [
    {
     "name": "stdout",
     "output_type": "stream",
     "text": [
      "{\"Count\":67,\"Message\":\"Results returned successfully\",\"Results\":[{\"ModelYear\":\"9999\"},{\"ModelYear\":\"2020\"},{\"\n",
      "ModelYear\":\"2019\"},{\"ModelYear\":\"2018\"},{\"ModelYear\":\"2017\"},{\"ModelYear\":\"2016\"},{\"ModelYear\":\"2015\"},{\"Mode\n",
      "lYear\":\"2014\"},{\"ModelYear\":\"2013\"},{\"ModelYear\":\"2012\"},{\"ModelYear\":\"2011\"},{\"ModelYear\":\"2010\"},{\"ModelYea\n",
      "r\":\"2009\"},{\"ModelYear\":\"2008\"},{\"ModelYear\":\"2007\"},{\"ModelYear\":\"2006\"},{\"ModelYear\":\"2005\"},{\"ModelYear\":\"\n",
      "2004\"},{\"ModelYear\":\"2003\"},{\"ModelYear\":\"2002\"},{\"ModelYear\":\"2001\"},{\"ModelYear\":\"2000\"},{\"ModelYear\":\"1999\n",
      "\"},{\"ModelYear\":\"1998\"},{\"ModelYear\":\"1997\"},{\"ModelYear\":\"1996\"},{\"ModelYear\":\"1995\"},{\"ModelYear\":\"1994\"},{\n",
      "\"ModelYear\":\"1993\"},{\"ModelYear\":\"1992\"},{\"ModelYear\":\"1991\"},{\"ModelYear\":\"1990\"},{\"ModelYear\":\"1989\"},{\"Mod\n",
      "elYear\":\"1988\"},{\"ModelYear\":\"1987\"},{\"ModelYear\":\"1986\"},{\"ModelYear\":\"1985\"},{\"ModelYear\":\"1984\"},{\"ModelYe\n",
      "ar\":\"1983\"},{\"ModelYear\":\"1982\"},{\"ModelYear\":\"1981\"},{\"ModelYear\":\"1980\"},{\"ModelYear\":\"1979\"},{\"ModelYear\":\n",
      "\"1978\"},{\"ModelYear\":\"1977\"},{\"ModelYear\":\"1976\"},{\"ModelYear\":\"1975\"},{\"ModelYear\":\"1974\"},{\"ModelYear\":\"197\n",
      "3\"},{\"ModelYear\":\"1972\"},{\"ModelYear\":\"1971\"},{\"ModelYear\":\"1970\"},{\"ModelYear\":\"1969\"},{\"ModelYear\":\"1968\"},\n",
      "{\"ModelYear\":\"1967\"},{\"ModelYear\":\"1966\"},{\"ModelYear\":\"1965\"},{\"ModelYear\":\"1964\"},{\"ModelYear\":\"1963\"},{\"Mo\n",
      "delYear\":\"1962\"},{\"ModelYear\":\"1961\"},{\"ModelYear\":\"1960\"},{\"ModelYear\":\"1959\"},{\"ModelYear\":\"1958\"},{\"ModelY\n",
      "ear\":\"1957\"},{\"ModelYear\":\"1955\"},{\"ModelYear\":\"1949\"}]}\n"
     ]
    }
   ],
   "source": [
    "import requests \n",
    "url = \"http://www.nhtsa.gov/webapi/api/Complaints/vehicle\"\n",
    "years = requests.get(url).text\n",
    "print(years)"
   ]
  },
  {
   "cell_type": "markdown",
   "metadata": {},
   "source": [
    "* Request a list of vehicle makers by providing a specific vehicle model year:"
   ]
  },
  {
   "cell_type": "raw",
   "metadata": {
    "raw_mimetype": "text/restructuredtext"
   },
   "source": [
    ".. code-block:: tex\n",
    "   \n",
    "   http://www.nhtsa.gov/webapi/api/Complaints/vehicle/modelyear/{YEAR}"
   ]
  },
  {
   "cell_type": "markdown",
   "metadata": {},
   "source": [
    "**Example:**"
   ]
  },
  {
   "cell_type": "code",
   "execution_count": 3,
   "metadata": {},
   "outputs": [
    {
     "name": "stdout",
     "output_type": "stream",
     "text": [
      "{\"Count\":4,\"Message\":\"Results returned successfully\",\"Results\":[{\"ModelYear\":\"1965\",\"Make\":\"FORD\"},{\"ModelYea\n",
      "r\":\"1965\",\"Make\":\"HARLEY-DAVIDSON\"},{\"ModelYear\":\"1965\",\"Make\":\"INTERNATIONAL HARVESTER\"},{\"ModelYear\":\"1965\"\n",
      ",\"Make\":\"VOLKSWAGEN\"}]}\n"
     ]
    }
   ],
   "source": [
    "url = \"http://www.nhtsa.gov/webapi/api/Complaints/vehicle/modelyear/1965\"\n",
    "makers = requests.get(url).text\n",
    "print(makers)"
   ]
  },
  {
   "cell_type": "markdown",
   "metadata": {},
   "source": [
    "* Request a list of vehicle models by providing the vehicle model year and maker."
   ]
  },
  {
   "cell_type": "raw",
   "metadata": {
    "raw_mimetype": "text/restructuredtext"
   },
   "source": [
    ".. code-block:: tex\n",
    "   \n",
    "   http://www.nhtsa.gov/webapi/api/Complaints/vehicle/modelyear/{YEAR}/make/{MAKE}"
   ]
  },
  {
   "cell_type": "markdown",
   "metadata": {},
   "source": [
    "**Example:**"
   ]
  },
  {
   "cell_type": "code",
   "execution_count": 4,
   "metadata": {},
   "outputs": [
    {
     "name": "stdout",
     "output_type": "stream",
     "text": [
      "{\"Count\":2,\"Message\":\"Results returned successfully\",\"Results\":[{\"ModelYear\":\"1965\",\"Make\":\"FORD\",\"Model\":\"MU\n",
      "STANG\"},{\"ModelYear\":\"1965\",\"Make\":\"FORD\",\"Model\":\"THUNDERBIRD\"}]}\n"
     ]
    }
   ],
   "source": [
    "url = \"http://www.nhtsa.gov/webapi/api/Complaints/vehicle/modelyear/1965/make/ford\"\n",
    "models = requests.get(url).text\n",
    "print(models)"
   ]
  },
  {
   "cell_type": "markdown",
   "metadata": {},
   "source": [
    "* Request a list of complaints for a given model year, maker, and model:"
   ]
  },
  {
   "cell_type": "raw",
   "metadata": {
    "raw_mimetype": "text/restructuredtext"
   },
   "source": [
    ".. code-block:: tex\n",
    "   \n",
    "   http://www.nhtsa.gov/webapi/api/api/Complaints/vehicle/modelyear/{YEAR}/make/{MAKE}/model/{MODEL}"
   ]
  },
  {
   "cell_type": "markdown",
   "metadata": {},
   "source": [
    "**Example:**"
   ]
  },
  {
   "cell_type": "code",
   "execution_count": 5,
   "metadata": {},
   "outputs": [
    {
     "name": "stdout",
     "output_type": "stream",
     "text": [
      "{\"Count\":4,\"Message\":\"Results returned successfully\",\"Results\":[{\"ODINumber\":538398,\"Manufacturer\":\"Ford Moto\n",
      "r Company\",\"Crash\":\"No\",\"Fire\":\"No\",\"NumberOfInjured\":0,\"NumberOfDeaths\":0,\"DateComplaintFiled\":\"\\/Date(90056\n",
      "1600000-0400)\\/\",\"VIN\":\"5RO7C219764\",\"Component\":\"FUEL SYSTEM, GASOLINE:STORAGE:TANK ASSEMBLY\",\"Summary\":\"OWN\n",
      "ER CONCERNED THAT FUEL TANK WILL RUPTURE IN A REAR END COLLISION AND RESULT IN A FIRE.\",\"ProductType\":\"VEHICL\n",
      "E\",\"ModelYear\":\"1965\",\"Make\":\"FORD\",\"Model\":\"MUSTANG\"},{\"ODINumber\":733514,\"Manufacturer\":\"Ford Motor Company\n",
      "\",\"Crash\":\"No\",\"Fire\":\"No\",\"NumberOfInjured\":0,\"NumberOfDeaths\":0,\"DateofIncident\":\"\\/Date(901944000000-0400)\n",
      "\\/\",\"DateComplaintFiled\":\"\\/Date(970718400000-0400)\\/\",\"VIN\":\"5R08A203647\",\"Component\":\"TIRES:TREAD/BELT\",\"Su\n",
      "mmary\":\"TIRE ONLY HAD 5-6000 MILES USE, ENTIRE TRED AREA DETACHED AS DONUT WRAPPED AROUND AXLE AND DAMAGED FE\n",
      "NDER .*AK (TIRESIZE: P185/75SR1)( DOT NUMBER:   TIRE SIZE: P185/75SR1 )\",\"ProductType\":\"VEHICLE\",\"ModelYear\":\n",
      "\"1965\",\"Make\":\"FORD\",\"Model\":\"MUSTANG\"},{\"ODINumber\":10022583,\"Manufacturer\":\"Ford Motor Company\",\"Crash\":\"No\n",
      "\",\"Fire\":\"No\",\"NumberOfInjured\":0,\"NumberOfDeaths\":0,\"DateofIncident\":\"\\/Date(1054353600000-0400)\\/\",\"DateCom\n",
      "plaintFiled\":\"\\/Date(1057809600000-0400)\\/\",\"VIN\":\"SF07A362335\",\"Component\":\"TIRES\",\"Summary\":\"VEHICLE WAS PA\n",
      "RKED, THE OWNER HEARD A BIG \\\"BANG\\\" NOISE COMING  FROM THE CAR.  A MICHELIN  REGAL SPORT TIRE BLEWOUT WITH  \n",
      "OUT ANY REASON.   *AK  THE CONSUMER DISCOVERED THE DRIVER'S SIDE FRONT TIRE EXPERIENCED A BLOW OUT.  (TIRE MO\n",
      "DEL/REGAL SPORT CHALLENGER)   *SCC   *JB\",\"ProductType\":\"VEHICLE\",\"ModelYear\":\"1965\",\"Make\":\"FORD\",\"Model\":\"M\n",
      "USTANG\"},{\"ODINumber\":10937513,\"Manufacturer\":\"Ford Motor Company\",\"Crash\":\"Yes\",\"Fire\":\"Yes\",\"NumberOfInjure\n",
      "d\":0,\"NumberOfDeaths\":1,\"DateofIncident\":\"\\/Date(187678800000-0500)\\/\",\"DateComplaintFiled\":\"\\/Date(148272840\n",
      "0000-0500)\\/\",\"Component\":\"ELECTRICAL SYSTEM | FUEL/PROPULSION SYSTEM | STRUCTURE:BODY\",\"Summary\":\"1965 FORD \n",
      "MUSTANG STALLED DURING RAINY EVENING AND CAME TO A STOP. VEHICLE WAS THEN HIT FROM BEHIND BY ANOTHER VEHICLE.\n",
      " THE MUSTANG EXPLODED AND INCINERATED THE DRIVER.\\r\\n\",\"ProductType\":\"VEHICLE\",\"ModelYear\":\"1965\",\"Make\":\"FOR\n",
      "D\",\"Model\":\"MUSTANG\"}]}\n"
     ]
    }
   ],
   "source": [
    "url = \"http://www.nhtsa.gov/webapi/api/Complaints/vehicle/modelyear/1965/make/ford/model/mustang\"\n",
    "complaints = requests.get(url).text\n",
    "print(complaints)"
   ]
  },
  {
   "cell_type": "code",
   "execution_count": 6,
   "metadata": {
    "nbsphinx": "hidden"
   },
   "outputs": [],
   "source": [
    "# \"nbsphinx\": \"hidden\"\n",
    "# go back to the original print function\n",
    "\n",
    "print = normal_print"
   ]
  },
  {
   "cell_type": "markdown",
   "metadata": {},
   "source": [
    "In each case data is returned as a JSON encoded string. Using the`json` module we can convert it into a Python dictionary: "
   ]
  },
  {
   "cell_type": "code",
   "execution_count": 7,
   "metadata": {},
   "outputs": [
    {
     "data": {
      "text/plain": [
       "{'Count': 4,\n",
       " 'Message': 'Results returned successfully',\n",
       " 'Results': [{'ODINumber': 538398,\n",
       "   'Manufacturer': 'Ford Motor Company',\n",
       "   'Crash': 'No',\n",
       "   'Fire': 'No',\n",
       "   'NumberOfInjured': 0,\n",
       "   'NumberOfDeaths': 0,\n",
       "   'DateComplaintFiled': '/Date(900561600000-0400)/',\n",
       "   'VIN': '5RO7C219764',\n",
       "   'Component': 'FUEL SYSTEM, GASOLINE:STORAGE:TANK ASSEMBLY',\n",
       "   'Summary': 'OWNER CONCERNED THAT FUEL TANK WILL RUPTURE IN A REAR END COLLISION AND RESULT IN A FIRE.',\n",
       "   'ProductType': 'VEHICLE',\n",
       "   'ModelYear': '1965',\n",
       "   'Make': 'FORD',\n",
       "   'Model': 'MUSTANG'},\n",
       "  {'ODINumber': 733514,\n",
       "   'Manufacturer': 'Ford Motor Company',\n",
       "   'Crash': 'No',\n",
       "   'Fire': 'No',\n",
       "   'NumberOfInjured': 0,\n",
       "   'NumberOfDeaths': 0,\n",
       "   'DateofIncident': '/Date(901944000000-0400)/',\n",
       "   'DateComplaintFiled': '/Date(970718400000-0400)/',\n",
       "   'VIN': '5R08A203647',\n",
       "   'Component': 'TIRES:TREAD/BELT',\n",
       "   'Summary': 'TIRE ONLY HAD 5-6000 MILES USE, ENTIRE TRED AREA DETACHED AS DONUT WRAPPED AROUND AXLE AND DAMAGED FENDER .*AK (TIRESIZE: P185/75SR1)( DOT NUMBER:   TIRE SIZE: P185/75SR1 )',\n",
       "   'ProductType': 'VEHICLE',\n",
       "   'ModelYear': '1965',\n",
       "   'Make': 'FORD',\n",
       "   'Model': 'MUSTANG'},\n",
       "  {'ODINumber': 10022583,\n",
       "   'Manufacturer': 'Ford Motor Company',\n",
       "   'Crash': 'No',\n",
       "   'Fire': 'No',\n",
       "   'NumberOfInjured': 0,\n",
       "   'NumberOfDeaths': 0,\n",
       "   'DateofIncident': '/Date(1054353600000-0400)/',\n",
       "   'DateComplaintFiled': '/Date(1057809600000-0400)/',\n",
       "   'VIN': 'SF07A362335',\n",
       "   'Component': 'TIRES',\n",
       "   'Summary': 'VEHICLE WAS PARKED, THE OWNER HEARD A BIG \"BANG\" NOISE COMING  FROM THE CAR.  A MICHELIN  REGAL SPORT TIRE BLEWOUT WITH  OUT ANY REASON.   *AK  THE CONSUMER DISCOVERED THE DRIVER\\'S SIDE FRONT TIRE EXPERIENCED A BLOW OUT.  (TIRE MODEL/REGAL SPORT CHALLENGER)   *SCC   *JB',\n",
       "   'ProductType': 'VEHICLE',\n",
       "   'ModelYear': '1965',\n",
       "   'Make': 'FORD',\n",
       "   'Model': 'MUSTANG'},\n",
       "  {'ODINumber': 10937513,\n",
       "   'Manufacturer': 'Ford Motor Company',\n",
       "   'Crash': 'Yes',\n",
       "   'Fire': 'Yes',\n",
       "   'NumberOfInjured': 0,\n",
       "   'NumberOfDeaths': 1,\n",
       "   'DateofIncident': '/Date(187678800000-0500)/',\n",
       "   'DateComplaintFiled': '/Date(1482728400000-0500)/',\n",
       "   'Component': 'ELECTRICAL SYSTEM | FUEL/PROPULSION SYSTEM | STRUCTURE:BODY',\n",
       "   'Summary': '1965 FORD MUSTANG STALLED DURING RAINY EVENING AND CAME TO A STOP. VEHICLE WAS THEN HIT FROM BEHIND BY ANOTHER VEHICLE. THE MUSTANG EXPLODED AND INCINERATED THE DRIVER.\\r\\n',\n",
       "   'ProductType': 'VEHICLE',\n",
       "   'ModelYear': '1965',\n",
       "   'Make': 'FORD',\n",
       "   'Model': 'MUSTANG'}]}"
      ]
     },
     "execution_count": 7,
     "metadata": {},
     "output_type": "execute_result"
    }
   ],
   "source": [
    "import json\n",
    "complaints = json.loads(complaints)\n",
    "complaints"
   ]
  },
  {
   "cell_type": "markdown",
   "metadata": {},
   "source": [
    "|\n",
    "\n",
    "## Dates in the NHTSA database\n",
    "\n",
    "Complaints records in the NHTSA database contains two fields specifying date and time: \n",
    "\n",
    "* `DateofIncident` -  the date and time of the reported incident. \n",
    "* `DateComplaintFiled` - the date and time when the complaint was reported. \n",
    "\n",
    "For example:"
   ]
  },
  {
   "cell_type": "code",
   "execution_count": 8,
   "metadata": {},
   "outputs": [
    {
     "name": "stdout",
     "output_type": "stream",
     "text": [
      "DateofIncident:  /Date(901944000000-0400)/\n",
      "DateComplaintFiled:  /Date(970718400000-0400)/\n"
     ]
    }
   ],
   "source": [
    "record = complaints['Results'][1]\n",
    "print(f\"DateofIncident:  {record['DateofIncident']}\")\n",
    "print(f\"DateComplaintFiled:  {record['DateComplaintFiled']}\")"
   ]
  },
  {
   "cell_type": "markdown",
   "metadata": {},
   "source": [
    "The string \"901944000000-0400\" has the following meaning:\n",
    "\n",
    "* The part \"901944000000\" is a Unix timestamp. It gives date and time in terms of the number of miliseconds that have elapsed since the time 0:00:00 GMT on January 1, 1970. \n",
    "* The part \"-0400\" indicates the adjustment that needs to be made to convert the GMT time to the local time used by \n",
    "  the database: the local time is 4 hours behind GMT.    "
   ]
  },
  {
   "cell_type": "markdown",
   "metadata": {},
   "source": [
    "We can use  Python `datetime` module to convert this data into a human-readable format:  "
   ]
  },
  {
   "cell_type": "code",
   "execution_count": 9,
   "metadata": {},
   "outputs": [
    {
     "name": "stdout",
     "output_type": "stream",
     "text": [
      "1998-08-01 00:00:00-04:00\n"
     ]
    }
   ],
   "source": [
    "from datetime import datetime, timedelta, timezone\n",
    "import re\n",
    "\n",
    "date = \"901944000000-0400\"\n",
    "\n",
    "# split the date into a timestamp and a time zone indicator\n",
    "timestamp, time_zone = map(int, re.findall(r\"(\\d*)(.*)\", date)[0])\n",
    "\n",
    "\n",
    "# the datetime.fromtimestampt function expects timestamp expressed in seconds, \n",
    "# so we need to round up miliseconds:\n",
    "seconds = timestamp//1000\n",
    "\n",
    "# divide the timezone indicator by 100 to get the number of hours\n",
    "time_zone_hours = time_zone/100\n",
    "\n",
    "# define timezone of the local time of the databease, \n",
    "local = timezone(timedelta(hours = time_zone_hours))\n",
    "\n",
    "# get date and time from the timestamp\n",
    "date = datetime.fromtimestamp(seconds, tz=local)\n",
    "print(date)"
   ]
  },
  {
   "cell_type": "markdown",
   "metadata": {},
   "source": [
    "This shows that the the string \"901944000000-0400\"corresponds to the time 0:00 on August 1, 1998 in the local time zone of the database. "
   ]
  },
  {
   "cell_type": "markdown",
   "metadata": {},
   "source": [
    "|\n",
    "\n",
    "## Project\n",
    "\n",
    "Use the NHTSA complaints database to find and analyze something that you consider interesting or important. "
   ]
  }
 ],
 "metadata": {
  "celltoolbar": "Raw Cell Format",
  "kernelspec": {
   "display_name": "Python 3",
   "language": "python",
   "name": "python3"
  },
  "language_info": {
   "codemirror_mode": {
    "name": "ipython",
    "version": 3
   },
   "file_extension": ".py",
   "mimetype": "text/x-python",
   "name": "python",
   "nbconvert_exporter": "python",
   "pygments_lexer": "ipython3",
   "version": "3.7.6"
  }
 },
 "nbformat": 4,
 "nbformat_minor": 4
}
