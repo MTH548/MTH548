{
 "cells": [
  {
   "cell_type": "markdown",
   "id": "a15e0ba2",
   "metadata": {},
   "source": [
    "# Week 13"
   ]
  },
  {
   "cell_type": "code",
   "execution_count": 1,
   "id": "b42ee349",
   "metadata": {},
   "outputs": [],
   "source": [
    "from zipfile import ZipFile"
   ]
  },
  {
   "cell_type": "code",
   "execution_count": 2,
   "id": "c9921002",
   "metadata": {},
   "outputs": [
    {
     "name": "stdout",
     "output_type": "stream",
     "text": [
      "['newsgroups.txt']\n"
     ]
    }
   ],
   "source": [
    "with ZipFile(\"newsgroups.zip\", 'r') as zipped:\n",
    "    print(zipped.namelist())"
   ]
  },
  {
   "cell_type": "code",
   "execution_count": 3,
   "id": "e99689c7",
   "metadata": {},
   "outputs": [],
   "source": [
    "with ZipFile(\"newsgroups.zip\") as zipped:\n",
    "    txt = zipped.read('newsgroups.txt').decode(encoding='utf8', errors='ignore')"
   ]
  },
  {
   "cell_type": "code",
   "execution_count": 4,
   "id": "69de66ce",
   "metadata": {
    "scrolled": false
   },
   "outputs": [
    {
     "name": "stdout",
     "output_type": "stream",
     "text": [
      "Newsgroup: rec.autos\n",
      "From: gwm@spl1.spl.loral.com (Gary W. Mahan)\n",
      "Subject: Re: Are BMW's worth the price?            \n",
      "\n",
      "\n",
      ">sure sounds like they got a ringer.  the 325is i drove was definitely\n",
      ">faster than that.  if you want to quote numbers, my AW AutoFile shows\n",
      ">0-60 in 7.4, 1/4 mile in 15.9.  it quotes Car and Driver's figures\n",
      ">of 6.9 and 15.3.  oh, BTW, these numbers are for the 325i.\n",
      "\n",
      "Car and Driver rated the 325is (1988) at 7.2 0-60 , 1/4 at 15.2 (after 30k miles) last time I checked 8#}.\n",
      "\n",
      "Automobile magazine rated new 325is 1/4 mile@16.2.\n",
      "\n",
      "Gee , aint quotiin funner than the dickens!\n",
      "\n",
      "Sounds like we need a race.  I'll let you have the newer version.  Can someone out there lend me a 1988 325is for a day 8-].  I wont hurt it, I promise.\n",
      "\n",
      ">i don't know how the addition of variable valve timing for 1993 affects it.\n",
      ">but don't take my word for it.  go drive it.\n",
      "\n",
      "Actually I will take your word on it.  I refuse to test it (new 325is) because\n",
      "I love BMW's and would probably want to buy it.  Problem is, my income just doesn't support that.  \n",
      "\n",
      "\n",
      "Newsgroup: sci.med\n",
      "From: davec@ecst.csuchico.edu (Dave Childs)\n",
      "Subject: Dental Fillings question\n",
      "\n",
      "\n",
      "I have been hearing bad thing about amalgam dental fillings.  Some say\n",
      "the lead/ mercury leeches into your system and this is bad.  And I have\n",
      "recently heard that there is some suspicion that the mercury is a breeding\n",
      "ground for bacteria that will be resistant to antibiotics.   \n",
      "\n",
      "My dentist wants to use an amalgam filling for me in a place where I have\n",
      "two cavaties in one tooth and wants to use one filling to cover both.\n",
      "He says that composite filling don't hold up well when they are large.\n",
      "So, I would like to know if there are any other choices besides amalgam\n",
      "and composite.  And, should I really even be worried about amalgam?  I\n",
      "heard that some scandanavian country does not even use them any more- \n",
      "is this true.\n",
      "\n",
      "Any information you can give me will be greatly appreciated.\n",
      "\n",
      "\n",
      "Thanks!\n",
      "\n",
      "Dave Childs\n",
      "\n",
      "\n",
      "\n",
      "Newsgroup: alt.atheism\n",
      "From: \"Robe\n"
     ]
    }
   ],
   "source": [
    "print(txt[:2000])"
   ]
  },
  {
   "cell_type": "code",
   "execution_count": 9,
   "id": "a40baaf4",
   "metadata": {},
   "outputs": [],
   "source": [
    "import numpy as np"
   ]
  },
  {
   "cell_type": "code",
   "execution_count": 10,
   "id": "8e7ab093",
   "metadata": {},
   "outputs": [
    {
     "data": {
      "text/plain": [
       "array(['rel', 'rel', 'auto', 'rel', 'med', 'auto', 'med', 'med', 'rel',\n",
       "       'rel'], dtype='<U4')"
      ]
     },
     "execution_count": 10,
     "metadata": {},
     "output_type": "execute_result"
    }
   ],
   "source": [
    "labels = np.random.choice(['auto', 'med', 'rel'], size=10)\n",
    "labels"
   ]
  },
  {
   "cell_type": "code",
   "execution_count": 15,
   "id": "98814cfc",
   "metadata": {},
   "outputs": [
    {
     "data": {
      "text/plain": [
       "array(['rel', 'auto', 'med', 'rel', 'med', 'auto', 'med', 'rel', 'med',\n",
       "       'med'], dtype='<U4')"
      ]
     },
     "execution_count": 15,
     "metadata": {},
     "output_type": "execute_result"
    }
   ],
   "source": [
    "predictions = np.random.choice(['auto', 'med', 'rel'], size=10)\n",
    "predictions"
   ]
  },
  {
   "cell_type": "code",
   "execution_count": 16,
   "id": "275a2bea",
   "metadata": {},
   "outputs": [
    {
     "data": {
      "text/html": [
       "<div>\n",
       "<style scoped>\n",
       "    .dataframe tbody tr th:only-of-type {\n",
       "        vertical-align: middle;\n",
       "    }\n",
       "\n",
       "    .dataframe tbody tr th {\n",
       "        vertical-align: top;\n",
       "    }\n",
       "\n",
       "    .dataframe thead th {\n",
       "        text-align: right;\n",
       "    }\n",
       "</style>\n",
       "<table border=\"1\" class=\"dataframe\">\n",
       "  <thead>\n",
       "    <tr style=\"text-align: right;\">\n",
       "      <th>col_0</th>\n",
       "      <th>auto</th>\n",
       "      <th>med</th>\n",
       "      <th>rel</th>\n",
       "    </tr>\n",
       "    <tr>\n",
       "      <th>row_0</th>\n",
       "      <th></th>\n",
       "      <th></th>\n",
       "      <th></th>\n",
       "    </tr>\n",
       "  </thead>\n",
       "  <tbody>\n",
       "    <tr>\n",
       "      <th>auto</th>\n",
       "      <td>1</td>\n",
       "      <td>1</td>\n",
       "      <td>0</td>\n",
       "    </tr>\n",
       "    <tr>\n",
       "      <th>med</th>\n",
       "      <td>0</td>\n",
       "      <td>2</td>\n",
       "      <td>1</td>\n",
       "    </tr>\n",
       "    <tr>\n",
       "      <th>rel</th>\n",
       "      <td>1</td>\n",
       "      <td>2</td>\n",
       "      <td>2</td>\n",
       "    </tr>\n",
       "  </tbody>\n",
       "</table>\n",
       "</div>"
      ],
      "text/plain": [
       "col_0  auto  med  rel\n",
       "row_0                \n",
       "auto      1    1    0\n",
       "med       0    2    1\n",
       "rel       1    2    2"
      ]
     },
     "execution_count": 16,
     "metadata": {},
     "output_type": "execute_result"
    }
   ],
   "source": [
    "import pandas as pd\n",
    "\n",
    "ctab = pd.crosstab(labels, predictions)\n",
    "ctab"
   ]
  },
  {
   "cell_type": "markdown",
   "id": "8aec6424",
   "metadata": {},
   "source": [
    "## SQL"
   ]
  },
  {
   "cell_type": "code",
   "execution_count": 1,
   "id": "d87f0556",
   "metadata": {},
   "outputs": [
    {
     "name": "stdout",
     "output_type": "stream",
     "text": [
      "Requirement already satisfied: ipython-sql in /Users/bb/opt/anaconda3/lib/python3.8/site-packages (0.4.0)\n",
      "Requirement already satisfied: ipython-genutils>=0.1.0 in /Users/bb/opt/anaconda3/lib/python3.8/site-packages (from ipython-sql) (0.2.0)\n",
      "Requirement already satisfied: prettytable<1 in /Users/bb/opt/anaconda3/lib/python3.8/site-packages (from ipython-sql) (0.7.2)\n",
      "Requirement already satisfied: sqlparse in /Users/bb/opt/anaconda3/lib/python3.8/site-packages (from ipython-sql) (0.4.1)\n",
      "Requirement already satisfied: six in /Users/bb/opt/anaconda3/lib/python3.8/site-packages (from ipython-sql) (1.16.0)\n",
      "Requirement already satisfied: ipython>=1.0 in /Users/bb/opt/anaconda3/lib/python3.8/site-packages (from ipython-sql) (7.29.0)\n",
      "Requirement already satisfied: sqlalchemy>=0.6.7 in /Users/bb/opt/anaconda3/lib/python3.8/site-packages (from ipython-sql) (1.3.24)\n",
      "Requirement already satisfied: traitlets>=4.2 in /Users/bb/opt/anaconda3/lib/python3.8/site-packages (from ipython>=1.0->ipython-sql) (5.1.1)\n",
      "Requirement already satisfied: decorator in /Users/bb/opt/anaconda3/lib/python3.8/site-packages (from ipython>=1.0->ipython-sql) (5.1.0)\n",
      "Requirement already satisfied: pickleshare in /Users/bb/opt/anaconda3/lib/python3.8/site-packages (from ipython>=1.0->ipython-sql) (0.7.5)\n",
      "Requirement already satisfied: jedi>=0.16 in /Users/bb/opt/anaconda3/lib/python3.8/site-packages (from ipython>=1.0->ipython-sql) (0.18.0)\n",
      "Requirement already satisfied: prompt-toolkit!=3.0.0,!=3.0.1,<3.1.0,>=2.0.0 in /Users/bb/opt/anaconda3/lib/python3.8/site-packages (from ipython>=1.0->ipython-sql) (3.0.20)\n",
      "Requirement already satisfied: setuptools>=18.5 in /Users/bb/opt/anaconda3/lib/python3.8/site-packages (from ipython>=1.0->ipython-sql) (58.0.4)\n",
      "Requirement already satisfied: appnope in /Users/bb/opt/anaconda3/lib/python3.8/site-packages (from ipython>=1.0->ipython-sql) (0.1.2)\n",
      "Requirement already satisfied: pexpect>4.3 in /Users/bb/opt/anaconda3/lib/python3.8/site-packages (from ipython>=1.0->ipython-sql) (4.8.0)\n",
      "Requirement already satisfied: backcall in /Users/bb/opt/anaconda3/lib/python3.8/site-packages (from ipython>=1.0->ipython-sql) (0.2.0)\n",
      "Requirement already satisfied: pygments in /Users/bb/opt/anaconda3/lib/python3.8/site-packages (from ipython>=1.0->ipython-sql) (2.10.0)\n",
      "Requirement already satisfied: matplotlib-inline in /Users/bb/opt/anaconda3/lib/python3.8/site-packages (from ipython>=1.0->ipython-sql) (0.1.2)\n",
      "Requirement already satisfied: parso<0.9.0,>=0.8.0 in /Users/bb/opt/anaconda3/lib/python3.8/site-packages (from jedi>=0.16->ipython>=1.0->ipython-sql) (0.8.3)\n",
      "Requirement already satisfied: ptyprocess>=0.5 in /Users/bb/opt/anaconda3/lib/python3.8/site-packages (from pexpect>4.3->ipython>=1.0->ipython-sql) (0.7.0)\n",
      "Requirement already satisfied: wcwidth in /Users/bb/opt/anaconda3/lib/python3.8/site-packages (from prompt-toolkit!=3.0.0,!=3.0.1,<3.1.0,>=2.0.0->ipython>=1.0->ipython-sql) (0.2.5)\n",
      "Note: you may need to restart the kernel to use updated packages.\n"
     ]
    }
   ],
   "source": [
    "%pip install ipython-sql"
   ]
  },
  {
   "cell_type": "code",
   "execution_count": 2,
   "id": "f693407e",
   "metadata": {},
   "outputs": [],
   "source": [
    "%load_ext sql"
   ]
  },
  {
   "cell_type": "code",
   "execution_count": 6,
   "id": "a01ecad1",
   "metadata": {},
   "outputs": [],
   "source": [
    "%%sql\n",
    "sqlite:///tiny.sqlite"
   ]
  },
  {
   "cell_type": "code",
   "execution_count": 8,
   "id": "e98b2170",
   "metadata": {},
   "outputs": [
    {
     "name": "stdout",
     "output_type": "stream",
     "text": [
      " * sqlite:///tiny.sqlite\n",
      "Done.\n"
     ]
    },
    {
     "data": {
      "text/html": [
       "<table>\n",
       "    <tr>\n",
       "        <th>type</th>\n",
       "        <th>name</th>\n",
       "        <th>tbl_name</th>\n",
       "        <th>rootpage</th>\n",
       "        <th>sql</th>\n",
       "    </tr>\n",
       "</table>"
      ],
      "text/plain": [
       "[]"
      ]
     },
     "execution_count": 8,
     "metadata": {},
     "output_type": "execute_result"
    }
   ],
   "source": [
    "%%sql\n",
    "SELECT *\n",
    "FROM sqlite_master"
   ]
  },
  {
   "cell_type": "code",
   "execution_count": 18,
   "id": "30af4e43",
   "metadata": {},
   "outputs": [
    {
     "name": "stdout",
     "output_type": "stream",
     "text": [
      " * sqlite:///tiny.sqlite\n",
      "(sqlite3.OperationalError) table courses already exists\n",
      "[SQL: CREATE TABLE courses( course_id TEXT NOT NULL PRIMARY KEY,\n",
      "course_name TEXT,\n",
      "credits INT\n",
      ");]\n",
      "(Background on this error at: http://sqlalche.me/e/13/e3q8)\n"
     ]
    }
   ],
   "source": [
    "%%sql \n",
    "CREATE TABLE courses(\n",
    "course_id TEXT NOT NULL PRIMARY KEY,\n",
    "course_name TEXT,\n",
    "credits INT\n",
    ");"
   ]
  },
  {
   "cell_type": "code",
   "execution_count": 19,
   "id": "ea3ee840",
   "metadata": {},
   "outputs": [
    {
     "name": "stdout",
     "output_type": "stream",
     "text": [
      " * sqlite:///tiny.sqlite\n",
      "Done.\n"
     ]
    },
    {
     "data": {
      "text/html": [
       "<table>\n",
       "    <tr>\n",
       "        <th>type</th>\n",
       "        <th>name</th>\n",
       "        <th>tbl_name</th>\n",
       "        <th>rootpage</th>\n",
       "        <th>sql</th>\n",
       "    </tr>\n",
       "    <tr>\n",
       "        <td>table</td>\n",
       "        <td>courses</td>\n",
       "        <td>courses</td>\n",
       "        <td>2</td>\n",
       "        <td>CREATE TABLE courses( course_id TEXT NOT NULL PRIMARY KEY,<br>course_name TEXT,<br>credits INT<br>)</td>\n",
       "    </tr>\n",
       "    <tr>\n",
       "        <td>index</td>\n",
       "        <td>sqlite_autoindex_courses_1</td>\n",
       "        <td>courses</td>\n",
       "        <td>3</td>\n",
       "        <td>None</td>\n",
       "    </tr>\n",
       "</table>"
      ],
      "text/plain": [
       "[('table', 'courses', 'courses', 2, 'CREATE TABLE courses( course_id TEXT NOT NULL PRIMARY KEY,\\ncourse_name TEXT,\\ncredits INT\\n)'),\n",
       " ('index', 'sqlite_autoindex_courses_1', 'courses', 3, None)]"
      ]
     },
     "execution_count": 19,
     "metadata": {},
     "output_type": "execute_result"
    }
   ],
   "source": [
    "%%sql\n",
    "SELECT * \n",
    "FROM sqlite_master"
   ]
  },
  {
   "cell_type": "code",
   "execution_count": 20,
   "id": "baf566a9",
   "metadata": {},
   "outputs": [
    {
     "name": "stdout",
     "output_type": "stream",
     "text": [
      " * sqlite:///tiny.sqlite\n",
      "Done.\n"
     ]
    },
    {
     "data": {
      "text/html": [
       "<table>\n",
       "    <tr>\n",
       "        <th>course_id</th>\n",
       "        <th>course_name</th>\n",
       "        <th>credits</th>\n",
       "    </tr>\n",
       "</table>"
      ],
      "text/plain": [
       "[]"
      ]
     },
     "execution_count": 20,
     "metadata": {},
     "output_type": "execute_result"
    }
   ],
   "source": [
    "%%sql\n",
    "SELECT * \n",
    "FROM courses"
   ]
  },
  {
   "cell_type": "code",
   "execution_count": 21,
   "id": "6763c4f0",
   "metadata": {},
   "outputs": [
    {
     "name": "stdout",
     "output_type": "stream",
     "text": [
      " * sqlite:///tiny.sqlite\n",
      "1 rows affected.\n"
     ]
    },
    {
     "data": {
      "text/plain": [
       "[]"
      ]
     },
     "execution_count": 21,
     "metadata": {},
     "output_type": "execute_result"
    }
   ],
   "source": [
    "%%sql\n",
    "INSERT INTO courses (course_id, course_name, credits)\n",
    "VALUES ('MTH 141', 'Calculus I', 4)"
   ]
  },
  {
   "cell_type": "code",
   "execution_count": 22,
   "id": "59f5624d",
   "metadata": {},
   "outputs": [
    {
     "name": "stdout",
     "output_type": "stream",
     "text": [
      " * sqlite:///tiny.sqlite\n",
      "Done.\n"
     ]
    },
    {
     "data": {
      "text/html": [
       "<table>\n",
       "    <tr>\n",
       "        <th>course_id</th>\n",
       "        <th>course_name</th>\n",
       "        <th>credits</th>\n",
       "    </tr>\n",
       "    <tr>\n",
       "        <td>MTH 141</td>\n",
       "        <td>Calculus I</td>\n",
       "        <td>4</td>\n",
       "    </tr>\n",
       "</table>"
      ],
      "text/plain": [
       "[('MTH 141', 'Calculus I', 4)]"
      ]
     },
     "execution_count": 22,
     "metadata": {},
     "output_type": "execute_result"
    }
   ],
   "source": [
    "%%sql \n",
    "SELECT *\n",
    "FROM courses"
   ]
  },
  {
   "cell_type": "code",
   "execution_count": 23,
   "id": "27821543",
   "metadata": {},
   "outputs": [
    {
     "name": "stdout",
     "output_type": "stream",
     "text": [
      " * sqlite:///tiny.sqlite\n",
      "1 rows affected.\n",
      "Done.\n"
     ]
    },
    {
     "data": {
      "text/html": [
       "<table>\n",
       "    <tr>\n",
       "        <th>course_id</th>\n",
       "        <th>course_name</th>\n",
       "        <th>credits</th>\n",
       "    </tr>\n",
       "    <tr>\n",
       "        <td>MTH 141</td>\n",
       "        <td>Calculus I</td>\n",
       "        <td>4</td>\n",
       "    </tr>\n",
       "    <tr>\n",
       "        <td>MTH 309</td>\n",
       "        <td>Linear Algebra</td>\n",
       "        <td>None</td>\n",
       "    </tr>\n",
       "</table>"
      ],
      "text/plain": [
       "[('MTH 141', 'Calculus I', 4), ('MTH 309', 'Linear Algebra', None)]"
      ]
     },
     "execution_count": 23,
     "metadata": {},
     "output_type": "execute_result"
    }
   ],
   "source": [
    "%%sql\n",
    "INSERT INTO courses (course_id, course_name)\n",
    "VALUES ('MTH 309', 'Linear Algebra');\n",
    "\n",
    "SELECT *\n",
    "FROM courses"
   ]
  },
  {
   "cell_type": "code",
   "execution_count": 24,
   "id": "e241f430",
   "metadata": {},
   "outputs": [
    {
     "name": "stdout",
     "output_type": "stream",
     "text": [
      " * sqlite:///tiny.sqlite\n"
     ]
    },
    {
     "ename": "IntegrityError",
     "evalue": "(sqlite3.IntegrityError) UNIQUE constraint failed: courses.course_id\n[SQL: INSERT INTO courses (course_id, course_name, credits)\nVALUES ('MTH 141', 'Calculus 1A', 3)]\n(Background on this error at: http://sqlalche.me/e/13/gkpj)",
     "output_type": "error",
     "traceback": [
      "\u001b[0;31m---------------------------------------------------------------------------\u001b[0m",
      "\u001b[0;31mIntegrityError\u001b[0m                            Traceback (most recent call last)",
      "\u001b[0;32m~/opt/anaconda3/lib/python3.8/site-packages/sqlalchemy/engine/base.py\u001b[0m in \u001b[0;36m_execute_context\u001b[0;34m(self, dialect, constructor, statement, parameters, *args)\u001b[0m\n\u001b[1;32m   1275\u001b[0m                 \u001b[0;32mif\u001b[0m \u001b[0;32mnot\u001b[0m \u001b[0mevt_handled\u001b[0m\u001b[0;34m:\u001b[0m\u001b[0;34m\u001b[0m\u001b[0;34m\u001b[0m\u001b[0m\n\u001b[0;32m-> 1276\u001b[0;31m                     self.dialect.do_execute(\n\u001b[0m\u001b[1;32m   1277\u001b[0m                         \u001b[0mcursor\u001b[0m\u001b[0;34m,\u001b[0m \u001b[0mstatement\u001b[0m\u001b[0;34m,\u001b[0m \u001b[0mparameters\u001b[0m\u001b[0;34m,\u001b[0m \u001b[0mcontext\u001b[0m\u001b[0;34m\u001b[0m\u001b[0;34m\u001b[0m\u001b[0m\n",
      "\u001b[0;32m~/opt/anaconda3/lib/python3.8/site-packages/sqlalchemy/engine/default.py\u001b[0m in \u001b[0;36mdo_execute\u001b[0;34m(self, cursor, statement, parameters, context)\u001b[0m\n\u001b[1;32m    607\u001b[0m     \u001b[0;32mdef\u001b[0m \u001b[0mdo_execute\u001b[0m\u001b[0;34m(\u001b[0m\u001b[0mself\u001b[0m\u001b[0;34m,\u001b[0m \u001b[0mcursor\u001b[0m\u001b[0;34m,\u001b[0m \u001b[0mstatement\u001b[0m\u001b[0;34m,\u001b[0m \u001b[0mparameters\u001b[0m\u001b[0;34m,\u001b[0m \u001b[0mcontext\u001b[0m\u001b[0;34m=\u001b[0m\u001b[0;32mNone\u001b[0m\u001b[0;34m)\u001b[0m\u001b[0;34m:\u001b[0m\u001b[0;34m\u001b[0m\u001b[0;34m\u001b[0m\u001b[0m\n\u001b[0;32m--> 608\u001b[0;31m         \u001b[0mcursor\u001b[0m\u001b[0;34m.\u001b[0m\u001b[0mexecute\u001b[0m\u001b[0;34m(\u001b[0m\u001b[0mstatement\u001b[0m\u001b[0;34m,\u001b[0m \u001b[0mparameters\u001b[0m\u001b[0;34m)\u001b[0m\u001b[0;34m\u001b[0m\u001b[0;34m\u001b[0m\u001b[0m\n\u001b[0m\u001b[1;32m    609\u001b[0m \u001b[0;34m\u001b[0m\u001b[0m\n",
      "\u001b[0;31mIntegrityError\u001b[0m: UNIQUE constraint failed: courses.course_id",
      "\nThe above exception was the direct cause of the following exception:\n",
      "\u001b[0;31mIntegrityError\u001b[0m                            Traceback (most recent call last)",
      "\u001b[0;32m/var/folders/vd/9gpvwb493r52y4sgtl_fvtvm0000gn/T/ipykernel_42485/3691693528.py\u001b[0m in \u001b[0;36m<module>\u001b[0;34m\u001b[0m\n\u001b[0;32m----> 1\u001b[0;31m \u001b[0mget_ipython\u001b[0m\u001b[0;34m(\u001b[0m\u001b[0;34m)\u001b[0m\u001b[0;34m.\u001b[0m\u001b[0mrun_cell_magic\u001b[0m\u001b[0;34m(\u001b[0m\u001b[0;34m'sql'\u001b[0m\u001b[0;34m,\u001b[0m \u001b[0;34m''\u001b[0m\u001b[0;34m,\u001b[0m \u001b[0;34m\"INSERT INTO courses (course_id, course_name, credits)\\nVALUES ('MTH 141', 'Calculus 1A', 3)\\n\"\u001b[0m\u001b[0;34m)\u001b[0m\u001b[0;34m\u001b[0m\u001b[0;34m\u001b[0m\u001b[0m\n\u001b[0m",
      "\u001b[0;32m~/opt/anaconda3/lib/python3.8/site-packages/IPython/core/interactiveshell.py\u001b[0m in \u001b[0;36mrun_cell_magic\u001b[0;34m(self, magic_name, line, cell)\u001b[0m\n\u001b[1;32m   2404\u001b[0m             \u001b[0;32mwith\u001b[0m \u001b[0mself\u001b[0m\u001b[0;34m.\u001b[0m\u001b[0mbuiltin_trap\u001b[0m\u001b[0;34m:\u001b[0m\u001b[0;34m\u001b[0m\u001b[0;34m\u001b[0m\u001b[0m\n\u001b[1;32m   2405\u001b[0m                 \u001b[0margs\u001b[0m \u001b[0;34m=\u001b[0m \u001b[0;34m(\u001b[0m\u001b[0mmagic_arg_s\u001b[0m\u001b[0;34m,\u001b[0m \u001b[0mcell\u001b[0m\u001b[0;34m)\u001b[0m\u001b[0;34m\u001b[0m\u001b[0;34m\u001b[0m\u001b[0m\n\u001b[0;32m-> 2406\u001b[0;31m                 \u001b[0mresult\u001b[0m \u001b[0;34m=\u001b[0m \u001b[0mfn\u001b[0m\u001b[0;34m(\u001b[0m\u001b[0;34m*\u001b[0m\u001b[0margs\u001b[0m\u001b[0;34m,\u001b[0m \u001b[0;34m**\u001b[0m\u001b[0mkwargs\u001b[0m\u001b[0;34m)\u001b[0m\u001b[0;34m\u001b[0m\u001b[0;34m\u001b[0m\u001b[0m\n\u001b[0m\u001b[1;32m   2407\u001b[0m             \u001b[0;32mreturn\u001b[0m \u001b[0mresult\u001b[0m\u001b[0;34m\u001b[0m\u001b[0;34m\u001b[0m\u001b[0m\n\u001b[1;32m   2408\u001b[0m \u001b[0;34m\u001b[0m\u001b[0m\n",
      "\u001b[0;32m~/opt/anaconda3/lib/python3.8/site-packages/decorator.py\u001b[0m in \u001b[0;36mfun\u001b[0;34m(*args, **kw)\u001b[0m\n\u001b[1;32m    230\u001b[0m             \u001b[0;32mif\u001b[0m \u001b[0;32mnot\u001b[0m \u001b[0mkwsyntax\u001b[0m\u001b[0;34m:\u001b[0m\u001b[0;34m\u001b[0m\u001b[0;34m\u001b[0m\u001b[0m\n\u001b[1;32m    231\u001b[0m                 \u001b[0margs\u001b[0m\u001b[0;34m,\u001b[0m \u001b[0mkw\u001b[0m \u001b[0;34m=\u001b[0m \u001b[0mfix\u001b[0m\u001b[0;34m(\u001b[0m\u001b[0margs\u001b[0m\u001b[0;34m,\u001b[0m \u001b[0mkw\u001b[0m\u001b[0;34m,\u001b[0m \u001b[0msig\u001b[0m\u001b[0;34m)\u001b[0m\u001b[0;34m\u001b[0m\u001b[0;34m\u001b[0m\u001b[0m\n\u001b[0;32m--> 232\u001b[0;31m             \u001b[0;32mreturn\u001b[0m \u001b[0mcaller\u001b[0m\u001b[0;34m(\u001b[0m\u001b[0mfunc\u001b[0m\u001b[0;34m,\u001b[0m \u001b[0;34m*\u001b[0m\u001b[0;34m(\u001b[0m\u001b[0mextras\u001b[0m \u001b[0;34m+\u001b[0m \u001b[0margs\u001b[0m\u001b[0;34m)\u001b[0m\u001b[0;34m,\u001b[0m \u001b[0;34m**\u001b[0m\u001b[0mkw\u001b[0m\u001b[0;34m)\u001b[0m\u001b[0;34m\u001b[0m\u001b[0;34m\u001b[0m\u001b[0m\n\u001b[0m\u001b[1;32m    233\u001b[0m     \u001b[0mfun\u001b[0m\u001b[0;34m.\u001b[0m\u001b[0m__name__\u001b[0m \u001b[0;34m=\u001b[0m \u001b[0mfunc\u001b[0m\u001b[0;34m.\u001b[0m\u001b[0m__name__\u001b[0m\u001b[0;34m\u001b[0m\u001b[0;34m\u001b[0m\u001b[0m\n\u001b[1;32m    234\u001b[0m     \u001b[0mfun\u001b[0m\u001b[0;34m.\u001b[0m\u001b[0m__doc__\u001b[0m \u001b[0;34m=\u001b[0m \u001b[0mfunc\u001b[0m\u001b[0;34m.\u001b[0m\u001b[0m__doc__\u001b[0m\u001b[0;34m\u001b[0m\u001b[0;34m\u001b[0m\u001b[0m\n",
      "\u001b[0;32m~/opt/anaconda3/lib/python3.8/site-packages/IPython/core/magic.py\u001b[0m in \u001b[0;36m<lambda>\u001b[0;34m(f, *a, **k)\u001b[0m\n\u001b[1;32m    185\u001b[0m     \u001b[0;31m# but it's overkill for just that one bit of state.\u001b[0m\u001b[0;34m\u001b[0m\u001b[0;34m\u001b[0m\u001b[0;34m\u001b[0m\u001b[0m\n\u001b[1;32m    186\u001b[0m     \u001b[0;32mdef\u001b[0m \u001b[0mmagic_deco\u001b[0m\u001b[0;34m(\u001b[0m\u001b[0marg\u001b[0m\u001b[0;34m)\u001b[0m\u001b[0;34m:\u001b[0m\u001b[0;34m\u001b[0m\u001b[0;34m\u001b[0m\u001b[0m\n\u001b[0;32m--> 187\u001b[0;31m         \u001b[0mcall\u001b[0m \u001b[0;34m=\u001b[0m \u001b[0;32mlambda\u001b[0m \u001b[0mf\u001b[0m\u001b[0;34m,\u001b[0m \u001b[0;34m*\u001b[0m\u001b[0ma\u001b[0m\u001b[0;34m,\u001b[0m \u001b[0;34m**\u001b[0m\u001b[0mk\u001b[0m\u001b[0;34m:\u001b[0m \u001b[0mf\u001b[0m\u001b[0;34m(\u001b[0m\u001b[0;34m*\u001b[0m\u001b[0ma\u001b[0m\u001b[0;34m,\u001b[0m \u001b[0;34m**\u001b[0m\u001b[0mk\u001b[0m\u001b[0;34m)\u001b[0m\u001b[0;34m\u001b[0m\u001b[0;34m\u001b[0m\u001b[0m\n\u001b[0m\u001b[1;32m    188\u001b[0m \u001b[0;34m\u001b[0m\u001b[0m\n\u001b[1;32m    189\u001b[0m         \u001b[0;32mif\u001b[0m \u001b[0mcallable\u001b[0m\u001b[0;34m(\u001b[0m\u001b[0marg\u001b[0m\u001b[0;34m)\u001b[0m\u001b[0;34m:\u001b[0m\u001b[0;34m\u001b[0m\u001b[0;34m\u001b[0m\u001b[0m\n",
      "\u001b[0;32m~/opt/anaconda3/lib/python3.8/site-packages/decorator.py\u001b[0m in \u001b[0;36mfun\u001b[0;34m(*args, **kw)\u001b[0m\n\u001b[1;32m    230\u001b[0m             \u001b[0;32mif\u001b[0m \u001b[0;32mnot\u001b[0m \u001b[0mkwsyntax\u001b[0m\u001b[0;34m:\u001b[0m\u001b[0;34m\u001b[0m\u001b[0;34m\u001b[0m\u001b[0m\n\u001b[1;32m    231\u001b[0m                 \u001b[0margs\u001b[0m\u001b[0;34m,\u001b[0m \u001b[0mkw\u001b[0m \u001b[0;34m=\u001b[0m \u001b[0mfix\u001b[0m\u001b[0;34m(\u001b[0m\u001b[0margs\u001b[0m\u001b[0;34m,\u001b[0m \u001b[0mkw\u001b[0m\u001b[0;34m,\u001b[0m \u001b[0msig\u001b[0m\u001b[0;34m)\u001b[0m\u001b[0;34m\u001b[0m\u001b[0;34m\u001b[0m\u001b[0m\n\u001b[0;32m--> 232\u001b[0;31m             \u001b[0;32mreturn\u001b[0m \u001b[0mcaller\u001b[0m\u001b[0;34m(\u001b[0m\u001b[0mfunc\u001b[0m\u001b[0;34m,\u001b[0m \u001b[0;34m*\u001b[0m\u001b[0;34m(\u001b[0m\u001b[0mextras\u001b[0m \u001b[0;34m+\u001b[0m \u001b[0margs\u001b[0m\u001b[0;34m)\u001b[0m\u001b[0;34m,\u001b[0m \u001b[0;34m**\u001b[0m\u001b[0mkw\u001b[0m\u001b[0;34m)\u001b[0m\u001b[0;34m\u001b[0m\u001b[0;34m\u001b[0m\u001b[0m\n\u001b[0m\u001b[1;32m    233\u001b[0m     \u001b[0mfun\u001b[0m\u001b[0;34m.\u001b[0m\u001b[0m__name__\u001b[0m \u001b[0;34m=\u001b[0m \u001b[0mfunc\u001b[0m\u001b[0;34m.\u001b[0m\u001b[0m__name__\u001b[0m\u001b[0;34m\u001b[0m\u001b[0;34m\u001b[0m\u001b[0m\n\u001b[1;32m    234\u001b[0m     \u001b[0mfun\u001b[0m\u001b[0;34m.\u001b[0m\u001b[0m__doc__\u001b[0m \u001b[0;34m=\u001b[0m \u001b[0mfunc\u001b[0m\u001b[0;34m.\u001b[0m\u001b[0m__doc__\u001b[0m\u001b[0;34m\u001b[0m\u001b[0;34m\u001b[0m\u001b[0m\n",
      "\u001b[0;32m~/opt/anaconda3/lib/python3.8/site-packages/IPython/core/magic.py\u001b[0m in \u001b[0;36m<lambda>\u001b[0;34m(f, *a, **k)\u001b[0m\n\u001b[1;32m    185\u001b[0m     \u001b[0;31m# but it's overkill for just that one bit of state.\u001b[0m\u001b[0;34m\u001b[0m\u001b[0;34m\u001b[0m\u001b[0;34m\u001b[0m\u001b[0m\n\u001b[1;32m    186\u001b[0m     \u001b[0;32mdef\u001b[0m \u001b[0mmagic_deco\u001b[0m\u001b[0;34m(\u001b[0m\u001b[0marg\u001b[0m\u001b[0;34m)\u001b[0m\u001b[0;34m:\u001b[0m\u001b[0;34m\u001b[0m\u001b[0;34m\u001b[0m\u001b[0m\n\u001b[0;32m--> 187\u001b[0;31m         \u001b[0mcall\u001b[0m \u001b[0;34m=\u001b[0m \u001b[0;32mlambda\u001b[0m \u001b[0mf\u001b[0m\u001b[0;34m,\u001b[0m \u001b[0;34m*\u001b[0m\u001b[0ma\u001b[0m\u001b[0;34m,\u001b[0m \u001b[0;34m**\u001b[0m\u001b[0mk\u001b[0m\u001b[0;34m:\u001b[0m \u001b[0mf\u001b[0m\u001b[0;34m(\u001b[0m\u001b[0;34m*\u001b[0m\u001b[0ma\u001b[0m\u001b[0;34m,\u001b[0m \u001b[0;34m**\u001b[0m\u001b[0mk\u001b[0m\u001b[0;34m)\u001b[0m\u001b[0;34m\u001b[0m\u001b[0;34m\u001b[0m\u001b[0m\n\u001b[0m\u001b[1;32m    188\u001b[0m \u001b[0;34m\u001b[0m\u001b[0m\n\u001b[1;32m    189\u001b[0m         \u001b[0;32mif\u001b[0m \u001b[0mcallable\u001b[0m\u001b[0;34m(\u001b[0m\u001b[0marg\u001b[0m\u001b[0;34m)\u001b[0m\u001b[0;34m:\u001b[0m\u001b[0;34m\u001b[0m\u001b[0;34m\u001b[0m\u001b[0m\n",
      "\u001b[0;32m~/opt/anaconda3/lib/python3.8/site-packages/sql/magic.py\u001b[0m in \u001b[0;36mexecute\u001b[0;34m(self, line, cell, local_ns)\u001b[0m\n\u001b[1;32m    215\u001b[0m \u001b[0;34m\u001b[0m\u001b[0m\n\u001b[1;32m    216\u001b[0m         \u001b[0;32mtry\u001b[0m\u001b[0;34m:\u001b[0m\u001b[0;34m\u001b[0m\u001b[0;34m\u001b[0m\u001b[0m\n\u001b[0;32m--> 217\u001b[0;31m             \u001b[0mresult\u001b[0m \u001b[0;34m=\u001b[0m \u001b[0msql\u001b[0m\u001b[0;34m.\u001b[0m\u001b[0mrun\u001b[0m\u001b[0;34m.\u001b[0m\u001b[0mrun\u001b[0m\u001b[0;34m(\u001b[0m\u001b[0mconn\u001b[0m\u001b[0;34m,\u001b[0m \u001b[0mparsed\u001b[0m\u001b[0;34m[\u001b[0m\u001b[0;34m\"sql\"\u001b[0m\u001b[0;34m]\u001b[0m\u001b[0;34m,\u001b[0m \u001b[0mself\u001b[0m\u001b[0;34m,\u001b[0m \u001b[0muser_ns\u001b[0m\u001b[0;34m)\u001b[0m\u001b[0;34m\u001b[0m\u001b[0;34m\u001b[0m\u001b[0m\n\u001b[0m\u001b[1;32m    218\u001b[0m \u001b[0;34m\u001b[0m\u001b[0m\n\u001b[1;32m    219\u001b[0m             if (\n",
      "\u001b[0;32m~/opt/anaconda3/lib/python3.8/site-packages/sql/run.py\u001b[0m in \u001b[0;36mrun\u001b[0;34m(conn, sql, config, user_namespace)\u001b[0m\n\u001b[1;32m    365\u001b[0m             \u001b[0;32melse\u001b[0m\u001b[0;34m:\u001b[0m\u001b[0;34m\u001b[0m\u001b[0;34m\u001b[0m\u001b[0m\n\u001b[1;32m    366\u001b[0m                 \u001b[0mtxt\u001b[0m \u001b[0;34m=\u001b[0m \u001b[0msqlalchemy\u001b[0m\u001b[0;34m.\u001b[0m\u001b[0msql\u001b[0m\u001b[0;34m.\u001b[0m\u001b[0mtext\u001b[0m\u001b[0;34m(\u001b[0m\u001b[0mstatement\u001b[0m\u001b[0;34m)\u001b[0m\u001b[0;34m\u001b[0m\u001b[0;34m\u001b[0m\u001b[0m\n\u001b[0;32m--> 367\u001b[0;31m                 \u001b[0mresult\u001b[0m \u001b[0;34m=\u001b[0m \u001b[0mconn\u001b[0m\u001b[0;34m.\u001b[0m\u001b[0msession\u001b[0m\u001b[0;34m.\u001b[0m\u001b[0mexecute\u001b[0m\u001b[0;34m(\u001b[0m\u001b[0mtxt\u001b[0m\u001b[0;34m,\u001b[0m \u001b[0muser_namespace\u001b[0m\u001b[0;34m)\u001b[0m\u001b[0;34m\u001b[0m\u001b[0;34m\u001b[0m\u001b[0m\n\u001b[0m\u001b[1;32m    368\u001b[0m             \u001b[0m_commit\u001b[0m\u001b[0;34m(\u001b[0m\u001b[0mconn\u001b[0m\u001b[0;34m=\u001b[0m\u001b[0mconn\u001b[0m\u001b[0;34m,\u001b[0m \u001b[0mconfig\u001b[0m\u001b[0;34m=\u001b[0m\u001b[0mconfig\u001b[0m\u001b[0;34m)\u001b[0m\u001b[0;34m\u001b[0m\u001b[0;34m\u001b[0m\u001b[0m\n\u001b[1;32m    369\u001b[0m             \u001b[0;32mif\u001b[0m \u001b[0mresult\u001b[0m \u001b[0;32mand\u001b[0m \u001b[0mconfig\u001b[0m\u001b[0;34m.\u001b[0m\u001b[0mfeedback\u001b[0m\u001b[0;34m:\u001b[0m\u001b[0;34m\u001b[0m\u001b[0;34m\u001b[0m\u001b[0m\n",
      "\u001b[0;32m~/opt/anaconda3/lib/python3.8/site-packages/sqlalchemy/engine/base.py\u001b[0m in \u001b[0;36mexecute\u001b[0;34m(self, object_, *multiparams, **params)\u001b[0m\n\u001b[1;32m   1009\u001b[0m             )\n\u001b[1;32m   1010\u001b[0m         \u001b[0;32melse\u001b[0m\u001b[0;34m:\u001b[0m\u001b[0;34m\u001b[0m\u001b[0;34m\u001b[0m\u001b[0m\n\u001b[0;32m-> 1011\u001b[0;31m             \u001b[0;32mreturn\u001b[0m \u001b[0mmeth\u001b[0m\u001b[0;34m(\u001b[0m\u001b[0mself\u001b[0m\u001b[0;34m,\u001b[0m \u001b[0mmultiparams\u001b[0m\u001b[0;34m,\u001b[0m \u001b[0mparams\u001b[0m\u001b[0;34m)\u001b[0m\u001b[0;34m\u001b[0m\u001b[0;34m\u001b[0m\u001b[0m\n\u001b[0m\u001b[1;32m   1012\u001b[0m \u001b[0;34m\u001b[0m\u001b[0m\n\u001b[1;32m   1013\u001b[0m     \u001b[0;32mdef\u001b[0m \u001b[0m_execute_function\u001b[0m\u001b[0;34m(\u001b[0m\u001b[0mself\u001b[0m\u001b[0;34m,\u001b[0m \u001b[0mfunc\u001b[0m\u001b[0;34m,\u001b[0m \u001b[0mmultiparams\u001b[0m\u001b[0;34m,\u001b[0m \u001b[0mparams\u001b[0m\u001b[0;34m)\u001b[0m\u001b[0;34m:\u001b[0m\u001b[0;34m\u001b[0m\u001b[0;34m\u001b[0m\u001b[0m\n",
      "\u001b[0;32m~/opt/anaconda3/lib/python3.8/site-packages/sqlalchemy/sql/elements.py\u001b[0m in \u001b[0;36m_execute_on_connection\u001b[0;34m(self, connection, multiparams, params)\u001b[0m\n\u001b[1;32m    296\u001b[0m     \u001b[0;32mdef\u001b[0m \u001b[0m_execute_on_connection\u001b[0m\u001b[0;34m(\u001b[0m\u001b[0mself\u001b[0m\u001b[0;34m,\u001b[0m \u001b[0mconnection\u001b[0m\u001b[0;34m,\u001b[0m \u001b[0mmultiparams\u001b[0m\u001b[0;34m,\u001b[0m \u001b[0mparams\u001b[0m\u001b[0;34m)\u001b[0m\u001b[0;34m:\u001b[0m\u001b[0;34m\u001b[0m\u001b[0;34m\u001b[0m\u001b[0m\n\u001b[1;32m    297\u001b[0m         \u001b[0;32mif\u001b[0m \u001b[0mself\u001b[0m\u001b[0;34m.\u001b[0m\u001b[0msupports_execution\u001b[0m\u001b[0;34m:\u001b[0m\u001b[0;34m\u001b[0m\u001b[0;34m\u001b[0m\u001b[0m\n\u001b[0;32m--> 298\u001b[0;31m             \u001b[0;32mreturn\u001b[0m \u001b[0mconnection\u001b[0m\u001b[0;34m.\u001b[0m\u001b[0m_execute_clauseelement\u001b[0m\u001b[0;34m(\u001b[0m\u001b[0mself\u001b[0m\u001b[0;34m,\u001b[0m \u001b[0mmultiparams\u001b[0m\u001b[0;34m,\u001b[0m \u001b[0mparams\u001b[0m\u001b[0;34m)\u001b[0m\u001b[0;34m\u001b[0m\u001b[0;34m\u001b[0m\u001b[0m\n\u001b[0m\u001b[1;32m    299\u001b[0m         \u001b[0;32melse\u001b[0m\u001b[0;34m:\u001b[0m\u001b[0;34m\u001b[0m\u001b[0;34m\u001b[0m\u001b[0m\n\u001b[1;32m    300\u001b[0m             \u001b[0;32mraise\u001b[0m \u001b[0mexc\u001b[0m\u001b[0;34m.\u001b[0m\u001b[0mObjectNotExecutableError\u001b[0m\u001b[0;34m(\u001b[0m\u001b[0mself\u001b[0m\u001b[0;34m)\u001b[0m\u001b[0;34m\u001b[0m\u001b[0;34m\u001b[0m\u001b[0m\n",
      "\u001b[0;32m~/opt/anaconda3/lib/python3.8/site-packages/sqlalchemy/engine/base.py\u001b[0m in \u001b[0;36m_execute_clauseelement\u001b[0;34m(self, elem, multiparams, params)\u001b[0m\n\u001b[1;32m   1122\u001b[0m             )\n\u001b[1;32m   1123\u001b[0m \u001b[0;34m\u001b[0m\u001b[0m\n\u001b[0;32m-> 1124\u001b[0;31m         ret = self._execute_context(\n\u001b[0m\u001b[1;32m   1125\u001b[0m             \u001b[0mdialect\u001b[0m\u001b[0;34m,\u001b[0m\u001b[0;34m\u001b[0m\u001b[0;34m\u001b[0m\u001b[0m\n\u001b[1;32m   1126\u001b[0m             \u001b[0mdialect\u001b[0m\u001b[0;34m.\u001b[0m\u001b[0mexecution_ctx_cls\u001b[0m\u001b[0;34m.\u001b[0m\u001b[0m_init_compiled\u001b[0m\u001b[0;34m,\u001b[0m\u001b[0;34m\u001b[0m\u001b[0;34m\u001b[0m\u001b[0m\n",
      "\u001b[0;32m~/opt/anaconda3/lib/python3.8/site-packages/sqlalchemy/engine/base.py\u001b[0m in \u001b[0;36m_execute_context\u001b[0;34m(self, dialect, constructor, statement, parameters, *args)\u001b[0m\n\u001b[1;32m   1314\u001b[0m \u001b[0;34m\u001b[0m\u001b[0m\n\u001b[1;32m   1315\u001b[0m         \u001b[0;32mexcept\u001b[0m \u001b[0mBaseException\u001b[0m \u001b[0;32mas\u001b[0m \u001b[0me\u001b[0m\u001b[0;34m:\u001b[0m\u001b[0;34m\u001b[0m\u001b[0;34m\u001b[0m\u001b[0m\n\u001b[0;32m-> 1316\u001b[0;31m             self._handle_dbapi_exception(\n\u001b[0m\u001b[1;32m   1317\u001b[0m                 \u001b[0me\u001b[0m\u001b[0;34m,\u001b[0m \u001b[0mstatement\u001b[0m\u001b[0;34m,\u001b[0m \u001b[0mparameters\u001b[0m\u001b[0;34m,\u001b[0m \u001b[0mcursor\u001b[0m\u001b[0;34m,\u001b[0m \u001b[0mcontext\u001b[0m\u001b[0;34m\u001b[0m\u001b[0;34m\u001b[0m\u001b[0m\n\u001b[1;32m   1318\u001b[0m             )\n",
      "\u001b[0;32m~/opt/anaconda3/lib/python3.8/site-packages/sqlalchemy/engine/base.py\u001b[0m in \u001b[0;36m_handle_dbapi_exception\u001b[0;34m(self, e, statement, parameters, cursor, context)\u001b[0m\n\u001b[1;32m   1508\u001b[0m                 \u001b[0mutil\u001b[0m\u001b[0;34m.\u001b[0m\u001b[0mraise_\u001b[0m\u001b[0;34m(\u001b[0m\u001b[0mnewraise\u001b[0m\u001b[0;34m,\u001b[0m \u001b[0mwith_traceback\u001b[0m\u001b[0;34m=\u001b[0m\u001b[0mexc_info\u001b[0m\u001b[0;34m[\u001b[0m\u001b[0;36m2\u001b[0m\u001b[0;34m]\u001b[0m\u001b[0;34m,\u001b[0m \u001b[0mfrom_\u001b[0m\u001b[0;34m=\u001b[0m\u001b[0me\u001b[0m\u001b[0;34m)\u001b[0m\u001b[0;34m\u001b[0m\u001b[0;34m\u001b[0m\u001b[0m\n\u001b[1;32m   1509\u001b[0m             \u001b[0;32melif\u001b[0m \u001b[0mshould_wrap\u001b[0m\u001b[0;34m:\u001b[0m\u001b[0;34m\u001b[0m\u001b[0;34m\u001b[0m\u001b[0m\n\u001b[0;32m-> 1510\u001b[0;31m                 util.raise_(\n\u001b[0m\u001b[1;32m   1511\u001b[0m                     \u001b[0msqlalchemy_exception\u001b[0m\u001b[0;34m,\u001b[0m \u001b[0mwith_traceback\u001b[0m\u001b[0;34m=\u001b[0m\u001b[0mexc_info\u001b[0m\u001b[0;34m[\u001b[0m\u001b[0;36m2\u001b[0m\u001b[0;34m]\u001b[0m\u001b[0;34m,\u001b[0m \u001b[0mfrom_\u001b[0m\u001b[0;34m=\u001b[0m\u001b[0me\u001b[0m\u001b[0;34m\u001b[0m\u001b[0;34m\u001b[0m\u001b[0m\n\u001b[1;32m   1512\u001b[0m                 )\n",
      "\u001b[0;32m~/opt/anaconda3/lib/python3.8/site-packages/sqlalchemy/util/compat.py\u001b[0m in \u001b[0;36mraise_\u001b[0;34m(***failed resolving arguments***)\u001b[0m\n\u001b[1;32m    180\u001b[0m \u001b[0;34m\u001b[0m\u001b[0m\n\u001b[1;32m    181\u001b[0m         \u001b[0;32mtry\u001b[0m\u001b[0;34m:\u001b[0m\u001b[0;34m\u001b[0m\u001b[0;34m\u001b[0m\u001b[0m\n\u001b[0;32m--> 182\u001b[0;31m             \u001b[0;32mraise\u001b[0m \u001b[0mexception\u001b[0m\u001b[0;34m\u001b[0m\u001b[0;34m\u001b[0m\u001b[0m\n\u001b[0m\u001b[1;32m    183\u001b[0m         \u001b[0;32mfinally\u001b[0m\u001b[0;34m:\u001b[0m\u001b[0;34m\u001b[0m\u001b[0;34m\u001b[0m\u001b[0m\n\u001b[1;32m    184\u001b[0m             \u001b[0;31m# credit to\u001b[0m\u001b[0;34m\u001b[0m\u001b[0;34m\u001b[0m\u001b[0;34m\u001b[0m\u001b[0m\n",
      "\u001b[0;32m~/opt/anaconda3/lib/python3.8/site-packages/sqlalchemy/engine/base.py\u001b[0m in \u001b[0;36m_execute_context\u001b[0;34m(self, dialect, constructor, statement, parameters, *args)\u001b[0m\n\u001b[1;32m   1274\u001b[0m                             \u001b[0;32mbreak\u001b[0m\u001b[0;34m\u001b[0m\u001b[0;34m\u001b[0m\u001b[0m\n\u001b[1;32m   1275\u001b[0m                 \u001b[0;32mif\u001b[0m \u001b[0;32mnot\u001b[0m \u001b[0mevt_handled\u001b[0m\u001b[0;34m:\u001b[0m\u001b[0;34m\u001b[0m\u001b[0;34m\u001b[0m\u001b[0m\n\u001b[0;32m-> 1276\u001b[0;31m                     self.dialect.do_execute(\n\u001b[0m\u001b[1;32m   1277\u001b[0m                         \u001b[0mcursor\u001b[0m\u001b[0;34m,\u001b[0m \u001b[0mstatement\u001b[0m\u001b[0;34m,\u001b[0m \u001b[0mparameters\u001b[0m\u001b[0;34m,\u001b[0m \u001b[0mcontext\u001b[0m\u001b[0;34m\u001b[0m\u001b[0;34m\u001b[0m\u001b[0m\n\u001b[1;32m   1278\u001b[0m                     )\n",
      "\u001b[0;32m~/opt/anaconda3/lib/python3.8/site-packages/sqlalchemy/engine/default.py\u001b[0m in \u001b[0;36mdo_execute\u001b[0;34m(self, cursor, statement, parameters, context)\u001b[0m\n\u001b[1;32m    606\u001b[0m \u001b[0;34m\u001b[0m\u001b[0m\n\u001b[1;32m    607\u001b[0m     \u001b[0;32mdef\u001b[0m \u001b[0mdo_execute\u001b[0m\u001b[0;34m(\u001b[0m\u001b[0mself\u001b[0m\u001b[0;34m,\u001b[0m \u001b[0mcursor\u001b[0m\u001b[0;34m,\u001b[0m \u001b[0mstatement\u001b[0m\u001b[0;34m,\u001b[0m \u001b[0mparameters\u001b[0m\u001b[0;34m,\u001b[0m \u001b[0mcontext\u001b[0m\u001b[0;34m=\u001b[0m\u001b[0;32mNone\u001b[0m\u001b[0;34m)\u001b[0m\u001b[0;34m:\u001b[0m\u001b[0;34m\u001b[0m\u001b[0;34m\u001b[0m\u001b[0m\n\u001b[0;32m--> 608\u001b[0;31m         \u001b[0mcursor\u001b[0m\u001b[0;34m.\u001b[0m\u001b[0mexecute\u001b[0m\u001b[0;34m(\u001b[0m\u001b[0mstatement\u001b[0m\u001b[0;34m,\u001b[0m \u001b[0mparameters\u001b[0m\u001b[0;34m)\u001b[0m\u001b[0;34m\u001b[0m\u001b[0;34m\u001b[0m\u001b[0m\n\u001b[0m\u001b[1;32m    609\u001b[0m \u001b[0;34m\u001b[0m\u001b[0m\n\u001b[1;32m    610\u001b[0m     \u001b[0;32mdef\u001b[0m \u001b[0mdo_execute_no_params\u001b[0m\u001b[0;34m(\u001b[0m\u001b[0mself\u001b[0m\u001b[0;34m,\u001b[0m \u001b[0mcursor\u001b[0m\u001b[0;34m,\u001b[0m \u001b[0mstatement\u001b[0m\u001b[0;34m,\u001b[0m \u001b[0mcontext\u001b[0m\u001b[0;34m=\u001b[0m\u001b[0;32mNone\u001b[0m\u001b[0;34m)\u001b[0m\u001b[0;34m:\u001b[0m\u001b[0;34m\u001b[0m\u001b[0;34m\u001b[0m\u001b[0m\n",
      "\u001b[0;31mIntegrityError\u001b[0m: (sqlite3.IntegrityError) UNIQUE constraint failed: courses.course_id\n[SQL: INSERT INTO courses (course_id, course_name, credits)\nVALUES ('MTH 141', 'Calculus 1A', 3)]\n(Background on this error at: http://sqlalche.me/e/13/gkpj)"
     ]
    }
   ],
   "source": [
    "%%sql \n",
    "INSERT INTO courses (course_id, course_name, credits)\n",
    "VALUES ('MTH 141', 'Calculus 1A', 3)"
   ]
  },
  {
   "cell_type": "code",
   "execution_count": 27,
   "id": "d7326025",
   "metadata": {},
   "outputs": [
    {
     "name": "stdout",
     "output_type": "stream",
     "text": [
      " * sqlite:///tiny.sqlite\n",
      "3 rows affected.\n",
      "Done.\n"
     ]
    },
    {
     "data": {
      "text/html": [
       "<table>\n",
       "    <tr>\n",
       "        <th>course_id</th>\n",
       "        <th>course_name</th>\n",
       "        <th>credits</th>\n",
       "    </tr>\n",
       "    <tr>\n",
       "        <td>MTH 141</td>\n",
       "        <td>Calculus I</td>\n",
       "        <td>4</td>\n",
       "    </tr>\n",
       "    <tr>\n",
       "        <td>MTH 309</td>\n",
       "        <td>Linear Algebra</td>\n",
       "        <td>None</td>\n",
       "    </tr>\n",
       "    <tr>\n",
       "        <td>MTH 142</td>\n",
       "        <td>Calculus II</td>\n",
       "        <td>4</td>\n",
       "    </tr>\n",
       "    <tr>\n",
       "        <td>MTH 448</td>\n",
       "        <td>Data Oriented Computing</td>\n",
       "        <td>3</td>\n",
       "    </tr>\n",
       "    <tr>\n",
       "        <td>MTH 462</td>\n",
       "        <td>Topics in Analysis</td>\n",
       "        <td>2</td>\n",
       "    </tr>\n",
       "</table>"
      ],
      "text/plain": [
       "[('MTH 141', 'Calculus I', 4),\n",
       " ('MTH 309', 'Linear Algebra', None),\n",
       " ('MTH 142', 'Calculus II', 4),\n",
       " ('MTH 448', 'Data Oriented Computing', 3),\n",
       " ('MTH 462', 'Topics in Analysis', 2)]"
      ]
     },
     "execution_count": 27,
     "metadata": {},
     "output_type": "execute_result"
    }
   ],
   "source": [
    "%%sql\n",
    "INSERT INTO courses (course_id, course_name, credits)\n",
    "VALUES\n",
    "('MTH 142', 'Calculus II', 4),\n",
    "('MTH 448', 'Data Oriented Computing', 3),\n",
    "('MTH 462', 'Topics in Analysis', 2);\n",
    "\n",
    "SELECT *\n",
    "FROM courses"
   ]
  },
  {
   "cell_type": "code",
   "execution_count": 29,
   "id": "0e49527b",
   "metadata": {},
   "outputs": [
    {
     "name": "stdout",
     "output_type": "stream",
     "text": [
      " * sqlite:///tiny.sqlite\n",
      "1 rows affected.\n",
      "Done.\n"
     ]
    },
    {
     "data": {
      "text/html": [
       "<table>\n",
       "    <tr>\n",
       "        <th>course_id</th>\n",
       "        <th>course_name</th>\n",
       "        <th>credits</th>\n",
       "    </tr>\n",
       "    <tr>\n",
       "        <td>MTH 141</td>\n",
       "        <td>Calculus I</td>\n",
       "        <td>4</td>\n",
       "    </tr>\n",
       "    <tr>\n",
       "        <td>MTH 309</td>\n",
       "        <td>Linear Algebra</td>\n",
       "        <td>4</td>\n",
       "    </tr>\n",
       "    <tr>\n",
       "        <td>MTH 142</td>\n",
       "        <td>Calculus II</td>\n",
       "        <td>4</td>\n",
       "    </tr>\n",
       "    <tr>\n",
       "        <td>MTH 448</td>\n",
       "        <td>Data Oriented Computing</td>\n",
       "        <td>3</td>\n",
       "    </tr>\n",
       "    <tr>\n",
       "        <td>MTH 462</td>\n",
       "        <td>Topics in Analysis</td>\n",
       "        <td>2</td>\n",
       "    </tr>\n",
       "</table>"
      ],
      "text/plain": [
       "[('MTH 141', 'Calculus I', 4),\n",
       " ('MTH 309', 'Linear Algebra', 4),\n",
       " ('MTH 142', 'Calculus II', 4),\n",
       " ('MTH 448', 'Data Oriented Computing', 3),\n",
       " ('MTH 462', 'Topics in Analysis', 2)]"
      ]
     },
     "execution_count": 29,
     "metadata": {},
     "output_type": "execute_result"
    }
   ],
   "source": [
    "%%sql\n",
    "UPDATE courses\n",
    "SET credits = 4\n",
    "WHERE course_id = 'MTH 309';\n",
    "\n",
    "SELECT *\n",
    "FROM courses"
   ]
  },
  {
   "cell_type": "code",
   "execution_count": 30,
   "id": "83d3a6a0",
   "metadata": {},
   "outputs": [
    {
     "name": "stdout",
     "output_type": "stream",
     "text": [
      " * sqlite:///tiny.sqlite\n",
      "2 rows affected.\n",
      "Done.\n"
     ]
    },
    {
     "data": {
      "text/html": [
       "<table>\n",
       "    <tr>\n",
       "        <th>course_id</th>\n",
       "        <th>course_name</th>\n",
       "        <th>credits</th>\n",
       "    </tr>\n",
       "    <tr>\n",
       "        <td>MTH 141</td>\n",
       "        <td>Calculus I</td>\n",
       "        <td>4</td>\n",
       "    </tr>\n",
       "    <tr>\n",
       "        <td>MTH 309</td>\n",
       "        <td>Linear Algebra</td>\n",
       "        <td>4</td>\n",
       "    </tr>\n",
       "    <tr>\n",
       "        <td>MTH 142</td>\n",
       "        <td>Calculus II</td>\n",
       "        <td>4</td>\n",
       "    </tr>\n",
       "</table>"
      ],
      "text/plain": [
       "[('MTH 141', 'Calculus I', 4),\n",
       " ('MTH 309', 'Linear Algebra', 4),\n",
       " ('MTH 142', 'Calculus II', 4)]"
      ]
     },
     "execution_count": 30,
     "metadata": {},
     "output_type": "execute_result"
    }
   ],
   "source": [
    "%%sql\n",
    "DELETE FROM courses\n",
    "WHERE credits < 4;\n",
    "\n",
    "SELECT *\n",
    "FROM courses"
   ]
  },
  {
   "cell_type": "code",
   "execution_count": 31,
   "id": "dace9db8",
   "metadata": {},
   "outputs": [
    {
     "name": "stdout",
     "output_type": "stream",
     "text": [
      " * sqlite:///tiny.sqlite\n",
      "Done.\n",
      "Done.\n"
     ]
    },
    {
     "data": {
      "text/html": [
       "<table>\n",
       "    <tr>\n",
       "        <th>course_id</th>\n",
       "        <th>course_name</th>\n",
       "        <th>credits</th>\n",
       "        <th>semester</th>\n",
       "    </tr>\n",
       "    <tr>\n",
       "        <td>MTH 141</td>\n",
       "        <td>Calculus I</td>\n",
       "        <td>4</td>\n",
       "        <td>None</td>\n",
       "    </tr>\n",
       "    <tr>\n",
       "        <td>MTH 309</td>\n",
       "        <td>Linear Algebra</td>\n",
       "        <td>4</td>\n",
       "        <td>None</td>\n",
       "    </tr>\n",
       "    <tr>\n",
       "        <td>MTH 142</td>\n",
       "        <td>Calculus II</td>\n",
       "        <td>4</td>\n",
       "        <td>None</td>\n",
       "    </tr>\n",
       "</table>"
      ],
      "text/plain": [
       "[('MTH 141', 'Calculus I', 4, None),\n",
       " ('MTH 309', 'Linear Algebra', 4, None),\n",
       " ('MTH 142', 'Calculus II', 4, None)]"
      ]
     },
     "execution_count": 31,
     "metadata": {},
     "output_type": "execute_result"
    }
   ],
   "source": [
    "%%sql \n",
    "ALTER TABLE courses\n",
    "ADD COLUMN semester;\n",
    "\n",
    "SELECT *\n",
    "FROM courses"
   ]
  },
  {
   "cell_type": "code",
   "execution_count": 32,
   "id": "8b3f65f0",
   "metadata": {},
   "outputs": [
    {
     "name": "stdout",
     "output_type": "stream",
     "text": [
      " * sqlite:///tiny.sqlite\n",
      "3 rows affected.\n",
      "Done.\n"
     ]
    },
    {
     "data": {
      "text/html": [
       "<table>\n",
       "    <tr>\n",
       "        <th>course_id</th>\n",
       "        <th>course_name</th>\n",
       "        <th>credits</th>\n",
       "        <th>semester</th>\n",
       "    </tr>\n",
       "    <tr>\n",
       "        <td>MTH 141</td>\n",
       "        <td>Calculus I</td>\n",
       "        <td>4</td>\n",
       "        <td>Fall</td>\n",
       "    </tr>\n",
       "    <tr>\n",
       "        <td>MTH 309</td>\n",
       "        <td>Linear Algebra</td>\n",
       "        <td>4</td>\n",
       "        <td>Fall</td>\n",
       "    </tr>\n",
       "    <tr>\n",
       "        <td>MTH 142</td>\n",
       "        <td>Calculus II</td>\n",
       "        <td>4</td>\n",
       "        <td>Fall</td>\n",
       "    </tr>\n",
       "</table>"
      ],
      "text/plain": [
       "[('MTH 141', 'Calculus I', 4, 'Fall'),\n",
       " ('MTH 309', 'Linear Algebra', 4, 'Fall'),\n",
       " ('MTH 142', 'Calculus II', 4, 'Fall')]"
      ]
     },
     "execution_count": 32,
     "metadata": {},
     "output_type": "execute_result"
    }
   ],
   "source": [
    "%%sql \n",
    "UPDATE courses\n",
    "SET semester = 'Fall';\n",
    "\n",
    "SELECT *\n",
    "FROM courses;"
   ]
  },
  {
   "cell_type": "code",
   "execution_count": 33,
   "id": "2b9b2639",
   "metadata": {},
   "outputs": [
    {
     "name": "stdout",
     "output_type": "stream",
     "text": [
      " * sqlite:///tiny.sqlite\n",
      "Done.\n"
     ]
    },
    {
     "data": {
      "text/plain": [
       "[]"
      ]
     },
     "execution_count": 33,
     "metadata": {},
     "output_type": "execute_result"
    }
   ],
   "source": [
    "%%sql \n",
    "DROP TABLE courses"
   ]
  },
  {
   "cell_type": "code",
   "execution_count": 34,
   "id": "d01834a4",
   "metadata": {},
   "outputs": [
    {
     "name": "stdout",
     "output_type": "stream",
     "text": [
      " * sqlite:///tiny.sqlite\n",
      "Done.\n"
     ]
    },
    {
     "data": {
      "text/html": [
       "<table>\n",
       "    <tr>\n",
       "        <th>type</th>\n",
       "        <th>name</th>\n",
       "        <th>tbl_name</th>\n",
       "        <th>rootpage</th>\n",
       "        <th>sql</th>\n",
       "    </tr>\n",
       "</table>"
      ],
      "text/plain": [
       "[]"
      ]
     },
     "execution_count": 34,
     "metadata": {},
     "output_type": "execute_result"
    }
   ],
   "source": [
    "%%sql\n",
    "SELECT *\n",
    "FROM sqlite_master"
   ]
  },
  {
   "cell_type": "code",
   "execution_count": 35,
   "id": "14a5c39f",
   "metadata": {},
   "outputs": [
    {
     "name": "stdout",
     "output_type": "stream",
     "text": [
      " * sqlite:///tiny.sqlite\n",
      "(sqlite3.OperationalError) no such table: courses\n",
      "[SQL: DROP TABLE courses]\n",
      "(Background on this error at: http://sqlalche.me/e/13/e3q8)\n"
     ]
    }
   ],
   "source": [
    "%%sql \n",
    "DROP TABLE courses"
   ]
  },
  {
   "cell_type": "code",
   "execution_count": 36,
   "id": "09a3e699",
   "metadata": {},
   "outputs": [
    {
     "name": "stdout",
     "output_type": "stream",
     "text": [
      " * sqlite:///tiny.sqlite\n",
      "Done.\n"
     ]
    },
    {
     "data": {
      "text/plain": [
       "[]"
      ]
     },
     "execution_count": 36,
     "metadata": {},
     "output_type": "execute_result"
    }
   ],
   "source": [
    "%%sql \n",
    "DROP TABLE IF EXISTS course;"
   ]
  },
  {
   "cell_type": "markdown",
   "id": "5923ce4f",
   "metadata": {},
   "source": [
    "## SQL Queries"
   ]
  },
  {
   "cell_type": "code",
   "execution_count": 38,
   "id": "8df25c8b",
   "metadata": {},
   "outputs": [],
   "source": [
    "%%sql \n",
    "sqlite:///gradebook_data.sqlite"
   ]
  },
  {
   "cell_type": "code",
   "execution_count": 39,
   "id": "4a9b8d48",
   "metadata": {},
   "outputs": [
    {
     "name": "stdout",
     "output_type": "stream",
     "text": [
      " * sqlite:///gradebook_data.sqlite\n",
      "   sqlite:///tiny.sqlite\n",
      "Done.\n"
     ]
    },
    {
     "data": {
      "text/html": [
       "<table>\n",
       "    <tr>\n",
       "        <th>type</th>\n",
       "        <th>name</th>\n",
       "        <th>tbl_name</th>\n",
       "        <th>rootpage</th>\n",
       "        <th>sql</th>\n",
       "    </tr>\n",
       "    <tr>\n",
       "        <td>table</td>\n",
       "        <td>gradebook</td>\n",
       "        <td>gradebook</td>\n",
       "        <td>4</td>\n",
       "        <td>CREATE TABLE &quot;gradebook&quot; (<br>    student_id INTEGER PRIMARY KEY,<br>    first_name TEXT,<br>    last_name TEXT,<br>    major TEXT,<br>    exam1 INTEGER, <br>    exam2 INTEGER, <br>    exam3 INTEGER)</td>\n",
       "    </tr>\n",
       "</table>"
      ],
      "text/plain": [
       "[('table', 'gradebook', 'gradebook', 4, 'CREATE TABLE \"gradebook\" (\\n    student_id INTEGER PRIMARY KEY,\\n    first_name TEXT,\\n    last_name TEXT,\\n    major TEXT,\\n    exam1 INTEGER, \\n    exam2 INTEGER, \\n    exam3 INTEGER)')]"
      ]
     },
     "execution_count": 39,
     "metadata": {},
     "output_type": "execute_result"
    }
   ],
   "source": [
    "%%sql\n",
    "SELECT *\n",
    "FROM sqlite_master"
   ]
  },
  {
   "cell_type": "code",
   "execution_count": 40,
   "id": "ebf5694f",
   "metadata": {},
   "outputs": [
    {
     "name": "stdout",
     "output_type": "stream",
     "text": [
      " * sqlite:///gradebook_data.sqlite\n",
      "   sqlite:///tiny.sqlite\n",
      "Done.\n"
     ]
    },
    {
     "data": {
      "text/html": [
       "<table>\n",
       "    <tr>\n",
       "        <th>student_id</th>\n",
       "        <th>first_name</th>\n",
       "        <th>last_name</th>\n",
       "        <th>major</th>\n",
       "        <th>exam1</th>\n",
       "        <th>exam2</th>\n",
       "        <th>exam3</th>\n",
       "    </tr>\n",
       "    <tr>\n",
       "        <td>2712</td>\n",
       "        <td>Starr</td>\n",
       "        <td>Bachand</td>\n",
       "        <td>computer science</td>\n",
       "        <td>None</td>\n",
       "        <td>27</td>\n",
       "        <td>85</td>\n",
       "    </tr>\n",
       "    <tr>\n",
       "        <td>3548</td>\n",
       "        <td>Marcia</td>\n",
       "        <td>Hinkel</td>\n",
       "        <td>biology</td>\n",
       "        <td>79</td>\n",
       "        <td>10</td>\n",
       "        <td>41</td>\n",
       "    </tr>\n",
       "    <tr>\n",
       "        <td>3877</td>\n",
       "        <td>Chu</td>\n",
       "        <td>Flax</td>\n",
       "        <td>mathematics</td>\n",
       "        <td>72</td>\n",
       "        <td>None</td>\n",
       "        <td>29</td>\n",
       "    </tr>\n",
       "    <tr>\n",
       "        <td>5108</td>\n",
       "        <td>Shawnna</td>\n",
       "        <td>Coate</td>\n",
       "        <td>computer science</td>\n",
       "        <td>79</td>\n",
       "        <td>96</td>\n",
       "        <td>61</td>\n",
       "    </tr>\n",
       "    <tr>\n",
       "        <td>5775</td>\n",
       "        <td>Rosina</td>\n",
       "        <td>Hovey</td>\n",
       "        <td>biology</td>\n",
       "        <td>96</td>\n",
       "        <td>13</td>\n",
       "        <td>99</td>\n",
       "    </tr>\n",
       "    <tr>\n",
       "        <td>5787</td>\n",
       "        <td>Tenisha</td>\n",
       "        <td>Rippel</td>\n",
       "        <td>computer science</td>\n",
       "        <td>27</td>\n",
       "        <td>54</td>\n",
       "        <td>79</td>\n",
       "    </tr>\n",
       "    <tr>\n",
       "        <td>6245</td>\n",
       "        <td>Adelina</td>\n",
       "        <td>Brummitt</td>\n",
       "        <td>mathematics</td>\n",
       "        <td>None</td>\n",
       "        <td>67</td>\n",
       "        <td>99</td>\n",
       "    </tr>\n",
       "    <tr>\n",
       "        <td>7138</td>\n",
       "        <td>Fran</td>\n",
       "        <td>Mount</td>\n",
       "        <td>biology</td>\n",
       "        <td>71</td>\n",
       "        <td>5</td>\n",
       "        <td>80</td>\n",
       "    </tr>\n",
       "    <tr>\n",
       "        <td>7256</td>\n",
       "        <td>Rosalinda</td>\n",
       "        <td>Trippe</td>\n",
       "        <td>computer science</td>\n",
       "        <td>None</td>\n",
       "        <td>None</td>\n",
       "        <td>82</td>\n",
       "    </tr>\n",
       "    <tr>\n",
       "        <td>8911</td>\n",
       "        <td>Lottie</td>\n",
       "        <td>Champine</td>\n",
       "        <td>computer science</td>\n",
       "        <td>None</td>\n",
       "        <td>None</td>\n",
       "        <td>62</td>\n",
       "    </tr>\n",
       "    <tr>\n",
       "        <td>9165</td>\n",
       "        <td>Ludivina</td>\n",
       "        <td>Hoskin</td>\n",
       "        <td>mathematics</td>\n",
       "        <td>27</td>\n",
       "        <td>55</td>\n",
       "        <td>None</td>\n",
       "    </tr>\n",
       "    <tr>\n",
       "        <td>9346</td>\n",
       "        <td>Stanton</td>\n",
       "        <td>Mcgaugh</td>\n",
       "        <td>computer science</td>\n",
       "        <td>6</td>\n",
       "        <td>60</td>\n",
       "        <td>40</td>\n",
       "    </tr>\n",
       "    <tr>\n",
       "        <td>9667</td>\n",
       "        <td>Jonnie</td>\n",
       "        <td>Hillock</td>\n",
       "        <td>mathematics</td>\n",
       "        <td>56</td>\n",
       "        <td>24</td>\n",
       "        <td>72</td>\n",
       "    </tr>\n",
       "</table>"
      ],
      "text/plain": [
       "[(2712, 'Starr', 'Bachand', 'computer science', None, 27, 85),\n",
       " (3548, 'Marcia', 'Hinkel', 'biology', 79, 10, 41),\n",
       " (3877, 'Chu', 'Flax', 'mathematics', 72, None, 29),\n",
       " (5108, 'Shawnna', 'Coate', 'computer science', 79, 96, 61),\n",
       " (5775, 'Rosina', 'Hovey', 'biology', 96, 13, 99),\n",
       " (5787, 'Tenisha', 'Rippel', 'computer science', 27, 54, 79),\n",
       " (6245, 'Adelina', 'Brummitt', 'mathematics', None, 67, 99),\n",
       " (7138, 'Fran', 'Mount', 'biology', 71, 5, 80),\n",
       " (7256, 'Rosalinda', 'Trippe', 'computer science', None, None, 82),\n",
       " (8911, 'Lottie', 'Champine', 'computer science', None, None, 62),\n",
       " (9165, 'Ludivina', 'Hoskin', 'mathematics', 27, 55, None),\n",
       " (9346, 'Stanton', 'Mcgaugh', 'computer science', 6, 60, 40),\n",
       " (9667, 'Jonnie', 'Hillock', 'mathematics', 56, 24, 72)]"
      ]
     },
     "execution_count": 40,
     "metadata": {},
     "output_type": "execute_result"
    }
   ],
   "source": [
    "%%sql \n",
    "SELECT *\n",
    "FROM gradebook"
   ]
  },
  {
   "cell_type": "code",
   "execution_count": 41,
   "id": "49253220",
   "metadata": {},
   "outputs": [
    {
     "name": "stdout",
     "output_type": "stream",
     "text": [
      " * sqlite:///gradebook_data.sqlite\n",
      "   sqlite:///tiny.sqlite\n",
      "Done.\n"
     ]
    },
    {
     "data": {
      "text/html": [
       "<table>\n",
       "    <tr>\n",
       "        <th>first_name</th>\n",
       "        <th>last_name</th>\n",
       "        <th>exam3</th>\n",
       "    </tr>\n",
       "    <tr>\n",
       "        <td>Starr</td>\n",
       "        <td>Bachand</td>\n",
       "        <td>85</td>\n",
       "    </tr>\n",
       "    <tr>\n",
       "        <td>Marcia</td>\n",
       "        <td>Hinkel</td>\n",
       "        <td>41</td>\n",
       "    </tr>\n",
       "    <tr>\n",
       "        <td>Chu</td>\n",
       "        <td>Flax</td>\n",
       "        <td>29</td>\n",
       "    </tr>\n",
       "    <tr>\n",
       "        <td>Shawnna</td>\n",
       "        <td>Coate</td>\n",
       "        <td>61</td>\n",
       "    </tr>\n",
       "    <tr>\n",
       "        <td>Rosina</td>\n",
       "        <td>Hovey</td>\n",
       "        <td>99</td>\n",
       "    </tr>\n",
       "    <tr>\n",
       "        <td>Tenisha</td>\n",
       "        <td>Rippel</td>\n",
       "        <td>79</td>\n",
       "    </tr>\n",
       "    <tr>\n",
       "        <td>Adelina</td>\n",
       "        <td>Brummitt</td>\n",
       "        <td>99</td>\n",
       "    </tr>\n",
       "    <tr>\n",
       "        <td>Fran</td>\n",
       "        <td>Mount</td>\n",
       "        <td>80</td>\n",
       "    </tr>\n",
       "    <tr>\n",
       "        <td>Rosalinda</td>\n",
       "        <td>Trippe</td>\n",
       "        <td>82</td>\n",
       "    </tr>\n",
       "    <tr>\n",
       "        <td>Lottie</td>\n",
       "        <td>Champine</td>\n",
       "        <td>62</td>\n",
       "    </tr>\n",
       "    <tr>\n",
       "        <td>Ludivina</td>\n",
       "        <td>Hoskin</td>\n",
       "        <td>None</td>\n",
       "    </tr>\n",
       "    <tr>\n",
       "        <td>Stanton</td>\n",
       "        <td>Mcgaugh</td>\n",
       "        <td>40</td>\n",
       "    </tr>\n",
       "    <tr>\n",
       "        <td>Jonnie</td>\n",
       "        <td>Hillock</td>\n",
       "        <td>72</td>\n",
       "    </tr>\n",
       "</table>"
      ],
      "text/plain": [
       "[('Starr', 'Bachand', 85),\n",
       " ('Marcia', 'Hinkel', 41),\n",
       " ('Chu', 'Flax', 29),\n",
       " ('Shawnna', 'Coate', 61),\n",
       " ('Rosina', 'Hovey', 99),\n",
       " ('Tenisha', 'Rippel', 79),\n",
       " ('Adelina', 'Brummitt', 99),\n",
       " ('Fran', 'Mount', 80),\n",
       " ('Rosalinda', 'Trippe', 82),\n",
       " ('Lottie', 'Champine', 62),\n",
       " ('Ludivina', 'Hoskin', None),\n",
       " ('Stanton', 'Mcgaugh', 40),\n",
       " ('Jonnie', 'Hillock', 72)]"
      ]
     },
     "execution_count": 41,
     "metadata": {},
     "output_type": "execute_result"
    }
   ],
   "source": [
    "%%sql \n",
    "SELECT first_name, last_name, exam3\n",
    "FROM gradebook"
   ]
  },
  {
   "cell_type": "code",
   "execution_count": 42,
   "id": "fe8b32e6",
   "metadata": {},
   "outputs": [
    {
     "name": "stdout",
     "output_type": "stream",
     "text": [
      " * sqlite:///gradebook_data.sqlite\n",
      "   sqlite:///tiny.sqlite\n",
      "Done.\n"
     ]
    },
    {
     "data": {
      "text/html": [
       "<table>\n",
       "    <tr>\n",
       "        <th>FName</th>\n",
       "        <th>LName</th>\n",
       "        <th>Last_Exam</th>\n",
       "    </tr>\n",
       "    <tr>\n",
       "        <td>Starr</td>\n",
       "        <td>Bachand</td>\n",
       "        <td>85</td>\n",
       "    </tr>\n",
       "    <tr>\n",
       "        <td>Marcia</td>\n",
       "        <td>Hinkel</td>\n",
       "        <td>41</td>\n",
       "    </tr>\n",
       "    <tr>\n",
       "        <td>Chu</td>\n",
       "        <td>Flax</td>\n",
       "        <td>29</td>\n",
       "    </tr>\n",
       "    <tr>\n",
       "        <td>Shawnna</td>\n",
       "        <td>Coate</td>\n",
       "        <td>61</td>\n",
       "    </tr>\n",
       "    <tr>\n",
       "        <td>Rosina</td>\n",
       "        <td>Hovey</td>\n",
       "        <td>99</td>\n",
       "    </tr>\n",
       "    <tr>\n",
       "        <td>Tenisha</td>\n",
       "        <td>Rippel</td>\n",
       "        <td>79</td>\n",
       "    </tr>\n",
       "    <tr>\n",
       "        <td>Adelina</td>\n",
       "        <td>Brummitt</td>\n",
       "        <td>99</td>\n",
       "    </tr>\n",
       "    <tr>\n",
       "        <td>Fran</td>\n",
       "        <td>Mount</td>\n",
       "        <td>80</td>\n",
       "    </tr>\n",
       "    <tr>\n",
       "        <td>Rosalinda</td>\n",
       "        <td>Trippe</td>\n",
       "        <td>82</td>\n",
       "    </tr>\n",
       "    <tr>\n",
       "        <td>Lottie</td>\n",
       "        <td>Champine</td>\n",
       "        <td>62</td>\n",
       "    </tr>\n",
       "    <tr>\n",
       "        <td>Ludivina</td>\n",
       "        <td>Hoskin</td>\n",
       "        <td>None</td>\n",
       "    </tr>\n",
       "    <tr>\n",
       "        <td>Stanton</td>\n",
       "        <td>Mcgaugh</td>\n",
       "        <td>40</td>\n",
       "    </tr>\n",
       "    <tr>\n",
       "        <td>Jonnie</td>\n",
       "        <td>Hillock</td>\n",
       "        <td>72</td>\n",
       "    </tr>\n",
       "</table>"
      ],
      "text/plain": [
       "[('Starr', 'Bachand', 85),\n",
       " ('Marcia', 'Hinkel', 41),\n",
       " ('Chu', 'Flax', 29),\n",
       " ('Shawnna', 'Coate', 61),\n",
       " ('Rosina', 'Hovey', 99),\n",
       " ('Tenisha', 'Rippel', 79),\n",
       " ('Adelina', 'Brummitt', 99),\n",
       " ('Fran', 'Mount', 80),\n",
       " ('Rosalinda', 'Trippe', 82),\n",
       " ('Lottie', 'Champine', 62),\n",
       " ('Ludivina', 'Hoskin', None),\n",
       " ('Stanton', 'Mcgaugh', 40),\n",
       " ('Jonnie', 'Hillock', 72)]"
      ]
     },
     "execution_count": 42,
     "metadata": {},
     "output_type": "execute_result"
    }
   ],
   "source": [
    "%%sql\n",
    "SELECT first_name AS FName, last_name AS LName, exam3 AS Last_Exam\n",
    "FROM gradebook"
   ]
  },
  {
   "cell_type": "code",
   "execution_count": 44,
   "id": "69c236ca",
   "metadata": {},
   "outputs": [
    {
     "name": "stdout",
     "output_type": "stream",
     "text": [
      " * sqlite:///gradebook_data.sqlite\n",
      "   sqlite:///tiny.sqlite\n",
      "Done.\n"
     ]
    },
    {
     "data": {
      "text/html": [
       "<table>\n",
       "    <tr>\n",
       "        <th>first_name</th>\n",
       "        <th>last_name</th>\n",
       "        <th>exam_total</th>\n",
       "    </tr>\n",
       "    <tr>\n",
       "        <td>Starr</td>\n",
       "        <td>Bachand</td>\n",
       "        <td>None</td>\n",
       "    </tr>\n",
       "    <tr>\n",
       "        <td>Marcia</td>\n",
       "        <td>Hinkel</td>\n",
       "        <td>130</td>\n",
       "    </tr>\n",
       "    <tr>\n",
       "        <td>Chu</td>\n",
       "        <td>Flax</td>\n",
       "        <td>None</td>\n",
       "    </tr>\n",
       "    <tr>\n",
       "        <td>Shawnna</td>\n",
       "        <td>Coate</td>\n",
       "        <td>236</td>\n",
       "    </tr>\n",
       "    <tr>\n",
       "        <td>Rosina</td>\n",
       "        <td>Hovey</td>\n",
       "        <td>208</td>\n",
       "    </tr>\n",
       "    <tr>\n",
       "        <td>Tenisha</td>\n",
       "        <td>Rippel</td>\n",
       "        <td>160</td>\n",
       "    </tr>\n",
       "    <tr>\n",
       "        <td>Adelina</td>\n",
       "        <td>Brummitt</td>\n",
       "        <td>None</td>\n",
       "    </tr>\n",
       "    <tr>\n",
       "        <td>Fran</td>\n",
       "        <td>Mount</td>\n",
       "        <td>156</td>\n",
       "    </tr>\n",
       "    <tr>\n",
       "        <td>Rosalinda</td>\n",
       "        <td>Trippe</td>\n",
       "        <td>None</td>\n",
       "    </tr>\n",
       "    <tr>\n",
       "        <td>Lottie</td>\n",
       "        <td>Champine</td>\n",
       "        <td>None</td>\n",
       "    </tr>\n",
       "    <tr>\n",
       "        <td>Ludivina</td>\n",
       "        <td>Hoskin</td>\n",
       "        <td>None</td>\n",
       "    </tr>\n",
       "    <tr>\n",
       "        <td>Stanton</td>\n",
       "        <td>Mcgaugh</td>\n",
       "        <td>106</td>\n",
       "    </tr>\n",
       "    <tr>\n",
       "        <td>Jonnie</td>\n",
       "        <td>Hillock</td>\n",
       "        <td>152</td>\n",
       "    </tr>\n",
       "</table>"
      ],
      "text/plain": [
       "[('Starr', 'Bachand', None),\n",
       " ('Marcia', 'Hinkel', 130),\n",
       " ('Chu', 'Flax', None),\n",
       " ('Shawnna', 'Coate', 236),\n",
       " ('Rosina', 'Hovey', 208),\n",
       " ('Tenisha', 'Rippel', 160),\n",
       " ('Adelina', 'Brummitt', None),\n",
       " ('Fran', 'Mount', 156),\n",
       " ('Rosalinda', 'Trippe', None),\n",
       " ('Lottie', 'Champine', None),\n",
       " ('Ludivina', 'Hoskin', None),\n",
       " ('Stanton', 'Mcgaugh', 106),\n",
       " ('Jonnie', 'Hillock', 152)]"
      ]
     },
     "execution_count": 44,
     "metadata": {},
     "output_type": "execute_result"
    }
   ],
   "source": [
    "%%sql\n",
    "SELECT first_name, last_name, (exam1 + exam2 + exam3) AS exam_total\n",
    "FROM gradebook"
   ]
  },
  {
   "cell_type": "code",
   "execution_count": 47,
   "id": "9ad030a0",
   "metadata": {},
   "outputs": [
    {
     "name": "stdout",
     "output_type": "stream",
     "text": [
      " * sqlite:///gradebook_data.sqlite\n",
      "   sqlite:///tiny.sqlite\n",
      "Done.\n"
     ]
    },
    {
     "data": {
      "text/html": [
       "<table>\n",
       "    <tr>\n",
       "        <th>first_name</th>\n",
       "        <th>last_name</th>\n",
       "        <th>exam1</th>\n",
       "        <th>exam1_modified</th>\n",
       "    </tr>\n",
       "    <tr>\n",
       "        <td>Starr</td>\n",
       "        <td>Bachand</td>\n",
       "        <td>None</td>\n",
       "        <td>0</td>\n",
       "    </tr>\n",
       "    <tr>\n",
       "        <td>Marcia</td>\n",
       "        <td>Hinkel</td>\n",
       "        <td>79</td>\n",
       "        <td>79</td>\n",
       "    </tr>\n",
       "    <tr>\n",
       "        <td>Chu</td>\n",
       "        <td>Flax</td>\n",
       "        <td>72</td>\n",
       "        <td>72</td>\n",
       "    </tr>\n",
       "    <tr>\n",
       "        <td>Shawnna</td>\n",
       "        <td>Coate</td>\n",
       "        <td>79</td>\n",
       "        <td>79</td>\n",
       "    </tr>\n",
       "    <tr>\n",
       "        <td>Rosina</td>\n",
       "        <td>Hovey</td>\n",
       "        <td>96</td>\n",
       "        <td>96</td>\n",
       "    </tr>\n",
       "    <tr>\n",
       "        <td>Tenisha</td>\n",
       "        <td>Rippel</td>\n",
       "        <td>27</td>\n",
       "        <td>27</td>\n",
       "    </tr>\n",
       "    <tr>\n",
       "        <td>Adelina</td>\n",
       "        <td>Brummitt</td>\n",
       "        <td>None</td>\n",
       "        <td>0</td>\n",
       "    </tr>\n",
       "    <tr>\n",
       "        <td>Fran</td>\n",
       "        <td>Mount</td>\n",
       "        <td>71</td>\n",
       "        <td>71</td>\n",
       "    </tr>\n",
       "    <tr>\n",
       "        <td>Rosalinda</td>\n",
       "        <td>Trippe</td>\n",
       "        <td>None</td>\n",
       "        <td>0</td>\n",
       "    </tr>\n",
       "    <tr>\n",
       "        <td>Lottie</td>\n",
       "        <td>Champine</td>\n",
       "        <td>None</td>\n",
       "        <td>0</td>\n",
       "    </tr>\n",
       "    <tr>\n",
       "        <td>Ludivina</td>\n",
       "        <td>Hoskin</td>\n",
       "        <td>27</td>\n",
       "        <td>27</td>\n",
       "    </tr>\n",
       "    <tr>\n",
       "        <td>Stanton</td>\n",
       "        <td>Mcgaugh</td>\n",
       "        <td>6</td>\n",
       "        <td>6</td>\n",
       "    </tr>\n",
       "    <tr>\n",
       "        <td>Jonnie</td>\n",
       "        <td>Hillock</td>\n",
       "        <td>56</td>\n",
       "        <td>56</td>\n",
       "    </tr>\n",
       "</table>"
      ],
      "text/plain": [
       "[('Starr', 'Bachand', None, 0),\n",
       " ('Marcia', 'Hinkel', 79, 79),\n",
       " ('Chu', 'Flax', 72, 72),\n",
       " ('Shawnna', 'Coate', 79, 79),\n",
       " ('Rosina', 'Hovey', 96, 96),\n",
       " ('Tenisha', 'Rippel', 27, 27),\n",
       " ('Adelina', 'Brummitt', None, 0),\n",
       " ('Fran', 'Mount', 71, 71),\n",
       " ('Rosalinda', 'Trippe', None, 0),\n",
       " ('Lottie', 'Champine', None, 0),\n",
       " ('Ludivina', 'Hoskin', 27, 27),\n",
       " ('Stanton', 'Mcgaugh', 6, 6),\n",
       " ('Jonnie', 'Hillock', 56, 56)]"
      ]
     },
     "execution_count": 47,
     "metadata": {},
     "output_type": "execute_result"
    }
   ],
   "source": [
    "%%sql \n",
    "SELECT first_name, last_name, exam1, COALESCE(exam1, 0) AS exam1_modified\n",
    "FROM gradebook"
   ]
  },
  {
   "cell_type": "code",
   "execution_count": 51,
   "id": "28bb3fc6",
   "metadata": {},
   "outputs": [
    {
     "name": "stdout",
     "output_type": "stream",
     "text": [
      " * sqlite:///gradebook_data.sqlite\n",
      "   sqlite:///tiny.sqlite\n",
      "Done.\n"
     ]
    },
    {
     "data": {
      "text/html": [
       "<table>\n",
       "    <tr>\n",
       "        <th>first_name</th>\n",
       "        <th>last_name</th>\n",
       "        <th>exam_total</th>\n",
       "    </tr>\n",
       "    <tr>\n",
       "        <td>Starr</td>\n",
       "        <td>Bachand</td>\n",
       "        <td>112</td>\n",
       "    </tr>\n",
       "    <tr>\n",
       "        <td>Marcia</td>\n",
       "        <td>Hinkel</td>\n",
       "        <td>130</td>\n",
       "    </tr>\n",
       "    <tr>\n",
       "        <td>Chu</td>\n",
       "        <td>Flax</td>\n",
       "        <td>101</td>\n",
       "    </tr>\n",
       "    <tr>\n",
       "        <td>Shawnna</td>\n",
       "        <td>Coate</td>\n",
       "        <td>236</td>\n",
       "    </tr>\n",
       "    <tr>\n",
       "        <td>Rosina</td>\n",
       "        <td>Hovey</td>\n",
       "        <td>208</td>\n",
       "    </tr>\n",
       "    <tr>\n",
       "        <td>Tenisha</td>\n",
       "        <td>Rippel</td>\n",
       "        <td>160</td>\n",
       "    </tr>\n",
       "    <tr>\n",
       "        <td>Adelina</td>\n",
       "        <td>Brummitt</td>\n",
       "        <td>166</td>\n",
       "    </tr>\n",
       "    <tr>\n",
       "        <td>Fran</td>\n",
       "        <td>Mount</td>\n",
       "        <td>156</td>\n",
       "    </tr>\n",
       "    <tr>\n",
       "        <td>Rosalinda</td>\n",
       "        <td>Trippe</td>\n",
       "        <td>82</td>\n",
       "    </tr>\n",
       "    <tr>\n",
       "        <td>Lottie</td>\n",
       "        <td>Champine</td>\n",
       "        <td>62</td>\n",
       "    </tr>\n",
       "    <tr>\n",
       "        <td>Ludivina</td>\n",
       "        <td>Hoskin</td>\n",
       "        <td>82</td>\n",
       "    </tr>\n",
       "    <tr>\n",
       "        <td>Stanton</td>\n",
       "        <td>Mcgaugh</td>\n",
       "        <td>106</td>\n",
       "    </tr>\n",
       "    <tr>\n",
       "        <td>Jonnie</td>\n",
       "        <td>Hillock</td>\n",
       "        <td>152</td>\n",
       "    </tr>\n",
       "</table>"
      ],
      "text/plain": [
       "[('Starr', 'Bachand', 112),\n",
       " ('Marcia', 'Hinkel', 130),\n",
       " ('Chu', 'Flax', 101),\n",
       " ('Shawnna', 'Coate', 236),\n",
       " ('Rosina', 'Hovey', 208),\n",
       " ('Tenisha', 'Rippel', 160),\n",
       " ('Adelina', 'Brummitt', 166),\n",
       " ('Fran', 'Mount', 156),\n",
       " ('Rosalinda', 'Trippe', 82),\n",
       " ('Lottie', 'Champine', 62),\n",
       " ('Ludivina', 'Hoskin', 82),\n",
       " ('Stanton', 'Mcgaugh', 106),\n",
       " ('Jonnie', 'Hillock', 152)]"
      ]
     },
     "execution_count": 51,
     "metadata": {},
     "output_type": "execute_result"
    }
   ],
   "source": [
    "%%sql \n",
    "SELECT first_name, \n",
    "       last_name, \n",
    "       COALESCE(exam1, 0) + COALESCE(exam2, 0) + COALESCE(exam3, 0) AS exam_total\n",
    "FROM gradebook"
   ]
  },
  {
   "cell_type": "code",
   "execution_count": 52,
   "id": "4d09d98e",
   "metadata": {},
   "outputs": [
    {
     "name": "stdout",
     "output_type": "stream",
     "text": [
      " * sqlite:///gradebook_data.sqlite\n",
      "   sqlite:///tiny.sqlite\n",
      "Done.\n"
     ]
    },
    {
     "data": {
      "text/html": [
       "<table>\n",
       "    <tr>\n",
       "        <th>name</th>\n",
       "        <th>exam1</th>\n",
       "        <th>exam2</th>\n",
       "        <th>exam3</th>\n",
       "    </tr>\n",
       "    <tr>\n",
       "        <td>Bachand, Starr</td>\n",
       "        <td>None</td>\n",
       "        <td>27</td>\n",
       "        <td>85</td>\n",
       "    </tr>\n",
       "    <tr>\n",
       "        <td>Hinkel, Marcia</td>\n",
       "        <td>79</td>\n",
       "        <td>10</td>\n",
       "        <td>41</td>\n",
       "    </tr>\n",
       "    <tr>\n",
       "        <td>Flax, Chu</td>\n",
       "        <td>72</td>\n",
       "        <td>None</td>\n",
       "        <td>29</td>\n",
       "    </tr>\n",
       "    <tr>\n",
       "        <td>Coate, Shawnna</td>\n",
       "        <td>79</td>\n",
       "        <td>96</td>\n",
       "        <td>61</td>\n",
       "    </tr>\n",
       "    <tr>\n",
       "        <td>Hovey, Rosina</td>\n",
       "        <td>96</td>\n",
       "        <td>13</td>\n",
       "        <td>99</td>\n",
       "    </tr>\n",
       "    <tr>\n",
       "        <td>Rippel, Tenisha</td>\n",
       "        <td>27</td>\n",
       "        <td>54</td>\n",
       "        <td>79</td>\n",
       "    </tr>\n",
       "    <tr>\n",
       "        <td>Brummitt, Adelina</td>\n",
       "        <td>None</td>\n",
       "        <td>67</td>\n",
       "        <td>99</td>\n",
       "    </tr>\n",
       "    <tr>\n",
       "        <td>Mount, Fran</td>\n",
       "        <td>71</td>\n",
       "        <td>5</td>\n",
       "        <td>80</td>\n",
       "    </tr>\n",
       "    <tr>\n",
       "        <td>Trippe, Rosalinda</td>\n",
       "        <td>None</td>\n",
       "        <td>None</td>\n",
       "        <td>82</td>\n",
       "    </tr>\n",
       "    <tr>\n",
       "        <td>Champine, Lottie</td>\n",
       "        <td>None</td>\n",
       "        <td>None</td>\n",
       "        <td>62</td>\n",
       "    </tr>\n",
       "    <tr>\n",
       "        <td>Hoskin, Ludivina</td>\n",
       "        <td>27</td>\n",
       "        <td>55</td>\n",
       "        <td>None</td>\n",
       "    </tr>\n",
       "    <tr>\n",
       "        <td>Mcgaugh, Stanton</td>\n",
       "        <td>6</td>\n",
       "        <td>60</td>\n",
       "        <td>40</td>\n",
       "    </tr>\n",
       "    <tr>\n",
       "        <td>Hillock, Jonnie</td>\n",
       "        <td>56</td>\n",
       "        <td>24</td>\n",
       "        <td>72</td>\n",
       "    </tr>\n",
       "</table>"
      ],
      "text/plain": [
       "[('Bachand, Starr', None, 27, 85),\n",
       " ('Hinkel, Marcia', 79, 10, 41),\n",
       " ('Flax, Chu', 72, None, 29),\n",
       " ('Coate, Shawnna', 79, 96, 61),\n",
       " ('Hovey, Rosina', 96, 13, 99),\n",
       " ('Rippel, Tenisha', 27, 54, 79),\n",
       " ('Brummitt, Adelina', None, 67, 99),\n",
       " ('Mount, Fran', 71, 5, 80),\n",
       " ('Trippe, Rosalinda', None, None, 82),\n",
       " ('Champine, Lottie', None, None, 62),\n",
       " ('Hoskin, Ludivina', 27, 55, None),\n",
       " ('Mcgaugh, Stanton', 6, 60, 40),\n",
       " ('Hillock, Jonnie', 56, 24, 72)]"
      ]
     },
     "execution_count": 52,
     "metadata": {},
     "output_type": "execute_result"
    }
   ],
   "source": [
    "%%sql \n",
    "SELECT last_name || ', ' || first_name AS name, exam1, exam2, exam3\n",
    "FROM gradebook"
   ]
  },
  {
   "cell_type": "code",
   "execution_count": 53,
   "id": "f3528f34",
   "metadata": {},
   "outputs": [
    {
     "name": "stdout",
     "output_type": "stream",
     "text": [
      " * sqlite:///gradebook_data.sqlite\n",
      "   sqlite:///tiny.sqlite\n",
      "Done.\n"
     ]
    },
    {
     "data": {
      "text/html": [
       "<table>\n",
       "    <tr>\n",
       "        <th>first_name</th>\n",
       "        <th>last_name</th>\n",
       "        <th>exam3</th>\n",
       "        <th>grade</th>\n",
       "    </tr>\n",
       "    <tr>\n",
       "        <td>Starr</td>\n",
       "        <td>Bachand</td>\n",
       "        <td>85</td>\n",
       "        <td>B</td>\n",
       "    </tr>\n",
       "    <tr>\n",
       "        <td>Marcia</td>\n",
       "        <td>Hinkel</td>\n",
       "        <td>41</td>\n",
       "        <td>F</td>\n",
       "    </tr>\n",
       "    <tr>\n",
       "        <td>Chu</td>\n",
       "        <td>Flax</td>\n",
       "        <td>29</td>\n",
       "        <td>F</td>\n",
       "    </tr>\n",
       "    <tr>\n",
       "        <td>Shawnna</td>\n",
       "        <td>Coate</td>\n",
       "        <td>61</td>\n",
       "        <td>D</td>\n",
       "    </tr>\n",
       "    <tr>\n",
       "        <td>Rosina</td>\n",
       "        <td>Hovey</td>\n",
       "        <td>99</td>\n",
       "        <td>A</td>\n",
       "    </tr>\n",
       "    <tr>\n",
       "        <td>Tenisha</td>\n",
       "        <td>Rippel</td>\n",
       "        <td>79</td>\n",
       "        <td>C</td>\n",
       "    </tr>\n",
       "    <tr>\n",
       "        <td>Adelina</td>\n",
       "        <td>Brummitt</td>\n",
       "        <td>99</td>\n",
       "        <td>A</td>\n",
       "    </tr>\n",
       "    <tr>\n",
       "        <td>Fran</td>\n",
       "        <td>Mount</td>\n",
       "        <td>80</td>\n",
       "        <td>C</td>\n",
       "    </tr>\n",
       "    <tr>\n",
       "        <td>Rosalinda</td>\n",
       "        <td>Trippe</td>\n",
       "        <td>82</td>\n",
       "        <td>B</td>\n",
       "    </tr>\n",
       "    <tr>\n",
       "        <td>Lottie</td>\n",
       "        <td>Champine</td>\n",
       "        <td>62</td>\n",
       "        <td>D</td>\n",
       "    </tr>\n",
       "    <tr>\n",
       "        <td>Ludivina</td>\n",
       "        <td>Hoskin</td>\n",
       "        <td>None</td>\n",
       "        <td>F</td>\n",
       "    </tr>\n",
       "    <tr>\n",
       "        <td>Stanton</td>\n",
       "        <td>Mcgaugh</td>\n",
       "        <td>40</td>\n",
       "        <td>F</td>\n",
       "    </tr>\n",
       "    <tr>\n",
       "        <td>Jonnie</td>\n",
       "        <td>Hillock</td>\n",
       "        <td>72</td>\n",
       "        <td>C</td>\n",
       "    </tr>\n",
       "</table>"
      ],
      "text/plain": [
       "[('Starr', 'Bachand', 85, 'B'),\n",
       " ('Marcia', 'Hinkel', 41, 'F'),\n",
       " ('Chu', 'Flax', 29, 'F'),\n",
       " ('Shawnna', 'Coate', 61, 'D'),\n",
       " ('Rosina', 'Hovey', 99, 'A'),\n",
       " ('Tenisha', 'Rippel', 79, 'C'),\n",
       " ('Adelina', 'Brummitt', 99, 'A'),\n",
       " ('Fran', 'Mount', 80, 'C'),\n",
       " ('Rosalinda', 'Trippe', 82, 'B'),\n",
       " ('Lottie', 'Champine', 62, 'D'),\n",
       " ('Ludivina', 'Hoskin', None, 'F'),\n",
       " ('Stanton', 'Mcgaugh', 40, 'F'),\n",
       " ('Jonnie', 'Hillock', 72, 'C')]"
      ]
     },
     "execution_count": 53,
     "metadata": {},
     "output_type": "execute_result"
    }
   ],
   "source": [
    "%%sql \n",
    "SELECT first_name, last_name, exam3, \n",
    "CASE \n",
    "    WHEN exam3 > 90 THEN 'A'\n",
    "    WHEN exam3 > 80 THEN 'B'\n",
    "    WHEN exam3 > 70 THEN 'C'\n",
    "    WHEN exam3 > 60 THEN 'D'\n",
    "    ELSE 'F'\n",
    "END AS grade\n",
    "FROM gradebook"
   ]
  },
  {
   "cell_type": "code",
   "execution_count": 54,
   "id": "867f04df",
   "metadata": {},
   "outputs": [
    {
     "name": "stdout",
     "output_type": "stream",
     "text": [
      " * sqlite:///gradebook_data.sqlite\n",
      "   sqlite:///tiny.sqlite\n",
      "Done.\n"
     ]
    },
    {
     "data": {
      "text/html": [
       "<table>\n",
       "    <tr>\n",
       "        <th>student_id</th>\n",
       "        <th>first_name</th>\n",
       "        <th>last_name</th>\n",
       "        <th>major</th>\n",
       "        <th>exam1</th>\n",
       "        <th>exam2</th>\n",
       "        <th>exam3</th>\n",
       "    </tr>\n",
       "    <tr>\n",
       "        <td>3548</td>\n",
       "        <td>Marcia</td>\n",
       "        <td>Hinkel</td>\n",
       "        <td>biology</td>\n",
       "        <td>79</td>\n",
       "        <td>10</td>\n",
       "        <td>41</td>\n",
       "    </tr>\n",
       "    <tr>\n",
       "        <td>3877</td>\n",
       "        <td>Chu</td>\n",
       "        <td>Flax</td>\n",
       "        <td>mathematics</td>\n",
       "        <td>72</td>\n",
       "        <td>None</td>\n",
       "        <td>29</td>\n",
       "    </tr>\n",
       "    <tr>\n",
       "        <td>5108</td>\n",
       "        <td>Shawnna</td>\n",
       "        <td>Coate</td>\n",
       "        <td>computer science</td>\n",
       "        <td>79</td>\n",
       "        <td>96</td>\n",
       "        <td>61</td>\n",
       "    </tr>\n",
       "    <tr>\n",
       "        <td>5775</td>\n",
       "        <td>Rosina</td>\n",
       "        <td>Hovey</td>\n",
       "        <td>biology</td>\n",
       "        <td>96</td>\n",
       "        <td>13</td>\n",
       "        <td>99</td>\n",
       "    </tr>\n",
       "    <tr>\n",
       "        <td>7138</td>\n",
       "        <td>Fran</td>\n",
       "        <td>Mount</td>\n",
       "        <td>biology</td>\n",
       "        <td>71</td>\n",
       "        <td>5</td>\n",
       "        <td>80</td>\n",
       "    </tr>\n",
       "</table>"
      ],
      "text/plain": [
       "[(3548, 'Marcia', 'Hinkel', 'biology', 79, 10, 41),\n",
       " (3877, 'Chu', 'Flax', 'mathematics', 72, None, 29),\n",
       " (5108, 'Shawnna', 'Coate', 'computer science', 79, 96, 61),\n",
       " (5775, 'Rosina', 'Hovey', 'biology', 96, 13, 99),\n",
       " (7138, 'Fran', 'Mount', 'biology', 71, 5, 80)]"
      ]
     },
     "execution_count": 54,
     "metadata": {},
     "output_type": "execute_result"
    }
   ],
   "source": [
    "%%sql \n",
    "SELECT *\n",
    "FROM gradebook\n",
    "WHERE exam1 > 70"
   ]
  },
  {
   "cell_type": "code",
   "execution_count": 56,
   "id": "a62977c7",
   "metadata": {},
   "outputs": [
    {
     "name": "stdout",
     "output_type": "stream",
     "text": [
      " * sqlite:///gradebook_data.sqlite\n",
      "   sqlite:///tiny.sqlite\n",
      "Done.\n"
     ]
    },
    {
     "data": {
      "text/html": [
       "<table>\n",
       "    <tr>\n",
       "        <th>student_id</th>\n",
       "        <th>first_name</th>\n",
       "        <th>last_name</th>\n",
       "        <th>major</th>\n",
       "        <th>exam1</th>\n",
       "        <th>exam2</th>\n",
       "        <th>exam3</th>\n",
       "    </tr>\n",
       "    <tr>\n",
       "        <td>3548</td>\n",
       "        <td>Marcia</td>\n",
       "        <td>Hinkel</td>\n",
       "        <td>biology</td>\n",
       "        <td>79</td>\n",
       "        <td>10</td>\n",
       "        <td>41</td>\n",
       "    </tr>\n",
       "    <tr>\n",
       "        <td>3877</td>\n",
       "        <td>Chu</td>\n",
       "        <td>Flax</td>\n",
       "        <td>mathematics</td>\n",
       "        <td>72</td>\n",
       "        <td>None</td>\n",
       "        <td>29</td>\n",
       "    </tr>\n",
       "    <tr>\n",
       "        <td>5108</td>\n",
       "        <td>Shawnna</td>\n",
       "        <td>Coate</td>\n",
       "        <td>computer science</td>\n",
       "        <td>79</td>\n",
       "        <td>96</td>\n",
       "        <td>61</td>\n",
       "    </tr>\n",
       "</table>"
      ],
      "text/plain": [
       "[(3548, 'Marcia', 'Hinkel', 'biology', 79, 10, 41),\n",
       " (3877, 'Chu', 'Flax', 'mathematics', 72, None, 29),\n",
       " (5108, 'Shawnna', 'Coate', 'computer science', 79, 96, 61)]"
      ]
     },
     "execution_count": 56,
     "metadata": {},
     "output_type": "execute_result"
    }
   ],
   "source": [
    "%%sql \n",
    "SELECT *\n",
    "FROM gradebook\n",
    "WHERE exam1 > 70 AND NOT exam3 > 70"
   ]
  },
  {
   "cell_type": "code",
   "execution_count": 57,
   "id": "9acf7bd9",
   "metadata": {},
   "outputs": [
    {
     "name": "stdout",
     "output_type": "stream",
     "text": [
      " * sqlite:///gradebook_data.sqlite\n",
      "   sqlite:///tiny.sqlite\n",
      "Done.\n"
     ]
    },
    {
     "data": {
      "text/html": [
       "<table>\n",
       "    <tr>\n",
       "        <th>student_id</th>\n",
       "        <th>first_name</th>\n",
       "        <th>last_name</th>\n",
       "        <th>major</th>\n",
       "        <th>exam1</th>\n",
       "        <th>exam2</th>\n",
       "        <th>exam3</th>\n",
       "    </tr>\n",
       "</table>"
      ],
      "text/plain": [
       "[]"
      ]
     },
     "execution_count": 57,
     "metadata": {},
     "output_type": "execute_result"
    }
   ],
   "source": [
    "%%sql \n",
    "SELECT *\n",
    "FROM gradebook\n",
    "WHERE exam1 = NULL"
   ]
  },
  {
   "cell_type": "code",
   "execution_count": 58,
   "id": "981dd964",
   "metadata": {},
   "outputs": [
    {
     "name": "stdout",
     "output_type": "stream",
     "text": [
      " * sqlite:///gradebook_data.sqlite\n",
      "   sqlite:///tiny.sqlite\n",
      "Done.\n"
     ]
    },
    {
     "data": {
      "text/html": [
       "<table>\n",
       "    <tr>\n",
       "        <th>student_id</th>\n",
       "        <th>first_name</th>\n",
       "        <th>last_name</th>\n",
       "        <th>major</th>\n",
       "        <th>exam1</th>\n",
       "        <th>exam2</th>\n",
       "        <th>exam3</th>\n",
       "    </tr>\n",
       "    <tr>\n",
       "        <td>2712</td>\n",
       "        <td>Starr</td>\n",
       "        <td>Bachand</td>\n",
       "        <td>computer science</td>\n",
       "        <td>None</td>\n",
       "        <td>27</td>\n",
       "        <td>85</td>\n",
       "    </tr>\n",
       "    <tr>\n",
       "        <td>6245</td>\n",
       "        <td>Adelina</td>\n",
       "        <td>Brummitt</td>\n",
       "        <td>mathematics</td>\n",
       "        <td>None</td>\n",
       "        <td>67</td>\n",
       "        <td>99</td>\n",
       "    </tr>\n",
       "    <tr>\n",
       "        <td>7256</td>\n",
       "        <td>Rosalinda</td>\n",
       "        <td>Trippe</td>\n",
       "        <td>computer science</td>\n",
       "        <td>None</td>\n",
       "        <td>None</td>\n",
       "        <td>82</td>\n",
       "    </tr>\n",
       "    <tr>\n",
       "        <td>8911</td>\n",
       "        <td>Lottie</td>\n",
       "        <td>Champine</td>\n",
       "        <td>computer science</td>\n",
       "        <td>None</td>\n",
       "        <td>None</td>\n",
       "        <td>62</td>\n",
       "    </tr>\n",
       "</table>"
      ],
      "text/plain": [
       "[(2712, 'Starr', 'Bachand', 'computer science', None, 27, 85),\n",
       " (6245, 'Adelina', 'Brummitt', 'mathematics', None, 67, 99),\n",
       " (7256, 'Rosalinda', 'Trippe', 'computer science', None, None, 82),\n",
       " (8911, 'Lottie', 'Champine', 'computer science', None, None, 62)]"
      ]
     },
     "execution_count": 58,
     "metadata": {},
     "output_type": "execute_result"
    }
   ],
   "source": [
    "%%sql \n",
    "SELECT *\n",
    "FROM gradebook \n",
    "WHERE exam1 IS NULL"
   ]
  },
  {
   "cell_type": "code",
   "execution_count": 60,
   "id": "894687aa",
   "metadata": {},
   "outputs": [
    {
     "name": "stdout",
     "output_type": "stream",
     "text": [
      " * sqlite:///gradebook_data.sqlite\n",
      "   sqlite:///tiny.sqlite\n",
      "Done.\n"
     ]
    },
    {
     "data": {
      "text/html": [
       "<table>\n",
       "    <tr>\n",
       "        <th>student_id</th>\n",
       "        <th>first_name</th>\n",
       "        <th>last_name</th>\n",
       "        <th>major</th>\n",
       "        <th>exam1</th>\n",
       "        <th>exam2</th>\n",
       "        <th>exam3</th>\n",
       "    </tr>\n",
       "    <tr>\n",
       "        <td>3548</td>\n",
       "        <td>Marcia</td>\n",
       "        <td>Hinkel</td>\n",
       "        <td>biology</td>\n",
       "        <td>79</td>\n",
       "        <td>10</td>\n",
       "        <td>41</td>\n",
       "    </tr>\n",
       "    <tr>\n",
       "        <td>3877</td>\n",
       "        <td>Chu</td>\n",
       "        <td>Flax</td>\n",
       "        <td>mathematics</td>\n",
       "        <td>72</td>\n",
       "        <td>None</td>\n",
       "        <td>29</td>\n",
       "    </tr>\n",
       "    <tr>\n",
       "        <td>5108</td>\n",
       "        <td>Shawnna</td>\n",
       "        <td>Coate</td>\n",
       "        <td>computer science</td>\n",
       "        <td>79</td>\n",
       "        <td>96</td>\n",
       "        <td>61</td>\n",
       "    </tr>\n",
       "    <tr>\n",
       "        <td>5775</td>\n",
       "        <td>Rosina</td>\n",
       "        <td>Hovey</td>\n",
       "        <td>biology</td>\n",
       "        <td>96</td>\n",
       "        <td>13</td>\n",
       "        <td>99</td>\n",
       "    </tr>\n",
       "    <tr>\n",
       "        <td>5787</td>\n",
       "        <td>Tenisha</td>\n",
       "        <td>Rippel</td>\n",
       "        <td>computer science</td>\n",
       "        <td>27</td>\n",
       "        <td>54</td>\n",
       "        <td>79</td>\n",
       "    </tr>\n",
       "    <tr>\n",
       "        <td>7138</td>\n",
       "        <td>Fran</td>\n",
       "        <td>Mount</td>\n",
       "        <td>biology</td>\n",
       "        <td>71</td>\n",
       "        <td>5</td>\n",
       "        <td>80</td>\n",
       "    </tr>\n",
       "    <tr>\n",
       "        <td>9165</td>\n",
       "        <td>Ludivina</td>\n",
       "        <td>Hoskin</td>\n",
       "        <td>mathematics</td>\n",
       "        <td>27</td>\n",
       "        <td>55</td>\n",
       "        <td>None</td>\n",
       "    </tr>\n",
       "    <tr>\n",
       "        <td>9346</td>\n",
       "        <td>Stanton</td>\n",
       "        <td>Mcgaugh</td>\n",
       "        <td>computer science</td>\n",
       "        <td>6</td>\n",
       "        <td>60</td>\n",
       "        <td>40</td>\n",
       "    </tr>\n",
       "    <tr>\n",
       "        <td>9667</td>\n",
       "        <td>Jonnie</td>\n",
       "        <td>Hillock</td>\n",
       "        <td>mathematics</td>\n",
       "        <td>56</td>\n",
       "        <td>24</td>\n",
       "        <td>72</td>\n",
       "    </tr>\n",
       "</table>"
      ],
      "text/plain": [
       "[(3548, 'Marcia', 'Hinkel', 'biology', 79, 10, 41),\n",
       " (3877, 'Chu', 'Flax', 'mathematics', 72, None, 29),\n",
       " (5108, 'Shawnna', 'Coate', 'computer science', 79, 96, 61),\n",
       " (5775, 'Rosina', 'Hovey', 'biology', 96, 13, 99),\n",
       " (5787, 'Tenisha', 'Rippel', 'computer science', 27, 54, 79),\n",
       " (7138, 'Fran', 'Mount', 'biology', 71, 5, 80),\n",
       " (9165, 'Ludivina', 'Hoskin', 'mathematics', 27, 55, None),\n",
       " (9346, 'Stanton', 'Mcgaugh', 'computer science', 6, 60, 40),\n",
       " (9667, 'Jonnie', 'Hillock', 'mathematics', 56, 24, 72)]"
      ]
     },
     "execution_count": 60,
     "metadata": {},
     "output_type": "execute_result"
    }
   ],
   "source": [
    "%%sql \n",
    "SELECT * \n",
    "FROM gradebook\n",
    "WHERE exam1 IS NOT NULL"
   ]
  },
  {
   "cell_type": "code",
   "execution_count": 63,
   "id": "2df0bde2",
   "metadata": {},
   "outputs": [
    {
     "name": "stdout",
     "output_type": "stream",
     "text": [
      " * sqlite:///gradebook_data.sqlite\n",
      "   sqlite:///tiny.sqlite\n",
      "Done.\n"
     ]
    },
    {
     "data": {
      "text/html": [
       "<table>\n",
       "    <tr>\n",
       "        <th>student_id</th>\n",
       "        <th>first_name</th>\n",
       "        <th>last_name</th>\n",
       "        <th>major</th>\n",
       "        <th>exam1</th>\n",
       "        <th>exam2</th>\n",
       "        <th>exam3</th>\n",
       "    </tr>\n",
       "    <tr>\n",
       "        <td>3548</td>\n",
       "        <td>Marcia</td>\n",
       "        <td>Hinkel</td>\n",
       "        <td>biology</td>\n",
       "        <td>79</td>\n",
       "        <td>10</td>\n",
       "        <td>41</td>\n",
       "    </tr>\n",
       "    <tr>\n",
       "        <td>5787</td>\n",
       "        <td>Tenisha</td>\n",
       "        <td>Rippel</td>\n",
       "        <td>computer science</td>\n",
       "        <td>27</td>\n",
       "        <td>54</td>\n",
       "        <td>79</td>\n",
       "    </tr>\n",
       "    <tr>\n",
       "        <td>9165</td>\n",
       "        <td>Ludivina</td>\n",
       "        <td>Hoskin</td>\n",
       "        <td>mathematics</td>\n",
       "        <td>27</td>\n",
       "        <td>55</td>\n",
       "        <td>None</td>\n",
       "    </tr>\n",
       "    <tr>\n",
       "        <td>9667</td>\n",
       "        <td>Jonnie</td>\n",
       "        <td>Hillock</td>\n",
       "        <td>mathematics</td>\n",
       "        <td>56</td>\n",
       "        <td>24</td>\n",
       "        <td>72</td>\n",
       "    </tr>\n",
       "</table>"
      ],
      "text/plain": [
       "[(3548, 'Marcia', 'Hinkel', 'biology', 79, 10, 41),\n",
       " (5787, 'Tenisha', 'Rippel', 'computer science', 27, 54, 79),\n",
       " (9165, 'Ludivina', 'Hoskin', 'mathematics', 27, 55, None),\n",
       " (9667, 'Jonnie', 'Hillock', 'mathematics', 56, 24, 72)]"
      ]
     },
     "execution_count": 63,
     "metadata": {},
     "output_type": "execute_result"
    }
   ],
   "source": [
    "%%sql \n",
    "SELECT *\n",
    "FROM gradebook\n",
    "WHERE last_name GLOB '[HR]*i*'"
   ]
  },
  {
   "cell_type": "code",
   "execution_count": 64,
   "id": "177e0c23",
   "metadata": {},
   "outputs": [
    {
     "name": "stdout",
     "output_type": "stream",
     "text": [
      " * sqlite:///gradebook_data.sqlite\n",
      "   sqlite:///tiny.sqlite\n",
      "Done.\n"
     ]
    },
    {
     "data": {
      "text/html": [
       "<table>\n",
       "    <tr>\n",
       "        <th>student_id</th>\n",
       "        <th>first_name</th>\n",
       "        <th>last_name</th>\n",
       "        <th>major</th>\n",
       "        <th>exam1</th>\n",
       "        <th>exam2</th>\n",
       "        <th>exam3</th>\n",
       "    </tr>\n",
       "    <tr>\n",
       "        <td>3548</td>\n",
       "        <td>Marcia</td>\n",
       "        <td>Hinkel</td>\n",
       "        <td>biology</td>\n",
       "        <td>79</td>\n",
       "        <td>10</td>\n",
       "        <td>41</td>\n",
       "    </tr>\n",
       "    <tr>\n",
       "        <td>9667</td>\n",
       "        <td>Jonnie</td>\n",
       "        <td>Hillock</td>\n",
       "        <td>mathematics</td>\n",
       "        <td>56</td>\n",
       "        <td>24</td>\n",
       "        <td>72</td>\n",
       "    </tr>\n",
       "</table>"
      ],
      "text/plain": [
       "[(3548, 'Marcia', 'Hinkel', 'biology', 79, 10, 41),\n",
       " (9667, 'Jonnie', 'Hillock', 'mathematics', 56, 24, 72)]"
      ]
     },
     "execution_count": 64,
     "metadata": {},
     "output_type": "execute_result"
    }
   ],
   "source": [
    "%%sql \n",
    "SELECT *\n",
    "FROM gradebook\n",
    "WHERE last_name GLOB '[HR]*i*' AND exam1 > 50"
   ]
  },
  {
   "cell_type": "code",
   "execution_count": null,
   "id": "4a72561c",
   "metadata": {},
   "outputs": [],
   "source": []
  }
 ],
 "metadata": {
  "kernelspec": {
   "display_name": "Python 3 (ipykernel)",
   "language": "python",
   "name": "python3"
  },
  "language_info": {
   "codemirror_mode": {
    "name": "ipython",
    "version": 3
   },
   "file_extension": ".py",
   "mimetype": "text/x-python",
   "name": "python",
   "nbconvert_exporter": "python",
   "pygments_lexer": "ipython3",
   "version": "3.8.12"
  }
 },
 "nbformat": 4,
 "nbformat_minor": 5
}
