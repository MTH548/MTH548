{
 "cells": [
  {
   "cell_type": "markdown",
   "id": "macro-location",
   "metadata": {},
   "source": [
    "# Week 13"
   ]
  },
  {
   "cell_type": "markdown",
   "id": "hispanic-tsunami",
   "metadata": {},
   "source": [
    "## ipython-sql"
   ]
  },
  {
   "cell_type": "code",
   "execution_count": null,
   "id": "considered-patrol",
   "metadata": {},
   "outputs": [],
   "source": [
    "%pip install ipython-sql"
   ]
  },
  {
   "cell_type": "code",
   "execution_count": 1,
   "id": "indonesian-avatar",
   "metadata": {},
   "outputs": [],
   "source": [
    "%load_ext sql"
   ]
  },
  {
   "cell_type": "markdown",
   "id": "recent-evening",
   "metadata": {},
   "source": [
    "## SQL Basics"
   ]
  },
  {
   "cell_type": "markdown",
   "id": "worst-springfield",
   "metadata": {},
   "source": [
    "Connect to a database"
   ]
  },
  {
   "cell_type": "code",
   "execution_count": 2,
   "id": "revised-premises",
   "metadata": {},
   "outputs": [],
   "source": [
    "%%sql\n",
    "sqlite:///tiny.sqlite"
   ]
  },
  {
   "cell_type": "code",
   "execution_count": 3,
   "id": "intensive-subscriber",
   "metadata": {},
   "outputs": [
    {
     "name": "stdout",
     "output_type": "stream",
     "text": [
      " * sqlite:///tiny.sqlite\n",
      "Done.\n"
     ]
    },
    {
     "data": {
      "text/html": [
       "<table>\n",
       "    <tr>\n",
       "        <th>type</th>\n",
       "        <th>name</th>\n",
       "        <th>tbl_name</th>\n",
       "        <th>rootpage</th>\n",
       "        <th>sql</th>\n",
       "    </tr>\n",
       "</table>"
      ],
      "text/plain": [
       "[]"
      ]
     },
     "execution_count": 3,
     "metadata": {},
     "output_type": "execute_result"
    }
   ],
   "source": [
    "%%sql\n",
    "SELECT * \n",
    "FROM sqlite_master;"
   ]
  },
  {
   "cell_type": "code",
   "execution_count": 4,
   "id": "serious-terror",
   "metadata": {},
   "outputs": [
    {
     "name": "stdout",
     "output_type": "stream",
     "text": [
      " * sqlite:///tiny.sqlite\n",
      "Done.\n"
     ]
    },
    {
     "data": {
      "text/plain": [
       "[]"
      ]
     },
     "execution_count": 4,
     "metadata": {},
     "output_type": "execute_result"
    }
   ],
   "source": [
    "%%sql\n",
    "CREATE TABLE courses (\n",
    "    course_id TEXT NOT NULL PRIMARY KEY,\n",
    "    course_name TEXT, \n",
    "    credits INT );"
   ]
  },
  {
   "cell_type": "code",
   "execution_count": 5,
   "id": "thermal-purchase",
   "metadata": {},
   "outputs": [
    {
     "name": "stdout",
     "output_type": "stream",
     "text": [
      " * sqlite:///tiny.sqlite\n",
      "Done.\n"
     ]
    },
    {
     "data": {
      "text/html": [
       "<table>\n",
       "    <tr>\n",
       "        <th>type</th>\n",
       "        <th>name</th>\n",
       "        <th>tbl_name</th>\n",
       "        <th>rootpage</th>\n",
       "        <th>sql</th>\n",
       "    </tr>\n",
       "    <tr>\n",
       "        <td>table</td>\n",
       "        <td>courses</td>\n",
       "        <td>courses</td>\n",
       "        <td>2</td>\n",
       "        <td>CREATE TABLE courses (<br>    course_id TEXT NOT NULL PRIMARY KEY,<br>    course_name TEXT, <br>    credits INT )</td>\n",
       "    </tr>\n",
       "    <tr>\n",
       "        <td>index</td>\n",
       "        <td>sqlite_autoindex_courses_1</td>\n",
       "        <td>courses</td>\n",
       "        <td>3</td>\n",
       "        <td>None</td>\n",
       "    </tr>\n",
       "</table>"
      ],
      "text/plain": [
       "[('table', 'courses', 'courses', 2, 'CREATE TABLE courses (\\n    course_id TEXT NOT NULL PRIMARY KEY,\\n    course_name TEXT, \\n    credits INT )'),\n",
       " ('index', 'sqlite_autoindex_courses_1', 'courses', 3, None)]"
      ]
     },
     "execution_count": 5,
     "metadata": {},
     "output_type": "execute_result"
    }
   ],
   "source": [
    "%%sql\n",
    "SELECT * \n",
    "FROM sqlite_master;"
   ]
  },
  {
   "cell_type": "code",
   "execution_count": 19,
   "id": "august-logan",
   "metadata": {},
   "outputs": [
    {
     "name": "stdout",
     "output_type": "stream",
     "text": [
      " * sqlite:///tiny.sqlite\n",
      "Done.\n"
     ]
    },
    {
     "data": {
      "text/html": [
       "<table>\n",
       "    <tr>\n",
       "        <th>course_id</th>\n",
       "        <th>course_name</th>\n",
       "        <th>credits</th>\n",
       "    </tr>\n",
       "</table>"
      ],
      "text/plain": [
       "[]"
      ]
     },
     "execution_count": 19,
     "metadata": {},
     "output_type": "execute_result"
    }
   ],
   "source": [
    "%%sql\n",
    "SELECT * \n",
    "FROM courses;"
   ]
  },
  {
   "cell_type": "code",
   "execution_count": 20,
   "id": "comfortable-vacation",
   "metadata": {},
   "outputs": [
    {
     "name": "stdout",
     "output_type": "stream",
     "text": [
      " * sqlite:///tiny.sqlite\n",
      "1 rows affected.\n"
     ]
    },
    {
     "data": {
      "text/plain": [
       "[]"
      ]
     },
     "execution_count": 20,
     "metadata": {},
     "output_type": "execute_result"
    }
   ],
   "source": [
    "%%sql \n",
    "INSERT INTO courses (course_id, course_name, credits)\n",
    "VALUES ('MTH 141', 'Calculus I', 4);"
   ]
  },
  {
   "cell_type": "code",
   "execution_count": 21,
   "id": "cheap-remainder",
   "metadata": {},
   "outputs": [
    {
     "name": "stdout",
     "output_type": "stream",
     "text": [
      " * sqlite:///tiny.sqlite\n",
      "Done.\n"
     ]
    },
    {
     "data": {
      "text/html": [
       "<table>\n",
       "    <tr>\n",
       "        <th>course_id</th>\n",
       "        <th>course_name</th>\n",
       "        <th>credits</th>\n",
       "    </tr>\n",
       "    <tr>\n",
       "        <td>MTH 141</td>\n",
       "        <td>Calculus I</td>\n",
       "        <td>4</td>\n",
       "    </tr>\n",
       "</table>"
      ],
      "text/plain": [
       "[('MTH 141', 'Calculus I', 4)]"
      ]
     },
     "execution_count": 21,
     "metadata": {},
     "output_type": "execute_result"
    }
   ],
   "source": [
    "%%sql\n",
    "SELECT * \n",
    "FROM courses;"
   ]
  },
  {
   "cell_type": "code",
   "execution_count": 22,
   "id": "unable-basement",
   "metadata": {},
   "outputs": [
    {
     "name": "stdout",
     "output_type": "stream",
     "text": [
      " * sqlite:///tiny.sqlite\n",
      "1 rows affected.\n",
      "Done.\n"
     ]
    },
    {
     "data": {
      "text/html": [
       "<table>\n",
       "    <tr>\n",
       "        <th>course_id</th>\n",
       "        <th>course_name</th>\n",
       "        <th>credits</th>\n",
       "    </tr>\n",
       "    <tr>\n",
       "        <td>MTH 141</td>\n",
       "        <td>Calculus I</td>\n",
       "        <td>4</td>\n",
       "    </tr>\n",
       "    <tr>\n",
       "        <td>MTH 309</td>\n",
       "        <td>Linear Algebra</td>\n",
       "        <td>None</td>\n",
       "    </tr>\n",
       "</table>"
      ],
      "text/plain": [
       "[('MTH 141', 'Calculus I', 4), ('MTH 309', 'Linear Algebra', None)]"
      ]
     },
     "execution_count": 22,
     "metadata": {},
     "output_type": "execute_result"
    }
   ],
   "source": [
    "%%sql \n",
    "INSERT INTO courses (course_id, course_name)\n",
    "VALUES ('MTH 309', 'Linear Algebra');\n",
    "\n",
    "SELECT * \n",
    "FROM courses;"
   ]
  },
  {
   "cell_type": "code",
   "execution_count": 23,
   "id": "stunning-ladder",
   "metadata": {},
   "outputs": [
    {
     "name": "stdout",
     "output_type": "stream",
     "text": [
      " * sqlite:///tiny.sqlite\n"
     ]
    },
    {
     "ename": "IntegrityError",
     "evalue": "(sqlite3.IntegrityError) UNIQUE constraint failed: courses.course_id\n[SQL: INSERT INTO courses (course_id, course_name)\nVALUES ('MTH 309', 'Linear Algebra');]\n(Background on this error at: http://sqlalche.me/e/13/gkpj)",
     "output_type": "error",
     "traceback": [
      "\u001b[0;31m---------------------------------------------------------------------------\u001b[0m",
      "\u001b[0;31mIntegrityError\u001b[0m                            Traceback (most recent call last)",
      "\u001b[0;32m~/opt/anaconda3/lib/python3.8/site-packages/sqlalchemy/engine/base.py\u001b[0m in \u001b[0;36m_execute_context\u001b[0;34m(self, dialect, constructor, statement, parameters, *args)\u001b[0m\n\u001b[1;32m   1275\u001b[0m                 \u001b[0;32mif\u001b[0m \u001b[0;32mnot\u001b[0m \u001b[0mevt_handled\u001b[0m\u001b[0;34m:\u001b[0m\u001b[0;34m\u001b[0m\u001b[0;34m\u001b[0m\u001b[0m\n\u001b[0;32m-> 1276\u001b[0;31m                     self.dialect.do_execute(\n\u001b[0m\u001b[1;32m   1277\u001b[0m                         \u001b[0mcursor\u001b[0m\u001b[0;34m,\u001b[0m \u001b[0mstatement\u001b[0m\u001b[0;34m,\u001b[0m \u001b[0mparameters\u001b[0m\u001b[0;34m,\u001b[0m \u001b[0mcontext\u001b[0m\u001b[0;34m\u001b[0m\u001b[0;34m\u001b[0m\u001b[0m\n",
      "\u001b[0;32m~/opt/anaconda3/lib/python3.8/site-packages/sqlalchemy/engine/default.py\u001b[0m in \u001b[0;36mdo_execute\u001b[0;34m(self, cursor, statement, parameters, context)\u001b[0m\n\u001b[1;32m    592\u001b[0m     \u001b[0;32mdef\u001b[0m \u001b[0mdo_execute\u001b[0m\u001b[0;34m(\u001b[0m\u001b[0mself\u001b[0m\u001b[0;34m,\u001b[0m \u001b[0mcursor\u001b[0m\u001b[0;34m,\u001b[0m \u001b[0mstatement\u001b[0m\u001b[0;34m,\u001b[0m \u001b[0mparameters\u001b[0m\u001b[0;34m,\u001b[0m \u001b[0mcontext\u001b[0m\u001b[0;34m=\u001b[0m\u001b[0;32mNone\u001b[0m\u001b[0;34m)\u001b[0m\u001b[0;34m:\u001b[0m\u001b[0;34m\u001b[0m\u001b[0;34m\u001b[0m\u001b[0m\n\u001b[0;32m--> 593\u001b[0;31m         \u001b[0mcursor\u001b[0m\u001b[0;34m.\u001b[0m\u001b[0mexecute\u001b[0m\u001b[0;34m(\u001b[0m\u001b[0mstatement\u001b[0m\u001b[0;34m,\u001b[0m \u001b[0mparameters\u001b[0m\u001b[0;34m)\u001b[0m\u001b[0;34m\u001b[0m\u001b[0;34m\u001b[0m\u001b[0m\n\u001b[0m\u001b[1;32m    594\u001b[0m \u001b[0;34m\u001b[0m\u001b[0m\n",
      "\u001b[0;31mIntegrityError\u001b[0m: UNIQUE constraint failed: courses.course_id",
      "\nThe above exception was the direct cause of the following exception:\n",
      "\u001b[0;31mIntegrityError\u001b[0m                            Traceback (most recent call last)",
      "\u001b[0;32m<ipython-input-23-ee87404094bd>\u001b[0m in \u001b[0;36m<module>\u001b[0;34m\u001b[0m\n\u001b[0;32m----> 1\u001b[0;31m \u001b[0mget_ipython\u001b[0m\u001b[0;34m(\u001b[0m\u001b[0;34m)\u001b[0m\u001b[0;34m.\u001b[0m\u001b[0mrun_cell_magic\u001b[0m\u001b[0;34m(\u001b[0m\u001b[0;34m'sql'\u001b[0m\u001b[0;34m,\u001b[0m \u001b[0;34m''\u001b[0m\u001b[0;34m,\u001b[0m \u001b[0;34m\"INSERT INTO courses (course_id, course_name)\\nVALUES ('MTH 309', 'Linear Algebra');\\n\\nSELECT * \\nFROM courses;\\n\"\u001b[0m\u001b[0;34m)\u001b[0m\u001b[0;34m\u001b[0m\u001b[0;34m\u001b[0m\u001b[0m\n\u001b[0m",
      "\u001b[0;32m~/opt/anaconda3/lib/python3.8/site-packages/IPython/core/interactiveshell.py\u001b[0m in \u001b[0;36mrun_cell_magic\u001b[0;34m(self, magic_name, line, cell)\u001b[0m\n\u001b[1;32m   2380\u001b[0m             \u001b[0;32mwith\u001b[0m \u001b[0mself\u001b[0m\u001b[0;34m.\u001b[0m\u001b[0mbuiltin_trap\u001b[0m\u001b[0;34m:\u001b[0m\u001b[0;34m\u001b[0m\u001b[0;34m\u001b[0m\u001b[0m\n\u001b[1;32m   2381\u001b[0m                 \u001b[0margs\u001b[0m \u001b[0;34m=\u001b[0m \u001b[0;34m(\u001b[0m\u001b[0mmagic_arg_s\u001b[0m\u001b[0;34m,\u001b[0m \u001b[0mcell\u001b[0m\u001b[0;34m)\u001b[0m\u001b[0;34m\u001b[0m\u001b[0;34m\u001b[0m\u001b[0m\n\u001b[0;32m-> 2382\u001b[0;31m                 \u001b[0mresult\u001b[0m \u001b[0;34m=\u001b[0m \u001b[0mfn\u001b[0m\u001b[0;34m(\u001b[0m\u001b[0;34m*\u001b[0m\u001b[0margs\u001b[0m\u001b[0;34m,\u001b[0m \u001b[0;34m**\u001b[0m\u001b[0mkwargs\u001b[0m\u001b[0;34m)\u001b[0m\u001b[0;34m\u001b[0m\u001b[0;34m\u001b[0m\u001b[0m\n\u001b[0m\u001b[1;32m   2383\u001b[0m             \u001b[0;32mreturn\u001b[0m \u001b[0mresult\u001b[0m\u001b[0;34m\u001b[0m\u001b[0;34m\u001b[0m\u001b[0m\n\u001b[1;32m   2384\u001b[0m \u001b[0;34m\u001b[0m\u001b[0m\n",
      "\u001b[0;32m<decorator-gen-118>\u001b[0m in \u001b[0;36mexecute\u001b[0;34m(self, line, cell, local_ns)\u001b[0m\n",
      "\u001b[0;32m~/opt/anaconda3/lib/python3.8/site-packages/IPython/core/magic.py\u001b[0m in \u001b[0;36m<lambda>\u001b[0;34m(f, *a, **k)\u001b[0m\n\u001b[1;32m    185\u001b[0m     \u001b[0;31m# but it's overkill for just that one bit of state.\u001b[0m\u001b[0;34m\u001b[0m\u001b[0;34m\u001b[0m\u001b[0;34m\u001b[0m\u001b[0m\n\u001b[1;32m    186\u001b[0m     \u001b[0;32mdef\u001b[0m \u001b[0mmagic_deco\u001b[0m\u001b[0;34m(\u001b[0m\u001b[0marg\u001b[0m\u001b[0;34m)\u001b[0m\u001b[0;34m:\u001b[0m\u001b[0;34m\u001b[0m\u001b[0;34m\u001b[0m\u001b[0m\n\u001b[0;32m--> 187\u001b[0;31m         \u001b[0mcall\u001b[0m \u001b[0;34m=\u001b[0m \u001b[0;32mlambda\u001b[0m \u001b[0mf\u001b[0m\u001b[0;34m,\u001b[0m \u001b[0;34m*\u001b[0m\u001b[0ma\u001b[0m\u001b[0;34m,\u001b[0m \u001b[0;34m**\u001b[0m\u001b[0mk\u001b[0m\u001b[0;34m:\u001b[0m \u001b[0mf\u001b[0m\u001b[0;34m(\u001b[0m\u001b[0;34m*\u001b[0m\u001b[0ma\u001b[0m\u001b[0;34m,\u001b[0m \u001b[0;34m**\u001b[0m\u001b[0mk\u001b[0m\u001b[0;34m)\u001b[0m\u001b[0;34m\u001b[0m\u001b[0;34m\u001b[0m\u001b[0m\n\u001b[0m\u001b[1;32m    188\u001b[0m \u001b[0;34m\u001b[0m\u001b[0m\n\u001b[1;32m    189\u001b[0m         \u001b[0;32mif\u001b[0m \u001b[0mcallable\u001b[0m\u001b[0;34m(\u001b[0m\u001b[0marg\u001b[0m\u001b[0;34m)\u001b[0m\u001b[0;34m:\u001b[0m\u001b[0;34m\u001b[0m\u001b[0;34m\u001b[0m\u001b[0m\n",
      "\u001b[0;32m<decorator-gen-117>\u001b[0m in \u001b[0;36mexecute\u001b[0;34m(self, line, cell, local_ns)\u001b[0m\n",
      "\u001b[0;32m~/opt/anaconda3/lib/python3.8/site-packages/IPython/core/magic.py\u001b[0m in \u001b[0;36m<lambda>\u001b[0;34m(f, *a, **k)\u001b[0m\n\u001b[1;32m    185\u001b[0m     \u001b[0;31m# but it's overkill for just that one bit of state.\u001b[0m\u001b[0;34m\u001b[0m\u001b[0;34m\u001b[0m\u001b[0;34m\u001b[0m\u001b[0m\n\u001b[1;32m    186\u001b[0m     \u001b[0;32mdef\u001b[0m \u001b[0mmagic_deco\u001b[0m\u001b[0;34m(\u001b[0m\u001b[0marg\u001b[0m\u001b[0;34m)\u001b[0m\u001b[0;34m:\u001b[0m\u001b[0;34m\u001b[0m\u001b[0;34m\u001b[0m\u001b[0m\n\u001b[0;32m--> 187\u001b[0;31m         \u001b[0mcall\u001b[0m \u001b[0;34m=\u001b[0m \u001b[0;32mlambda\u001b[0m \u001b[0mf\u001b[0m\u001b[0;34m,\u001b[0m \u001b[0;34m*\u001b[0m\u001b[0ma\u001b[0m\u001b[0;34m,\u001b[0m \u001b[0;34m**\u001b[0m\u001b[0mk\u001b[0m\u001b[0;34m:\u001b[0m \u001b[0mf\u001b[0m\u001b[0;34m(\u001b[0m\u001b[0;34m*\u001b[0m\u001b[0ma\u001b[0m\u001b[0;34m,\u001b[0m \u001b[0;34m**\u001b[0m\u001b[0mk\u001b[0m\u001b[0;34m)\u001b[0m\u001b[0;34m\u001b[0m\u001b[0;34m\u001b[0m\u001b[0m\n\u001b[0m\u001b[1;32m    188\u001b[0m \u001b[0;34m\u001b[0m\u001b[0m\n\u001b[1;32m    189\u001b[0m         \u001b[0;32mif\u001b[0m \u001b[0mcallable\u001b[0m\u001b[0;34m(\u001b[0m\u001b[0marg\u001b[0m\u001b[0;34m)\u001b[0m\u001b[0;34m:\u001b[0m\u001b[0;34m\u001b[0m\u001b[0;34m\u001b[0m\u001b[0m\n",
      "\u001b[0;32m~/opt/anaconda3/lib/python3.8/site-packages/sql/magic.py\u001b[0m in \u001b[0;36mexecute\u001b[0;34m(self, line, cell, local_ns)\u001b[0m\n\u001b[1;32m    215\u001b[0m \u001b[0;34m\u001b[0m\u001b[0m\n\u001b[1;32m    216\u001b[0m         \u001b[0;32mtry\u001b[0m\u001b[0;34m:\u001b[0m\u001b[0;34m\u001b[0m\u001b[0;34m\u001b[0m\u001b[0m\n\u001b[0;32m--> 217\u001b[0;31m             \u001b[0mresult\u001b[0m \u001b[0;34m=\u001b[0m \u001b[0msql\u001b[0m\u001b[0;34m.\u001b[0m\u001b[0mrun\u001b[0m\u001b[0;34m.\u001b[0m\u001b[0mrun\u001b[0m\u001b[0;34m(\u001b[0m\u001b[0mconn\u001b[0m\u001b[0;34m,\u001b[0m \u001b[0mparsed\u001b[0m\u001b[0;34m[\u001b[0m\u001b[0;34m\"sql\"\u001b[0m\u001b[0;34m]\u001b[0m\u001b[0;34m,\u001b[0m \u001b[0mself\u001b[0m\u001b[0;34m,\u001b[0m \u001b[0muser_ns\u001b[0m\u001b[0;34m)\u001b[0m\u001b[0;34m\u001b[0m\u001b[0;34m\u001b[0m\u001b[0m\n\u001b[0m\u001b[1;32m    218\u001b[0m \u001b[0;34m\u001b[0m\u001b[0m\n\u001b[1;32m    219\u001b[0m             if (\n",
      "\u001b[0;32m~/opt/anaconda3/lib/python3.8/site-packages/sql/run.py\u001b[0m in \u001b[0;36mrun\u001b[0;34m(conn, sql, config, user_namespace)\u001b[0m\n\u001b[1;32m    365\u001b[0m             \u001b[0;32melse\u001b[0m\u001b[0;34m:\u001b[0m\u001b[0;34m\u001b[0m\u001b[0;34m\u001b[0m\u001b[0m\n\u001b[1;32m    366\u001b[0m                 \u001b[0mtxt\u001b[0m \u001b[0;34m=\u001b[0m \u001b[0msqlalchemy\u001b[0m\u001b[0;34m.\u001b[0m\u001b[0msql\u001b[0m\u001b[0;34m.\u001b[0m\u001b[0mtext\u001b[0m\u001b[0;34m(\u001b[0m\u001b[0mstatement\u001b[0m\u001b[0;34m)\u001b[0m\u001b[0;34m\u001b[0m\u001b[0;34m\u001b[0m\u001b[0m\n\u001b[0;32m--> 367\u001b[0;31m                 \u001b[0mresult\u001b[0m \u001b[0;34m=\u001b[0m \u001b[0mconn\u001b[0m\u001b[0;34m.\u001b[0m\u001b[0msession\u001b[0m\u001b[0;34m.\u001b[0m\u001b[0mexecute\u001b[0m\u001b[0;34m(\u001b[0m\u001b[0mtxt\u001b[0m\u001b[0;34m,\u001b[0m \u001b[0muser_namespace\u001b[0m\u001b[0;34m)\u001b[0m\u001b[0;34m\u001b[0m\u001b[0;34m\u001b[0m\u001b[0m\n\u001b[0m\u001b[1;32m    368\u001b[0m             \u001b[0m_commit\u001b[0m\u001b[0;34m(\u001b[0m\u001b[0mconn\u001b[0m\u001b[0;34m=\u001b[0m\u001b[0mconn\u001b[0m\u001b[0;34m,\u001b[0m \u001b[0mconfig\u001b[0m\u001b[0;34m=\u001b[0m\u001b[0mconfig\u001b[0m\u001b[0;34m)\u001b[0m\u001b[0;34m\u001b[0m\u001b[0;34m\u001b[0m\u001b[0m\n\u001b[1;32m    369\u001b[0m             \u001b[0;32mif\u001b[0m \u001b[0mresult\u001b[0m \u001b[0;32mand\u001b[0m \u001b[0mconfig\u001b[0m\u001b[0;34m.\u001b[0m\u001b[0mfeedback\u001b[0m\u001b[0;34m:\u001b[0m\u001b[0;34m\u001b[0m\u001b[0;34m\u001b[0m\u001b[0m\n",
      "\u001b[0;32m~/opt/anaconda3/lib/python3.8/site-packages/sqlalchemy/engine/base.py\u001b[0m in \u001b[0;36mexecute\u001b[0;34m(self, object_, *multiparams, **params)\u001b[0m\n\u001b[1;32m   1009\u001b[0m             )\n\u001b[1;32m   1010\u001b[0m         \u001b[0;32melse\u001b[0m\u001b[0;34m:\u001b[0m\u001b[0;34m\u001b[0m\u001b[0;34m\u001b[0m\u001b[0m\n\u001b[0;32m-> 1011\u001b[0;31m             \u001b[0;32mreturn\u001b[0m \u001b[0mmeth\u001b[0m\u001b[0;34m(\u001b[0m\u001b[0mself\u001b[0m\u001b[0;34m,\u001b[0m \u001b[0mmultiparams\u001b[0m\u001b[0;34m,\u001b[0m \u001b[0mparams\u001b[0m\u001b[0;34m)\u001b[0m\u001b[0;34m\u001b[0m\u001b[0;34m\u001b[0m\u001b[0m\n\u001b[0m\u001b[1;32m   1012\u001b[0m \u001b[0;34m\u001b[0m\u001b[0m\n\u001b[1;32m   1013\u001b[0m     \u001b[0;32mdef\u001b[0m \u001b[0m_execute_function\u001b[0m\u001b[0;34m(\u001b[0m\u001b[0mself\u001b[0m\u001b[0;34m,\u001b[0m \u001b[0mfunc\u001b[0m\u001b[0;34m,\u001b[0m \u001b[0mmultiparams\u001b[0m\u001b[0;34m,\u001b[0m \u001b[0mparams\u001b[0m\u001b[0;34m)\u001b[0m\u001b[0;34m:\u001b[0m\u001b[0;34m\u001b[0m\u001b[0;34m\u001b[0m\u001b[0m\n",
      "\u001b[0;32m~/opt/anaconda3/lib/python3.8/site-packages/sqlalchemy/sql/elements.py\u001b[0m in \u001b[0;36m_execute_on_connection\u001b[0;34m(self, connection, multiparams, params)\u001b[0m\n\u001b[1;32m    296\u001b[0m     \u001b[0;32mdef\u001b[0m \u001b[0m_execute_on_connection\u001b[0m\u001b[0;34m(\u001b[0m\u001b[0mself\u001b[0m\u001b[0;34m,\u001b[0m \u001b[0mconnection\u001b[0m\u001b[0;34m,\u001b[0m \u001b[0mmultiparams\u001b[0m\u001b[0;34m,\u001b[0m \u001b[0mparams\u001b[0m\u001b[0;34m)\u001b[0m\u001b[0;34m:\u001b[0m\u001b[0;34m\u001b[0m\u001b[0;34m\u001b[0m\u001b[0m\n\u001b[1;32m    297\u001b[0m         \u001b[0;32mif\u001b[0m \u001b[0mself\u001b[0m\u001b[0;34m.\u001b[0m\u001b[0msupports_execution\u001b[0m\u001b[0;34m:\u001b[0m\u001b[0;34m\u001b[0m\u001b[0;34m\u001b[0m\u001b[0m\n\u001b[0;32m--> 298\u001b[0;31m             \u001b[0;32mreturn\u001b[0m \u001b[0mconnection\u001b[0m\u001b[0;34m.\u001b[0m\u001b[0m_execute_clauseelement\u001b[0m\u001b[0;34m(\u001b[0m\u001b[0mself\u001b[0m\u001b[0;34m,\u001b[0m \u001b[0mmultiparams\u001b[0m\u001b[0;34m,\u001b[0m \u001b[0mparams\u001b[0m\u001b[0;34m)\u001b[0m\u001b[0;34m\u001b[0m\u001b[0;34m\u001b[0m\u001b[0m\n\u001b[0m\u001b[1;32m    299\u001b[0m         \u001b[0;32melse\u001b[0m\u001b[0;34m:\u001b[0m\u001b[0;34m\u001b[0m\u001b[0;34m\u001b[0m\u001b[0m\n\u001b[1;32m    300\u001b[0m             \u001b[0;32mraise\u001b[0m \u001b[0mexc\u001b[0m\u001b[0;34m.\u001b[0m\u001b[0mObjectNotExecutableError\u001b[0m\u001b[0;34m(\u001b[0m\u001b[0mself\u001b[0m\u001b[0;34m)\u001b[0m\u001b[0;34m\u001b[0m\u001b[0;34m\u001b[0m\u001b[0m\n",
      "\u001b[0;32m~/opt/anaconda3/lib/python3.8/site-packages/sqlalchemy/engine/base.py\u001b[0m in \u001b[0;36m_execute_clauseelement\u001b[0;34m(self, elem, multiparams, params)\u001b[0m\n\u001b[1;32m   1122\u001b[0m             )\n\u001b[1;32m   1123\u001b[0m \u001b[0;34m\u001b[0m\u001b[0m\n\u001b[0;32m-> 1124\u001b[0;31m         ret = self._execute_context(\n\u001b[0m\u001b[1;32m   1125\u001b[0m             \u001b[0mdialect\u001b[0m\u001b[0;34m,\u001b[0m\u001b[0;34m\u001b[0m\u001b[0;34m\u001b[0m\u001b[0m\n\u001b[1;32m   1126\u001b[0m             \u001b[0mdialect\u001b[0m\u001b[0;34m.\u001b[0m\u001b[0mexecution_ctx_cls\u001b[0m\u001b[0;34m.\u001b[0m\u001b[0m_init_compiled\u001b[0m\u001b[0;34m,\u001b[0m\u001b[0;34m\u001b[0m\u001b[0;34m\u001b[0m\u001b[0m\n",
      "\u001b[0;32m~/opt/anaconda3/lib/python3.8/site-packages/sqlalchemy/engine/base.py\u001b[0m in \u001b[0;36m_execute_context\u001b[0;34m(self, dialect, constructor, statement, parameters, *args)\u001b[0m\n\u001b[1;32m   1314\u001b[0m \u001b[0;34m\u001b[0m\u001b[0m\n\u001b[1;32m   1315\u001b[0m         \u001b[0;32mexcept\u001b[0m \u001b[0mBaseException\u001b[0m \u001b[0;32mas\u001b[0m \u001b[0me\u001b[0m\u001b[0;34m:\u001b[0m\u001b[0;34m\u001b[0m\u001b[0;34m\u001b[0m\u001b[0m\n\u001b[0;32m-> 1316\u001b[0;31m             self._handle_dbapi_exception(\n\u001b[0m\u001b[1;32m   1317\u001b[0m                 \u001b[0me\u001b[0m\u001b[0;34m,\u001b[0m \u001b[0mstatement\u001b[0m\u001b[0;34m,\u001b[0m \u001b[0mparameters\u001b[0m\u001b[0;34m,\u001b[0m \u001b[0mcursor\u001b[0m\u001b[0;34m,\u001b[0m \u001b[0mcontext\u001b[0m\u001b[0;34m\u001b[0m\u001b[0;34m\u001b[0m\u001b[0m\n\u001b[1;32m   1318\u001b[0m             )\n",
      "\u001b[0;32m~/opt/anaconda3/lib/python3.8/site-packages/sqlalchemy/engine/base.py\u001b[0m in \u001b[0;36m_handle_dbapi_exception\u001b[0;34m(self, e, statement, parameters, cursor, context)\u001b[0m\n\u001b[1;32m   1508\u001b[0m                 \u001b[0mutil\u001b[0m\u001b[0;34m.\u001b[0m\u001b[0mraise_\u001b[0m\u001b[0;34m(\u001b[0m\u001b[0mnewraise\u001b[0m\u001b[0;34m,\u001b[0m \u001b[0mwith_traceback\u001b[0m\u001b[0;34m=\u001b[0m\u001b[0mexc_info\u001b[0m\u001b[0;34m[\u001b[0m\u001b[0;36m2\u001b[0m\u001b[0;34m]\u001b[0m\u001b[0;34m,\u001b[0m \u001b[0mfrom_\u001b[0m\u001b[0;34m=\u001b[0m\u001b[0me\u001b[0m\u001b[0;34m)\u001b[0m\u001b[0;34m\u001b[0m\u001b[0;34m\u001b[0m\u001b[0m\n\u001b[1;32m   1509\u001b[0m             \u001b[0;32melif\u001b[0m \u001b[0mshould_wrap\u001b[0m\u001b[0;34m:\u001b[0m\u001b[0;34m\u001b[0m\u001b[0;34m\u001b[0m\u001b[0m\n\u001b[0;32m-> 1510\u001b[0;31m                 util.raise_(\n\u001b[0m\u001b[1;32m   1511\u001b[0m                     \u001b[0msqlalchemy_exception\u001b[0m\u001b[0;34m,\u001b[0m \u001b[0mwith_traceback\u001b[0m\u001b[0;34m=\u001b[0m\u001b[0mexc_info\u001b[0m\u001b[0;34m[\u001b[0m\u001b[0;36m2\u001b[0m\u001b[0;34m]\u001b[0m\u001b[0;34m,\u001b[0m \u001b[0mfrom_\u001b[0m\u001b[0;34m=\u001b[0m\u001b[0me\u001b[0m\u001b[0;34m\u001b[0m\u001b[0;34m\u001b[0m\u001b[0m\n\u001b[1;32m   1512\u001b[0m                 )\n",
      "\u001b[0;32m~/opt/anaconda3/lib/python3.8/site-packages/sqlalchemy/util/compat.py\u001b[0m in \u001b[0;36mraise_\u001b[0;34m(***failed resolving arguments***)\u001b[0m\n\u001b[1;32m    180\u001b[0m \u001b[0;34m\u001b[0m\u001b[0m\n\u001b[1;32m    181\u001b[0m         \u001b[0;32mtry\u001b[0m\u001b[0;34m:\u001b[0m\u001b[0;34m\u001b[0m\u001b[0;34m\u001b[0m\u001b[0m\n\u001b[0;32m--> 182\u001b[0;31m             \u001b[0;32mraise\u001b[0m \u001b[0mexception\u001b[0m\u001b[0;34m\u001b[0m\u001b[0;34m\u001b[0m\u001b[0m\n\u001b[0m\u001b[1;32m    183\u001b[0m         \u001b[0;32mfinally\u001b[0m\u001b[0;34m:\u001b[0m\u001b[0;34m\u001b[0m\u001b[0;34m\u001b[0m\u001b[0m\n\u001b[1;32m    184\u001b[0m             \u001b[0;31m# credit to\u001b[0m\u001b[0;34m\u001b[0m\u001b[0;34m\u001b[0m\u001b[0;34m\u001b[0m\u001b[0m\n",
      "\u001b[0;32m~/opt/anaconda3/lib/python3.8/site-packages/sqlalchemy/engine/base.py\u001b[0m in \u001b[0;36m_execute_context\u001b[0;34m(self, dialect, constructor, statement, parameters, *args)\u001b[0m\n\u001b[1;32m   1274\u001b[0m                             \u001b[0;32mbreak\u001b[0m\u001b[0;34m\u001b[0m\u001b[0;34m\u001b[0m\u001b[0m\n\u001b[1;32m   1275\u001b[0m                 \u001b[0;32mif\u001b[0m \u001b[0;32mnot\u001b[0m \u001b[0mevt_handled\u001b[0m\u001b[0;34m:\u001b[0m\u001b[0;34m\u001b[0m\u001b[0;34m\u001b[0m\u001b[0m\n\u001b[0;32m-> 1276\u001b[0;31m                     self.dialect.do_execute(\n\u001b[0m\u001b[1;32m   1277\u001b[0m                         \u001b[0mcursor\u001b[0m\u001b[0;34m,\u001b[0m \u001b[0mstatement\u001b[0m\u001b[0;34m,\u001b[0m \u001b[0mparameters\u001b[0m\u001b[0;34m,\u001b[0m \u001b[0mcontext\u001b[0m\u001b[0;34m\u001b[0m\u001b[0;34m\u001b[0m\u001b[0m\n\u001b[1;32m   1278\u001b[0m                     )\n",
      "\u001b[0;32m~/opt/anaconda3/lib/python3.8/site-packages/sqlalchemy/engine/default.py\u001b[0m in \u001b[0;36mdo_execute\u001b[0;34m(self, cursor, statement, parameters, context)\u001b[0m\n\u001b[1;32m    591\u001b[0m \u001b[0;34m\u001b[0m\u001b[0m\n\u001b[1;32m    592\u001b[0m     \u001b[0;32mdef\u001b[0m \u001b[0mdo_execute\u001b[0m\u001b[0;34m(\u001b[0m\u001b[0mself\u001b[0m\u001b[0;34m,\u001b[0m \u001b[0mcursor\u001b[0m\u001b[0;34m,\u001b[0m \u001b[0mstatement\u001b[0m\u001b[0;34m,\u001b[0m \u001b[0mparameters\u001b[0m\u001b[0;34m,\u001b[0m \u001b[0mcontext\u001b[0m\u001b[0;34m=\u001b[0m\u001b[0;32mNone\u001b[0m\u001b[0;34m)\u001b[0m\u001b[0;34m:\u001b[0m\u001b[0;34m\u001b[0m\u001b[0;34m\u001b[0m\u001b[0m\n\u001b[0;32m--> 593\u001b[0;31m         \u001b[0mcursor\u001b[0m\u001b[0;34m.\u001b[0m\u001b[0mexecute\u001b[0m\u001b[0;34m(\u001b[0m\u001b[0mstatement\u001b[0m\u001b[0;34m,\u001b[0m \u001b[0mparameters\u001b[0m\u001b[0;34m)\u001b[0m\u001b[0;34m\u001b[0m\u001b[0;34m\u001b[0m\u001b[0m\n\u001b[0m\u001b[1;32m    594\u001b[0m \u001b[0;34m\u001b[0m\u001b[0m\n\u001b[1;32m    595\u001b[0m     \u001b[0;32mdef\u001b[0m \u001b[0mdo_execute_no_params\u001b[0m\u001b[0;34m(\u001b[0m\u001b[0mself\u001b[0m\u001b[0;34m,\u001b[0m \u001b[0mcursor\u001b[0m\u001b[0;34m,\u001b[0m \u001b[0mstatement\u001b[0m\u001b[0;34m,\u001b[0m \u001b[0mcontext\u001b[0m\u001b[0;34m=\u001b[0m\u001b[0;32mNone\u001b[0m\u001b[0;34m)\u001b[0m\u001b[0;34m:\u001b[0m\u001b[0;34m\u001b[0m\u001b[0;34m\u001b[0m\u001b[0m\n",
      "\u001b[0;31mIntegrityError\u001b[0m: (sqlite3.IntegrityError) UNIQUE constraint failed: courses.course_id\n[SQL: INSERT INTO courses (course_id, course_name)\nVALUES ('MTH 309', 'Linear Algebra');]\n(Background on this error at: http://sqlalche.me/e/13/gkpj)"
     ]
    }
   ],
   "source": [
    "%%sql \n",
    "INSERT INTO courses (course_id, course_name)\n",
    "VALUES ('MTH 309', 'Linear Algebra');\n",
    "\n",
    "SELECT * \n",
    "FROM courses;"
   ]
  },
  {
   "cell_type": "code",
   "execution_count": 24,
   "id": "monthly-guard",
   "metadata": {},
   "outputs": [
    {
     "name": "stdout",
     "output_type": "stream",
     "text": [
      " * sqlite:///tiny.sqlite\n",
      "3 rows affected.\n",
      "Done.\n"
     ]
    },
    {
     "data": {
      "text/html": [
       "<table>\n",
       "    <tr>\n",
       "        <th>course_id</th>\n",
       "        <th>course_name</th>\n",
       "        <th>credits</th>\n",
       "    </tr>\n",
       "    <tr>\n",
       "        <td>MTH 141</td>\n",
       "        <td>Calculus I</td>\n",
       "        <td>4</td>\n",
       "    </tr>\n",
       "    <tr>\n",
       "        <td>MTH 309</td>\n",
       "        <td>Linear Algebra</td>\n",
       "        <td>None</td>\n",
       "    </tr>\n",
       "    <tr>\n",
       "        <td>MTH 142</td>\n",
       "        <td>Calculus II</td>\n",
       "        <td>4</td>\n",
       "    </tr>\n",
       "    <tr>\n",
       "        <td>MTH 448</td>\n",
       "        <td>Data Oriented Computing</td>\n",
       "        <td>4</td>\n",
       "    </tr>\n",
       "    <tr>\n",
       "        <td>MTH 462</td>\n",
       "        <td>Topics in Analysis</td>\n",
       "        <td>2</td>\n",
       "    </tr>\n",
       "</table>"
      ],
      "text/plain": [
       "[('MTH 141', 'Calculus I', 4),\n",
       " ('MTH 309', 'Linear Algebra', None),\n",
       " ('MTH 142', 'Calculus II', 4),\n",
       " ('MTH 448', 'Data Oriented Computing', 4),\n",
       " ('MTH 462', 'Topics in Analysis', 2)]"
      ]
     },
     "execution_count": 24,
     "metadata": {},
     "output_type": "execute_result"
    }
   ],
   "source": [
    "%%sql \n",
    "INSERT INTO courses (course_id, course_name, credits)\n",
    "VALUES \n",
    "   ('MTH 142', 'Calculus II', 4),\n",
    "   ('MTH 448', 'Data Oriented Computing', 4),\n",
    "   ('MTH 462', 'Topics in Analysis', 2);\n",
    "\n",
    "SELECT *\n",
    "FROM courses;"
   ]
  },
  {
   "cell_type": "code",
   "execution_count": 26,
   "id": "fabulous-cattle",
   "metadata": {},
   "outputs": [
    {
     "name": "stdout",
     "output_type": "stream",
     "text": [
      " * sqlite:///tiny.sqlite\n",
      "1 rows affected.\n",
      "Done.\n"
     ]
    },
    {
     "data": {
      "text/html": [
       "<table>\n",
       "    <tr>\n",
       "        <th>course_id</th>\n",
       "        <th>course_name</th>\n",
       "        <th>credits</th>\n",
       "    </tr>\n",
       "    <tr>\n",
       "        <td>MTH 141</td>\n",
       "        <td>Calculus I</td>\n",
       "        <td>4</td>\n",
       "    </tr>\n",
       "    <tr>\n",
       "        <td>MTH 309</td>\n",
       "        <td>Linear Algebra</td>\n",
       "        <td>4</td>\n",
       "    </tr>\n",
       "    <tr>\n",
       "        <td>MTH 142</td>\n",
       "        <td>Calculus II</td>\n",
       "        <td>4</td>\n",
       "    </tr>\n",
       "    <tr>\n",
       "        <td>MTH 448</td>\n",
       "        <td>Data Oriented Computing</td>\n",
       "        <td>4</td>\n",
       "    </tr>\n",
       "    <tr>\n",
       "        <td>MTH 462</td>\n",
       "        <td>Topics in Analysis</td>\n",
       "        <td>2</td>\n",
       "    </tr>\n",
       "</table>"
      ],
      "text/plain": [
       "[('MTH 141', 'Calculus I', 4),\n",
       " ('MTH 309', 'Linear Algebra', 4),\n",
       " ('MTH 142', 'Calculus II', 4),\n",
       " ('MTH 448', 'Data Oriented Computing', 4),\n",
       " ('MTH 462', 'Topics in Analysis', 2)]"
      ]
     },
     "execution_count": 26,
     "metadata": {},
     "output_type": "execute_result"
    }
   ],
   "source": [
    "%%sql\n",
    "UPDATE courses\n",
    "SET credits=4\n",
    "WHERE course_id='MTH 309';\n",
    "\n",
    "SELECT * \n",
    "FROM courses;"
   ]
  },
  {
   "cell_type": "code",
   "execution_count": 27,
   "id": "plain-hearts",
   "metadata": {},
   "outputs": [
    {
     "name": "stdout",
     "output_type": "stream",
     "text": [
      " * sqlite:///tiny.sqlite\n",
      "1 rows affected.\n",
      "Done.\n"
     ]
    },
    {
     "data": {
      "text/html": [
       "<table>\n",
       "    <tr>\n",
       "        <th>course_id</th>\n",
       "        <th>course_name</th>\n",
       "        <th>credits</th>\n",
       "    </tr>\n",
       "    <tr>\n",
       "        <td>MTH 141</td>\n",
       "        <td>Calculus I</td>\n",
       "        <td>4</td>\n",
       "    </tr>\n",
       "    <tr>\n",
       "        <td>MTH 309</td>\n",
       "        <td>Linear Algebra</td>\n",
       "        <td>4</td>\n",
       "    </tr>\n",
       "    <tr>\n",
       "        <td>MTH 142</td>\n",
       "        <td>Calculus II</td>\n",
       "        <td>4</td>\n",
       "    </tr>\n",
       "    <tr>\n",
       "        <td>MTH 448</td>\n",
       "        <td>Data Oriented Computing</td>\n",
       "        <td>4</td>\n",
       "    </tr>\n",
       "</table>"
      ],
      "text/plain": [
       "[('MTH 141', 'Calculus I', 4),\n",
       " ('MTH 309', 'Linear Algebra', 4),\n",
       " ('MTH 142', 'Calculus II', 4),\n",
       " ('MTH 448', 'Data Oriented Computing', 4)]"
      ]
     },
     "execution_count": 27,
     "metadata": {},
     "output_type": "execute_result"
    }
   ],
   "source": [
    "%%sql\n",
    "DELETE FROM courses\n",
    "WHERE credits < 4;\n",
    "\n",
    "SELECT * \n",
    "FROM courses;"
   ]
  },
  {
   "cell_type": "code",
   "execution_count": 28,
   "id": "popular-smith",
   "metadata": {},
   "outputs": [
    {
     "name": "stdout",
     "output_type": "stream",
     "text": [
      " * sqlite:///tiny.sqlite\n",
      "Done.\n",
      "Done.\n"
     ]
    },
    {
     "data": {
      "text/html": [
       "<table>\n",
       "    <tr>\n",
       "        <th>course_id</th>\n",
       "        <th>course_name</th>\n",
       "        <th>credits</th>\n",
       "        <th>semester</th>\n",
       "    </tr>\n",
       "    <tr>\n",
       "        <td>MTH 141</td>\n",
       "        <td>Calculus I</td>\n",
       "        <td>4</td>\n",
       "        <td>None</td>\n",
       "    </tr>\n",
       "    <tr>\n",
       "        <td>MTH 309</td>\n",
       "        <td>Linear Algebra</td>\n",
       "        <td>4</td>\n",
       "        <td>None</td>\n",
       "    </tr>\n",
       "    <tr>\n",
       "        <td>MTH 142</td>\n",
       "        <td>Calculus II</td>\n",
       "        <td>4</td>\n",
       "        <td>None</td>\n",
       "    </tr>\n",
       "    <tr>\n",
       "        <td>MTH 448</td>\n",
       "        <td>Data Oriented Computing</td>\n",
       "        <td>4</td>\n",
       "        <td>None</td>\n",
       "    </tr>\n",
       "</table>"
      ],
      "text/plain": [
       "[('MTH 141', 'Calculus I', 4, None),\n",
       " ('MTH 309', 'Linear Algebra', 4, None),\n",
       " ('MTH 142', 'Calculus II', 4, None),\n",
       " ('MTH 448', 'Data Oriented Computing', 4, None)]"
      ]
     },
     "execution_count": 28,
     "metadata": {},
     "output_type": "execute_result"
    }
   ],
   "source": [
    "%%sql \n",
    "ALTER TABLE courses\n",
    "ADD COLUMN semester;\n",
    "\n",
    "SELECT * \n",
    "FROM courses;"
   ]
  },
  {
   "cell_type": "code",
   "execution_count": 29,
   "id": "saved-scroll",
   "metadata": {},
   "outputs": [
    {
     "name": "stdout",
     "output_type": "stream",
     "text": [
      " * sqlite:///tiny.sqlite\n",
      "4 rows affected.\n",
      "Done.\n"
     ]
    },
    {
     "data": {
      "text/html": [
       "<table>\n",
       "    <tr>\n",
       "        <th>course_id</th>\n",
       "        <th>course_name</th>\n",
       "        <th>credits</th>\n",
       "        <th>semester</th>\n",
       "    </tr>\n",
       "    <tr>\n",
       "        <td>MTH 141</td>\n",
       "        <td>Calculus I</td>\n",
       "        <td>4</td>\n",
       "        <td>Fall</td>\n",
       "    </tr>\n",
       "    <tr>\n",
       "        <td>MTH 309</td>\n",
       "        <td>Linear Algebra</td>\n",
       "        <td>4</td>\n",
       "        <td>Fall</td>\n",
       "    </tr>\n",
       "    <tr>\n",
       "        <td>MTH 142</td>\n",
       "        <td>Calculus II</td>\n",
       "        <td>4</td>\n",
       "        <td>Fall</td>\n",
       "    </tr>\n",
       "    <tr>\n",
       "        <td>MTH 448</td>\n",
       "        <td>Data Oriented Computing</td>\n",
       "        <td>4</td>\n",
       "        <td>Fall</td>\n",
       "    </tr>\n",
       "</table>"
      ],
      "text/plain": [
       "[('MTH 141', 'Calculus I', 4, 'Fall'),\n",
       " ('MTH 309', 'Linear Algebra', 4, 'Fall'),\n",
       " ('MTH 142', 'Calculus II', 4, 'Fall'),\n",
       " ('MTH 448', 'Data Oriented Computing', 4, 'Fall')]"
      ]
     },
     "execution_count": 29,
     "metadata": {},
     "output_type": "execute_result"
    }
   ],
   "source": [
    "%%sql\n",
    "UPDATE courses\n",
    "SET semester = 'Fall'; \n",
    "\n",
    "SELECT * \n",
    "FROM courses"
   ]
  },
  {
   "cell_type": "code",
   "execution_count": 30,
   "id": "central-insert",
   "metadata": {},
   "outputs": [
    {
     "name": "stdout",
     "output_type": "stream",
     "text": [
      " * sqlite:///tiny.sqlite\n",
      "Done.\n"
     ]
    },
    {
     "data": {
      "text/plain": [
       "[]"
      ]
     },
     "execution_count": 30,
     "metadata": {},
     "output_type": "execute_result"
    }
   ],
   "source": [
    "%%sql\n",
    "DROP TABLE courses;"
   ]
  },
  {
   "cell_type": "code",
   "execution_count": 31,
   "id": "chief-skill",
   "metadata": {},
   "outputs": [
    {
     "name": "stdout",
     "output_type": "stream",
     "text": [
      " * sqlite:///tiny.sqlite\n",
      "Done.\n"
     ]
    },
    {
     "data": {
      "text/html": [
       "<table>\n",
       "    <tr>\n",
       "        <th>type</th>\n",
       "        <th>name</th>\n",
       "        <th>tbl_name</th>\n",
       "        <th>rootpage</th>\n",
       "        <th>sql</th>\n",
       "    </tr>\n",
       "</table>"
      ],
      "text/plain": [
       "[]"
      ]
     },
     "execution_count": 31,
     "metadata": {},
     "output_type": "execute_result"
    }
   ],
   "source": [
    "%%sql \n",
    "SELECT * \n",
    "FROM sqlite_master;"
   ]
  },
  {
   "cell_type": "code",
   "execution_count": 32,
   "id": "jewish-affect",
   "metadata": {},
   "outputs": [
    {
     "name": "stdout",
     "output_type": "stream",
     "text": [
      " * sqlite:///tiny.sqlite\n",
      "(sqlite3.OperationalError) no such table: courses\n",
      "[SQL: DROP TABLE courses;]\n",
      "(Background on this error at: http://sqlalche.me/e/13/e3q8)\n"
     ]
    }
   ],
   "source": [
    "%%sql\n",
    "DROP TABLE courses;"
   ]
  },
  {
   "cell_type": "code",
   "execution_count": 33,
   "id": "framed-optimization",
   "metadata": {},
   "outputs": [
    {
     "name": "stdout",
     "output_type": "stream",
     "text": [
      " * sqlite:///tiny.sqlite\n",
      "Done.\n"
     ]
    },
    {
     "data": {
      "text/plain": [
       "[]"
      ]
     },
     "execution_count": 33,
     "metadata": {},
     "output_type": "execute_result"
    }
   ],
   "source": [
    "%%sql\n",
    "DROP TABLE IF EXISTS courses;"
   ]
  },
  {
   "cell_type": "markdown",
   "id": "positive-rebate",
   "metadata": {},
   "source": [
    "## Queries"
   ]
  },
  {
   "cell_type": "code",
   "execution_count": 3,
   "id": "equipped-canon",
   "metadata": {},
   "outputs": [],
   "source": [
    "%%sql\n",
    "sqlite:///gradebook_data.sqlite"
   ]
  },
  {
   "cell_type": "code",
   "execution_count": 4,
   "id": "informal-spouse",
   "metadata": {},
   "outputs": [
    {
     "name": "stdout",
     "output_type": "stream",
     "text": [
      " * sqlite:///gradebook_data.sqlite\n",
      "Done.\n"
     ]
    },
    {
     "data": {
      "text/html": [
       "<table>\n",
       "    <tr>\n",
       "        <th>type</th>\n",
       "        <th>name</th>\n",
       "        <th>tbl_name</th>\n",
       "        <th>rootpage</th>\n",
       "        <th>sql</th>\n",
       "    </tr>\n",
       "    <tr>\n",
       "        <td>table</td>\n",
       "        <td>gradebook</td>\n",
       "        <td>gradebook</td>\n",
       "        <td>4</td>\n",
       "        <td>CREATE TABLE &quot;gradebook&quot; (<br>    student_id INTEGER PRIMARY KEY,<br>    first_name TEXT,<br>    last_name TEXT,<br>    major TEXT,<br>    exam1 INTEGER, <br>    exam2 INTEGER, <br>    exam3 INTEGER)</td>\n",
       "    </tr>\n",
       "</table>"
      ],
      "text/plain": [
       "[('table', 'gradebook', 'gradebook', 4, 'CREATE TABLE \"gradebook\" (\\n    student_id INTEGER PRIMARY KEY,\\n    first_name TEXT,\\n    last_name TEXT,\\n    major TEXT,\\n    exam1 INTEGER, \\n    exam2 INTEGER, \\n    exam3 INTEGER)')]"
      ]
     },
     "execution_count": 4,
     "metadata": {},
     "output_type": "execute_result"
    }
   ],
   "source": [
    "%%sql\n",
    "SELECT * \n",
    "FROM sqlite_master;"
   ]
  },
  {
   "cell_type": "code",
   "execution_count": 5,
   "id": "qualified-homework",
   "metadata": {},
   "outputs": [
    {
     "name": "stdout",
     "output_type": "stream",
     "text": [
      " * sqlite:///gradebook_data.sqlite\n",
      "Done.\n"
     ]
    },
    {
     "data": {
      "text/html": [
       "<table>\n",
       "    <tr>\n",
       "        <th>student_id</th>\n",
       "        <th>first_name</th>\n",
       "        <th>last_name</th>\n",
       "        <th>major</th>\n",
       "        <th>exam1</th>\n",
       "        <th>exam2</th>\n",
       "        <th>exam3</th>\n",
       "    </tr>\n",
       "    <tr>\n",
       "        <td>2712</td>\n",
       "        <td>Starr</td>\n",
       "        <td>Bachand</td>\n",
       "        <td>computer science</td>\n",
       "        <td>None</td>\n",
       "        <td>27</td>\n",
       "        <td>85</td>\n",
       "    </tr>\n",
       "    <tr>\n",
       "        <td>3548</td>\n",
       "        <td>Marcia</td>\n",
       "        <td>Hinkel</td>\n",
       "        <td>biology</td>\n",
       "        <td>79</td>\n",
       "        <td>10</td>\n",
       "        <td>41</td>\n",
       "    </tr>\n",
       "    <tr>\n",
       "        <td>3877</td>\n",
       "        <td>Chu</td>\n",
       "        <td>Flax</td>\n",
       "        <td>mathematics</td>\n",
       "        <td>72</td>\n",
       "        <td>None</td>\n",
       "        <td>29</td>\n",
       "    </tr>\n",
       "    <tr>\n",
       "        <td>5108</td>\n",
       "        <td>Shawnna</td>\n",
       "        <td>Coate</td>\n",
       "        <td>computer science</td>\n",
       "        <td>79</td>\n",
       "        <td>96</td>\n",
       "        <td>61</td>\n",
       "    </tr>\n",
       "    <tr>\n",
       "        <td>5775</td>\n",
       "        <td>Rosina</td>\n",
       "        <td>Hovey</td>\n",
       "        <td>biology</td>\n",
       "        <td>96</td>\n",
       "        <td>13</td>\n",
       "        <td>99</td>\n",
       "    </tr>\n",
       "    <tr>\n",
       "        <td>5787</td>\n",
       "        <td>Tenisha</td>\n",
       "        <td>Rippel</td>\n",
       "        <td>computer science</td>\n",
       "        <td>27</td>\n",
       "        <td>54</td>\n",
       "        <td>79</td>\n",
       "    </tr>\n",
       "    <tr>\n",
       "        <td>6245</td>\n",
       "        <td>Adelina</td>\n",
       "        <td>Brummitt</td>\n",
       "        <td>mathematics</td>\n",
       "        <td>None</td>\n",
       "        <td>67</td>\n",
       "        <td>99</td>\n",
       "    </tr>\n",
       "    <tr>\n",
       "        <td>7138</td>\n",
       "        <td>Fran</td>\n",
       "        <td>Mount</td>\n",
       "        <td>biology</td>\n",
       "        <td>71</td>\n",
       "        <td>5</td>\n",
       "        <td>80</td>\n",
       "    </tr>\n",
       "    <tr>\n",
       "        <td>7256</td>\n",
       "        <td>Rosalinda</td>\n",
       "        <td>Trippe</td>\n",
       "        <td>computer science</td>\n",
       "        <td>None</td>\n",
       "        <td>None</td>\n",
       "        <td>82</td>\n",
       "    </tr>\n",
       "    <tr>\n",
       "        <td>8911</td>\n",
       "        <td>Lottie</td>\n",
       "        <td>Champine</td>\n",
       "        <td>computer science</td>\n",
       "        <td>None</td>\n",
       "        <td>None</td>\n",
       "        <td>62</td>\n",
       "    </tr>\n",
       "    <tr>\n",
       "        <td>9165</td>\n",
       "        <td>Ludivina</td>\n",
       "        <td>Hoskin</td>\n",
       "        <td>mathematics</td>\n",
       "        <td>27</td>\n",
       "        <td>55</td>\n",
       "        <td>None</td>\n",
       "    </tr>\n",
       "    <tr>\n",
       "        <td>9346</td>\n",
       "        <td>Stanton</td>\n",
       "        <td>Mcgaugh</td>\n",
       "        <td>computer science</td>\n",
       "        <td>6</td>\n",
       "        <td>60</td>\n",
       "        <td>40</td>\n",
       "    </tr>\n",
       "    <tr>\n",
       "        <td>9667</td>\n",
       "        <td>Jonnie</td>\n",
       "        <td>Hillock</td>\n",
       "        <td>mathematics</td>\n",
       "        <td>56</td>\n",
       "        <td>24</td>\n",
       "        <td>72</td>\n",
       "    </tr>\n",
       "</table>"
      ],
      "text/plain": [
       "[(2712, 'Starr', 'Bachand', 'computer science', None, 27, 85),\n",
       " (3548, 'Marcia', 'Hinkel', 'biology', 79, 10, 41),\n",
       " (3877, 'Chu', 'Flax', 'mathematics', 72, None, 29),\n",
       " (5108, 'Shawnna', 'Coate', 'computer science', 79, 96, 61),\n",
       " (5775, 'Rosina', 'Hovey', 'biology', 96, 13, 99),\n",
       " (5787, 'Tenisha', 'Rippel', 'computer science', 27, 54, 79),\n",
       " (6245, 'Adelina', 'Brummitt', 'mathematics', None, 67, 99),\n",
       " (7138, 'Fran', 'Mount', 'biology', 71, 5, 80),\n",
       " (7256, 'Rosalinda', 'Trippe', 'computer science', None, None, 82),\n",
       " (8911, 'Lottie', 'Champine', 'computer science', None, None, 62),\n",
       " (9165, 'Ludivina', 'Hoskin', 'mathematics', 27, 55, None),\n",
       " (9346, 'Stanton', 'Mcgaugh', 'computer science', 6, 60, 40),\n",
       " (9667, 'Jonnie', 'Hillock', 'mathematics', 56, 24, 72)]"
      ]
     },
     "execution_count": 5,
     "metadata": {},
     "output_type": "execute_result"
    }
   ],
   "source": [
    "%%sql\n",
    "SELECT * \n",
    "FROM gradebook"
   ]
  },
  {
   "cell_type": "code",
   "execution_count": 37,
   "id": "configured-attitude",
   "metadata": {},
   "outputs": [
    {
     "name": "stdout",
     "output_type": "stream",
     "text": [
      " * sqlite:///gradebook_data.sqlite\n",
      "   sqlite:///tiny.sqlite\n",
      "Done.\n"
     ]
    },
    {
     "data": {
      "text/html": [
       "<table>\n",
       "    <tr>\n",
       "        <th>first_name</th>\n",
       "        <th>last_name</th>\n",
       "        <th>exam3</th>\n",
       "    </tr>\n",
       "    <tr>\n",
       "        <td>Starr</td>\n",
       "        <td>Bachand</td>\n",
       "        <td>85</td>\n",
       "    </tr>\n",
       "    <tr>\n",
       "        <td>Marcia</td>\n",
       "        <td>Hinkel</td>\n",
       "        <td>41</td>\n",
       "    </tr>\n",
       "    <tr>\n",
       "        <td>Chu</td>\n",
       "        <td>Flax</td>\n",
       "        <td>29</td>\n",
       "    </tr>\n",
       "    <tr>\n",
       "        <td>Shawnna</td>\n",
       "        <td>Coate</td>\n",
       "        <td>61</td>\n",
       "    </tr>\n",
       "    <tr>\n",
       "        <td>Rosina</td>\n",
       "        <td>Hovey</td>\n",
       "        <td>99</td>\n",
       "    </tr>\n",
       "    <tr>\n",
       "        <td>Tenisha</td>\n",
       "        <td>Rippel</td>\n",
       "        <td>79</td>\n",
       "    </tr>\n",
       "    <tr>\n",
       "        <td>Adelina</td>\n",
       "        <td>Brummitt</td>\n",
       "        <td>99</td>\n",
       "    </tr>\n",
       "    <tr>\n",
       "        <td>Fran</td>\n",
       "        <td>Mount</td>\n",
       "        <td>80</td>\n",
       "    </tr>\n",
       "    <tr>\n",
       "        <td>Rosalinda</td>\n",
       "        <td>Trippe</td>\n",
       "        <td>82</td>\n",
       "    </tr>\n",
       "    <tr>\n",
       "        <td>Lottie</td>\n",
       "        <td>Champine</td>\n",
       "        <td>62</td>\n",
       "    </tr>\n",
       "    <tr>\n",
       "        <td>Ludivina</td>\n",
       "        <td>Hoskin</td>\n",
       "        <td>None</td>\n",
       "    </tr>\n",
       "    <tr>\n",
       "        <td>Stanton</td>\n",
       "        <td>Mcgaugh</td>\n",
       "        <td>40</td>\n",
       "    </tr>\n",
       "    <tr>\n",
       "        <td>Jonnie</td>\n",
       "        <td>Hillock</td>\n",
       "        <td>72</td>\n",
       "    </tr>\n",
       "</table>"
      ],
      "text/plain": [
       "[('Starr', 'Bachand', 85),\n",
       " ('Marcia', 'Hinkel', 41),\n",
       " ('Chu', 'Flax', 29),\n",
       " ('Shawnna', 'Coate', 61),\n",
       " ('Rosina', 'Hovey', 99),\n",
       " ('Tenisha', 'Rippel', 79),\n",
       " ('Adelina', 'Brummitt', 99),\n",
       " ('Fran', 'Mount', 80),\n",
       " ('Rosalinda', 'Trippe', 82),\n",
       " ('Lottie', 'Champine', 62),\n",
       " ('Ludivina', 'Hoskin', None),\n",
       " ('Stanton', 'Mcgaugh', 40),\n",
       " ('Jonnie', 'Hillock', 72)]"
      ]
     },
     "execution_count": 37,
     "metadata": {},
     "output_type": "execute_result"
    }
   ],
   "source": [
    "%%sql \n",
    "SELECT first_name, last_name, exam3\n",
    "FROM gradebook;"
   ]
  },
  {
   "cell_type": "code",
   "execution_count": 39,
   "id": "suburban-database",
   "metadata": {},
   "outputs": [
    {
     "name": "stdout",
     "output_type": "stream",
     "text": [
      " * sqlite:///gradebook_data.sqlite\n",
      "   sqlite:///tiny.sqlite\n",
      "Done.\n"
     ]
    },
    {
     "data": {
      "text/html": [
       "<table>\n",
       "    <tr>\n",
       "        <th>FName</th>\n",
       "        <th>LName</th>\n",
       "        <th>LastExam</th>\n",
       "    </tr>\n",
       "    <tr>\n",
       "        <td>Starr</td>\n",
       "        <td>Bachand</td>\n",
       "        <td>85</td>\n",
       "    </tr>\n",
       "    <tr>\n",
       "        <td>Marcia</td>\n",
       "        <td>Hinkel</td>\n",
       "        <td>41</td>\n",
       "    </tr>\n",
       "    <tr>\n",
       "        <td>Chu</td>\n",
       "        <td>Flax</td>\n",
       "        <td>29</td>\n",
       "    </tr>\n",
       "    <tr>\n",
       "        <td>Shawnna</td>\n",
       "        <td>Coate</td>\n",
       "        <td>61</td>\n",
       "    </tr>\n",
       "    <tr>\n",
       "        <td>Rosina</td>\n",
       "        <td>Hovey</td>\n",
       "        <td>99</td>\n",
       "    </tr>\n",
       "    <tr>\n",
       "        <td>Tenisha</td>\n",
       "        <td>Rippel</td>\n",
       "        <td>79</td>\n",
       "    </tr>\n",
       "    <tr>\n",
       "        <td>Adelina</td>\n",
       "        <td>Brummitt</td>\n",
       "        <td>99</td>\n",
       "    </tr>\n",
       "    <tr>\n",
       "        <td>Fran</td>\n",
       "        <td>Mount</td>\n",
       "        <td>80</td>\n",
       "    </tr>\n",
       "    <tr>\n",
       "        <td>Rosalinda</td>\n",
       "        <td>Trippe</td>\n",
       "        <td>82</td>\n",
       "    </tr>\n",
       "    <tr>\n",
       "        <td>Lottie</td>\n",
       "        <td>Champine</td>\n",
       "        <td>62</td>\n",
       "    </tr>\n",
       "    <tr>\n",
       "        <td>Ludivina</td>\n",
       "        <td>Hoskin</td>\n",
       "        <td>None</td>\n",
       "    </tr>\n",
       "    <tr>\n",
       "        <td>Stanton</td>\n",
       "        <td>Mcgaugh</td>\n",
       "        <td>40</td>\n",
       "    </tr>\n",
       "    <tr>\n",
       "        <td>Jonnie</td>\n",
       "        <td>Hillock</td>\n",
       "        <td>72</td>\n",
       "    </tr>\n",
       "</table>"
      ],
      "text/plain": [
       "[('Starr', 'Bachand', 85),\n",
       " ('Marcia', 'Hinkel', 41),\n",
       " ('Chu', 'Flax', 29),\n",
       " ('Shawnna', 'Coate', 61),\n",
       " ('Rosina', 'Hovey', 99),\n",
       " ('Tenisha', 'Rippel', 79),\n",
       " ('Adelina', 'Brummitt', 99),\n",
       " ('Fran', 'Mount', 80),\n",
       " ('Rosalinda', 'Trippe', 82),\n",
       " ('Lottie', 'Champine', 62),\n",
       " ('Ludivina', 'Hoskin', None),\n",
       " ('Stanton', 'Mcgaugh', 40),\n",
       " ('Jonnie', 'Hillock', 72)]"
      ]
     },
     "execution_count": 39,
     "metadata": {},
     "output_type": "execute_result"
    }
   ],
   "source": [
    "%%sql \n",
    "SELECT first_name FName, last_name LName, exam3 AS LastExam\n",
    "FROM gradebook;"
   ]
  },
  {
   "cell_type": "code",
   "execution_count": 42,
   "id": "acute-bradford",
   "metadata": {},
   "outputs": [
    {
     "name": "stdout",
     "output_type": "stream",
     "text": [
      " * sqlite:///gradebook_data.sqlite\n",
      "   sqlite:///tiny.sqlite\n",
      "Done.\n"
     ]
    },
    {
     "data": {
      "text/html": [
       "<table>\n",
       "    <tr>\n",
       "        <th>first_name</th>\n",
       "        <th>last_name</th>\n",
       "        <th>exam_total</th>\n",
       "    </tr>\n",
       "    <tr>\n",
       "        <td>Starr</td>\n",
       "        <td>Bachand</td>\n",
       "        <td>None</td>\n",
       "    </tr>\n",
       "    <tr>\n",
       "        <td>Marcia</td>\n",
       "        <td>Hinkel</td>\n",
       "        <td>130</td>\n",
       "    </tr>\n",
       "    <tr>\n",
       "        <td>Chu</td>\n",
       "        <td>Flax</td>\n",
       "        <td>None</td>\n",
       "    </tr>\n",
       "    <tr>\n",
       "        <td>Shawnna</td>\n",
       "        <td>Coate</td>\n",
       "        <td>236</td>\n",
       "    </tr>\n",
       "    <tr>\n",
       "        <td>Rosina</td>\n",
       "        <td>Hovey</td>\n",
       "        <td>208</td>\n",
       "    </tr>\n",
       "    <tr>\n",
       "        <td>Tenisha</td>\n",
       "        <td>Rippel</td>\n",
       "        <td>160</td>\n",
       "    </tr>\n",
       "    <tr>\n",
       "        <td>Adelina</td>\n",
       "        <td>Brummitt</td>\n",
       "        <td>None</td>\n",
       "    </tr>\n",
       "    <tr>\n",
       "        <td>Fran</td>\n",
       "        <td>Mount</td>\n",
       "        <td>156</td>\n",
       "    </tr>\n",
       "    <tr>\n",
       "        <td>Rosalinda</td>\n",
       "        <td>Trippe</td>\n",
       "        <td>None</td>\n",
       "    </tr>\n",
       "    <tr>\n",
       "        <td>Lottie</td>\n",
       "        <td>Champine</td>\n",
       "        <td>None</td>\n",
       "    </tr>\n",
       "    <tr>\n",
       "        <td>Ludivina</td>\n",
       "        <td>Hoskin</td>\n",
       "        <td>None</td>\n",
       "    </tr>\n",
       "    <tr>\n",
       "        <td>Stanton</td>\n",
       "        <td>Mcgaugh</td>\n",
       "        <td>106</td>\n",
       "    </tr>\n",
       "    <tr>\n",
       "        <td>Jonnie</td>\n",
       "        <td>Hillock</td>\n",
       "        <td>152</td>\n",
       "    </tr>\n",
       "</table>"
      ],
      "text/plain": [
       "[('Starr', 'Bachand', None),\n",
       " ('Marcia', 'Hinkel', 130),\n",
       " ('Chu', 'Flax', None),\n",
       " ('Shawnna', 'Coate', 236),\n",
       " ('Rosina', 'Hovey', 208),\n",
       " ('Tenisha', 'Rippel', 160),\n",
       " ('Adelina', 'Brummitt', None),\n",
       " ('Fran', 'Mount', 156),\n",
       " ('Rosalinda', 'Trippe', None),\n",
       " ('Lottie', 'Champine', None),\n",
       " ('Ludivina', 'Hoskin', None),\n",
       " ('Stanton', 'Mcgaugh', 106),\n",
       " ('Jonnie', 'Hillock', 152)]"
      ]
     },
     "execution_count": 42,
     "metadata": {},
     "output_type": "execute_result"
    }
   ],
   "source": [
    "%%sql\n",
    "SELECT first_name, last_name, exam1 + exam2 + exam3 AS exam_total\n",
    "FROM gradebook;"
   ]
  },
  {
   "cell_type": "code",
   "execution_count": 44,
   "id": "ruled-mainland",
   "metadata": {},
   "outputs": [
    {
     "name": "stdout",
     "output_type": "stream",
     "text": [
      " * sqlite:///gradebook_data.sqlite\n",
      "   sqlite:///tiny.sqlite\n",
      "Done.\n"
     ]
    },
    {
     "data": {
      "text/html": [
       "<table>\n",
       "    <tr>\n",
       "        <th>first_name</th>\n",
       "        <th>last_name</th>\n",
       "        <th>exam1</th>\n",
       "        <th>exam1_modified</th>\n",
       "    </tr>\n",
       "    <tr>\n",
       "        <td>Starr</td>\n",
       "        <td>Bachand</td>\n",
       "        <td>None</td>\n",
       "        <td>0</td>\n",
       "    </tr>\n",
       "    <tr>\n",
       "        <td>Marcia</td>\n",
       "        <td>Hinkel</td>\n",
       "        <td>79</td>\n",
       "        <td>79</td>\n",
       "    </tr>\n",
       "    <tr>\n",
       "        <td>Chu</td>\n",
       "        <td>Flax</td>\n",
       "        <td>72</td>\n",
       "        <td>72</td>\n",
       "    </tr>\n",
       "    <tr>\n",
       "        <td>Shawnna</td>\n",
       "        <td>Coate</td>\n",
       "        <td>79</td>\n",
       "        <td>79</td>\n",
       "    </tr>\n",
       "    <tr>\n",
       "        <td>Rosina</td>\n",
       "        <td>Hovey</td>\n",
       "        <td>96</td>\n",
       "        <td>96</td>\n",
       "    </tr>\n",
       "    <tr>\n",
       "        <td>Tenisha</td>\n",
       "        <td>Rippel</td>\n",
       "        <td>27</td>\n",
       "        <td>27</td>\n",
       "    </tr>\n",
       "    <tr>\n",
       "        <td>Adelina</td>\n",
       "        <td>Brummitt</td>\n",
       "        <td>None</td>\n",
       "        <td>0</td>\n",
       "    </tr>\n",
       "    <tr>\n",
       "        <td>Fran</td>\n",
       "        <td>Mount</td>\n",
       "        <td>71</td>\n",
       "        <td>71</td>\n",
       "    </tr>\n",
       "    <tr>\n",
       "        <td>Rosalinda</td>\n",
       "        <td>Trippe</td>\n",
       "        <td>None</td>\n",
       "        <td>0</td>\n",
       "    </tr>\n",
       "    <tr>\n",
       "        <td>Lottie</td>\n",
       "        <td>Champine</td>\n",
       "        <td>None</td>\n",
       "        <td>0</td>\n",
       "    </tr>\n",
       "    <tr>\n",
       "        <td>Ludivina</td>\n",
       "        <td>Hoskin</td>\n",
       "        <td>27</td>\n",
       "        <td>27</td>\n",
       "    </tr>\n",
       "    <tr>\n",
       "        <td>Stanton</td>\n",
       "        <td>Mcgaugh</td>\n",
       "        <td>6</td>\n",
       "        <td>6</td>\n",
       "    </tr>\n",
       "    <tr>\n",
       "        <td>Jonnie</td>\n",
       "        <td>Hillock</td>\n",
       "        <td>56</td>\n",
       "        <td>56</td>\n",
       "    </tr>\n",
       "</table>"
      ],
      "text/plain": [
       "[('Starr', 'Bachand', None, 0),\n",
       " ('Marcia', 'Hinkel', 79, 79),\n",
       " ('Chu', 'Flax', 72, 72),\n",
       " ('Shawnna', 'Coate', 79, 79),\n",
       " ('Rosina', 'Hovey', 96, 96),\n",
       " ('Tenisha', 'Rippel', 27, 27),\n",
       " ('Adelina', 'Brummitt', None, 0),\n",
       " ('Fran', 'Mount', 71, 71),\n",
       " ('Rosalinda', 'Trippe', None, 0),\n",
       " ('Lottie', 'Champine', None, 0),\n",
       " ('Ludivina', 'Hoskin', 27, 27),\n",
       " ('Stanton', 'Mcgaugh', 6, 6),\n",
       " ('Jonnie', 'Hillock', 56, 56)]"
      ]
     },
     "execution_count": 44,
     "metadata": {},
     "output_type": "execute_result"
    }
   ],
   "source": [
    "%%sql\n",
    "SELECT first_name, last_name, exam1, COALESCE(exam1, 0) AS exam1_modified\n",
    "FROM gradebook;"
   ]
  },
  {
   "cell_type": "code",
   "execution_count": 45,
   "id": "understood-thickness",
   "metadata": {},
   "outputs": [
    {
     "name": "stdout",
     "output_type": "stream",
     "text": [
      " * sqlite:///gradebook_data.sqlite\n",
      "   sqlite:///tiny.sqlite\n",
      "Done.\n"
     ]
    },
    {
     "data": {
      "text/html": [
       "<table>\n",
       "    <tr>\n",
       "        <th>first_name</th>\n",
       "        <th>last_name</th>\n",
       "        <th>exam_total</th>\n",
       "    </tr>\n",
       "    <tr>\n",
       "        <td>Starr</td>\n",
       "        <td>Bachand</td>\n",
       "        <td>112</td>\n",
       "    </tr>\n",
       "    <tr>\n",
       "        <td>Marcia</td>\n",
       "        <td>Hinkel</td>\n",
       "        <td>130</td>\n",
       "    </tr>\n",
       "    <tr>\n",
       "        <td>Chu</td>\n",
       "        <td>Flax</td>\n",
       "        <td>101</td>\n",
       "    </tr>\n",
       "    <tr>\n",
       "        <td>Shawnna</td>\n",
       "        <td>Coate</td>\n",
       "        <td>236</td>\n",
       "    </tr>\n",
       "    <tr>\n",
       "        <td>Rosina</td>\n",
       "        <td>Hovey</td>\n",
       "        <td>208</td>\n",
       "    </tr>\n",
       "    <tr>\n",
       "        <td>Tenisha</td>\n",
       "        <td>Rippel</td>\n",
       "        <td>160</td>\n",
       "    </tr>\n",
       "    <tr>\n",
       "        <td>Adelina</td>\n",
       "        <td>Brummitt</td>\n",
       "        <td>166</td>\n",
       "    </tr>\n",
       "    <tr>\n",
       "        <td>Fran</td>\n",
       "        <td>Mount</td>\n",
       "        <td>156</td>\n",
       "    </tr>\n",
       "    <tr>\n",
       "        <td>Rosalinda</td>\n",
       "        <td>Trippe</td>\n",
       "        <td>82</td>\n",
       "    </tr>\n",
       "    <tr>\n",
       "        <td>Lottie</td>\n",
       "        <td>Champine</td>\n",
       "        <td>62</td>\n",
       "    </tr>\n",
       "    <tr>\n",
       "        <td>Ludivina</td>\n",
       "        <td>Hoskin</td>\n",
       "        <td>82</td>\n",
       "    </tr>\n",
       "    <tr>\n",
       "        <td>Stanton</td>\n",
       "        <td>Mcgaugh</td>\n",
       "        <td>106</td>\n",
       "    </tr>\n",
       "    <tr>\n",
       "        <td>Jonnie</td>\n",
       "        <td>Hillock</td>\n",
       "        <td>152</td>\n",
       "    </tr>\n",
       "</table>"
      ],
      "text/plain": [
       "[('Starr', 'Bachand', 112),\n",
       " ('Marcia', 'Hinkel', 130),\n",
       " ('Chu', 'Flax', 101),\n",
       " ('Shawnna', 'Coate', 236),\n",
       " ('Rosina', 'Hovey', 208),\n",
       " ('Tenisha', 'Rippel', 160),\n",
       " ('Adelina', 'Brummitt', 166),\n",
       " ('Fran', 'Mount', 156),\n",
       " ('Rosalinda', 'Trippe', 82),\n",
       " ('Lottie', 'Champine', 62),\n",
       " ('Ludivina', 'Hoskin', 82),\n",
       " ('Stanton', 'Mcgaugh', 106),\n",
       " ('Jonnie', 'Hillock', 152)]"
      ]
     },
     "execution_count": 45,
     "metadata": {},
     "output_type": "execute_result"
    }
   ],
   "source": [
    "%%sql\n",
    "SELECT first_name, last_name, COALESCE(exam1, 0) + COALESCE(exam2, 0) + COALESCE(exam3, 0) AS exam_total\n",
    "FROM gradebook;"
   ]
  },
  {
   "cell_type": "code",
   "execution_count": 47,
   "id": "agreed-thirty",
   "metadata": {},
   "outputs": [
    {
     "name": "stdout",
     "output_type": "stream",
     "text": [
      " * sqlite:///gradebook_data.sqlite\n",
      "   sqlite:///tiny.sqlite\n",
      "Done.\n"
     ]
    },
    {
     "data": {
      "text/html": [
       "<table>\n",
       "    <tr>\n",
       "        <th>Name</th>\n",
       "        <th>exam1</th>\n",
       "        <th>exam2</th>\n",
       "        <th>exam3</th>\n",
       "    </tr>\n",
       "    <tr>\n",
       "        <td>Bachand, Starr</td>\n",
       "        <td>None</td>\n",
       "        <td>27</td>\n",
       "        <td>85</td>\n",
       "    </tr>\n",
       "    <tr>\n",
       "        <td>Hinkel, Marcia</td>\n",
       "        <td>79</td>\n",
       "        <td>10</td>\n",
       "        <td>41</td>\n",
       "    </tr>\n",
       "    <tr>\n",
       "        <td>Flax, Chu</td>\n",
       "        <td>72</td>\n",
       "        <td>None</td>\n",
       "        <td>29</td>\n",
       "    </tr>\n",
       "    <tr>\n",
       "        <td>Coate, Shawnna</td>\n",
       "        <td>79</td>\n",
       "        <td>96</td>\n",
       "        <td>61</td>\n",
       "    </tr>\n",
       "    <tr>\n",
       "        <td>Hovey, Rosina</td>\n",
       "        <td>96</td>\n",
       "        <td>13</td>\n",
       "        <td>99</td>\n",
       "    </tr>\n",
       "    <tr>\n",
       "        <td>Rippel, Tenisha</td>\n",
       "        <td>27</td>\n",
       "        <td>54</td>\n",
       "        <td>79</td>\n",
       "    </tr>\n",
       "    <tr>\n",
       "        <td>Brummitt, Adelina</td>\n",
       "        <td>None</td>\n",
       "        <td>67</td>\n",
       "        <td>99</td>\n",
       "    </tr>\n",
       "    <tr>\n",
       "        <td>Mount, Fran</td>\n",
       "        <td>71</td>\n",
       "        <td>5</td>\n",
       "        <td>80</td>\n",
       "    </tr>\n",
       "    <tr>\n",
       "        <td>Trippe, Rosalinda</td>\n",
       "        <td>None</td>\n",
       "        <td>None</td>\n",
       "        <td>82</td>\n",
       "    </tr>\n",
       "    <tr>\n",
       "        <td>Champine, Lottie</td>\n",
       "        <td>None</td>\n",
       "        <td>None</td>\n",
       "        <td>62</td>\n",
       "    </tr>\n",
       "    <tr>\n",
       "        <td>Hoskin, Ludivina</td>\n",
       "        <td>27</td>\n",
       "        <td>55</td>\n",
       "        <td>None</td>\n",
       "    </tr>\n",
       "    <tr>\n",
       "        <td>Mcgaugh, Stanton</td>\n",
       "        <td>6</td>\n",
       "        <td>60</td>\n",
       "        <td>40</td>\n",
       "    </tr>\n",
       "    <tr>\n",
       "        <td>Hillock, Jonnie</td>\n",
       "        <td>56</td>\n",
       "        <td>24</td>\n",
       "        <td>72</td>\n",
       "    </tr>\n",
       "</table>"
      ],
      "text/plain": [
       "[('Bachand, Starr', None, 27, 85),\n",
       " ('Hinkel, Marcia', 79, 10, 41),\n",
       " ('Flax, Chu', 72, None, 29),\n",
       " ('Coate, Shawnna', 79, 96, 61),\n",
       " ('Hovey, Rosina', 96, 13, 99),\n",
       " ('Rippel, Tenisha', 27, 54, 79),\n",
       " ('Brummitt, Adelina', None, 67, 99),\n",
       " ('Mount, Fran', 71, 5, 80),\n",
       " ('Trippe, Rosalinda', None, None, 82),\n",
       " ('Champine, Lottie', None, None, 62),\n",
       " ('Hoskin, Ludivina', 27, 55, None),\n",
       " ('Mcgaugh, Stanton', 6, 60, 40),\n",
       " ('Hillock, Jonnie', 56, 24, 72)]"
      ]
     },
     "execution_count": 47,
     "metadata": {},
     "output_type": "execute_result"
    }
   ],
   "source": [
    "%%sql\n",
    "SELECT last_name || \", \" || first_name AS Name, exam1, exam2, exam3\n",
    "FROM gradebook;"
   ]
  },
  {
   "cell_type": "code",
   "execution_count": 49,
   "id": "choice-surprise",
   "metadata": {},
   "outputs": [
    {
     "name": "stdout",
     "output_type": "stream",
     "text": [
      " * sqlite:///gradebook_data.sqlite\n",
      "   sqlite:///tiny.sqlite\n",
      "Done.\n"
     ]
    },
    {
     "data": {
      "text/html": [
       "<table>\n",
       "    <tr>\n",
       "        <th>first_name</th>\n",
       "        <th>last_name</th>\n",
       "        <th>exam3</th>\n",
       "        <th>letter_grade</th>\n",
       "    </tr>\n",
       "    <tr>\n",
       "        <td>Starr</td>\n",
       "        <td>Bachand</td>\n",
       "        <td>85</td>\n",
       "        <td>B</td>\n",
       "    </tr>\n",
       "    <tr>\n",
       "        <td>Marcia</td>\n",
       "        <td>Hinkel</td>\n",
       "        <td>41</td>\n",
       "        <td>F</td>\n",
       "    </tr>\n",
       "    <tr>\n",
       "        <td>Chu</td>\n",
       "        <td>Flax</td>\n",
       "        <td>29</td>\n",
       "        <td>F</td>\n",
       "    </tr>\n",
       "    <tr>\n",
       "        <td>Shawnna</td>\n",
       "        <td>Coate</td>\n",
       "        <td>61</td>\n",
       "        <td>D</td>\n",
       "    </tr>\n",
       "    <tr>\n",
       "        <td>Rosina</td>\n",
       "        <td>Hovey</td>\n",
       "        <td>99</td>\n",
       "        <td>A</td>\n",
       "    </tr>\n",
       "    <tr>\n",
       "        <td>Tenisha</td>\n",
       "        <td>Rippel</td>\n",
       "        <td>79</td>\n",
       "        <td>C</td>\n",
       "    </tr>\n",
       "    <tr>\n",
       "        <td>Adelina</td>\n",
       "        <td>Brummitt</td>\n",
       "        <td>99</td>\n",
       "        <td>A</td>\n",
       "    </tr>\n",
       "    <tr>\n",
       "        <td>Fran</td>\n",
       "        <td>Mount</td>\n",
       "        <td>80</td>\n",
       "        <td>C</td>\n",
       "    </tr>\n",
       "    <tr>\n",
       "        <td>Rosalinda</td>\n",
       "        <td>Trippe</td>\n",
       "        <td>82</td>\n",
       "        <td>B</td>\n",
       "    </tr>\n",
       "    <tr>\n",
       "        <td>Lottie</td>\n",
       "        <td>Champine</td>\n",
       "        <td>62</td>\n",
       "        <td>D</td>\n",
       "    </tr>\n",
       "    <tr>\n",
       "        <td>Ludivina</td>\n",
       "        <td>Hoskin</td>\n",
       "        <td>None</td>\n",
       "        <td>F</td>\n",
       "    </tr>\n",
       "    <tr>\n",
       "        <td>Stanton</td>\n",
       "        <td>Mcgaugh</td>\n",
       "        <td>40</td>\n",
       "        <td>F</td>\n",
       "    </tr>\n",
       "    <tr>\n",
       "        <td>Jonnie</td>\n",
       "        <td>Hillock</td>\n",
       "        <td>72</td>\n",
       "        <td>C</td>\n",
       "    </tr>\n",
       "</table>"
      ],
      "text/plain": [
       "[('Starr', 'Bachand', 85, 'B'),\n",
       " ('Marcia', 'Hinkel', 41, 'F'),\n",
       " ('Chu', 'Flax', 29, 'F'),\n",
       " ('Shawnna', 'Coate', 61, 'D'),\n",
       " ('Rosina', 'Hovey', 99, 'A'),\n",
       " ('Tenisha', 'Rippel', 79, 'C'),\n",
       " ('Adelina', 'Brummitt', 99, 'A'),\n",
       " ('Fran', 'Mount', 80, 'C'),\n",
       " ('Rosalinda', 'Trippe', 82, 'B'),\n",
       " ('Lottie', 'Champine', 62, 'D'),\n",
       " ('Ludivina', 'Hoskin', None, 'F'),\n",
       " ('Stanton', 'Mcgaugh', 40, 'F'),\n",
       " ('Jonnie', 'Hillock', 72, 'C')]"
      ]
     },
     "execution_count": 49,
     "metadata": {},
     "output_type": "execute_result"
    }
   ],
   "source": [
    "%%sql\n",
    "SELECT first_name, last_name, exam3,\n",
    "CASE \n",
    "    WHEN exam3 > 90 THEN 'A'\n",
    "    WHEN exam3 > 80 THEN 'B'\n",
    "    WHEN exam3 > 70 THEN 'C'\n",
    "    WHEN exam3 > 60 THEN 'D'\n",
    "    ELSE 'F'\n",
    "END AS letter_grade\n",
    "FROM gradebook;"
   ]
  },
  {
   "cell_type": "markdown",
   "id": "sophisticated-practice",
   "metadata": {},
   "source": [
    "### WHERE"
   ]
  },
  {
   "cell_type": "code",
   "execution_count": 54,
   "id": "perfect-secret",
   "metadata": {},
   "outputs": [
    {
     "name": "stdout",
     "output_type": "stream",
     "text": [
      " * sqlite:///gradebook_data.sqlite\n",
      "   sqlite:///tiny.sqlite\n",
      "Done.\n"
     ]
    },
    {
     "data": {
      "text/html": [
       "<table>\n",
       "    <tr>\n",
       "        <th>student_id</th>\n",
       "        <th>first_name</th>\n",
       "        <th>last_name</th>\n",
       "        <th>major</th>\n",
       "        <th>exam1</th>\n",
       "        <th>exam2</th>\n",
       "        <th>exam3</th>\n",
       "    </tr>\n",
       "    <tr>\n",
       "        <td>3548</td>\n",
       "        <td>Marcia</td>\n",
       "        <td>Hinkel</td>\n",
       "        <td>biology</td>\n",
       "        <td>79</td>\n",
       "        <td>10</td>\n",
       "        <td>41</td>\n",
       "    </tr>\n",
       "    <tr>\n",
       "        <td>3877</td>\n",
       "        <td>Chu</td>\n",
       "        <td>Flax</td>\n",
       "        <td>mathematics</td>\n",
       "        <td>72</td>\n",
       "        <td>None</td>\n",
       "        <td>29</td>\n",
       "    </tr>\n",
       "    <tr>\n",
       "        <td>5108</td>\n",
       "        <td>Shawnna</td>\n",
       "        <td>Coate</td>\n",
       "        <td>computer science</td>\n",
       "        <td>79</td>\n",
       "        <td>96</td>\n",
       "        <td>61</td>\n",
       "    </tr>\n",
       "</table>"
      ],
      "text/plain": [
       "[(3548, 'Marcia', 'Hinkel', 'biology', 79, 10, 41),\n",
       " (3877, 'Chu', 'Flax', 'mathematics', 72, None, 29),\n",
       " (5108, 'Shawnna', 'Coate', 'computer science', 79, 96, 61)]"
      ]
     },
     "execution_count": 54,
     "metadata": {},
     "output_type": "execute_result"
    }
   ],
   "source": [
    "%%sql\n",
    "SELECT * \n",
    "FROM gradebook\n",
    "WHERE exam1 > 70 AND NOT exam3 > 70;"
   ]
  },
  {
   "cell_type": "code",
   "execution_count": 55,
   "id": "humanitarian-account",
   "metadata": {},
   "outputs": [
    {
     "name": "stdout",
     "output_type": "stream",
     "text": [
      " * sqlite:///gradebook_data.sqlite\n",
      "   sqlite:///tiny.sqlite\n",
      "Done.\n"
     ]
    },
    {
     "data": {
      "text/html": [
       "<table>\n",
       "    <tr>\n",
       "        <th>student_id</th>\n",
       "        <th>first_name</th>\n",
       "        <th>last_name</th>\n",
       "        <th>major</th>\n",
       "        <th>exam1</th>\n",
       "        <th>exam2</th>\n",
       "        <th>exam3</th>\n",
       "    </tr>\n",
       "</table>"
      ],
      "text/plain": [
       "[]"
      ]
     },
     "execution_count": 55,
     "metadata": {},
     "output_type": "execute_result"
    }
   ],
   "source": [
    "%%sql \n",
    "SELECT * \n",
    "FROM gradebook\n",
    "WHERE exam1 = NULL"
   ]
  },
  {
   "cell_type": "code",
   "execution_count": 56,
   "id": "sharp-plenty",
   "metadata": {},
   "outputs": [
    {
     "name": "stdout",
     "output_type": "stream",
     "text": [
      " * sqlite:///gradebook_data.sqlite\n",
      "   sqlite:///tiny.sqlite\n",
      "Done.\n"
     ]
    },
    {
     "data": {
      "text/html": [
       "<table>\n",
       "    <tr>\n",
       "        <th>student_id</th>\n",
       "        <th>first_name</th>\n",
       "        <th>last_name</th>\n",
       "        <th>major</th>\n",
       "        <th>exam1</th>\n",
       "        <th>exam2</th>\n",
       "        <th>exam3</th>\n",
       "    </tr>\n",
       "    <tr>\n",
       "        <td>2712</td>\n",
       "        <td>Starr</td>\n",
       "        <td>Bachand</td>\n",
       "        <td>computer science</td>\n",
       "        <td>None</td>\n",
       "        <td>27</td>\n",
       "        <td>85</td>\n",
       "    </tr>\n",
       "    <tr>\n",
       "        <td>6245</td>\n",
       "        <td>Adelina</td>\n",
       "        <td>Brummitt</td>\n",
       "        <td>mathematics</td>\n",
       "        <td>None</td>\n",
       "        <td>67</td>\n",
       "        <td>99</td>\n",
       "    </tr>\n",
       "    <tr>\n",
       "        <td>7256</td>\n",
       "        <td>Rosalinda</td>\n",
       "        <td>Trippe</td>\n",
       "        <td>computer science</td>\n",
       "        <td>None</td>\n",
       "        <td>None</td>\n",
       "        <td>82</td>\n",
       "    </tr>\n",
       "    <tr>\n",
       "        <td>8911</td>\n",
       "        <td>Lottie</td>\n",
       "        <td>Champine</td>\n",
       "        <td>computer science</td>\n",
       "        <td>None</td>\n",
       "        <td>None</td>\n",
       "        <td>62</td>\n",
       "    </tr>\n",
       "</table>"
      ],
      "text/plain": [
       "[(2712, 'Starr', 'Bachand', 'computer science', None, 27, 85),\n",
       " (6245, 'Adelina', 'Brummitt', 'mathematics', None, 67, 99),\n",
       " (7256, 'Rosalinda', 'Trippe', 'computer science', None, None, 82),\n",
       " (8911, 'Lottie', 'Champine', 'computer science', None, None, 62)]"
      ]
     },
     "execution_count": 56,
     "metadata": {},
     "output_type": "execute_result"
    }
   ],
   "source": [
    "%%sql \n",
    "SELECT * \n",
    "FROM gradebook\n",
    "WHERE exam1 IS NULL"
   ]
  },
  {
   "cell_type": "code",
   "execution_count": 57,
   "id": "soviet-cholesterol",
   "metadata": {},
   "outputs": [
    {
     "name": "stdout",
     "output_type": "stream",
     "text": [
      " * sqlite:///gradebook_data.sqlite\n",
      "   sqlite:///tiny.sqlite\n",
      "Done.\n"
     ]
    },
    {
     "data": {
      "text/html": [
       "<table>\n",
       "    <tr>\n",
       "        <th>student_id</th>\n",
       "        <th>first_name</th>\n",
       "        <th>last_name</th>\n",
       "        <th>major</th>\n",
       "        <th>exam1</th>\n",
       "        <th>exam2</th>\n",
       "        <th>exam3</th>\n",
       "    </tr>\n",
       "    <tr>\n",
       "        <td>3548</td>\n",
       "        <td>Marcia</td>\n",
       "        <td>Hinkel</td>\n",
       "        <td>biology</td>\n",
       "        <td>79</td>\n",
       "        <td>10</td>\n",
       "        <td>41</td>\n",
       "    </tr>\n",
       "    <tr>\n",
       "        <td>3877</td>\n",
       "        <td>Chu</td>\n",
       "        <td>Flax</td>\n",
       "        <td>mathematics</td>\n",
       "        <td>72</td>\n",
       "        <td>None</td>\n",
       "        <td>29</td>\n",
       "    </tr>\n",
       "    <tr>\n",
       "        <td>5108</td>\n",
       "        <td>Shawnna</td>\n",
       "        <td>Coate</td>\n",
       "        <td>computer science</td>\n",
       "        <td>79</td>\n",
       "        <td>96</td>\n",
       "        <td>61</td>\n",
       "    </tr>\n",
       "    <tr>\n",
       "        <td>5775</td>\n",
       "        <td>Rosina</td>\n",
       "        <td>Hovey</td>\n",
       "        <td>biology</td>\n",
       "        <td>96</td>\n",
       "        <td>13</td>\n",
       "        <td>99</td>\n",
       "    </tr>\n",
       "    <tr>\n",
       "        <td>5787</td>\n",
       "        <td>Tenisha</td>\n",
       "        <td>Rippel</td>\n",
       "        <td>computer science</td>\n",
       "        <td>27</td>\n",
       "        <td>54</td>\n",
       "        <td>79</td>\n",
       "    </tr>\n",
       "    <tr>\n",
       "        <td>7138</td>\n",
       "        <td>Fran</td>\n",
       "        <td>Mount</td>\n",
       "        <td>biology</td>\n",
       "        <td>71</td>\n",
       "        <td>5</td>\n",
       "        <td>80</td>\n",
       "    </tr>\n",
       "    <tr>\n",
       "        <td>9165</td>\n",
       "        <td>Ludivina</td>\n",
       "        <td>Hoskin</td>\n",
       "        <td>mathematics</td>\n",
       "        <td>27</td>\n",
       "        <td>55</td>\n",
       "        <td>None</td>\n",
       "    </tr>\n",
       "    <tr>\n",
       "        <td>9346</td>\n",
       "        <td>Stanton</td>\n",
       "        <td>Mcgaugh</td>\n",
       "        <td>computer science</td>\n",
       "        <td>6</td>\n",
       "        <td>60</td>\n",
       "        <td>40</td>\n",
       "    </tr>\n",
       "    <tr>\n",
       "        <td>9667</td>\n",
       "        <td>Jonnie</td>\n",
       "        <td>Hillock</td>\n",
       "        <td>mathematics</td>\n",
       "        <td>56</td>\n",
       "        <td>24</td>\n",
       "        <td>72</td>\n",
       "    </tr>\n",
       "</table>"
      ],
      "text/plain": [
       "[(3548, 'Marcia', 'Hinkel', 'biology', 79, 10, 41),\n",
       " (3877, 'Chu', 'Flax', 'mathematics', 72, None, 29),\n",
       " (5108, 'Shawnna', 'Coate', 'computer science', 79, 96, 61),\n",
       " (5775, 'Rosina', 'Hovey', 'biology', 96, 13, 99),\n",
       " (5787, 'Tenisha', 'Rippel', 'computer science', 27, 54, 79),\n",
       " (7138, 'Fran', 'Mount', 'biology', 71, 5, 80),\n",
       " (9165, 'Ludivina', 'Hoskin', 'mathematics', 27, 55, None),\n",
       " (9346, 'Stanton', 'Mcgaugh', 'computer science', 6, 60, 40),\n",
       " (9667, 'Jonnie', 'Hillock', 'mathematics', 56, 24, 72)]"
      ]
     },
     "execution_count": 57,
     "metadata": {},
     "output_type": "execute_result"
    }
   ],
   "source": [
    "%%sql \n",
    "SELECT * \n",
    "FROM gradebook\n",
    "WHERE exam1 IS NOT NULL"
   ]
  },
  {
   "cell_type": "code",
   "execution_count": 59,
   "id": "unlimited-nelson",
   "metadata": {},
   "outputs": [
    {
     "name": "stdout",
     "output_type": "stream",
     "text": [
      " * sqlite:///gradebook_data.sqlite\n",
      "   sqlite:///tiny.sqlite\n",
      "Done.\n"
     ]
    },
    {
     "data": {
      "text/html": [
       "<table>\n",
       "    <tr>\n",
       "        <th>student_id</th>\n",
       "        <th>first_name</th>\n",
       "        <th>last_name</th>\n",
       "        <th>major</th>\n",
       "        <th>exam1</th>\n",
       "        <th>exam2</th>\n",
       "        <th>exam3</th>\n",
       "    </tr>\n",
       "    <tr>\n",
       "        <td>3548</td>\n",
       "        <td>Marcia</td>\n",
       "        <td>Hinkel</td>\n",
       "        <td>biology</td>\n",
       "        <td>79</td>\n",
       "        <td>10</td>\n",
       "        <td>41</td>\n",
       "    </tr>\n",
       "    <tr>\n",
       "        <td>5775</td>\n",
       "        <td>Rosina</td>\n",
       "        <td>Hovey</td>\n",
       "        <td>biology</td>\n",
       "        <td>96</td>\n",
       "        <td>13</td>\n",
       "        <td>99</td>\n",
       "    </tr>\n",
       "</table>"
      ],
      "text/plain": [
       "[(3548, 'Marcia', 'Hinkel', 'biology', 79, 10, 41),\n",
       " (5775, 'Rosina', 'Hovey', 'biology', 96, 13, 99)]"
      ]
     },
     "execution_count": 59,
     "metadata": {},
     "output_type": "execute_result"
    }
   ],
   "source": [
    "%%sql\n",
    "SELECT * \n",
    "FROM gradebook\n",
    "WHERE last_name LIKE 'H%e%'"
   ]
  },
  {
   "cell_type": "markdown",
   "id": "resident-mediterranean",
   "metadata": {},
   "source": [
    "## ORDER BY"
   ]
  },
  {
   "cell_type": "code",
   "execution_count": 60,
   "id": "accompanied-circumstances",
   "metadata": {},
   "outputs": [
    {
     "name": "stdout",
     "output_type": "stream",
     "text": [
      " * sqlite:///gradebook_data.sqlite\n",
      "   sqlite:///tiny.sqlite\n",
      "Done.\n"
     ]
    },
    {
     "data": {
      "text/html": [
       "<table>\n",
       "    <tr>\n",
       "        <th>first_name</th>\n",
       "        <th>last_name</th>\n",
       "        <th>exam3</th>\n",
       "    </tr>\n",
       "    <tr>\n",
       "        <td>Ludivina</td>\n",
       "        <td>Hoskin</td>\n",
       "        <td>None</td>\n",
       "    </tr>\n",
       "    <tr>\n",
       "        <td>Chu</td>\n",
       "        <td>Flax</td>\n",
       "        <td>29</td>\n",
       "    </tr>\n",
       "    <tr>\n",
       "        <td>Stanton</td>\n",
       "        <td>Mcgaugh</td>\n",
       "        <td>40</td>\n",
       "    </tr>\n",
       "    <tr>\n",
       "        <td>Marcia</td>\n",
       "        <td>Hinkel</td>\n",
       "        <td>41</td>\n",
       "    </tr>\n",
       "    <tr>\n",
       "        <td>Shawnna</td>\n",
       "        <td>Coate</td>\n",
       "        <td>61</td>\n",
       "    </tr>\n",
       "    <tr>\n",
       "        <td>Lottie</td>\n",
       "        <td>Champine</td>\n",
       "        <td>62</td>\n",
       "    </tr>\n",
       "    <tr>\n",
       "        <td>Jonnie</td>\n",
       "        <td>Hillock</td>\n",
       "        <td>72</td>\n",
       "    </tr>\n",
       "    <tr>\n",
       "        <td>Tenisha</td>\n",
       "        <td>Rippel</td>\n",
       "        <td>79</td>\n",
       "    </tr>\n",
       "    <tr>\n",
       "        <td>Fran</td>\n",
       "        <td>Mount</td>\n",
       "        <td>80</td>\n",
       "    </tr>\n",
       "    <tr>\n",
       "        <td>Rosalinda</td>\n",
       "        <td>Trippe</td>\n",
       "        <td>82</td>\n",
       "    </tr>\n",
       "    <tr>\n",
       "        <td>Starr</td>\n",
       "        <td>Bachand</td>\n",
       "        <td>85</td>\n",
       "    </tr>\n",
       "    <tr>\n",
       "        <td>Rosina</td>\n",
       "        <td>Hovey</td>\n",
       "        <td>99</td>\n",
       "    </tr>\n",
       "    <tr>\n",
       "        <td>Adelina</td>\n",
       "        <td>Brummitt</td>\n",
       "        <td>99</td>\n",
       "    </tr>\n",
       "</table>"
      ],
      "text/plain": [
       "[('Ludivina', 'Hoskin', None),\n",
       " ('Chu', 'Flax', 29),\n",
       " ('Stanton', 'Mcgaugh', 40),\n",
       " ('Marcia', 'Hinkel', 41),\n",
       " ('Shawnna', 'Coate', 61),\n",
       " ('Lottie', 'Champine', 62),\n",
       " ('Jonnie', 'Hillock', 72),\n",
       " ('Tenisha', 'Rippel', 79),\n",
       " ('Fran', 'Mount', 80),\n",
       " ('Rosalinda', 'Trippe', 82),\n",
       " ('Starr', 'Bachand', 85),\n",
       " ('Rosina', 'Hovey', 99),\n",
       " ('Adelina', 'Brummitt', 99)]"
      ]
     },
     "execution_count": 60,
     "metadata": {},
     "output_type": "execute_result"
    }
   ],
   "source": [
    "%%sql\n",
    "SELECT first_name, last_name, exam3\n",
    "FROM gradebook\n",
    "ORDER BY exam3"
   ]
  },
  {
   "cell_type": "code",
   "execution_count": 62,
   "id": "systematic-consideration",
   "metadata": {},
   "outputs": [
    {
     "name": "stdout",
     "output_type": "stream",
     "text": [
      " * sqlite:///gradebook_data.sqlite\n",
      "   sqlite:///tiny.sqlite\n",
      "Done.\n"
     ]
    },
    {
     "data": {
      "text/html": [
       "<table>\n",
       "    <tr>\n",
       "        <th>first_name</th>\n",
       "        <th>last_name</th>\n",
       "        <th>exam3</th>\n",
       "    </tr>\n",
       "    <tr>\n",
       "        <td>Rosina</td>\n",
       "        <td>Hovey</td>\n",
       "        <td>99</td>\n",
       "    </tr>\n",
       "    <tr>\n",
       "        <td>Adelina</td>\n",
       "        <td>Brummitt</td>\n",
       "        <td>99</td>\n",
       "    </tr>\n",
       "    <tr>\n",
       "        <td>Starr</td>\n",
       "        <td>Bachand</td>\n",
       "        <td>85</td>\n",
       "    </tr>\n",
       "    <tr>\n",
       "        <td>Rosalinda</td>\n",
       "        <td>Trippe</td>\n",
       "        <td>82</td>\n",
       "    </tr>\n",
       "    <tr>\n",
       "        <td>Fran</td>\n",
       "        <td>Mount</td>\n",
       "        <td>80</td>\n",
       "    </tr>\n",
       "    <tr>\n",
       "        <td>Tenisha</td>\n",
       "        <td>Rippel</td>\n",
       "        <td>79</td>\n",
       "    </tr>\n",
       "    <tr>\n",
       "        <td>Jonnie</td>\n",
       "        <td>Hillock</td>\n",
       "        <td>72</td>\n",
       "    </tr>\n",
       "    <tr>\n",
       "        <td>Lottie</td>\n",
       "        <td>Champine</td>\n",
       "        <td>62</td>\n",
       "    </tr>\n",
       "    <tr>\n",
       "        <td>Shawnna</td>\n",
       "        <td>Coate</td>\n",
       "        <td>61</td>\n",
       "    </tr>\n",
       "    <tr>\n",
       "        <td>Marcia</td>\n",
       "        <td>Hinkel</td>\n",
       "        <td>41</td>\n",
       "    </tr>\n",
       "    <tr>\n",
       "        <td>Stanton</td>\n",
       "        <td>Mcgaugh</td>\n",
       "        <td>40</td>\n",
       "    </tr>\n",
       "    <tr>\n",
       "        <td>Chu</td>\n",
       "        <td>Flax</td>\n",
       "        <td>29</td>\n",
       "    </tr>\n",
       "    <tr>\n",
       "        <td>Ludivina</td>\n",
       "        <td>Hoskin</td>\n",
       "        <td>None</td>\n",
       "    </tr>\n",
       "</table>"
      ],
      "text/plain": [
       "[('Rosina', 'Hovey', 99),\n",
       " ('Adelina', 'Brummitt', 99),\n",
       " ('Starr', 'Bachand', 85),\n",
       " ('Rosalinda', 'Trippe', 82),\n",
       " ('Fran', 'Mount', 80),\n",
       " ('Tenisha', 'Rippel', 79),\n",
       " ('Jonnie', 'Hillock', 72),\n",
       " ('Lottie', 'Champine', 62),\n",
       " ('Shawnna', 'Coate', 61),\n",
       " ('Marcia', 'Hinkel', 41),\n",
       " ('Stanton', 'Mcgaugh', 40),\n",
       " ('Chu', 'Flax', 29),\n",
       " ('Ludivina', 'Hoskin', None)]"
      ]
     },
     "execution_count": 62,
     "metadata": {},
     "output_type": "execute_result"
    }
   ],
   "source": [
    "%%sql\n",
    "SELECT first_name, last_name, exam3\n",
    "FROM gradebook\n",
    "ORDER BY exam3 DESC"
   ]
  },
  {
   "cell_type": "markdown",
   "id": "transsexual-mistress",
   "metadata": {},
   "source": [
    "## LIMIT"
   ]
  },
  {
   "cell_type": "code",
   "execution_count": 5,
   "id": "indie-continuity",
   "metadata": {},
   "outputs": [
    {
     "name": "stdout",
     "output_type": "stream",
     "text": [
      " * sqlite:///gradebook_data.sqlite\n",
      "Done.\n"
     ]
    },
    {
     "data": {
      "text/html": [
       "<table>\n",
       "    <tr>\n",
       "        <th>first_name</th>\n",
       "        <th>last_name</th>\n",
       "        <th>exam3</th>\n",
       "    </tr>\n",
       "    <tr>\n",
       "        <td>Starr</td>\n",
       "        <td>Bachand</td>\n",
       "        <td>85</td>\n",
       "    </tr>\n",
       "    <tr>\n",
       "        <td>Rosalinda</td>\n",
       "        <td>Trippe</td>\n",
       "        <td>82</td>\n",
       "    </tr>\n",
       "    <tr>\n",
       "        <td>Fran</td>\n",
       "        <td>Mount</td>\n",
       "        <td>80</td>\n",
       "    </tr>\n",
       "    <tr>\n",
       "        <td>Tenisha</td>\n",
       "        <td>Rippel</td>\n",
       "        <td>79</td>\n",
       "    </tr>\n",
       "    <tr>\n",
       "        <td>Jonnie</td>\n",
       "        <td>Hillock</td>\n",
       "        <td>72</td>\n",
       "    </tr>\n",
       "</table>"
      ],
      "text/plain": [
       "[('Starr', 'Bachand', 85),\n",
       " ('Rosalinda', 'Trippe', 82),\n",
       " ('Fran', 'Mount', 80),\n",
       " ('Tenisha', 'Rippel', 79),\n",
       " ('Jonnie', 'Hillock', 72)]"
      ]
     },
     "execution_count": 5,
     "metadata": {},
     "output_type": "execute_result"
    }
   ],
   "source": [
    "%%sql \n",
    "SELECT first_name, last_name, exam3\n",
    "FROM gradebook\n",
    "ORDER BY exam3 DESC\n",
    "LIMIT 5 OFFSET 2"
   ]
  },
  {
   "cell_type": "markdown",
   "id": "missing-reducing",
   "metadata": {},
   "source": [
    "## Sidenote: word clouds"
   ]
  },
  {
   "cell_type": "code",
   "execution_count": 1,
   "id": "floppy-project",
   "metadata": {},
   "outputs": [
    {
     "name": "stdout",
     "output_type": "stream",
     "text": [
      "Requirement already satisfied: wordcloud in /Users/bb/opt/anaconda3/lib/python3.8/site-packages (1.8.1)\n",
      "Requirement already satisfied: matplotlib in /Users/bb/opt/anaconda3/lib/python3.8/site-packages (from wordcloud) (3.3.2)\n",
      "Requirement already satisfied: pillow in /Users/bb/opt/anaconda3/lib/python3.8/site-packages (from wordcloud) (8.1.0)\n",
      "Requirement already satisfied: numpy>=1.6.1 in /Users/bb/opt/anaconda3/lib/python3.8/site-packages (from wordcloud) (1.19.2)\n",
      "Requirement already satisfied: python-dateutil>=2.1 in /Users/bb/opt/anaconda3/lib/python3.8/site-packages (from matplotlib->wordcloud) (2.8.1)\n",
      "Requirement already satisfied: pyparsing!=2.0.4,!=2.1.2,!=2.1.6,>=2.0.3 in /Users/bb/opt/anaconda3/lib/python3.8/site-packages (from matplotlib->wordcloud) (2.4.7)\n",
      "Requirement already satisfied: kiwisolver>=1.0.1 in /Users/bb/opt/anaconda3/lib/python3.8/site-packages (from matplotlib->wordcloud) (1.3.0)\n",
      "Requirement already satisfied: certifi>=2020.06.20 in /Users/bb/opt/anaconda3/lib/python3.8/site-packages (from matplotlib->wordcloud) (2020.12.5)\n",
      "Requirement already satisfied: cycler>=0.10 in /Users/bb/opt/anaconda3/lib/python3.8/site-packages (from matplotlib->wordcloud) (0.10.0)\n",
      "Requirement already satisfied: six in /Users/bb/opt/anaconda3/lib/python3.8/site-packages (from cycler>=0.10->matplotlib->wordcloud) (1.15.0)\n",
      "Note: you may need to restart the kernel to use updated packages.\n"
     ]
    }
   ],
   "source": [
    "%pip install wordcloud"
   ]
  },
  {
   "cell_type": "code",
   "execution_count": 2,
   "id": "proof-hands",
   "metadata": {},
   "outputs": [],
   "source": [
    "review = \"\"\"\n",
    "This film is absolutely awful, but nevertheless, it can be hilarious at times,\n",
    "although this humor is entirely unintentional.The plot was beyond ridiculous.\n",
    "I don't even think a 2 year-old would be convinced by the ludicrous idiocy that\n",
    "the film-makers tried to slap together into a story. However, on the positive\n",
    "side, some of the horrifically inane plot twists provide a great deal of humor.\n",
    "For example, \"Wow, Lady Hogbottom has a giant missile hidden in her back yard!\"\n",
    "It gets worse (and even funnier), but I'll spare you.The acting is generally\n",
    "laughable. Most of the kids' roles are sort of cute, but not very believable.\n",
    "On the other hand, Annie is pretty awful all-around. The adults don't take their\n",
    "roles seriously at all, but this is largely a good thing. If they'd tried to be\n",
    "believable, the film would've been even worse. Which is difficult to imagine.\n",
    "Once you get past the overall crappiness of the movie, there are actually a few\n",
    "standout moments of almost-not-crappiness. The scene where Lady Hogbottom's son\n",
    "runs away with the maid is surprisingly hilarious, though it's an annoying letdown\n",
    "when they get caught by the police. The butler character, while very minor, is a ray\n",
    "of sunlight that almost, but never quite pierces through the gloom.Watching this\n",
    "movie actually caused me physical pain. Nevertheless, there were a few redeeming\n",
    "parts that made it almost watchable without beginning to hemorrhage internally.\n",
    "Judged on its good parts alone, the movie would be about a 5; unfortunately,\n",
    "the rest of the movie hardly deserves a 1. Thus, I give it a 3. That's being pretty\n",
    "generous, I'd say.\n",
    "\"\"\""
   ]
  },
  {
   "cell_type": "code",
   "execution_count": 3,
   "id": "indian-joint",
   "metadata": {},
   "outputs": [
    {
     "data": {
      "text/plain": [
       "['this',\n",
       " 'film',\n",
       " 'is',\n",
       " 'absolutely',\n",
       " 'awful',\n",
       " 'but',\n",
       " 'nevertheless',\n",
       " 'it',\n",
       " 'can',\n",
       " 'be',\n",
       " 'hilarious',\n",
       " 'at',\n",
       " 'times',\n",
       " 'although',\n",
       " 'this',\n",
       " 'humor',\n",
       " 'is',\n",
       " 'entirely',\n",
       " 'unintentional',\n",
       " 'the',\n",
       " 'plot',\n",
       " 'was',\n",
       " 'beyond',\n",
       " 'ridiculous',\n",
       " 'i',\n",
       " \"don't\",\n",
       " 'even',\n",
       " 'think',\n",
       " 'a',\n",
       " 'year',\n",
       " 'old',\n",
       " 'would',\n",
       " 'be',\n",
       " 'convinced',\n",
       " 'by',\n",
       " 'the',\n",
       " 'ludicrous',\n",
       " 'idiocy',\n",
       " 'that',\n",
       " 'the',\n",
       " 'film',\n",
       " 'makers',\n",
       " 'tried',\n",
       " 'to',\n",
       " 'slap',\n",
       " 'together',\n",
       " 'into',\n",
       " 'a',\n",
       " 'story',\n",
       " 'however',\n",
       " 'on',\n",
       " 'the',\n",
       " 'positive',\n",
       " 'side',\n",
       " 'some',\n",
       " 'of',\n",
       " 'the',\n",
       " 'horrifically',\n",
       " 'inane',\n",
       " 'plot',\n",
       " 'twists',\n",
       " 'provide',\n",
       " 'a',\n",
       " 'great',\n",
       " 'deal',\n",
       " 'of',\n",
       " 'humor',\n",
       " 'for',\n",
       " 'example',\n",
       " 'wow',\n",
       " 'lady',\n",
       " 'hogbottom',\n",
       " 'has',\n",
       " 'a',\n",
       " 'giant',\n",
       " 'missile',\n",
       " 'hidden',\n",
       " 'in',\n",
       " 'her',\n",
       " 'back',\n",
       " 'yard',\n",
       " 'it',\n",
       " 'gets',\n",
       " 'worse',\n",
       " 'and',\n",
       " 'even',\n",
       " 'funnier',\n",
       " 'but',\n",
       " \"i'll\",\n",
       " 'spare',\n",
       " 'you',\n",
       " 'the',\n",
       " 'acting',\n",
       " 'is',\n",
       " 'generally',\n",
       " 'laughable',\n",
       " 'most',\n",
       " 'of',\n",
       " 'the',\n",
       " \"kids'\",\n",
       " 'roles',\n",
       " 'are',\n",
       " 'sort',\n",
       " 'of',\n",
       " 'cute',\n",
       " 'but',\n",
       " 'not',\n",
       " 'very',\n",
       " 'believable',\n",
       " 'on',\n",
       " 'the',\n",
       " 'other',\n",
       " 'hand',\n",
       " 'annie',\n",
       " 'is',\n",
       " 'pretty',\n",
       " 'awful',\n",
       " 'all',\n",
       " 'around',\n",
       " 'the',\n",
       " 'adults',\n",
       " \"don't\",\n",
       " 'take',\n",
       " 'their',\n",
       " 'roles',\n",
       " 'seriously',\n",
       " 'at',\n",
       " 'all',\n",
       " 'but',\n",
       " 'this',\n",
       " 'is',\n",
       " 'largely',\n",
       " 'a',\n",
       " 'good',\n",
       " 'thing',\n",
       " 'if',\n",
       " \"they'd\",\n",
       " 'tried',\n",
       " 'to',\n",
       " 'be',\n",
       " 'believable',\n",
       " 'the',\n",
       " 'film',\n",
       " \"would've\",\n",
       " 'been',\n",
       " 'even',\n",
       " 'worse',\n",
       " 'which',\n",
       " 'is',\n",
       " 'difficult',\n",
       " 'to',\n",
       " 'imagine',\n",
       " 'once',\n",
       " 'you',\n",
       " 'get',\n",
       " 'past',\n",
       " 'the',\n",
       " 'overall',\n",
       " 'crappiness',\n",
       " 'of',\n",
       " 'the',\n",
       " 'movie',\n",
       " 'there',\n",
       " 'are',\n",
       " 'actually',\n",
       " 'a',\n",
       " 'few',\n",
       " 'standout',\n",
       " 'moments',\n",
       " 'of',\n",
       " 'almost',\n",
       " 'not',\n",
       " 'crappiness',\n",
       " 'the',\n",
       " 'scene',\n",
       " 'where',\n",
       " 'lady',\n",
       " \"hogbottom's\",\n",
       " 'son',\n",
       " 'runs',\n",
       " 'away',\n",
       " 'with',\n",
       " 'the',\n",
       " 'maid',\n",
       " 'is',\n",
       " 'surprisingly',\n",
       " 'hilarious',\n",
       " 'though',\n",
       " \"it's\",\n",
       " 'an',\n",
       " 'annoying',\n",
       " 'letdown',\n",
       " 'when',\n",
       " 'they',\n",
       " 'get',\n",
       " 'caught',\n",
       " 'by',\n",
       " 'the',\n",
       " 'police',\n",
       " 'the',\n",
       " 'butler',\n",
       " 'character',\n",
       " 'while',\n",
       " 'very',\n",
       " 'minor',\n",
       " 'is',\n",
       " 'a',\n",
       " 'ray',\n",
       " 'of',\n",
       " 'sunlight',\n",
       " 'that',\n",
       " 'almost',\n",
       " 'but',\n",
       " 'never',\n",
       " 'quite',\n",
       " 'pierces',\n",
       " 'through',\n",
       " 'the',\n",
       " 'gloom',\n",
       " 'watching',\n",
       " 'this',\n",
       " 'movie',\n",
       " 'actually',\n",
       " 'caused',\n",
       " 'me',\n",
       " 'physical',\n",
       " 'pain',\n",
       " 'nevertheless',\n",
       " 'there',\n",
       " 'were',\n",
       " 'a',\n",
       " 'few',\n",
       " 'redeeming',\n",
       " 'parts',\n",
       " 'that',\n",
       " 'made',\n",
       " 'it',\n",
       " 'almost',\n",
       " 'watchable',\n",
       " 'without',\n",
       " 'beginning',\n",
       " 'to',\n",
       " 'hemorrhage',\n",
       " 'internally',\n",
       " 'judged',\n",
       " 'on',\n",
       " 'its',\n",
       " 'good',\n",
       " 'parts',\n",
       " 'alone',\n",
       " 'the',\n",
       " 'movie',\n",
       " 'would',\n",
       " 'be',\n",
       " 'about',\n",
       " 'a',\n",
       " 'unfortunately',\n",
       " 'the',\n",
       " 'rest',\n",
       " 'of',\n",
       " 'the',\n",
       " 'movie',\n",
       " 'hardly',\n",
       " 'deserves',\n",
       " 'a',\n",
       " 'thus',\n",
       " 'i',\n",
       " 'give',\n",
       " 'it',\n",
       " 'a',\n",
       " \"that's\",\n",
       " 'being',\n",
       " 'pretty',\n",
       " 'generous',\n",
       " \"i'd\",\n",
       " 'say']"
      ]
     },
     "execution_count": 3,
     "metadata": {},
     "output_type": "execute_result"
    }
   ],
   "source": [
    "import re\n",
    "from collections import Counter\n",
    "\n",
    "words = re.findall(r\"[a-z']+\", review.lower())\n",
    "words"
   ]
  },
  {
   "cell_type": "code",
   "execution_count": 4,
   "id": "minimal-delhi",
   "metadata": {},
   "outputs": [],
   "source": [
    "counts = Counter(words)"
   ]
  },
  {
   "cell_type": "code",
   "execution_count": 6,
   "id": "correct-processing",
   "metadata": {},
   "outputs": [
    {
     "data": {
      "text/plain": [
       "[('the', 20),\n",
       " ('a', 11),\n",
       " ('is', 8),\n",
       " ('of', 8),\n",
       " ('but', 5),\n",
       " ('this', 4),\n",
       " ('it', 4),\n",
       " ('be', 4),\n",
       " ('to', 4),\n",
       " ('movie', 4)]"
      ]
     },
     "execution_count": 6,
     "metadata": {},
     "output_type": "execute_result"
    }
   ],
   "source": [
    "counts.most_common(10)"
   ]
  },
  {
   "cell_type": "code",
   "execution_count": 14,
   "id": "adapted-roller",
   "metadata": {},
   "outputs": [
    {
     "data": {
      "image/png": "[encoded data removed]",
      "text/plain": [
       "<Figure size 720x360 with 1 Axes>"
      ]
     },
     "metadata": {
      "needs_background": "light"
     },
     "output_type": "display_data"
    }
   ],
   "source": [
    "from wordcloud import WordCloud\n",
    "\n",
    "wc = WordCloud(max_words=100, background_color=\"black\", colormap=\"jet\")\n",
    "wc.generate_from_frequencies(counts)\n",
    "\n",
    "import matplotlib.pyplot as plt\n",
    "\n",
    "plt.figure(figsize=(10, 5))\n",
    "plt.imshow(wc)\n",
    "plt.axis(\"off\")\n",
    "plt.show()"
   ]
  },
  {
   "cell_type": "code",
   "execution_count": 19,
   "id": "catholic-roots",
   "metadata": {},
   "outputs": [
    {
     "data": {
      "image/png": "[encoded data removed]",
      "text/plain": [
       "<Figure size 720x360 with 1 Axes>"
      ]
     },
     "metadata": {
      "needs_background": "light"
     },
     "output_type": "display_data"
    }
   ],
   "source": [
    "from wordcloud import WordCloud\n",
    "\n",
    "wc = WordCloud(stopwords=['the', 'a', 'of'], max_words=100, background_color=\"black\", colormap=\"jet\")\n",
    "wc.generate_from_text(review)\n",
    "\n",
    "import matplotlib.pyplot as plt\n",
    "\n",
    "plt.figure(figsize=(10, 5))\n",
    "plt.imshow(wc)\n",
    "plt.axis(\"off\")\n",
    "plt.show()"
   ]
  },
  {
   "cell_type": "code",
   "execution_count": 22,
   "id": "liable-personal",
   "metadata": {},
   "outputs": [],
   "source": [
    "WordCloud?"
   ]
  },
  {
   "cell_type": "markdown",
   "id": "indirect-toilet",
   "metadata": {},
   "source": [
    "## Back to SQL"
   ]
  },
  {
   "cell_type": "code",
   "execution_count": 1,
   "id": "stuffed-giving",
   "metadata": {},
   "outputs": [],
   "source": [
    "%load_ext sql"
   ]
  },
  {
   "cell_type": "code",
   "execution_count": 2,
   "id": "sized-breakfast",
   "metadata": {},
   "outputs": [],
   "source": [
    "%%sql\n",
    "sqlite:///gradebook_data.sqlite"
   ]
  },
  {
   "cell_type": "code",
   "execution_count": 3,
   "id": "comic-ethiopia",
   "metadata": {},
   "outputs": [
    {
     "name": "stdout",
     "output_type": "stream",
     "text": [
      " * sqlite:///gradebook_data.sqlite\n",
      "Done.\n"
     ]
    },
    {
     "data": {
      "text/plain": [
       "[]"
      ]
     },
     "execution_count": 3,
     "metadata": {},
     "output_type": "execute_result"
    }
   ],
   "source": [
    "%%sql\n",
    "DROP TABLE IF EXISTS test"
   ]
  },
  {
   "cell_type": "code",
   "execution_count": 27,
   "id": "happy-number",
   "metadata": {},
   "outputs": [
    {
     "data": {
      "text/plain": [
       "'1.3.24'"
      ]
     },
     "execution_count": 27,
     "metadata": {},
     "output_type": "execute_result"
    }
   ],
   "source": [
    "import sqlalchemy\n",
    "sqlalchemy.__version__"
   ]
  },
  {
   "cell_type": "code",
   "execution_count": 28,
   "id": "touched-relief",
   "metadata": {},
   "outputs": [
    {
     "name": "stdout",
     "output_type": "stream",
     "text": [
      "Requirement already satisfied: sqlalchemy<1.4 in /Users/bb/opt/anaconda3/lib/python3.8/site-packages (1.3.24)\n",
      "Note: you may need to restart the kernel to use updated packages.\n"
     ]
    }
   ],
   "source": [
    "%pip install \"sqlalchemy<1.4\""
   ]
  },
  {
   "cell_type": "code",
   "execution_count": 4,
   "id": "mathematical-easter",
   "metadata": {},
   "outputs": [
    {
     "name": "stdout",
     "output_type": "stream",
     "text": [
      " * sqlite:///gradebook_data.sqlite\n",
      "Done.\n"
     ]
    },
    {
     "data": {
      "text/html": [
       "<table>\n",
       "    <tr>\n",
       "        <th>student_id</th>\n",
       "        <th>first_name</th>\n",
       "        <th>last_name</th>\n",
       "        <th>major</th>\n",
       "        <th>exam1</th>\n",
       "        <th>exam2</th>\n",
       "        <th>exam3</th>\n",
       "    </tr>\n",
       "    <tr>\n",
       "        <td>2712</td>\n",
       "        <td>Starr</td>\n",
       "        <td>Bachand</td>\n",
       "        <td>computer science</td>\n",
       "        <td>None</td>\n",
       "        <td>27</td>\n",
       "        <td>85</td>\n",
       "    </tr>\n",
       "    <tr>\n",
       "        <td>3548</td>\n",
       "        <td>Marcia</td>\n",
       "        <td>Hinkel</td>\n",
       "        <td>biology</td>\n",
       "        <td>79</td>\n",
       "        <td>10</td>\n",
       "        <td>41</td>\n",
       "    </tr>\n",
       "    <tr>\n",
       "        <td>3877</td>\n",
       "        <td>Chu</td>\n",
       "        <td>Flax</td>\n",
       "        <td>mathematics</td>\n",
       "        <td>72</td>\n",
       "        <td>None</td>\n",
       "        <td>29</td>\n",
       "    </tr>\n",
       "    <tr>\n",
       "        <td>5108</td>\n",
       "        <td>Shawnna</td>\n",
       "        <td>Coate</td>\n",
       "        <td>computer science</td>\n",
       "        <td>79</td>\n",
       "        <td>96</td>\n",
       "        <td>61</td>\n",
       "    </tr>\n",
       "    <tr>\n",
       "        <td>5775</td>\n",
       "        <td>Rosina</td>\n",
       "        <td>Hovey</td>\n",
       "        <td>biology</td>\n",
       "        <td>96</td>\n",
       "        <td>13</td>\n",
       "        <td>99</td>\n",
       "    </tr>\n",
       "    <tr>\n",
       "        <td>5787</td>\n",
       "        <td>Tenisha</td>\n",
       "        <td>Rippel</td>\n",
       "        <td>computer science</td>\n",
       "        <td>27</td>\n",
       "        <td>54</td>\n",
       "        <td>79</td>\n",
       "    </tr>\n",
       "    <tr>\n",
       "        <td>6245</td>\n",
       "        <td>Adelina</td>\n",
       "        <td>Brummitt</td>\n",
       "        <td>mathematics</td>\n",
       "        <td>None</td>\n",
       "        <td>67</td>\n",
       "        <td>99</td>\n",
       "    </tr>\n",
       "    <tr>\n",
       "        <td>7138</td>\n",
       "        <td>Fran</td>\n",
       "        <td>Mount</td>\n",
       "        <td>biology</td>\n",
       "        <td>71</td>\n",
       "        <td>5</td>\n",
       "        <td>80</td>\n",
       "    </tr>\n",
       "    <tr>\n",
       "        <td>7256</td>\n",
       "        <td>Rosalinda</td>\n",
       "        <td>Trippe</td>\n",
       "        <td>computer science</td>\n",
       "        <td>None</td>\n",
       "        <td>None</td>\n",
       "        <td>82</td>\n",
       "    </tr>\n",
       "    <tr>\n",
       "        <td>8911</td>\n",
       "        <td>Lottie</td>\n",
       "        <td>Champine</td>\n",
       "        <td>computer science</td>\n",
       "        <td>None</td>\n",
       "        <td>None</td>\n",
       "        <td>62</td>\n",
       "    </tr>\n",
       "    <tr>\n",
       "        <td>9165</td>\n",
       "        <td>Ludivina</td>\n",
       "        <td>Hoskin</td>\n",
       "        <td>mathematics</td>\n",
       "        <td>27</td>\n",
       "        <td>55</td>\n",
       "        <td>None</td>\n",
       "    </tr>\n",
       "    <tr>\n",
       "        <td>9346</td>\n",
       "        <td>Stanton</td>\n",
       "        <td>Mcgaugh</td>\n",
       "        <td>computer science</td>\n",
       "        <td>6</td>\n",
       "        <td>60</td>\n",
       "        <td>40</td>\n",
       "    </tr>\n",
       "    <tr>\n",
       "        <td>9667</td>\n",
       "        <td>Jonnie</td>\n",
       "        <td>Hillock</td>\n",
       "        <td>mathematics</td>\n",
       "        <td>56</td>\n",
       "        <td>24</td>\n",
       "        <td>72</td>\n",
       "    </tr>\n",
       "</table>"
      ],
      "text/plain": [
       "[(2712, 'Starr', 'Bachand', 'computer science', None, 27, 85),\n",
       " (3548, 'Marcia', 'Hinkel', 'biology', 79, 10, 41),\n",
       " (3877, 'Chu', 'Flax', 'mathematics', 72, None, 29),\n",
       " (5108, 'Shawnna', 'Coate', 'computer science', 79, 96, 61),\n",
       " (5775, 'Rosina', 'Hovey', 'biology', 96, 13, 99),\n",
       " (5787, 'Tenisha', 'Rippel', 'computer science', 27, 54, 79),\n",
       " (6245, 'Adelina', 'Brummitt', 'mathematics', None, 67, 99),\n",
       " (7138, 'Fran', 'Mount', 'biology', 71, 5, 80),\n",
       " (7256, 'Rosalinda', 'Trippe', 'computer science', None, None, 82),\n",
       " (8911, 'Lottie', 'Champine', 'computer science', None, None, 62),\n",
       " (9165, 'Ludivina', 'Hoskin', 'mathematics', 27, 55, None),\n",
       " (9346, 'Stanton', 'Mcgaugh', 'computer science', 6, 60, 40),\n",
       " (9667, 'Jonnie', 'Hillock', 'mathematics', 56, 24, 72)]"
      ]
     },
     "execution_count": 4,
     "metadata": {},
     "output_type": "execute_result"
    }
   ],
   "source": [
    "%%sql\n",
    "SELECT * \n",
    "FROM gradebook"
   ]
  },
  {
   "cell_type": "markdown",
   "id": "impressive-pattern",
   "metadata": {},
   "source": [
    "## Aggregations"
   ]
  },
  {
   "cell_type": "code",
   "execution_count": 7,
   "id": "harmful-regulation",
   "metadata": {},
   "outputs": [
    {
     "name": "stdout",
     "output_type": "stream",
     "text": [
      " * sqlite:///gradebook_data.sqlite\n",
      "Done.\n"
     ]
    },
    {
     "data": {
      "text/html": [
       "<table>\n",
       "    <tr>\n",
       "        <th>COUNT(exam1)</th>\n",
       "        <th>COUNT(exam2)</th>\n",
       "        <th>COUNT(exam3)</th>\n",
       "        <th>COUNT(*)</th>\n",
       "    </tr>\n",
       "    <tr>\n",
       "        <td>9</td>\n",
       "        <td>10</td>\n",
       "        <td>12</td>\n",
       "        <td>13</td>\n",
       "    </tr>\n",
       "</table>"
      ],
      "text/plain": [
       "[(9, 10, 12, 13)]"
      ]
     },
     "execution_count": 7,
     "metadata": {},
     "output_type": "execute_result"
    }
   ],
   "source": [
    "%%sql\n",
    "SELECT COUNT(exam1), COUNT(exam2), COUNT(exam3), COUNT(*)\n",
    "FROM gradebook;"
   ]
  },
  {
   "cell_type": "code",
   "execution_count": 8,
   "id": "motivated-audio",
   "metadata": {},
   "outputs": [
    {
     "name": "stdout",
     "output_type": "stream",
     "text": [
      " * sqlite:///gradebook_data.sqlite\n",
      "Done.\n"
     ]
    },
    {
     "data": {
      "text/html": [
       "<table>\n",
       "    <tr>\n",
       "        <th>COUNT( DISTINCT exam1)</th>\n",
       "        <th>COUNT(DISTINCT exam2)</th>\n",
       "        <th>COUNT(DISTINCT exam3)</th>\n",
       "        <th>COUNT(*)</th>\n",
       "    </tr>\n",
       "    <tr>\n",
       "        <td>7</td>\n",
       "        <td>10</td>\n",
       "        <td>11</td>\n",
       "        <td>13</td>\n",
       "    </tr>\n",
       "</table>"
      ],
      "text/plain": [
       "[(7, 10, 11, 13)]"
      ]
     },
     "execution_count": 8,
     "metadata": {},
     "output_type": "execute_result"
    }
   ],
   "source": [
    "%%sql\n",
    "SELECT COUNT( DISTINCT exam1), COUNT(DISTINCT exam2), COUNT(DISTINCT exam3), COUNT(*)\n",
    "FROM gradebook;"
   ]
  },
  {
   "cell_type": "code",
   "execution_count": 10,
   "id": "spare-inspection",
   "metadata": {},
   "outputs": [
    {
     "name": "stdout",
     "output_type": "stream",
     "text": [
      " * sqlite:///gradebook_data.sqlite\n",
      "Done.\n"
     ]
    },
    {
     "data": {
      "text/html": [
       "<table>\n",
       "    <tr>\n",
       "        <th>ex_1_avg</th>\n",
       "        <th>AVG(exam2)</th>\n",
       "        <th>AVG(exam3)</th>\n",
       "    </tr>\n",
       "    <tr>\n",
       "        <td>57.0</td>\n",
       "        <td>41.1</td>\n",
       "        <td>69.08333333333333</td>\n",
       "    </tr>\n",
       "</table>"
      ],
      "text/plain": [
       "[(57.0, 41.1, 69.08333333333333)]"
      ]
     },
     "execution_count": 10,
     "metadata": {},
     "output_type": "execute_result"
    }
   ],
   "source": [
    "%%sql\n",
    "SELECT AVG(exam1) AS ex_1_avg, AVG(exam2), AVG(exam3)\n",
    "FROM gradebook;"
   ]
  },
  {
   "cell_type": "code",
   "execution_count": 11,
   "id": "vocational-geography",
   "metadata": {},
   "outputs": [
    {
     "name": "stdout",
     "output_type": "stream",
     "text": [
      " * sqlite:///gradebook_data.sqlite\n",
      "Done.\n"
     ]
    },
    {
     "data": {
      "text/html": [
       "<table>\n",
       "    <tr>\n",
       "        <th>ROUND(AVG(exam1), 2)</th>\n",
       "        <th>ROUND(AVG(exam2), 2)</th>\n",
       "        <th>ROUND(AVG(exam3), 2)</th>\n",
       "    </tr>\n",
       "    <tr>\n",
       "        <td>57.0</td>\n",
       "        <td>41.1</td>\n",
       "        <td>69.08</td>\n",
       "    </tr>\n",
       "</table>"
      ],
      "text/plain": [
       "[(57.0, 41.1, 69.08)]"
      ]
     },
     "execution_count": 11,
     "metadata": {},
     "output_type": "execute_result"
    }
   ],
   "source": [
    "%%sql\n",
    "SELECT ROUND(AVG(exam1), 2), ROUND(AVG(exam2), 2), ROUND(AVG(exam3), 2)\n",
    "FROM gradebook;"
   ]
  },
  {
   "cell_type": "code",
   "execution_count": 14,
   "id": "dominican-mongolia",
   "metadata": {},
   "outputs": [
    {
     "name": "stdout",
     "output_type": "stream",
     "text": [
      " * sqlite:///gradebook_data.sqlite\n",
      "Done.\n"
     ]
    },
    {
     "data": {
      "text/html": [
       "<table>\n",
       "    <tr>\n",
       "        <th>MAX(exam1)</th>\n",
       "        <th>MIN(exam2)</th>\n",
       "        <th>SUM(exam3)</th>\n",
       "    </tr>\n",
       "    <tr>\n",
       "        <td>96</td>\n",
       "        <td>5</td>\n",
       "        <td>829</td>\n",
       "    </tr>\n",
       "</table>"
      ],
      "text/plain": [
       "[(96, 5, 829)]"
      ]
     },
     "execution_count": 14,
     "metadata": {},
     "output_type": "execute_result"
    }
   ],
   "source": [
    "%%sql\n",
    "SELECT MAX(exam1), MIN(exam2), SUM(exam3)\n",
    "FROM gradebook;"
   ]
  },
  {
   "cell_type": "markdown",
   "id": "advance-thumbnail",
   "metadata": {},
   "source": [
    "## GROUP BY"
   ]
  },
  {
   "cell_type": "code",
   "execution_count": 16,
   "id": "adaptive-novelty",
   "metadata": {},
   "outputs": [
    {
     "name": "stdout",
     "output_type": "stream",
     "text": [
      " * sqlite:///gradebook_data.sqlite\n",
      "Done.\n"
     ]
    },
    {
     "data": {
      "text/html": [
       "<table>\n",
       "    <tr>\n",
       "        <th>student_id</th>\n",
       "        <th>first_name</th>\n",
       "        <th>last_name</th>\n",
       "        <th>major</th>\n",
       "        <th>exam1</th>\n",
       "        <th>exam2</th>\n",
       "        <th>exam3</th>\n",
       "    </tr>\n",
       "    <tr>\n",
       "        <td>2712</td>\n",
       "        <td>Starr</td>\n",
       "        <td>Bachand</td>\n",
       "        <td>computer science</td>\n",
       "        <td>None</td>\n",
       "        <td>27</td>\n",
       "        <td>85</td>\n",
       "    </tr>\n",
       "    <tr>\n",
       "        <td>3548</td>\n",
       "        <td>Marcia</td>\n",
       "        <td>Hinkel</td>\n",
       "        <td>biology</td>\n",
       "        <td>79</td>\n",
       "        <td>10</td>\n",
       "        <td>41</td>\n",
       "    </tr>\n",
       "    <tr>\n",
       "        <td>3877</td>\n",
       "        <td>Chu</td>\n",
       "        <td>Flax</td>\n",
       "        <td>mathematics</td>\n",
       "        <td>72</td>\n",
       "        <td>None</td>\n",
       "        <td>29</td>\n",
       "    </tr>\n",
       "    <tr>\n",
       "        <td>5108</td>\n",
       "        <td>Shawnna</td>\n",
       "        <td>Coate</td>\n",
       "        <td>computer science</td>\n",
       "        <td>79</td>\n",
       "        <td>96</td>\n",
       "        <td>61</td>\n",
       "    </tr>\n",
       "    <tr>\n",
       "        <td>5775</td>\n",
       "        <td>Rosina</td>\n",
       "        <td>Hovey</td>\n",
       "        <td>biology</td>\n",
       "        <td>96</td>\n",
       "        <td>13</td>\n",
       "        <td>99</td>\n",
       "    </tr>\n",
       "    <tr>\n",
       "        <td>5787</td>\n",
       "        <td>Tenisha</td>\n",
       "        <td>Rippel</td>\n",
       "        <td>computer science</td>\n",
       "        <td>27</td>\n",
       "        <td>54</td>\n",
       "        <td>79</td>\n",
       "    </tr>\n",
       "    <tr>\n",
       "        <td>6245</td>\n",
       "        <td>Adelina</td>\n",
       "        <td>Brummitt</td>\n",
       "        <td>mathematics</td>\n",
       "        <td>None</td>\n",
       "        <td>67</td>\n",
       "        <td>99</td>\n",
       "    </tr>\n",
       "    <tr>\n",
       "        <td>7138</td>\n",
       "        <td>Fran</td>\n",
       "        <td>Mount</td>\n",
       "        <td>biology</td>\n",
       "        <td>71</td>\n",
       "        <td>5</td>\n",
       "        <td>80</td>\n",
       "    </tr>\n",
       "    <tr>\n",
       "        <td>7256</td>\n",
       "        <td>Rosalinda</td>\n",
       "        <td>Trippe</td>\n",
       "        <td>computer science</td>\n",
       "        <td>None</td>\n",
       "        <td>None</td>\n",
       "        <td>82</td>\n",
       "    </tr>\n",
       "    <tr>\n",
       "        <td>8911</td>\n",
       "        <td>Lottie</td>\n",
       "        <td>Champine</td>\n",
       "        <td>computer science</td>\n",
       "        <td>None</td>\n",
       "        <td>None</td>\n",
       "        <td>62</td>\n",
       "    </tr>\n",
       "    <tr>\n",
       "        <td>9165</td>\n",
       "        <td>Ludivina</td>\n",
       "        <td>Hoskin</td>\n",
       "        <td>mathematics</td>\n",
       "        <td>27</td>\n",
       "        <td>55</td>\n",
       "        <td>None</td>\n",
       "    </tr>\n",
       "    <tr>\n",
       "        <td>9346</td>\n",
       "        <td>Stanton</td>\n",
       "        <td>Mcgaugh</td>\n",
       "        <td>computer science</td>\n",
       "        <td>6</td>\n",
       "        <td>60</td>\n",
       "        <td>40</td>\n",
       "    </tr>\n",
       "    <tr>\n",
       "        <td>9667</td>\n",
       "        <td>Jonnie</td>\n",
       "        <td>Hillock</td>\n",
       "        <td>mathematics</td>\n",
       "        <td>56</td>\n",
       "        <td>24</td>\n",
       "        <td>72</td>\n",
       "    </tr>\n",
       "</table>"
      ],
      "text/plain": [
       "[(2712, 'Starr', 'Bachand', 'computer science', None, 27, 85),\n",
       " (3548, 'Marcia', 'Hinkel', 'biology', 79, 10, 41),\n",
       " (3877, 'Chu', 'Flax', 'mathematics', 72, None, 29),\n",
       " (5108, 'Shawnna', 'Coate', 'computer science', 79, 96, 61),\n",
       " (5775, 'Rosina', 'Hovey', 'biology', 96, 13, 99),\n",
       " (5787, 'Tenisha', 'Rippel', 'computer science', 27, 54, 79),\n",
       " (6245, 'Adelina', 'Brummitt', 'mathematics', None, 67, 99),\n",
       " (7138, 'Fran', 'Mount', 'biology', 71, 5, 80),\n",
       " (7256, 'Rosalinda', 'Trippe', 'computer science', None, None, 82),\n",
       " (8911, 'Lottie', 'Champine', 'computer science', None, None, 62),\n",
       " (9165, 'Ludivina', 'Hoskin', 'mathematics', 27, 55, None),\n",
       " (9346, 'Stanton', 'Mcgaugh', 'computer science', 6, 60, 40),\n",
       " (9667, 'Jonnie', 'Hillock', 'mathematics', 56, 24, 72)]"
      ]
     },
     "execution_count": 16,
     "metadata": {},
     "output_type": "execute_result"
    }
   ],
   "source": [
    "%%sql\n",
    "SELECT * \n",
    "FROM gradebook;"
   ]
  },
  {
   "cell_type": "code",
   "execution_count": 19,
   "id": "identified-cambridge",
   "metadata": {},
   "outputs": [
    {
     "name": "stdout",
     "output_type": "stream",
     "text": [
      " * sqlite:///gradebook_data.sqlite\n",
      "Done.\n"
     ]
    },
    {
     "data": {
      "text/html": [
       "<table>\n",
       "    <tr>\n",
       "        <th>major</th>\n",
       "        <th>ROUND(AVG(exam1), 2)</th>\n",
       "        <th>ROUND(AVG(exam2), 2)</th>\n",
       "        <th>ROUND(AVG(exam3), 2)</th>\n",
       "    </tr>\n",
       "    <tr>\n",
       "        <td>biology</td>\n",
       "        <td>82.0</td>\n",
       "        <td>9.33</td>\n",
       "        <td>73.33</td>\n",
       "    </tr>\n",
       "    <tr>\n",
       "        <td>computer science</td>\n",
       "        <td>37.33</td>\n",
       "        <td>59.25</td>\n",
       "        <td>68.17</td>\n",
       "    </tr>\n",
       "    <tr>\n",
       "        <td>mathematics</td>\n",
       "        <td>51.67</td>\n",
       "        <td>48.67</td>\n",
       "        <td>66.67</td>\n",
       "    </tr>\n",
       "</table>"
      ],
      "text/plain": [
       "[('biology', 82.0, 9.33, 73.33),\n",
       " ('computer science', 37.33, 59.25, 68.17),\n",
       " ('mathematics', 51.67, 48.67, 66.67)]"
      ]
     },
     "execution_count": 19,
     "metadata": {},
     "output_type": "execute_result"
    }
   ],
   "source": [
    "%%sql\n",
    "SELECT major, ROUND(AVG(exam1), 2), ROUND(AVG(exam2), 2), ROUND(AVG(exam3), 2)\n",
    "FROM gradebook\n",
    "GROUP BY major;"
   ]
  },
  {
   "cell_type": "code",
   "execution_count": 20,
   "id": "convinced-trash",
   "metadata": {},
   "outputs": [
    {
     "name": "stdout",
     "output_type": "stream",
     "text": [
      " * sqlite:///gradebook_data.sqlite\n",
      "Done.\n"
     ]
    },
    {
     "data": {
      "text/html": [
       "<table>\n",
       "    <tr>\n",
       "        <th>major</th>\n",
       "        <th>GROUP_CONCAT(exam1, &quot;, &quot;)</th>\n",
       "    </tr>\n",
       "    <tr>\n",
       "        <td>biology</td>\n",
       "        <td>79, 96, 71</td>\n",
       "    </tr>\n",
       "    <tr>\n",
       "        <td>computer science</td>\n",
       "        <td>79, 27, 6</td>\n",
       "    </tr>\n",
       "    <tr>\n",
       "        <td>mathematics</td>\n",
       "        <td>72, 27, 56</td>\n",
       "    </tr>\n",
       "</table>"
      ],
      "text/plain": [
       "[('biology', '79, 96, 71'),\n",
       " ('computer science', '79, 27, 6'),\n",
       " ('mathematics', '72, 27, 56')]"
      ]
     },
     "execution_count": 20,
     "metadata": {},
     "output_type": "execute_result"
    }
   ],
   "source": [
    "%%sql \n",
    "SELECT major, GROUP_CONCAT(exam1, \", \")\n",
    "FROM gradebook\n",
    "GROUP BY major;"
   ]
  },
  {
   "cell_type": "code",
   "execution_count": 22,
   "id": "lightweight-bundle",
   "metadata": {},
   "outputs": [
    {
     "name": "stdout",
     "output_type": "stream",
     "text": [
      " * sqlite:///gradebook_data.sqlite\n",
      "Done.\n"
     ]
    },
    {
     "data": {
      "text/html": [
       "<table>\n",
       "    <tr>\n",
       "        <th>major</th>\n",
       "        <th>exam1_avg</th>\n",
       "    </tr>\n",
       "    <tr>\n",
       "        <td>biology</td>\n",
       "        <td>82.0</td>\n",
       "    </tr>\n",
       "    <tr>\n",
       "        <td>mathematics</td>\n",
       "        <td>51.67</td>\n",
       "    </tr>\n",
       "</table>"
      ],
      "text/plain": [
       "[('biology', 82.0), ('mathematics', 51.67)]"
      ]
     },
     "execution_count": 22,
     "metadata": {},
     "output_type": "execute_result"
    }
   ],
   "source": [
    "%%sql\n",
    "SELECT major, ROUND(AVG(exam1), 2) AS exam1_avg\n",
    "FROM gradebook\n",
    "GROUP BY major\n",
    "HAVING exam1_avg > 50"
   ]
  },
  {
   "cell_type": "markdown",
   "id": "metallic-committee",
   "metadata": {},
   "source": [
    "## Working with multiple tables"
   ]
  },
  {
   "cell_type": "code",
   "execution_count": 23,
   "id": "handed-luxury",
   "metadata": {},
   "outputs": [],
   "source": [
    "%%sql\n",
    "sqlite:///courses_data.sqlite"
   ]
  },
  {
   "cell_type": "code",
   "execution_count": 24,
   "id": "aerial-reverse",
   "metadata": {},
   "outputs": [
    {
     "name": "stdout",
     "output_type": "stream",
     "text": [
      " * sqlite:///courses_data.sqlite\n",
      "   sqlite:///gradebook_data.sqlite\n",
      "Done.\n"
     ]
    },
    {
     "data": {
      "text/html": [
       "<table>\n",
       "    <tr>\n",
       "        <th>type</th>\n",
       "        <th>name</th>\n",
       "        <th>tbl_name</th>\n",
       "        <th>rootpage</th>\n",
       "        <th>sql</th>\n",
       "    </tr>\n",
       "    <tr>\n",
       "        <td>table</td>\n",
       "        <td>students</td>\n",
       "        <td>students</td>\n",
       "        <td>2</td>\n",
       "        <td>CREATE TABLE students (<br>\tstudent_id INTEGER, <br>\tfirst_name TEXT, <br>\tlast_name TEXT, <br>\tmajor TEXT<br>)</td>\n",
       "    </tr>\n",
       "    <tr>\n",
       "        <td>table</td>\n",
       "        <td>mth141</td>\n",
       "        <td>mth141</td>\n",
       "        <td>3</td>\n",
       "        <td>CREATE TABLE mth141 (<br>\tstudent_id INTEGER, <br>\tgrade TEXT<br>)</td>\n",
       "    </tr>\n",
       "    <tr>\n",
       "        <td>table</td>\n",
       "        <td>eng101</td>\n",
       "        <td>eng101</td>\n",
       "        <td>4</td>\n",
       "        <td>CREATE TABLE eng101 (<br>\tstudent_id INTEGER, <br>\tgrade TEXT<br>)</td>\n",
       "    </tr>\n",
       "</table>"
      ],
      "text/plain": [
       "[('table', 'students', 'students', 2, 'CREATE TABLE students (\\n\\tstudent_id INTEGER, \\n\\tfirst_name TEXT, \\n\\tlast_name TEXT, \\n\\tmajor TEXT\\n)'),\n",
       " ('table', 'mth141', 'mth141', 3, 'CREATE TABLE mth141 (\\n\\tstudent_id INTEGER, \\n\\tgrade TEXT\\n)'),\n",
       " ('table', 'eng101', 'eng101', 4, 'CREATE TABLE eng101 (\\n\\tstudent_id INTEGER, \\n\\tgrade TEXT\\n)')]"
      ]
     },
     "execution_count": 24,
     "metadata": {},
     "output_type": "execute_result"
    }
   ],
   "source": [
    "%%sql\n",
    "SELECT * \n",
    "FROM sqlite_master;"
   ]
  },
  {
   "cell_type": "code",
   "execution_count": 25,
   "id": "earlier-revision",
   "metadata": {},
   "outputs": [
    {
     "name": "stdout",
     "output_type": "stream",
     "text": [
      " * sqlite:///courses_data.sqlite\n",
      "   sqlite:///gradebook_data.sqlite\n",
      "Done.\n"
     ]
    },
    {
     "data": {
      "text/html": [
       "<table>\n",
       "    <tr>\n",
       "        <th>student_id</th>\n",
       "        <th>first_name</th>\n",
       "        <th>last_name</th>\n",
       "        <th>major</th>\n",
       "    </tr>\n",
       "    <tr>\n",
       "        <td>196</td>\n",
       "        <td>Rosina</td>\n",
       "        <td>Hovey</td>\n",
       "        <td>biology</td>\n",
       "    </tr>\n",
       "    <tr>\n",
       "        <td>165</td>\n",
       "        <td>Stanton</td>\n",
       "        <td>Mcgaugh</td>\n",
       "        <td>biology</td>\n",
       "    </tr>\n",
       "    <tr>\n",
       "        <td>123</td>\n",
       "        <td>Jonnie</td>\n",
       "        <td>Hillock</td>\n",
       "        <td>mathematics</td>\n",
       "    </tr>\n",
       "    <tr>\n",
       "        <td>136</td>\n",
       "        <td>Chu</td>\n",
       "        <td>Flax</td>\n",
       "        <td>mathematics</td>\n",
       "    </tr>\n",
       "    <tr>\n",
       "        <td>122</td>\n",
       "        <td>Rosalinda</td>\n",
       "        <td>Trippe</td>\n",
       "        <td>biology</td>\n",
       "    </tr>\n",
       "    <tr>\n",
       "        <td>190</td>\n",
       "        <td>Fran</td>\n",
       "        <td>Mount</td>\n",
       "        <td>computer science</td>\n",
       "    </tr>\n",
       "    <tr>\n",
       "        <td>109</td>\n",
       "        <td>Shawnna</td>\n",
       "        <td>Coate</td>\n",
       "        <td>mathematics</td>\n",
       "    </tr>\n",
       "    <tr>\n",
       "        <td>189</td>\n",
       "        <td>Marcia</td>\n",
       "        <td>Hinkel</td>\n",
       "        <td>mathematics</td>\n",
       "    </tr>\n",
       "    <tr>\n",
       "        <td>101</td>\n",
       "        <td>Starr</td>\n",
       "        <td>Bachand</td>\n",
       "        <td>mathematics</td>\n",
       "    </tr>\n",
       "    <tr>\n",
       "        <td>124</td>\n",
       "        <td>Lottie</td>\n",
       "        <td>Champine</td>\n",
       "        <td>computer science</td>\n",
       "    </tr>\n",
       "    <tr>\n",
       "        <td>127</td>\n",
       "        <td>Adelina</td>\n",
       "        <td>Brummitt</td>\n",
       "        <td>biology</td>\n",
       "    </tr>\n",
       "    <tr>\n",
       "        <td>131</td>\n",
       "        <td>Tenisha</td>\n",
       "        <td>Rippel</td>\n",
       "        <td>biology</td>\n",
       "    </tr>\n",
       "    <tr>\n",
       "        <td>140</td>\n",
       "        <td>Ludivina</td>\n",
       "        <td>Hoskin</td>\n",
       "        <td>computer science</td>\n",
       "    </tr>\n",
       "    <tr>\n",
       "        <td>145</td>\n",
       "        <td>Ilona</td>\n",
       "        <td>Rabe</td>\n",
       "        <td>computer science</td>\n",
       "    </tr>\n",
       "    <tr>\n",
       "        <td>178</td>\n",
       "        <td>Nilsa</td>\n",
       "        <td>Mccallon</td>\n",
       "        <td>mathematics</td>\n",
       "    </tr>\n",
       "    <tr>\n",
       "        <td>132</td>\n",
       "        <td>Miquel</td>\n",
       "        <td>Follansbee</td>\n",
       "        <td>mathematics</td>\n",
       "    </tr>\n",
       "    <tr>\n",
       "        <td>144</td>\n",
       "        <td>Elyse</td>\n",
       "        <td>Boucher</td>\n",
       "        <td>computer science</td>\n",
       "    </tr>\n",
       "    <tr>\n",
       "        <td>157</td>\n",
       "        <td>Wilbert</td>\n",
       "        <td>Haskell</td>\n",
       "        <td>computer science</td>\n",
       "    </tr>\n",
       "    <tr>\n",
       "        <td>188</td>\n",
       "        <td>Randall</td>\n",
       "        <td>Lindbloom</td>\n",
       "        <td>mathematics</td>\n",
       "    </tr>\n",
       "    <tr>\n",
       "        <td>107</td>\n",
       "        <td>Irmgard</td>\n",
       "        <td>Gibney</td>\n",
       "        <td>biology</td>\n",
       "    </tr>\n",
       "</table>"
      ],
      "text/plain": [
       "[(196, 'Rosina', 'Hovey', 'biology'),\n",
       " (165, 'Stanton', 'Mcgaugh', 'biology'),\n",
       " (123, 'Jonnie', 'Hillock', 'mathematics'),\n",
       " (136, 'Chu', 'Flax', 'mathematics'),\n",
       " (122, 'Rosalinda', 'Trippe', 'biology'),\n",
       " (190, 'Fran', 'Mount', 'computer science'),\n",
       " (109, 'Shawnna', 'Coate', 'mathematics'),\n",
       " (189, 'Marcia', 'Hinkel', 'mathematics'),\n",
       " (101, 'Starr', 'Bachand', 'mathematics'),\n",
       " (124, 'Lottie', 'Champine', 'computer science'),\n",
       " (127, 'Adelina', 'Brummitt', 'biology'),\n",
       " (131, 'Tenisha', 'Rippel', 'biology'),\n",
       " (140, 'Ludivina', 'Hoskin', 'computer science'),\n",
       " (145, 'Ilona', 'Rabe', 'computer science'),\n",
       " (178, 'Nilsa', 'Mccallon', 'mathematics'),\n",
       " (132, 'Miquel', 'Follansbee', 'mathematics'),\n",
       " (144, 'Elyse', 'Boucher', 'computer science'),\n",
       " (157, 'Wilbert', 'Haskell', 'computer science'),\n",
       " (188, 'Randall', 'Lindbloom', 'mathematics'),\n",
       " (107, 'Irmgard', 'Gibney', 'biology')]"
      ]
     },
     "execution_count": 25,
     "metadata": {},
     "output_type": "execute_result"
    }
   ],
   "source": [
    "%%sql\n",
    "SELECT * \n",
    "FROM students"
   ]
  },
  {
   "cell_type": "code",
   "execution_count": 26,
   "id": "neural-senior",
   "metadata": {},
   "outputs": [
    {
     "name": "stdout",
     "output_type": "stream",
     "text": [
      " * sqlite:///courses_data.sqlite\n",
      "   sqlite:///gradebook_data.sqlite\n",
      "Done.\n"
     ]
    },
    {
     "data": {
      "text/html": [
       "<table>\n",
       "    <tr>\n",
       "        <th>student_id</th>\n",
       "        <th>grade</th>\n",
       "    </tr>\n",
       "    <tr>\n",
       "        <td>122</td>\n",
       "        <td>A</td>\n",
       "    </tr>\n",
       "    <tr>\n",
       "        <td>109</td>\n",
       "        <td>C</td>\n",
       "    </tr>\n",
       "    <tr>\n",
       "        <td>127</td>\n",
       "        <td>A</td>\n",
       "    </tr>\n",
       "    <tr>\n",
       "        <td>140</td>\n",
       "        <td>F</td>\n",
       "    </tr>\n",
       "    <tr>\n",
       "        <td>145</td>\n",
       "        <td>C</td>\n",
       "    </tr>\n",
       "    <tr>\n",
       "        <td>157</td>\n",
       "        <td>F</td>\n",
       "    </tr>\n",
       "    <tr>\n",
       "        <td>188</td>\n",
       "        <td>C</td>\n",
       "    </tr>\n",
       "</table>"
      ],
      "text/plain": [
       "[(122, 'A'),\n",
       " (109, 'C'),\n",
       " (127, 'A'),\n",
       " (140, 'F'),\n",
       " (145, 'C'),\n",
       " (157, 'F'),\n",
       " (188, 'C')]"
      ]
     },
     "execution_count": 26,
     "metadata": {},
     "output_type": "execute_result"
    }
   ],
   "source": [
    "%%sql \n",
    "SELECT *\n",
    "FROM mth141"
   ]
  },
  {
   "cell_type": "code",
   "execution_count": 27,
   "id": "pressing-exhaust",
   "metadata": {},
   "outputs": [
    {
     "name": "stdout",
     "output_type": "stream",
     "text": [
      " * sqlite:///courses_data.sqlite\n",
      "   sqlite:///gradebook_data.sqlite\n",
      "Done.\n"
     ]
    },
    {
     "data": {
      "text/html": [
       "<table>\n",
       "    <tr>\n",
       "        <th>student_id</th>\n",
       "        <th>grade</th>\n",
       "    </tr>\n",
       "    <tr>\n",
       "        <td>165</td>\n",
       "        <td>F</td>\n",
       "    </tr>\n",
       "    <tr>\n",
       "        <td>123</td>\n",
       "        <td>C</td>\n",
       "    </tr>\n",
       "    <tr>\n",
       "        <td>122</td>\n",
       "        <td>A</td>\n",
       "    </tr>\n",
       "    <tr>\n",
       "        <td>189</td>\n",
       "        <td>A</td>\n",
       "    </tr>\n",
       "    <tr>\n",
       "        <td>140</td>\n",
       "        <td>D</td>\n",
       "    </tr>\n",
       "    <tr>\n",
       "        <td>188</td>\n",
       "        <td>A</td>\n",
       "    </tr>\n",
       "</table>"
      ],
      "text/plain": [
       "[(165, 'F'), (123, 'C'), (122, 'A'), (189, 'A'), (140, 'D'), (188, 'A')]"
      ]
     },
     "execution_count": 27,
     "metadata": {},
     "output_type": "execute_result"
    }
   ],
   "source": [
    "%%sql \n",
    "SELECT *\n",
    "FROM eng101"
   ]
  },
  {
   "cell_type": "markdown",
   "id": "logical-carolina",
   "metadata": {},
   "source": [
    "## INTERSECT"
   ]
  },
  {
   "cell_type": "code",
   "execution_count": 28,
   "id": "sized-dimension",
   "metadata": {},
   "outputs": [
    {
     "name": "stdout",
     "output_type": "stream",
     "text": [
      " * sqlite:///courses_data.sqlite\n",
      "   sqlite:///gradebook_data.sqlite\n",
      "Done.\n"
     ]
    },
    {
     "data": {
      "text/html": [
       "<table>\n",
       "    <tr>\n",
       "        <th>student_id</th>\n",
       "    </tr>\n",
       "    <tr>\n",
       "        <td>122</td>\n",
       "    </tr>\n",
       "    <tr>\n",
       "        <td>140</td>\n",
       "    </tr>\n",
       "    <tr>\n",
       "        <td>188</td>\n",
       "    </tr>\n",
       "</table>"
      ],
      "text/plain": [
       "[(122,), (140,), (188,)]"
      ]
     },
     "execution_count": 28,
     "metadata": {},
     "output_type": "execute_result"
    }
   ],
   "source": [
    "%%sql\n",
    "SELECT student_id\n",
    "FROM mth141\n",
    "INTERSECT\n",
    "SELECT student_id\n",
    "FROM eng101"
   ]
  },
  {
   "cell_type": "markdown",
   "id": "western-cover",
   "metadata": {},
   "source": [
    "## UNION"
   ]
  },
  {
   "cell_type": "code",
   "execution_count": 29,
   "id": "ideal-chicken",
   "metadata": {},
   "outputs": [
    {
     "name": "stdout",
     "output_type": "stream",
     "text": [
      " * sqlite:///courses_data.sqlite\n",
      "   sqlite:///gradebook_data.sqlite\n",
      "Done.\n"
     ]
    },
    {
     "data": {
      "text/html": [
       "<table>\n",
       "    <tr>\n",
       "        <th>student_id</th>\n",
       "    </tr>\n",
       "    <tr>\n",
       "        <td>109</td>\n",
       "    </tr>\n",
       "    <tr>\n",
       "        <td>122</td>\n",
       "    </tr>\n",
       "    <tr>\n",
       "        <td>123</td>\n",
       "    </tr>\n",
       "    <tr>\n",
       "        <td>127</td>\n",
       "    </tr>\n",
       "    <tr>\n",
       "        <td>140</td>\n",
       "    </tr>\n",
       "    <tr>\n",
       "        <td>145</td>\n",
       "    </tr>\n",
       "    <tr>\n",
       "        <td>157</td>\n",
       "    </tr>\n",
       "    <tr>\n",
       "        <td>165</td>\n",
       "    </tr>\n",
       "    <tr>\n",
       "        <td>188</td>\n",
       "    </tr>\n",
       "    <tr>\n",
       "        <td>189</td>\n",
       "    </tr>\n",
       "</table>"
      ],
      "text/plain": [
       "[(109,),\n",
       " (122,),\n",
       " (123,),\n",
       " (127,),\n",
       " (140,),\n",
       " (145,),\n",
       " (157,),\n",
       " (165,),\n",
       " (188,),\n",
       " (189,)]"
      ]
     },
     "execution_count": 29,
     "metadata": {},
     "output_type": "execute_result"
    }
   ],
   "source": [
    "%%sql\n",
    "SELECT student_id\n",
    "FROM mth141\n",
    "UNION\n",
    "SELECT student_id\n",
    "FROM eng101"
   ]
  },
  {
   "cell_type": "markdown",
   "id": "thirty-recipient",
   "metadata": {},
   "source": [
    "## EXCEPT"
   ]
  },
  {
   "cell_type": "code",
   "execution_count": 30,
   "id": "equivalent-microphone",
   "metadata": {},
   "outputs": [
    {
     "name": "stdout",
     "output_type": "stream",
     "text": [
      " * sqlite:///courses_data.sqlite\n",
      "   sqlite:///gradebook_data.sqlite\n",
      "Done.\n"
     ]
    },
    {
     "data": {
      "text/html": [
       "<table>\n",
       "    <tr>\n",
       "        <th>student_id</th>\n",
       "    </tr>\n",
       "    <tr>\n",
       "        <td>109</td>\n",
       "    </tr>\n",
       "    <tr>\n",
       "        <td>127</td>\n",
       "    </tr>\n",
       "    <tr>\n",
       "        <td>145</td>\n",
       "    </tr>\n",
       "    <tr>\n",
       "        <td>157</td>\n",
       "    </tr>\n",
       "</table>"
      ],
      "text/plain": [
       "[(109,), (127,), (145,), (157,)]"
      ]
     },
     "execution_count": 30,
     "metadata": {},
     "output_type": "execute_result"
    }
   ],
   "source": [
    "%%sql\n",
    "SELECT student_id\n",
    "FROM mth141\n",
    "EXCEPT\n",
    "SELECT student_id\n",
    "FROM eng101"
   ]
  },
  {
   "cell_type": "markdown",
   "id": "surgical-testing",
   "metadata": {},
   "source": [
    "## INNER JOIN"
   ]
  },
  {
   "cell_type": "code",
   "execution_count": 31,
   "id": "indoor-ceiling",
   "metadata": {},
   "outputs": [
    {
     "name": "stdout",
     "output_type": "stream",
     "text": [
      " * sqlite:///courses_data.sqlite\n",
      "   sqlite:///gradebook_data.sqlite\n",
      "Done.\n"
     ]
    },
    {
     "data": {
      "text/html": [
       "<table>\n",
       "    <tr>\n",
       "        <th>student_id</th>\n",
       "        <th>grade</th>\n",
       "        <th>student_id_1</th>\n",
       "        <th>grade_1</th>\n",
       "    </tr>\n",
       "    <tr>\n",
       "        <td>122</td>\n",
       "        <td>A</td>\n",
       "        <td>122</td>\n",
       "        <td>A</td>\n",
       "    </tr>\n",
       "    <tr>\n",
       "        <td>140</td>\n",
       "        <td>F</td>\n",
       "        <td>140</td>\n",
       "        <td>D</td>\n",
       "    </tr>\n",
       "    <tr>\n",
       "        <td>188</td>\n",
       "        <td>C</td>\n",
       "        <td>188</td>\n",
       "        <td>A</td>\n",
       "    </tr>\n",
       "</table>"
      ],
      "text/plain": [
       "[(122, 'A', 122, 'A'), (140, 'F', 140, 'D'), (188, 'C', 188, 'A')]"
      ]
     },
     "execution_count": 31,
     "metadata": {},
     "output_type": "execute_result"
    }
   ],
   "source": [
    "%%sql \n",
    "SELECT *\n",
    "FROM \n",
    "    mth141 INNER JOIN eng101\n",
    "    ON mth141.student_id = eng101.student_id"
   ]
  },
  {
   "cell_type": "code",
   "execution_count": 33,
   "id": "behavioral-answer",
   "metadata": {},
   "outputs": [
    {
     "name": "stdout",
     "output_type": "stream",
     "text": [
      " * sqlite:///courses_data.sqlite\n",
      "   sqlite:///gradebook_data.sqlite\n",
      "Done.\n"
     ]
    },
    {
     "data": {
      "text/html": [
       "<table>\n",
       "    <tr>\n",
       "        <th>student_id</th>\n",
       "        <th>mth141</th>\n",
       "        <th>eng101</th>\n",
       "    </tr>\n",
       "    <tr>\n",
       "        <td>122</td>\n",
       "        <td>A</td>\n",
       "        <td>A</td>\n",
       "    </tr>\n",
       "    <tr>\n",
       "        <td>140</td>\n",
       "        <td>F</td>\n",
       "        <td>D</td>\n",
       "    </tr>\n",
       "    <tr>\n",
       "        <td>188</td>\n",
       "        <td>C</td>\n",
       "        <td>A</td>\n",
       "    </tr>\n",
       "</table>"
      ],
      "text/plain": [
       "[(122, 'A', 'A'), (140, 'F', 'D'), (188, 'C', 'A')]"
      ]
     },
     "execution_count": 33,
     "metadata": {},
     "output_type": "execute_result"
    }
   ],
   "source": [
    "%%sql \n",
    "SELECT\n",
    "    mth141.student_id,\n",
    "    mth141.grade AS mth141,\n",
    "    eng101.grade AS eng101\n",
    "FROM \n",
    "    mth141 INNER JOIN eng101\n",
    "    ON mth141.student_id = eng101.student_id"
   ]
  },
  {
   "cell_type": "code",
   "execution_count": 34,
   "id": "alleged-stephen",
   "metadata": {},
   "outputs": [
    {
     "name": "stdout",
     "output_type": "stream",
     "text": [
      " * sqlite:///courses_data.sqlite\n",
      "   sqlite:///gradebook_data.sqlite\n",
      "Done.\n"
     ]
    },
    {
     "data": {
      "text/html": [
       "<table>\n",
       "    <tr>\n",
       "        <th>student_id</th>\n",
       "        <th>mth141</th>\n",
       "        <th>eng101</th>\n",
       "    </tr>\n",
       "    <tr>\n",
       "        <td>140</td>\n",
       "        <td>F</td>\n",
       "        <td>D</td>\n",
       "    </tr>\n",
       "    <tr>\n",
       "        <td>188</td>\n",
       "        <td>C</td>\n",
       "        <td>A</td>\n",
       "    </tr>\n",
       "</table>"
      ],
      "text/plain": [
       "[(140, 'F', 'D'), (188, 'C', 'A')]"
      ]
     },
     "execution_count": 34,
     "metadata": {},
     "output_type": "execute_result"
    }
   ],
   "source": [
    "%%sql \n",
    "SELECT\n",
    "    mth141.student_id,\n",
    "    mth141.grade AS mth141,\n",
    "    eng101.grade AS eng101\n",
    "FROM \n",
    "    mth141 INNER JOIN eng101\n",
    "    ON mth141.student_id = eng101.student_id AND mth141.grade  != eng101.grade"
   ]
  },
  {
   "cell_type": "markdown",
   "id": "conscious-cancer",
   "metadata": {},
   "source": [
    "## LEFT JOIN"
   ]
  },
  {
   "cell_type": "code",
   "execution_count": 35,
   "id": "alert-generator",
   "metadata": {},
   "outputs": [
    {
     "name": "stdout",
     "output_type": "stream",
     "text": [
      " * sqlite:///courses_data.sqlite\n",
      "   sqlite:///gradebook_data.sqlite\n",
      "Done.\n"
     ]
    },
    {
     "data": {
      "text/html": [
       "<table>\n",
       "    <tr>\n",
       "        <th>student_id</th>\n",
       "        <th>grade</th>\n",
       "        <th>student_id_1</th>\n",
       "        <th>grade_1</th>\n",
       "    </tr>\n",
       "    <tr>\n",
       "        <td>122</td>\n",
       "        <td>A</td>\n",
       "        <td>122</td>\n",
       "        <td>A</td>\n",
       "    </tr>\n",
       "    <tr>\n",
       "        <td>109</td>\n",
       "        <td>C</td>\n",
       "        <td>None</td>\n",
       "        <td>None</td>\n",
       "    </tr>\n",
       "    <tr>\n",
       "        <td>127</td>\n",
       "        <td>A</td>\n",
       "        <td>None</td>\n",
       "        <td>None</td>\n",
       "    </tr>\n",
       "    <tr>\n",
       "        <td>140</td>\n",
       "        <td>F</td>\n",
       "        <td>140</td>\n",
       "        <td>D</td>\n",
       "    </tr>\n",
       "    <tr>\n",
       "        <td>145</td>\n",
       "        <td>C</td>\n",
       "        <td>None</td>\n",
       "        <td>None</td>\n",
       "    </tr>\n",
       "    <tr>\n",
       "        <td>157</td>\n",
       "        <td>F</td>\n",
       "        <td>None</td>\n",
       "        <td>None</td>\n",
       "    </tr>\n",
       "    <tr>\n",
       "        <td>188</td>\n",
       "        <td>C</td>\n",
       "        <td>188</td>\n",
       "        <td>A</td>\n",
       "    </tr>\n",
       "</table>"
      ],
      "text/plain": [
       "[(122, 'A', 122, 'A'),\n",
       " (109, 'C', None, None),\n",
       " (127, 'A', None, None),\n",
       " (140, 'F', 140, 'D'),\n",
       " (145, 'C', None, None),\n",
       " (157, 'F', None, None),\n",
       " (188, 'C', 188, 'A')]"
      ]
     },
     "execution_count": 35,
     "metadata": {},
     "output_type": "execute_result"
    }
   ],
   "source": [
    "%%sql \n",
    "SELECT *\n",
    "FROM \n",
    "    mth141 LEFT JOIN eng101\n",
    "    ON mth141.student_id = eng101.student_id"
   ]
  },
  {
   "cell_type": "code",
   "execution_count": 37,
   "id": "normal-newcastle",
   "metadata": {},
   "outputs": [
    {
     "name": "stdout",
     "output_type": "stream",
     "text": [
      " * sqlite:///courses_data.sqlite\n",
      "   sqlite:///gradebook_data.sqlite\n",
      "Done.\n"
     ]
    },
    {
     "data": {
      "text/html": [
       "<table>\n",
       "    <tr>\n",
       "        <th>student_id</th>\n",
       "        <th>mth141</th>\n",
       "        <th>eng101</th>\n",
       "    </tr>\n",
       "    <tr>\n",
       "        <td>122</td>\n",
       "        <td>A</td>\n",
       "        <td>A</td>\n",
       "    </tr>\n",
       "    <tr>\n",
       "        <td>109</td>\n",
       "        <td>C</td>\n",
       "        <td>None</td>\n",
       "    </tr>\n",
       "    <tr>\n",
       "        <td>127</td>\n",
       "        <td>A</td>\n",
       "        <td>None</td>\n",
       "    </tr>\n",
       "    <tr>\n",
       "        <td>140</td>\n",
       "        <td>F</td>\n",
       "        <td>D</td>\n",
       "    </tr>\n",
       "    <tr>\n",
       "        <td>145</td>\n",
       "        <td>C</td>\n",
       "        <td>None</td>\n",
       "    </tr>\n",
       "    <tr>\n",
       "        <td>157</td>\n",
       "        <td>F</td>\n",
       "        <td>None</td>\n",
       "    </tr>\n",
       "    <tr>\n",
       "        <td>188</td>\n",
       "        <td>C</td>\n",
       "        <td>A</td>\n",
       "    </tr>\n",
       "</table>"
      ],
      "text/plain": [
       "[(122, 'A', 'A'),\n",
       " (109, 'C', None),\n",
       " (127, 'A', None),\n",
       " (140, 'F', 'D'),\n",
       " (145, 'C', None),\n",
       " (157, 'F', None),\n",
       " (188, 'C', 'A')]"
      ]
     },
     "execution_count": 37,
     "metadata": {},
     "output_type": "execute_result"
    }
   ],
   "source": [
    "%%sql \n",
    "SELECT\n",
    "    mth141.student_id,\n",
    "    mth141.grade AS mth141,\n",
    "    eng101.grade AS eng101\n",
    "FROM \n",
    "    mth141 LEFT JOIN eng101\n",
    "    ON mth141.student_id = eng101.student_id"
   ]
  },
  {
   "cell_type": "markdown",
   "id": "official-schedule",
   "metadata": {},
   "source": [
    "## Simulating RIGHT JOIN"
   ]
  },
  {
   "cell_type": "code",
   "execution_count": 38,
   "id": "retained-sodium",
   "metadata": {},
   "outputs": [
    {
     "name": "stdout",
     "output_type": "stream",
     "text": [
      " * sqlite:///courses_data.sqlite\n",
      "   sqlite:///gradebook_data.sqlite\n",
      "Done.\n"
     ]
    },
    {
     "data": {
      "text/html": [
       "<table>\n",
       "    <tr>\n",
       "        <th>student_id</th>\n",
       "        <th>grade</th>\n",
       "        <th>student_id_1</th>\n",
       "        <th>grade_1</th>\n",
       "    </tr>\n",
       "    <tr>\n",
       "        <td>165</td>\n",
       "        <td>F</td>\n",
       "        <td>None</td>\n",
       "        <td>None</td>\n",
       "    </tr>\n",
       "    <tr>\n",
       "        <td>123</td>\n",
       "        <td>C</td>\n",
       "        <td>None</td>\n",
       "        <td>None</td>\n",
       "    </tr>\n",
       "    <tr>\n",
       "        <td>122</td>\n",
       "        <td>A</td>\n",
       "        <td>122</td>\n",
       "        <td>A</td>\n",
       "    </tr>\n",
       "    <tr>\n",
       "        <td>189</td>\n",
       "        <td>A</td>\n",
       "        <td>None</td>\n",
       "        <td>None</td>\n",
       "    </tr>\n",
       "    <tr>\n",
       "        <td>140</td>\n",
       "        <td>D</td>\n",
       "        <td>140</td>\n",
       "        <td>F</td>\n",
       "    </tr>\n",
       "    <tr>\n",
       "        <td>188</td>\n",
       "        <td>A</td>\n",
       "        <td>188</td>\n",
       "        <td>C</td>\n",
       "    </tr>\n",
       "</table>"
      ],
      "text/plain": [
       "[(165, 'F', None, None),\n",
       " (123, 'C', None, None),\n",
       " (122, 'A', 122, 'A'),\n",
       " (189, 'A', None, None),\n",
       " (140, 'D', 140, 'F'),\n",
       " (188, 'A', 188, 'C')]"
      ]
     },
     "execution_count": 38,
     "metadata": {},
     "output_type": "execute_result"
    }
   ],
   "source": [
    "%%sql \n",
    "SELECT *\n",
    "FROM \n",
    "    eng101 LEFT JOIN mth141\n",
    "    ON mth141.student_id = eng101.student_id"
   ]
  },
  {
   "cell_type": "code",
   "execution_count": 39,
   "id": "bottom-dodge",
   "metadata": {},
   "outputs": [
    {
     "name": "stdout",
     "output_type": "stream",
     "text": [
      " * sqlite:///courses_data.sqlite\n",
      "   sqlite:///gradebook_data.sqlite\n",
      "Done.\n"
     ]
    },
    {
     "data": {
      "text/html": [
       "<table>\n",
       "    <tr>\n",
       "        <th>student_id</th>\n",
       "        <th>mth141</th>\n",
       "        <th>eng101</th>\n",
       "    </tr>\n",
       "    <tr>\n",
       "        <td>165</td>\n",
       "        <td>None</td>\n",
       "        <td>F</td>\n",
       "    </tr>\n",
       "    <tr>\n",
       "        <td>123</td>\n",
       "        <td>None</td>\n",
       "        <td>C</td>\n",
       "    </tr>\n",
       "    <tr>\n",
       "        <td>122</td>\n",
       "        <td>A</td>\n",
       "        <td>A</td>\n",
       "    </tr>\n",
       "    <tr>\n",
       "        <td>189</td>\n",
       "        <td>None</td>\n",
       "        <td>A</td>\n",
       "    </tr>\n",
       "    <tr>\n",
       "        <td>140</td>\n",
       "        <td>F</td>\n",
       "        <td>D</td>\n",
       "    </tr>\n",
       "    <tr>\n",
       "        <td>188</td>\n",
       "        <td>C</td>\n",
       "        <td>A</td>\n",
       "    </tr>\n",
       "</table>"
      ],
      "text/plain": [
       "[(165, None, 'F'),\n",
       " (123, None, 'C'),\n",
       " (122, 'A', 'A'),\n",
       " (189, None, 'A'),\n",
       " (140, 'F', 'D'),\n",
       " (188, 'C', 'A')]"
      ]
     },
     "execution_count": 39,
     "metadata": {},
     "output_type": "execute_result"
    }
   ],
   "source": [
    "%%sql \n",
    "SELECT\n",
    "    eng101.student_id,\n",
    "    mth141.grade AS mth141,\n",
    "    eng101.grade AS eng101\n",
    "FROM \n",
    "    eng101 LEFT JOIN mth141\n",
    "    ON mth141.student_id = eng101.student_id"
   ]
  }
 ],
 "metadata": {
  "kernelspec": {
   "display_name": "Python 3",
   "language": "python",
   "name": "python3"
  },
  "language_info": {
   "codemirror_mode": {
    "name": "ipython",
    "version": 3
   },
   "file_extension": ".py",
   "mimetype": "text/x-python",
   "name": "python",
   "nbconvert_exporter": "python",
   "pygments_lexer": "ipython3",
   "version": "3.8.5"
  }
 },
 "nbformat": 4,
 "nbformat_minor": 5
}
