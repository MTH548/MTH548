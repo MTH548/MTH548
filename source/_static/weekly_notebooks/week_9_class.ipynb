{
 "cells": [
  {
   "cell_type": "markdown",
   "id": "outside-cause",
   "metadata": {},
   "source": [
    "# Week 9"
   ]
  },
  {
   "cell_type": "markdown",
   "id": "superior-compensation",
   "metadata": {},
   "source": [
    "## OpenCage API"
   ]
  },
  {
   "cell_type": "code",
   "execution_count": 1,
   "id": "tested-watson",
   "metadata": {},
   "outputs": [],
   "source": [
    "key = \"51e1f5771f6747f5a5719b463f95db3f\""
   ]
  },
  {
   "cell_type": "code",
   "execution_count": 2,
   "id": "solid-august",
   "metadata": {},
   "outputs": [],
   "source": [
    "oc_url =  \"https://api.opencagedata.com/geocode/v1/json\""
   ]
  },
  {
   "cell_type": "code",
   "execution_count": 3,
   "id": "random-hamilton",
   "metadata": {},
   "outputs": [],
   "source": [
    "params = {\"key\": key,\n",
    "          \"q\": \"Buffalo, NY\"\n",
    "         }"
   ]
  },
  {
   "cell_type": "code",
   "execution_count": 5,
   "id": "sound-silence",
   "metadata": {},
   "outputs": [],
   "source": [
    "import requests \n",
    "\n",
    "r = requests.get(oc_url, params = params)"
   ]
  },
  {
   "cell_type": "code",
   "execution_count": 6,
   "id": "breathing-wilson",
   "metadata": {},
   "outputs": [
    {
     "data": {
      "text/plain": [
       "'{\"documentation\":\"https://opencagedata.com/api\",\"licenses\":[{\"name\":\"see attribution guide\",\"url\":\"https://opencagedata.com/credits\"}],\"rate\":{\"limit\":2500,\"remaining\":2499,\"reset\":1617148800},\"results\":[{\"annotations\":{\"DMS\":{\"lat\":\"42\\\\u00b0 53\\' 12.17976\\'\\' N\",\"lng\":\"78\\\\u00b0 52\\' 42.21192\\'\\' W\"},\"FIPS\":{\"county\":\"36029\",\"state\":\"36\"},\"MGRS\":\"17TPH7324950418\",\"Maidenhead\":\"FN02nv42ot\",\"Mercator\":{\"x\":-8780702.454,\"y\":5265656.791},\"OSM\":{\"edit_url\":\"https://www.openstreetmap.org/edit?relation=175031#map=16/42.88672/-78.87839\",\"note_url\":\"https://www.openstreetmap.org/note/new#map=16/42.88672/-78.87839&layers=N\",\"url\":\"https://www.openstreetmap.org/?mlat=42.88672&mlon=-78.87839#map=16/42.88672/-78.87839\"},\"UN_M49\":{\"regions\":{\"AMERICAS\":\"019\",\"NORTHERN_AMERICA\":\"021\",\"US\":\"840\",\"WORLD\":\"001\"},\"statistical_groupings\":[\"MEDC\"]},\"callingcode\":1,\"currency\":{\"alternate_symbols\":[\"US$\"],\"decimal_mark\":\".\",\"disambiguate_symbol\":\"US$\",\"html_entity\":\"$\",\"iso_code\":\"USD\",\"iso_numeric\":\"840\",\"name\":\"United States Dollar\",\"smallest_denomination\":1,\"subunit\":\"Cent\",\"subunit_to_unit\":100,\"symbol\":\"$\",\"symbol_first\":1,\"thousands_separator\":\",\"},\"flag\":\"\\\\ud83c\\\\uddfa\\\\ud83c\\\\uddf8\",\"geohash\":\"dpxgvp690prv6z8cs0en\",\"qibla\":54.99,\"roadinfo\":{\"drive_on\":\"right\",\"speed_in\":\"mph\"},\"sun\":{\"rise\":{\"apparent\":1617102060,\"astronomical\":1617096240,\"civil\":1617100380,\"nautical\":1617098340},\"set\":{\"apparent\":1617147540,\"astronomical\":1617066960,\"civil\":1617062880,\"nautical\":1617064860}},\"timezone\":{\"name\":\"America/New_York\",\"now_in_dst\":1,\"offset_sec\":-14400,\"offset_string\":\"-0400\",\"short_name\":\"EDT\"},\"what3words\":{\"words\":\"taking.youth.could\"},\"wikidata\":\"Q40435\"},\"bounds\":{\"northeast\":{\"lat\":42.9664686,\"lng\":-78.7951677},\"southwest\":{\"lat\":42.8260387,\"lng\":-78.9194528}},\"components\":{\"ISO_3166-1_alpha-2\":\"US\",\"ISO_3166-1_alpha-3\":\"USA\",\"_category\":\"place\",\"_type\":\"city\",\"city\":\"Buffalo\",\"continent\":\"North America\",\"country\":\"United States\",\"country_code\":\"us\",\"county\":\"Erie County\",\"state\":\"New York\",\"state_code\":\"NY\"},\"confidence\":6,\"formatted\":\"Buffalo, New York, United States of America\",\"geometry\":{\"lat\":42.8867166,\"lng\":-78.8783922}},{\"annotations\":{\"DMS\":{\"lat\":\"42\\\\u00b0 56\\' 18.21048\\'\\' N\",\"lng\":\"78\\\\u00b0 41\\' 5.10540\\'\\' W\"},\"FIPS\":{\"county\":\"36029\",\"state\":\"36\"},\"MGRS\":\"17TPH8890456574\",\"Maidenhead\":\"FN02pw75tf\",\"Mercator\":{\"x\":-8759146.47,\"y\":5273482.823},\"OSM\":{\"edit_url\":\"https://www.openstreetmap.org/edit?node=158576897#map=16/42.93839/-78.68475\",\"note_url\":\"https://www.openstreetmap.org/note/new#map=16/42.93839/-78.68475&layers=N\",\"url\":\"https://www.openstreetmap.org/?mlat=42.93839&mlon=-78.68475#map=16/42.93839/-78.68475\"},\"UN_M49\":{\"regions\":{\"AMERICAS\":\"019\",\"NORTHERN_AMERICA\":\"021\",\"US\":\"840\",\"WORLD\":\"001\"},\"statistical_groupings\":[\"MEDC\"]},\"callingcode\":1,\"currency\":{\"alternate_symbols\":[\"US$\"],\"decimal_mark\":\".\",\"disambiguate_symbol\":\"US$\",\"html_entity\":\"$\",\"iso_code\":\"USD\",\"iso_numeric\":\"840\",\"name\":\"United States Dollar\",\"smallest_denomination\":1,\"subunit\":\"Cent\",\"subunit_to_unit\":100,\"symbol\":\"$\",\"symbol_first\":1,\"thousands_separator\":\",\"},\"flag\":\"\\\\ud83c\\\\uddfa\\\\ud83c\\\\uddf8\",\"geohash\":\"dr8h32xw22ku1cgq3fuq\",\"qibla\":55.13,\"roadinfo\":{\"drive_on\":\"right\",\"speed_in\":\"mph\"},\"sun\":{\"rise\":{\"apparent\":1617102000,\"astronomical\":1617096180,\"civil\":1617100320,\"nautical\":1617098280},\"set\":{\"apparent\":1617147480,\"astronomical\":1617066960,\"civil\":1617062820,\"nautical\":1617064860}},\"timezone\":{\"name\":\"America/New_York\",\"now_in_dst\":1,\"offset_sec\":-14400,\"offset_string\":\"-0400\",\"short_name\":\"EDT\"},\"what3words\":{\"words\":\"diplomas.dazzling.benchmarks\"}},\"bounds\":{\"northeast\":{\"lat\":42.9583918,\"lng\":-78.6647515},\"southwest\":{\"lat\":42.9183918,\"lng\":-78.7047515}},\"components\":{\"ISO_3166-1_alpha-2\":\"US\",\"ISO_3166-1_alpha-3\":\"USA\",\"_category\":\"place\",\"_type\":\"village\",\"continent\":\"North America\",\"country\":\"United States\",\"country_code\":\"us\",\"county\":\"Erie County\",\"hamlet\":\"Bowmansville\",\"municipality\":\"Lancaster\",\"postcode\":\"14026\",\"state\":\"New York\",\"state_code\":\"NY\"},\"confidence\":7,\"formatted\":\"Bowmansville, NY 14026, United States of America\",\"geometry\":{\"lat\":42.9383918,\"lng\":-78.6847515}}],\"status\":{\"code\":200,\"message\":\"OK\"},\"stay_informed\":{\"blog\":\"https://blog.opencagedata.com\",\"twitter\":\"https://twitter.com/OpenCage\"},\"thanks\":\"For using an OpenCage API\",\"timestamp\":{\"created_http\":\"Tue, 30 Mar 2021 17:00:29 GMT\",\"created_unix\":1617123629},\"total_results\":2}'"
      ]
     },
     "execution_count": 6,
     "metadata": {},
     "output_type": "execute_result"
    }
   ],
   "source": [
    "r.text"
   ]
  },
  {
   "cell_type": "code",
   "execution_count": 7,
   "id": "boring-processing",
   "metadata": {},
   "outputs": [
    {
     "data": {
      "text/plain": [
       "{'documentation': 'https://opencagedata.com/api',\n",
       " 'licenses': [{'name': 'see attribution guide',\n",
       "   'url': 'https://opencagedata.com/credits'}],\n",
       " 'rate': {'limit': 2500, 'remaining': 2499, 'reset': 1617148800},\n",
       " 'results': [{'annotations': {'DMS': {'lat': \"42° 53' 12.17976'' N\",\n",
       "     'lng': \"78° 52' 42.21192'' W\"},\n",
       "    'FIPS': {'county': '36029', 'state': '36'},\n",
       "    'MGRS': '17TPH7324950418',\n",
       "    'Maidenhead': 'FN02nv42ot',\n",
       "    'Mercator': {'x': -8780702.454, 'y': 5265656.791},\n",
       "    'OSM': {'edit_url': 'https://www.openstreetmap.org/edit?relation=175031#map=16/42.88672/-78.87839',\n",
       "     'note_url': 'https://www.openstreetmap.org/note/new#map=16/42.88672/-78.87839&layers=N',\n",
       "     'url': 'https://www.openstreetmap.org/?mlat=42.88672&mlon=-78.87839#map=16/42.88672/-78.87839'},\n",
       "    'UN_M49': {'regions': {'AMERICAS': '019',\n",
       "      'NORTHERN_AMERICA': '021',\n",
       "      'US': '840',\n",
       "      'WORLD': '001'},\n",
       "     'statistical_groupings': ['MEDC']},\n",
       "    'callingcode': 1,\n",
       "    'currency': {'alternate_symbols': ['US$'],\n",
       "     'decimal_mark': '.',\n",
       "     'disambiguate_symbol': 'US$',\n",
       "     'html_entity': '$',\n",
       "     'iso_code': 'USD',\n",
       "     'iso_numeric': '840',\n",
       "     'name': 'United States Dollar',\n",
       "     'smallest_denomination': 1,\n",
       "     'subunit': 'Cent',\n",
       "     'subunit_to_unit': 100,\n",
       "     'symbol': '$',\n",
       "     'symbol_first': 1,\n",
       "     'thousands_separator': ','},\n",
       "    'flag': '🇺🇸',\n",
       "    'geohash': 'dpxgvp690prv6z8cs0en',\n",
       "    'qibla': 54.99,\n",
       "    'roadinfo': {'drive_on': 'right', 'speed_in': 'mph'},\n",
       "    'sun': {'rise': {'apparent': 1617102060,\n",
       "      'astronomical': 1617096240,\n",
       "      'civil': 1617100380,\n",
       "      'nautical': 1617098340},\n",
       "     'set': {'apparent': 1617147540,\n",
       "      'astronomical': 1617066960,\n",
       "      'civil': 1617062880,\n",
       "      'nautical': 1617064860}},\n",
       "    'timezone': {'name': 'America/New_York',\n",
       "     'now_in_dst': 1,\n",
       "     'offset_sec': -14400,\n",
       "     'offset_string': '-0400',\n",
       "     'short_name': 'EDT'},\n",
       "    'what3words': {'words': 'taking.youth.could'},\n",
       "    'wikidata': 'Q40435'},\n",
       "   'bounds': {'northeast': {'lat': 42.9664686, 'lng': -78.7951677},\n",
       "    'southwest': {'lat': 42.8260387, 'lng': -78.9194528}},\n",
       "   'components': {'ISO_3166-1_alpha-2': 'US',\n",
       "    'ISO_3166-1_alpha-3': 'USA',\n",
       "    '_category': 'place',\n",
       "    '_type': 'city',\n",
       "    'city': 'Buffalo',\n",
       "    'continent': 'North America',\n",
       "    'country': 'United States',\n",
       "    'country_code': 'us',\n",
       "    'county': 'Erie County',\n",
       "    'state': 'New York',\n",
       "    'state_code': 'NY'},\n",
       "   'confidence': 6,\n",
       "   'formatted': 'Buffalo, New York, United States of America',\n",
       "   'geometry': {'lat': 42.8867166, 'lng': -78.8783922}},\n",
       "  {'annotations': {'DMS': {'lat': \"42° 56' 18.21048'' N\",\n",
       "     'lng': \"78° 41' 5.10540'' W\"},\n",
       "    'FIPS': {'county': '36029', 'state': '36'},\n",
       "    'MGRS': '17TPH8890456574',\n",
       "    'Maidenhead': 'FN02pw75tf',\n",
       "    'Mercator': {'x': -8759146.47, 'y': 5273482.823},\n",
       "    'OSM': {'edit_url': 'https://www.openstreetmap.org/edit?node=158576897#map=16/42.93839/-78.68475',\n",
       "     'note_url': 'https://www.openstreetmap.org/note/new#map=16/42.93839/-78.68475&layers=N',\n",
       "     'url': 'https://www.openstreetmap.org/?mlat=42.93839&mlon=-78.68475#map=16/42.93839/-78.68475'},\n",
       "    'UN_M49': {'regions': {'AMERICAS': '019',\n",
       "      'NORTHERN_AMERICA': '021',\n",
       "      'US': '840',\n",
       "      'WORLD': '001'},\n",
       "     'statistical_groupings': ['MEDC']},\n",
       "    'callingcode': 1,\n",
       "    'currency': {'alternate_symbols': ['US$'],\n",
       "     'decimal_mark': '.',\n",
       "     'disambiguate_symbol': 'US$',\n",
       "     'html_entity': '$',\n",
       "     'iso_code': 'USD',\n",
       "     'iso_numeric': '840',\n",
       "     'name': 'United States Dollar',\n",
       "     'smallest_denomination': 1,\n",
       "     'subunit': 'Cent',\n",
       "     'subunit_to_unit': 100,\n",
       "     'symbol': '$',\n",
       "     'symbol_first': 1,\n",
       "     'thousands_separator': ','},\n",
       "    'flag': '🇺🇸',\n",
       "    'geohash': 'dr8h32xw22ku1cgq3fuq',\n",
       "    'qibla': 55.13,\n",
       "    'roadinfo': {'drive_on': 'right', 'speed_in': 'mph'},\n",
       "    'sun': {'rise': {'apparent': 1617102000,\n",
       "      'astronomical': 1617096180,\n",
       "      'civil': 1617100320,\n",
       "      'nautical': 1617098280},\n",
       "     'set': {'apparent': 1617147480,\n",
       "      'astronomical': 1617066960,\n",
       "      'civil': 1617062820,\n",
       "      'nautical': 1617064860}},\n",
       "    'timezone': {'name': 'America/New_York',\n",
       "     'now_in_dst': 1,\n",
       "     'offset_sec': -14400,\n",
       "     'offset_string': '-0400',\n",
       "     'short_name': 'EDT'},\n",
       "    'what3words': {'words': 'diplomas.dazzling.benchmarks'}},\n",
       "   'bounds': {'northeast': {'lat': 42.9583918, 'lng': -78.6647515},\n",
       "    'southwest': {'lat': 42.9183918, 'lng': -78.7047515}},\n",
       "   'components': {'ISO_3166-1_alpha-2': 'US',\n",
       "    'ISO_3166-1_alpha-3': 'USA',\n",
       "    '_category': 'place',\n",
       "    '_type': 'village',\n",
       "    'continent': 'North America',\n",
       "    'country': 'United States',\n",
       "    'country_code': 'us',\n",
       "    'county': 'Erie County',\n",
       "    'hamlet': 'Bowmansville',\n",
       "    'municipality': 'Lancaster',\n",
       "    'postcode': '14026',\n",
       "    'state': 'New York',\n",
       "    'state_code': 'NY'},\n",
       "   'confidence': 7,\n",
       "   'formatted': 'Bowmansville, NY 14026, United States of America',\n",
       "   'geometry': {'lat': 42.9383918, 'lng': -78.6847515}}],\n",
       " 'status': {'code': 200, 'message': 'OK'},\n",
       " 'stay_informed': {'blog': 'https://blog.opencagedata.com',\n",
       "  'twitter': 'https://twitter.com/OpenCage'},\n",
       " 'thanks': 'For using an OpenCage API',\n",
       " 'timestamp': {'created_http': 'Tue, 30 Mar 2021 17:00:29 GMT',\n",
       "  'created_unix': 1617123629},\n",
       " 'total_results': 2}"
      ]
     },
     "execution_count": 7,
     "metadata": {},
     "output_type": "execute_result"
    }
   ],
   "source": [
    "data = r.json()\n",
    "data"
   ]
  },
  {
   "cell_type": "code",
   "execution_count": 9,
   "id": "veterinary-armenia",
   "metadata": {},
   "outputs": [
    {
     "data": {
      "text/plain": [
       "2"
      ]
     },
     "execution_count": 9,
     "metadata": {},
     "output_type": "execute_result"
    }
   ],
   "source": [
    "len(data[\"results\"])"
   ]
  },
  {
   "cell_type": "code",
   "execution_count": 10,
   "id": "spread-uganda",
   "metadata": {},
   "outputs": [
    {
     "data": {
      "text/plain": [
       "{'annotations': {'DMS': {'lat': \"42° 53' 12.17976'' N\",\n",
       "   'lng': \"78° 52' 42.21192'' W\"},\n",
       "  'FIPS': {'county': '36029', 'state': '36'},\n",
       "  'MGRS': '17TPH7324950418',\n",
       "  'Maidenhead': 'FN02nv42ot',\n",
       "  'Mercator': {'x': -8780702.454, 'y': 5265656.791},\n",
       "  'OSM': {'edit_url': 'https://www.openstreetmap.org/edit?relation=175031#map=16/42.88672/-78.87839',\n",
       "   'note_url': 'https://www.openstreetmap.org/note/new#map=16/42.88672/-78.87839&layers=N',\n",
       "   'url': 'https://www.openstreetmap.org/?mlat=42.88672&mlon=-78.87839#map=16/42.88672/-78.87839'},\n",
       "  'UN_M49': {'regions': {'AMERICAS': '019',\n",
       "    'NORTHERN_AMERICA': '021',\n",
       "    'US': '840',\n",
       "    'WORLD': '001'},\n",
       "   'statistical_groupings': ['MEDC']},\n",
       "  'callingcode': 1,\n",
       "  'currency': {'alternate_symbols': ['US$'],\n",
       "   'decimal_mark': '.',\n",
       "   'disambiguate_symbol': 'US$',\n",
       "   'html_entity': '$',\n",
       "   'iso_code': 'USD',\n",
       "   'iso_numeric': '840',\n",
       "   'name': 'United States Dollar',\n",
       "   'smallest_denomination': 1,\n",
       "   'subunit': 'Cent',\n",
       "   'subunit_to_unit': 100,\n",
       "   'symbol': '$',\n",
       "   'symbol_first': 1,\n",
       "   'thousands_separator': ','},\n",
       "  'flag': '🇺🇸',\n",
       "  'geohash': 'dpxgvp690prv6z8cs0en',\n",
       "  'qibla': 54.99,\n",
       "  'roadinfo': {'drive_on': 'right', 'speed_in': 'mph'},\n",
       "  'sun': {'rise': {'apparent': 1617102060,\n",
       "    'astronomical': 1617096240,\n",
       "    'civil': 1617100380,\n",
       "    'nautical': 1617098340},\n",
       "   'set': {'apparent': 1617147540,\n",
       "    'astronomical': 1617066960,\n",
       "    'civil': 1617062880,\n",
       "    'nautical': 1617064860}},\n",
       "  'timezone': {'name': 'America/New_York',\n",
       "   'now_in_dst': 1,\n",
       "   'offset_sec': -14400,\n",
       "   'offset_string': '-0400',\n",
       "   'short_name': 'EDT'},\n",
       "  'what3words': {'words': 'taking.youth.could'},\n",
       "  'wikidata': 'Q40435'},\n",
       " 'bounds': {'northeast': {'lat': 42.9664686, 'lng': -78.7951677},\n",
       "  'southwest': {'lat': 42.8260387, 'lng': -78.9194528}},\n",
       " 'components': {'ISO_3166-1_alpha-2': 'US',\n",
       "  'ISO_3166-1_alpha-3': 'USA',\n",
       "  '_category': 'place',\n",
       "  '_type': 'city',\n",
       "  'city': 'Buffalo',\n",
       "  'continent': 'North America',\n",
       "  'country': 'United States',\n",
       "  'country_code': 'us',\n",
       "  'county': 'Erie County',\n",
       "  'state': 'New York',\n",
       "  'state_code': 'NY'},\n",
       " 'confidence': 6,\n",
       " 'formatted': 'Buffalo, New York, United States of America',\n",
       " 'geometry': {'lat': 42.8867166, 'lng': -78.8783922}}"
      ]
     },
     "execution_count": 10,
     "metadata": {},
     "output_type": "execute_result"
    }
   ],
   "source": [
    "data[\"results\"][0]"
   ]
  },
  {
   "cell_type": "code",
   "execution_count": 11,
   "id": "quiet-fusion",
   "metadata": {},
   "outputs": [
    {
     "data": {
      "text/plain": [
       "{'annotations': {'DMS': {'lat': \"42° 56' 18.21048'' N\",\n",
       "   'lng': \"78° 41' 5.10540'' W\"},\n",
       "  'FIPS': {'county': '36029', 'state': '36'},\n",
       "  'MGRS': '17TPH8890456574',\n",
       "  'Maidenhead': 'FN02pw75tf',\n",
       "  'Mercator': {'x': -8759146.47, 'y': 5273482.823},\n",
       "  'OSM': {'edit_url': 'https://www.openstreetmap.org/edit?node=158576897#map=16/42.93839/-78.68475',\n",
       "   'note_url': 'https://www.openstreetmap.org/note/new#map=16/42.93839/-78.68475&layers=N',\n",
       "   'url': 'https://www.openstreetmap.org/?mlat=42.93839&mlon=-78.68475#map=16/42.93839/-78.68475'},\n",
       "  'UN_M49': {'regions': {'AMERICAS': '019',\n",
       "    'NORTHERN_AMERICA': '021',\n",
       "    'US': '840',\n",
       "    'WORLD': '001'},\n",
       "   'statistical_groupings': ['MEDC']},\n",
       "  'callingcode': 1,\n",
       "  'currency': {'alternate_symbols': ['US$'],\n",
       "   'decimal_mark': '.',\n",
       "   'disambiguate_symbol': 'US$',\n",
       "   'html_entity': '$',\n",
       "   'iso_code': 'USD',\n",
       "   'iso_numeric': '840',\n",
       "   'name': 'United States Dollar',\n",
       "   'smallest_denomination': 1,\n",
       "   'subunit': 'Cent',\n",
       "   'subunit_to_unit': 100,\n",
       "   'symbol': '$',\n",
       "   'symbol_first': 1,\n",
       "   'thousands_separator': ','},\n",
       "  'flag': '🇺🇸',\n",
       "  'geohash': 'dr8h32xw22ku1cgq3fuq',\n",
       "  'qibla': 55.13,\n",
       "  'roadinfo': {'drive_on': 'right', 'speed_in': 'mph'},\n",
       "  'sun': {'rise': {'apparent': 1617102000,\n",
       "    'astronomical': 1617096180,\n",
       "    'civil': 1617100320,\n",
       "    'nautical': 1617098280},\n",
       "   'set': {'apparent': 1617147480,\n",
       "    'astronomical': 1617066960,\n",
       "    'civil': 1617062820,\n",
       "    'nautical': 1617064860}},\n",
       "  'timezone': {'name': 'America/New_York',\n",
       "   'now_in_dst': 1,\n",
       "   'offset_sec': -14400,\n",
       "   'offset_string': '-0400',\n",
       "   'short_name': 'EDT'},\n",
       "  'what3words': {'words': 'diplomas.dazzling.benchmarks'}},\n",
       " 'bounds': {'northeast': {'lat': 42.9583918, 'lng': -78.6647515},\n",
       "  'southwest': {'lat': 42.9183918, 'lng': -78.7047515}},\n",
       " 'components': {'ISO_3166-1_alpha-2': 'US',\n",
       "  'ISO_3166-1_alpha-3': 'USA',\n",
       "  '_category': 'place',\n",
       "  '_type': 'village',\n",
       "  'continent': 'North America',\n",
       "  'country': 'United States',\n",
       "  'country_code': 'us',\n",
       "  'county': 'Erie County',\n",
       "  'hamlet': 'Bowmansville',\n",
       "  'municipality': 'Lancaster',\n",
       "  'postcode': '14026',\n",
       "  'state': 'New York',\n",
       "  'state_code': 'NY'},\n",
       " 'confidence': 7,\n",
       " 'formatted': 'Bowmansville, NY 14026, United States of America',\n",
       " 'geometry': {'lat': 42.9383918, 'lng': -78.6847515}}"
      ]
     },
     "execution_count": 11,
     "metadata": {},
     "output_type": "execute_result"
    }
   ],
   "source": [
    "data[\"results\"][1]"
   ]
  },
  {
   "cell_type": "code",
   "execution_count": 12,
   "id": "ranking-plaza",
   "metadata": {},
   "outputs": [
    {
     "data": {
      "text/plain": [
       "{'annotations': {'DMS': {'lat': \"42° 53' 12.17976'' N\",\n",
       "   'lng': \"78° 52' 42.21192'' W\"},\n",
       "  'FIPS': {'county': '36029', 'state': '36'},\n",
       "  'MGRS': '17TPH7324950418',\n",
       "  'Maidenhead': 'FN02nv42ot',\n",
       "  'Mercator': {'x': -8780702.454, 'y': 5265656.791},\n",
       "  'OSM': {'edit_url': 'https://www.openstreetmap.org/edit?relation=175031#map=16/42.88672/-78.87839',\n",
       "   'note_url': 'https://www.openstreetmap.org/note/new#map=16/42.88672/-78.87839&layers=N',\n",
       "   'url': 'https://www.openstreetmap.org/?mlat=42.88672&mlon=-78.87839#map=16/42.88672/-78.87839'},\n",
       "  'UN_M49': {'regions': {'AMERICAS': '019',\n",
       "    'NORTHERN_AMERICA': '021',\n",
       "    'US': '840',\n",
       "    'WORLD': '001'},\n",
       "   'statistical_groupings': ['MEDC']},\n",
       "  'callingcode': 1,\n",
       "  'currency': {'alternate_symbols': ['US$'],\n",
       "   'decimal_mark': '.',\n",
       "   'disambiguate_symbol': 'US$',\n",
       "   'html_entity': '$',\n",
       "   'iso_code': 'USD',\n",
       "   'iso_numeric': '840',\n",
       "   'name': 'United States Dollar',\n",
       "   'smallest_denomination': 1,\n",
       "   'subunit': 'Cent',\n",
       "   'subunit_to_unit': 100,\n",
       "   'symbol': '$',\n",
       "   'symbol_first': 1,\n",
       "   'thousands_separator': ','},\n",
       "  'flag': '🇺🇸',\n",
       "  'geohash': 'dpxgvp690prv6z8cs0en',\n",
       "  'qibla': 54.99,\n",
       "  'roadinfo': {'drive_on': 'right', 'speed_in': 'mph'},\n",
       "  'sun': {'rise': {'apparent': 1617102060,\n",
       "    'astronomical': 1617096240,\n",
       "    'civil': 1617100380,\n",
       "    'nautical': 1617098340},\n",
       "   'set': {'apparent': 1617147540,\n",
       "    'astronomical': 1617066960,\n",
       "    'civil': 1617062880,\n",
       "    'nautical': 1617064860}},\n",
       "  'timezone': {'name': 'America/New_York',\n",
       "   'now_in_dst': 1,\n",
       "   'offset_sec': -14400,\n",
       "   'offset_string': '-0400',\n",
       "   'short_name': 'EDT'},\n",
       "  'what3words': {'words': 'taking.youth.could'},\n",
       "  'wikidata': 'Q40435'},\n",
       " 'bounds': {'northeast': {'lat': 42.9664686, 'lng': -78.7951677},\n",
       "  'southwest': {'lat': 42.8260387, 'lng': -78.9194528}},\n",
       " 'components': {'ISO_3166-1_alpha-2': 'US',\n",
       "  'ISO_3166-1_alpha-3': 'USA',\n",
       "  '_category': 'place',\n",
       "  '_type': 'city',\n",
       "  'city': 'Buffalo',\n",
       "  'continent': 'North America',\n",
       "  'country': 'United States',\n",
       "  'country_code': 'us',\n",
       "  'county': 'Erie County',\n",
       "  'state': 'New York',\n",
       "  'state_code': 'NY'},\n",
       " 'confidence': 6,\n",
       " 'formatted': 'Buffalo, New York, United States of America',\n",
       " 'geometry': {'lat': 42.8867166, 'lng': -78.8783922}}"
      ]
     },
     "execution_count": 12,
     "metadata": {},
     "output_type": "execute_result"
    }
   ],
   "source": [
    "buf = data[\"results\"][0]\n",
    "buf"
   ]
  },
  {
   "cell_type": "code",
   "execution_count": 16,
   "id": "behavioral-reservoir",
   "metadata": {},
   "outputs": [
    {
     "name": "stdout",
     "output_type": "stream",
     "text": [
      "https://www.openstreetmap.org/?mlat=42.88672&mlon=-78.87839#map=16/42.88672/-78.87839\n"
     ]
    }
   ],
   "source": [
    "print(buf[\"annotations\"][\"OSM\"][\"url\"])"
   ]
  },
  {
   "cell_type": "code",
   "execution_count": 28,
   "id": "scenic-banana",
   "metadata": {},
   "outputs": [],
   "source": [
    "params = {\"key\": key,\n",
    "          \"q\": \"Mathematics Building, University at Buffalo\"\n",
    "         }\n",
    "r = requests.get(oc_url, params=params)"
   ]
  },
  {
   "cell_type": "code",
   "execution_count": 29,
   "id": "broad-assurance",
   "metadata": {
    "scrolled": false
   },
   "outputs": [
    {
     "data": {
      "text/plain": [
       "{'documentation': 'https://opencagedata.com/api',\n",
       " 'licenses': [{'name': 'see attribution guide',\n",
       "   'url': 'https://opencagedata.com/credits'}],\n",
       " 'rate': {'limit': 2500, 'remaining': 2481, 'reset': 1617148800},\n",
       " 'results': [{'annotations': {'DMS': {'lat': \"43° 0' 4.45860'' N\",\n",
       "     'lng': \"78° 47' 34.04688'' W\"},\n",
       "    'FIPS': {'county': '36029', 'state': '36'},\n",
       "    'MGRS': '17TPH7990563316',\n",
       "    'Maidenhead': 'FN03oa40uh',\n",
       "    'Mercator': {'x': -8771173.347, 'y': 5283009.654},\n",
       "    'OSM': {'edit_url': 'https://www.openstreetmap.org/edit?way=641696374#map=16/43.00124/-78.79279',\n",
       "     'note_url': 'https://www.openstreetmap.org/note/new#map=16/43.00124/-78.79279&layers=N',\n",
       "     'url': 'https://www.openstreetmap.org/?mlat=43.00124&mlon=-78.79279#map=16/43.00124/-78.79279'},\n",
       "    'UN_M49': {'regions': {'AMERICAS': '019',\n",
       "      'NORTHERN_AMERICA': '021',\n",
       "      'US': '840',\n",
       "      'WORLD': '001'},\n",
       "     'statistical_groupings': ['MEDC']},\n",
       "    'callingcode': 1,\n",
       "    'currency': {'alternate_symbols': ['US$'],\n",
       "     'decimal_mark': '.',\n",
       "     'disambiguate_symbol': 'US$',\n",
       "     'html_entity': '$',\n",
       "     'iso_code': 'USD',\n",
       "     'iso_numeric': '840',\n",
       "     'name': 'United States Dollar',\n",
       "     'smallest_denomination': 1,\n",
       "     'subunit': 'Cent',\n",
       "     'subunit_to_unit': 100,\n",
       "     'symbol': '$',\n",
       "     'symbol_first': 1,\n",
       "     'thousands_separator': ','},\n",
       "    'flag': '🇺🇸',\n",
       "    'geohash': 'dpxuxh0u6gufumu90zxr',\n",
       "    'qibla': 55.05,\n",
       "    'roadinfo': {'drive_on': 'right',\n",
       "     'road': 'Mary Talbert Way',\n",
       "     'speed_in': 'mph'},\n",
       "    'sun': {'rise': {'apparent': 1617102060,\n",
       "      'astronomical': 1617096240,\n",
       "      'civil': 1617100320,\n",
       "      'nautical': 1617098340},\n",
       "     'set': {'apparent': 1617147540,\n",
       "      'astronomical': 1617066960,\n",
       "      'civil': 1617062820,\n",
       "      'nautical': 1617064860}},\n",
       "    'timezone': {'name': 'America/New_York',\n",
       "     'now_in_dst': 1,\n",
       "     'offset_sec': -14400,\n",
       "     'offset_string': '-0400',\n",
       "     'short_name': 'EDT'},\n",
       "    'what3words': {'words': 'service.woof.pillow'}},\n",
       "   'bounds': {'northeast': {'lat': 43.0013671, 'lng': -78.7924947},\n",
       "    'southwest': {'lat': 43.0010961, 'lng': -78.7930863}},\n",
       "   'components': {'ISO_3166-1_alpha-2': 'US',\n",
       "    'ISO_3166-1_alpha-3': 'USA',\n",
       "    '_category': 'building',\n",
       "    '_type': 'building',\n",
       "    'building': 'Mathematics Building',\n",
       "    'continent': 'North America',\n",
       "    'country': 'United States',\n",
       "    'country_code': 'us',\n",
       "    'county': 'Erie County',\n",
       "    'house_number': '110',\n",
       "    'municipality': 'Amherst',\n",
       "    'neighbourhood': 'Governors Residence Halls',\n",
       "    'postcode': '14260',\n",
       "    'road': 'Mary Talbert Way',\n",
       "    'state': 'New York',\n",
       "    'state_code': 'NY',\n",
       "    'town': 'Amherst'},\n",
       "   'confidence': 10,\n",
       "   'formatted': 'Mathematics Building, 110 Mary Talbert Way, Amherst, NY 14260, United States of America',\n",
       "   'geometry': {'lat': 43.0012385, 'lng': -78.7927908}},\n",
       "  {'annotations': {'DMS': {'lat': \"42° 53' 11.22000'' N\",\n",
       "     'lng': \"78° 52' 42.13200'' W\"},\n",
       "    'FIPS': {'county': '36029', 'state': '36'},\n",
       "    'MGRS': '17TPH7325150388',\n",
       "    'Maidenhead': 'FN02nv42or',\n",
       "    'Mercator': {'x': -8780699.983, 'y': 5265616.433},\n",
       "    'OSM': {'note_url': 'https://www.openstreetmap.org/note/new#map=16/42.88645/-78.87837&layers=N',\n",
       "     'url': 'https://www.openstreetmap.org/?mlat=42.88645&mlon=-78.87837#map=16/42.88645/-78.87837'},\n",
       "    'UN_M49': {'regions': {'AMERICAS': '019',\n",
       "      'NORTHERN_AMERICA': '021',\n",
       "      'US': '840',\n",
       "      'WORLD': '001'},\n",
       "     'statistical_groupings': ['MEDC']},\n",
       "    'callingcode': 1,\n",
       "    'currency': {'alternate_symbols': ['US$'],\n",
       "     'decimal_mark': '.',\n",
       "     'disambiguate_symbol': 'US$',\n",
       "     'html_entity': '$',\n",
       "     'iso_code': 'USD',\n",
       "     'iso_numeric': '840',\n",
       "     'name': 'United States Dollar',\n",
       "     'smallest_denomination': 1,\n",
       "     'subunit': 'Cent',\n",
       "     'subunit_to_unit': 100,\n",
       "     'symbol': '$',\n",
       "     'symbol_first': 1,\n",
       "     'thousands_separator': ','},\n",
       "    'flag': '🇺🇸',\n",
       "    'geohash': 'dpxgvp4x8v8rhkzwtu68',\n",
       "    'qibla': 54.99,\n",
       "    'roadinfo': {'drive_on': 'right', 'speed_in': 'mph'},\n",
       "    'sun': {'rise': {'apparent': 1617102060,\n",
       "      'astronomical': 1617096240,\n",
       "      'civil': 1617100380,\n",
       "      'nautical': 1617098340},\n",
       "     'set': {'apparent': 1617147540,\n",
       "      'astronomical': 1617066960,\n",
       "      'civil': 1617062880,\n",
       "      'nautical': 1617064860}},\n",
       "    'timezone': {'name': 'America/New_York',\n",
       "     'now_in_dst': 1,\n",
       "     'offset_sec': -14400,\n",
       "     'offset_string': '-0400',\n",
       "     'short_name': 'EDT'},\n",
       "    'what3words': {'words': 'noise.photos.woke'}},\n",
       "   'bounds': {'northeast': {'lat': 42.966455, 'lng': -78.795157},\n",
       "    'southwest': {'lat': 42.826023, 'lng': -78.956877}},\n",
       "   'components': {'ISO_3166-1_alpha-2': 'US',\n",
       "    'ISO_3166-1_alpha-3': 'USA',\n",
       "    '_category': 'place',\n",
       "    '_type': 'city',\n",
       "    'continent': 'North America',\n",
       "    'country': 'United States of America',\n",
       "    'country_code': 'us',\n",
       "    'county': 'Erie County',\n",
       "    'state': 'New York',\n",
       "    'state_code': 'NY',\n",
       "    'town': 'Buffalo'},\n",
       "   'confidence': 6,\n",
       "   'formatted': 'Buffalo, New York, United States of America',\n",
       "   'geometry': {'lat': 42.88645, 'lng': -78.87837}}],\n",
       " 'status': {'code': 200, 'message': 'OK'},\n",
       " 'stay_informed': {'blog': 'https://blog.opencagedata.com',\n",
       "  'twitter': 'https://twitter.com/OpenCage'},\n",
       " 'thanks': 'For using an OpenCage API',\n",
       " 'timestamp': {'created_http': 'Tue, 30 Mar 2021 17:12:18 GMT',\n",
       "  'created_unix': 1617124338},\n",
       " 'total_results': 2}"
      ]
     },
     "execution_count": 29,
     "metadata": {},
     "output_type": "execute_result"
    }
   ],
   "source": [
    "data = r.json()\n",
    "data"
   ]
  },
  {
   "cell_type": "code",
   "execution_count": 78,
   "id": "liable-training",
   "metadata": {},
   "outputs": [
    {
     "data": {
      "text/plain": [
       "datetime.datetime(2021, 3, 30, 7, 1)"
      ]
     },
     "execution_count": 78,
     "metadata": {},
     "output_type": "execute_result"
    }
   ],
   "source": [
    "rise = 1617102060\n",
    "datetime.fromtimestamp(rise)"
   ]
  },
  {
   "cell_type": "code",
   "execution_count": 79,
   "id": "median-blind",
   "metadata": {},
   "outputs": [
    {
     "data": {
      "text/plain": [
       "datetime.datetime(2021, 3, 30, 19, 39)"
      ]
     },
     "execution_count": 79,
     "metadata": {},
     "output_type": "execute_result"
    }
   ],
   "source": [
    "sunset = 1617147540\n",
    "datetime.fromtimestamp(sunset)"
   ]
  },
  {
   "cell_type": "code",
   "execution_count": 30,
   "id": "running-southeast",
   "metadata": {},
   "outputs": [
    {
     "name": "stdout",
     "output_type": "stream",
     "text": [
      "https://www.openstreetmap.org/?mlat=43.00124&mlon=-78.79279#map=16/43.00124/-78.79279\n"
     ]
    }
   ],
   "source": [
    "print(data[\"results\"][0][\"annotations\"][\"OSM\"][\"url\"])"
   ]
  },
  {
   "cell_type": "markdown",
   "id": "nervous-indian",
   "metadata": {},
   "source": [
    "## JSON library"
   ]
  },
  {
   "cell_type": "code",
   "execution_count": 31,
   "id": "altered-robinson",
   "metadata": {},
   "outputs": [
    {
     "data": {
      "text/plain": [
       "{'name': 'Bob', 'age': 20, 'grades': ['A', 'B+'], 1: 100, 2: 90}"
      ]
     },
     "execution_count": 31,
     "metadata": {},
     "output_type": "execute_result"
    }
   ],
   "source": [
    "import json\n",
    "\n",
    "record = {'name': \"Bob\", 'age': 20, \"grades\": ['A', 'B+'], 1: 100, 2: 90}\n",
    "record"
   ]
  },
  {
   "cell_type": "code",
   "execution_count": 32,
   "id": "silent-karaoke",
   "metadata": {},
   "outputs": [
    {
     "data": {
      "text/plain": [
       "'Bob'"
      ]
     },
     "execution_count": 32,
     "metadata": {},
     "output_type": "execute_result"
    }
   ],
   "source": [
    "record['name']"
   ]
  },
  {
   "cell_type": "code",
   "execution_count": 34,
   "id": "honest-blues",
   "metadata": {},
   "outputs": [
    {
     "data": {
      "text/plain": [
       "'{\"name\": \"Bob\", \"age\": 20, \"grades\": [\"A\", \"B+\"], \"1\": 100, \"2\": 90}'"
      ]
     },
     "execution_count": 34,
     "metadata": {},
     "output_type": "execute_result"
    }
   ],
   "source": [
    "s = json.dumps(record)\n",
    "s"
   ]
  },
  {
   "cell_type": "code",
   "execution_count": 36,
   "id": "known-vietnamese",
   "metadata": {},
   "outputs": [
    {
     "data": {
      "text/plain": [
       "{'name': 'Bob', 'age': 20, 'grades': ['A', 'B+'], '1': 100, '2': 90}"
      ]
     },
     "execution_count": 36,
     "metadata": {},
     "output_type": "execute_result"
    }
   ],
   "source": [
    "d = json.loads(s)\n",
    "d"
   ]
  },
  {
   "cell_type": "code",
   "execution_count": 37,
   "id": "north-grass",
   "metadata": {},
   "outputs": [
    {
     "data": {
      "text/plain": [
       "20"
      ]
     },
     "execution_count": 37,
     "metadata": {},
     "output_type": "execute_result"
    }
   ],
   "source": [
    "d['age']"
   ]
  },
  {
   "cell_type": "code",
   "execution_count": 38,
   "id": "strange-michigan",
   "metadata": {},
   "outputs": [
    {
     "data": {
      "text/plain": [
       "100"
      ]
     },
     "execution_count": 38,
     "metadata": {},
     "output_type": "execute_result"
    }
   ],
   "source": [
    "d['1']"
   ]
  },
  {
   "cell_type": "code",
   "execution_count": 39,
   "id": "studied-attraction",
   "metadata": {},
   "outputs": [],
   "source": [
    "with open(\"sample.json\", \"w\") as f:\n",
    "    json.dump(record, f)"
   ]
  },
  {
   "cell_type": "code",
   "execution_count": 40,
   "id": "upper-focus",
   "metadata": {},
   "outputs": [],
   "source": [
    "with open(\"sample.json\", \"r\") as f:\n",
    "    test = json.load(f)"
   ]
  },
  {
   "cell_type": "code",
   "execution_count": 41,
   "id": "engaged-presence",
   "metadata": {},
   "outputs": [
    {
     "data": {
      "text/plain": [
       "{'name': 'Bob', 'age': 20, 'grades': ['A', 'B+'], '1': 100, '2': 90}"
      ]
     },
     "execution_count": 41,
     "metadata": {},
     "output_type": "execute_result"
    }
   ],
   "source": [
    "test"
   ]
  },
  {
   "cell_type": "code",
   "execution_count": 42,
   "id": "about-carbon",
   "metadata": {},
   "outputs": [
    {
     "data": {
      "text/plain": [
       "'Bob'"
      ]
     },
     "execution_count": 42,
     "metadata": {},
     "output_type": "execute_result"
    }
   ],
   "source": [
    "test[\"name\"]"
   ]
  },
  {
   "cell_type": "markdown",
   "id": "absent-scott",
   "metadata": {},
   "source": [
    "## Project: Discord logs"
   ]
  },
  {
   "cell_type": "code",
   "execution_count": 80,
   "id": "selected-manual",
   "metadata": {},
   "outputs": [],
   "source": [
    "with open(\"discord_logs.json\") as f:\n",
    "    logs = json.load(f)"
   ]
  },
  {
   "cell_type": "code",
   "execution_count": 82,
   "id": "fourth-health",
   "metadata": {
    "scrolled": true
   },
   "outputs": [
    {
     "name": "stdout",
     "output_type": "stream",
     "text": [
      "{\"guild\": {\"id\": \"1234567890\", \"name\": \"MTH 448/548\", \"iconUrl\": \"https://cdn.discordapp.com/embed/avatars/1.png\"}, \"channel\": {\"id\": \"1234567890\", \"type\": \"GuildTextChat\", \"category\": \"META\", \"name\": \"admin-log-probot\", \"topic\": null}, \"dateRange\": {\"after\": null, \"before\": null}, \"messages\": [{\"id\": \"803346260399489034\", \"type\": \"Default\", \"timestamp\": \"2021-01-25T19:31:13.931+00:00\", \"timestampEdited\": null, \"isPinned\": false, \"content\": \"\", \"author\": {\"id\": \"803346258977882163\", \"name\": \"ProBot \\u2728\", \"discriminator\": \"0000\", \"isBot\": true, \"avatarUrl\": \"https://cdn.discordapp.com/embed/avatars/1.png\"}, \"attachments\": [], \"embeds\": [{\"title\": \"\", \"url\": null, \"timestamp\": \"2021-01-25T19:31:13.449+00:00\", \"description\": \"**@Unknown joined voice channel  `voice xray` .**\", \"author\": {\"name\": \"Jamya\", \"url\": null, \"iconUrl\": \"https://cdn.discordapp.com/embed/avatars/1.png\"}, \"footer\": {\"text\": \"MTH 448/548\"}, \"fields\": []}], \"reactions\": []}, {\"id\": \"803346274312650753\", \"type\": \"Default\", \"timestamp\": \"2021-01-25T19:31:17.248+00:00\", \"timestampEdited\": null, \"isPinned\": false, \"content\": \"\", \"author\": {\"id\": \"803346258977882163\", \"name\": \"ProBot \\u2728\", \"discriminator\": \"0000\", \"isBot\": true, \"avatarUrl\": \"https://cdn.discordapp.com/embed/avatars/1.png\"}, \"attachments\": [], \"embeds\": [{\"title\": \"\", \"url\": null, \"timestamp\": \"2021-01-25T19:31:17.203+00:00\", \"description\": \"**@Unknown left voice channel  `voice xray` .**\", \"author\": {\"name\": \"Jamya\", \"url\": null, \"iconUrl\": \"https://cdn.discordapp.com/embed/avatars/1.png\"}, \"footer\": {\"text\": \"MTH 448/548\"}, \"fields\": []}], \"reactions\": []}, {\"id\": \"803346344226979881\", \"type\": \"Default\", \"timestamp\": \"2021-01-25T19:31:33.917+00:00\", \"timestampEdited\": null, \"isPinned\": false, \"content\": \"\", \"author\": {\"id\": \"803346258977882163\", \"name\": \"ProBot \\u2728\", \"discriminator\": \"0000\", \"isBot\": true, \"avatarUrl\": \"https://cdn.discordapp.com/embed/avatars/1.png\"}, \"attachments\": [], \"embeds\": [{\"title\": \"\", \"url\": null, \n"
     ]
    }
   ],
   "source": [
    "logs"
   ]
  },
  {
   "cell_type": "code",
   "execution_count": 61,
   "id": "contrary-biography",
   "metadata": {},
   "outputs": [],
   "source": [
    "from datetime import datetime\n",
    "\n",
    "d1 = '2021-02-01T10:39:20.825+00:00'\n",
    "d2 = '2021-02-02T00:37:34.629+00:00'"
   ]
  },
  {
   "cell_type": "code",
   "execution_count": 48,
   "id": "pacific-cardiff",
   "metadata": {},
   "outputs": [
    {
     "data": {
      "text/plain": [
       "datetime.datetime(2021, 2, 1, 5, 39, 20, 825000, tzinfo=datetime.timezone(datetime.timedelta(days=-1, seconds=68400), 'EST'))"
      ]
     },
     "execution_count": 48,
     "metadata": {},
     "output_type": "execute_result"
    }
   ],
   "source": [
    "date1 = datetime.fromisoformat(d1).astimezone()\n",
    "date1"
   ]
  },
  {
   "cell_type": "code",
   "execution_count": 49,
   "id": "confused-nowhere",
   "metadata": {},
   "outputs": [
    {
     "data": {
      "text/plain": [
       "2021"
      ]
     },
     "execution_count": 49,
     "metadata": {},
     "output_type": "execute_result"
    }
   ],
   "source": [
    "date1.year"
   ]
  },
  {
   "cell_type": "code",
   "execution_count": 51,
   "id": "annoying-humidity",
   "metadata": {},
   "outputs": [
    {
     "data": {
      "text/plain": [
       "2"
      ]
     },
     "execution_count": 51,
     "metadata": {},
     "output_type": "execute_result"
    }
   ],
   "source": [
    "date1.month"
   ]
  },
  {
   "cell_type": "code",
   "execution_count": 53,
   "id": "interstate-profile",
   "metadata": {},
   "outputs": [
    {
     "data": {
      "text/plain": [
       "1"
      ]
     },
     "execution_count": 53,
     "metadata": {},
     "output_type": "execute_result"
    }
   ],
   "source": [
    "date1.day"
   ]
  },
  {
   "cell_type": "code",
   "execution_count": 54,
   "id": "hazardous-engineer",
   "metadata": {},
   "outputs": [
    {
     "data": {
      "text/plain": [
       "0"
      ]
     },
     "execution_count": 54,
     "metadata": {},
     "output_type": "execute_result"
    }
   ],
   "source": [
    "date1.weekday()"
   ]
  },
  {
   "cell_type": "code",
   "execution_count": 57,
   "id": "opened-fight",
   "metadata": {},
   "outputs": [
    {
     "data": {
      "text/plain": [
       "'Monday, 02/01/2021, 05:02 AM'"
      ]
     },
     "execution_count": 57,
     "metadata": {},
     "output_type": "execute_result"
    }
   ],
   "source": [
    "date1.strftime(\"%A, %m/%d/%Y, %I:%m %p\")"
   ]
  },
  {
   "cell_type": "code",
   "execution_count": 65,
   "id": "hindu-services",
   "metadata": {},
   "outputs": [
    {
     "data": {
      "text/plain": [
       "'Monday, 02/01/2021, 07:02 PM'"
      ]
     },
     "execution_count": 65,
     "metadata": {},
     "output_type": "execute_result"
    }
   ],
   "source": [
    "date2 = datetime.fromisoformat(d2).astimezone()\n",
    "date2.strftime(\"%A, %m/%d/%Y, %I:%m %p\")"
   ]
  },
  {
   "cell_type": "code",
   "execution_count": 63,
   "id": "atlantic-population",
   "metadata": {},
   "outputs": [
    {
     "data": {
      "text/plain": [
       "'2021-02-02T00:37:34.629+00:00'"
      ]
     },
     "execution_count": 63,
     "metadata": {},
     "output_type": "execute_result"
    }
   ],
   "source": [
    "d2"
   ]
  },
  {
   "cell_type": "code",
   "execution_count": 67,
   "id": "wrapped-iraqi",
   "metadata": {},
   "outputs": [
    {
     "data": {
      "text/plain": [
       "datetime.timedelta(seconds=50293, microseconds=804000)"
      ]
     },
     "execution_count": 67,
     "metadata": {},
     "output_type": "execute_result"
    }
   ],
   "source": [
    "delta = date2 - date1\n",
    "delta"
   ]
  },
  {
   "cell_type": "code",
   "execution_count": 69,
   "id": "patient-principal",
   "metadata": {},
   "outputs": [
    {
     "data": {
      "text/plain": [
       "838.2300666666666"
      ]
     },
     "execution_count": 69,
     "metadata": {},
     "output_type": "execute_result"
    }
   ],
   "source": [
    "delta.total_seconds()/60"
   ]
  },
  {
   "cell_type": "code",
   "execution_count": 70,
   "id": "respected-offset",
   "metadata": {},
   "outputs": [],
   "source": [
    "import pandas as pd\n",
    "\n",
    "df = pd.DataFrame([\n",
    "    {\n",
    "        \"event\": \"event_1\",\n",
    "        \"start\": '2021-03-04T23:03:12.351+00:00',\n",
    "        \"end\": '2021-03-04T23:04:08.669+00:00'\n",
    "    },\n",
    "    {\n",
    "        \"event\": \"event_2\",\n",
    "        \"start\": '2021-03-05T12:12:12.010+00:00',\n",
    "        \"end\": '2021-03-05T17:56:17.123+00:00'\n",
    "    },\n",
    "    {\n",
    "        \"event\": \"event_3\",\n",
    "        \"start\": '2021-03-04T13:29:45.594+00:00',\n",
    "        \"end\": '2021-03-06T00:04:46.032+00:00'\n",
    "    },\n",
    "])"
   ]
  },
  {
   "cell_type": "code",
   "execution_count": 71,
   "id": "manual-married",
   "metadata": {},
   "outputs": [
    {
     "data": {
      "text/html": [
       "<div>\n",
       "<style scoped>\n",
       "    .dataframe tbody tr th:only-of-type {\n",
       "        vertical-align: middle;\n",
       "    }\n",
       "\n",
       "    .dataframe tbody tr th {\n",
       "        vertical-align: top;\n",
       "    }\n",
       "\n",
       "    .dataframe thead th {\n",
       "        text-align: right;\n",
       "    }\n",
       "</style>\n",
       "<table border=\"1\" class=\"dataframe\">\n",
       "  <thead>\n",
       "    <tr style=\"text-align: right;\">\n",
       "      <th></th>\n",
       "      <th>event</th>\n",
       "      <th>start</th>\n",
       "      <th>end</th>\n",
       "    </tr>\n",
       "  </thead>\n",
       "  <tbody>\n",
       "    <tr>\n",
       "      <th>0</th>\n",
       "      <td>event_1</td>\n",
       "      <td>2021-03-04T23:03:12.351+00:00</td>\n",
       "      <td>2021-03-04T23:04:08.669+00:00</td>\n",
       "    </tr>\n",
       "    <tr>\n",
       "      <th>1</th>\n",
       "      <td>event_2</td>\n",
       "      <td>2021-03-05T12:12:12.010+00:00</td>\n",
       "      <td>2021-03-05T17:56:17.123+00:00</td>\n",
       "    </tr>\n",
       "    <tr>\n",
       "      <th>2</th>\n",
       "      <td>event_3</td>\n",
       "      <td>2021-03-04T13:29:45.594+00:00</td>\n",
       "      <td>2021-03-06T00:04:46.032+00:00</td>\n",
       "    </tr>\n",
       "  </tbody>\n",
       "</table>\n",
       "</div>"
      ],
      "text/plain": [
       "     event                          start                            end\n",
       "0  event_1  2021-03-04T23:03:12.351+00:00  2021-03-04T23:04:08.669+00:00\n",
       "1  event_2  2021-03-05T12:12:12.010+00:00  2021-03-05T17:56:17.123+00:00\n",
       "2  event_3  2021-03-04T13:29:45.594+00:00  2021-03-06T00:04:46.032+00:00"
      ]
     },
     "execution_count": 71,
     "metadata": {},
     "output_type": "execute_result"
    }
   ],
   "source": [
    "df"
   ]
  },
  {
   "cell_type": "code",
   "execution_count": 72,
   "id": "amateur-carpet",
   "metadata": {},
   "outputs": [
    {
     "name": "stdout",
     "output_type": "stream",
     "text": [
      "<class 'pandas.core.frame.DataFrame'>\n",
      "RangeIndex: 3 entries, 0 to 2\n",
      "Data columns (total 3 columns):\n",
      " #   Column  Non-Null Count  Dtype \n",
      "---  ------  --------------  ----- \n",
      " 0   event   3 non-null      object\n",
      " 1   start   3 non-null      object\n",
      " 2   end     3 non-null      object\n",
      "dtypes: object(3)\n",
      "memory usage: 200.0+ bytes\n"
     ]
    }
   ],
   "source": [
    "df.info()"
   ]
  },
  {
   "cell_type": "code",
   "execution_count": 75,
   "id": "declared-breakfast",
   "metadata": {},
   "outputs": [
    {
     "data": {
      "text/html": [
       "<div>\n",
       "<style scoped>\n",
       "    .dataframe tbody tr th:only-of-type {\n",
       "        vertical-align: middle;\n",
       "    }\n",
       "\n",
       "    .dataframe tbody tr th {\n",
       "        vertical-align: top;\n",
       "    }\n",
       "\n",
       "    .dataframe thead th {\n",
       "        text-align: right;\n",
       "    }\n",
       "</style>\n",
       "<table border=\"1\" class=\"dataframe\">\n",
       "  <thead>\n",
       "    <tr style=\"text-align: right;\">\n",
       "      <th></th>\n",
       "      <th>event</th>\n",
       "      <th>start</th>\n",
       "      <th>end</th>\n",
       "    </tr>\n",
       "  </thead>\n",
       "  <tbody>\n",
       "    <tr>\n",
       "      <th>0</th>\n",
       "      <td>event_1</td>\n",
       "      <td>2021-03-04 18:03:12.351000-05:00</td>\n",
       "      <td>2021-03-04 18:04:08.669000-05:00</td>\n",
       "    </tr>\n",
       "    <tr>\n",
       "      <th>1</th>\n",
       "      <td>event_2</td>\n",
       "      <td>2021-03-05 07:12:12.010000-05:00</td>\n",
       "      <td>2021-03-05 12:56:17.123000-05:00</td>\n",
       "    </tr>\n",
       "    <tr>\n",
       "      <th>2</th>\n",
       "      <td>event_3</td>\n",
       "      <td>2021-03-04 08:29:45.594000-05:00</td>\n",
       "      <td>2021-03-05 19:04:46.032000-05:00</td>\n",
       "    </tr>\n",
       "  </tbody>\n",
       "</table>\n",
       "</div>"
      ],
      "text/plain": [
       "     event                            start                              end\n",
       "0  event_1 2021-03-04 18:03:12.351000-05:00 2021-03-04 18:04:08.669000-05:00\n",
       "1  event_2 2021-03-05 07:12:12.010000-05:00 2021-03-05 12:56:17.123000-05:00\n",
       "2  event_3 2021-03-04 08:29:45.594000-05:00 2021-03-05 19:04:46.032000-05:00"
      ]
     },
     "execution_count": 75,
     "metadata": {},
     "output_type": "execute_result"
    }
   ],
   "source": [
    "df[\"start\"] = pd.to_datetime(df[\"start\"]).dt.tz_convert(\"America/New_York\")\n",
    "df[\"end\"] = pd.to_datetime(df[\"end\"]).dt.tz_convert(\"America/New_York\")\n",
    "df"
   ]
  },
  {
   "cell_type": "code",
   "execution_count": 74,
   "id": "unsigned-lindsay",
   "metadata": {},
   "outputs": [
    {
     "name": "stdout",
     "output_type": "stream",
     "text": [
      "<class 'pandas.core.frame.DataFrame'>\n",
      "RangeIndex: 3 entries, 0 to 2\n",
      "Data columns (total 3 columns):\n",
      " #   Column  Non-Null Count  Dtype              \n",
      "---  ------  --------------  -----              \n",
      " 0   event   3 non-null      object             \n",
      " 1   start   3 non-null      datetime64[ns, UTC]\n",
      " 2   end     3 non-null      datetime64[ns, UTC]\n",
      "dtypes: datetime64[ns, UTC](2), object(1)\n",
      "memory usage: 200.0+ bytes\n"
     ]
    }
   ],
   "source": [
    "df.info()"
   ]
  },
  {
   "cell_type": "code",
   "execution_count": 76,
   "id": "checked-conditions",
   "metadata": {},
   "outputs": [
    {
     "data": {
      "text/html": [
       "<div>\n",
       "<style scoped>\n",
       "    .dataframe tbody tr th:only-of-type {\n",
       "        vertical-align: middle;\n",
       "    }\n",
       "\n",
       "    .dataframe tbody tr th {\n",
       "        vertical-align: top;\n",
       "    }\n",
       "\n",
       "    .dataframe thead th {\n",
       "        text-align: right;\n",
       "    }\n",
       "</style>\n",
       "<table border=\"1\" class=\"dataframe\">\n",
       "  <thead>\n",
       "    <tr style=\"text-align: right;\">\n",
       "      <th></th>\n",
       "      <th>event</th>\n",
       "      <th>start</th>\n",
       "      <th>end</th>\n",
       "      <th>duration</th>\n",
       "    </tr>\n",
       "  </thead>\n",
       "  <tbody>\n",
       "    <tr>\n",
       "      <th>0</th>\n",
       "      <td>event_1</td>\n",
       "      <td>2021-03-04 18:03:12.351000-05:00</td>\n",
       "      <td>2021-03-04 18:04:08.669000-05:00</td>\n",
       "      <td>0 days 00:00:56.318000</td>\n",
       "    </tr>\n",
       "    <tr>\n",
       "      <th>1</th>\n",
       "      <td>event_2</td>\n",
       "      <td>2021-03-05 07:12:12.010000-05:00</td>\n",
       "      <td>2021-03-05 12:56:17.123000-05:00</td>\n",
       "      <td>0 days 05:44:05.113000</td>\n",
       "    </tr>\n",
       "    <tr>\n",
       "      <th>2</th>\n",
       "      <td>event_3</td>\n",
       "      <td>2021-03-04 08:29:45.594000-05:00</td>\n",
       "      <td>2021-03-05 19:04:46.032000-05:00</td>\n",
       "      <td>1 days 10:35:00.438000</td>\n",
       "    </tr>\n",
       "  </tbody>\n",
       "</table>\n",
       "</div>"
      ],
      "text/plain": [
       "     event                            start                              end  \\\n",
       "0  event_1 2021-03-04 18:03:12.351000-05:00 2021-03-04 18:04:08.669000-05:00   \n",
       "1  event_2 2021-03-05 07:12:12.010000-05:00 2021-03-05 12:56:17.123000-05:00   \n",
       "2  event_3 2021-03-04 08:29:45.594000-05:00 2021-03-05 19:04:46.032000-05:00   \n",
       "\n",
       "                duration  \n",
       "0 0 days 00:00:56.318000  \n",
       "1 0 days 05:44:05.113000  \n",
       "2 1 days 10:35:00.438000  "
      ]
     },
     "execution_count": 76,
     "metadata": {},
     "output_type": "execute_result"
    }
   ],
   "source": [
    "df[\"duration\"] = df[\"end\"] - df[\"start\"]\n",
    "df"
   ]
  },
  {
   "cell_type": "code",
   "execution_count": 77,
   "id": "quality-malpractice",
   "metadata": {},
   "outputs": [
    {
     "data": {
      "text/plain": [
       "0        56.318\n",
       "1     20645.113\n",
       "2    124500.438\n",
       "Name: duration, dtype: float64"
      ]
     },
     "execution_count": 77,
     "metadata": {},
     "output_type": "execute_result"
    }
   ],
   "source": [
    "df[\"duration\"].dt.total_seconds()"
   ]
  }
 ],
 "metadata": {
  "kernelspec": {
   "display_name": "Python 3",
   "language": "python",
   "name": "python3"
  },
  "language_info": {
   "codemirror_mode": {
    "name": "ipython",
    "version": 3
   },
   "file_extension": ".py",
   "mimetype": "text/x-python",
   "name": "python",
   "nbconvert_exporter": "python",
   "pygments_lexer": "ipython3",
   "version": "3.8.5"
  }
 },
 "nbformat": 4,
 "nbformat_minor": 5
}
