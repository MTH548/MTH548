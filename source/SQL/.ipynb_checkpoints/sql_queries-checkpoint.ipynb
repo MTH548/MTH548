{
 "cells": [
  {
   "cell_type": "markdown",
   "metadata": {},
   "source": [
    "# SQL queries"
   ]
  },
  {
   "cell_type": "code",
   "execution_count": 1,
   "metadata": {
    "nbsphinx": "hidden"
   },
   "outputs": [
    {
     "data": {
      "text/html": [
       "<div>\n",
       "<style scoped>\n",
       "    .dataframe tbody tr th:only-of-type {\n",
       "        vertical-align: middle;\n",
       "    }\n",
       "\n",
       "    .dataframe tbody tr th {\n",
       "        vertical-align: top;\n",
       "    }\n",
       "\n",
       "    .dataframe thead th {\n",
       "        text-align: right;\n",
       "    }\n",
       "</style>\n",
       "<table border=\"1\" class=\"dataframe\">\n",
       "  <thead>\n",
       "    <tr style=\"text-align: right;\">\n",
       "      <th></th>\n",
       "      <th>student_id</th>\n",
       "      <th>first_name</th>\n",
       "      <th>last_name</th>\n",
       "      <th>major</th>\n",
       "      <th>exam1</th>\n",
       "      <th>exam2</th>\n",
       "      <th>exam3</th>\n",
       "    </tr>\n",
       "  </thead>\n",
       "  <tbody>\n",
       "    <tr>\n",
       "      <th>0</th>\n",
       "      <td>5775</td>\n",
       "      <td>Rosina</td>\n",
       "      <td>Hovey</td>\n",
       "      <td>biology</td>\n",
       "      <td>96.0</td>\n",
       "      <td>13.0</td>\n",
       "      <td>99.0</td>\n",
       "    </tr>\n",
       "    <tr>\n",
       "      <th>1</th>\n",
       "      <td>9346</td>\n",
       "      <td>Stanton</td>\n",
       "      <td>Mcgaugh</td>\n",
       "      <td>computer science</td>\n",
       "      <td>6.0</td>\n",
       "      <td>60.0</td>\n",
       "      <td>40.0</td>\n",
       "    </tr>\n",
       "    <tr>\n",
       "      <th>2</th>\n",
       "      <td>9667</td>\n",
       "      <td>Jonnie</td>\n",
       "      <td>Hillock</td>\n",
       "      <td>mathematics</td>\n",
       "      <td>56.0</td>\n",
       "      <td>24.0</td>\n",
       "      <td>72.0</td>\n",
       "    </tr>\n",
       "    <tr>\n",
       "      <th>3</th>\n",
       "      <td>3877</td>\n",
       "      <td>Chu</td>\n",
       "      <td>Flax</td>\n",
       "      <td>mathematics</td>\n",
       "      <td>72.0</td>\n",
       "      <td>NaN</td>\n",
       "      <td>29.0</td>\n",
       "    </tr>\n",
       "    <tr>\n",
       "      <th>4</th>\n",
       "      <td>7256</td>\n",
       "      <td>Rosalinda</td>\n",
       "      <td>Trippe</td>\n",
       "      <td>computer science</td>\n",
       "      <td>NaN</td>\n",
       "      <td>NaN</td>\n",
       "      <td>82.0</td>\n",
       "    </tr>\n",
       "    <tr>\n",
       "      <th>5</th>\n",
       "      <td>7138</td>\n",
       "      <td>Fran</td>\n",
       "      <td>Mount</td>\n",
       "      <td>biology</td>\n",
       "      <td>71.0</td>\n",
       "      <td>5.0</td>\n",
       "      <td>80.0</td>\n",
       "    </tr>\n",
       "    <tr>\n",
       "      <th>6</th>\n",
       "      <td>5108</td>\n",
       "      <td>Shawnna</td>\n",
       "      <td>Coate</td>\n",
       "      <td>computer science</td>\n",
       "      <td>79.0</td>\n",
       "      <td>96.0</td>\n",
       "      <td>61.0</td>\n",
       "    </tr>\n",
       "    <tr>\n",
       "      <th>7</th>\n",
       "      <td>3548</td>\n",
       "      <td>Marcia</td>\n",
       "      <td>Hinkel</td>\n",
       "      <td>biology</td>\n",
       "      <td>79.0</td>\n",
       "      <td>10.0</td>\n",
       "      <td>41.0</td>\n",
       "    </tr>\n",
       "    <tr>\n",
       "      <th>8</th>\n",
       "      <td>2712</td>\n",
       "      <td>Starr</td>\n",
       "      <td>Bachand</td>\n",
       "      <td>computer science</td>\n",
       "      <td>NaN</td>\n",
       "      <td>27.0</td>\n",
       "      <td>85.0</td>\n",
       "    </tr>\n",
       "    <tr>\n",
       "      <th>9</th>\n",
       "      <td>8911</td>\n",
       "      <td>Lottie</td>\n",
       "      <td>Champine</td>\n",
       "      <td>computer science</td>\n",
       "      <td>NaN</td>\n",
       "      <td>NaN</td>\n",
       "      <td>62.0</td>\n",
       "    </tr>\n",
       "    <tr>\n",
       "      <th>10</th>\n",
       "      <td>6245</td>\n",
       "      <td>Adelina</td>\n",
       "      <td>Brummitt</td>\n",
       "      <td>mathematics</td>\n",
       "      <td>NaN</td>\n",
       "      <td>67.0</td>\n",
       "      <td>99.0</td>\n",
       "    </tr>\n",
       "    <tr>\n",
       "      <th>11</th>\n",
       "      <td>5787</td>\n",
       "      <td>Tenisha</td>\n",
       "      <td>Rippel</td>\n",
       "      <td>computer science</td>\n",
       "      <td>27.0</td>\n",
       "      <td>54.0</td>\n",
       "      <td>79.0</td>\n",
       "    </tr>\n",
       "    <tr>\n",
       "      <th>12</th>\n",
       "      <td>9165</td>\n",
       "      <td>Ludivina</td>\n",
       "      <td>Hoskin</td>\n",
       "      <td>mathematics</td>\n",
       "      <td>27.0</td>\n",
       "      <td>55.0</td>\n",
       "      <td>NaN</td>\n",
       "    </tr>\n",
       "  </tbody>\n",
       "</table>\n",
       "</div>"
      ],
      "text/plain": [
       "    student_id first_name last_name             major  exam1  exam2  exam3\n",
       "0         5775     Rosina     Hovey           biology   96.0   13.0   99.0\n",
       "1         9346    Stanton   Mcgaugh  computer science    6.0   60.0   40.0\n",
       "2         9667     Jonnie   Hillock       mathematics   56.0   24.0   72.0\n",
       "3         3877        Chu      Flax       mathematics   72.0    NaN   29.0\n",
       "4         7256  Rosalinda    Trippe  computer science    NaN    NaN   82.0\n",
       "5         7138       Fran     Mount           biology   71.0    5.0   80.0\n",
       "6         5108    Shawnna     Coate  computer science   79.0   96.0   61.0\n",
       "7         3548     Marcia    Hinkel           biology   79.0   10.0   41.0\n",
       "8         2712      Starr   Bachand  computer science    NaN   27.0   85.0\n",
       "9         8911     Lottie  Champine  computer science    NaN    NaN   62.0\n",
       "10        6245    Adelina  Brummitt       mathematics    NaN   67.0   99.0\n",
       "11        5787    Tenisha    Rippel  computer science   27.0   54.0   79.0\n",
       "12        9165   Ludivina    Hoskin       mathematics   27.0   55.0    NaN"
      ]
     },
     "metadata": {},
     "output_type": "display_data"
    }
   ],
   "source": [
    "# \"nbsphinx\": \"hidden\"\n",
    "\n",
    "# create the gradebook.sqlite database\n",
    "\n",
    "import re\n",
    "import pandas as pd\n",
    "import random\n",
    "import numpy as np\n",
    "from sqlalchemy import create_engine, types\n",
    "from bisect import bisect_left\n",
    "\n",
    "names = \"\"\"\n",
    "Rosina Hovey  \n",
    "Stanton Mcgaugh  \n",
    "Jonnie Hillock  \n",
    "Chu Flax  \n",
    "Rosalinda Trippe  \n",
    "Fran Mount  \n",
    "Shawnna Coate  \n",
    "Marcia Hinkel  \n",
    "Starr Bachand  \n",
    "Lottie Champine  \n",
    "Adelina Brummitt  \n",
    "Tenisha Rippel  \n",
    "Ludivina Hoskin  \n",
    "Ilona Rabe  \n",
    "Nilsa Mccallon  \n",
    "Miquel Follansbee  \n",
    "Elyse Boucher  \n",
    "Wilbert Haskell  \n",
    "Randall Lindbloom  \n",
    "Irmgard Gibney  \n",
    "Leticia Mendivil  \n",
    "Lucas Netherland  \n",
    "Floretta Brubaker  \n",
    "Chanell Prada  \n",
    "Rachell Emrick  \n",
    "Isobel Sollers  \n",
    "Lucila Dorais  \n",
    "Bonnie Gabriel  \n",
    "Lasandra Hendricks  \n",
    "Evelia Pastore  \n",
    "\"\"\"\n",
    "names = re.findall(r\"\\w+ \\w+\", names)[:13]\n",
    "first_names = [n.split()[0] for n in names]\n",
    "last_names = [n.split()[1] for n in names]\n",
    "\n",
    "df = pd.DataFrame()\n",
    "\n",
    "df['student_id'] = np.random.randint(1000, 9999, len(names))\n",
    "df['first_name'] = first_names\n",
    "df['last_name'] = last_names\n",
    "\n",
    "\n",
    "def score(loc, scale):\n",
    "    x = int(np.random.normal(loc, scale)*100)\n",
    "    if not 0 <= x <= 100:\n",
    "        return np.nan\n",
    "    else: \n",
    "        return x\n",
    "\n",
    "def choose_major(x):\n",
    "    major = ['mathematics', 'computer science', 'biology']\n",
    "    return major[bisect_left([0.4, 0.8], random.random())]\n",
    "\n",
    "df['major'] = df['student_id'].map(choose_major)   \n",
    "    \n",
    "df['exam1'] = 0\n",
    "df['exam1'] = df['exam1'].map(lambda x: score(0.75, 0.4))\n",
    "df['exam2'] = df['exam1'].map(lambda x: score(0.6, 0.4))\n",
    "df['exam3'] = df['exam1'].map(lambda x: score(0.6, 0.3))\n",
    "\n",
    "engine = create_engine('sqlite:///gradebook_data.sqlite')\n",
    "df.to_sql('gradebook', \n",
    "          con=engine, \n",
    "          index=False, \n",
    "          dtype={'student_id': types.INT,\n",
    "                 'first_name': types.TEXT, \n",
    "                 'last_name': types.TEXT,\n",
    "                 'major': types.TEXT,\n",
    "                 'exam1': types.INT,\n",
    "                 'exam2': types.INT,\n",
    "                 'exam3': types.INT})\n",
    "\n",
    "display(df)"
   ]
  },
  {
   "cell_type": "markdown",
   "metadata": {},
   "source": [
    "The SQL `SELECT` statement is a tool for constructing queries which extract data from a database. We will show here various ways in which this statement can be used. \n",
    "\n",
    "For demonstration purposes we will be working with a small SQLite database which can be downloaded here:"
   ]
  },
  {
   "cell_type": "raw",
   "metadata": {
    "raw_mimetype": "text/restructuredtext"
   },
   "source": [
    "| :download:`gradebook_data.sqlite <./gradebook_data.sqlite>`"
   ]
  },
  {
   "cell_type": "markdown",
   "metadata": {},
   "source": [
    "To execute SQL code in Jupyter Notebook we will use the `ipython-sql` notebook extension. Assuming that this extension is already installed (see [SQL Basics](sql_basics.ipynb) for installation instructions), the code below will load it:"
   ]
  },
  {
   "cell_type": "code",
   "execution_count": 2,
   "metadata": {},
   "outputs": [],
   "source": [
    "%load_ext sql"
   ]
  },
  {
   "cell_type": "markdown",
   "metadata": {},
   "source": [
    "Next, we connect to the `gradebook.sqlite` database:"
   ]
  },
  {
   "cell_type": "code",
   "execution_count": 3,
   "metadata": {},
   "outputs": [
    {
     "data": {
      "text/plain": [
       "'Connected: @gradebook_data.sqlite'"
      ]
     },
     "execution_count": 3,
     "metadata": {},
     "output_type": "execute_result"
    }
   ],
   "source": [
    "%%sql \n",
    "sqlite:///gradebook_data.sqlite"
   ]
  },
  {
   "cell_type": "markdown",
   "metadata": {},
   "source": [
    "This database consists of a single table `gradebook`, with records (names, exam scores etc.) of students enrolled in a college course. The whole table looks as follows:"
   ]
  },
  {
   "cell_type": "code",
   "execution_count": 4,
   "metadata": {},
   "outputs": [
    {
     "name": "stdout",
     "output_type": "stream",
     "text": [
      " * sqlite:///gradebook_data.sqlite\n",
      "Done.\n"
     ]
    },
    {
     "data": {
      "text/html": [
       "<table>\n",
       "    <tr>\n",
       "        <th>student_id</th>\n",
       "        <th>first_name</th>\n",
       "        <th>last_name</th>\n",
       "        <th>major</th>\n",
       "        <th>exam1</th>\n",
       "        <th>exam2</th>\n",
       "        <th>exam3</th>\n",
       "    </tr>\n",
       "    <tr>\n",
       "        <td>5775</td>\n",
       "        <td>Rosina</td>\n",
       "        <td>Hovey</td>\n",
       "        <td>biology</td>\n",
       "        <td>96</td>\n",
       "        <td>13</td>\n",
       "        <td>99</td>\n",
       "    </tr>\n",
       "    <tr>\n",
       "        <td>9346</td>\n",
       "        <td>Stanton</td>\n",
       "        <td>Mcgaugh</td>\n",
       "        <td>computer science</td>\n",
       "        <td>6</td>\n",
       "        <td>60</td>\n",
       "        <td>40</td>\n",
       "    </tr>\n",
       "    <tr>\n",
       "        <td>9667</td>\n",
       "        <td>Jonnie</td>\n",
       "        <td>Hillock</td>\n",
       "        <td>mathematics</td>\n",
       "        <td>56</td>\n",
       "        <td>24</td>\n",
       "        <td>72</td>\n",
       "    </tr>\n",
       "    <tr>\n",
       "        <td>3877</td>\n",
       "        <td>Chu</td>\n",
       "        <td>Flax</td>\n",
       "        <td>mathematics</td>\n",
       "        <td>72</td>\n",
       "        <td>None</td>\n",
       "        <td>29</td>\n",
       "    </tr>\n",
       "    <tr>\n",
       "        <td>7256</td>\n",
       "        <td>Rosalinda</td>\n",
       "        <td>Trippe</td>\n",
       "        <td>computer science</td>\n",
       "        <td>None</td>\n",
       "        <td>None</td>\n",
       "        <td>82</td>\n",
       "    </tr>\n",
       "    <tr>\n",
       "        <td>7138</td>\n",
       "        <td>Fran</td>\n",
       "        <td>Mount</td>\n",
       "        <td>biology</td>\n",
       "        <td>71</td>\n",
       "        <td>5</td>\n",
       "        <td>80</td>\n",
       "    </tr>\n",
       "    <tr>\n",
       "        <td>5108</td>\n",
       "        <td>Shawnna</td>\n",
       "        <td>Coate</td>\n",
       "        <td>computer science</td>\n",
       "        <td>79</td>\n",
       "        <td>96</td>\n",
       "        <td>61</td>\n",
       "    </tr>\n",
       "    <tr>\n",
       "        <td>3548</td>\n",
       "        <td>Marcia</td>\n",
       "        <td>Hinkel</td>\n",
       "        <td>biology</td>\n",
       "        <td>79</td>\n",
       "        <td>10</td>\n",
       "        <td>41</td>\n",
       "    </tr>\n",
       "    <tr>\n",
       "        <td>2712</td>\n",
       "        <td>Starr</td>\n",
       "        <td>Bachand</td>\n",
       "        <td>computer science</td>\n",
       "        <td>None</td>\n",
       "        <td>27</td>\n",
       "        <td>85</td>\n",
       "    </tr>\n",
       "    <tr>\n",
       "        <td>8911</td>\n",
       "        <td>Lottie</td>\n",
       "        <td>Champine</td>\n",
       "        <td>computer science</td>\n",
       "        <td>None</td>\n",
       "        <td>None</td>\n",
       "        <td>62</td>\n",
       "    </tr>\n",
       "    <tr>\n",
       "        <td>6245</td>\n",
       "        <td>Adelina</td>\n",
       "        <td>Brummitt</td>\n",
       "        <td>mathematics</td>\n",
       "        <td>None</td>\n",
       "        <td>67</td>\n",
       "        <td>99</td>\n",
       "    </tr>\n",
       "    <tr>\n",
       "        <td>5787</td>\n",
       "        <td>Tenisha</td>\n",
       "        <td>Rippel</td>\n",
       "        <td>computer science</td>\n",
       "        <td>27</td>\n",
       "        <td>54</td>\n",
       "        <td>79</td>\n",
       "    </tr>\n",
       "    <tr>\n",
       "        <td>9165</td>\n",
       "        <td>Ludivina</td>\n",
       "        <td>Hoskin</td>\n",
       "        <td>mathematics</td>\n",
       "        <td>27</td>\n",
       "        <td>55</td>\n",
       "        <td>None</td>\n",
       "    </tr>\n",
       "</table>"
      ],
      "text/plain": [
       "[(5775, 'Rosina', 'Hovey', 'biology', 96, 13, 99),\n",
       " (9346, 'Stanton', 'Mcgaugh', 'computer science', 6, 60, 40),\n",
       " (9667, 'Jonnie', 'Hillock', 'mathematics', 56, 24, 72),\n",
       " (3877, 'Chu', 'Flax', 'mathematics', 72, None, 29),\n",
       " (7256, 'Rosalinda', 'Trippe', 'computer science', None, None, 82),\n",
       " (7138, 'Fran', 'Mount', 'biology', 71, 5, 80),\n",
       " (5108, 'Shawnna', 'Coate', 'computer science', 79, 96, 61),\n",
       " (3548, 'Marcia', 'Hinkel', 'biology', 79, 10, 41),\n",
       " (2712, 'Starr', 'Bachand', 'computer science', None, 27, 85),\n",
       " (8911, 'Lottie', 'Champine', 'computer science', None, None, 62),\n",
       " (6245, 'Adelina', 'Brummitt', 'mathematics', None, 67, 99),\n",
       " (5787, 'Tenisha', 'Rippel', 'computer science', 27, 54, 79),\n",
       " (9165, 'Ludivina', 'Hoskin', 'mathematics', 27, 55, None)]"
      ]
     },
     "execution_count": 4,
     "metadata": {},
     "output_type": "execute_result"
    }
   ],
   "source": [
    "%%sql \n",
    "SELECT * \n",
    "FROM gradebook"
   ]
  },
  {
   "cell_type": "markdown",
   "metadata": {},
   "source": [
    "## SELECT ... FROM ..."
   ]
  },
  {
   "cell_type": "raw",
   "metadata": {
    "raw_mimetype": "text/restructuredtext"
   },
   "source": [
    ".. index::\n",
    "   single: SELECT (SQL)"
   ]
  },
  {
   "cell_type": "markdown",
   "metadata": {},
   "source": [
    "The code above shows the simplest application of the `SELECT` statement: it can be used to retrieve the entire content of a database table. The complete syntax of this statement, however, can be much more complex:"
   ]
  },
  {
   "cell_type": "raw",
   "metadata": {
    "raw_mimetype": "text/restructuredtext"
   },
   "source": [
    ".. code-block:: none\n",
    "   \n",
    "   SELECT [DISTINCT] column_list\n",
    "   FROM table_list\n",
    "   [WHERE condition]\n",
    "   [GROUP BY column [HAVING conditon]]\n",
    "   [ORDER BY column]\n",
    "   [LIMIT count OFFSET offset]"
   ]
  },
  {
   "cell_type": "markdown",
   "metadata": {},
   "source": [
    "All parts in \\[square brackets\\] are optional. The only mandatory parts are `SELECT` followed a list of columns we want to retrieve and `FROM` followed by names of tables from which these columns come from.\n",
    "\n",
    "The example below uses just these two keywords, specifying a few columns from the `gradebook` table. "
   ]
  },
  {
   "cell_type": "code",
   "execution_count": 5,
   "metadata": {},
   "outputs": [
    {
     "name": "stdout",
     "output_type": "stream",
     "text": [
      " * sqlite:///gradebook_data.sqlite\n",
      "Done.\n"
     ]
    },
    {
     "data": {
      "text/html": [
       "<table>\n",
       "    <tr>\n",
       "        <th>first_name</th>\n",
       "        <th>last_name</th>\n",
       "        <th>exam3</th>\n",
       "    </tr>\n",
       "    <tr>\n",
       "        <td>Rosina</td>\n",
       "        <td>Hovey</td>\n",
       "        <td>99</td>\n",
       "    </tr>\n",
       "    <tr>\n",
       "        <td>Stanton</td>\n",
       "        <td>Mcgaugh</td>\n",
       "        <td>40</td>\n",
       "    </tr>\n",
       "    <tr>\n",
       "        <td>Jonnie</td>\n",
       "        <td>Hillock</td>\n",
       "        <td>72</td>\n",
       "    </tr>\n",
       "    <tr>\n",
       "        <td>Chu</td>\n",
       "        <td>Flax</td>\n",
       "        <td>29</td>\n",
       "    </tr>\n",
       "    <tr>\n",
       "        <td>Rosalinda</td>\n",
       "        <td>Trippe</td>\n",
       "        <td>82</td>\n",
       "    </tr>\n",
       "    <tr>\n",
       "        <td>Fran</td>\n",
       "        <td>Mount</td>\n",
       "        <td>80</td>\n",
       "    </tr>\n",
       "    <tr>\n",
       "        <td>Shawnna</td>\n",
       "        <td>Coate</td>\n",
       "        <td>61</td>\n",
       "    </tr>\n",
       "    <tr>\n",
       "        <td>Marcia</td>\n",
       "        <td>Hinkel</td>\n",
       "        <td>41</td>\n",
       "    </tr>\n",
       "    <tr>\n",
       "        <td>Starr</td>\n",
       "        <td>Bachand</td>\n",
       "        <td>85</td>\n",
       "    </tr>\n",
       "    <tr>\n",
       "        <td>Lottie</td>\n",
       "        <td>Champine</td>\n",
       "        <td>62</td>\n",
       "    </tr>\n",
       "    <tr>\n",
       "        <td>Adelina</td>\n",
       "        <td>Brummitt</td>\n",
       "        <td>99</td>\n",
       "    </tr>\n",
       "    <tr>\n",
       "        <td>Tenisha</td>\n",
       "        <td>Rippel</td>\n",
       "        <td>79</td>\n",
       "    </tr>\n",
       "    <tr>\n",
       "        <td>Ludivina</td>\n",
       "        <td>Hoskin</td>\n",
       "        <td>None</td>\n",
       "    </tr>\n",
       "</table>"
      ],
      "text/plain": [
       "[('Rosina', 'Hovey', 99),\n",
       " ('Stanton', 'Mcgaugh', 40),\n",
       " ('Jonnie', 'Hillock', 72),\n",
       " ('Chu', 'Flax', 29),\n",
       " ('Rosalinda', 'Trippe', 82),\n",
       " ('Fran', 'Mount', 80),\n",
       " ('Shawnna', 'Coate', 61),\n",
       " ('Marcia', 'Hinkel', 41),\n",
       " ('Starr', 'Bachand', 85),\n",
       " ('Lottie', 'Champine', 62),\n",
       " ('Adelina', 'Brummitt', 99),\n",
       " ('Tenisha', 'Rippel', 79),\n",
       " ('Ludivina', 'Hoskin', None)]"
      ]
     },
     "execution_count": 5,
     "metadata": {},
     "output_type": "execute_result"
    }
   ],
   "source": [
    "%%sql \n",
    "SELECT first_name, last_name, exam3\n",
    "FROM gradebook;"
   ]
  },
  {
   "cell_type": "markdown",
   "metadata": {},
   "source": [
    "In some cases it may be convenient to give columns aliases instead of using their original names. This can be accomplished as follows:"
   ]
  },
  {
   "cell_type": "code",
   "execution_count": 6,
   "metadata": {},
   "outputs": [
    {
     "name": "stdout",
     "output_type": "stream",
     "text": [
      " * sqlite:///gradebook_data.sqlite\n",
      "Done.\n"
     ]
    },
    {
     "data": {
      "text/html": [
       "<table>\n",
       "    <tr>\n",
       "        <th>FName</th>\n",
       "        <th>LName</th>\n",
       "        <th>Last_Exam</th>\n",
       "    </tr>\n",
       "    <tr>\n",
       "        <td>Rosina</td>\n",
       "        <td>Hovey</td>\n",
       "        <td>99</td>\n",
       "    </tr>\n",
       "    <tr>\n",
       "        <td>Stanton</td>\n",
       "        <td>Mcgaugh</td>\n",
       "        <td>40</td>\n",
       "    </tr>\n",
       "    <tr>\n",
       "        <td>Jonnie</td>\n",
       "        <td>Hillock</td>\n",
       "        <td>72</td>\n",
       "    </tr>\n",
       "    <tr>\n",
       "        <td>Chu</td>\n",
       "        <td>Flax</td>\n",
       "        <td>29</td>\n",
       "    </tr>\n",
       "    <tr>\n",
       "        <td>Rosalinda</td>\n",
       "        <td>Trippe</td>\n",
       "        <td>82</td>\n",
       "    </tr>\n",
       "    <tr>\n",
       "        <td>Fran</td>\n",
       "        <td>Mount</td>\n",
       "        <td>80</td>\n",
       "    </tr>\n",
       "    <tr>\n",
       "        <td>Shawnna</td>\n",
       "        <td>Coate</td>\n",
       "        <td>61</td>\n",
       "    </tr>\n",
       "    <tr>\n",
       "        <td>Marcia</td>\n",
       "        <td>Hinkel</td>\n",
       "        <td>41</td>\n",
       "    </tr>\n",
       "    <tr>\n",
       "        <td>Starr</td>\n",
       "        <td>Bachand</td>\n",
       "        <td>85</td>\n",
       "    </tr>\n",
       "    <tr>\n",
       "        <td>Lottie</td>\n",
       "        <td>Champine</td>\n",
       "        <td>62</td>\n",
       "    </tr>\n",
       "    <tr>\n",
       "        <td>Adelina</td>\n",
       "        <td>Brummitt</td>\n",
       "        <td>99</td>\n",
       "    </tr>\n",
       "    <tr>\n",
       "        <td>Tenisha</td>\n",
       "        <td>Rippel</td>\n",
       "        <td>79</td>\n",
       "    </tr>\n",
       "    <tr>\n",
       "        <td>Ludivina</td>\n",
       "        <td>Hoskin</td>\n",
       "        <td>None</td>\n",
       "    </tr>\n",
       "</table>"
      ],
      "text/plain": [
       "[('Rosina', 'Hovey', 99),\n",
       " ('Stanton', 'Mcgaugh', 40),\n",
       " ('Jonnie', 'Hillock', 72),\n",
       " ('Chu', 'Flax', 29),\n",
       " ('Rosalinda', 'Trippe', 82),\n",
       " ('Fran', 'Mount', 80),\n",
       " ('Shawnna', 'Coate', 61),\n",
       " ('Marcia', 'Hinkel', 41),\n",
       " ('Starr', 'Bachand', 85),\n",
       " ('Lottie', 'Champine', 62),\n",
       " ('Adelina', 'Brummitt', 99),\n",
       " ('Tenisha', 'Rippel', 79),\n",
       " ('Ludivina', 'Hoskin', None)]"
      ]
     },
     "execution_count": 6,
     "metadata": {},
     "output_type": "execute_result"
    }
   ],
   "source": [
    "%%sql \n",
    "SELECT first_name AS FName, last_name AS LName, exam3 AS Last_Exam\n",
    "FROM gradebook;"
   ]
  },
  {
   "cell_type": "markdown",
   "metadata": {},
   "source": [
    "We can use the `SELECT DISTINCT ...` syntax to retrieve all distinct values in given columns. As an example, we can use it to get a list of majors listed in the `gradebook` table:"
   ]
  },
  {
   "cell_type": "code",
   "execution_count": 7,
   "metadata": {},
   "outputs": [
    {
     "name": "stdout",
     "output_type": "stream",
     "text": [
      " * sqlite:///gradebook_data.sqlite\n",
      "Done.\n"
     ]
    },
    {
     "data": {
      "text/html": [
       "<table>\n",
       "    <tr>\n",
       "        <th>major</th>\n",
       "    </tr>\n",
       "    <tr>\n",
       "        <td>biology</td>\n",
       "    </tr>\n",
       "    <tr>\n",
       "        <td>computer science</td>\n",
       "    </tr>\n",
       "    <tr>\n",
       "        <td>mathematics</td>\n",
       "    </tr>\n",
       "</table>"
      ],
      "text/plain": [
       "[('biology',), ('computer science',), ('mathematics',)]"
      ]
     },
     "execution_count": 7,
     "metadata": {},
     "output_type": "execute_result"
    }
   ],
   "source": [
    "%%sql \n",
    "SELECT DISTINCT major\n",
    "FROM gradebook;"
   ]
  },
  {
   "cell_type": "markdown",
   "metadata": {},
   "source": [
    "Instead of extracting data as it appears in a table, we can modify it in various ways. For example, SQLite provides the `||` operator which concatenates strings. We can use it to combine columns with first and last names into a single column:"
   ]
  },
  {
   "cell_type": "code",
   "execution_count": 8,
   "metadata": {},
   "outputs": [
    {
     "name": "stdout",
     "output_type": "stream",
     "text": [
      " * sqlite:///gradebook_data.sqlite\n",
      "Done.\n"
     ]
    },
    {
     "data": {
      "text/html": [
       "<table>\n",
       "    <tr>\n",
       "        <th>last_name || &quot;, &quot; || first_name</th>\n",
       "        <th>exam1</th>\n",
       "        <th>exam2</th>\n",
       "        <th>exam3</th>\n",
       "    </tr>\n",
       "    <tr>\n",
       "        <td>Hovey, Rosina</td>\n",
       "        <td>96</td>\n",
       "        <td>13</td>\n",
       "        <td>99</td>\n",
       "    </tr>\n",
       "    <tr>\n",
       "        <td>Mcgaugh, Stanton</td>\n",
       "        <td>6</td>\n",
       "        <td>60</td>\n",
       "        <td>40</td>\n",
       "    </tr>\n",
       "    <tr>\n",
       "        <td>Hillock, Jonnie</td>\n",
       "        <td>56</td>\n",
       "        <td>24</td>\n",
       "        <td>72</td>\n",
       "    </tr>\n",
       "    <tr>\n",
       "        <td>Flax, Chu</td>\n",
       "        <td>72</td>\n",
       "        <td>None</td>\n",
       "        <td>29</td>\n",
       "    </tr>\n",
       "    <tr>\n",
       "        <td>Trippe, Rosalinda</td>\n",
       "        <td>None</td>\n",
       "        <td>None</td>\n",
       "        <td>82</td>\n",
       "    </tr>\n",
       "    <tr>\n",
       "        <td>Mount, Fran</td>\n",
       "        <td>71</td>\n",
       "        <td>5</td>\n",
       "        <td>80</td>\n",
       "    </tr>\n",
       "    <tr>\n",
       "        <td>Coate, Shawnna</td>\n",
       "        <td>79</td>\n",
       "        <td>96</td>\n",
       "        <td>61</td>\n",
       "    </tr>\n",
       "    <tr>\n",
       "        <td>Hinkel, Marcia</td>\n",
       "        <td>79</td>\n",
       "        <td>10</td>\n",
       "        <td>41</td>\n",
       "    </tr>\n",
       "    <tr>\n",
       "        <td>Bachand, Starr</td>\n",
       "        <td>None</td>\n",
       "        <td>27</td>\n",
       "        <td>85</td>\n",
       "    </tr>\n",
       "    <tr>\n",
       "        <td>Champine, Lottie</td>\n",
       "        <td>None</td>\n",
       "        <td>None</td>\n",
       "        <td>62</td>\n",
       "    </tr>\n",
       "    <tr>\n",
       "        <td>Brummitt, Adelina</td>\n",
       "        <td>None</td>\n",
       "        <td>67</td>\n",
       "        <td>99</td>\n",
       "    </tr>\n",
       "    <tr>\n",
       "        <td>Rippel, Tenisha</td>\n",
       "        <td>27</td>\n",
       "        <td>54</td>\n",
       "        <td>79</td>\n",
       "    </tr>\n",
       "    <tr>\n",
       "        <td>Hoskin, Ludivina</td>\n",
       "        <td>27</td>\n",
       "        <td>55</td>\n",
       "        <td>None</td>\n",
       "    </tr>\n",
       "</table>"
      ],
      "text/plain": [
       "[('Hovey, Rosina', 96, 13, 99),\n",
       " ('Mcgaugh, Stanton', 6, 60, 40),\n",
       " ('Hillock, Jonnie', 56, 24, 72),\n",
       " ('Flax, Chu', 72, None, 29),\n",
       " ('Trippe, Rosalinda', None, None, 82),\n",
       " ('Mount, Fran', 71, 5, 80),\n",
       " ('Coate, Shawnna', 79, 96, 61),\n",
       " ('Hinkel, Marcia', 79, 10, 41),\n",
       " ('Bachand, Starr', None, 27, 85),\n",
       " ('Champine, Lottie', None, None, 62),\n",
       " ('Brummitt, Adelina', None, 67, 99),\n",
       " ('Rippel, Tenisha', 27, 54, 79),\n",
       " ('Hoskin, Ludivina', 27, 55, None)]"
      ]
     },
     "execution_count": 8,
     "metadata": {},
     "output_type": "execute_result"
    }
   ],
   "source": [
    "%%sql \n",
    "SELECT last_name || \", \" || first_name, exam1, exam2, exam3\n",
    "FROM gradebook;"
   ]
  },
  {
   "cell_type": "markdown",
   "metadata": {},
   "source": [
    "The default name of a column created using some operation is just the code specifying the operation. Aliases let us replace it with a more meaningful name:"
   ]
  },
  {
   "cell_type": "code",
   "execution_count": 39,
   "metadata": {},
   "outputs": [
    {
     "name": "stdout",
     "output_type": "stream",
     "text": [
      " * sqlite:///gradebook_data.sqlite\n",
      "Done.\n"
     ]
    },
    {
     "data": {
      "text/html": [
       "<table>\n",
       "    <tr>\n",
       "        <th>full_name</th>\n",
       "        <th>exam1</th>\n",
       "        <th>exam2</th>\n",
       "        <th>exam3</th>\n",
       "    </tr>\n",
       "    <tr>\n",
       "        <td>Hovey, Rosina</td>\n",
       "        <td>96</td>\n",
       "        <td>13</td>\n",
       "        <td>99</td>\n",
       "    </tr>\n",
       "    <tr>\n",
       "        <td>Mcgaugh, Stanton</td>\n",
       "        <td>6</td>\n",
       "        <td>60</td>\n",
       "        <td>40</td>\n",
       "    </tr>\n",
       "    <tr>\n",
       "        <td>Hillock, Jonnie</td>\n",
       "        <td>56</td>\n",
       "        <td>24</td>\n",
       "        <td>72</td>\n",
       "    </tr>\n",
       "    <tr>\n",
       "        <td>Flax, Chu</td>\n",
       "        <td>72</td>\n",
       "        <td>None</td>\n",
       "        <td>29</td>\n",
       "    </tr>\n",
       "    <tr>\n",
       "        <td>Trippe, Rosalinda</td>\n",
       "        <td>None</td>\n",
       "        <td>None</td>\n",
       "        <td>82</td>\n",
       "    </tr>\n",
       "    <tr>\n",
       "        <td>Mount, Fran</td>\n",
       "        <td>71</td>\n",
       "        <td>5</td>\n",
       "        <td>80</td>\n",
       "    </tr>\n",
       "    <tr>\n",
       "        <td>Coate, Shawnna</td>\n",
       "        <td>79</td>\n",
       "        <td>96</td>\n",
       "        <td>61</td>\n",
       "    </tr>\n",
       "    <tr>\n",
       "        <td>Hinkel, Marcia</td>\n",
       "        <td>79</td>\n",
       "        <td>10</td>\n",
       "        <td>41</td>\n",
       "    </tr>\n",
       "    <tr>\n",
       "        <td>Bachand, Starr</td>\n",
       "        <td>None</td>\n",
       "        <td>27</td>\n",
       "        <td>85</td>\n",
       "    </tr>\n",
       "    <tr>\n",
       "        <td>Champine, Lottie</td>\n",
       "        <td>None</td>\n",
       "        <td>None</td>\n",
       "        <td>62</td>\n",
       "    </tr>\n",
       "    <tr>\n",
       "        <td>Brummitt, Adelina</td>\n",
       "        <td>None</td>\n",
       "        <td>67</td>\n",
       "        <td>99</td>\n",
       "    </tr>\n",
       "    <tr>\n",
       "        <td>Rippel, Tenisha</td>\n",
       "        <td>27</td>\n",
       "        <td>54</td>\n",
       "        <td>79</td>\n",
       "    </tr>\n",
       "    <tr>\n",
       "        <td>Hoskin, Ludivina</td>\n",
       "        <td>27</td>\n",
       "        <td>55</td>\n",
       "        <td>None</td>\n",
       "    </tr>\n",
       "</table>"
      ],
      "text/plain": [
       "[('Hovey, Rosina', 96, 13, 99),\n",
       " ('Mcgaugh, Stanton', 6, 60, 40),\n",
       " ('Hillock, Jonnie', 56, 24, 72),\n",
       " ('Flax, Chu', 72, None, 29),\n",
       " ('Trippe, Rosalinda', None, None, 82),\n",
       " ('Mount, Fran', 71, 5, 80),\n",
       " ('Coate, Shawnna', 79, 96, 61),\n",
       " ('Hinkel, Marcia', 79, 10, 41),\n",
       " ('Bachand, Starr', None, 27, 85),\n",
       " ('Champine, Lottie', None, None, 62),\n",
       " ('Brummitt, Adelina', None, 67, 99),\n",
       " ('Rippel, Tenisha', 27, 54, 79),\n",
       " ('Hoskin, Ludivina', 27, 55, None)]"
      ]
     },
     "execution_count": 39,
     "metadata": {},
     "output_type": "execute_result"
    }
   ],
   "source": [
    "%%sql \n",
    "SELECT last_name || \", \" || first_name AS full_name, exam1, exam2, exam3\n",
    "FROM gradebook;"
   ]
  },
  {
   "cell_type": "markdown",
   "metadata": {},
   "source": [
    "### NULL values and COALESCE"
   ]
  },
  {
   "cell_type": "markdown",
   "metadata": {},
   "source": [
    "Lets say that we want to calculate for each student the sum of scores from the three exams. We can try to do it as follows:"
   ]
  },
  {
   "cell_type": "code",
   "execution_count": 41,
   "metadata": {},
   "outputs": [
    {
     "name": "stdout",
     "output_type": "stream",
     "text": [
      " * sqlite:///gradebook_data.sqlite\n",
      "Done.\n"
     ]
    },
    {
     "data": {
      "text/html": [
       "<table>\n",
       "    <tr>\n",
       "        <th>first_name</th>\n",
       "        <th>last_name</th>\n",
       "        <th>exam_total</th>\n",
       "    </tr>\n",
       "    <tr>\n",
       "        <td>Rosina</td>\n",
       "        <td>Hovey</td>\n",
       "        <td>208</td>\n",
       "    </tr>\n",
       "    <tr>\n",
       "        <td>Stanton</td>\n",
       "        <td>Mcgaugh</td>\n",
       "        <td>106</td>\n",
       "    </tr>\n",
       "    <tr>\n",
       "        <td>Jonnie</td>\n",
       "        <td>Hillock</td>\n",
       "        <td>152</td>\n",
       "    </tr>\n",
       "    <tr>\n",
       "        <td>Chu</td>\n",
       "        <td>Flax</td>\n",
       "        <td>None</td>\n",
       "    </tr>\n",
       "    <tr>\n",
       "        <td>Rosalinda</td>\n",
       "        <td>Trippe</td>\n",
       "        <td>None</td>\n",
       "    </tr>\n",
       "    <tr>\n",
       "        <td>Fran</td>\n",
       "        <td>Mount</td>\n",
       "        <td>156</td>\n",
       "    </tr>\n",
       "    <tr>\n",
       "        <td>Shawnna</td>\n",
       "        <td>Coate</td>\n",
       "        <td>236</td>\n",
       "    </tr>\n",
       "    <tr>\n",
       "        <td>Marcia</td>\n",
       "        <td>Hinkel</td>\n",
       "        <td>130</td>\n",
       "    </tr>\n",
       "    <tr>\n",
       "        <td>Starr</td>\n",
       "        <td>Bachand</td>\n",
       "        <td>None</td>\n",
       "    </tr>\n",
       "    <tr>\n",
       "        <td>Lottie</td>\n",
       "        <td>Champine</td>\n",
       "        <td>None</td>\n",
       "    </tr>\n",
       "    <tr>\n",
       "        <td>Adelina</td>\n",
       "        <td>Brummitt</td>\n",
       "        <td>None</td>\n",
       "    </tr>\n",
       "    <tr>\n",
       "        <td>Tenisha</td>\n",
       "        <td>Rippel</td>\n",
       "        <td>160</td>\n",
       "    </tr>\n",
       "    <tr>\n",
       "        <td>Ludivina</td>\n",
       "        <td>Hoskin</td>\n",
       "        <td>None</td>\n",
       "    </tr>\n",
       "</table>"
      ],
      "text/plain": [
       "[('Rosina', 'Hovey', 208),\n",
       " ('Stanton', 'Mcgaugh', 106),\n",
       " ('Jonnie', 'Hillock', 152),\n",
       " ('Chu', 'Flax', None),\n",
       " ('Rosalinda', 'Trippe', None),\n",
       " ('Fran', 'Mount', 156),\n",
       " ('Shawnna', 'Coate', 236),\n",
       " ('Marcia', 'Hinkel', 130),\n",
       " ('Starr', 'Bachand', None),\n",
       " ('Lottie', 'Champine', None),\n",
       " ('Adelina', 'Brummitt', None),\n",
       " ('Tenisha', 'Rippel', 160),\n",
       " ('Ludivina', 'Hoskin', None)]"
      ]
     },
     "execution_count": 41,
     "metadata": {},
     "output_type": "execute_result"
    }
   ],
   "source": [
    "%%sql \n",
    "SELECT first_name, last_name, exam1 + exam2 +  exam3 AS exam_total\n",
    "FROM gradebook;"
   ]
  },
  {
   "cell_type": "markdown",
   "metadata": {},
   "source": [
    "In some cases this works as expected, but several rows show `None` in the `exam_total` column. The `None`table entries correspond to the SQL `NULL` value which signifies missing data. In the original `gradebook` table several exam scores have the `NULL` value, which may indicate e.g. that some students have not taken an exam. Any number added to`NULL` results in  `NULL` (since it is not possible to determine what the missing data stands for), which results in `NULL` values in the column `exam_total`. \n",
    "\n",
    "In our example, it may be sensible to treat `NULL` exam scores as zeros for the purpose of computing the total score. This can be accomplished using the `COALESCE` function. This function takes a sequence of values as arguments and returns the first value which is not `NULL` (or `NULL` if there is no such value). For example, `COALESCE(exam1, 0)` will return either the value of the column `exam1` or 0, depending on whether `exam1` is or is not `NULL`: "
   ]
  },
  {
   "cell_type": "code",
   "execution_count": 11,
   "metadata": {},
   "outputs": [
    {
     "name": "stdout",
     "output_type": "stream",
     "text": [
      " * sqlite:///gradebook_data.sqlite\n",
      "Done.\n"
     ]
    },
    {
     "data": {
      "text/html": [
       "<table>\n",
       "    <tr>\n",
       "        <th>first_name</th>\n",
       "        <th>last_name</th>\n",
       "        <th>exam1_modified</th>\n",
       "    </tr>\n",
       "    <tr>\n",
       "        <td>Rosina</td>\n",
       "        <td>Hovey</td>\n",
       "        <td>96</td>\n",
       "    </tr>\n",
       "    <tr>\n",
       "        <td>Stanton</td>\n",
       "        <td>Mcgaugh</td>\n",
       "        <td>6</td>\n",
       "    </tr>\n",
       "    <tr>\n",
       "        <td>Jonnie</td>\n",
       "        <td>Hillock</td>\n",
       "        <td>56</td>\n",
       "    </tr>\n",
       "    <tr>\n",
       "        <td>Chu</td>\n",
       "        <td>Flax</td>\n",
       "        <td>72</td>\n",
       "    </tr>\n",
       "    <tr>\n",
       "        <td>Rosalinda</td>\n",
       "        <td>Trippe</td>\n",
       "        <td>0</td>\n",
       "    </tr>\n",
       "    <tr>\n",
       "        <td>Fran</td>\n",
       "        <td>Mount</td>\n",
       "        <td>71</td>\n",
       "    </tr>\n",
       "    <tr>\n",
       "        <td>Shawnna</td>\n",
       "        <td>Coate</td>\n",
       "        <td>79</td>\n",
       "    </tr>\n",
       "    <tr>\n",
       "        <td>Marcia</td>\n",
       "        <td>Hinkel</td>\n",
       "        <td>79</td>\n",
       "    </tr>\n",
       "    <tr>\n",
       "        <td>Starr</td>\n",
       "        <td>Bachand</td>\n",
       "        <td>0</td>\n",
       "    </tr>\n",
       "    <tr>\n",
       "        <td>Lottie</td>\n",
       "        <td>Champine</td>\n",
       "        <td>0</td>\n",
       "    </tr>\n",
       "    <tr>\n",
       "        <td>Adelina</td>\n",
       "        <td>Brummitt</td>\n",
       "        <td>0</td>\n",
       "    </tr>\n",
       "    <tr>\n",
       "        <td>Tenisha</td>\n",
       "        <td>Rippel</td>\n",
       "        <td>27</td>\n",
       "    </tr>\n",
       "    <tr>\n",
       "        <td>Ludivina</td>\n",
       "        <td>Hoskin</td>\n",
       "        <td>27</td>\n",
       "    </tr>\n",
       "</table>"
      ],
      "text/plain": [
       "[('Rosina', 'Hovey', 96),\n",
       " ('Stanton', 'Mcgaugh', 6),\n",
       " ('Jonnie', 'Hillock', 56),\n",
       " ('Chu', 'Flax', 72),\n",
       " ('Rosalinda', 'Trippe', 0),\n",
       " ('Fran', 'Mount', 71),\n",
       " ('Shawnna', 'Coate', 79),\n",
       " ('Marcia', 'Hinkel', 79),\n",
       " ('Starr', 'Bachand', 0),\n",
       " ('Lottie', 'Champine', 0),\n",
       " ('Adelina', 'Brummitt', 0),\n",
       " ('Tenisha', 'Rippel', 27),\n",
       " ('Ludivina', 'Hoskin', 27)]"
      ]
     },
     "execution_count": 11,
     "metadata": {},
     "output_type": "execute_result"
    }
   ],
   "source": [
    "%%sql \n",
    "SELECT first_name, last_name, COALESCE(exam1, 0) AS exam1_modified\n",
    "FROM gradebook;"
   ]
  },
  {
   "cell_type": "markdown",
   "metadata": {},
   "source": [
    "Using `COALESCE` we can improve the query which computes the total score from the three exams:"
   ]
  },
  {
   "cell_type": "code",
   "execution_count": 12,
   "metadata": {},
   "outputs": [
    {
     "name": "stdout",
     "output_type": "stream",
     "text": [
      " * sqlite:///gradebook_data.sqlite\n",
      "Done.\n"
     ]
    },
    {
     "data": {
      "text/html": [
       "<table>\n",
       "    <tr>\n",
       "        <th>first_name</th>\n",
       "        <th>last_name</th>\n",
       "        <th>exam_total</th>\n",
       "    </tr>\n",
       "    <tr>\n",
       "        <td>Rosina</td>\n",
       "        <td>Hovey</td>\n",
       "        <td>208</td>\n",
       "    </tr>\n",
       "    <tr>\n",
       "        <td>Stanton</td>\n",
       "        <td>Mcgaugh</td>\n",
       "        <td>106</td>\n",
       "    </tr>\n",
       "    <tr>\n",
       "        <td>Jonnie</td>\n",
       "        <td>Hillock</td>\n",
       "        <td>152</td>\n",
       "    </tr>\n",
       "    <tr>\n",
       "        <td>Chu</td>\n",
       "        <td>Flax</td>\n",
       "        <td>101</td>\n",
       "    </tr>\n",
       "    <tr>\n",
       "        <td>Rosalinda</td>\n",
       "        <td>Trippe</td>\n",
       "        <td>82</td>\n",
       "    </tr>\n",
       "    <tr>\n",
       "        <td>Fran</td>\n",
       "        <td>Mount</td>\n",
       "        <td>156</td>\n",
       "    </tr>\n",
       "    <tr>\n",
       "        <td>Shawnna</td>\n",
       "        <td>Coate</td>\n",
       "        <td>236</td>\n",
       "    </tr>\n",
       "    <tr>\n",
       "        <td>Marcia</td>\n",
       "        <td>Hinkel</td>\n",
       "        <td>130</td>\n",
       "    </tr>\n",
       "    <tr>\n",
       "        <td>Starr</td>\n",
       "        <td>Bachand</td>\n",
       "        <td>112</td>\n",
       "    </tr>\n",
       "    <tr>\n",
       "        <td>Lottie</td>\n",
       "        <td>Champine</td>\n",
       "        <td>62</td>\n",
       "    </tr>\n",
       "    <tr>\n",
       "        <td>Adelina</td>\n",
       "        <td>Brummitt</td>\n",
       "        <td>166</td>\n",
       "    </tr>\n",
       "    <tr>\n",
       "        <td>Tenisha</td>\n",
       "        <td>Rippel</td>\n",
       "        <td>160</td>\n",
       "    </tr>\n",
       "    <tr>\n",
       "        <td>Ludivina</td>\n",
       "        <td>Hoskin</td>\n",
       "        <td>82</td>\n",
       "    </tr>\n",
       "</table>"
      ],
      "text/plain": [
       "[('Rosina', 'Hovey', 208),\n",
       " ('Stanton', 'Mcgaugh', 106),\n",
       " ('Jonnie', 'Hillock', 152),\n",
       " ('Chu', 'Flax', 101),\n",
       " ('Rosalinda', 'Trippe', 82),\n",
       " ('Fran', 'Mount', 156),\n",
       " ('Shawnna', 'Coate', 236),\n",
       " ('Marcia', 'Hinkel', 130),\n",
       " ('Starr', 'Bachand', 112),\n",
       " ('Lottie', 'Champine', 62),\n",
       " ('Adelina', 'Brummitt', 166),\n",
       " ('Tenisha', 'Rippel', 160),\n",
       " ('Ludivina', 'Hoskin', 82)]"
      ]
     },
     "execution_count": 12,
     "metadata": {},
     "output_type": "execute_result"
    }
   ],
   "source": [
    "%%sql \n",
    "SELECT first_name, last_name, COALESCE(exam1, 0) +  COALESCE(exam2, 0) + COALESCE(exam3, 0) AS exam_total\n",
    "FROM gradebook;"
   ]
  },
  {
   "cell_type": "markdown",
   "metadata": {},
   "source": [
    "### The CASE expression"
   ]
  },
  {
   "cell_type": "markdown",
   "metadata": {},
   "source": [
    "Lets say that we want to assign letter grades based on exam 3 scores: 'Great' for scores above 80 points,  'Pass' for scores between 80 and 50 points, and 'Fail' for all other scores. This can be accomplished using the `CASE` expression:"
   ]
  },
  {
   "cell_type": "code",
   "execution_count": 13,
   "metadata": {},
   "outputs": [
    {
     "name": "stdout",
     "output_type": "stream",
     "text": [
      " * sqlite:///gradebook_data.sqlite\n",
      "Done.\n"
     ]
    },
    {
     "data": {
      "text/html": [
       "<table>\n",
       "    <tr>\n",
       "        <th>first_name</th>\n",
       "        <th>last_name</th>\n",
       "        <th>exam3</th>\n",
       "        <th>grade</th>\n",
       "    </tr>\n",
       "    <tr>\n",
       "        <td>Rosina</td>\n",
       "        <td>Hovey</td>\n",
       "        <td>99</td>\n",
       "        <td>Great</td>\n",
       "    </tr>\n",
       "    <tr>\n",
       "        <td>Stanton</td>\n",
       "        <td>Mcgaugh</td>\n",
       "        <td>40</td>\n",
       "        <td>Fail</td>\n",
       "    </tr>\n",
       "    <tr>\n",
       "        <td>Jonnie</td>\n",
       "        <td>Hillock</td>\n",
       "        <td>72</td>\n",
       "        <td>Pass</td>\n",
       "    </tr>\n",
       "    <tr>\n",
       "        <td>Chu</td>\n",
       "        <td>Flax</td>\n",
       "        <td>29</td>\n",
       "        <td>Fail</td>\n",
       "    </tr>\n",
       "    <tr>\n",
       "        <td>Rosalinda</td>\n",
       "        <td>Trippe</td>\n",
       "        <td>82</td>\n",
       "        <td>Great</td>\n",
       "    </tr>\n",
       "    <tr>\n",
       "        <td>Fran</td>\n",
       "        <td>Mount</td>\n",
       "        <td>80</td>\n",
       "        <td>Pass</td>\n",
       "    </tr>\n",
       "    <tr>\n",
       "        <td>Shawnna</td>\n",
       "        <td>Coate</td>\n",
       "        <td>61</td>\n",
       "        <td>Pass</td>\n",
       "    </tr>\n",
       "    <tr>\n",
       "        <td>Marcia</td>\n",
       "        <td>Hinkel</td>\n",
       "        <td>41</td>\n",
       "        <td>Fail</td>\n",
       "    </tr>\n",
       "    <tr>\n",
       "        <td>Starr</td>\n",
       "        <td>Bachand</td>\n",
       "        <td>85</td>\n",
       "        <td>Great</td>\n",
       "    </tr>\n",
       "    <tr>\n",
       "        <td>Lottie</td>\n",
       "        <td>Champine</td>\n",
       "        <td>62</td>\n",
       "        <td>Pass</td>\n",
       "    </tr>\n",
       "    <tr>\n",
       "        <td>Adelina</td>\n",
       "        <td>Brummitt</td>\n",
       "        <td>99</td>\n",
       "        <td>Great</td>\n",
       "    </tr>\n",
       "    <tr>\n",
       "        <td>Tenisha</td>\n",
       "        <td>Rippel</td>\n",
       "        <td>79</td>\n",
       "        <td>Pass</td>\n",
       "    </tr>\n",
       "    <tr>\n",
       "        <td>Ludivina</td>\n",
       "        <td>Hoskin</td>\n",
       "        <td>None</td>\n",
       "        <td>Fail</td>\n",
       "    </tr>\n",
       "</table>"
      ],
      "text/plain": [
       "[('Rosina', 'Hovey', 99, 'Great'),\n",
       " ('Stanton', 'Mcgaugh', 40, 'Fail'),\n",
       " ('Jonnie', 'Hillock', 72, 'Pass'),\n",
       " ('Chu', 'Flax', 29, 'Fail'),\n",
       " ('Rosalinda', 'Trippe', 82, 'Great'),\n",
       " ('Fran', 'Mount', 80, 'Pass'),\n",
       " ('Shawnna', 'Coate', 61, 'Pass'),\n",
       " ('Marcia', 'Hinkel', 41, 'Fail'),\n",
       " ('Starr', 'Bachand', 85, 'Great'),\n",
       " ('Lottie', 'Champine', 62, 'Pass'),\n",
       " ('Adelina', 'Brummitt', 99, 'Great'),\n",
       " ('Tenisha', 'Rippel', 79, 'Pass'),\n",
       " ('Ludivina', 'Hoskin', None, 'Fail')]"
      ]
     },
     "execution_count": 13,
     "metadata": {},
     "output_type": "execute_result"
    }
   ],
   "source": [
    "%%sql \n",
    "SELECT first_name, last_name, exam3,\n",
    "CASE \n",
    "    WHEN exam3 > 80 THEN 'Great'\n",
    "    WHEN exam3 > 50 THEN 'Pass'\n",
    "    ELSE \"Fail\"\n",
    "END AS grade\n",
    "FROM gradebook;"
   ]
  },
  {
   "cell_type": "markdown",
   "metadata": {},
   "source": [
    "## WHERE"
   ]
  },
  {
   "cell_type": "markdown",
   "metadata": {},
   "source": [
    "We can use the `WHERE` clause of the `SELECT` statement to specify which rows of a table should be retrieved. For example, below we use it to select students who received at least 70 points on exam 1:"
   ]
  },
  {
   "cell_type": "code",
   "execution_count": 14,
   "metadata": {},
   "outputs": [
    {
     "name": "stdout",
     "output_type": "stream",
     "text": [
      " * sqlite:///gradebook_data.sqlite\n",
      "Done.\n"
     ]
    },
    {
     "data": {
      "text/html": [
       "<table>\n",
       "    <tr>\n",
       "        <th>student_id</th>\n",
       "        <th>first_name</th>\n",
       "        <th>last_name</th>\n",
       "        <th>major</th>\n",
       "        <th>exam1</th>\n",
       "        <th>exam2</th>\n",
       "        <th>exam3</th>\n",
       "    </tr>\n",
       "    <tr>\n",
       "        <td>5775</td>\n",
       "        <td>Rosina</td>\n",
       "        <td>Hovey</td>\n",
       "        <td>biology</td>\n",
       "        <td>96</td>\n",
       "        <td>13</td>\n",
       "        <td>99</td>\n",
       "    </tr>\n",
       "    <tr>\n",
       "        <td>3877</td>\n",
       "        <td>Chu</td>\n",
       "        <td>Flax</td>\n",
       "        <td>mathematics</td>\n",
       "        <td>72</td>\n",
       "        <td>None</td>\n",
       "        <td>29</td>\n",
       "    </tr>\n",
       "    <tr>\n",
       "        <td>7138</td>\n",
       "        <td>Fran</td>\n",
       "        <td>Mount</td>\n",
       "        <td>biology</td>\n",
       "        <td>71</td>\n",
       "        <td>5</td>\n",
       "        <td>80</td>\n",
       "    </tr>\n",
       "    <tr>\n",
       "        <td>5108</td>\n",
       "        <td>Shawnna</td>\n",
       "        <td>Coate</td>\n",
       "        <td>computer science</td>\n",
       "        <td>79</td>\n",
       "        <td>96</td>\n",
       "        <td>61</td>\n",
       "    </tr>\n",
       "    <tr>\n",
       "        <td>3548</td>\n",
       "        <td>Marcia</td>\n",
       "        <td>Hinkel</td>\n",
       "        <td>biology</td>\n",
       "        <td>79</td>\n",
       "        <td>10</td>\n",
       "        <td>41</td>\n",
       "    </tr>\n",
       "</table>"
      ],
      "text/plain": [
       "[(5775, 'Rosina', 'Hovey', 'biology', 96, 13, 99),\n",
       " (3877, 'Chu', 'Flax', 'mathematics', 72, None, 29),\n",
       " (7138, 'Fran', 'Mount', 'biology', 71, 5, 80),\n",
       " (5108, 'Shawnna', 'Coate', 'computer science', 79, 96, 61),\n",
       " (3548, 'Marcia', 'Hinkel', 'biology', 79, 10, 41)]"
      ]
     },
     "execution_count": 14,
     "metadata": {},
     "output_type": "execute_result"
    }
   ],
   "source": [
    "%%sql\n",
    "SELECT *\n",
    "FROM gradebook\n",
    "WHERE exam1 > 70;"
   ]
  },
  {
   "cell_type": "markdown",
   "metadata": {},
   "source": [
    "Logical conditions can be combined using `AND`, `OR` and `NOT` operators. Below we select students with scores above 50 points on each of the three exams:"
   ]
  },
  {
   "cell_type": "code",
   "execution_count": 15,
   "metadata": {},
   "outputs": [
    {
     "name": "stdout",
     "output_type": "stream",
     "text": [
      " * sqlite:///gradebook_data.sqlite\n",
      "Done.\n"
     ]
    },
    {
     "data": {
      "text/html": [
       "<table>\n",
       "    <tr>\n",
       "        <th>student_id</th>\n",
       "        <th>first_name</th>\n",
       "        <th>last_name</th>\n",
       "        <th>major</th>\n",
       "        <th>exam1</th>\n",
       "        <th>exam2</th>\n",
       "        <th>exam3</th>\n",
       "    </tr>\n",
       "    <tr>\n",
       "        <td>5108</td>\n",
       "        <td>Shawnna</td>\n",
       "        <td>Coate</td>\n",
       "        <td>computer science</td>\n",
       "        <td>79</td>\n",
       "        <td>96</td>\n",
       "        <td>61</td>\n",
       "    </tr>\n",
       "</table>"
      ],
      "text/plain": [
       "[(5108, 'Shawnna', 'Coate', 'computer science', 79, 96, 61)]"
      ]
     },
     "execution_count": 15,
     "metadata": {},
     "output_type": "execute_result"
    }
   ],
   "source": [
    "%%sql\n",
    "SELECT *\n",
    "FROM gradebook\n",
    "WHERE exam1 > 50 AND exam2 > 50 AND exam3 > 50;"
   ]
  },
  {
   "cell_type": "markdown",
   "metadata": {},
   "source": [
    "### Comparing NULL values"
   ]
  },
  {
   "cell_type": "markdown",
   "metadata": {},
   "source": [
    "In some cases we may be interested in retrieving records which have (or do not have) the `NULL` value in some column. The conditions `column = NULL` and `column != NULL` will not work, since it is not possible to determine if something has the same value as the value of unknown data. Instead, we can use the conditions `column IS NULL` and `column IS NOT NULL`. \n",
    "\n",
    "As an example, below we select records of students with `NULL` value in the `exam1` column:"
   ]
  },
  {
   "cell_type": "code",
   "execution_count": 16,
   "metadata": {},
   "outputs": [
    {
     "name": "stdout",
     "output_type": "stream",
     "text": [
      " * sqlite:///gradebook_data.sqlite\n",
      "Done.\n"
     ]
    },
    {
     "data": {
      "text/html": [
       "<table>\n",
       "    <tr>\n",
       "        <th>student_id</th>\n",
       "        <th>first_name</th>\n",
       "        <th>last_name</th>\n",
       "        <th>major</th>\n",
       "        <th>exam1</th>\n",
       "        <th>exam2</th>\n",
       "        <th>exam3</th>\n",
       "    </tr>\n",
       "    <tr>\n",
       "        <td>7256</td>\n",
       "        <td>Rosalinda</td>\n",
       "        <td>Trippe</td>\n",
       "        <td>computer science</td>\n",
       "        <td>None</td>\n",
       "        <td>None</td>\n",
       "        <td>82</td>\n",
       "    </tr>\n",
       "    <tr>\n",
       "        <td>2712</td>\n",
       "        <td>Starr</td>\n",
       "        <td>Bachand</td>\n",
       "        <td>computer science</td>\n",
       "        <td>None</td>\n",
       "        <td>27</td>\n",
       "        <td>85</td>\n",
       "    </tr>\n",
       "    <tr>\n",
       "        <td>8911</td>\n",
       "        <td>Lottie</td>\n",
       "        <td>Champine</td>\n",
       "        <td>computer science</td>\n",
       "        <td>None</td>\n",
       "        <td>None</td>\n",
       "        <td>62</td>\n",
       "    </tr>\n",
       "    <tr>\n",
       "        <td>6245</td>\n",
       "        <td>Adelina</td>\n",
       "        <td>Brummitt</td>\n",
       "        <td>mathematics</td>\n",
       "        <td>None</td>\n",
       "        <td>67</td>\n",
       "        <td>99</td>\n",
       "    </tr>\n",
       "</table>"
      ],
      "text/plain": [
       "[(7256, 'Rosalinda', 'Trippe', 'computer science', None, None, 82),\n",
       " (2712, 'Starr', 'Bachand', 'computer science', None, 27, 85),\n",
       " (8911, 'Lottie', 'Champine', 'computer science', None, None, 62),\n",
       " (6245, 'Adelina', 'Brummitt', 'mathematics', None, 67, 99)]"
      ]
     },
     "execution_count": 16,
     "metadata": {},
     "output_type": "execute_result"
    }
   ],
   "source": [
    "%%sql\n",
    "SELECT *\n",
    "FROM gradebook\n",
    "WHERE exam1 IS NULL;"
   ]
  },
  {
   "cell_type": "markdown",
   "metadata": {},
   "source": [
    "### LIKE operator"
   ]
  },
  {
   "cell_type": "markdown",
   "metadata": {},
   "source": [
    "The `LIKE` operator can be used to perform simple pattern matches in strings. Below we use it to select records of all students whose last names start with an \"H\":"
   ]
  },
  {
   "cell_type": "code",
   "execution_count": 17,
   "metadata": {},
   "outputs": [
    {
     "name": "stdout",
     "output_type": "stream",
     "text": [
      " * sqlite:///gradebook_data.sqlite\n",
      "Done.\n"
     ]
    },
    {
     "data": {
      "text/html": [
       "<table>\n",
       "    <tr>\n",
       "        <th>student_id</th>\n",
       "        <th>first_name</th>\n",
       "        <th>last_name</th>\n",
       "        <th>major</th>\n",
       "        <th>exam1</th>\n",
       "        <th>exam2</th>\n",
       "        <th>exam3</th>\n",
       "    </tr>\n",
       "    <tr>\n",
       "        <td>5775</td>\n",
       "        <td>Rosina</td>\n",
       "        <td>Hovey</td>\n",
       "        <td>biology</td>\n",
       "        <td>96</td>\n",
       "        <td>13</td>\n",
       "        <td>99</td>\n",
       "    </tr>\n",
       "    <tr>\n",
       "        <td>9667</td>\n",
       "        <td>Jonnie</td>\n",
       "        <td>Hillock</td>\n",
       "        <td>mathematics</td>\n",
       "        <td>56</td>\n",
       "        <td>24</td>\n",
       "        <td>72</td>\n",
       "    </tr>\n",
       "    <tr>\n",
       "        <td>3548</td>\n",
       "        <td>Marcia</td>\n",
       "        <td>Hinkel</td>\n",
       "        <td>biology</td>\n",
       "        <td>79</td>\n",
       "        <td>10</td>\n",
       "        <td>41</td>\n",
       "    </tr>\n",
       "    <tr>\n",
       "        <td>9165</td>\n",
       "        <td>Ludivina</td>\n",
       "        <td>Hoskin</td>\n",
       "        <td>mathematics</td>\n",
       "        <td>27</td>\n",
       "        <td>55</td>\n",
       "        <td>None</td>\n",
       "    </tr>\n",
       "</table>"
      ],
      "text/plain": [
       "[(5775, 'Rosina', 'Hovey', 'biology', 96, 13, 99),\n",
       " (9667, 'Jonnie', 'Hillock', 'mathematics', 56, 24, 72),\n",
       " (3548, 'Marcia', 'Hinkel', 'biology', 79, 10, 41),\n",
       " (9165, 'Ludivina', 'Hoskin', 'mathematics', 27, 55, None)]"
      ]
     },
     "execution_count": 17,
     "metadata": {},
     "output_type": "execute_result"
    }
   ],
   "source": [
    "%%sql \n",
    "SELECT *\n",
    "FROM gradebook\n",
    "WHERE last_name LIKE 'H%';"
   ]
  },
  {
   "cell_type": "markdown",
   "metadata": {},
   "source": [
    "In patterns used by `LIKE` the percentage symbol `%` represents zero of more characters, and the underscore `_` stands for a single character. By default pattern matches as case insensitive, so 'H%' will match both 'Hello' and 'hello'."
   ]
  },
  {
   "cell_type": "markdown",
   "metadata": {},
   "source": [
    "## ORDER"
   ]
  },
  {
   "cell_type": "markdown",
   "metadata": {},
   "source": [
    "The `ORDER` clause specifies in which order records retrieved by a query should be returned. We can use it, for example, to arrange students records according to the exam 3 scores:"
   ]
  },
  {
   "cell_type": "code",
   "execution_count": 42,
   "metadata": {},
   "outputs": [
    {
     "name": "stdout",
     "output_type": "stream",
     "text": [
      " * sqlite:///gradebook_data.sqlite\n",
      "Done.\n"
     ]
    },
    {
     "data": {
      "text/html": [
       "<table>\n",
       "    <tr>\n",
       "        <th>first_name</th>\n",
       "        <th>last_name</th>\n",
       "        <th>exam3</th>\n",
       "    </tr>\n",
       "    <tr>\n",
       "        <td>Ludivina</td>\n",
       "        <td>Hoskin</td>\n",
       "        <td>None</td>\n",
       "    </tr>\n",
       "    <tr>\n",
       "        <td>Chu</td>\n",
       "        <td>Flax</td>\n",
       "        <td>29</td>\n",
       "    </tr>\n",
       "    <tr>\n",
       "        <td>Stanton</td>\n",
       "        <td>Mcgaugh</td>\n",
       "        <td>40</td>\n",
       "    </tr>\n",
       "    <tr>\n",
       "        <td>Marcia</td>\n",
       "        <td>Hinkel</td>\n",
       "        <td>41</td>\n",
       "    </tr>\n",
       "    <tr>\n",
       "        <td>Shawnna</td>\n",
       "        <td>Coate</td>\n",
       "        <td>61</td>\n",
       "    </tr>\n",
       "    <tr>\n",
       "        <td>Lottie</td>\n",
       "        <td>Champine</td>\n",
       "        <td>62</td>\n",
       "    </tr>\n",
       "    <tr>\n",
       "        <td>Jonnie</td>\n",
       "        <td>Hillock</td>\n",
       "        <td>72</td>\n",
       "    </tr>\n",
       "    <tr>\n",
       "        <td>Tenisha</td>\n",
       "        <td>Rippel</td>\n",
       "        <td>79</td>\n",
       "    </tr>\n",
       "    <tr>\n",
       "        <td>Fran</td>\n",
       "        <td>Mount</td>\n",
       "        <td>80</td>\n",
       "    </tr>\n",
       "    <tr>\n",
       "        <td>Rosalinda</td>\n",
       "        <td>Trippe</td>\n",
       "        <td>82</td>\n",
       "    </tr>\n",
       "    <tr>\n",
       "        <td>Starr</td>\n",
       "        <td>Bachand</td>\n",
       "        <td>85</td>\n",
       "    </tr>\n",
       "    <tr>\n",
       "        <td>Rosina</td>\n",
       "        <td>Hovey</td>\n",
       "        <td>99</td>\n",
       "    </tr>\n",
       "    <tr>\n",
       "        <td>Adelina</td>\n",
       "        <td>Brummitt</td>\n",
       "        <td>99</td>\n",
       "    </tr>\n",
       "</table>"
      ],
      "text/plain": [
       "[('Ludivina', 'Hoskin', None),\n",
       " ('Chu', 'Flax', 29),\n",
       " ('Stanton', 'Mcgaugh', 40),\n",
       " ('Marcia', 'Hinkel', 41),\n",
       " ('Shawnna', 'Coate', 61),\n",
       " ('Lottie', 'Champine', 62),\n",
       " ('Jonnie', 'Hillock', 72),\n",
       " ('Tenisha', 'Rippel', 79),\n",
       " ('Fran', 'Mount', 80),\n",
       " ('Rosalinda', 'Trippe', 82),\n",
       " ('Starr', 'Bachand', 85),\n",
       " ('Rosina', 'Hovey', 99),\n",
       " ('Adelina', 'Brummitt', 99)]"
      ]
     },
     "execution_count": 42,
     "metadata": {},
     "output_type": "execute_result"
    }
   ],
   "source": [
    "%%sql\n",
    "SELECT first_name, last_name, exam3\n",
    "FROM gradebook\n",
    "ORDER BY exam3;"
   ]
  },
  {
   "cell_type": "markdown",
   "metadata": {},
   "source": [
    "By default, records are returned in the ascending order. `NULL` is regarded as the smallest possible value, so it appears at the top of the list. By adding the `DESC` keyword we can arrange records in the descending order: "
   ]
  },
  {
   "cell_type": "code",
   "execution_count": 19,
   "metadata": {},
   "outputs": [
    {
     "name": "stdout",
     "output_type": "stream",
     "text": [
      " * sqlite:///gradebook_data.sqlite\n",
      "Done.\n"
     ]
    },
    {
     "data": {
      "text/html": [
       "<table>\n",
       "    <tr>\n",
       "        <th>first_name</th>\n",
       "        <th>last_name</th>\n",
       "        <th>exam3</th>\n",
       "    </tr>\n",
       "    <tr>\n",
       "        <td>Rosina</td>\n",
       "        <td>Hovey</td>\n",
       "        <td>99</td>\n",
       "    </tr>\n",
       "    <tr>\n",
       "        <td>Adelina</td>\n",
       "        <td>Brummitt</td>\n",
       "        <td>99</td>\n",
       "    </tr>\n",
       "    <tr>\n",
       "        <td>Starr</td>\n",
       "        <td>Bachand</td>\n",
       "        <td>85</td>\n",
       "    </tr>\n",
       "    <tr>\n",
       "        <td>Rosalinda</td>\n",
       "        <td>Trippe</td>\n",
       "        <td>82</td>\n",
       "    </tr>\n",
       "    <tr>\n",
       "        <td>Fran</td>\n",
       "        <td>Mount</td>\n",
       "        <td>80</td>\n",
       "    </tr>\n",
       "    <tr>\n",
       "        <td>Tenisha</td>\n",
       "        <td>Rippel</td>\n",
       "        <td>79</td>\n",
       "    </tr>\n",
       "    <tr>\n",
       "        <td>Jonnie</td>\n",
       "        <td>Hillock</td>\n",
       "        <td>72</td>\n",
       "    </tr>\n",
       "    <tr>\n",
       "        <td>Lottie</td>\n",
       "        <td>Champine</td>\n",
       "        <td>62</td>\n",
       "    </tr>\n",
       "    <tr>\n",
       "        <td>Shawnna</td>\n",
       "        <td>Coate</td>\n",
       "        <td>61</td>\n",
       "    </tr>\n",
       "    <tr>\n",
       "        <td>Marcia</td>\n",
       "        <td>Hinkel</td>\n",
       "        <td>41</td>\n",
       "    </tr>\n",
       "    <tr>\n",
       "        <td>Stanton</td>\n",
       "        <td>Mcgaugh</td>\n",
       "        <td>40</td>\n",
       "    </tr>\n",
       "    <tr>\n",
       "        <td>Chu</td>\n",
       "        <td>Flax</td>\n",
       "        <td>29</td>\n",
       "    </tr>\n",
       "    <tr>\n",
       "        <td>Ludivina</td>\n",
       "        <td>Hoskin</td>\n",
       "        <td>None</td>\n",
       "    </tr>\n",
       "</table>"
      ],
      "text/plain": [
       "[('Rosina', 'Hovey', 99),\n",
       " ('Adelina', 'Brummitt', 99),\n",
       " ('Starr', 'Bachand', 85),\n",
       " ('Rosalinda', 'Trippe', 82),\n",
       " ('Fran', 'Mount', 80),\n",
       " ('Tenisha', 'Rippel', 79),\n",
       " ('Jonnie', 'Hillock', 72),\n",
       " ('Lottie', 'Champine', 62),\n",
       " ('Shawnna', 'Coate', 61),\n",
       " ('Marcia', 'Hinkel', 41),\n",
       " ('Stanton', 'Mcgaugh', 40),\n",
       " ('Chu', 'Flax', 29),\n",
       " ('Ludivina', 'Hoskin', None)]"
      ]
     },
     "execution_count": 19,
     "metadata": {},
     "output_type": "execute_result"
    }
   ],
   "source": [
    "%%sql\n",
    "SELECT first_name, last_name, exam3\n",
    "FROM gradebook\n",
    "ORDER BY exam3 DESC;"
   ]
  },
  {
   "cell_type": "markdown",
   "metadata": {},
   "source": [
    "## LIMIT"
   ]
  },
  {
   "cell_type": "markdown",
   "metadata": {},
   "source": [
    "The `LIMIT` clause constrains the number of records returned by the `SELECT` statement. For example, we can use it to get records of 5 students with the highest exam 3 scores:"
   ]
  },
  {
   "cell_type": "code",
   "execution_count": 20,
   "metadata": {},
   "outputs": [
    {
     "name": "stdout",
     "output_type": "stream",
     "text": [
      " * sqlite:///gradebook_data.sqlite\n",
      "Done.\n"
     ]
    },
    {
     "data": {
      "text/html": [
       "<table>\n",
       "    <tr>\n",
       "        <th>first_name</th>\n",
       "        <th>last_name</th>\n",
       "        <th>exam3</th>\n",
       "    </tr>\n",
       "    <tr>\n",
       "        <td>Rosina</td>\n",
       "        <td>Hovey</td>\n",
       "        <td>99</td>\n",
       "    </tr>\n",
       "    <tr>\n",
       "        <td>Adelina</td>\n",
       "        <td>Brummitt</td>\n",
       "        <td>99</td>\n",
       "    </tr>\n",
       "    <tr>\n",
       "        <td>Starr</td>\n",
       "        <td>Bachand</td>\n",
       "        <td>85</td>\n",
       "    </tr>\n",
       "    <tr>\n",
       "        <td>Rosalinda</td>\n",
       "        <td>Trippe</td>\n",
       "        <td>82</td>\n",
       "    </tr>\n",
       "    <tr>\n",
       "        <td>Fran</td>\n",
       "        <td>Mount</td>\n",
       "        <td>80</td>\n",
       "    </tr>\n",
       "</table>"
      ],
      "text/plain": [
       "[('Rosina', 'Hovey', 99),\n",
       " ('Adelina', 'Brummitt', 99),\n",
       " ('Starr', 'Bachand', 85),\n",
       " ('Rosalinda', 'Trippe', 82),\n",
       " ('Fran', 'Mount', 80)]"
      ]
     },
     "execution_count": 20,
     "metadata": {},
     "output_type": "execute_result"
    }
   ],
   "source": [
    "%%sql\n",
    "SELECT first_name, last_name, exam3\n",
    "FROM gradebook\n",
    "ORDER BY exam3 DESC\n",
    "LIMIT 5"
   ]
  },
  {
   "cell_type": "markdown",
   "metadata": {},
   "source": [
    "`LIMIT` can be used with an additional `OFFSET` keyword. For example, `LIMIT 3 OFFSET 2` will skip the first 2 records and return the following 3 records:  "
   ]
  },
  {
   "cell_type": "code",
   "execution_count": 21,
   "metadata": {},
   "outputs": [
    {
     "name": "stdout",
     "output_type": "stream",
     "text": [
      " * sqlite:///gradebook_data.sqlite\n",
      "Done.\n"
     ]
    },
    {
     "data": {
      "text/html": [
       "<table>\n",
       "    <tr>\n",
       "        <th>first_name</th>\n",
       "        <th>last_name</th>\n",
       "        <th>exam3</th>\n",
       "    </tr>\n",
       "    <tr>\n",
       "        <td>Starr</td>\n",
       "        <td>Bachand</td>\n",
       "        <td>85</td>\n",
       "    </tr>\n",
       "    <tr>\n",
       "        <td>Rosalinda</td>\n",
       "        <td>Trippe</td>\n",
       "        <td>82</td>\n",
       "    </tr>\n",
       "    <tr>\n",
       "        <td>Fran</td>\n",
       "        <td>Mount</td>\n",
       "        <td>80</td>\n",
       "    </tr>\n",
       "</table>"
      ],
      "text/plain": [
       "[('Starr', 'Bachand', 85), ('Rosalinda', 'Trippe', 82), ('Fran', 'Mount', 80)]"
      ]
     },
     "execution_count": 21,
     "metadata": {},
     "output_type": "execute_result"
    }
   ],
   "source": [
    "%%sql\n",
    "SELECT first_name, last_name, exam3\n",
    "FROM gradebook\n",
    "ORDER BY exam3 DESC\n",
    "LIMIT 3 OFFSET 2"
   ]
  },
  {
   "cell_type": "markdown",
   "metadata": {},
   "source": [
    "## Aggregate functions"
   ]
  },
  {
   "cell_type": "markdown",
   "metadata": {},
   "source": [
    "Aggregate functions summarize values in a column. SQLite provides a few aggregate functions:\n",
    "\n",
    "* `COUNT(column)` returns the number of non-NULL values in a column. `COUNT(*)` returns the number of rows,    regardless of their values.\n",
    "* `AVG(column)` returns the average of numerical values in a column.\n",
    "* `MIN(column)` and `MAX(my_column)` return the minimal and maximal value of a column, respectively. \n",
    "* `SUM(column)` returns the sum of numerical values in a column. "
   ]
  },
  {
   "cell_type": "markdown",
   "metadata": {},
   "source": [
    "For example, below we count the number of non-NULL values in columns with exam scores. "
   ]
  },
  {
   "cell_type": "code",
   "execution_count": 22,
   "metadata": {},
   "outputs": [
    {
     "name": "stdout",
     "output_type": "stream",
     "text": [
      " * sqlite:///gradebook_data.sqlite\n",
      "Done.\n"
     ]
    },
    {
     "data": {
      "text/html": [
       "<table>\n",
       "    <tr>\n",
       "        <th>COUNT(exam1)</th>\n",
       "        <th>COUNT(exam2)</th>\n",
       "        <th>COUNT(exam3)</th>\n",
       "    </tr>\n",
       "    <tr>\n",
       "        <td>9</td>\n",
       "        <td>10</td>\n",
       "        <td>12</td>\n",
       "    </tr>\n",
       "</table>"
      ],
      "text/plain": [
       "[(9, 10, 12)]"
      ]
     },
     "execution_count": 22,
     "metadata": {},
     "output_type": "execute_result"
    }
   ],
   "source": [
    "%%sql\n",
    "SELECT COUNT(exam1), COUNT(exam2), COUNT(exam3)\n",
    "FROM gradebook;"
   ]
  },
  {
   "cell_type": "markdown",
   "metadata": {},
   "source": [
    "Next, we compute the maximal score recorded for each exam:"
   ]
  },
  {
   "cell_type": "code",
   "execution_count": 23,
   "metadata": {},
   "outputs": [
    {
     "name": "stdout",
     "output_type": "stream",
     "text": [
      " * sqlite:///gradebook_data.sqlite\n",
      "Done.\n"
     ]
    },
    {
     "data": {
      "text/html": [
       "<table>\n",
       "    <tr>\n",
       "        <th>MAX(exam1)</th>\n",
       "        <th>MAX(exam2)</th>\n",
       "        <th>MAX(exam3)</th>\n",
       "    </tr>\n",
       "    <tr>\n",
       "        <td>96</td>\n",
       "        <td>96</td>\n",
       "        <td>99</td>\n",
       "    </tr>\n",
       "</table>"
      ],
      "text/plain": [
       "[(96, 96, 99)]"
      ]
     },
     "execution_count": 23,
     "metadata": {},
     "output_type": "execute_result"
    }
   ],
   "source": [
    "%%sql\n",
    "SELECT MAX(exam1), MAX(exam2), MAX(exam3)\n",
    "FROM gradebook;"
   ]
  },
  {
   "cell_type": "markdown",
   "metadata": {},
   "source": [
    "## GROUP  BY "
   ]
  },
  {
   "cell_type": "markdown",
   "metadata": {},
   "source": [
    "The `GROUP BY expression` clause of the `SELECT` statement adds more flexibility to the aggregate functions. It divides records into groups in such a way, that the specified `expression` has the same value for all records in a group. Aggregate functions can be then used to summarize columns in each group separately. \n",
    "\n",
    "As an example, below we group records based on the value of the `major` column. Then we calculate the average exam scores for each group: "
   ]
  },
  {
   "cell_type": "code",
   "execution_count": 28,
   "metadata": {},
   "outputs": [
    {
     "name": "stdout",
     "output_type": "stream",
     "text": [
      " * sqlite:///gradebook_data.sqlite\n",
      "Done.\n"
     ]
    },
    {
     "data": {
      "text/html": [
       "<table>\n",
       "    <tr>\n",
       "        <th>major</th>\n",
       "        <th>AVG(exam1)</th>\n",
       "        <th>AVG(exam2)</th>\n",
       "        <th>AVG(exam3)</th>\n",
       "    </tr>\n",
       "    <tr>\n",
       "        <td>biology</td>\n",
       "        <td>82.0</td>\n",
       "        <td>9.333333333333334</td>\n",
       "        <td>73.33333333333333</td>\n",
       "    </tr>\n",
       "    <tr>\n",
       "        <td>computer science</td>\n",
       "        <td>37.333333333333336</td>\n",
       "        <td>59.25</td>\n",
       "        <td>68.16666666666667</td>\n",
       "    </tr>\n",
       "    <tr>\n",
       "        <td>mathematics</td>\n",
       "        <td>51.666666666666664</td>\n",
       "        <td>48.666666666666664</td>\n",
       "        <td>66.66666666666667</td>\n",
       "    </tr>\n",
       "</table>"
      ],
      "text/plain": [
       "[('biology', 82.0, 9.333333333333334, 73.33333333333333),\n",
       " ('computer science', 37.333333333333336, 59.25, 68.16666666666667),\n",
       " ('mathematics', 51.666666666666664, 48.666666666666664, 66.66666666666667)]"
      ]
     },
     "execution_count": 28,
     "metadata": {},
     "output_type": "execute_result"
    }
   ],
   "source": [
    "%%sql\n",
    "SELECT major, AVG(exam1), AVG(exam2), AVG(exam3)\n",
    "FROM gradebook\n",
    "GROUP BY major;"
   ]
  },
  {
   "cell_type": "markdown",
   "metadata": {},
   "source": [
    "The table above is somewhat difficult to read, because it contains too many decimal digits. We can improve it using the `ROUND(value, num_digits)` function, which rounds numerical values to a given number of digits:"
   ]
  },
  {
   "cell_type": "code",
   "execution_count": 31,
   "metadata": {},
   "outputs": [
    {
     "name": "stdout",
     "output_type": "stream",
     "text": [
      " * sqlite:///gradebook_data.sqlite\n",
      "Done.\n"
     ]
    },
    {
     "data": {
      "text/html": [
       "<table>\n",
       "    <tr>\n",
       "        <th>major</th>\n",
       "        <th>exam1_avg</th>\n",
       "        <th>exam1_avg_1</th>\n",
       "        <th>exam3_avg</th>\n",
       "    </tr>\n",
       "    <tr>\n",
       "        <td>biology</td>\n",
       "        <td>82.0</td>\n",
       "        <td>9.33</td>\n",
       "        <td>73.33</td>\n",
       "    </tr>\n",
       "    <tr>\n",
       "        <td>computer science</td>\n",
       "        <td>37.33</td>\n",
       "        <td>59.25</td>\n",
       "        <td>68.17</td>\n",
       "    </tr>\n",
       "    <tr>\n",
       "        <td>mathematics</td>\n",
       "        <td>51.67</td>\n",
       "        <td>48.67</td>\n",
       "        <td>66.67</td>\n",
       "    </tr>\n",
       "</table>"
      ],
      "text/plain": [
       "[('biology', 82.0, 9.33, 73.33),\n",
       " ('computer science', 37.33, 59.25, 68.17),\n",
       " ('mathematics', 51.67, 48.67, 66.67)]"
      ]
     },
     "execution_count": 31,
     "metadata": {},
     "output_type": "execute_result"
    }
   ],
   "source": [
    "%%sql\n",
    "SELECT major, \n",
    "       ROUND(AVG(exam1), 2) AS exam1_avg, \n",
    "       ROUND(AVG(exam2), 2) AS exam1_avg,\n",
    "       ROUND(AVG(exam3), 2) AS exam3_avg\n",
    "FROM gradebook\n",
    "GROUP BY major;"
   ]
  },
  {
   "cell_type": "markdown",
   "metadata": {},
   "source": [
    "SQLite provides an additional aggregate function `GROUP_CONCAT(column, separator)`, which concatenates all non-NULL values in a column, separating them by the specified separator string. We can use it to list exam 1 scores obtained by students in each major: "
   ]
  },
  {
   "cell_type": "code",
   "execution_count": 32,
   "metadata": {},
   "outputs": [
    {
     "name": "stdout",
     "output_type": "stream",
     "text": [
      " * sqlite:///gradebook_data.sqlite\n",
      "Done.\n"
     ]
    },
    {
     "data": {
      "text/html": [
       "<table>\n",
       "    <tr>\n",
       "        <th>major</th>\n",
       "        <th>exam1_scores</th>\n",
       "    </tr>\n",
       "    <tr>\n",
       "        <td>biology</td>\n",
       "        <td>96, 71, 79</td>\n",
       "    </tr>\n",
       "    <tr>\n",
       "        <td>computer science</td>\n",
       "        <td>6, 79, 27</td>\n",
       "    </tr>\n",
       "    <tr>\n",
       "        <td>mathematics</td>\n",
       "        <td>56, 72, 27</td>\n",
       "    </tr>\n",
       "</table>"
      ],
      "text/plain": [
       "[('biology', '96, 71, 79'),\n",
       " ('computer science', '6, 79, 27'),\n",
       " ('mathematics', '56, 72, 27')]"
      ]
     },
     "execution_count": 32,
     "metadata": {},
     "output_type": "execute_result"
    }
   ],
   "source": [
    "%%sql\n",
    "SELECT major, GROUP_CONCAT(exam1, \", \") AS exam1_scores\n",
    "FROM gradebook\n",
    "GROUP BY major;"
   ]
  },
  {
   "cell_type": "markdown",
   "metadata": {},
   "source": [
    "`GROUP BY` can be used with an additional `HAVING` clause. In such a case, only groups that satisfy the condition given after `HAVING` will be returned. Below we use it to check which majors averaged more than 50 points on exam 1.  "
   ]
  },
  {
   "cell_type": "code",
   "execution_count": 38,
   "metadata": {},
   "outputs": [
    {
     "name": "stdout",
     "output_type": "stream",
     "text": [
      " * sqlite:///gradebook_data.sqlite\n",
      "Done.\n"
     ]
    },
    {
     "data": {
      "text/html": [
       "<table>\n",
       "    <tr>\n",
       "        <th>major</th>\n",
       "        <th>exam1_avg</th>\n",
       "    </tr>\n",
       "    <tr>\n",
       "        <td>biology</td>\n",
       "        <td>82.0</td>\n",
       "    </tr>\n",
       "    <tr>\n",
       "        <td>mathematics</td>\n",
       "        <td>51.67</td>\n",
       "    </tr>\n",
       "</table>"
      ],
      "text/plain": [
       "[('biology', 82.0), ('mathematics', 51.67)]"
      ]
     },
     "execution_count": 38,
     "metadata": {},
     "output_type": "execute_result"
    }
   ],
   "source": [
    "%%sql\n",
    "SELECT major, ROUND(AVG(exam1),2) AS exam1_avg\n",
    "FROM gradebook\n",
    "GROUP BY major\n",
    "HAVING exam1_avg > 50"
   ]
  }
 ],
 "metadata": {
  "celltoolbar": "Raw Cell Format",
  "kernelspec": {
   "display_name": "Python 3",
   "language": "python",
   "name": "python3"
  },
  "language_info": {
   "codemirror_mode": {
    "name": "ipython",
    "version": 3
   },
   "file_extension": ".py",
   "mimetype": "text/x-python",
   "name": "python",
   "nbconvert_exporter": "python",
   "pygments_lexer": "ipython3",
   "version": "3.7.6"
  }
 },
 "nbformat": 4,
 "nbformat_minor": 4
}
