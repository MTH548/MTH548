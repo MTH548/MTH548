{
 "cells": [
  {
   "cell_type": "markdown",
   "metadata": {},
   "source": [
    "# SQL with Python"
   ]
  },
  {
   "cell_type": "markdown",
   "metadata": {},
   "source": [
    "There are several tools available for interacting with relational databases from within a Python script. Below we show how to do this using [SQLAlchemy](https://www.sqlalchemy.org/) and pandas libraries. \n",
    "\n",
    "SQLAlchemy can be installed by running the following code in Jupyter Notebook:"
   ]
  },
  {
   "cell_type": "code",
   "execution_count": null,
   "metadata": {},
   "outputs": [],
   "source": [
    "%pip install sqlalchemy"
   ]
  },
  {
   "cell_type": "markdown",
   "metadata": {},
   "source": [
    "We will use SQLAlchemy to connect to an SQLite database `movie_data.sqlite`. In our example it is a new database which will be created by the code below. However, the same code would work to connect to an existing database: "
   ]
  },
  {
   "cell_type": "code",
   "execution_count": 1,
   "metadata": {},
   "outputs": [],
   "source": [
    "import sqlalchemy \n",
    "engine = sqlalchemy.create_engine(f'sqlite:///movie_data.sqlite')"
   ]
  },
  {
   "cell_type": "markdown",
   "metadata": {},
   "source": [
    "At the moment the database is empty. Instead of using SQL to create a table in it, we will use pandas. First, we define a pandas dataframe with table data: "
   ]
  },
  {
   "cell_type": "code",
   "execution_count": 2,
   "metadata": {},
   "outputs": [
    {
     "data": {
      "text/html": [
       "<div>\n",
       "<style scoped>\n",
       "    .dataframe tbody tr th:only-of-type {\n",
       "        vertical-align: middle;\n",
       "    }\n",
       "\n",
       "    .dataframe tbody tr th {\n",
       "        vertical-align: top;\n",
       "    }\n",
       "\n",
       "    .dataframe thead th {\n",
       "        text-align: right;\n",
       "    }\n",
       "</style>\n",
       "<table border=\"1\" class=\"dataframe\">\n",
       "  <thead>\n",
       "    <tr style=\"text-align: right;\">\n",
       "      <th></th>\n",
       "      <th>title</th>\n",
       "      <th>director</th>\n",
       "      <th>year</th>\n",
       "    </tr>\n",
       "  </thead>\n",
       "  <tbody>\n",
       "    <tr>\n",
       "      <th>0</th>\n",
       "      <td>Casablanca</td>\n",
       "      <td>M. Curtiz</td>\n",
       "      <td>1942</td>\n",
       "    </tr>\n",
       "    <tr>\n",
       "      <th>1</th>\n",
       "      <td>Forrest Gump</td>\n",
       "      <td>R. Zemeckis</td>\n",
       "      <td>1994</td>\n",
       "    </tr>\n",
       "    <tr>\n",
       "      <th>2</th>\n",
       "      <td>Goodfellas</td>\n",
       "      <td>M. Scorsese</td>\n",
       "      <td>1990</td>\n",
       "    </tr>\n",
       "    <tr>\n",
       "      <th>3</th>\n",
       "      <td>Chinatown</td>\n",
       "      <td>R. Polanski</td>\n",
       "      <td>1974</td>\n",
       "    </tr>\n",
       "    <tr>\n",
       "      <th>4</th>\n",
       "      <td>Jaws</td>\n",
       "      <td>S. Spielberg</td>\n",
       "      <td>1975</td>\n",
       "    </tr>\n",
       "    <tr>\n",
       "      <th>5</th>\n",
       "      <td>Wall-E</td>\n",
       "      <td>A. Stanton</td>\n",
       "      <td>2008</td>\n",
       "    </tr>\n",
       "  </tbody>\n",
       "</table>\n",
       "</div>"
      ],
      "text/plain": [
       "          title      director  year\n",
       "0    Casablanca     M. Curtiz  1942\n",
       "1  Forrest Gump   R. Zemeckis  1994\n",
       "2    Goodfellas   M. Scorsese  1990\n",
       "3     Chinatown   R. Polanski  1974\n",
       "4          Jaws  S. Spielberg  1975\n",
       "5        Wall-E    A. Stanton  2008"
      ]
     },
     "execution_count": 2,
     "metadata": {},
     "output_type": "execute_result"
    }
   ],
   "source": [
    "import pandas as pd \n",
    "\n",
    "df = pd.DataFrame({'title': ['Casablanca', 'Forrest Gump', 'Goodfellas', \n",
    "                              'Chinatown', 'Jaws', 'Wall-E'], \n",
    "                   'director': ['M. Curtiz', 'R. Zemeckis', 'M. Scorsese', \n",
    "                                 'R. Polanski', 'S. Spielberg', 'A. Stanton'],\n",
    "                   'year': [1942, 1994, 1990, 1974, 1975, 2008]})\n",
    "df"
   ]
  },
  {
   "cell_type": "markdown",
   "metadata": {},
   "source": [
    "Next, we use a dataframe method `to_sql` to  write the content of the dataframe to a database table:"
   ]
  },
  {
   "cell_type": "code",
   "execution_count": 3,
   "metadata": {},
   "outputs": [],
   "source": [
    "df.to_sql('movies',     # name of the table\n",
    "          con=engine,   # database connection\n",
    "          index=False,  # do not include the index of the dataframe in the table\n",
    "          dtype={       # type of data in each column \n",
    "                 'title': sqlalchemy.types.INT,  \n",
    "                 'director': sqlalchemy.types.TEXT, \n",
    "                 'year': sqlalchemy.types.INT})"
   ]
  },
  {
   "cell_type": "markdown",
   "metadata": {},
   "source": [
    "A table `movies` is now a part of the database. \n",
    "\n",
    "To execute SQL code in the database we can use pandas `read_sql_query` function. The return value of this function is a dataframe with results of the SQL code:"
   ]
  },
  {
   "cell_type": "code",
   "execution_count": 4,
   "metadata": {},
   "outputs": [
    {
     "data": {
      "text/html": [
       "<div>\n",
       "<style scoped>\n",
       "    .dataframe tbody tr th:only-of-type {\n",
       "        vertical-align: middle;\n",
       "    }\n",
       "\n",
       "    .dataframe tbody tr th {\n",
       "        vertical-align: top;\n",
       "    }\n",
       "\n",
       "    .dataframe thead th {\n",
       "        text-align: right;\n",
       "    }\n",
       "</style>\n",
       "<table border=\"1\" class=\"dataframe\">\n",
       "  <thead>\n",
       "    <tr style=\"text-align: right;\">\n",
       "      <th></th>\n",
       "      <th>title</th>\n",
       "      <th>director</th>\n",
       "      <th>year</th>\n",
       "    </tr>\n",
       "  </thead>\n",
       "  <tbody>\n",
       "    <tr>\n",
       "      <th>0</th>\n",
       "      <td>Wall-E</td>\n",
       "      <td>A. Stanton</td>\n",
       "      <td>2008</td>\n",
       "    </tr>\n",
       "    <tr>\n",
       "      <th>1</th>\n",
       "      <td>Forrest Gump</td>\n",
       "      <td>R. Zemeckis</td>\n",
       "      <td>1994</td>\n",
       "    </tr>\n",
       "    <tr>\n",
       "      <th>2</th>\n",
       "      <td>Goodfellas</td>\n",
       "      <td>M. Scorsese</td>\n",
       "      <td>1990</td>\n",
       "    </tr>\n",
       "  </tbody>\n",
       "</table>\n",
       "</div>"
      ],
      "text/plain": [
       "          title     director  year\n",
       "0        Wall-E   A. Stanton  2008\n",
       "1  Forrest Gump  R. Zemeckis  1994\n",
       "2    Goodfellas  M. Scorsese  1990"
      ]
     },
     "execution_count": 4,
     "metadata": {},
     "output_type": "execute_result"
    }
   ],
   "source": [
    "query = '''\n",
    "        SELECT * \n",
    "        FROM movies \n",
    "        WHERE year > 1980\n",
    "        ORDER BY year DESC\n",
    "        '''\n",
    "result = pd.read_sql_query(query,con=engine)\n",
    "result"
   ]
  }
 ],
 "metadata": {
  "kernelspec": {
   "display_name": "Python 3",
   "language": "python",
   "name": "python3"
  },
  "language_info": {
   "codemirror_mode": {
    "name": "ipython",
    "version": 3
   },
   "file_extension": ".py",
   "mimetype": "text/x-python",
   "name": "python",
   "nbconvert_exporter": "python",
   "pygments_lexer": "ipython3",
   "version": "3.7.6"
  }
 },
 "nbformat": 4,
 "nbformat_minor": 4
}
