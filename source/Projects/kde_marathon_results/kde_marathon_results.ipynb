{
 "cells": [
  {
   "cell_type": "markdown",
   "metadata": {},
   "source": [
    "# Project: KDE and marathon results"
   ]
  },
  {
   "cell_type": "markdown",
   "metadata": {},
   "source": [
    "<html>\n",
    "<h1 style=\"color:teal;\">Project weight: 10 points</h1>\n",
    "</html>"
   ]
  },
  {
   "cell_type": "markdown",
   "metadata": {},
   "source": [
    "Download the following csv file which contains race results of about 26,000 marathon runners:"
   ]
  },
  {
   "cell_type": "raw",
   "metadata": {
    "raw_mimetype": "text/restructuredtext"
   },
   "source": [
    "| :download:`marathon_results.csv <../../_static/kde_marathon_results/marathon_results.csv>`"
   ]
  },
  {
   "cell_type": "markdown",
   "metadata": {},
   "source": [
    "## Objectives\n",
    "\n",
    "Analyze the marathon data. In particular:\n",
    "\n",
    "1. Compute the 2-dimensional kernel density estimate (KDE) for male and female runners using finish time and age as the input data. \n",
    "2. Use the KDE computed in part 1 and the Bayes theorem to predict if a runner was a male or a female \n",
    "   based on their age and finish time. \n",
    "3. Compare accuracy of this prediction with the prediction obtained using the k-NN classifier. \n",
    "5. Add anything else that you find relevant and interesting."
   ]
  },
  {
   "cell_type": "markdown",
   "metadata": {},
   "source": [
    "**Note:** Tools for computing KDE are implemented by several Python libraries. You can use, for example, `scipy.stats.gaussian_kde`which is a part of the [scipy module](https://docs.scipy.org/doc/scipy/reference/generated/scipy.stats.gaussian_kde.html ). On the other hand you must not use ready-made Bayes classification tools implemented in `sklearn` and other machine learning packages. You can use `sklearn` to compute k-NN classification. "
   ]
  }
 ],
 "metadata": {
  "celltoolbar": "Raw Cell Format",
  "kernelspec": {
   "display_name": "Python 3",
   "language": "python",
   "name": "python3"
  },
  "language_info": {
   "codemirror_mode": {
    "name": "ipython",
    "version": 3
   },
   "file_extension": ".py",
   "mimetype": "text/x-python",
   "name": "python",
   "nbconvert_exporter": "python",
   "pygments_lexer": "ipython3",
   "version": "3.8.5"
  }
 },
 "nbformat": 4,
 "nbformat_minor": 4
}
