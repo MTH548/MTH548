{
 "cells": [
  {
   "cell_type": "markdown",
   "metadata": {},
   "source": [
    "# Project: Analysis of marathon results"
   ]
  },
  {
   "cell_type": "markdown",
   "metadata": {},
   "source": [
    "<html>\n",
    "<h1 style=\"color:teal;\">Project weight: 10 points</h1>\n",
    "</html>"
   ]
  },
  {
   "cell_type": "markdown",
   "metadata": {},
   "source": [
    "Download the following csv file which contains race results of about 26,000 marathon runners:"
   ]
  },
  {
   "cell_type": "raw",
   "metadata": {
    "raw_mimetype": "text/restructuredtext"
   },
   "source": [
    "| :download:`marathon_results.csv <../../_static/kde_marathon_results/marathon_results.csv>`"
   ]
  },
  {
   "cell_type": "markdown",
   "metadata": {},
   "source": [
    "## Objectives\n",
    "\n",
    "Analyze the marathon data. In particular:\n",
    "\n",
    "1. Compute 1-dimensional kernel density estimate (KDE) of male and female runners using finish times, and use it together with the Bayes theorem to compute the probability that a runner with a given time was a female. Use this to make predictions if a runner was a male/female based on their finish times and check accuracy of these predictions. \n",
    "\n",
    "2. Repeat part 1, but using 2-dimensional KDEs computed using finish times and ages of runners. \n",
    "\n",
    "3. Compare accuracy of predictions obtained in parts 1 and 2 to the predictions made using k-NN with the same input data.   \n",
    "\n",
    "4. Use linear regression to predict finish times of runners based on their 5K times. Evaluate accuracy of these predictions. Then use other data beside the 5K time (the age of a runner, whether the runner was a male or a female) together with the 5K times to predict finish times using linear regression, and check if this meaningfully improves the predictions. \n",
    "\n",
    "5. Add anything else that you find relevant and interesting."
   ]
  },
  {
   "cell_type": "markdown",
   "metadata": {},
   "source": [
    "**Note:** Tools for computing KDE are implemented by several Python libraries. You can use, for example, `scipy.stats.gaussian_kde`which is a part of the [scipy library](https://docs.scipy.org/doc/scipy/reference/generated/scipy.stats.gaussian_kde.html ). On the other hand, you must not use ready-made Bayes classification tools implemented in `sklearn` and other machine learning packages. You can use `sklearn` to compute k-NN classification. For linear regression you can use the implementation provided by `sklearn`."
   ]
  }
 ],
 "metadata": {
  "celltoolbar": "Raw Cell Format",
  "kernelspec": {
   "display_name": "Python 3 (ipykernel)",
   "language": "python",
   "name": "python3"
  },
  "language_info": {
   "codemirror_mode": {
    "name": "ipython",
    "version": 3
   },
   "file_extension": ".py",
   "mimetype": "text/x-python",
   "name": "python",
   "nbconvert_exporter": "python",
   "pygments_lexer": "ipython3",
   "version": "3.8.12"
  }
 },
 "nbformat": 4,
 "nbformat_minor": 4
}
