{
 "cells": [
  {
   "cell_type": "markdown",
   "id": "comic-mongolia",
   "metadata": {},
   "source": [
    "# Project: Music database"
   ]
  },
  {
   "cell_type": "markdown",
   "id": "grand-lexington",
   "metadata": {},
   "source": [
    "<html>\n",
    "<h1 style=\"color:teal;\">Extra credit</h1>\n",
    "</html>\n",
    "\n",
    "You are not required to complete this project. If you do, the grade from this project will replace the lowest grade from the other projects you completed in this course. "
   ]
  },
  {
   "cell_type": "code",
   "execution_count": 7,
   "id": "sticky-bangladesh",
   "metadata": {},
   "outputs": [],
   "source": [
    "import pandas as pd \n",
    "pd.set_option('precision', 2)\n",
    "\n",
    "def show_results(ex):\n",
    "    df = pd.read_csv(f\"{ex}.csv\")\n",
    "    display(df.style.hide_index())"
   ]
  },
  {
   "cell_type": "markdown",
   "id": "experienced-rogers",
   "metadata": {},
   "source": [
    "### Exercise 1\n",
    "\n",
    "Create a table with names of all tracks where the composer is Miles Davis. Tack namea should be in the alphabetical order."
   ]
  },
  {
   "cell_type": "code",
   "execution_count": 7,
   "id": "angry-example",
   "metadata": {},
   "outputs": [
    {
     "data": {
      "text/html": [
       "<style  type=\"text/css\" >\n",
       "</style><table id=\"T_941874b0_a096_11eb_9a66_acde48001122\" ><thead>    <tr>        <th class=\"col_heading level0 col0\" >Name</th>        <th class=\"col_heading level0 col1\" >Composer</th>    </tr></thead><tbody>\n",
       "                <tr>\n",
       "                                <td id=\"T_941874b0_a096_11eb_9a66_acde48001122row0_col0\" class=\"data row0 col0\" >'Round Midnight</td>\n",
       "                        <td id=\"T_941874b0_a096_11eb_9a66_acde48001122row0_col1\" class=\"data row0 col1\" >Miles Davis</td>\n",
       "            </tr>\n",
       "            <tr>\n",
       "                                <td id=\"T_941874b0_a096_11eb_9a66_acde48001122row1_col0\" class=\"data row1 col0\" >Black Satin</td>\n",
       "                        <td id=\"T_941874b0_a096_11eb_9a66_acde48001122row1_col1\" class=\"data row1 col1\" >Miles Davis</td>\n",
       "            </tr>\n",
       "            <tr>\n",
       "                                <td id=\"T_941874b0_a096_11eb_9a66_acde48001122row2_col0\" class=\"data row2 col0\" >Bye Bye Blackbird</td>\n",
       "                        <td id=\"T_941874b0_a096_11eb_9a66_acde48001122row2_col1\" class=\"data row2 col1\" >Miles Davis</td>\n",
       "            </tr>\n",
       "            <tr>\n",
       "                                <td id=\"T_941874b0_a096_11eb_9a66_acde48001122row3_col0\" class=\"data row3 col0\" >Compulsion</td>\n",
       "                        <td id=\"T_941874b0_a096_11eb_9a66_acde48001122row3_col1\" class=\"data row3 col1\" >Miles Davis</td>\n",
       "            </tr>\n",
       "            <tr>\n",
       "                                <td id=\"T_941874b0_a096_11eb_9a66_acde48001122row4_col0\" class=\"data row4 col0\" >E.S.P.</td>\n",
       "                        <td id=\"T_941874b0_a096_11eb_9a66_acde48001122row4_col1\" class=\"data row4 col1\" >Miles Davis</td>\n",
       "            </tr>\n",
       "    </tbody></table>"
      ],
      "text/plain": [
       "<pandas.io.formats.style.Styler at 0x7fde7c2a8340>"
      ]
     },
     "metadata": {},
     "output_type": "display_data"
    }
   ],
   "source": [
    "show_results(\"ex1\")"
   ]
  },
  {
   "cell_type": "markdown",
   "id": "limiting-region",
   "metadata": {},
   "source": [
    "### Exercise 2\n",
    "\n",
    "Create a table which lists names and composers for all tracks where the name of the composer includes  \"Clapton\". Order the table in the alphabetical order of track names."
   ]
  },
  {
   "cell_type": "code",
   "execution_count": 8,
   "id": "traditional-coupon",
   "metadata": {},
   "outputs": [
    {
     "data": {
      "text/html": [
       "<style  type=\"text/css\" >\n",
       "</style><table id=\"T_c5e27e50_a096_11eb_9a66_acde48001122\" ><thead>    <tr>        <th class=\"col_heading level0 col0\" >Name</th>        <th class=\"col_heading level0 col1\" >Composer</th>    </tr></thead><tbody>\n",
       "                <tr>\n",
       "                                <td id=\"T_c5e27e50_a096_11eb_9a66_acde48001122row0_col0\" class=\"data row0 col0\" >After Midnight</td>\n",
       "                        <td id=\"T_c5e27e50_a096_11eb_9a66_acde48001122row0_col1\" class=\"data row0 col1\" >Clapton/J. J. Cale</td>\n",
       "            </tr>\n",
       "            <tr>\n",
       "                                <td id=\"T_c5e27e50_a096_11eb_9a66_acde48001122row1_col0\" class=\"data row1 col0\" >Badge</td>\n",
       "                        <td id=\"T_c5e27e50_a096_11eb_9a66_acde48001122row1_col1\" class=\"data row1 col1\" >Clapton/Harrison</td>\n",
       "            </tr>\n",
       "            <tr>\n",
       "                                <td id=\"T_c5e27e50_a096_11eb_9a66_acde48001122row2_col0\" class=\"data row2 col0\" >Bell Bottom Blues</td>\n",
       "                        <td id=\"T_c5e27e50_a096_11eb_9a66_acde48001122row2_col1\" class=\"data row2 col1\" >Clapton</td>\n",
       "            </tr>\n",
       "            <tr>\n",
       "                                <td id=\"T_c5e27e50_a096_11eb_9a66_acde48001122row3_col0\" class=\"data row3 col0\" >Cocaine</td>\n",
       "                        <td id=\"T_c5e27e50_a096_11eb_9a66_acde48001122row3_col1\" class=\"data row3 col1\" >Cale/Clapton</td>\n",
       "            </tr>\n",
       "            <tr>\n",
       "                                <td id=\"T_c5e27e50_a096_11eb_9a66_acde48001122row4_col0\" class=\"data row4 col0\" >Crossroads</td>\n",
       "                        <td id=\"T_c5e27e50_a096_11eb_9a66_acde48001122row4_col1\" class=\"data row4 col1\" >Clapton/Robert Johnson Arr: Eric Clapton</td>\n",
       "            </tr>\n",
       "    </tbody></table>"
      ],
      "text/plain": [
       "<pandas.io.formats.style.Styler at 0x7fde7c2a84c0>"
      ]
     },
     "metadata": {},
     "output_type": "display_data"
    }
   ],
   "source": [
    "show_results(\"ex2\")"
   ]
  },
  {
   "cell_type": "markdown",
   "id": "given-exploration",
   "metadata": {},
   "source": [
    "### Exercise 3\n",
    "\n",
    "Create a table with album title, album artist, and the number of tracks in the album. \n",
    "Display 10 rows of this table with most tracks, ordered in the descending order of the number of tracks. "
   ]
  },
  {
   "cell_type": "code",
   "execution_count": 9,
   "id": "empirical-happiness",
   "metadata": {},
   "outputs": [
    {
     "data": {
      "text/html": [
       "<style  type=\"text/css\" >\n",
       "</style><table id=\"T_09f42274_a097_11eb_9a66_acde48001122\" ><thead>    <tr>        <th class=\"col_heading level0 col0\" >Title</th>        <th class=\"col_heading level0 col1\" >Artist</th>        <th class=\"col_heading level0 col2\" >NumTracks</th>    </tr></thead><tbody>\n",
       "                <tr>\n",
       "                                <td id=\"T_09f42274_a097_11eb_9a66_acde48001122row0_col0\" class=\"data row0 col0\" >Greatest Hits</td>\n",
       "                        <td id=\"T_09f42274_a097_11eb_9a66_acde48001122row0_col1\" class=\"data row0 col1\" >Lenny Kravitz</td>\n",
       "                        <td id=\"T_09f42274_a097_11eb_9a66_acde48001122row0_col2\" class=\"data row0 col2\" >57</td>\n",
       "            </tr>\n",
       "            <tr>\n",
       "                                <td id=\"T_09f42274_a097_11eb_9a66_acde48001122row1_col0\" class=\"data row1 col0\" >Minha Historia</td>\n",
       "                        <td id=\"T_09f42274_a097_11eb_9a66_acde48001122row1_col1\" class=\"data row1 col1\" >Chico Buarque</td>\n",
       "                        <td id=\"T_09f42274_a097_11eb_9a66_acde48001122row1_col2\" class=\"data row1 col2\" >34</td>\n",
       "            </tr>\n",
       "            <tr>\n",
       "                                <td id=\"T_09f42274_a097_11eb_9a66_acde48001122row2_col0\" class=\"data row2 col0\" >Unplugged</td>\n",
       "                        <td id=\"T_09f42274_a097_11eb_9a66_acde48001122row2_col1\" class=\"data row2 col1\" >Eric Clapton</td>\n",
       "                        <td id=\"T_09f42274_a097_11eb_9a66_acde48001122row2_col2\" class=\"data row2 col2\" >30</td>\n",
       "            </tr>\n",
       "            <tr>\n",
       "                                <td id=\"T_09f42274_a097_11eb_9a66_acde48001122row3_col0\" class=\"data row3 col0\" >Lost, Season 3</td>\n",
       "                        <td id=\"T_09f42274_a097_11eb_9a66_acde48001122row3_col1\" class=\"data row3 col1\" >Lost</td>\n",
       "                        <td id=\"T_09f42274_a097_11eb_9a66_acde48001122row3_col2\" class=\"data row3 col2\" >26</td>\n",
       "            </tr>\n",
       "            <tr>\n",
       "                                <td id=\"T_09f42274_a097_11eb_9a66_acde48001122row4_col0\" class=\"data row4 col0\" >Lost, Season 1</td>\n",
       "                        <td id=\"T_09f42274_a097_11eb_9a66_acde48001122row4_col1\" class=\"data row4 col1\" >Lost</td>\n",
       "                        <td id=\"T_09f42274_a097_11eb_9a66_acde48001122row4_col2\" class=\"data row4 col2\" >25</td>\n",
       "            </tr>\n",
       "    </tbody></table>"
      ],
      "text/plain": [
       "<pandas.io.formats.style.Styler at 0x7fde7c2a8c10>"
      ]
     },
     "metadata": {},
     "output_type": "display_data"
    }
   ],
   "source": [
    "show_results(\"ex3\")"
   ]
  },
  {
   "cell_type": "markdown",
   "id": "sudden-building",
   "metadata": {},
   "source": [
    "### Exercise 4\n",
    "Create a table listing album title, name of the artist and the total length of the album in minutes for each album whose total length is more than 90 minutes. Order the table according to album lengths in the descending order. "
   ]
  },
  {
   "cell_type": "code",
   "execution_count": 10,
   "id": "unauthorized-match",
   "metadata": {},
   "outputs": [
    {
     "data": {
      "text/html": [
       "<style  type=\"text/css\" >\n",
       "</style><table id=\"T_46cc7624_a097_11eb_9a66_acde48001122\" ><thead>    <tr>        <th class=\"col_heading level0 col0\" >Title</th>        <th class=\"col_heading level0 col1\" >Artist</th>        <th class=\"col_heading level0 col2\" >Minutes</th>    </tr></thead><tbody>\n",
       "                <tr>\n",
       "                                <td id=\"T_46cc7624_a097_11eb_9a66_acde48001122row0_col0\" class=\"data row0 col0\" >Lost, Season 3</td>\n",
       "                        <td id=\"T_46cc7624_a097_11eb_9a66_acde48001122row0_col1\" class=\"data row0 col1\" >Lost</td>\n",
       "                        <td id=\"T_46cc7624_a097_11eb_9a66_acde48001122row0_col2\" class=\"data row0 col2\" >1177</td>\n",
       "            </tr>\n",
       "            <tr>\n",
       "                                <td id=\"T_46cc7624_a097_11eb_9a66_acde48001122row1_col0\" class=\"data row1 col0\" >Battlestar Galactica (Classic), Season 1</td>\n",
       "                        <td id=\"T_46cc7624_a097_11eb_9a66_acde48001122row1_col1\" class=\"data row1 col1\" >Battlestar Galactica (Classic)</td>\n",
       "                        <td id=\"T_46cc7624_a097_11eb_9a66_acde48001122row1_col2\" class=\"data row1 col2\" >1170</td>\n",
       "            </tr>\n",
       "            <tr>\n",
       "                                <td id=\"T_46cc7624_a097_11eb_9a66_acde48001122row2_col0\" class=\"data row2 col0\" >Lost, Season 1</td>\n",
       "                        <td id=\"T_46cc7624_a097_11eb_9a66_acde48001122row2_col1\" class=\"data row2 col1\" >Lost</td>\n",
       "                        <td id=\"T_46cc7624_a097_11eb_9a66_acde48001122row2_col2\" class=\"data row2 col2\" >1080</td>\n",
       "            </tr>\n",
       "            <tr>\n",
       "                                <td id=\"T_46cc7624_a097_11eb_9a66_acde48001122row3_col0\" class=\"data row3 col0\" >Lost, Season 2</td>\n",
       "                        <td id=\"T_46cc7624_a097_11eb_9a66_acde48001122row3_col1\" class=\"data row3 col1\" >Lost</td>\n",
       "                        <td id=\"T_46cc7624_a097_11eb_9a66_acde48001122row3_col2\" class=\"data row3 col2\" >1054</td>\n",
       "            </tr>\n",
       "            <tr>\n",
       "                                <td id=\"T_46cc7624_a097_11eb_9a66_acde48001122row4_col0\" class=\"data row4 col0\" >Heroes, Season 1</td>\n",
       "                        <td id=\"T_46cc7624_a097_11eb_9a66_acde48001122row4_col1\" class=\"data row4 col1\" >Heroes</td>\n",
       "                        <td id=\"T_46cc7624_a097_11eb_9a66_acde48001122row4_col2\" class=\"data row4 col2\" >996</td>\n",
       "            </tr>\n",
       "    </tbody></table>"
      ],
      "text/plain": [
       "<pandas.io.formats.style.Styler at 0x7fde7c2a8c40>"
      ]
     },
     "metadata": {},
     "output_type": "display_data"
    }
   ],
   "source": [
    "show_results(\"ex4\")"
   ]
  },
  {
   "cell_type": "markdown",
   "id": "annual-teddy",
   "metadata": {},
   "source": [
    "### Exercise  5\n",
    "\n",
    "Create a table listing AlbumId and title of each albums which has at least one track in the \"Jazz\" genre. Order the album titles alphabetically. "
   ]
  },
  {
   "cell_type": "code",
   "execution_count": 11,
   "id": "altered-image",
   "metadata": {},
   "outputs": [
    {
     "data": {
      "text/html": [
       "<style  type=\"text/css\" >\n",
       "</style><table id=\"T_d5b07048_a097_11eb_9a66_acde48001122\" ><thead>    <tr>        <th class=\"col_heading level0 col0\" >AlbumId</th>        <th class=\"col_heading level0 col1\" >AlbumTitle</th>    </tr></thead><tbody>\n",
       "                <tr>\n",
       "                                <td id=\"T_d5b07048_a097_11eb_9a66_acde48001122row0_col0\" class=\"data row0 col0\" >93</td>\n",
       "                        <td id=\"T_d5b07048_a097_11eb_9a66_acde48001122row0_col1\" class=\"data row0 col1\" >Blue Moods</td>\n",
       "            </tr>\n",
       "            <tr>\n",
       "                                <td id=\"T_d5b07048_a097_11eb_9a66_acde48001122row1_col0\" class=\"data row1 col0\" >38</td>\n",
       "                        <td id=\"T_d5b07048_a097_11eb_9a66_acde48001122row1_col1\" class=\"data row1 col1\" >Heart of the Night</td>\n",
       "            </tr>\n",
       "            <tr>\n",
       "                                <td id=\"T_d5b07048_a097_11eb_9a66_acde48001122row2_col0\" class=\"data row2 col0\" >157</td>\n",
       "                        <td id=\"T_d5b07048_a097_11eb_9a66_acde48001122row2_col1\" class=\"data row2 col1\" >Miles Ahead</td>\n",
       "            </tr>\n",
       "            <tr>\n",
       "                                <td id=\"T_d5b07048_a097_11eb_9a66_acde48001122row3_col0\" class=\"data row3 col0\" >204</td>\n",
       "                        <td id=\"T_d5b07048_a097_11eb_9a66_acde48001122row3_col1\" class=\"data row3 col1\" >Morning Dance</td>\n",
       "            </tr>\n",
       "            <tr>\n",
       "                                <td id=\"T_d5b07048_a097_11eb_9a66_acde48001122row4_col0\" class=\"data row4 col0\" >68</td>\n",
       "                        <td id=\"T_d5b07048_a097_11eb_9a66_acde48001122row4_col1\" class=\"data row4 col1\" >Outbreak</td>\n",
       "            </tr>\n",
       "    </tbody></table>"
      ],
      "text/plain": [
       "<pandas.io.formats.style.Styler at 0x7fde79296220>"
      ]
     },
     "metadata": {},
     "output_type": "display_data"
    }
   ],
   "source": [
    "show_results(\"ex5\")"
   ]
  },
  {
   "cell_type": "markdown",
   "id": "dense-prerequisite",
   "metadata": {},
   "source": [
    "### Exercise 6\n",
    "\n",
    "Create a table which lists AlbumId, album title and price of 10 most expensive albums. The price of an album is the sum of prices of all its tracks. Order the list from the highest album price to the lowest."
   ]
  },
  {
   "cell_type": "code",
   "execution_count": 8,
   "id": "antique-custom",
   "metadata": {},
   "outputs": [
    {
     "data": {
      "text/html": [
       "<style  type=\"text/css\" >\n",
       "</style><table id=\"T_d331f750_a098_11eb_8e01_acde48001122\" ><thead>    <tr>        <th class=\"col_heading level0 col0\" >AlbumId</th>        <th class=\"col_heading level0 col1\" >AlbumTitle</th>        <th class=\"col_heading level0 col2\" >Price</th>    </tr></thead><tbody>\n",
       "                <tr>\n",
       "                                <td id=\"T_d331f750_a098_11eb_8e01_acde48001122row0_col0\" class=\"data row0 col0\" >141</td>\n",
       "                        <td id=\"T_d331f750_a098_11eb_8e01_acde48001122row0_col1\" class=\"data row0 col1\" >Greatest Hits</td>\n",
       "                        <td id=\"T_d331f750_a098_11eb_8e01_acde48001122row0_col2\" class=\"data row0 col2\" >56.43</td>\n",
       "            </tr>\n",
       "            <tr>\n",
       "                                <td id=\"T_d331f750_a098_11eb_8e01_acde48001122row1_col0\" class=\"data row1 col0\" >229</td>\n",
       "                        <td id=\"T_d331f750_a098_11eb_8e01_acde48001122row1_col1\" class=\"data row1 col1\" >Lost, Season 3</td>\n",
       "                        <td id=\"T_d331f750_a098_11eb_8e01_acde48001122row1_col2\" class=\"data row1 col2\" >51.74</td>\n",
       "            </tr>\n",
       "            <tr>\n",
       "                                <td id=\"T_d331f750_a098_11eb_8e01_acde48001122row2_col0\" class=\"data row2 col0\" >251</td>\n",
       "                        <td id=\"T_d331f750_a098_11eb_8e01_acde48001122row2_col1\" class=\"data row2 col1\" >The Office, Season 3</td>\n",
       "                        <td id=\"T_d331f750_a098_11eb_8e01_acde48001122row2_col2\" class=\"data row2 col2\" >49.75</td>\n",
       "            </tr>\n",
       "            <tr>\n",
       "                                <td id=\"T_d331f750_a098_11eb_8e01_acde48001122row3_col0\" class=\"data row3 col0\" >230</td>\n",
       "                        <td id=\"T_d331f750_a098_11eb_8e01_acde48001122row3_col1\" class=\"data row3 col1\" >Lost, Season 1</td>\n",
       "                        <td id=\"T_d331f750_a098_11eb_8e01_acde48001122row3_col2\" class=\"data row3 col2\" >49.75</td>\n",
       "            </tr>\n",
       "            <tr>\n",
       "                                <td id=\"T_d331f750_a098_11eb_8e01_acde48001122row4_col0\" class=\"data row4 col0\" >253</td>\n",
       "                        <td id=\"T_d331f750_a098_11eb_8e01_acde48001122row4_col1\" class=\"data row4 col1\" >Battlestar Galactica (Classic), Season 1</td>\n",
       "                        <td id=\"T_d331f750_a098_11eb_8e01_acde48001122row4_col2\" class=\"data row4 col2\" >47.76</td>\n",
       "            </tr>\n",
       "    </tbody></table>"
      ],
      "text/plain": [
       "<pandas.io.formats.style.Styler at 0x7ff9c5987c40>"
      ]
     },
     "metadata": {},
     "output_type": "display_data"
    }
   ],
   "source": [
    "show_results(\"ex6\")"
   ]
  },
  {
   "cell_type": "markdown",
   "id": "royal-cleanup",
   "metadata": {},
   "source": [
    "### Exercise 7\n",
    "\n",
    "Create a table that lists AlbumId and title of each album which consist of exactly 10 tracks. "
   ]
  },
  {
   "cell_type": "code",
   "execution_count": 9,
   "id": "experienced-consistency",
   "metadata": {},
   "outputs": [
    {
     "data": {
      "text/html": [
       "<style  type=\"text/css\" >\n",
       "</style><table id=\"T_627c2b42_a099_11eb_8e01_acde48001122\" ><thead>    <tr>        <th class=\"col_heading level0 col0\" >AlbumId</th>        <th class=\"col_heading level0 col1\" >AlbumTitle</th>    </tr></thead><tbody>\n",
       "                <tr>\n",
       "                                <td id=\"T_627c2b42_a099_11eb_8e01_acde48001122row0_col0\" class=\"data row0 col0\" >127</td>\n",
       "                        <td id=\"T_627c2b42_a099_11eb_8e01_acde48001122row0_col1\" class=\"data row0 col1\" >BBC Sessions [Disc 2] [Live]</td>\n",
       "            </tr>\n",
       "            <tr>\n",
       "                                <td id=\"T_627c2b42_a099_11eb_8e01_acde48001122row1_col0\" class=\"data row1 col0\" >17</td>\n",
       "                        <td id=\"T_627c2b42_a099_11eb_8e01_acde48001122row1_col1\" class=\"data row1 col1\" >Black Sabbath Vol. 4 (Remaster)</td>\n",
       "            </tr>\n",
       "            <tr>\n",
       "                                <td id=\"T_627c2b42_a099_11eb_8e01_acde48001122row2_col0\" class=\"data row2 col0\" >97</td>\n",
       "                        <td id=\"T_627c2b42_a099_11eb_8e01_acde48001122row2_col1\" class=\"data row2 col1\" >Brave New World</td>\n",
       "            </tr>\n",
       "            <tr>\n",
       "                                <td id=\"T_627c2b42_a099_11eb_8e01_acde48001122row3_col0\" class=\"data row3 col0\" >191</td>\n",
       "                        <td id=\"T_627c2b42_a099_11eb_8e01_acde48001122row3_col1\" class=\"data row3 col1\" >Cesta Básica</td>\n",
       "            </tr>\n",
       "            <tr>\n",
       "                                <td id=\"T_627c2b42_a099_11eb_8e01_acde48001122row4_col0\" class=\"data row4 col0\" >116</td>\n",
       "                        <td id=\"T_627c2b42_a099_11eb_8e01_acde48001122row4_col1\" class=\"data row4 col1\" >Emergency On Planet Earth</td>\n",
       "            </tr>\n",
       "    </tbody></table>"
      ],
      "text/plain": [
       "<pandas.io.formats.style.Styler at 0x7ff9c59871f0>"
      ]
     },
     "metadata": {},
     "output_type": "display_data"
    }
   ],
   "source": [
    "show_results(\"ex7\")"
   ]
  },
  {
   "cell_type": "markdown",
   "id": "geographic-reliance",
   "metadata": {},
   "source": [
    "### Exercise 8\n",
    "\n",
    "Create a table with two columns: one, called NumTracks listing the number of tracks in an album, and the second called NumAlbums which shows how many albums have such number of tracks. Order the table in the ascending order of NumTracks. "
   ]
  },
  {
   "cell_type": "code",
   "execution_count": 12,
   "id": "composed-cursor",
   "metadata": {},
   "outputs": [
    {
     "data": {
      "text/html": [
       "<style  type=\"text/css\" >\n",
       "</style><table id=\"T_ba971e34_a104_11eb_8e01_acde48001122\" ><thead>    <tr>        <th class=\"col_heading level0 col0\" >NumTracks</th>        <th class=\"col_heading level0 col1\" >NumAlbums</th>    </tr></thead><tbody>\n",
       "                <tr>\n",
       "                                <td id=\"T_ba971e34_a104_11eb_8e01_acde48001122row0_col0\" class=\"data row0 col0\" >1</td>\n",
       "                        <td id=\"T_ba971e34_a104_11eb_8e01_acde48001122row0_col1\" class=\"data row0 col1\" >82</td>\n",
       "            </tr>\n",
       "            <tr>\n",
       "                                <td id=\"T_ba971e34_a104_11eb_8e01_acde48001122row1_col0\" class=\"data row1 col0\" >2</td>\n",
       "                        <td id=\"T_ba971e34_a104_11eb_8e01_acde48001122row1_col1\" class=\"data row1 col1\" >8</td>\n",
       "            </tr>\n",
       "            <tr>\n",
       "                                <td id=\"T_ba971e34_a104_11eb_8e01_acde48001122row2_col0\" class=\"data row2 col0\" >3</td>\n",
       "                        <td id=\"T_ba971e34_a104_11eb_8e01_acde48001122row2_col1\" class=\"data row2 col1\" >3</td>\n",
       "            </tr>\n",
       "            <tr>\n",
       "                                <td id=\"T_ba971e34_a104_11eb_8e01_acde48001122row3_col0\" class=\"data row3 col0\" >4</td>\n",
       "                        <td id=\"T_ba971e34_a104_11eb_8e01_acde48001122row3_col1\" class=\"data row3 col1\" >2</td>\n",
       "            </tr>\n",
       "            <tr>\n",
       "                                <td id=\"T_ba971e34_a104_11eb_8e01_acde48001122row4_col0\" class=\"data row4 col0\" >5</td>\n",
       "                        <td id=\"T_ba971e34_a104_11eb_8e01_acde48001122row4_col1\" class=\"data row4 col1\" >2</td>\n",
       "            </tr>\n",
       "    </tbody></table>"
      ],
      "text/plain": [
       "<pandas.io.formats.style.Styler at 0x7ff9c892b370>"
      ]
     },
     "metadata": {},
     "output_type": "display_data"
    }
   ],
   "source": [
    "show_results(\"ex8\")"
   ]
  },
  {
   "cell_type": "markdown",
   "id": "dangerous-withdrawal",
   "metadata": {},
   "source": [
    "### Exercise 9\n",
    "\n",
    "Create a table which has one row for each album, listing the longest track of the album. The columns should list \n",
    "AlbumId, album title, TrackId, track title, and track time in milliseconds. Order the table according to times in the descending order and display the first 10 rows."
   ]
  },
  {
   "cell_type": "code",
   "execution_count": 11,
   "id": "latin-remains",
   "metadata": {},
   "outputs": [
    {
     "data": {
      "text/html": [
       "<style  type=\"text/css\" >\n",
       "</style><table id=\"T_fc86a456_a099_11eb_8e01_acde48001122\" ><thead>    <tr>        <th class=\"col_heading level0 col0\" >AlbumId</th>        <th class=\"col_heading level0 col1\" >AlbumTitle</th>        <th class=\"col_heading level0 col2\" >TrackId</th>        <th class=\"col_heading level0 col3\" >TrackName</th>        <th class=\"col_heading level0 col4\" >Milliseconds</th>    </tr></thead><tbody>\n",
       "                <tr>\n",
       "                                <td id=\"T_fc86a456_a099_11eb_8e01_acde48001122row0_col0\" class=\"data row0 col0\" >227</td>\n",
       "                        <td id=\"T_fc86a456_a099_11eb_8e01_acde48001122row0_col1\" class=\"data row0 col1\" >Battlestar Galactica, Season 3</td>\n",
       "                        <td id=\"T_fc86a456_a099_11eb_8e01_acde48001122row0_col2\" class=\"data row0 col2\" >2820</td>\n",
       "                        <td id=\"T_fc86a456_a099_11eb_8e01_acde48001122row0_col3\" class=\"data row0 col3\" >Occupation / Precipice</td>\n",
       "                        <td id=\"T_fc86a456_a099_11eb_8e01_acde48001122row0_col4\" class=\"data row0 col4\" >5286953</td>\n",
       "            </tr>\n",
       "            <tr>\n",
       "                                <td id=\"T_fc86a456_a099_11eb_8e01_acde48001122row1_col0\" class=\"data row1 col0\" >229</td>\n",
       "                        <td id=\"T_fc86a456_a099_11eb_8e01_acde48001122row1_col1\" class=\"data row1 col1\" >Lost, Season 3</td>\n",
       "                        <td id=\"T_fc86a456_a099_11eb_8e01_acde48001122row1_col2\" class=\"data row1 col2\" >3224</td>\n",
       "                        <td id=\"T_fc86a456_a099_11eb_8e01_acde48001122row1_col3\" class=\"data row1 col3\" >Through a Looking Glass</td>\n",
       "                        <td id=\"T_fc86a456_a099_11eb_8e01_acde48001122row1_col4\" class=\"data row1 col4\" >5088838</td>\n",
       "            </tr>\n",
       "            <tr>\n",
       "                                <td id=\"T_fc86a456_a099_11eb_8e01_acde48001122row2_col0\" class=\"data row2 col0\" >253</td>\n",
       "                        <td id=\"T_fc86a456_a099_11eb_8e01_acde48001122row2_col1\" class=\"data row2 col1\" >Battlestar Galactica (Classic), Season 1</td>\n",
       "                        <td id=\"T_fc86a456_a099_11eb_8e01_acde48001122row2_col2\" class=\"data row2 col2\" >3244</td>\n",
       "                        <td id=\"T_fc86a456_a099_11eb_8e01_acde48001122row2_col3\" class=\"data row2 col3\" >Greetings from Earth, Pt. 1</td>\n",
       "                        <td id=\"T_fc86a456_a099_11eb_8e01_acde48001122row2_col4\" class=\"data row2 col4\" >2960293</td>\n",
       "            </tr>\n",
       "            <tr>\n",
       "                                <td id=\"T_fc86a456_a099_11eb_8e01_acde48001122row3_col0\" class=\"data row3 col0\" >231</td>\n",
       "                        <td id=\"T_fc86a456_a099_11eb_8e01_acde48001122row3_col1\" class=\"data row3 col1\" >Lost, Season 2</td>\n",
       "                        <td id=\"T_fc86a456_a099_11eb_8e01_acde48001122row3_col2\" class=\"data row3 col2\" >2910</td>\n",
       "                        <td id=\"T_fc86a456_a099_11eb_8e01_acde48001122row3_col3\" class=\"data row3 col3\" >Dave</td>\n",
       "                        <td id=\"T_fc86a456_a099_11eb_8e01_acde48001122row3_col4\" class=\"data row3 col4\" >2825166</td>\n",
       "            </tr>\n",
       "            <tr>\n",
       "                                <td id=\"T_fc86a456_a099_11eb_8e01_acde48001122row4_col0\" class=\"data row4 col0\" >228</td>\n",
       "                        <td id=\"T_fc86a456_a099_11eb_8e01_acde48001122row4_col1\" class=\"data row4 col1\" >Heroes, Season 1</td>\n",
       "                        <td id=\"T_fc86a456_a099_11eb_8e01_acde48001122row4_col2\" class=\"data row4 col2\" >3223</td>\n",
       "                        <td id=\"T_fc86a456_a099_11eb_8e01_acde48001122row4_col3\" class=\"data row4 col3\" >How to Stop an Exploding Man</td>\n",
       "                        <td id=\"T_fc86a456_a099_11eb_8e01_acde48001122row4_col4\" class=\"data row4 col4\" >2687103</td>\n",
       "            </tr>\n",
       "    </tbody></table>"
      ],
      "text/plain": [
       "<pandas.io.formats.style.Styler at 0x7ff9c892ba30>"
      ]
     },
     "metadata": {},
     "output_type": "display_data"
    }
   ],
   "source": [
    "show_results(\"ex9\")"
   ]
  }
 ],
 "metadata": {
  "kernelspec": {
   "display_name": "Python 3",
   "language": "python",
   "name": "python3"
  },
  "language_info": {
   "codemirror_mode": {
    "name": "ipython",
    "version": 3
   },
   "file_extension": ".py",
   "mimetype": "text/x-python",
   "name": "python",
   "nbconvert_exporter": "python",
   "pygments_lexer": "ipython3",
   "version": "3.8.5"
  }
 },
 "nbformat": 4,
 "nbformat_minor": 5
}
