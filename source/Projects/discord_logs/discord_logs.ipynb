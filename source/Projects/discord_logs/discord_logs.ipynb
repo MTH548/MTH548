{
 "cells": [
  {
   "cell_type": "markdown",
   "id": "effective-battery",
   "metadata": {},
   "source": [
    "# Discord logs"
   ]
  },
  {
   "cell_type": "markdown",
   "id": "prime-secretariat",
   "metadata": {},
   "source": [
    "<html>\n",
    "<h1 style=\"color:teal;\">Project weight: 5 points</h1>\n",
    "</html>"
   ]
  },
  {
   "cell_type": "raw",
   "id": "subjective-imperial",
   "metadata": {
    "raw_mimetype": "text/restructuredtext"
   },
   "source": [
    "The JSON file :download:`discord_logs.json <discord_logs.json>` contains a log of activities on the MTH 448/548 Discord server."
   ]
  },
  {
   "cell_type": "markdown",
   "id": "square-twins",
   "metadata": {},
   "source": [
    "Here is a fragment of this file. The highlighted lines contain information that the user Sean joined the voice channel 'General Voice' on March 4, 2021 at 21:45:38 GMT:"
   ]
  },
  {
   "cell_type": "raw",
   "id": "assigned-radiation",
   "metadata": {
    "raw_mimetype": "text/html"
   },
   "source": [
    "<pre style=\"font-size:13px\">\n",
    "{'id': '817150823247118356',\n",
    "   'type': 'Default',\n",
    "   'timestamp': '2021-03-04T21:45:38.19+00:00',\n",
    "   'timestampEdited': None,\n",
    "   'isPinned': False,\n",
    "   'content': '',\n",
    "   'author': {'id': '803346258977882163',\n",
    "    'name': 'ProBot ✨',\n",
    "    'discriminator': '0000',\n",
    "    'isBot': True,\n",
    "    'avatarUrl': 'https://cdn.discordapp.com/embed/avatars/1.png'},\n",
    "   'attachments': [],\n",
    "   'embeds': [{'title': '',\n",
    "     'url': None,\n",
    "     <span style=\"background-color:Gold\">'timestamp': '2021-03-04T21:45:38.052+00:00',</span>\n",
    "     <span style=\"background-color:Gold\">'description': '**@Unknown joined voice channel  `General Voice` .**',</span>\n",
    "     <span style=\"background-color:Gold\">'author': {'name': 'Sean',</span>\n",
    "      'url': None,\n",
    "      'iconUrl': 'https://cdn.discordapp.com/embed/avatars/1.png'},\n",
    "     'footer': {'text': 'MTH 448/548'},\n",
    "     'fields': []}],\n",
    "   'reactions': []}\n",
    " </pre>"
   ]
  },
  {
   "cell_type": "markdown",
   "id": "critical-chester",
   "metadata": {},
   "source": [
    "Here is another fragment. This one shows that the user Jamya left the voice channel 'voice xray' on January 25 2021 at 20:57:58 GMT:"
   ]
  },
  {
   "cell_type": "raw",
   "id": "fuzzy-alpha",
   "metadata": {
    "raw_mimetype": "text/html"
   },
   "source": [
    "<pre style=\"font-size:13px\">\n",
    "{'id': '803368089449136188',\n",
    "   'type': 'Default',\n",
    "   'timestamp': '2021-01-25T20:57:58.382+00:00',\n",
    "   'timestampEdited': None,\n",
    "   'isPinned': False,\n",
    "   'content': '',\n",
    "   'author': {'id': '803346258977882163',\n",
    "    'name': 'ProBot ✨',\n",
    "    'discriminator': '0000',\n",
    "    'isBot': True,\n",
    "    'avatarUrl': 'https://cdn.discordapp.com/embed/avatars/1.png'},\n",
    "   'attachments': [],\n",
    "   'embeds': [{'title': '',\n",
    "     'url': None,\n",
    "     <span style=\"background-color:Gold\">'timestamp': '2021-01-25T20:57:58.186+00:00',</span>\n",
    "     <span style=\"background-color:Gold\">'description': '**@Unknown left voice channel  `voice xray` .**',</span>\n",
    "     <span style=\"background-color:Gold\">'author': {'name': 'Jamya', </span>\n",
    "      'url': None,\n",
    "      'iconUrl': 'https://cdn.discordapp.com/embed/avatars/1.png'},\n",
    "     'footer': {'text': 'MTH 448/548'},\n",
    "     'fields': []}\n",
    " </pre>"
   ]
  },
  {
   "cell_type": "markdown",
   "id": "wireless-translation",
   "metadata": {},
   "source": [
    "## Objectives"
   ]
  },
  {
   "cell_type": "markdown",
   "id": "photographic-football",
   "metadata": {},
   "source": [
    "### Part 1\n",
    "\n",
    "Use the log file to create a pandas DataFrame with the record of all occurrences when a user either left or joined a voice channel. The DataFrame should have three columns: \n",
    "\n",
    "* the column \"name\" should contain names of users \n",
    "* the column \"event\" should record if a user joined or left a channel\n",
    "* the column \"time\" should give the time of each event. \n",
    "\n",
    "The rows of the DataFrame should be ordered according to times of events: from the earliest to the latest.  \n",
    "\n",
    "Here is a sample of showing the structure of the DataFrame:"
   ]
  },
  {
   "cell_type": "code",
   "execution_count": 1,
   "id": "offshore-breeding",
   "metadata": {
    "nbsphinx": "hidden"
   },
   "outputs": [],
   "source": [
    "#  \"nbsphinx\": \"hidden\"\n",
    "import pandas as pd\n",
    "channels_df = pd.read_csv(\"channel_info.csv\")"
   ]
  },
  {
   "cell_type": "code",
   "execution_count": 2,
   "id": "advanced-quebec",
   "metadata": {},
   "outputs": [
    {
     "data": {
      "text/html": [
       "<div>\n",
       "<style scoped>\n",
       "    .dataframe tbody tr th:only-of-type {\n",
       "        vertical-align: middle;\n",
       "    }\n",
       "\n",
       "    .dataframe tbody tr th {\n",
       "        vertical-align: top;\n",
       "    }\n",
       "\n",
       "    .dataframe thead th {\n",
       "        text-align: right;\n",
       "    }\n",
       "</style>\n",
       "<table border=\"1\" class=\"dataframe\">\n",
       "  <thead>\n",
       "    <tr style=\"text-align: right;\">\n",
       "      <th></th>\n",
       "      <th>name</th>\n",
       "      <th>event</th>\n",
       "      <th>time</th>\n",
       "    </tr>\n",
       "  </thead>\n",
       "  <tbody>\n",
       "    <tr>\n",
       "      <th>627</th>\n",
       "      <td>Jasmin</td>\n",
       "      <td>left</td>\n",
       "      <td>2021-03-27 16:43:51.750000+00:00</td>\n",
       "    </tr>\n",
       "    <tr>\n",
       "      <th>628</th>\n",
       "      <td>Ariana</td>\n",
       "      <td>joined</td>\n",
       "      <td>2021-03-28 19:02:10.440000+00:00</td>\n",
       "    </tr>\n",
       "    <tr>\n",
       "      <th>629</th>\n",
       "      <td>Kathy</td>\n",
       "      <td>joined</td>\n",
       "      <td>2021-03-28 19:02:10.899000+00:00</td>\n",
       "    </tr>\n",
       "    <tr>\n",
       "      <th>630</th>\n",
       "      <td>Kathy</td>\n",
       "      <td>left</td>\n",
       "      <td>2021-03-28 19:20:37.529000+00:00</td>\n",
       "    </tr>\n",
       "    <tr>\n",
       "      <th>631</th>\n",
       "      <td>Ariana</td>\n",
       "      <td>left</td>\n",
       "      <td>2021-03-28 19:20:40.083000+00:00</td>\n",
       "    </tr>\n",
       "  </tbody>\n",
       "</table>\n",
       "</div>"
      ],
      "text/plain": [
       "       name   event                              time\n",
       "627  Jasmin    left  2021-03-27 16:43:51.750000+00:00\n",
       "628  Ariana  joined  2021-03-28 19:02:10.440000+00:00\n",
       "629   Kathy  joined  2021-03-28 19:02:10.899000+00:00\n",
       "630   Kathy    left  2021-03-28 19:20:37.529000+00:00\n",
       "631  Ariana    left  2021-03-28 19:20:40.083000+00:00"
      ]
     },
     "execution_count": 2,
     "metadata": {},
     "output_type": "execute_result"
    }
   ],
   "source": [
    "channels_df.tail(5)"
   ]
  },
  {
   "cell_type": "markdown",
   "id": "starting-particular",
   "metadata": {},
   "source": [
    "### Part 2\n",
    "\n",
    "For each user compute the total time the user spent in voice channels. Here is a sample of results you should obtain:"
   ]
  },
  {
   "cell_type": "code",
   "execution_count": 3,
   "id": "ceramic-mediterranean",
   "metadata": {
    "nbsphinx": "hidden"
   },
   "outputs": [],
   "source": [
    "#  \"nbsphinx\": \"hidden\"\\\n",
    "times_df = pd.read_csv(\"times.csv\")\n",
    "times_df.columns = [\"name\", \"time_in_channels\"]\n",
    "times_df = times_df.sort_values(by=\"time_in_channels\").reset_index(drop=True)"
   ]
  },
  {
   "cell_type": "code",
   "execution_count": 6,
   "id": "paperback-approval",
   "metadata": {},
   "outputs": [
    {
     "data": {
      "text/html": [
       "<div>\n",
       "<style scoped>\n",
       "    .dataframe tbody tr th:only-of-type {\n",
       "        vertical-align: middle;\n",
       "    }\n",
       "\n",
       "    .dataframe tbody tr th {\n",
       "        vertical-align: top;\n",
       "    }\n",
       "\n",
       "    .dataframe thead th {\n",
       "        text-align: right;\n",
       "    }\n",
       "</style>\n",
       "<table border=\"1\" class=\"dataframe\">\n",
       "  <thead>\n",
       "    <tr style=\"text-align: right;\">\n",
       "      <th></th>\n",
       "      <th>name</th>\n",
       "      <th>time_in_channels</th>\n",
       "    </tr>\n",
       "  </thead>\n",
       "  <tbody>\n",
       "    <tr>\n",
       "      <th>25</th>\n",
       "      <td>Ariana</td>\n",
       "      <td>0 days 17:37:12.113000</td>\n",
       "    </tr>\n",
       "    <tr>\n",
       "      <th>26</th>\n",
       "      <td>Jamya</td>\n",
       "      <td>1 days 01:12:34.347000</td>\n",
       "    </tr>\n",
       "    <tr>\n",
       "      <th>27</th>\n",
       "      <td>Kathy</td>\n",
       "      <td>1 days 03:15:31.871000</td>\n",
       "    </tr>\n",
       "    <tr>\n",
       "      <th>28</th>\n",
       "      <td>Edward</td>\n",
       "      <td>1 days 19:39:40.461000</td>\n",
       "    </tr>\n",
       "    <tr>\n",
       "      <th>29</th>\n",
       "      <td>Abagail</td>\n",
       "      <td>3 days 22:22:09.153000</td>\n",
       "    </tr>\n",
       "  </tbody>\n",
       "</table>\n",
       "</div>"
      ],
      "text/plain": [
       "       name        time_in_channels\n",
       "25   Ariana  0 days 17:37:12.113000\n",
       "26    Jamya  1 days 01:12:34.347000\n",
       "27    Kathy  1 days 03:15:31.871000\n",
       "28   Edward  1 days 19:39:40.461000\n",
       "29  Abagail  3 days 22:22:09.153000"
      ]
     },
     "execution_count": 6,
     "metadata": {},
     "output_type": "execute_result"
    }
   ],
   "source": [
    "times_df.tail(5)"
   ]
  },
  {
   "cell_type": "markdown",
   "id": "exposed-section",
   "metadata": {},
   "source": [
    "## Note\n",
    "\n",
    "This is a programming assignment. There is no required narrative, aside from code documentation and possible notes explaining how your code works. Reports will be graded based on \n",
    "\n",
    "- code correctness and completeness (80%)\n",
    "- report organization and code documentation (20%)"
   ]
  }
 ],
 "metadata": {
  "kernelspec": {
   "display_name": "Python 3",
   "language": "python",
   "name": "python3"
  },
  "language_info": {
   "codemirror_mode": {
    "name": "ipython",
    "version": 3
   },
   "file_extension": ".py",
   "mimetype": "text/x-python",
   "name": "python",
   "nbconvert_exporter": "python",
   "pygments_lexer": "ipython3",
   "version": "3.8.5"
  }
 },
 "nbformat": 4,
 "nbformat_minor": 5
}
