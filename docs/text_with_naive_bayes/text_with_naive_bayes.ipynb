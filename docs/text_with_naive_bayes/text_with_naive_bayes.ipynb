{
 "cells": [
  {
   "cell_type": "markdown",
   "metadata": {},
   "source": [
    "# Project: Text classification with naive Bayes"
   ]
  },
  {
   "cell_type": "markdown",
   "metadata": {},
   "source": [
    "In this project you will be working with the following two files:"
   ]
  },
  {
   "cell_type": "raw",
   "metadata": {
    "raw_mimetype": "text/restructuredtext"
   },
   "source": [
    "| :download:`movie_reviews.zip <./movie_reviews.zip>`\n",
    "| :download:`newsgroups.zip <./newsgroups.zip>`"
   ]
  },
  {
   "cell_type": "markdown",
   "metadata": {},
   "source": [
    "The file `movie_ratings.zip` is a zipped csv file containing texts of about 25,000 movie reviews. Each review is accompanied by a label, which is either 0 for a negative review, or 1 for a positive one. \n",
    "\n",
    "The file `newsgroups.zip` is a zipped text file with about 7000 posts submitted to eight online newsgroups devoted to different topics: cars, hockey, religion etc. Each post includes information to which newsgroup it was submitted.  "
   ]
  },
  {
   "cell_type": "markdown",
   "metadata": {},
   "source": [
    "## Objectives\n",
    "\n",
    "Check how well naive Bayes classifier can predict if a movie review is positive or negative based on the text of the review. Likewise, check how well naive Bayes predicts which newsgroup a post was submitted to based on the text of the post. Describe your results.\n",
    "\n",
    "Here are some questions which you may consider:\n",
    "\n",
    "- Which words are most frequent in each labeled class of texts? Do they differ significantly among classes?\n",
    "- Analyze examples of texts which have been misclassified. Are the predicted probabilities far off in these cases?  \n",
    "- Write some text samples on your own and get them classified. Does this work as expected? \n",
    "- How does classification accuracy depend on the size of the training set? \n",
    "- Anything else you find interesting.\n",
    "\n",
    "**Note.** Here is a text file with a list of stopwords which you can use to clean texts:\n"
   ]
  },
  {
   "cell_type": "raw",
   "metadata": {
    "raw_mimetype": "text/restructuredtext"
   },
   "source": [
    "| :download:`stopwords.txt <./stopwords.txt>`"
   ]
  }
 ],
 "metadata": {
  "celltoolbar": "Raw Cell Format",
  "kernelspec": {
   "display_name": "Python 3",
   "language": "python",
   "name": "python3"
  },
  "language_info": {
   "codemirror_mode": {
    "name": "ipython",
    "version": 3
   },
   "file_extension": ".py",
   "mimetype": "text/x-python",
   "name": "python",
   "nbconvert_exporter": "python",
   "pygments_lexer": "ipython3",
   "version": "3.7.6"
  }
 },
 "nbformat": 4,
 "nbformat_minor": 2
}
