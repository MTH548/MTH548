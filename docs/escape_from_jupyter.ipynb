{
 "cells": [
  {
   "cell_type": "markdown",
   "metadata": {},
   "source": [
    "# Escape from Jupyter"
   ]
  },
  {
   "cell_type": "markdown",
   "metadata": {},
   "source": [
    "All data in Jupyter notebooks is saved in JSON encoded text files with the `.ipynb` extension. This storage format makes it easy to retrieve notebook data without using Jupyter notebook software. This could come handy e.g. if the Jupyter project were to be discontinued at some point in the future, and we would like to recover content of old notebook files. The goal of this exercise is to implement such data recovery process. "
   ]
  },
  {
   "cell_type": "markdown",
   "metadata": {},
   "source": [
    "## Exercise. \n",
    "\n",
    "Write a function `nb2py` which takes as an argument a Jupyter notebook file, and creates a text file with the following properties. \n",
    "\n",
    "* The file created by the function should have the same name as the input file, but it should have the extension `.py` instead of `.ipynb`. For example, if the input file is `mynotebook.ipynb`, then the output file should be `mynotebook.py`. \n",
    "\n",
    "* The code from all code cells in the notebook should be saved without changes. The code from a cell number `x` should be preceded by a line with a Python comment of the form: \n",
    "  \n",
    "```\n",
    "# In[x]:\n",
    "```\n",
    "\n",
    "* Text from markdown cells should be saved as Python comments. i.e. every line of the text should be preceded by the `#` character. \n",
    "\n",
    "* Content of markdown and code cells should be saved in the same order in which it appears in the notebook file. \n",
    "\n",
    "* Output from code cells should be discarded. \n",
    "\n",
    "* For simplicity, assume that markdown cells contain text only (and do not have e.g. embedded images). \n",
    "\n",
    "## Example. \n",
    "\n",
    "As an illustration of how the `nb2py` function should work, below are links to a sample Jupyter notebook file and a text file in the form that should be produced from this notebook by `nb2py`.  "
   ]
  },
  {
   "cell_type": "raw",
   "metadata": {
    "raw_mimetype": "text/restructuredtext"
   },
   "source": [
    "| :download:`sample_notebook.ipynb <_static/escape_from_jupyter/sample_notebook.ipynb>`\n",
    "| :download:`sample_notebook.py <_static/escape_from_jupyter/sample_notebook.py>`"
   ]
  }
 ],
 "metadata": {
  "celltoolbar": "Raw Cell Format",
  "kernelspec": {
   "display_name": "Python 3",
   "language": "python",
   "name": "python3"
  },
  "language_info": {
   "codemirror_mode": {
    "name": "ipython",
    "version": 3
   },
   "file_extension": ".py",
   "mimetype": "text/x-python",
   "name": "python",
   "nbconvert_exporter": "python",
   "pygments_lexer": "ipython3",
   "version": "3.7.6"
  }
 },
 "nbformat": 4,
 "nbformat_minor": 4
}
