{
 "cells": [
  {
   "cell_type": "markdown",
   "metadata": {},
   "source": [
    "# Project: Regression and marathon results"
   ]
  },
  {
   "cell_type": "markdown",
   "metadata": {},
   "source": [
    "<html>\n",
    "<h1 style=\"color:teal;\">Project weight: 10 points</h1>\n",
    "</html>"
   ]
  },
  {
   "cell_type": "markdown",
   "metadata": {},
   "source": [
    "Download the following csv file which contains race results of about 26,000 marathon runners:"
   ]
  },
  {
   "cell_type": "raw",
   "metadata": {
    "raw_mimetype": "text/restructuredtext"
   },
   "source": [
    "| :download:`marathon_results.csv <../../_static/kde_marathon_results/marathon_results.csv>`"
   ]
  },
  {
   "cell_type": "markdown",
   "metadata": {},
   "source": [
    "## Objectives\n",
    "\n",
    "Analyze the marathon data. In particular:\n",
    "\n",
    "1. The 'naive' way to predict finish times of the runners based on their 5K times is to multiply the 5K time \n",
    "   by the ratio between the full marathon distance and the 5K distance. Compute such predictions and evaluate \n",
    "   their accuracy. \n",
    "2. Use linear regression to predict finish times of runners based on their 5K times. Compare accuracy of these    predictions with the accuracy of the 'naive' predictions. \n",
    "3. Use other data beside the 5K time (the age of a runner, whether the runner was a male or a female)  \n",
    "   together with the 5K times to predict finish times, and check if this meaningfully improves the predictions. \n",
    "4. Use logistic regression to predict whether a runner was a male or female based on their 5K time (or some \n",
    "   other time - 10K, finish time etc.) time). Do the result improve meaningfully if the logistic regression \n",
    "   uses age as well? \n",
    "5. Add anything else that you find relevant and interesting."
   ]
  },
  {
   "cell_type": "markdown",
   "metadata": {},
   "source": [
    "**Note:** You can use `sklearn` to compute linear and logistic regressions. "
   ]
  }
 ],
 "metadata": {
  "celltoolbar": "Raw Cell Format",
  "kernelspec": {
   "display_name": "Python 3 (ipykernel)",
   "language": "python",
   "name": "python3"
  },
  "language_info": {
   "codemirror_mode": {
    "name": "ipython",
    "version": 3
   },
   "file_extension": ".py",
   "mimetype": "text/x-python",
   "name": "python",
   "nbconvert_exporter": "python",
   "pygments_lexer": "ipython3",
   "version": "3.8.12"
  }
 },
 "nbformat": 4,
 "nbformat_minor": 4
}
