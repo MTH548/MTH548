{
 "cells": [
  {
   "cell_type": "markdown",
   "id": "encouraging-catalog",
   "metadata": {},
   "source": [
    "# Project: MNIST with k-means"
   ]
  },
  {
   "cell_type": "markdown",
   "id": "attempted-romania",
   "metadata": {},
   "source": [
    "<html>\n",
    "<h1 style=\"color:teal;\">Project weight: 10 points</h1>\n",
    "</html>"
   ]
  },
  {
   "cell_type": "markdown",
   "id": "residential-maker",
   "metadata": {},
   "source": [
    "This project uses the MNIST database. The files (the same as for the k-NN project) can be downloaded here:"
   ]
  },
  {
   "cell_type": "raw",
   "id": "decreased-jenny",
   "metadata": {
    "raw_mimetype": "text/restructuredtext"
   },
   "source": [
    "| :download:`train-images-idx3-ubyte.gz <http://yann.lecun.com/exdb/mnist/train-images-idx3-ubyte.gz>`\n",
    "| :download:`train-labels-idx1-ubyte.gz <http://yann.lecun.com/exdb/mnist/train-labels-idx1-ubyte.gz>`"
   ]
  },
  {
   "cell_type": "markdown",
   "id": "spiritual-audio",
   "metadata": {},
   "source": [
    "## Objectives"
   ]
  },
  {
   "cell_type": "markdown",
   "id": "third-signature",
   "metadata": {},
   "source": [
    "**Part 1.**\n",
    "\n",
    "* Use the k-means algorithm to split MNIST images into 10 clusters. \n",
    "* Display centroids of the clusters. Do they resemble digits? \n",
    "* Check how useful the clusters are for classifying images of digits. That is, check how accurately we can predict which image corresponds to which digit if we know to which cluster the image belongs.\n",
    "\n",
    "**Part 2.** An issue with the k-NN algorithm is that while in general it gets more accurate if we use more training data, at the same time using more training data makes it slower. Check if this problem can be helped by using the k-means clustering as follows. \n",
    "\n",
    "1. Split MNIST images into training and test data. \n",
    "2. For each digit 0-9 select all training images corresponding to this digit, and then use k-means to split these images into several (e.g. 100) clusters. Use centroids of these clusters as new training data for k-NN. This will make the amount of training data smaller, since every cluster of the original training data will be replaced by a single centroid. \n",
    "\n",
    "Investigate how the prediction accuracy and speed of k-NN using this new training data compares to the case when you use training data without clustering. Also, if you train k-NN using the centroid training data and then train it using the same amount of randomly selected training data is there a difference in the prediction accuracy?\n",
    "\n",
    "**Note.** For part 2 use the k-NN classifier implemented in sklearn. It will run faster than the implementation that you wrote yourself. "
   ]
  }
 ],
 "metadata": {
  "celltoolbar": "Raw Cell Format",
  "kernelspec": {
   "display_name": "Python 3",
   "language": "python",
   "name": "python3"
  },
  "language_info": {
   "codemirror_mode": {
    "name": "ipython",
    "version": 3
   },
   "file_extension": ".py",
   "mimetype": "text/x-python",
   "name": "python",
   "nbconvert_exporter": "python",
   "pygments_lexer": "ipython3",
   "version": "3.8.5"
  }
 },
 "nbformat": 4,
 "nbformat_minor": 5
}
