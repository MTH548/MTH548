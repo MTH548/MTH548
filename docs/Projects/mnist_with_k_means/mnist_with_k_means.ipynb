{
 "cells": [
  {
   "cell_type": "markdown",
   "id": "encouraging-catalog",
   "metadata": {},
   "source": [
    "# Project: MNIST with k-means"
   ]
  },
  {
   "cell_type": "markdown",
   "id": "attempted-romania",
   "metadata": {},
   "source": [
    "<html>\n",
    "<h1 style=\"color:teal;\">Project weight: 10 points</h1>\n",
    "</html>"
   ]
  },
  {
   "cell_type": "markdown",
   "id": "residential-maker",
   "metadata": {},
   "source": [
    "This project uses the MNIST database. The files (the same as for the k-NN project) can be downloaded here:"
   ]
  },
  {
   "cell_type": "raw",
   "id": "decreased-jenny",
   "metadata": {
    "raw_mimetype": "text/restructuredtext"
   },
   "source": [
    "| :download:`train-images-idx3-ubyte.gz <http://yann.lecun.com/exdb/mnist/train-images-idx3-ubyte.gz>`\n",
    "| :download:`train-labels-idx1-ubyte.gz <http://yann.lecun.com/exdb/mnist/train-labels-idx1-ubyte.gz>`"
   ]
  },
  {
   "cell_type": "markdown",
   "id": "spiritual-audio",
   "metadata": {},
   "source": [
    "## Objectives"
   ]
  },
  {
   "cell_type": "markdown",
   "id": "third-signature",
   "metadata": {},
   "source": [
    "**Part 1.**\n",
    "\n",
    "* Use the k-means algorithm to split MNIST images into 10 clusters. \n",
    "* Display centroids of the clusters. Do they resemble digits? \n",
    "* Check how useful the clusters are for classifying images of digits. That is, check how accurately we can predict which image corresponds to which digit if we know which cluster the image belongs to.\n",
    "\n",
    "**Part 2.** \n",
    "\n",
    "\n",
    "**Note:** For full credit, in your report you can choose to investigate one of the following approaches (2a or 2b). You can also experiment with both of them, but this is not required. \n",
    "\n",
    "An issue with the k-NN algorithm is that it can be slow if we have a big set of training data, and if this data is highly dimensional. The goal of this part of the project is to investigate two different ways of dealing with this issues using k-means clustering. One way is to reduce the amount of training data, and the second is to reduce dimensionality of data. \n",
    "\n",
    "**Part 2a** The goal of this part is to experiment with a possible way of making k-NN predictions faster, by reducing the amount of the training data. \n",
    "\n",
    "1. Split MNIST images into training and test data. \n",
    "2. For each digit 0-9 select all training images corresponding to this digit, and then use k-means to split these images into several (e.g. 100) clusters. Use centroids of these clusters as new training data for k-NN. This will make the amount of training data smaller, since every cluster of the original training data will be replaced by a single centroid. \n",
    "3. Investigate how the prediction accuracy and speed of k-NN using this new training data compares to the case when you use training data without clustering. Also, if you train k-NN using the centroid training data and then train it using the same amount of randomly selected training data is there a difference in the prediction accuracy?\n",
    "\n",
    "**Part 2b** The goal of this part is to experiment with a possible way of making k-NN predictions faster, by reducing dimensionality of the MNIST data.\n",
    "\n",
    "1. Split MNIST images into training and test data. \n",
    "2. Use k-means to compute clusters for the training data. Then use these clusters to reduce dimensionality of both training and test data, and investigate how the prediction accuracy and speed of k-NN using the reduced data compares to the predictions done without dimensionality reduction. Experiment with dimensionality reduction done with different numbers of clusters and compare the results. \n",
    "\n",
    "\n",
    "**Note.** For parts 2a and 2b use the k-NN classifier implemented in sklearn. It will run faster than the implementation that you wrote yourself. "
   ]
  }
 ],
 "metadata": {
  "celltoolbar": "Raw Cell Format",
  "kernelspec": {
   "display_name": "Python 3 (ipykernel)",
   "language": "python",
   "name": "python3"
  },
  "language_info": {
   "codemirror_mode": {
    "name": "ipython",
    "version": 3
   },
   "file_extension": ".py",
   "mimetype": "text/x-python",
   "name": "python",
   "nbconvert_exporter": "python",
   "pygments_lexer": "ipython3",
   "version": "3.8.12"
  }
 },
 "nbformat": 4,
 "nbformat_minor": 5
}
