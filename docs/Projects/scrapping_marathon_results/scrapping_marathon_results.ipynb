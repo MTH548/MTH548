{
 "cells": [
  {
   "cell_type": "code",
   "execution_count": 3,
   "metadata": {
    "nbsphinx": "hidden"
   },
   "outputs": [],
   "source": [
    "# HIDDEN\n",
    "#  \"nbsphinx\": \"hidden\"\n",
    "\n",
    "import pandas as pd\n",
    "\n",
    "marathon_df = pd.read_csv(\"chicago_results_m4.csv\")"
   ]
  },
  {
   "cell_type": "markdown",
   "metadata": {},
   "source": [
    "# Project: Scrapping marathon results"
   ]
  },
  {
   "cell_type": "markdown",
   "metadata": {},
   "source": [
    "<html>\n",
    "<h1 style=\"color:teal;\">Project weight: 5 points</h1>\n",
    "</html>"
   ]
  },
  {
   "cell_type": "markdown",
   "metadata": {},
   "source": [
    "The website [results.chicagomarathon.com/well-known/2021/](https://results.chicagomarathon.com/well-known/2021/) contains results of the 2021 Chicago Marathon. Using this website we can get a list of runners, The name of each runner is linked to a webpage with more detailed information about the runner. "
   ]
  },
  {
   "cell_type": "markdown",
   "metadata": {},
   "source": [
    "## Objectives\n",
    "\n",
    "Use requests and BeautifulSoup to scrap information about the top 50 male runners. The information you retrieve should include the following data:\n",
    "\n",
    "* name\n",
    "* age group\n",
    "* bib number\n",
    "* age\n",
    "* city/state\n",
    "* split times \n",
    "\n",
    "Record this data in a pandas DataFrame and show the DataFrame in the notebook. The format of the resulting DataFrame should be as follows:"
   ]
  },
  {
   "cell_type": "code",
   "execution_count": 5,
   "metadata": {},
   "outputs": [
    {
     "data": {
      "text/html": [
       "<div>\n",
       "<style scoped>\n",
       "    .dataframe tbody tr th:only-of-type {\n",
       "        vertical-align: middle;\n",
       "    }\n",
       "\n",
       "    .dataframe tbody tr th {\n",
       "        vertical-align: top;\n",
       "    }\n",
       "\n",
       "    .dataframe thead th {\n",
       "        text-align: right;\n",
       "    }\n",
       "</style>\n",
       "<table border=\"1\" class=\"dataframe\">\n",
       "  <thead>\n",
       "    <tr style=\"text-align: right;\">\n",
       "      <th></th>\n",
       "      <th>Name (CTZ)</th>\n",
       "      <th>Age Group</th>\n",
       "      <th>Bib Number</th>\n",
       "      <th>City, State</th>\n",
       "      <th>Short</th>\n",
       "      <th>05K</th>\n",
       "      <th>10K</th>\n",
       "      <th>15K</th>\n",
       "      <th>20K</th>\n",
       "      <th>HALF</th>\n",
       "      <th>25K</th>\n",
       "      <th>30K</th>\n",
       "      <th>35K</th>\n",
       "      <th>40K</th>\n",
       "      <th>Finish</th>\n",
       "    </tr>\n",
       "  </thead>\n",
       "  <tbody>\n",
       "    <tr>\n",
       "      <th>0</th>\n",
       "      <td>Tura Abdiwak, Seifu (ETH)</td>\n",
       "      <td>20-24</td>\n",
       "      <td>3</td>\n",
       "      <td>Iseo</td>\n",
       "      <td>ST</td>\n",
       "      <td>00:14:43</td>\n",
       "      <td>00:29:15</td>\n",
       "      <td>00:44:21</td>\n",
       "      <td>00:59:13</td>\n",
       "      <td>01:02:29</td>\n",
       "      <td>01:14:42</td>\n",
       "      <td>01:30:06</td>\n",
       "      <td>01:45:01</td>\n",
       "      <td>01:59:44</td>\n",
       "      <td>02:06:12</td>\n",
       "    </tr>\n",
       "    <tr>\n",
       "      <th>1</th>\n",
       "      <td>Rupp, Galen (USA)</td>\n",
       "      <td>35-39</td>\n",
       "      <td>9</td>\n",
       "      <td>Portland</td>\n",
       "      <td>GR</td>\n",
       "      <td>00:14:43</td>\n",
       "      <td>00:29:25</td>\n",
       "      <td>00:44:23</td>\n",
       "      <td>00:59:24</td>\n",
       "      <td>01:02:40</td>\n",
       "      <td>01:14:44</td>\n",
       "      <td>01:30:07</td>\n",
       "      <td>01:45:02</td>\n",
       "      <td>01:59:53</td>\n",
       "      <td>02:06:35</td>\n",
       "    </tr>\n",
       "    <tr>\n",
       "      <th>2</th>\n",
       "      <td>Kiptanui, Eric (KEN)</td>\n",
       "      <td>30-34</td>\n",
       "      <td>7</td>\n",
       "      <td>Iten</td>\n",
       "      <td>EK</td>\n",
       "      <td>00:14:43</td>\n",
       "      <td>00:29:17</td>\n",
       "      <td>00:44:21</td>\n",
       "      <td>00:59:13</td>\n",
       "      <td>01:02:29</td>\n",
       "      <td>01:14:42</td>\n",
       "      <td>01:30:06</td>\n",
       "      <td>01:45:01</td>\n",
       "      <td>02:00:05</td>\n",
       "      <td>02:06:51</td>\n",
       "    </tr>\n",
       "    <tr>\n",
       "      <th>3</th>\n",
       "      <td>Suzuki, Kengo (JPN)</td>\n",
       "      <td>25-29</td>\n",
       "      <td>5</td>\n",
       "      <td>Chiba City Chiba</td>\n",
       "      <td>KS</td>\n",
       "      <td>00:14:44</td>\n",
       "      <td>00:29:16</td>\n",
       "      <td>00:44:22</td>\n",
       "      <td>00:59:15</td>\n",
       "      <td>01:02:30</td>\n",
       "      <td>01:14:44</td>\n",
       "      <td>01:30:07</td>\n",
       "      <td>01:45:30</td>\n",
       "      <td>02:01:48</td>\n",
       "      <td>02:08:50</td>\n",
       "    </tr>\n",
       "    <tr>\n",
       "      <th>4</th>\n",
       "      <td>Tamru Aredo, Shifera (ETH)</td>\n",
       "      <td>20-24</td>\n",
       "      <td>6</td>\n",
       "      <td>Iseo</td>\n",
       "      <td>ST</td>\n",
       "      <td>00:14:36</td>\n",
       "      <td>00:29:15</td>\n",
       "      <td>00:44:06</td>\n",
       "      <td>00:59:10</td>\n",
       "      <td>01:02:29</td>\n",
       "      <td>01:14:43</td>\n",
       "      <td>01:30:08</td>\n",
       "      <td>01:45:59</td>\n",
       "      <td>02:02:16</td>\n",
       "      <td>02:09:39</td>\n",
       "    </tr>\n",
       "  </tbody>\n",
       "</table>\n",
       "</div>"
      ],
      "text/plain": [
       "                   Name (CTZ) Age Group  Bib Number       City, State Short  \\\n",
       "0   Tura Abdiwak, Seifu (ETH)     20-24           3              Iseo    ST   \n",
       "1           Rupp, Galen (USA)     35-39           9          Portland    GR   \n",
       "2        Kiptanui, Eric (KEN)     30-34           7              Iten    EK   \n",
       "3         Suzuki, Kengo (JPN)     25-29           5  Chiba City Chiba    KS   \n",
       "4  Tamru Aredo, Shifera (ETH)     20-24           6              Iseo    ST   \n",
       "\n",
       "        05K       10K       15K       20K      HALF       25K       30K  \\\n",
       "0  00:14:43  00:29:15  00:44:21  00:59:13  01:02:29  01:14:42  01:30:06   \n",
       "1  00:14:43  00:29:25  00:44:23  00:59:24  01:02:40  01:14:44  01:30:07   \n",
       "2  00:14:43  00:29:17  00:44:21  00:59:13  01:02:29  01:14:42  01:30:06   \n",
       "3  00:14:44  00:29:16  00:44:22  00:59:15  01:02:30  01:14:44  01:30:07   \n",
       "4  00:14:36  00:29:15  00:44:06  00:59:10  01:02:29  01:14:43  01:30:08   \n",
       "\n",
       "        35K       40K    Finish  \n",
       "0  01:45:01  01:59:44  02:06:12  \n",
       "1  01:45:02  01:59:53  02:06:35  \n",
       "2  01:45:01  02:00:05  02:06:51  \n",
       "3  01:45:30  02:01:48  02:08:50  \n",
       "4  01:45:59  02:02:16  02:09:39  "
      ]
     },
     "execution_count": 5,
     "metadata": {},
     "output_type": "execute_result"
    }
   ],
   "source": [
    "marathon_df"
   ]
  },
  {
   "cell_type": "markdown",
   "metadata": {},
   "source": [
    "## Notes\n",
    "\n",
    "* Do not scrap more than 50 runners to limit the usage of the web server hosting the marathon website. \n",
    "* Add a delay of 2 seconds between each request sent to the server. \n",
    "* This is a programming assignment. There is no required narrative, aside from code documentation and possible notes explaining how your code works. Reports will be graded based on \n",
    "\n",
    "    - code correctness and completeness (80%)\n",
    "    - report organization and code documentation (20%)"
   ]
  }
 ],
 "metadata": {
  "kernelspec": {
   "display_name": "Python 3 (ipykernel)",
   "language": "python",
   "name": "python3"
  },
  "language_info": {
   "codemirror_mode": {
    "name": "ipython",
    "version": 3
   },
   "file_extension": ".py",
   "mimetype": "text/x-python",
   "name": "python",
   "nbconvert_exporter": "python",
   "pygments_lexer": "ipython3",
   "version": "3.8.12"
  }
 },
 "nbformat": 4,
 "nbformat_minor": 4
}
