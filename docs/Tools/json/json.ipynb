{
 "cells": [
  {
   "cell_type": "markdown",
   "metadata": {},
   "source": [
    "# JSON\n",
    "\n",
    "[JSON](https://www.json.org/json-en.html) is a format for representing various types of data (numbers, lists, dictionaries etc.) in the form of text strings. The benefit of encoding data in this way is that strings can be be easily stored in text files or shared over the Internet. \n",
    "\n",
    "JSON encoded data is simple to read and understand. For example, a list `[1, 2, 3]` in the JSON format becomes simply a string `'[1, 2, 3]'`, and a dictionary `{'x': 1, 'y': 2}` becomes a string `'{\"x\": 1, \"y\": 2}'`. Beside lists and dictionaries, JSON recognizes only a few basic data types: strings, numbers, `true`, `false`, and `null`. However, since JSON lists and dictionaries can be arbitrarily nested (so we can have e.g. a list of dictionaries or a dictionary whose values are other dictionaries and lists), this syntax can be used to represent complex data structures. "
   ]
  },
  {
   "cell_type": "markdown",
   "metadata": {},
   "source": [
    "## The json module"
   ]
  },
  {
   "cell_type": "markdown",
   "metadata": {},
   "source": [
    "The Python module `json` provides tools for reading and writing JSON data. "
   ]
  },
  {
   "cell_type": "code",
   "execution_count": 1,
   "metadata": {},
   "outputs": [],
   "source": [
    "import json"
   ]
  },
  {
   "cell_type": "markdown",
   "metadata": {},
   "source": [
    "Below is a brief overview of the most commonly used functions in this module. See the [json module  documentation](https://docs.python.org/3/library/json.html) for details. "
   ]
  },
  {
   "cell_type": "raw",
   "metadata": {
    "raw_mimetype": "text/restructuredtext"
   },
   "source": [
    ".. raw:: html\n",
    "    \n",
    "    <br>\n",
    "\n",
    ".. function::  json.dumps(obj)\n",
    "   :module: json"
   ]
  },
  {
   "cell_type": "markdown",
   "metadata": {},
   "source": [
    "`json.dumps` takes as an argument an Python object `obj` and returns a string representing the object in the JSON format."
   ]
  },
  {
   "cell_type": "markdown",
   "metadata": {},
   "source": [
    "**Examples.**"
   ]
  },
  {
   "cell_type": "code",
   "execution_count": 2,
   "metadata": {},
   "outputs": [
    {
     "data": {
      "text/plain": [
       "'[1, 2, 3, \"Buffalo\", -7.5]'"
      ]
     },
     "execution_count": 2,
     "metadata": {},
     "output_type": "execute_result"
    }
   ],
   "source": [
    "my_list = [1, 2, 3, 'Buffalo', -7.5]\n",
    "json.dumps(my_list)"
   ]
  },
  {
   "cell_type": "code",
   "execution_count": 3,
   "metadata": {},
   "outputs": [
    {
     "data": {
      "text/plain": [
       "'{\"name\": \"Maggie\", \"age\": 19, \"grades\": [\"A\", \"B+\", \"A-\"]}'"
      ]
     },
     "execution_count": 3,
     "metadata": {},
     "output_type": "execute_result"
    }
   ],
   "source": [
    "student = {\"name\": \"Maggie\", \"age\": 19, \"grades\": [\"A\", \"B+\", \"A-\"]}\n",
    "jstudent = json.dumps(student)\n",
    "jstudent"
   ]
  },
  {
   "cell_type": "raw",
   "metadata": {
    "raw_mimetype": "text/restructuredtext"
   },
   "source": [
    ".. raw:: html\n",
    "    \n",
    "    <br>\n",
    "\n",
    ".. function::  json.loads(s)\n",
    "   :module: json"
   ]
  },
  {
   "cell_type": "markdown",
   "metadata": {},
   "source": [
    "This function is inverse of `json.dumps`: it takes a JSON encoded string `s` and returns the corresponding Python object:"
   ]
  },
  {
   "cell_type": "code",
   "execution_count": 4,
   "metadata": {},
   "outputs": [
    {
     "data": {
      "text/plain": [
       "{'name': 'Maggie', 'age': 19, 'grades': ['A', 'B+', 'A-']}"
      ]
     },
     "execution_count": 4,
     "metadata": {},
     "output_type": "execute_result"
    }
   ],
   "source": [
    "d = json.loads(jstudent)\n",
    "d"
   ]
  },
  {
   "cell_type": "code",
   "execution_count": 5,
   "metadata": {},
   "outputs": [
    {
     "data": {
      "text/plain": [
       "'Maggie'"
      ]
     },
     "execution_count": 5,
     "metadata": {},
     "output_type": "execute_result"
    }
   ],
   "source": [
    "d['name']"
   ]
  },
  {
   "cell_type": "raw",
   "metadata": {
    "raw_mimetype": "text/restructuredtext"
   },
   "source": [
    ".. raw:: html\n",
    "    \n",
    "    <br>\n",
    "\n",
    ".. py:function::  json.dump(obj, fp)\n",
    "   :module: json"
   ]
  },
  {
   "cell_type": "markdown",
   "metadata": {},
   "source": [
    "`json.dump` is similar to `json.dumps` but instead of producing a string representing `obj`, it writes this string to a file object `fp`. For example, the code below saves the dictionary `student` to a text file `student.json`:"
   ]
  },
  {
   "cell_type": "code",
   "execution_count": 5,
   "metadata": {},
   "outputs": [],
   "source": [
    "student = {\"name\": \"Maggie\", \"age\": 19, \"grades\": [\"A\", \"B+\", \"A-\"]}\n",
    "\n",
    "with open('student.json', 'w') as f:\n",
    "    json.dump(student, f)"
   ]
  },
  {
   "cell_type": "markdown",
   "metadata": {},
   "source": [
    "Here is a link to the file produced in this way: [student.json](student.json)."
   ]
  },
  {
   "cell_type": "raw",
   "metadata": {
    "raw_mimetype": "text/restructuredtext"
   },
   "source": [
    ".. raw:: html\n",
    "    \n",
    "    <br>\n",
    "\n",
    ".. function::  json.load(fp)\n",
    "   :module: json"
   ]
  },
  {
   "cell_type": "markdown",
   "metadata": {},
   "source": [
    "`json.load` in turn, is similar to `json.loads`, but it takes as its argument a file object `fp` which contains a JSON formatted string, and returns the corresponding Python object:"
   ]
  },
  {
   "cell_type": "code",
   "execution_count": 6,
   "metadata": {},
   "outputs": [
    {
     "data": {
      "text/plain": [
       "{'name': 'Maggie', 'age': 19, 'grades': ['A', 'B+', 'A-']}"
      ]
     },
     "execution_count": 6,
     "metadata": {},
     "output_type": "execute_result"
    }
   ],
   "source": [
    "with open('student.json') as f:\n",
    "    d = json.load(f)\n",
    "d"
   ]
  },
  {
   "cell_type": "markdown",
   "metadata": {},
   "source": [
    "## Example: currency exchange rates"
   ]
  },
  {
   "cell_type": "markdown",
   "metadata": {},
   "source": [
    "The website [www.exchangerate-api.com](https://www.exchangerate-api.com/docs/free) provides current currency exchange rates. We can use it, for example, to obtain the latest exchange rates against the US dollar:  "
   ]
  },
  {
   "cell_type": "code",
   "execution_count": 2,
   "metadata": {
    "nbsphinx": "hidden"
   },
   "outputs": [],
   "source": [
    "# \"nbsphinx\": \"hidden\"\n",
    "\n",
    "# this is cheat redefining the print function so that printout\n",
    "# looks better when rendered by Sphinx\n",
    "normal_print = print\n",
    "\n",
    "\n",
    "def new_print(s, width=100):\n",
    "    s = str(s)\n",
    "    lines = s.split('\\n')\n",
    "    for line in lines:\n",
    "        for n in range(0, len(line), width):\n",
    "            normal_print(line[n:n + width])\n",
    "\n",
    "\n",
    "print = new_print"
   ]
  },
  {
   "cell_type": "code",
   "execution_count": 3,
   "metadata": {},
   "outputs": [
    {
     "name": "stdout",
     "output_type": "stream",
     "text": [
      "{\"result\":\"success\",\"provider\":\"https://www.exchangerate-api.com\",\"documentation\":\"https://www.excha\n",
      "ngerate-api.com/docs/free\",\"terms_of_use\":\"https://www.exchangerate-api.com/terms\",\"time_last_update\n",
      "_unix\":1648252952,\"time_last_update_utc\":\"Sat, 26 Mar 2022 00:02:32 +0000\",\"time_next_update_unix\":1\n",
      "648340702,\"time_next_update_utc\":\"Sun, 27 Mar 2022 00:25:02 +0000\",\"time_eol_unix\":0,\"base_code\":\"US\n",
      "D\",\"rates\":{\"USD\":1,\"AED\":3.67,\"AFN\":87.38,\"ALL\":111.39,\"AMD\":490.51,\"ANG\":1.79,\"AOA\":456.53,\"ARS\":1\n",
      "10.14,\"AUD\":1.33,\"AWG\":1.79,\"AZN\":1.7,\"BAM\":1.78,\"BBD\":2,\"BDT\":85.26,\"BGN\":1.78,\"BHD\":0.376,\"BIF\":20\n",
      "09.87,\"BMD\":1,\"BND\":1.36,\"BOB\":6.86,\"BRL\":4.8,\"BSD\":1,\"BTN\":76.25,\"BWP\":11.51,\"BYN\":3,\"BZD\":2,\"CAD\":\n",
      "1.25,\"CDF\":1991.18,\"CHF\":0.93,\"CLP\":789.57,\"CNY\":6.38,\"COP\":3763.57,\"CRC\":655.56,\"CUP\":24,\"CVE\":100.\n",
      "34,\"CZK\":22.37,\"DJF\":177.72,\"DKK\":6.79,\"DOP\":54.78,\"DZD\":142.67,\"EGP\":18.41,\"ERN\":15,\"ETB\":51.12,\"EU\n",
      "R\":0.91,\"FJD\":2.09,\"FKP\":0.759,\"FOK\":6.79,\"GBP\":0.759,\"GEL\":3.22,\"GGP\":0.759,\"GHS\":8.18,\"GIP\":0.759,\n",
      "\"GMD\":54.77,\"GNF\":8915.07,\"GTQ\":7.67,\"GYD\":208.82,\"HKD\":7.83,\"HNL\":24.51,\"HRK\":6.86,\"HTG\":106.14,\"HU\n",
      "F\":339.1,\"IDR\":14259.38,\"ILS\":3.22,\"IMP\":0.759,\"INR\":76.26,\"IQD\":1456.89,\"IRR\":41942.62,\"ISK\":129.06\n",
      ",\"JEP\":0.759,\"JMD\":153.19,\"JOD\":0.709,\"JPY\":122.12,\"KES\":115,\"KGS\":99.06,\"KHR\":4039.24,\"KID\":1.33,\"K\n",
      "MF\":447.67,\"KRW\":1221.69,\"KWD\":0.3,\"KYD\":0.833,\"KZT\":494.28,\"LAK\":12882.01,\"LBP\":1507.5,\"LKR\":289.07\n",
      ",\"LRD\":153.09,\"LSL\":14.54,\"LYD\":4.66,\"MAD\":9.49,\"MDL\":18.35,\"MGA\":3098.09,\"MKD\":56.14,\"MMK\":1763.21,\n",
      "\"MNT\":2924.78,\"MOP\":8.07,\"MRU\":36.33,\"MUR\":44.04,\"MVR\":15.42,\"MWK\":820.11,\"MXN\":20.03,\"MYR\":4.21,\"MZ\n",
      "N\":64.25,\"NAD\":14.54,\"NGN\":414.99,\"NIO\":35.71,\"NOK\":8.63,\"NPR\":122.01,\"NZD\":1.44,\"OMR\":0.384,\"PAB\":1\n",
      ",\"PEN\":3.73,\"PGK\":3.52,\"PHP\":52.16,\"PKR\":181.75,\"PLN\":4.28,\"PYG\":7121.96,\"QAR\":3.64,\"RON\":4.49,\"RSD\"\n",
      ":107.08,\"RUB\":98.53,\"RWF\":1046.19,\"SAR\":3.75,\"SBD\":7.95,\"SCR\":14.39,\"SDG\":445.81,\"SEK\":9.41,\"SGD\":1.\n",
      "36,\"SHP\":0.759,\"SLL\":11643.18,\"SOS\":577.43,\"SRD\":20.61,\"SSP\":430.22,\"STN\":22.29,\"SYP\":2510.64,\"SZL\":\n",
      "14.54,\"THB\":33.56,\"TJS\":12.56,\"TMT\":3.5,\"TND\":2.77,\"TOP\":2.23,\"TRY\":14.82,\"TTD\":6.78,\"TVD\":1.33,\"TWD\n",
      "\":28.61,\"TZS\":2320.18,\"UAH\":29.58,\"UGX\":3596.24,\"UYU\":41.93,\"UZS\":11460.98,\"VES\":4.34,\"VND\":22860.03\n",
      ",\"VUV\":112.24,\"WST\":2.56,\"XAF\":596.89,\"XCD\":2.7,\"XDR\":0.725,\"XOF\":596.89,\"XPF\":108.59,\"YER\":250.17,\"\n",
      "ZAR\":14.54,\"ZMW\":17.86,\"ZWL\":138.14}}\n"
     ]
    }
   ],
   "source": [
    "import requests\n",
    "rates = requests.get('https://open.er-api.com/v6/latest/USD').text\n",
    "\n",
    "print(rates)"
   ]
  },
  {
   "cell_type": "code",
   "execution_count": 4,
   "metadata": {
    "nbsphinx": "hidden"
   },
   "outputs": [],
   "source": [
    "# \"nbsphinx\": \"hidden\"\n",
    "\n",
    "# revert to the standard print function\n",
    "print = normal_print"
   ]
  },
  {
   "cell_type": "markdown",
   "metadata": {},
   "source": [
    "The exchange rates are provided as a JSON encoded string. Using the `json.loads` function we can convert this string into a Python dictionary:"
   ]
  },
  {
   "cell_type": "code",
   "execution_count": 5,
   "metadata": {
    "scrolled": false
   },
   "outputs": [
    {
     "data": {
      "text/plain": [
       "{'result': 'success',\n",
       " 'provider': 'https://www.exchangerate-api.com',\n",
       " 'documentation': 'https://www.exchangerate-api.com/docs/free',\n",
       " 'terms_of_use': 'https://www.exchangerate-api.com/terms',\n",
       " 'time_last_update_unix': 1648252952,\n",
       " 'time_last_update_utc': 'Sat, 26 Mar 2022 00:02:32 +0000',\n",
       " 'time_next_update_unix': 1648340702,\n",
       " 'time_next_update_utc': 'Sun, 27 Mar 2022 00:25:02 +0000',\n",
       " 'time_eol_unix': 0,\n",
       " 'base_code': 'USD',\n",
       " 'rates': {'USD': 1,\n",
       "  'AED': 3.67,\n",
       "  'AFN': 87.38,\n",
       "  'ALL': 111.39,\n",
       "  'AMD': 490.51,\n",
       "  'ANG': 1.79,\n",
       "  'AOA': 456.53,\n",
       "  'ARS': 110.14,\n",
       "  'AUD': 1.33,\n",
       "  'AWG': 1.79,\n",
       "  'AZN': 1.7,\n",
       "  'BAM': 1.78,\n",
       "  'BBD': 2,\n",
       "  'BDT': 85.26,\n",
       "  'BGN': 1.78,\n",
       "  'BHD': 0.376,\n",
       "  'BIF': 2009.87,\n",
       "  'BMD': 1,\n",
       "  'BND': 1.36,\n",
       "  'BOB': 6.86,\n",
       "  'BRL': 4.8,\n",
       "  'BSD': 1,\n",
       "  'BTN': 76.25,\n",
       "  'BWP': 11.51,\n",
       "  'BYN': 3,\n",
       "  'BZD': 2,\n",
       "  'CAD': 1.25,\n",
       "  'CDF': 1991.18,\n",
       "  'CHF': 0.93,\n",
       "  'CLP': 789.57,\n",
       "  'CNY': 6.38,\n",
       "  'COP': 3763.57,\n",
       "  'CRC': 655.56,\n",
       "  'CUP': 24,\n",
       "  'CVE': 100.34,\n",
       "  'CZK': 22.37,\n",
       "  'DJF': 177.72,\n",
       "  'DKK': 6.79,\n",
       "  'DOP': 54.78,\n",
       "  'DZD': 142.67,\n",
       "  'EGP': 18.41,\n",
       "  'ERN': 15,\n",
       "  'ETB': 51.12,\n",
       "  'EUR': 0.91,\n",
       "  'FJD': 2.09,\n",
       "  'FKP': 0.759,\n",
       "  'FOK': 6.79,\n",
       "  'GBP': 0.759,\n",
       "  'GEL': 3.22,\n",
       "  'GGP': 0.759,\n",
       "  'GHS': 8.18,\n",
       "  'GIP': 0.759,\n",
       "  'GMD': 54.77,\n",
       "  'GNF': 8915.07,\n",
       "  'GTQ': 7.67,\n",
       "  'GYD': 208.82,\n",
       "  'HKD': 7.83,\n",
       "  'HNL': 24.51,\n",
       "  'HRK': 6.86,\n",
       "  'HTG': 106.14,\n",
       "  'HUF': 339.1,\n",
       "  'IDR': 14259.38,\n",
       "  'ILS': 3.22,\n",
       "  'IMP': 0.759,\n",
       "  'INR': 76.26,\n",
       "  'IQD': 1456.89,\n",
       "  'IRR': 41942.62,\n",
       "  'ISK': 129.06,\n",
       "  'JEP': 0.759,\n",
       "  'JMD': 153.19,\n",
       "  'JOD': 0.709,\n",
       "  'JPY': 122.12,\n",
       "  'KES': 115,\n",
       "  'KGS': 99.06,\n",
       "  'KHR': 4039.24,\n",
       "  'KID': 1.33,\n",
       "  'KMF': 447.67,\n",
       "  'KRW': 1221.69,\n",
       "  'KWD': 0.3,\n",
       "  'KYD': 0.833,\n",
       "  'KZT': 494.28,\n",
       "  'LAK': 12882.01,\n",
       "  'LBP': 1507.5,\n",
       "  'LKR': 289.07,\n",
       "  'LRD': 153.09,\n",
       "  'LSL': 14.54,\n",
       "  'LYD': 4.66,\n",
       "  'MAD': 9.49,\n",
       "  'MDL': 18.35,\n",
       "  'MGA': 3098.09,\n",
       "  'MKD': 56.14,\n",
       "  'MMK': 1763.21,\n",
       "  'MNT': 2924.78,\n",
       "  'MOP': 8.07,\n",
       "  'MRU': 36.33,\n",
       "  'MUR': 44.04,\n",
       "  'MVR': 15.42,\n",
       "  'MWK': 820.11,\n",
       "  'MXN': 20.03,\n",
       "  'MYR': 4.21,\n",
       "  'MZN': 64.25,\n",
       "  'NAD': 14.54,\n",
       "  'NGN': 414.99,\n",
       "  'NIO': 35.71,\n",
       "  'NOK': 8.63,\n",
       "  'NPR': 122.01,\n",
       "  'NZD': 1.44,\n",
       "  'OMR': 0.384,\n",
       "  'PAB': 1,\n",
       "  'PEN': 3.73,\n",
       "  'PGK': 3.52,\n",
       "  'PHP': 52.16,\n",
       "  'PKR': 181.75,\n",
       "  'PLN': 4.28,\n",
       "  'PYG': 7121.96,\n",
       "  'QAR': 3.64,\n",
       "  'RON': 4.49,\n",
       "  'RSD': 107.08,\n",
       "  'RUB': 98.53,\n",
       "  'RWF': 1046.19,\n",
       "  'SAR': 3.75,\n",
       "  'SBD': 7.95,\n",
       "  'SCR': 14.39,\n",
       "  'SDG': 445.81,\n",
       "  'SEK': 9.41,\n",
       "  'SGD': 1.36,\n",
       "  'SHP': 0.759,\n",
       "  'SLL': 11643.18,\n",
       "  'SOS': 577.43,\n",
       "  'SRD': 20.61,\n",
       "  'SSP': 430.22,\n",
       "  'STN': 22.29,\n",
       "  'SYP': 2510.64,\n",
       "  'SZL': 14.54,\n",
       "  'THB': 33.56,\n",
       "  'TJS': 12.56,\n",
       "  'TMT': 3.5,\n",
       "  'TND': 2.77,\n",
       "  'TOP': 2.23,\n",
       "  'TRY': 14.82,\n",
       "  'TTD': 6.78,\n",
       "  'TVD': 1.33,\n",
       "  'TWD': 28.61,\n",
       "  'TZS': 2320.18,\n",
       "  'UAH': 29.58,\n",
       "  'UGX': 3596.24,\n",
       "  'UYU': 41.93,\n",
       "  'UZS': 11460.98,\n",
       "  'VES': 4.34,\n",
       "  'VND': 22860.03,\n",
       "  'VUV': 112.24,\n",
       "  'WST': 2.56,\n",
       "  'XAF': 596.89,\n",
       "  'XCD': 2.7,\n",
       "  'XDR': 0.725,\n",
       "  'XOF': 596.89,\n",
       "  'XPF': 108.59,\n",
       "  'YER': 250.17,\n",
       "  'ZAR': 14.54,\n",
       "  'ZMW': 17.86,\n",
       "  'ZWL': 138.14}}"
      ]
     },
     "execution_count": 5,
     "metadata": {},
     "output_type": "execute_result"
    }
   ],
   "source": [
    "rates_d = json.loads(rates)\n",
    "rates_d"
   ]
  },
  {
   "cell_type": "markdown",
   "metadata": {},
   "source": [
    "We can use the dictionary to check how much 1 USD is worth in terms of any other listed currency:"
   ]
  },
  {
   "cell_type": "code",
   "execution_count": 6,
   "metadata": {},
   "outputs": [
    {
     "data": {
      "text/plain": [
       "1.25"
      ]
     },
     "execution_count": 6,
     "metadata": {},
     "output_type": "execute_result"
    }
   ],
   "source": [
    "# value of 1 USD in Canadian dollars\n",
    "rates_d['rates']['CAD']"
   ]
  }
 ],
 "metadata": {
  "kernelspec": {
   "display_name": "Python 3 (ipykernel)",
   "language": "python",
   "name": "python3"
  },
  "language_info": {
   "codemirror_mode": {
    "name": "ipython",
    "version": 3
   },
   "file_extension": ".py",
   "mimetype": "text/x-python",
   "name": "python",
   "nbconvert_exporter": "python",
   "pygments_lexer": "ipython3",
   "version": "3.8.12"
  }
 },
 "nbformat": 4,
 "nbformat_minor": 4
}
