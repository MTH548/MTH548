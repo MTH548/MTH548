{
 "cells": [
  {
   "cell_type": "markdown",
   "metadata": {},
   "source": [
    "# Plotly basics"
   ]
  },
  {
   "cell_type": "code",
   "execution_count": 11,
   "metadata": {
    "nbsphinx": "hidden"
   },
   "outputs": [],
   "source": [
    "# \"nbsphinx\": \"hidden\"\n",
    "\n",
    "import plotly.graph_objects as go\n",
    "import plotly.io as pio\n",
    "#iframe_c = pio.renderers[\"iframe_connected\"]\n",
    "#iframe_c.html_directory = \"../_static/plotly_basics/iframe_figures\"\n",
    "#pio.renderers.default = \"iframe_connected\"\n",
    "\n",
    "\n",
    "pio.templates[\"sphinx\"] = go.layout.Template(\n",
    "    layout_margin_l=30,   \n",
    "    layout_margin_r=30,\n",
    "    layout_margin_t=60,\n",
    "    layout_margin_b=30\n",
    ")\n",
    "\n",
    "pio.templates.default = \"plotly+sphinx\""
   ]
  },
  {
   "cell_type": "markdown",
   "metadata": {},
   "source": [
    "[Plotly](https://plotly.com/python/) is a library for creating interactive plots. Here we demonstrate some of its basic features.\n",
    "\n",
    "To install Plotly from inside of a Jupyter notebook execute the following code:"
   ]
  },
  {
   "cell_type": "code",
   "execution_count": 2,
   "metadata": {},
   "outputs": [],
   "source": [
    "%pip install plotly"
   ]
  },
  {
   "cell_type": "markdown",
   "metadata": {},
   "source": [
    "## Traces and figures"
   ]
  },
  {
   "cell_type": "markdown",
   "metadata": {},
   "source": [
    "Plotly module `plotly.graph_objects` defines classes that can be used to construct plots of various types. In the example below, we employ it to produce a scatter plot, which displays points with given $x$ and $y$ coordinates. This example illustrates the basic process of creating a plot with Plotly. First, we create an object with the plot data (a *trace* in the Plotly nomenclature). Then we embed the trace in a figure object and finally, we display the resulting figure. "
   ]
  },
  {
   "cell_type": "code",
   "execution_count": 27,
   "metadata": {},
   "outputs": [
    {
     "data": {
      "application/vnd.plotly.v1+json": {
       "config": {
        "plotlyServerURL": "https://plot.ly",
        "scrollZoom": true
       },
       "data": [
        {
         "line": {
          "color": "red",
          "width": 3
         },
         "mode": "lines",
         "type": "scattergl",
         "x": [
          0,
          0.3448275862068966,
          0.6896551724137931,
          1.0344827586206897,
          1.3793103448275863,
          1.7241379310344829,
          2.0689655172413794,
          2.413793103448276,
          2.7586206896551726,
          3.1034482758620694,
          3.4482758620689657,
          3.793103448275862,
          4.137931034482759,
          4.482758620689656,
          4.827586206896552,
          5.172413793103448,
          5.517241379310345,
          5.862068965517242,
          6.206896551724139,
          6.551724137931035,
          6.8965517241379315,
          7.241379310344828,
          7.586206896551724,
          7.931034482758621,
          8.275862068965518,
          8.620689655172415,
          8.965517241379311,
          9.310344827586208,
          9.655172413793103,
          10
         ],
         "y": [
          0,
          0.3380344178335103,
          0.6362711974814501,
          0.8595981763240232,
          0.9817225101058533,
          0.9882661953069056,
          0.878458827488186,
          0.6652283029348345,
          0.37367878506512486,
          0.03813512843002494,
          -0.301898272335703,
          -0.6063884337819878,
          -0.8394869669963327,
          -0.9737505981668363,
          -0.9933721339045803,
          -0.8960414816901681,
          -0.6932176228486977,
          -0.40877951799402507,
          -0.0762147772214363,
          0.26532292005567687,
          0.5756234857933761,
          0.8181544576372234,
          0.9643620571640104,
          0.9970328976918713,
          0.912320559383206,
          0.7201984378805917,
          0.4432855514721931,
          0.11418354744834988,
          -0.22836157144296196,
          -0.5440211108893699
         ]
        },
        {
         "line": {
          "color": "blue",
          "width": 3
         },
         "mode": "lines",
         "type": "scattergl",
         "x": [
          0,
          0.3448275862068966,
          0.6896551724137931,
          1.0344827586206897,
          1.3793103448275863,
          1.7241379310344829,
          2.0689655172413794,
          2.413793103448276,
          2.7586206896551726,
          3.1034482758620694,
          3.4482758620689657,
          3.793103448275862,
          4.137931034482759,
          4.482758620689656,
          4.827586206896552,
          5.172413793103448,
          5.517241379310345,
          5.862068965517242,
          6.206896551724139,
          6.551724137931035,
          6.8965517241379315,
          7.241379310344828,
          7.586206896551724,
          7.931034482758621,
          8.275862068965518,
          8.620689655172415,
          8.965517241379311,
          9.310344827586208,
          9.655172413793103,
          10
         ],
         "y": [
          1,
          0.9411337483907162,
          0.7714654647199196,
          0.5109706207409713,
          0.19031792651104298,
          -0.1527413736143978,
          -0.47781804947917306,
          -0.7466400102957517,
          -0.9275581736970745,
          -0.9992725914281976,
          -0.9533401455727739,
          -0.7951685779603139,
          -0.5433798231838372,
          -0.22761760162546435,
          0.1149426099488802,
          0.4439703403274685,
          0.7207283311845044,
          0.9126331714706476,
          0.997091423959251,
          0.9641596071673657,
          0.8177148663214354,
          0.574998507344446,
          0.2645861347508557,
          -0.07697662580387894,
          -0.4094767355134038,
          -0.6937681241411683,
          -0.8963804548605429,
          -0.9934596707929871,
          -0.9735763928362792,
          -0.8390715290764524
         ]
        }
       ],
       "layout": {
        "template": {
         "data": {
          "bar": [
           {
            "error_x": {
             "color": "#2a3f5f"
            },
            "error_y": {
             "color": "#2a3f5f"
            },
            "marker": {
             "line": {
              "color": "#E5ECF6",
              "width": 0.5
             }
            },
            "type": "bar"
           }
          ],
          "barpolar": [
           {
            "marker": {
             "line": {
              "color": "#E5ECF6",
              "width": 0.5
             }
            },
            "type": "barpolar"
           }
          ],
          "carpet": [
           {
            "aaxis": {
             "endlinecolor": "#2a3f5f",
             "gridcolor": "white",
             "linecolor": "white",
             "minorgridcolor": "white",
             "startlinecolor": "#2a3f5f"
            },
            "baxis": {
             "endlinecolor": "#2a3f5f",
             "gridcolor": "white",
             "linecolor": "white",
             "minorgridcolor": "white",
             "startlinecolor": "#2a3f5f"
            },
            "type": "carpet"
           }
          ],
          "choropleth": [
           {
            "colorbar": {
             "outlinewidth": 0,
             "ticks": ""
            },
            "type": "choropleth"
           }
          ],
          "contour": [
           {
            "colorbar": {
             "outlinewidth": 0,
             "ticks": ""
            },
            "colorscale": [
             [
              0,
              "#0d0887"
             ],
             [
              0.1111111111111111,
              "#46039f"
             ],
             [
              0.2222222222222222,
              "#7201a8"
             ],
             [
              0.3333333333333333,
              "#9c179e"
             ],
             [
              0.4444444444444444,
              "#bd3786"
             ],
             [
              0.5555555555555556,
              "#d8576b"
             ],
             [
              0.6666666666666666,
              "#ed7953"
             ],
             [
              0.7777777777777778,
              "#fb9f3a"
             ],
             [
              0.8888888888888888,
              "#fdca26"
             ],
             [
              1,
              "#f0f921"
             ]
            ],
            "type": "contour"
           }
          ],
          "contourcarpet": [
           {
            "colorbar": {
             "outlinewidth": 0,
             "ticks": ""
            },
            "type": "contourcarpet"
           }
          ],
          "heatmap": [
           {
            "colorbar": {
             "outlinewidth": 0,
             "ticks": ""
            },
            "colorscale": [
             [
              0,
              "#0d0887"
             ],
             [
              0.1111111111111111,
              "#46039f"
             ],
             [
              0.2222222222222222,
              "#7201a8"
             ],
             [
              0.3333333333333333,
              "#9c179e"
             ],
             [
              0.4444444444444444,
              "#bd3786"
             ],
             [
              0.5555555555555556,
              "#d8576b"
             ],
             [
              0.6666666666666666,
              "#ed7953"
             ],
             [
              0.7777777777777778,
              "#fb9f3a"
             ],
             [
              0.8888888888888888,
              "#fdca26"
             ],
             [
              1,
              "#f0f921"
             ]
            ],
            "type": "heatmap"
           }
          ],
          "heatmapgl": [
           {
            "colorbar": {
             "outlinewidth": 0,
             "ticks": ""
            },
            "colorscale": [
             [
              0,
              "#0d0887"
             ],
             [
              0.1111111111111111,
              "#46039f"
             ],
             [
              0.2222222222222222,
              "#7201a8"
             ],
             [
              0.3333333333333333,
              "#9c179e"
             ],
             [
              0.4444444444444444,
              "#bd3786"
             ],
             [
              0.5555555555555556,
              "#d8576b"
             ],
             [
              0.6666666666666666,
              "#ed7953"
             ],
             [
              0.7777777777777778,
              "#fb9f3a"
             ],
             [
              0.8888888888888888,
              "#fdca26"
             ],
             [
              1,
              "#f0f921"
             ]
            ],
            "type": "heatmapgl"
           }
          ],
          "histogram": [
           {
            "marker": {
             "colorbar": {
              "outlinewidth": 0,
              "ticks": ""
             }
            },
            "type": "histogram"
           }
          ],
          "histogram2d": [
           {
            "colorbar": {
             "outlinewidth": 0,
             "ticks": ""
            },
            "colorscale": [
             [
              0,
              "#0d0887"
             ],
             [
              0.1111111111111111,
              "#46039f"
             ],
             [
              0.2222222222222222,
              "#7201a8"
             ],
             [
              0.3333333333333333,
              "#9c179e"
             ],
             [
              0.4444444444444444,
              "#bd3786"
             ],
             [
              0.5555555555555556,
              "#d8576b"
             ],
             [
              0.6666666666666666,
              "#ed7953"
             ],
             [
              0.7777777777777778,
              "#fb9f3a"
             ],
             [
              0.8888888888888888,
              "#fdca26"
             ],
             [
              1,
              "#f0f921"
             ]
            ],
            "type": "histogram2d"
           }
          ],
          "histogram2dcontour": [
           {
            "colorbar": {
             "outlinewidth": 0,
             "ticks": ""
            },
            "colorscale": [
             [
              0,
              "#0d0887"
             ],
             [
              0.1111111111111111,
              "#46039f"
             ],
             [
              0.2222222222222222,
              "#7201a8"
             ],
             [
              0.3333333333333333,
              "#9c179e"
             ],
             [
              0.4444444444444444,
              "#bd3786"
             ],
             [
              0.5555555555555556,
              "#d8576b"
             ],
             [
              0.6666666666666666,
              "#ed7953"
             ],
             [
              0.7777777777777778,
              "#fb9f3a"
             ],
             [
              0.8888888888888888,
              "#fdca26"
             ],
             [
              1,
              "#f0f921"
             ]
            ],
            "type": "histogram2dcontour"
           }
          ],
          "mesh3d": [
           {
            "colorbar": {
             "outlinewidth": 0,
             "ticks": ""
            },
            "type": "mesh3d"
           }
          ],
          "parcoords": [
           {
            "line": {
             "colorbar": {
              "outlinewidth": 0,
              "ticks": ""
             }
            },
            "type": "parcoords"
           }
          ],
          "pie": [
           {
            "automargin": true,
            "type": "pie"
           }
          ],
          "scatter": [
           {
            "marker": {
             "colorbar": {
              "outlinewidth": 0,
              "ticks": ""
             }
            },
            "type": "scatter"
           }
          ],
          "scatter3d": [
           {
            "line": {
             "colorbar": {
              "outlinewidth": 0,
              "ticks": ""
             }
            },
            "marker": {
             "colorbar": {
              "outlinewidth": 0,
              "ticks": ""
             }
            },
            "type": "scatter3d"
           }
          ],
          "scattercarpet": [
           {
            "marker": {
             "colorbar": {
              "outlinewidth": 0,
              "ticks": ""
             }
            },
            "type": "scattercarpet"
           }
          ],
          "scattergeo": [
           {
            "marker": {
             "colorbar": {
              "outlinewidth": 0,
              "ticks": ""
             }
            },
            "type": "scattergeo"
           }
          ],
          "scattergl": [
           {
            "marker": {
             "colorbar": {
              "outlinewidth": 0,
              "ticks": ""
             }
            },
            "type": "scattergl"
           }
          ],
          "scattermapbox": [
           {
            "marker": {
             "colorbar": {
              "outlinewidth": 0,
              "ticks": ""
             }
            },
            "type": "scattermapbox"
           }
          ],
          "scatterpolar": [
           {
            "marker": {
             "colorbar": {
              "outlinewidth": 0,
              "ticks": ""
             }
            },
            "type": "scatterpolar"
           }
          ],
          "scatterpolargl": [
           {
            "marker": {
             "colorbar": {
              "outlinewidth": 0,
              "ticks": ""
             }
            },
            "type": "scatterpolargl"
           }
          ],
          "scatterternary": [
           {
            "marker": {
             "colorbar": {
              "outlinewidth": 0,
              "ticks": ""
             }
            },
            "type": "scatterternary"
           }
          ],
          "surface": [
           {
            "colorbar": {
             "outlinewidth": 0,
             "ticks": ""
            },
            "colorscale": [
             [
              0,
              "#0d0887"
             ],
             [
              0.1111111111111111,
              "#46039f"
             ],
             [
              0.2222222222222222,
              "#7201a8"
             ],
             [
              0.3333333333333333,
              "#9c179e"
             ],
             [
              0.4444444444444444,
              "#bd3786"
             ],
             [
              0.5555555555555556,
              "#d8576b"
             ],
             [
              0.6666666666666666,
              "#ed7953"
             ],
             [
              0.7777777777777778,
              "#fb9f3a"
             ],
             [
              0.8888888888888888,
              "#fdca26"
             ],
             [
              1,
              "#f0f921"
             ]
            ],
            "type": "surface"
           }
          ],
          "table": [
           {
            "cells": {
             "fill": {
              "color": "#EBF0F8"
             },
             "line": {
              "color": "white"
             }
            },
            "header": {
             "fill": {
              "color": "#C8D4E3"
             },
             "line": {
              "color": "white"
             }
            },
            "type": "table"
           }
          ]
         },
         "layout": {
          "annotationdefaults": {
           "arrowcolor": "#2a3f5f",
           "arrowhead": 0,
           "arrowwidth": 1
          },
          "coloraxis": {
           "colorbar": {
            "outlinewidth": 0,
            "ticks": ""
           }
          },
          "colorscale": {
           "diverging": [
            [
             0,
             "#8e0152"
            ],
            [
             0.1,
             "#c51b7d"
            ],
            [
             0.2,
             "#de77ae"
            ],
            [
             0.3,
             "#f1b6da"
            ],
            [
             0.4,
             "#fde0ef"
            ],
            [
             0.5,
             "#f7f7f7"
            ],
            [
             0.6,
             "#e6f5d0"
            ],
            [
             0.7,
             "#b8e186"
            ],
            [
             0.8,
             "#7fbc41"
            ],
            [
             0.9,
             "#4d9221"
            ],
            [
             1,
             "#276419"
            ]
           ],
           "sequential": [
            [
             0,
             "#0d0887"
            ],
            [
             0.1111111111111111,
             "#46039f"
            ],
            [
             0.2222222222222222,
             "#7201a8"
            ],
            [
             0.3333333333333333,
             "#9c179e"
            ],
            [
             0.4444444444444444,
             "#bd3786"
            ],
            [
             0.5555555555555556,
             "#d8576b"
            ],
            [
             0.6666666666666666,
             "#ed7953"
            ],
            [
             0.7777777777777778,
             "#fb9f3a"
            ],
            [
             0.8888888888888888,
             "#fdca26"
            ],
            [
             1,
             "#f0f921"
            ]
           ],
           "sequentialminus": [
            [
             0,
             "#0d0887"
            ],
            [
             0.1111111111111111,
             "#46039f"
            ],
            [
             0.2222222222222222,
             "#7201a8"
            ],
            [
             0.3333333333333333,
             "#9c179e"
            ],
            [
             0.4444444444444444,
             "#bd3786"
            ],
            [
             0.5555555555555556,
             "#d8576b"
            ],
            [
             0.6666666666666666,
             "#ed7953"
            ],
            [
             0.7777777777777778,
             "#fb9f3a"
            ],
            [
             0.8888888888888888,
             "#fdca26"
            ],
            [
             1,
             "#f0f921"
            ]
           ]
          },
          "colorway": [
           "#636efa",
           "#EF553B",
           "#00cc96",
           "#ab63fa",
           "#FFA15A",
           "#19d3f3",
           "#FF6692",
           "#B6E880",
           "#FF97FF",
           "#FECB52"
          ],
          "font": {
           "color": "#2a3f5f"
          },
          "geo": {
           "bgcolor": "white",
           "lakecolor": "white",
           "landcolor": "#E5ECF6",
           "showlakes": true,
           "showland": true,
           "subunitcolor": "white"
          },
          "hoverlabel": {
           "align": "left"
          },
          "hovermode": "closest",
          "mapbox": {
           "style": "light"
          },
          "margin": {
           "b": 30,
           "l": 30,
           "r": 30,
           "t": 60
          },
          "paper_bgcolor": "white",
          "plot_bgcolor": "#E5ECF6",
          "polar": {
           "angularaxis": {
            "gridcolor": "white",
            "linecolor": "white",
            "ticks": ""
           },
           "bgcolor": "#E5ECF6",
           "radialaxis": {
            "gridcolor": "white",
            "linecolor": "white",
            "ticks": ""
           }
          },
          "scene": {
           "xaxis": {
            "backgroundcolor": "#E5ECF6",
            "gridcolor": "white",
            "gridwidth": 2,
            "linecolor": "white",
            "showbackground": true,
            "ticks": "",
            "zerolinecolor": "white"
           },
           "yaxis": {
            "backgroundcolor": "#E5ECF6",
            "gridcolor": "white",
            "gridwidth": 2,
            "linecolor": "white",
            "showbackground": true,
            "ticks": "",
            "zerolinecolor": "white"
           },
           "zaxis": {
            "backgroundcolor": "#E5ECF6",
            "gridcolor": "white",
            "gridwidth": 2,
            "linecolor": "white",
            "showbackground": true,
            "ticks": "",
            "zerolinecolor": "white"
           }
          },
          "shapedefaults": {
           "line": {
            "color": "#2a3f5f"
           }
          },
          "ternary": {
           "aaxis": {
            "gridcolor": "white",
            "linecolor": "white",
            "ticks": ""
           },
           "baxis": {
            "gridcolor": "white",
            "linecolor": "white",
            "ticks": ""
           },
           "bgcolor": "#E5ECF6",
           "caxis": {
            "gridcolor": "white",
            "linecolor": "white",
            "ticks": ""
           }
          },
          "title": {
           "x": 0.05
          },
          "xaxis": {
           "automargin": true,
           "gridcolor": "white",
           "linecolor": "white",
           "ticks": "",
           "title": {
            "standoff": 15
           },
           "zerolinecolor": "white",
           "zerolinewidth": 2
          },
          "yaxis": {
           "automargin": true,
           "gridcolor": "white",
           "linecolor": "white",
           "ticks": "",
           "title": {
            "standoff": 15
           },
           "zerolinecolor": "white",
           "zerolinewidth": 2
          }
         }
        }
       }
      },
      "text/html": [
       "<div>\n",
       "        \n",
       "        \n",
       "            <div id=\"9e964224-7c9f-46db-bc0d-84cd15cb9f40\" class=\"plotly-graph-div\" style=\"height:525px; width:100%;\"></div>\n",
       "            <script type=\"text/javascript\">\n",
       "                require([\"plotly\"], function(Plotly) {\n",
       "                    window.PLOTLYENV=window.PLOTLYENV || {};\n",
       "                    \n",
       "                if (document.getElementById(\"9e964224-7c9f-46db-bc0d-84cd15cb9f40\")) {\n",
       "                    Plotly.newPlot(\n",
       "                        '9e964224-7c9f-46db-bc0d-84cd15cb9f40',\n",
       "                        [{\"line\": {\"color\": \"red\", \"width\": 3}, \"mode\": \"lines\", \"type\": \"scattergl\", \"x\": [0.0, 0.3448275862068966, 0.6896551724137931, 1.0344827586206897, 1.3793103448275863, 1.7241379310344829, 2.0689655172413794, 2.413793103448276, 2.7586206896551726, 3.1034482758620694, 3.4482758620689657, 3.793103448275862, 4.137931034482759, 4.482758620689656, 4.827586206896552, 5.172413793103448, 5.517241379310345, 5.862068965517242, 6.206896551724139, 6.551724137931035, 6.8965517241379315, 7.241379310344828, 7.586206896551724, 7.931034482758621, 8.275862068965518, 8.620689655172415, 8.965517241379311, 9.310344827586208, 9.655172413793103, 10.0], \"y\": [0.0, 0.3380344178335103, 0.6362711974814501, 0.8595981763240232, 0.9817225101058533, 0.9882661953069056, 0.878458827488186, 0.6652283029348345, 0.37367878506512486, 0.03813512843002494, -0.301898272335703, -0.6063884337819878, -0.8394869669963327, -0.9737505981668363, -0.9933721339045803, -0.8960414816901681, -0.6932176228486977, -0.40877951799402507, -0.0762147772214363, 0.26532292005567687, 0.5756234857933761, 0.8181544576372234, 0.9643620571640104, 0.9970328976918713, 0.912320559383206, 0.7201984378805917, 0.4432855514721931, 0.11418354744834988, -0.22836157144296196, -0.5440211108893699]}, {\"line\": {\"color\": \"blue\", \"width\": 3}, \"mode\": \"lines\", \"type\": \"scattergl\", \"x\": [0.0, 0.3448275862068966, 0.6896551724137931, 1.0344827586206897, 1.3793103448275863, 1.7241379310344829, 2.0689655172413794, 2.413793103448276, 2.7586206896551726, 3.1034482758620694, 3.4482758620689657, 3.793103448275862, 4.137931034482759, 4.482758620689656, 4.827586206896552, 5.172413793103448, 5.517241379310345, 5.862068965517242, 6.206896551724139, 6.551724137931035, 6.8965517241379315, 7.241379310344828, 7.586206896551724, 7.931034482758621, 8.275862068965518, 8.620689655172415, 8.965517241379311, 9.310344827586208, 9.655172413793103, 10.0], \"y\": [1.0, 0.9411337483907162, 0.7714654647199196, 0.5109706207409713, 0.19031792651104298, -0.1527413736143978, -0.47781804947917306, -0.7466400102957517, -0.9275581736970745, -0.9992725914281976, -0.9533401455727739, -0.7951685779603139, -0.5433798231838372, -0.22761760162546435, 0.1149426099488802, 0.4439703403274685, 0.7207283311845044, 0.9126331714706476, 0.997091423959251, 0.9641596071673657, 0.8177148663214354, 0.574998507344446, 0.2645861347508557, -0.07697662580387894, -0.4094767355134038, -0.6937681241411683, -0.8963804548605429, -0.9934596707929871, -0.9735763928362792, -0.8390715290764524]}],\n",
       "                        {\"template\": {\"data\": {\"bar\": [{\"error_x\": {\"color\": \"#2a3f5f\"}, \"error_y\": {\"color\": \"#2a3f5f\"}, \"marker\": {\"line\": {\"color\": \"#E5ECF6\", \"width\": 0.5}}, \"type\": \"bar\"}], \"barpolar\": [{\"marker\": {\"line\": {\"color\": \"#E5ECF6\", \"width\": 0.5}}, \"type\": \"barpolar\"}], \"carpet\": [{\"aaxis\": {\"endlinecolor\": \"#2a3f5f\", \"gridcolor\": \"white\", \"linecolor\": \"white\", \"minorgridcolor\": \"white\", \"startlinecolor\": \"#2a3f5f\"}, \"baxis\": {\"endlinecolor\": \"#2a3f5f\", \"gridcolor\": \"white\", \"linecolor\": \"white\", \"minorgridcolor\": \"white\", \"startlinecolor\": \"#2a3f5f\"}, \"type\": \"carpet\"}], \"choropleth\": [{\"colorbar\": {\"outlinewidth\": 0, \"ticks\": \"\"}, \"type\": \"choropleth\"}], \"contour\": [{\"colorbar\": {\"outlinewidth\": 0, \"ticks\": \"\"}, \"colorscale\": [[0.0, \"#0d0887\"], [0.1111111111111111, \"#46039f\"], [0.2222222222222222, \"#7201a8\"], [0.3333333333333333, \"#9c179e\"], [0.4444444444444444, \"#bd3786\"], [0.5555555555555556, \"#d8576b\"], [0.6666666666666666, \"#ed7953\"], [0.7777777777777778, \"#fb9f3a\"], [0.8888888888888888, \"#fdca26\"], [1.0, \"#f0f921\"]], \"type\": \"contour\"}], \"contourcarpet\": [{\"colorbar\": {\"outlinewidth\": 0, \"ticks\": \"\"}, \"type\": \"contourcarpet\"}], \"heatmap\": [{\"colorbar\": {\"outlinewidth\": 0, \"ticks\": \"\"}, \"colorscale\": [[0.0, \"#0d0887\"], [0.1111111111111111, \"#46039f\"], [0.2222222222222222, \"#7201a8\"], [0.3333333333333333, \"#9c179e\"], [0.4444444444444444, \"#bd3786\"], [0.5555555555555556, \"#d8576b\"], [0.6666666666666666, \"#ed7953\"], [0.7777777777777778, \"#fb9f3a\"], [0.8888888888888888, \"#fdca26\"], [1.0, \"#f0f921\"]], \"type\": \"heatmap\"}], \"heatmapgl\": [{\"colorbar\": {\"outlinewidth\": 0, \"ticks\": \"\"}, \"colorscale\": [[0.0, \"#0d0887\"], [0.1111111111111111, \"#46039f\"], [0.2222222222222222, \"#7201a8\"], [0.3333333333333333, \"#9c179e\"], [0.4444444444444444, \"#bd3786\"], [0.5555555555555556, \"#d8576b\"], [0.6666666666666666, \"#ed7953\"], [0.7777777777777778, \"#fb9f3a\"], [0.8888888888888888, \"#fdca26\"], [1.0, \"#f0f921\"]], \"type\": \"heatmapgl\"}], \"histogram\": [{\"marker\": {\"colorbar\": {\"outlinewidth\": 0, \"ticks\": \"\"}}, \"type\": \"histogram\"}], \"histogram2d\": [{\"colorbar\": {\"outlinewidth\": 0, \"ticks\": \"\"}, \"colorscale\": [[0.0, \"#0d0887\"], [0.1111111111111111, \"#46039f\"], [0.2222222222222222, \"#7201a8\"], [0.3333333333333333, \"#9c179e\"], [0.4444444444444444, \"#bd3786\"], [0.5555555555555556, \"#d8576b\"], [0.6666666666666666, \"#ed7953\"], [0.7777777777777778, \"#fb9f3a\"], [0.8888888888888888, \"#fdca26\"], [1.0, \"#f0f921\"]], \"type\": \"histogram2d\"}], \"histogram2dcontour\": [{\"colorbar\": {\"outlinewidth\": 0, \"ticks\": \"\"}, \"colorscale\": [[0.0, \"#0d0887\"], [0.1111111111111111, \"#46039f\"], [0.2222222222222222, \"#7201a8\"], [0.3333333333333333, \"#9c179e\"], [0.4444444444444444, \"#bd3786\"], [0.5555555555555556, \"#d8576b\"], [0.6666666666666666, \"#ed7953\"], [0.7777777777777778, \"#fb9f3a\"], [0.8888888888888888, \"#fdca26\"], [1.0, \"#f0f921\"]], \"type\": \"histogram2dcontour\"}], \"mesh3d\": [{\"colorbar\": {\"outlinewidth\": 0, \"ticks\": \"\"}, \"type\": \"mesh3d\"}], \"parcoords\": [{\"line\": {\"colorbar\": {\"outlinewidth\": 0, \"ticks\": \"\"}}, \"type\": \"parcoords\"}], \"pie\": [{\"automargin\": true, \"type\": \"pie\"}], \"scatter\": [{\"marker\": {\"colorbar\": {\"outlinewidth\": 0, \"ticks\": \"\"}}, \"type\": \"scatter\"}], \"scatter3d\": [{\"line\": {\"colorbar\": {\"outlinewidth\": 0, \"ticks\": \"\"}}, \"marker\": {\"colorbar\": {\"outlinewidth\": 0, \"ticks\": \"\"}}, \"type\": \"scatter3d\"}], \"scattercarpet\": [{\"marker\": {\"colorbar\": {\"outlinewidth\": 0, \"ticks\": \"\"}}, \"type\": \"scattercarpet\"}], \"scattergeo\": [{\"marker\": {\"colorbar\": {\"outlinewidth\": 0, \"ticks\": \"\"}}, \"type\": \"scattergeo\"}], \"scattergl\": [{\"marker\": {\"colorbar\": {\"outlinewidth\": 0, \"ticks\": \"\"}}, \"type\": \"scattergl\"}], \"scattermapbox\": [{\"marker\": {\"colorbar\": {\"outlinewidth\": 0, \"ticks\": \"\"}}, \"type\": \"scattermapbox\"}], \"scatterpolar\": [{\"marker\": {\"colorbar\": {\"outlinewidth\": 0, \"ticks\": \"\"}}, \"type\": \"scatterpolar\"}], \"scatterpolargl\": [{\"marker\": {\"colorbar\": {\"outlinewidth\": 0, \"ticks\": \"\"}}, \"type\": \"scatterpolargl\"}], \"scatterternary\": [{\"marker\": {\"colorbar\": {\"outlinewidth\": 0, \"ticks\": \"\"}}, \"type\": \"scatterternary\"}], \"surface\": [{\"colorbar\": {\"outlinewidth\": 0, \"ticks\": \"\"}, \"colorscale\": [[0.0, \"#0d0887\"], [0.1111111111111111, \"#46039f\"], [0.2222222222222222, \"#7201a8\"], [0.3333333333333333, \"#9c179e\"], [0.4444444444444444, \"#bd3786\"], [0.5555555555555556, \"#d8576b\"], [0.6666666666666666, \"#ed7953\"], [0.7777777777777778, \"#fb9f3a\"], [0.8888888888888888, \"#fdca26\"], [1.0, \"#f0f921\"]], \"type\": \"surface\"}], \"table\": [{\"cells\": {\"fill\": {\"color\": \"#EBF0F8\"}, \"line\": {\"color\": \"white\"}}, \"header\": {\"fill\": {\"color\": \"#C8D4E3\"}, \"line\": {\"color\": \"white\"}}, \"type\": \"table\"}]}, \"layout\": {\"annotationdefaults\": {\"arrowcolor\": \"#2a3f5f\", \"arrowhead\": 0, \"arrowwidth\": 1}, \"coloraxis\": {\"colorbar\": {\"outlinewidth\": 0, \"ticks\": \"\"}}, \"colorscale\": {\"diverging\": [[0, \"#8e0152\"], [0.1, \"#c51b7d\"], [0.2, \"#de77ae\"], [0.3, \"#f1b6da\"], [0.4, \"#fde0ef\"], [0.5, \"#f7f7f7\"], [0.6, \"#e6f5d0\"], [0.7, \"#b8e186\"], [0.8, \"#7fbc41\"], [0.9, \"#4d9221\"], [1, \"#276419\"]], \"sequential\": [[0.0, \"#0d0887\"], [0.1111111111111111, \"#46039f\"], [0.2222222222222222, \"#7201a8\"], [0.3333333333333333, \"#9c179e\"], [0.4444444444444444, \"#bd3786\"], [0.5555555555555556, \"#d8576b\"], [0.6666666666666666, \"#ed7953\"], [0.7777777777777778, \"#fb9f3a\"], [0.8888888888888888, \"#fdca26\"], [1.0, \"#f0f921\"]], \"sequentialminus\": [[0.0, \"#0d0887\"], [0.1111111111111111, \"#46039f\"], [0.2222222222222222, \"#7201a8\"], [0.3333333333333333, \"#9c179e\"], [0.4444444444444444, \"#bd3786\"], [0.5555555555555556, \"#d8576b\"], [0.6666666666666666, \"#ed7953\"], [0.7777777777777778, \"#fb9f3a\"], [0.8888888888888888, \"#fdca26\"], [1.0, \"#f0f921\"]]}, \"colorway\": [\"#636efa\", \"#EF553B\", \"#00cc96\", \"#ab63fa\", \"#FFA15A\", \"#19d3f3\", \"#FF6692\", \"#B6E880\", \"#FF97FF\", \"#FECB52\"], \"font\": {\"color\": \"#2a3f5f\"}, \"geo\": {\"bgcolor\": \"white\", \"lakecolor\": \"white\", \"landcolor\": \"#E5ECF6\", \"showlakes\": true, \"showland\": true, \"subunitcolor\": \"white\"}, \"hoverlabel\": {\"align\": \"left\"}, \"hovermode\": \"closest\", \"mapbox\": {\"style\": \"light\"}, \"margin\": {\"b\": 30, \"l\": 30, \"r\": 30, \"t\": 60}, \"paper_bgcolor\": \"white\", \"plot_bgcolor\": \"#E5ECF6\", \"polar\": {\"angularaxis\": {\"gridcolor\": \"white\", \"linecolor\": \"white\", \"ticks\": \"\"}, \"bgcolor\": \"#E5ECF6\", \"radialaxis\": {\"gridcolor\": \"white\", \"linecolor\": \"white\", \"ticks\": \"\"}}, \"scene\": {\"xaxis\": {\"backgroundcolor\": \"#E5ECF6\", \"gridcolor\": \"white\", \"gridwidth\": 2, \"linecolor\": \"white\", \"showbackground\": true, \"ticks\": \"\", \"zerolinecolor\": \"white\"}, \"yaxis\": {\"backgroundcolor\": \"#E5ECF6\", \"gridcolor\": \"white\", \"gridwidth\": 2, \"linecolor\": \"white\", \"showbackground\": true, \"ticks\": \"\", \"zerolinecolor\": \"white\"}, \"zaxis\": {\"backgroundcolor\": \"#E5ECF6\", \"gridcolor\": \"white\", \"gridwidth\": 2, \"linecolor\": \"white\", \"showbackground\": true, \"ticks\": \"\", \"zerolinecolor\": \"white\"}}, \"shapedefaults\": {\"line\": {\"color\": \"#2a3f5f\"}}, \"ternary\": {\"aaxis\": {\"gridcolor\": \"white\", \"linecolor\": \"white\", \"ticks\": \"\"}, \"baxis\": {\"gridcolor\": \"white\", \"linecolor\": \"white\", \"ticks\": \"\"}, \"bgcolor\": \"#E5ECF6\", \"caxis\": {\"gridcolor\": \"white\", \"linecolor\": \"white\", \"ticks\": \"\"}}, \"title\": {\"x\": 0.05}, \"xaxis\": {\"automargin\": true, \"gridcolor\": \"white\", \"linecolor\": \"white\", \"ticks\": \"\", \"title\": {\"standoff\": 15}, \"zerolinecolor\": \"white\", \"zerolinewidth\": 2}, \"yaxis\": {\"automargin\": true, \"gridcolor\": \"white\", \"linecolor\": \"white\", \"ticks\": \"\", \"title\": {\"standoff\": 15}, \"zerolinecolor\": \"white\", \"zerolinewidth\": 2}}}},\n",
       "                        {\"scrollZoom\": true, \"responsive\": true}\n",
       "                    ).then(function(){\n",
       "                            \n",
       "var gd = document.getElementById('9e964224-7c9f-46db-bc0d-84cd15cb9f40');\n",
       "var x = new MutationObserver(function (mutations, observer) {{\n",
       "        var display = window.getComputedStyle(gd).display;\n",
       "        if (!display || display === 'none') {{\n",
       "            console.log([gd, 'removed!']);\n",
       "            Plotly.purge(gd);\n",
       "            observer.disconnect();\n",
       "        }}\n",
       "}});\n",
       "\n",
       "// Listen for the removal of the full notebook cells\n",
       "var notebookContainer = gd.closest('#notebook-container');\n",
       "if (notebookContainer) {{\n",
       "    x.observe(notebookContainer, {childList: true});\n",
       "}}\n",
       "\n",
       "// Listen for the clearing of the current output cell\n",
       "var outputEl = gd.closest('.output');\n",
       "if (outputEl) {{\n",
       "    x.observe(outputEl, {childList: true});\n",
       "}}\n",
       "\n",
       "                        })\n",
       "                };\n",
       "                });\n",
       "            </script>\n",
       "        </div>"
      ]
     },
     "metadata": {},
     "output_type": "display_data"
    }
   ],
   "source": [
    "import plotly.graph_objects as go\n",
    "import numpy as np\n",
    "\n",
    "t = np.linspace(0, 10, 30)\n",
    "\n",
    "# create a trace\n",
    "sin_plot = go.Scattergl(                                 \n",
    "                      x=t,                           # x-coordinates of points\n",
    "                      y=np.sin(t),                   # y-coordinates \n",
    "                      mode='lines',                # use markers to plot points\n",
    "                      line={'color' : \"red\", 'width' : 3})\n",
    "\n",
    "cos_plot = go.Scattergl(                                 \n",
    "                      x=t,                           # x-coordinates of points\n",
    "                      y=np.cos(t),                   # y-coordinates \n",
    "                      mode='lines',                # use markers to plot points\n",
    "                      line={'color' : \"blue\", 'width' : 3})\n",
    "\n",
    "# create a figure with the trace\n",
    "fig = go.Figure(data=[sin_plot, cos_plot])\n",
    "# display the figure\n",
    "fig.show(config = dict({'scrollZoom': True,})) "
   ]
  },
  {
   "cell_type": "markdown",
   "metadata": {},
   "source": [
    "In a scatter plot the `mode` argument specifies how points in a plot should be displayed. If we set `mode = 'markers'` then each point will be indicated by a marker. If, instead, we set `mode = 'lines'`, then points will be connected with straight line segments:  "
   ]
  },
  {
   "cell_type": "code",
   "execution_count": 4,
   "metadata": {
    "scrolled": false
   },
   "outputs": [
    {
     "data": {
      "text/html": [
       "<iframe\n",
       "    scrolling=\"no\"\n",
       "    width=\"100%\"\n",
       "    height=\"370\"\n",
       "    src=\"../_static/plotly_basics/iframe_figures/figure_4.html\"\n",
       "    frameborder=\"0\"\n",
       "    allowfullscreen\n",
       "></iframe>\n"
      ]
     },
     "metadata": {},
     "output_type": "display_data"
    }
   ],
   "source": [
    "t = np.linspace(0, 10, 30)\n",
    "\n",
    "sin_plot = go.Scatter(                          \n",
    "                      x=t,                    \n",
    "                      y=np.sin(t),            \n",
    "                      mode='lines',           # connect points with line segments\n",
    "                      line={'color': 'Blue',  # dictionary of line properties\n",
    "                              'width': 4})\n",
    "\n",
    "fig = go.Figure(data=sin_plot)\n",
    "fig.show() "
   ]
  },
  {
   "cell_type": "markdown",
   "metadata": {},
   "source": [
    "If is possible to combine `mode` values. By setting `mode='lines+markers'` we can produce a plot showing both lines and markers:"
   ]
  },
  {
   "cell_type": "code",
   "execution_count": 5,
   "metadata": {},
   "outputs": [
    {
     "data": {
      "text/html": [
       "<iframe\n",
       "    scrolling=\"no\"\n",
       "    width=\"100%\"\n",
       "    height=\"370\"\n",
       "    src=\"../_static/plotly_basics/iframe_figures/figure_5.html\"\n",
       "    frameborder=\"0\"\n",
       "    allowfullscreen\n",
       "></iframe>\n"
      ]
     },
     "metadata": {},
     "output_type": "display_data"
    }
   ],
   "source": [
    "t = np.linspace(0, 10, 30)\n",
    "\n",
    "sin_plot = go.Scatter(                                 \n",
    "                      x=t,                           \n",
    "                      y=np.sin(t),                   \n",
    "                      mode='lines+markers',         # plot lines and markers\n",
    "                      line={'color': 'Green',       # dictionary of line properties\n",
    "                              'width': 4},\n",
    "                      marker={'symbol': 'diamond',  # dictionary of marker properties\n",
    "                                'color': 'Red',\n",
    "                                'size': 10})\n",
    "\n",
    "fig = go.Figure(data = sin_plot)\n",
    "fig.show() "
   ]
  },
  {
   "cell_type": "markdown",
   "metadata": {},
   "source": [
    "A figure can contain several traces. Below we define two traces and display them in one figure. Notice that Plotly automatically creates a legend identifying each trace.  "
   ]
  },
  {
   "cell_type": "code",
   "execution_count": 6,
   "metadata": {},
   "outputs": [
    {
     "data": {
      "text/html": [
       "<iframe\n",
       "    scrolling=\"no\"\n",
       "    width=\"100%\"\n",
       "    height=\"370\"\n",
       "    src=\"../_static/plotly_basics/iframe_figures/figure_6.html\"\n",
       "    frameborder=\"0\"\n",
       "    allowfullscreen\n",
       "></iframe>\n"
      ]
     },
     "metadata": {},
     "output_type": "display_data"
    }
   ],
   "source": [
    "t = np.linspace(0, 10, 50)\n",
    "\n",
    "# trace of sine function\n",
    "cos_plot = go.Scatter(x=t, \n",
    "                      y=np.cos(t), \n",
    "                      mode='lines', \n",
    "                      name='sin(t)')  # name of the trace for the legend\n",
    "\n",
    "# trace of cosine function\n",
    "sin_plot = go.Scatter(x=t, \n",
    "                      y=np.sin(t), \n",
    "                      mode='lines', \n",
    "                      name='cos(t)')  # name of the trace for the legend\n",
    "\n",
    "\n",
    "# a figure with a list of traces to be displayed\n",
    "fig = go.Figure(data=[sin_plot, cos_plot])\n",
    "fig.show() "
   ]
  },
  {
   "cell_type": "markdown",
   "metadata": {},
   "source": [
    "## Figure layout\n",
    "\n",
    "So far we created figure objects using only one argument, `data`, which specifies which traces are included in the figure. The second commonly used argument is `layout`. It can be used to set the general properties of the figure: its  title, width, height, the location of the legend etc.:"
   ]
  },
  {
   "cell_type": "code",
   "execution_count": 7,
   "metadata": {},
   "outputs": [
    {
     "data": {
      "text/html": [
       "<iframe\n",
       "    scrolling=\"no\"\n",
       "    width=\"770px\"\n",
       "    height=\"220\"\n",
       "    src=\"../_static/plotly_basics/iframe_figures/figure_7.html\"\n",
       "    frameborder=\"0\"\n",
       "    allowfullscreen\n",
       "></iframe>\n"
      ]
     },
     "metadata": {},
     "output_type": "display_data"
    }
   ],
   "source": [
    "fig = go.Figure(data=[sin_plot, cos_plot],\n",
    "                layout={'title': {'text': \"Sine and cosine\",       # figure title properties\n",
    "                                    'font': {'size': 24, \n",
    "                                              'color': 'Green'}},\n",
    "                          'legend' : {'title': {'text': \"Legend\"}, # legend properties\n",
    "                                     'y': 0},                    \n",
    "                          'width': 750,                            # figure width\n",
    "                          'height': 200})                          # figure height                          \n",
    "fig.show() "
   ]
  },
  {
   "cell_type": "markdown",
   "metadata": {},
   "source": [
    "Nested dictionaries, such as these used above to specify layout properties, are commonly used in Plotly code. Internally Plotly represents each figure as such a dictionary. The `fig.to_dict()` method returns a dictionary describing the figure. Here we apply it to the figure displaced above:"
   ]
  },
  {
   "cell_type": "code",
   "execution_count": 8,
   "metadata": {},
   "outputs": [
    {
     "data": {
      "text/plain": [
       "{'data': [{'mode': 'lines',\n",
       "   'name': 'cos(t)',\n",
       "   'x': array([ 0.        ,  0.20408163,  0.40816327,  0.6122449 ,  0.81632653,\n",
       "           1.02040816,  1.2244898 ,  1.42857143,  1.63265306,  1.83673469,\n",
       "           2.04081633,  2.24489796,  2.44897959,  2.65306122,  2.85714286,\n",
       "           3.06122449,  3.26530612,  3.46938776,  3.67346939,  3.87755102,\n",
       "           4.08163265,  4.28571429,  4.48979592,  4.69387755,  4.89795918,\n",
       "           5.10204082,  5.30612245,  5.51020408,  5.71428571,  5.91836735,\n",
       "           6.12244898,  6.32653061,  6.53061224,  6.73469388,  6.93877551,\n",
       "           7.14285714,  7.34693878,  7.55102041,  7.75510204,  7.95918367,\n",
       "           8.16326531,  8.36734694,  8.57142857,  8.7755102 ,  8.97959184,\n",
       "           9.18367347,  9.3877551 ,  9.59183673,  9.79591837, 10.        ]),\n",
       "   'y': array([ 0.        ,  0.20266794,  0.39692415,  0.57470604,  0.72863478,\n",
       "           0.85232157,  0.94063279,  0.98990308,  0.99808748,  0.96484631,\n",
       "           0.89155923,  0.78126802,  0.63855032,  0.46932961,  0.2806294 ,\n",
       "           0.08028167, -0.12339814, -0.32195632, -0.50715171, -0.67129779,\n",
       "          -0.80758169, -0.91034694, -0.97532829, -0.99982867, -0.9828312 ,\n",
       "          -0.92504137, -0.82885774, -0.6982724 , -0.53870529, -0.35677924,\n",
       "          -0.16004509,  0.04333173,  0.24491007,  0.43632343,  0.6096272 ,\n",
       "           0.75762842,  0.8741843 ,  0.9544572 ,  0.99511539,  0.99447137,\n",
       "           0.95255185,  0.8710967 ,  0.75348673,  0.60460332,  0.43062587,\n",
       "           0.23877532,  0.0370144 , -0.16628279, -0.36267843, -0.54402111]),\n",
       "   'type': 'scatter'},\n",
       "  {'mode': 'lines',\n",
       "   'name': 'sin(t)',\n",
       "   'x': array([ 0.        ,  0.20408163,  0.40816327,  0.6122449 ,  0.81632653,\n",
       "           1.02040816,  1.2244898 ,  1.42857143,  1.63265306,  1.83673469,\n",
       "           2.04081633,  2.24489796,  2.44897959,  2.65306122,  2.85714286,\n",
       "           3.06122449,  3.26530612,  3.46938776,  3.67346939,  3.87755102,\n",
       "           4.08163265,  4.28571429,  4.48979592,  4.69387755,  4.89795918,\n",
       "           5.10204082,  5.30612245,  5.51020408,  5.71428571,  5.91836735,\n",
       "           6.12244898,  6.32653061,  6.53061224,  6.73469388,  6.93877551,\n",
       "           7.14285714,  7.34693878,  7.55102041,  7.75510204,  7.95918367,\n",
       "           8.16326531,  8.36734694,  8.57142857,  8.7755102 ,  8.97959184,\n",
       "           9.18367347,  9.3877551 ,  9.59183673,  9.79591837, 10.        ]),\n",
       "   'y': array([ 1.        ,  0.97924752,  0.91785141,  0.81835992,  0.68490244,\n",
       "           0.52301811,  0.33942593,  0.1417459 , -0.0618173 , -0.26281476,\n",
       "          -0.45290412, -0.6241957 , -0.76958007, -0.88302305, -0.9598162 ,\n",
       "          -0.99677222, -0.99235724, -0.94675453, -0.8618568 , -0.74118774,\n",
       "          -0.58975572, -0.41384591, -0.22075945, -0.01851037,  0.18450698,\n",
       "           0.37986637,  0.55945943,  0.71583215,  0.84249428,  0.93418872,\n",
       "           0.98710971,  0.99906074,  0.9695458 ,  0.8997899 ,  0.79268826,\n",
       "           0.65268613,  0.48559429,  0.29834787,  0.09871854, -0.10500809,\n",
       "          -0.30437638, -0.49111153, -0.65746312, -0.79652673, -0.90253053,\n",
       "          -0.97107484, -0.99931473, -0.98607811, -0.93191435, -0.83907153]),\n",
       "   'type': 'scatter'}],\n",
       " 'layout': {'height': 200,\n",
       "  'legend': {'title': {'text': 'Legend'}, 'y': 0},\n",
       "  'title': {'font': {'color': 'Green', 'size': 24}, 'text': 'Sine and cosine'},\n",
       "  'width': 750,\n",
       "  'template': {'data': {'barpolar': [{'marker': {'line': {'color': '#E5ECF6',\n",
       "        'width': 0.5}},\n",
       "      'type': 'barpolar'}],\n",
       "    'bar': [{'error_x': {'color': '#2a3f5f'},\n",
       "      'error_y': {'color': '#2a3f5f'},\n",
       "      'marker': {'line': {'color': '#E5ECF6', 'width': 0.5}},\n",
       "      'type': 'bar'}],\n",
       "    'carpet': [{'aaxis': {'endlinecolor': '#2a3f5f',\n",
       "       'gridcolor': 'white',\n",
       "       'linecolor': 'white',\n",
       "       'minorgridcolor': 'white',\n",
       "       'startlinecolor': '#2a3f5f'},\n",
       "      'baxis': {'endlinecolor': '#2a3f5f',\n",
       "       'gridcolor': 'white',\n",
       "       'linecolor': 'white',\n",
       "       'minorgridcolor': 'white',\n",
       "       'startlinecolor': '#2a3f5f'},\n",
       "      'type': 'carpet'}],\n",
       "    'choropleth': [{'colorbar': {'outlinewidth': 0, 'ticks': ''},\n",
       "      'type': 'choropleth'}],\n",
       "    'contourcarpet': [{'colorbar': {'outlinewidth': 0, 'ticks': ''},\n",
       "      'type': 'contourcarpet'}],\n",
       "    'contour': [{'colorbar': {'outlinewidth': 0, 'ticks': ''},\n",
       "      'colorscale': [[0.0, '#0d0887'],\n",
       "       [0.1111111111111111, '#46039f'],\n",
       "       [0.2222222222222222, '#7201a8'],\n",
       "       [0.3333333333333333, '#9c179e'],\n",
       "       [0.4444444444444444, '#bd3786'],\n",
       "       [0.5555555555555556, '#d8576b'],\n",
       "       [0.6666666666666666, '#ed7953'],\n",
       "       [0.7777777777777778, '#fb9f3a'],\n",
       "       [0.8888888888888888, '#fdca26'],\n",
       "       [1.0, '#f0f921']],\n",
       "      'type': 'contour'}],\n",
       "    'heatmapgl': [{'colorbar': {'outlinewidth': 0, 'ticks': ''},\n",
       "      'colorscale': [[0.0, '#0d0887'],\n",
       "       [0.1111111111111111, '#46039f'],\n",
       "       [0.2222222222222222, '#7201a8'],\n",
       "       [0.3333333333333333, '#9c179e'],\n",
       "       [0.4444444444444444, '#bd3786'],\n",
       "       [0.5555555555555556, '#d8576b'],\n",
       "       [0.6666666666666666, '#ed7953'],\n",
       "       [0.7777777777777778, '#fb9f3a'],\n",
       "       [0.8888888888888888, '#fdca26'],\n",
       "       [1.0, '#f0f921']],\n",
       "      'type': 'heatmapgl'}],\n",
       "    'heatmap': [{'colorbar': {'outlinewidth': 0, 'ticks': ''},\n",
       "      'colorscale': [[0.0, '#0d0887'],\n",
       "       [0.1111111111111111, '#46039f'],\n",
       "       [0.2222222222222222, '#7201a8'],\n",
       "       [0.3333333333333333, '#9c179e'],\n",
       "       [0.4444444444444444, '#bd3786'],\n",
       "       [0.5555555555555556, '#d8576b'],\n",
       "       [0.6666666666666666, '#ed7953'],\n",
       "       [0.7777777777777778, '#fb9f3a'],\n",
       "       [0.8888888888888888, '#fdca26'],\n",
       "       [1.0, '#f0f921']],\n",
       "      'type': 'heatmap'}],\n",
       "    'histogram2dcontour': [{'colorbar': {'outlinewidth': 0, 'ticks': ''},\n",
       "      'colorscale': [[0.0, '#0d0887'],\n",
       "       [0.1111111111111111, '#46039f'],\n",
       "       [0.2222222222222222, '#7201a8'],\n",
       "       [0.3333333333333333, '#9c179e'],\n",
       "       [0.4444444444444444, '#bd3786'],\n",
       "       [0.5555555555555556, '#d8576b'],\n",
       "       [0.6666666666666666, '#ed7953'],\n",
       "       [0.7777777777777778, '#fb9f3a'],\n",
       "       [0.8888888888888888, '#fdca26'],\n",
       "       [1.0, '#f0f921']],\n",
       "      'type': 'histogram2dcontour'}],\n",
       "    'histogram2d': [{'colorbar': {'outlinewidth': 0, 'ticks': ''},\n",
       "      'colorscale': [[0.0, '#0d0887'],\n",
       "       [0.1111111111111111, '#46039f'],\n",
       "       [0.2222222222222222, '#7201a8'],\n",
       "       [0.3333333333333333, '#9c179e'],\n",
       "       [0.4444444444444444, '#bd3786'],\n",
       "       [0.5555555555555556, '#d8576b'],\n",
       "       [0.6666666666666666, '#ed7953'],\n",
       "       [0.7777777777777778, '#fb9f3a'],\n",
       "       [0.8888888888888888, '#fdca26'],\n",
       "       [1.0, '#f0f921']],\n",
       "      'type': 'histogram2d'}],\n",
       "    'histogram': [{'marker': {'colorbar': {'outlinewidth': 0, 'ticks': ''}},\n",
       "      'type': 'histogram'}],\n",
       "    'mesh3d': [{'colorbar': {'outlinewidth': 0, 'ticks': ''},\n",
       "      'type': 'mesh3d'}],\n",
       "    'parcoords': [{'line': {'colorbar': {'outlinewidth': 0, 'ticks': ''}},\n",
       "      'type': 'parcoords'}],\n",
       "    'pie': [{'automargin': True, 'type': 'pie'}],\n",
       "    'scatter3d': [{'line': {'colorbar': {'outlinewidth': 0, 'ticks': ''}},\n",
       "      'marker': {'colorbar': {'outlinewidth': 0, 'ticks': ''}},\n",
       "      'type': 'scatter3d'}],\n",
       "    'scattercarpet': [{'marker': {'colorbar': {'outlinewidth': 0,\n",
       "        'ticks': ''}},\n",
       "      'type': 'scattercarpet'}],\n",
       "    'scattergeo': [{'marker': {'colorbar': {'outlinewidth': 0, 'ticks': ''}},\n",
       "      'type': 'scattergeo'}],\n",
       "    'scattergl': [{'marker': {'colorbar': {'outlinewidth': 0, 'ticks': ''}},\n",
       "      'type': 'scattergl'}],\n",
       "    'scattermapbox': [{'marker': {'colorbar': {'outlinewidth': 0,\n",
       "        'ticks': ''}},\n",
       "      'type': 'scattermapbox'}],\n",
       "    'scatterpolargl': [{'marker': {'colorbar': {'outlinewidth': 0,\n",
       "        'ticks': ''}},\n",
       "      'type': 'scatterpolargl'}],\n",
       "    'scatterpolar': [{'marker': {'colorbar': {'outlinewidth': 0, 'ticks': ''}},\n",
       "      'type': 'scatterpolar'}],\n",
       "    'scatter': [{'marker': {'colorbar': {'outlinewidth': 0, 'ticks': ''}},\n",
       "      'type': 'scatter'}],\n",
       "    'scatterternary': [{'marker': {'colorbar': {'outlinewidth': 0,\n",
       "        'ticks': ''}},\n",
       "      'type': 'scatterternary'}],\n",
       "    'surface': [{'colorbar': {'outlinewidth': 0, 'ticks': ''},\n",
       "      'colorscale': [[0.0, '#0d0887'],\n",
       "       [0.1111111111111111, '#46039f'],\n",
       "       [0.2222222222222222, '#7201a8'],\n",
       "       [0.3333333333333333, '#9c179e'],\n",
       "       [0.4444444444444444, '#bd3786'],\n",
       "       [0.5555555555555556, '#d8576b'],\n",
       "       [0.6666666666666666, '#ed7953'],\n",
       "       [0.7777777777777778, '#fb9f3a'],\n",
       "       [0.8888888888888888, '#fdca26'],\n",
       "       [1.0, '#f0f921']],\n",
       "      'type': 'surface'}],\n",
       "    'table': [{'cells': {'fill': {'color': '#EBF0F8'},\n",
       "       'line': {'color': 'white'}},\n",
       "      'header': {'fill': {'color': '#C8D4E3'}, 'line': {'color': 'white'}},\n",
       "      'type': 'table'}]},\n",
       "   'layout': {'annotationdefaults': {'arrowcolor': '#2a3f5f',\n",
       "     'arrowhead': 0,\n",
       "     'arrowwidth': 1},\n",
       "    'coloraxis': {'colorbar': {'outlinewidth': 0, 'ticks': ''}},\n",
       "    'colorscale': {'diverging': [[0, '#8e0152'],\n",
       "      [0.1, '#c51b7d'],\n",
       "      [0.2, '#de77ae'],\n",
       "      [0.3, '#f1b6da'],\n",
       "      [0.4, '#fde0ef'],\n",
       "      [0.5, '#f7f7f7'],\n",
       "      [0.6, '#e6f5d0'],\n",
       "      [0.7, '#b8e186'],\n",
       "      [0.8, '#7fbc41'],\n",
       "      [0.9, '#4d9221'],\n",
       "      [1, '#276419']],\n",
       "     'sequential': [[0.0, '#0d0887'],\n",
       "      [0.1111111111111111, '#46039f'],\n",
       "      [0.2222222222222222, '#7201a8'],\n",
       "      [0.3333333333333333, '#9c179e'],\n",
       "      [0.4444444444444444, '#bd3786'],\n",
       "      [0.5555555555555556, '#d8576b'],\n",
       "      [0.6666666666666666, '#ed7953'],\n",
       "      [0.7777777777777778, '#fb9f3a'],\n",
       "      [0.8888888888888888, '#fdca26'],\n",
       "      [1.0, '#f0f921']],\n",
       "     'sequentialminus': [[0.0, '#0d0887'],\n",
       "      [0.1111111111111111, '#46039f'],\n",
       "      [0.2222222222222222, '#7201a8'],\n",
       "      [0.3333333333333333, '#9c179e'],\n",
       "      [0.4444444444444444, '#bd3786'],\n",
       "      [0.5555555555555556, '#d8576b'],\n",
       "      [0.6666666666666666, '#ed7953'],\n",
       "      [0.7777777777777778, '#fb9f3a'],\n",
       "      [0.8888888888888888, '#fdca26'],\n",
       "      [1.0, '#f0f921']]},\n",
       "    'colorway': ['#636efa',\n",
       "     '#EF553B',\n",
       "     '#00cc96',\n",
       "     '#ab63fa',\n",
       "     '#FFA15A',\n",
       "     '#19d3f3',\n",
       "     '#FF6692',\n",
       "     '#B6E880',\n",
       "     '#FF97FF',\n",
       "     '#FECB52'],\n",
       "    'font': {'color': '#2a3f5f'},\n",
       "    'geo': {'bgcolor': 'white',\n",
       "     'lakecolor': 'white',\n",
       "     'landcolor': '#E5ECF6',\n",
       "     'showlakes': True,\n",
       "     'showland': True,\n",
       "     'subunitcolor': 'white'},\n",
       "    'hoverlabel': {'align': 'left'},\n",
       "    'hovermode': 'closest',\n",
       "    'mapbox': {'style': 'light'},\n",
       "    'paper_bgcolor': 'white',\n",
       "    'plot_bgcolor': '#E5ECF6',\n",
       "    'polar': {'angularaxis': {'gridcolor': 'white',\n",
       "      'linecolor': 'white',\n",
       "      'ticks': ''},\n",
       "     'bgcolor': '#E5ECF6',\n",
       "     'radialaxis': {'gridcolor': 'white', 'linecolor': 'white', 'ticks': ''}},\n",
       "    'scene': {'xaxis': {'backgroundcolor': '#E5ECF6',\n",
       "      'gridcolor': 'white',\n",
       "      'gridwidth': 2,\n",
       "      'linecolor': 'white',\n",
       "      'showbackground': True,\n",
       "      'ticks': '',\n",
       "      'zerolinecolor': 'white'},\n",
       "     'yaxis': {'backgroundcolor': '#E5ECF6',\n",
       "      'gridcolor': 'white',\n",
       "      'gridwidth': 2,\n",
       "      'linecolor': 'white',\n",
       "      'showbackground': True,\n",
       "      'ticks': '',\n",
       "      'zerolinecolor': 'white'},\n",
       "     'zaxis': {'backgroundcolor': '#E5ECF6',\n",
       "      'gridcolor': 'white',\n",
       "      'gridwidth': 2,\n",
       "      'linecolor': 'white',\n",
       "      'showbackground': True,\n",
       "      'ticks': '',\n",
       "      'zerolinecolor': 'white'}},\n",
       "    'shapedefaults': {'line': {'color': '#2a3f5f'}},\n",
       "    'ternary': {'aaxis': {'gridcolor': 'white',\n",
       "      'linecolor': 'white',\n",
       "      'ticks': ''},\n",
       "     'baxis': {'gridcolor': 'white', 'linecolor': 'white', 'ticks': ''},\n",
       "     'bgcolor': '#E5ECF6',\n",
       "     'caxis': {'gridcolor': 'white', 'linecolor': 'white', 'ticks': ''}},\n",
       "    'title': {'x': 0.05},\n",
       "    'xaxis': {'automargin': True,\n",
       "     'gridcolor': 'white',\n",
       "     'linecolor': 'white',\n",
       "     'ticks': '',\n",
       "     'title': {'standoff': 15},\n",
       "     'zerolinecolor': 'white',\n",
       "     'zerolinewidth': 2},\n",
       "    'yaxis': {'automargin': True,\n",
       "     'gridcolor': 'white',\n",
       "     'linecolor': 'white',\n",
       "     'ticks': '',\n",
       "     'title': {'standoff': 15},\n",
       "     'zerolinecolor': 'white',\n",
       "     'zerolinewidth': 2},\n",
       "    'margin': {'b': 30, 'l': 30, 'r': 30, 't': 60}}}}}"
      ]
     },
     "execution_count": 8,
     "metadata": {},
     "output_type": "execute_result"
    }
   ],
   "source": [
    "fig.to_dict()"
   ]
  },
  {
   "cell_type": "markdown",
   "metadata": {},
   "source": [
    "## Underscore Notation"
   ]
  },
  {
   "cell_type": "markdown",
   "metadata": {},
   "source": [
    "It can be cumbersome to specify properties of traces and figures using nested dictionaries. We can often avoid such difficulties by using Plotly's  underscore notation. This notation lets us denote by `dict_k` the value of the dictionary `dict` assigned to the key `k`. For example, using this notation the assignment "
   ]
  },
  {
   "cell_type": "raw",
   "metadata": {
    "raw_mimetype": "text/restructuredtext"
   },
   "source": [
    ".. code-block:: python\n",
    "\n",
    "   layout = {'width' : 750,  'height' : 200}"
   ]
  },
  {
   "cell_type": "markdown",
   "metadata": {},
   "source": [
    "is equivalent to: "
   ]
  },
  {
   "cell_type": "raw",
   "metadata": {
    "raw_mimetype": "text/restructuredtext"
   },
   "source": [
    ".. code-block:: python\n",
    "\n",
    "   layout_width = 750\n",
    "   layout_height = 200"
   ]
  },
  {
   "cell_type": "markdown",
   "metadata": {},
   "source": [
    "The underscore notation can be used recursively with nested dictionaries. In this way the code "
   ]
  },
  {
   "cell_type": "raw",
   "metadata": {
    "raw_mimetype": "text/restructuredtext"
   },
   "source": [
    ".. code-block:: python\n",
    "\n",
    "   layout = {'title': {'text' : \"Sine and cosine\",                 \n",
    "                       'font' : {'size' : 24, 'color' : 'Green'}}"
   ]
  },
  {
   "cell_type": "markdown",
   "metadata": {},
   "source": [
    "can be rewritten as follows:"
   ]
  },
  {
   "cell_type": "raw",
   "metadata": {
    "raw_mimetype": "text/restructuredtext"
   },
   "source": [
    ".. code-block:: python\n",
    "\n",
    "   layout_title_text =  \"Sine and cosine\"\n",
    "   layout_title_font_size = 24\n",
    "   layout_title_font_color = 'Green'"
   ]
  },
  {
   "cell_type": "markdown",
   "metadata": {},
   "source": [
    "The code below creates the same plot as the one in the last example, but uses the underscore notation in place of nested dictionaries:"
   ]
  },
  {
   "cell_type": "code",
   "execution_count": 9,
   "metadata": {},
   "outputs": [
    {
     "data": {
      "text/html": [
       "<iframe\n",
       "    scrolling=\"no\"\n",
       "    width=\"770px\"\n",
       "    height=\"220\"\n",
       "    src=\"../_static/plotly_basics/iframe_figures/figure_9.html\"\n",
       "    frameborder=\"0\"\n",
       "    allowfullscreen\n",
       "></iframe>\n"
      ]
     },
     "metadata": {},
     "output_type": "display_data"
    }
   ],
   "source": [
    "fig = go.Figure(data=[sin_plot, cos_plot],\n",
    "                layout_title_text= \"Sine and cosine\",           \n",
    "                layout_title_font_size=24,\n",
    "                layout_title_font_color='Green',\n",
    "                layout_legend_title_text=\"Legend\",\n",
    "                layout_legend_y=0,                    \n",
    "                layout_width=750,\n",
    "                layout_height=200)\n",
    "fig.show() "
   ]
  },
  {
   "cell_type": "markdown",
   "metadata": {},
   "source": [
    "## Updating layout"
   ]
  },
  {
   "cell_type": "markdown",
   "metadata": {},
   "source": [
    "The `fig.update_layout()` method lets us modify figure layout after the figure has been created. We can use use it with either dictionaries or the underscore notation. Since all arguments of this method apply to the layout, the `layout_` part of the underscore notation is omitted:"
   ]
  },
  {
   "cell_type": "code",
   "execution_count": 10,
   "metadata": {},
   "outputs": [
    {
     "data": {
      "text/html": [
       "<iframe\n",
       "    scrolling=\"no\"\n",
       "    width=\"770px\"\n",
       "    height=\"220\"\n",
       "    src=\"../_static/plotly_basics/iframe_figures/figure_10.html\"\n",
       "    frameborder=\"0\"\n",
       "    allowfullscreen\n",
       "></iframe>\n"
      ]
     },
     "metadata": {},
     "output_type": "display_data"
    }
   ],
   "source": [
    "# create a figure\n",
    "fig = go.Figure(data=[sin_plot, cos_plot],\n",
    "                layout_title_text=\"Sine and cosine\",\n",
    "                layout_title_font_size=24,\n",
    "                layout_title_font_color='Green',\n",
    "                layout_width=750,\n",
    "                layout_height=200)\n",
    "\n",
    "# modify some title properties\n",
    "fig.update_layout(title_text=\"New title\", title_font_color=\"Red\")\n",
    "fig.show()"
   ]
  },
  {
   "cell_type": "markdown",
   "metadata": {},
   "source": [
    "## Updating traces"
   ]
  },
  {
   "cell_type": "markdown",
   "metadata": {},
   "source": [
    "The method `fig.update_traces()` can be used to update traces embedded in an existing figure."
   ]
  },
  {
   "cell_type": "code",
   "execution_count": 11,
   "metadata": {},
   "outputs": [
    {
     "data": {
      "text/html": [
       "<iframe\n",
       "    scrolling=\"no\"\n",
       "    width=\"770px\"\n",
       "    height=\"220\"\n",
       "    src=\"../_static/plotly_basics/iframe_figures/figure_11.html\"\n",
       "    frameborder=\"0\"\n",
       "    allowfullscreen\n",
       "></iframe>\n"
      ]
     },
     "metadata": {},
     "output_type": "display_data"
    }
   ],
   "source": [
    "t = np.linspace(0, 10, 30)\n",
    "\n",
    "\n",
    "cos_plot = go.Scatter(x=t, y=np.cos(t), \n",
    "                      mode='lines', \n",
    "                      line_dash='dash',   # dashed line\n",
    "                      line_color=\"Blue\")  \n",
    "\n",
    "sin_plot = go.Scatter(x=t, y=np.sin(t), \n",
    "                      mode='lines', \n",
    "                      line_color=\"Red\") \n",
    "\n",
    "# create a figure\n",
    "fig = go.Figure(data=[sin_plot, cos_plot],\n",
    "                layout_width=750,\n",
    "                layout_height=200)\n",
    "\n",
    "# modify line width and color\n",
    "fig.update_traces(line_color=\"Green\", line_width=4)\n",
    "fig.show()"
   ]
  },
  {
   "cell_type": "markdown",
   "metadata": {},
   "source": [
    "By default, `fig.update_traces()` modifies to all figure traces. To get more control, we can use it with a `selector` argument. When this argument is assigned to a dictionary, only traces which have properties corresponding to the dictionary keys with values equal to the respective dictionary values will be updated:"
   ]
  },
  {
   "cell_type": "code",
   "execution_count": 12,
   "metadata": {},
   "outputs": [
    {
     "data": {
      "text/html": [
       "<iframe\n",
       "    scrolling=\"no\"\n",
       "    width=\"770px\"\n",
       "    height=\"220\"\n",
       "    src=\"../_static/plotly_basics/iframe_figures/figure_12.html\"\n",
       "    frameborder=\"0\"\n",
       "    allowfullscreen\n",
       "></iframe>\n"
      ]
     },
     "metadata": {},
     "output_type": "display_data"
    }
   ],
   "source": [
    "# create a figure\n",
    "fig = go.Figure(data=[sin_plot, cos_plot],\n",
    "                layout_width=750,\n",
    "                layout_height=200)\n",
    "\n",
    "\n",
    "fig.update_traces(line_color=\"Green\", \n",
    "                  line_width=4, \n",
    "                  selector={'line_dash': 'dash'})   # modify dashed lines only\n",
    "fig.show()"
   ]
  },
  {
   "cell_type": "markdown",
   "metadata": {},
   "source": [
    "## Subplots"
   ]
  },
  {
   "cell_type": "markdown",
   "metadata": {},
   "source": [
    "The `fig.add_trace()` method can be used to add a trace to an existing figure:"
   ]
  },
  {
   "cell_type": "code",
   "execution_count": 13,
   "metadata": {},
   "outputs": [
    {
     "data": {
      "text/html": [
       "<iframe\n",
       "    scrolling=\"no\"\n",
       "    width=\"370px\"\n",
       "    height=\"370\"\n",
       "    src=\"../_static/plotly_basics/iframe_figures/figure_13.html\"\n",
       "    frameborder=\"0\"\n",
       "    allowfullscreen\n",
       "></iframe>\n"
      ]
     },
     "metadata": {},
     "output_type": "display_data"
    }
   ],
   "source": [
    "# create a figure\n",
    "fig = go.Figure(\n",
    "                layout_width=350,\n",
    "                layout_height=350,\n",
    "                layout_yaxis_scaleanchor=\"x\",  # set scaleanchor=\"x\" and scaleratio=1 \n",
    "                layout_yaxis_scaleratio=1,     # to plot x and y axes using the same scale \n",
    "                layout_showlegend=False,       # do not show legend \n",
    "                layout_title_text=\"Circles\")\n",
    "\n",
    "# create traces\n",
    "t = np.linspace(0, 2 * np.pi, 300)\n",
    "circle1 = go.Scatter(x=np.sin(t), y=np.cos(t), mode='lines', line_color='Red')\n",
    "circle2 = go.Scatter(x=0.7 * np.sin(t), y=0.7 * np.cos(t), mode='lines', line_color='Green')\n",
    "circle3 = go.Scatter(x=0.4 * np.sin(t), y=0.4 * np.cos(t), mode='lines', line_color='Blue')\n",
    "\n",
    "# add traces to the figure\n",
    "fig.add_trace(circle1)\n",
    "fig.add_trace(circle2)\n",
    "fig.add_trace(circle3)\n",
    "fig.show()"
   ]
  },
  {
   "cell_type": "markdown",
   "metadata": {},
   "source": [
    "`fig.add_trace()` is especially useful when we want to create a figure consisting of subplots:"
   ]
  },
  {
   "cell_type": "code",
   "execution_count": 14,
   "metadata": {},
   "outputs": [
    {
     "data": {
      "text/html": [
       "<iframe\n",
       "    scrolling=\"no\"\n",
       "    width=\"720px\"\n",
       "    height=\"420\"\n",
       "    src=\"../_static/plotly_basics/iframe_figures/figure_14.html\"\n",
       "    frameborder=\"0\"\n",
       "    allowfullscreen\n",
       "></iframe>\n"
      ]
     },
     "metadata": {},
     "output_type": "display_data"
    }
   ],
   "source": [
    "from plotly.subplots import make_subplots\n",
    "\n",
    "# create a figure with subplots\n",
    "fig = make_subplots(\n",
    "                    rows=2,  # number of rows with subplots\n",
    "                    cols=2,  # number of columns\n",
    "                    subplot_titles=(\n",
    "                                    'sin(t)',  # list of subplot titles\n",
    "                                    \"sin(2t)\",\n",
    "                                    \"sin(3t)\",\n",
    "                                    \"sin(4t)\"))\n",
    "\n",
    "# make_subplots does not accept the layout argument, but we can\n",
    "# use fig.update_layout() to modify the layout of the figure\n",
    "fig.update_layout(width=700, height=400,\n",
    "                  showlegend=False)  # do not show legend\n",
    "\n",
    "# create traces\n",
    "t = np.linspace(-3, 3, 100)\n",
    "plot1 = go.Scatter(x=t, y=np.sin(t), mode=\"lines\")\n",
    "plot2 = go.Scatter(x=t, y=np.sin(2 * t), mode=\"lines\")\n",
    "plot3 = go.Scatter(x=t, y=np.sin(3 * t), mode=\"lines\")\n",
    "plot4 = go.Scatter(x=t, y=np.sin(4 * t), mode=\"lines\")\n",
    "\n",
    "# add traces to subplots\n",
    "# subplot rows and columns are numbered starting with 1, not 0\n",
    "fig.add_trace(plot1, row=1, col=1)\n",
    "fig.add_trace(plot2, row=1, col=2)\n",
    "fig.add_trace(plot3, row=2, col=1)\n",
    "fig.add_trace(plot4, row=2, col=2)\n",
    "fig.show()"
   ]
  },
  {
   "cell_type": "markdown",
   "metadata": {},
   "source": [
    "## Templates"
   ]
  },
  {
   "cell_type": "markdown",
   "metadata": {},
   "source": [
    "Plotly comes with several theme templates which modify the overall look of a figure. A theme can be specified using the `template` key in the figure layout. "
   ]
  },
  {
   "cell_type": "code",
   "execution_count": 15,
   "metadata": {
    "scrolled": false
   },
   "outputs": [
    {
     "data": {
      "text/html": [
       "<iframe\n",
       "    scrolling=\"no\"\n",
       "    width=\"770px\"\n",
       "    height=\"220\"\n",
       "    src=\"../_static/plotly_basics/iframe_figures/figure_15.html\"\n",
       "    frameborder=\"0\"\n",
       "    allowfullscreen\n",
       "></iframe>\n"
      ]
     },
     "metadata": {},
     "output_type": "display_data"
    }
   ],
   "source": [
    "t = np.linspace(0, 10, 40)\n",
    "\n",
    "cos_plot = go.Scatter(x=t, y=np.cos(t), mode='lines', name='sin(t)')\n",
    "sin_plot = go.Scatter(x=t, y=np.sin(t), mode='lines', name='cos(t)')\n",
    "\n",
    "fig = go.Figure(\n",
    "                data=[sin_plot, cos_plot],\n",
    "                layout_width=750,\n",
    "                layout_height=200,\n",
    "                layout_margin_l=10,  # left margin of the figure\n",
    "                layout_margin_r=10,  # right margin\n",
    "                layout_margin_t=60,  # top margin\n",
    "                layout_margin_b=30,  # bottom margin\n",
    "                layout_template=\"ggplot2\",  # select a template\n",
    "                layout_title_text=\"Theme:\\\"ggplot2\\\"\")\n",
    "\n",
    "fig.show()"
   ]
  },
  {
   "cell_type": "code",
   "execution_count": 16,
   "metadata": {},
   "outputs": [
    {
     "data": {
      "text/html": [
       "<iframe\n",
       "    scrolling=\"no\"\n",
       "    width=\"770px\"\n",
       "    height=\"220\"\n",
       "    src=\"../_static/plotly_basics/iframe_figures/figure_16.html\"\n",
       "    frameborder=\"0\"\n",
       "    allowfullscreen\n",
       "></iframe>\n"
      ]
     },
     "metadata": {},
     "output_type": "display_data"
    }
   ],
   "source": [
    "fig.update_layout(template=\"seaborn\", title_text=\"Theme:\\\"seaborn\\\"\")\n",
    "fig.show()"
   ]
  },
  {
   "cell_type": "code",
   "execution_count": 17,
   "metadata": {},
   "outputs": [
    {
     "data": {
      "text/html": [
       "<iframe\n",
       "    scrolling=\"no\"\n",
       "    width=\"770px\"\n",
       "    height=\"220\"\n",
       "    src=\"../_static/plotly_basics/iframe_figures/figure_17.html\"\n",
       "    frameborder=\"0\"\n",
       "    allowfullscreen\n",
       "></iframe>\n"
      ]
     },
     "metadata": {},
     "output_type": "display_data"
    }
   ],
   "source": [
    "fig.update_layout(template=\"plotly_white\", title_text=\"Theme:\\\"plotly_white\\\"\")\n",
    "fig.show()"
   ]
  },
  {
   "cell_type": "code",
   "execution_count": 18,
   "metadata": {},
   "outputs": [
    {
     "data": {
      "text/html": [
       "<iframe\n",
       "    scrolling=\"no\"\n",
       "    width=\"770px\"\n",
       "    height=\"220\"\n",
       "    src=\"../_static/plotly_basics/iframe_figures/figure_18.html\"\n",
       "    frameborder=\"0\"\n",
       "    allowfullscreen\n",
       "></iframe>\n"
      ]
     },
     "metadata": {},
     "output_type": "display_data"
    }
   ],
   "source": [
    "fig.update_layout(template=\"plotly_dark\", title_text=\"Theme:\\\"plotly_dark\\\"\")\n",
    "fig.show()"
   ]
  }
 ],
 "metadata": {
  "celltoolbar": "Raw Cell Format",
  "kernelspec": {
   "display_name": "Python 3",
   "language": "python",
   "name": "python3"
  },
  "language_info": {
   "codemirror_mode": {
    "name": "ipython",
    "version": 3
   },
   "file_extension": ".py",
   "mimetype": "text/x-python",
   "name": "python",
   "nbconvert_exporter": "python",
   "pygments_lexer": "ipython3",
   "version": "3.7.6"
  }
 },
 "nbformat": 4,
 "nbformat_minor": 4
}
