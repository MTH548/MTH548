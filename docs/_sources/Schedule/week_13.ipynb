{
 "cells": [
  {
   "cell_type": "markdown",
   "id": "vocal-spouse",
   "metadata": {},
   "source": [
    "# Week 13 (4/26-5/2)"
   ]
  },
  {
   "cell_type": "markdown",
   "id": "normal-glossary",
   "metadata": {},
   "source": [
    "## SQL\n",
    "\n",
    "* [SQL basics](../Tools/SQL/sql_basics.ipynb)\n",
    "* [SQL queries](../Tools/SQL/sql_queries.ipynb)\n",
    "* [Joins, union, intersection](../Tools/SQL/sql_joins.ipynb)\n",
    "* [SQL with Python](../Tools/SQL/sql_joins.ipynb)"
   ]
  },
  {
   "cell_type": "markdown",
   "id": "fundamental-desire",
   "metadata": {},
   "source": [
    "### Online SQL interface examples\n",
    "\n",
    "* [Google BigQuery](https://cloud.google.com/bigquery/docs/reference/standard-sql/query-syntax)\n",
    "* [StackExchange Data Explorer](https://data.stackexchange.com/tutorial/intro-to-queries)"
   ]
  },
  {
   "cell_type": "markdown",
   "id": "incorrect-entry",
   "metadata": {},
   "source": [
    "## Resources"
   ]
  },
  {
   "cell_type": "markdown",
   "id": "played-forest",
   "metadata": {},
   "source": [
    "### 1. ipython-sql installation"
   ]
  },
  {
   "cell_type": "code",
   "execution_count": null,
   "id": "elder-engagement",
   "metadata": {},
   "outputs": [],
   "source": [
    "%pip install ipython-sql"
   ]
  },
  {
   "cell_type": "markdown",
   "id": "bulgarian-nebraska",
   "metadata": {},
   "source": [
    "### 2. Gradebook SQLite database"
   ]
  },
  {
   "cell_type": "raw",
   "id": "engaged-sweden",
   "metadata": {
    "raw_mimetype": "text/restructuredtext"
   },
   "source": [
    "| :download:`gradebook_data.sqlite <../Tools/SQL/gradebook_data.sqlite>`"
   ]
  },
  {
   "cell_type": "markdown",
   "id": "downtown-vegetable",
   "metadata": {},
   "source": [
    "### 3. Courses SQLite database"
   ]
  },
  {
   "cell_type": "raw",
   "id": "developed-jewelry",
   "metadata": {
    "raw_mimetype": "text/restructuredtext"
   },
   "source": [
    "| :download:`courses_data.sqlite <../Tools/SQL/courses_data.sqlite>`"
   ]
  },
  {
   "cell_type": "markdown",
   "id": "careful-people",
   "metadata": {},
   "source": [
    "### 4. SQL with Python"
   ]
  },
  {
   "cell_type": "markdown",
   "id": "rocky-heavy",
   "metadata": {},
   "source": [
    "SQLAlchemy installation:"
   ]
  },
  {
   "cell_type": "code",
   "execution_count": null,
   "id": "interpreted-george",
   "metadata": {
    "scrolled": true
   },
   "outputs": [],
   "source": [
    "%pip install SQLAlchemy"
   ]
  },
  {
   "cell_type": "markdown",
   "id": "comic-recovery",
   "metadata": {},
   "source": [
    "Sample data:"
   ]
  },
  {
   "cell_type": "code",
   "execution_count": 5,
   "id": "corporate-artist",
   "metadata": {},
   "outputs": [],
   "source": [
    "import pandas as pd\n",
    "\n",
    "df = pd.DataFrame({'title': ['Casablanca', 'Forrest Gump', 'Goodfellas',\n",
    "                              'Chinatown', 'Jaws', 'Wall-E'],\n",
    "                   'director': ['M. Curtiz', 'R. Zemeckis', 'M. Scorsese',\n",
    "                                 'R. Polanski', 'S. Spielberg', 'A. Stanton'],\n",
    "                   'year': [1942, 1994, 1990, 1974, 1975, 2008]})"
   ]
  }
 ],
 "metadata": {
  "celltoolbar": "Raw Cell Format",
  "kernelspec": {
   "display_name": "Python 3",
   "language": "python",
   "name": "python3"
  },
  "language_info": {
   "codemirror_mode": {
    "name": "ipython",
    "version": 3
   },
   "file_extension": ".py",
   "mimetype": "text/x-python",
   "name": "python",
   "nbconvert_exporter": "python",
   "pygments_lexer": "ipython3",
   "version": "3.8.5"
  }
 },
 "nbformat": 4,
 "nbformat_minor": 5
}
