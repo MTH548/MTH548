{
 "cells": [
  {
   "cell_type": "markdown",
   "id": "vocal-spouse",
   "metadata": {},
   "source": [
    "# Week 13 (5/2-5/8)"
   ]
  },
  {
   "cell_type": "markdown",
   "id": "346a1b5c",
   "metadata": {},
   "source": [
    "## Notebook\n",
    "\n",
    "- [View online](../_static/weekly_notebooks/week_13_class.html)\n",
    "- Download the notebook file: [week_13_class.ipynb](../_static/weekly_notebooks/week_13_class.ipynb)"
   ]
  },
  {
   "cell_type": "markdown",
   "id": "8c19b38e",
   "metadata": {},
   "source": [
    "## Weekly digest"
   ]
  },
  {
   "cell_type": "raw",
   "id": "7336c51e",
   "metadata": {
    "raw_mimetype": "text/restructuredtext"
   },
   "source": [
    ".. toctree::\n",
    "   :maxdepth: 1\n",
    "\n",
    "   ../Digests/digest_13"
   ]
  },
  {
   "cell_type": "markdown",
   "id": "04d59323",
   "metadata": {},
   "source": [
    "## Project \n",
    "\n",
    "* [Text with naive Bayes](../Projects/text_with_naive_bayes/text_with_naive_bayes.ipynb)"
   ]
  },
  {
   "cell_type": "markdown",
   "id": "normal-glossary",
   "metadata": {},
   "source": [
    "## SQL\n",
    "\n",
    "* [SQL basics](../Tools/SQL/sql_basics.ipynb)\n",
    "* [SQL queries](../Tools/SQL/sql_queries.ipynb)\n",
    "* [Joins, union, intersection](../Tools/SQL/sql_joins.ipynb)\n",
    "* [SQL with Python](../Tools/SQL/sql_joins.ipynb)"
   ]
  },
  {
   "cell_type": "markdown",
   "id": "fundamental-desire",
   "metadata": {},
   "source": [
    "### Online SQL interface examples\n",
    "\n",
    "* [Google BigQuery](https://cloud.google.com/bigquery/docs/reference/standard-sql/query-syntax)\n",
    "* [StackExchange Data Explorer](https://data.stackexchange.com/tutorial/intro-to-queries)"
   ]
  },
  {
   "cell_type": "markdown",
   "id": "incorrect-entry",
   "metadata": {},
   "source": [
    "## Resources"
   ]
  },
  {
   "cell_type": "markdown",
   "id": "played-forest",
   "metadata": {},
   "source": [
    "### 1. ipython-sql installation"
   ]
  },
  {
   "cell_type": "code",
   "execution_count": null,
   "id": "elder-engagement",
   "metadata": {},
   "outputs": [],
   "source": [
    "%pip install ipython-sql"
   ]
  },
  {
   "cell_type": "markdown",
   "id": "bulgarian-nebraska",
   "metadata": {},
   "source": [
    "### 2. Gradebook SQLite database"
   ]
  },
  {
   "cell_type": "raw",
   "id": "engaged-sweden",
   "metadata": {
    "raw_mimetype": "text/restructuredtext"
   },
   "source": [
    "| :download:`gradebook_data.sqlite <../Tools/SQL/gradebook_data.sqlite>`"
   ]
  },
  {
   "cell_type": "markdown",
   "id": "downtown-vegetable",
   "metadata": {},
   "source": [
    "### 3. Courses SQLite database"
   ]
  },
  {
   "cell_type": "raw",
   "id": "developed-jewelry",
   "metadata": {
    "raw_mimetype": "text/restructuredtext"
   },
   "source": [
    "| :download:`courses_data.sqlite <../Tools/SQL/courses_data.sqlite>`"
   ]
  },
  {
   "cell_type": "markdown",
   "id": "2e7cde06",
   "metadata": {},
   "source": [
    "### Exercise 1"
   ]
  },
  {
   "cell_type": "raw",
   "id": "5f44e5da",
   "metadata": {
    "raw_mimetype": "text/restructuredtext"
   },
   "source": [
    "The file :download:`newsgroups.zip <newsgroups.zip>`  is a zipped text file containing several thousand posts sent to various online newsgroups. Each post starts with three lines that  describe the name of the newsgroup to which the post was sent, the author of the post, and the subject. These lines are followed by the text of the post. For example:"
   ]
  },
  {
   "cell_type": "raw",
   "id": "8a85633c",
   "metadata": {
    "raw_mimetype": "text/html"
   },
   "source": [
    "<pre style=\"font-size:13px;\">\n",
    "\n",
    "  Newsgroup: sci.med\n",
    "  From: kcarver@dante.nmsu.edu (Kenneth Carver)\n",
    "  Subject: Isolation amplifiers for EEG/ECG *cheap*\n",
    "\n",
    "\n",
    "  I have several isolation amplifier boards that are the ideal interface\n",
    "  for EEG and ECG.  Isolation is essential for safety when connecting\n",
    "  line-powered equipment to electrodes on the body.  These boards\n",
    "  incorporate the Burr-Brown 3656 isolation module that currently sells\n",
    "  for $133, plus other op amps to produce an overall voltage gain of\n",
    "  350-400.  They are like new and guaranteed good.  $20 postpaid,\n",
    "  schematic included.  Please email me for more data.\n",
    "\n",
    "  --Ken Carver\n",
    "  \n",
    "</pre>"
   ]
  },
  {
   "cell_type": "markdown",
   "id": "ac94ba1b",
   "metadata": {},
   "source": [
    "Create a dataframe in which every row corresponds to one post. The columns should list the name of the newsgroup, the post author, the post subject, and the body of the post. Here is a sample:"
   ]
  },
  {
   "cell_type": "code",
   "execution_count": 1,
   "id": "c95583e2",
   "metadata": {
    "nbsphinx": "hidden"
   },
   "outputs": [],
   "source": [
    "#  \"nbsphinx\": \"hidden\"\n",
    "\n",
    "from zipfile import ZipFile, ZIP_DEFLATED\n",
    "import pandas as pd\n",
    "import io\n",
    "\n",
    "with ZipFile(\"newsgroups.csv.zip\", 'r') as zipped:\n",
    "    txt = zipped.read(\"newsgroups.csv\").decode(encoding='utf8', errors='ignore')\n",
    "    \n",
    "df = pd.read_csv(io.StringIO(txt))"
   ]
  },
  {
   "cell_type": "code",
   "execution_count": 2,
   "id": "73f6005b",
   "metadata": {},
   "outputs": [
    {
     "data": {
      "text/html": [
       "<div>\n",
       "<style scoped>\n",
       "    .dataframe tbody tr th:only-of-type {\n",
       "        vertical-align: middle;\n",
       "    }\n",
       "\n",
       "    .dataframe tbody tr th {\n",
       "        vertical-align: top;\n",
       "    }\n",
       "\n",
       "    .dataframe thead th {\n",
       "        text-align: right;\n",
       "    }\n",
       "</style>\n",
       "<table border=\"1\" class=\"dataframe\">\n",
       "  <thead>\n",
       "    <tr style=\"text-align: right;\">\n",
       "      <th></th>\n",
       "      <th>newsgroup</th>\n",
       "      <th>from</th>\n",
       "      <th>subject</th>\n",
       "      <th>body</th>\n",
       "    </tr>\n",
       "  </thead>\n",
       "  <tbody>\n",
       "    <tr>\n",
       "      <th>0</th>\n",
       "      <td>rec.autos</td>\n",
       "      <td>gwm@spl1.spl.loral.com (Gary W. Mahan)</td>\n",
       "      <td>Re: Are BMW's worth the price?</td>\n",
       "      <td>&gt;sure sounds like they got a ringer.  the 325i...</td>\n",
       "    </tr>\n",
       "    <tr>\n",
       "      <th>1</th>\n",
       "      <td>sci.med</td>\n",
       "      <td>davec@ecst.csuchico.edu (Dave Childs)</td>\n",
       "      <td>Dental Fillings question</td>\n",
       "      <td>I have been hearing bad thing about amalgam de...</td>\n",
       "    </tr>\n",
       "    <tr>\n",
       "      <th>2</th>\n",
       "      <td>alt.atheism</td>\n",
       "      <td>\"Robert Knowles\" &lt;p00261@psilink.com&gt;</td>\n",
       "      <td>Re: Islamic marriage?</td>\n",
       "      <td>&gt;DATE:   Tue, 6 Apr 1993 00:11:49 GMT\\n&gt;FROM: ...</td>\n",
       "    </tr>\n",
       "    <tr>\n",
       "      <th>3</th>\n",
       "      <td>rec.sport.baseball</td>\n",
       "      <td>sepinwal@mail.sas.upenn.edu (Alan Sepinwall)</td>\n",
       "      <td>Re: WFAN</td>\n",
       "      <td>In article &lt;1993Apr16.174843.28111@cabell.vcu....</td>\n",
       "    </tr>\n",
       "    <tr>\n",
       "      <th>4</th>\n",
       "      <td>talk.religion.misc</td>\n",
       "      <td>rwd4f@poe.acc.Virginia.EDU (Rob Dobson)</td>\n",
       "      <td>Re: A Message for you Mr. President: How do yo...</td>\n",
       "      <td>In article &lt;visser.735284180@convex.convex.com...</td>\n",
       "    </tr>\n",
       "  </tbody>\n",
       "</table>\n",
       "</div>"
      ],
      "text/plain": [
       "            newsgroup                                          from  \\\n",
       "0           rec.autos        gwm@spl1.spl.loral.com (Gary W. Mahan)   \n",
       "1             sci.med         davec@ecst.csuchico.edu (Dave Childs)   \n",
       "2         alt.atheism         \"Robert Knowles\" <p00261@psilink.com>   \n",
       "3  rec.sport.baseball  sepinwal@mail.sas.upenn.edu (Alan Sepinwall)   \n",
       "4  talk.religion.misc       rwd4f@poe.acc.Virginia.EDU (Rob Dobson)   \n",
       "\n",
       "                                             subject  \\\n",
       "0         Re: Are BMW's worth the price?               \n",
       "1                           Dental Fillings question   \n",
       "2                              Re: Islamic marriage?   \n",
       "3                                           Re: WFAN   \n",
       "4  Re: A Message for you Mr. President: How do yo...   \n",
       "\n",
       "                                                body  \n",
       "0  >sure sounds like they got a ringer.  the 325i...  \n",
       "1  I have been hearing bad thing about amalgam de...  \n",
       "2  >DATE:   Tue, 6 Apr 1993 00:11:49 GMT\\n>FROM: ...  \n",
       "3  In article <1993Apr16.174843.28111@cabell.vcu....  \n",
       "4  In article <visser.735284180@convex.convex.com...  "
      ]
     },
     "execution_count": 2,
     "metadata": {},
     "output_type": "execute_result"
    }
   ],
   "source": [
    "df.head(5)"
   ]
  }
 ],
 "metadata": {
  "celltoolbar": "Raw Cell Format",
  "kernelspec": {
   "display_name": "Python 3 (ipykernel)",
   "language": "python",
   "name": "python3"
  },
  "language_info": {
   "codemirror_mode": {
    "name": "ipython",
    "version": 3
   },
   "file_extension": ".py",
   "mimetype": "text/x-python",
   "name": "python",
   "nbconvert_exporter": "python",
   "pygments_lexer": "ipython3",
   "version": "3.8.12"
  }
 },
 "nbformat": 4,
 "nbformat_minor": 5
}
