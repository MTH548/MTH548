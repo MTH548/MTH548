{
 "cells": [
  {
   "cell_type": "markdown",
   "id": "northern-guidance",
   "metadata": {},
   "source": [
    "# Week 5 (3/1-3/7)"
   ]
  },
  {
   "cell_type": "markdown",
   "id": "instructional-violation",
   "metadata": {},
   "source": [
    "## Zoom Recordings\n",
    "\n",
    "* [Tuesday](https://ub.hosted.panopto.com/Panopto/Pages/Viewer.aspx?id=1fcfd9d8-86f9-47e2-bc9a-acdf01514e74)\n",
    "* [Thursday](https://ub.hosted.panopto.com/Panopto/Pages/Viewer.aspx?id=3f1ae4e7-bc45-42bb-ab50-ace1014bf97f)"
   ]
  },
  {
   "cell_type": "markdown",
   "id": "personal-occasions",
   "metadata": {},
   "source": [
    "## Notebook\n",
    "\n",
    "- [View online](../_static/weekly_notebooks/week_5_class.html)\n",
    "- Download the notebook file: [week_5_class.ipynb](../_static/weekly_notebooks/week_5_class.ipynb)."
   ]
  },
  {
   "cell_type": "markdown",
   "id": "boolean-depression",
   "metadata": {},
   "source": [
    "## [Pandas](../Tools/Pandas/pandas_toc.rst)\n",
    "\n",
    "* GroupBy\n",
    "* Index operations\n",
    "* Combining DataFrames"
   ]
  },
  {
   "cell_type": "markdown",
   "id": "fantastic-traveler",
   "metadata": {},
   "source": [
    "## Project \n",
    "\n",
    "* [Baby names](../Projects/baby_names/baby_names.ipynb)"
   ]
  },
  {
   "cell_type": "markdown",
   "id": "headed-spider",
   "metadata": {},
   "source": [
    "## Resources"
   ]
  },
  {
   "cell_type": "markdown",
   "id": "collect-seattle",
   "metadata": {},
   "source": [
    "### 1. Sample DataFrame merging data"
   ]
  },
  {
   "cell_type": "code",
   "execution_count": 32,
   "id": "unexpected-merchant",
   "metadata": {},
   "outputs": [],
   "source": [
    "import pandas as pd\n",
    "import numpy as np\n",
    "\n",
    "rng = np.random.default_rng(10)\n",
    "\n",
    "names = [\"Ava\", \"Benjamin\", \"Charlotte\", \"Daniel\", \"Emma\", \"Fredric\", \"Gianna\"]\n",
    "courses = [\"MTH 141\", \"MTH 142\", \"MTH 241\", \"MTH 306\", \"MTH 309\", \"MTH 311\"]\n",
    "rooms = [\"NSC 216\", \"Capen 110\", \"Park 440\"]\n",
    "\n",
    "# concat rows data\n",
    "scores1 = rng.integers(0, 100, 12).reshape(4, 3)\n",
    "scores2 = rng.integers(0, 100, 9).reshape(3, 3)\n",
    "columns = [\"problem_1\", \"problem_2\", \"problem_3\"]\n",
    "sec1 = pd.DataFrame(scores1, index=names[:4], columns=columns)\n",
    "sec2 = pd.DataFrame(scores2, index=names[4:7], columns=columns)\n",
    "\n",
    "# concat columns data\n",
    "scores1 = rng.integers(0, 100, 8).reshape(4, 2)\n",
    "scores2 = rng.integers(0, 100, 9).reshape(3, 3)\n",
    "part1 = pd.DataFrame(scores1,\n",
    "                     index=names[:4],\n",
    "                     columns=[\"problem_1\", \"problem_2\"])\n",
    "part2 = pd.DataFrame(scores2,\n",
    "                     index=names[:3],\n",
    "                     columns=[\"problem_3\", \"problem_4\", \"problem_5\"])\n",
    "\n",
    "# merging data\n",
    "office_nums = rng.integers(100, 150, len(names[:-1]))\n",
    "courses = pd.DataFrame({\"course\": courses,\n",
    "                        \"instructor\": rng.choice(names[1:], len(courses))})\n",
    "instructors = pd.DataFrame({\"name\": names[:-1], \"office\": office_nums}, dtype=\"object\")"
   ]
  },
  {
   "cell_type": "markdown",
   "id": "civic-hammer",
   "metadata": {},
   "source": [
    "## Exercises (Tuesday)"
   ]
  },
  {
   "cell_type": "markdown",
   "id": "obvious-ministry",
   "metadata": {},
   "source": [
    "All exercises below use data on restaurant visits. A DataFrame with this data can be created as follows:"
   ]
  },
  {
   "cell_type": "code",
   "execution_count": 23,
   "id": "rental-inspection",
   "metadata": {},
   "outputs": [
    {
     "data": {
      "text/html": [
       "<div>\n",
       "<style scoped>\n",
       "    .dataframe tbody tr th:only-of-type {\n",
       "        vertical-align: middle;\n",
       "    }\n",
       "\n",
       "    .dataframe tbody tr th {\n",
       "        vertical-align: top;\n",
       "    }\n",
       "\n",
       "    .dataframe thead th {\n",
       "        text-align: right;\n",
       "    }\n",
       "</style>\n",
       "<table border=\"1\" class=\"dataframe\">\n",
       "  <thead>\n",
       "    <tr style=\"text-align: right;\">\n",
       "      <th></th>\n",
       "      <th>total_bill</th>\n",
       "      <th>tip</th>\n",
       "      <th>sex</th>\n",
       "      <th>smoker</th>\n",
       "      <th>day</th>\n",
       "      <th>time</th>\n",
       "      <th>size</th>\n",
       "    </tr>\n",
       "  </thead>\n",
       "  <tbody>\n",
       "    <tr>\n",
       "      <th>0</th>\n",
       "      <td>16.99</td>\n",
       "      <td>1.01</td>\n",
       "      <td>Female</td>\n",
       "      <td>No</td>\n",
       "      <td>Sun</td>\n",
       "      <td>Dinner</td>\n",
       "      <td>2</td>\n",
       "    </tr>\n",
       "    <tr>\n",
       "      <th>1</th>\n",
       "      <td>10.34</td>\n",
       "      <td>1.66</td>\n",
       "      <td>Male</td>\n",
       "      <td>No</td>\n",
       "      <td>Sun</td>\n",
       "      <td>Dinner</td>\n",
       "      <td>3</td>\n",
       "    </tr>\n",
       "    <tr>\n",
       "      <th>2</th>\n",
       "      <td>21.01</td>\n",
       "      <td>3.50</td>\n",
       "      <td>Male</td>\n",
       "      <td>No</td>\n",
       "      <td>Sun</td>\n",
       "      <td>Dinner</td>\n",
       "      <td>3</td>\n",
       "    </tr>\n",
       "    <tr>\n",
       "      <th>3</th>\n",
       "      <td>23.68</td>\n",
       "      <td>3.31</td>\n",
       "      <td>Male</td>\n",
       "      <td>No</td>\n",
       "      <td>Sun</td>\n",
       "      <td>Dinner</td>\n",
       "      <td>2</td>\n",
       "    </tr>\n",
       "    <tr>\n",
       "      <th>4</th>\n",
       "      <td>24.59</td>\n",
       "      <td>3.61</td>\n",
       "      <td>Female</td>\n",
       "      <td>No</td>\n",
       "      <td>Sun</td>\n",
       "      <td>Dinner</td>\n",
       "      <td>4</td>\n",
       "    </tr>\n",
       "  </tbody>\n",
       "</table>\n",
       "</div>"
      ],
      "text/plain": [
       "   total_bill   tip     sex smoker  day    time  size\n",
       "0       16.99  1.01  Female     No  Sun  Dinner     2\n",
       "1       10.34  1.66    Male     No  Sun  Dinner     3\n",
       "2       21.01  3.50    Male     No  Sun  Dinner     3\n",
       "3       23.68  3.31    Male     No  Sun  Dinner     2\n",
       "4       24.59  3.61  Female     No  Sun  Dinner     4"
      ]
     },
     "execution_count": 23,
     "metadata": {},
     "output_type": "execute_result"
    }
   ],
   "source": [
    "import seaborn as sns\n",
    "tips = sns.load_dataset(\"tips\")\n",
    "tips.head(5)"
   ]
  },
  {
   "cell_type": "markdown",
   "id": "earlier-giving",
   "metadata": {},
   "source": [
    "### Exercise 1\n",
    "\n",
    "How many people visited the restaurant each day of the week? \n",
    "\n",
    "**Check:** There were 152 visitors on Thursday."
   ]
  },
  {
   "cell_type": "code",
   "execution_count": 24,
   "id": "spectacular-rabbit",
   "metadata": {
    "nbsphinx": "hidden"
   },
   "outputs": [
    {
     "data": {
      "text/plain": [
       "day\n",
       "Thur    152\n",
       "Fri      40\n",
       "Sat     219\n",
       "Sun     216\n",
       "Name: size, dtype: int64"
      ]
     },
     "execution_count": 24,
     "metadata": {},
     "output_type": "execute_result"
    }
   ],
   "source": [
    "# \"nbsphinx\": \"hidden\"\n",
    "\n",
    "tips.groupby(by=\"day\")[\"size\"].sum()"
   ]
  },
  {
   "cell_type": "markdown",
   "id": "eleven-collect",
   "metadata": {},
   "source": [
    "### Exercise 2\n",
    "\n",
    "What was the average bill paid each day of the week? \n",
    "\n",
    "**Check:** <span class=\"tex2jax_ignore\">The average bill on Thursday was $17.48</span>."
   ]
  },
  {
   "cell_type": "code",
   "execution_count": 25,
   "id": "interstate-strategy",
   "metadata": {
    "nbsphinx": "hidden"
   },
   "outputs": [
    {
     "data": {
      "text/plain": [
       "day\n",
       "Thur    17.682742\n",
       "Fri     17.151579\n",
       "Sat     20.441379\n",
       "Sun     21.410000\n",
       "Name: total_bill, dtype: float64"
      ]
     },
     "execution_count": 25,
     "metadata": {},
     "output_type": "execute_result"
    }
   ],
   "source": [
    "# \"nbsphinx\": \"hidden\"\n",
    "\n",
    "tips.groupby(by=\"day\")[\"total_bill\"].mean()"
   ]
  },
  {
   "cell_type": "markdown",
   "id": "considerable-blair",
   "metadata": {},
   "source": [
    "### Exercise 3\n",
    "\n",
    "For each restaurant visit, compute  what percentage of the total bill was the tip, and then compute the average value of this percentage for male and for female customers. \n",
    "\n",
    "**Check:** The average tip for males was 15.76%."
   ]
  },
  {
   "cell_type": "code",
   "execution_count": 26,
   "id": "polished-jungle",
   "metadata": {
    "nbsphinx": "hidden"
   },
   "outputs": [
    {
     "data": {
      "text/plain": [
       "sex\n",
       "Male      15.765055\n",
       "Female    16.649074\n",
       "Name: tip_perc, dtype: float64"
      ]
     },
     "execution_count": 26,
     "metadata": {},
     "output_type": "execute_result"
    }
   ],
   "source": [
    "# \"nbsphinx\": \"hidden\"\n",
    "\n",
    "tips[\"tip_perc\"] = 100*tips[\"tip\"]/tips[\"total_bill\"]\n",
    "tips.groupby(by=\"sex\")[\"tip_perc\"].mean()"
   ]
  },
  {
   "cell_type": "markdown",
   "id": "alive-heading",
   "metadata": {},
   "source": [
    "### Exercise 4\n",
    "\n",
    "Compute a DateFrame with 10 rows selected from the tips data: 5 rows with the the 5 highest total bills for smokers and 5 rows with the 5 highest total bills for non-smokers\n",
    "\n",
    "\n",
    "**Check:** The 5 highest bills for smokers were <span class=\"tex2jax_ignore\">$50.81, $43.35, $44.30, $43.11 and $40.55."
   ]
  },
  {
   "cell_type": "code",
   "execution_count": 27,
   "id": "reflected-southwest",
   "metadata": {
    "nbsphinx": "hidden"
   },
   "outputs": [
    {
     "data": {
      "text/html": [
       "<div>\n",
       "<style scoped>\n",
       "    .dataframe tbody tr th:only-of-type {\n",
       "        vertical-align: middle;\n",
       "    }\n",
       "\n",
       "    .dataframe tbody tr th {\n",
       "        vertical-align: top;\n",
       "    }\n",
       "\n",
       "    .dataframe thead th {\n",
       "        text-align: right;\n",
       "    }\n",
       "</style>\n",
       "<table border=\"1\" class=\"dataframe\">\n",
       "  <thead>\n",
       "    <tr style=\"text-align: right;\">\n",
       "      <th></th>\n",
       "      <th></th>\n",
       "      <th>total_bill</th>\n",
       "      <th>tip</th>\n",
       "      <th>sex</th>\n",
       "      <th>smoker</th>\n",
       "      <th>day</th>\n",
       "      <th>time</th>\n",
       "      <th>size</th>\n",
       "      <th>tip_perc</th>\n",
       "    </tr>\n",
       "    <tr>\n",
       "      <th>smoker</th>\n",
       "      <th></th>\n",
       "      <th></th>\n",
       "      <th></th>\n",
       "      <th></th>\n",
       "      <th></th>\n",
       "      <th></th>\n",
       "      <th></th>\n",
       "      <th></th>\n",
       "      <th></th>\n",
       "    </tr>\n",
       "  </thead>\n",
       "  <tbody>\n",
       "    <tr>\n",
       "      <th rowspan=\"5\" valign=\"top\">Yes</th>\n",
       "      <th>170</th>\n",
       "      <td>50.81</td>\n",
       "      <td>10.00</td>\n",
       "      <td>Male</td>\n",
       "      <td>Yes</td>\n",
       "      <td>Sat</td>\n",
       "      <td>Dinner</td>\n",
       "      <td>3</td>\n",
       "      <td>19.681165</td>\n",
       "    </tr>\n",
       "    <tr>\n",
       "      <th>182</th>\n",
       "      <td>45.35</td>\n",
       "      <td>3.50</td>\n",
       "      <td>Male</td>\n",
       "      <td>Yes</td>\n",
       "      <td>Sun</td>\n",
       "      <td>Dinner</td>\n",
       "      <td>3</td>\n",
       "      <td>7.717751</td>\n",
       "    </tr>\n",
       "    <tr>\n",
       "      <th>102</th>\n",
       "      <td>44.30</td>\n",
       "      <td>2.50</td>\n",
       "      <td>Female</td>\n",
       "      <td>Yes</td>\n",
       "      <td>Sat</td>\n",
       "      <td>Dinner</td>\n",
       "      <td>3</td>\n",
       "      <td>5.643341</td>\n",
       "    </tr>\n",
       "    <tr>\n",
       "      <th>197</th>\n",
       "      <td>43.11</td>\n",
       "      <td>5.00</td>\n",
       "      <td>Female</td>\n",
       "      <td>Yes</td>\n",
       "      <td>Thur</td>\n",
       "      <td>Lunch</td>\n",
       "      <td>4</td>\n",
       "      <td>11.598237</td>\n",
       "    </tr>\n",
       "    <tr>\n",
       "      <th>184</th>\n",
       "      <td>40.55</td>\n",
       "      <td>3.00</td>\n",
       "      <td>Male</td>\n",
       "      <td>Yes</td>\n",
       "      <td>Sun</td>\n",
       "      <td>Dinner</td>\n",
       "      <td>2</td>\n",
       "      <td>7.398274</td>\n",
       "    </tr>\n",
       "    <tr>\n",
       "      <th rowspan=\"5\" valign=\"top\">No</th>\n",
       "      <th>212</th>\n",
       "      <td>48.33</td>\n",
       "      <td>9.00</td>\n",
       "      <td>Male</td>\n",
       "      <td>No</td>\n",
       "      <td>Sat</td>\n",
       "      <td>Dinner</td>\n",
       "      <td>4</td>\n",
       "      <td>18.621974</td>\n",
       "    </tr>\n",
       "    <tr>\n",
       "      <th>59</th>\n",
       "      <td>48.27</td>\n",
       "      <td>6.73</td>\n",
       "      <td>Male</td>\n",
       "      <td>No</td>\n",
       "      <td>Sat</td>\n",
       "      <td>Dinner</td>\n",
       "      <td>4</td>\n",
       "      <td>13.942407</td>\n",
       "    </tr>\n",
       "    <tr>\n",
       "      <th>156</th>\n",
       "      <td>48.17</td>\n",
       "      <td>5.00</td>\n",
       "      <td>Male</td>\n",
       "      <td>No</td>\n",
       "      <td>Sun</td>\n",
       "      <td>Dinner</td>\n",
       "      <td>6</td>\n",
       "      <td>10.379905</td>\n",
       "    </tr>\n",
       "    <tr>\n",
       "      <th>142</th>\n",
       "      <td>41.19</td>\n",
       "      <td>5.00</td>\n",
       "      <td>Male</td>\n",
       "      <td>No</td>\n",
       "      <td>Thur</td>\n",
       "      <td>Lunch</td>\n",
       "      <td>5</td>\n",
       "      <td>12.138869</td>\n",
       "    </tr>\n",
       "    <tr>\n",
       "      <th>23</th>\n",
       "      <td>39.42</td>\n",
       "      <td>7.58</td>\n",
       "      <td>Male</td>\n",
       "      <td>No</td>\n",
       "      <td>Sat</td>\n",
       "      <td>Dinner</td>\n",
       "      <td>4</td>\n",
       "      <td>19.228818</td>\n",
       "    </tr>\n",
       "  </tbody>\n",
       "</table>\n",
       "</div>"
      ],
      "text/plain": [
       "            total_bill    tip     sex smoker   day    time  size   tip_perc\n",
       "smoker                                                                     \n",
       "Yes    170       50.81  10.00    Male    Yes   Sat  Dinner     3  19.681165\n",
       "       182       45.35   3.50    Male    Yes   Sun  Dinner     3   7.717751\n",
       "       102       44.30   2.50  Female    Yes   Sat  Dinner     3   5.643341\n",
       "       197       43.11   5.00  Female    Yes  Thur   Lunch     4  11.598237\n",
       "       184       40.55   3.00    Male    Yes   Sun  Dinner     2   7.398274\n",
       "No     212       48.33   9.00    Male     No   Sat  Dinner     4  18.621974\n",
       "       59        48.27   6.73    Male     No   Sat  Dinner     4  13.942407\n",
       "       156       48.17   5.00    Male     No   Sun  Dinner     6  10.379905\n",
       "       142       41.19   5.00    Male     No  Thur   Lunch     5  12.138869\n",
       "       23        39.42   7.58    Male     No   Sat  Dinner     4  19.228818"
      ]
     },
     "execution_count": 27,
     "metadata": {},
     "output_type": "execute_result"
    }
   ],
   "source": [
    "# \"nbsphinx\": \"hidden\"\n",
    "\n",
    "def large_bills(df):\n",
    "\n",
    "    df = df.sort_values(by=\"total_bill\", ascending=False)\n",
    "    return df.head(5)\n",
    "\n",
    "big_bills = tips.groupby(\"smoker\").apply(large_bills)\n",
    "big_bills"
   ]
  },
  {
   "cell_type": "markdown",
   "id": "sitting-darkness",
   "metadata": {},
   "source": [
    "### Exercise 5\n",
    "\n",
    "Create a DataFrame with 4 rows selected from the tips data: a row with the highest total bill for a male smoker, a row with the highest total bill for a male non-smoker, and the same for a female smokers and a female non-smokers. \n",
    "\n",
    "\n",
    "**Check:** <span class=\"tex2jax_ignore\">The highest bills were $50.81 for male smoker, $48.33 for a male non-smoker, $44.30 for a female smoker and $35.83 for a female non-smoker.</span>"
   ]
  },
  {
   "cell_type": "code",
   "execution_count": 31,
   "id": "incredible-appliance",
   "metadata": {
    "nbsphinx": "hidden"
   },
   "outputs": [
    {
     "data": {
      "text/html": [
       "<div>\n",
       "<style scoped>\n",
       "    .dataframe tbody tr th:only-of-type {\n",
       "        vertical-align: middle;\n",
       "    }\n",
       "\n",
       "    .dataframe tbody tr th {\n",
       "        vertical-align: top;\n",
       "    }\n",
       "\n",
       "    .dataframe thead th {\n",
       "        text-align: right;\n",
       "    }\n",
       "</style>\n",
       "<table border=\"1\" class=\"dataframe\">\n",
       "  <thead>\n",
       "    <tr style=\"text-align: right;\">\n",
       "      <th></th>\n",
       "      <th></th>\n",
       "      <th>total_bill</th>\n",
       "      <th>tip</th>\n",
       "      <th>sex</th>\n",
       "      <th>smoker</th>\n",
       "      <th>day</th>\n",
       "      <th>time</th>\n",
       "      <th>size</th>\n",
       "      <th>tip_perc</th>\n",
       "    </tr>\n",
       "    <tr>\n",
       "      <th>sex</th>\n",
       "      <th>smoker</th>\n",
       "      <th></th>\n",
       "      <th></th>\n",
       "      <th></th>\n",
       "      <th></th>\n",
       "      <th></th>\n",
       "      <th></th>\n",
       "      <th></th>\n",
       "      <th></th>\n",
       "    </tr>\n",
       "  </thead>\n",
       "  <tbody>\n",
       "    <tr>\n",
       "      <th rowspan=\"2\" valign=\"top\">Male</th>\n",
       "      <th>Yes</th>\n",
       "      <td>50.81</td>\n",
       "      <td>10.00</td>\n",
       "      <td>Male</td>\n",
       "      <td>Yes</td>\n",
       "      <td>Sat</td>\n",
       "      <td>Dinner</td>\n",
       "      <td>3</td>\n",
       "      <td>19.681165</td>\n",
       "    </tr>\n",
       "    <tr>\n",
       "      <th>No</th>\n",
       "      <td>48.33</td>\n",
       "      <td>9.00</td>\n",
       "      <td>Male</td>\n",
       "      <td>No</td>\n",
       "      <td>Sat</td>\n",
       "      <td>Dinner</td>\n",
       "      <td>4</td>\n",
       "      <td>18.621974</td>\n",
       "    </tr>\n",
       "    <tr>\n",
       "      <th rowspan=\"2\" valign=\"top\">Female</th>\n",
       "      <th>Yes</th>\n",
       "      <td>44.30</td>\n",
       "      <td>2.50</td>\n",
       "      <td>Female</td>\n",
       "      <td>Yes</td>\n",
       "      <td>Sat</td>\n",
       "      <td>Dinner</td>\n",
       "      <td>3</td>\n",
       "      <td>5.643341</td>\n",
       "    </tr>\n",
       "    <tr>\n",
       "      <th>No</th>\n",
       "      <td>35.83</td>\n",
       "      <td>4.67</td>\n",
       "      <td>Female</td>\n",
       "      <td>No</td>\n",
       "      <td>Sat</td>\n",
       "      <td>Dinner</td>\n",
       "      <td>3</td>\n",
       "      <td>13.033771</td>\n",
       "    </tr>\n",
       "  </tbody>\n",
       "</table>\n",
       "</div>"
      ],
      "text/plain": [
       "               total_bill    tip     sex smoker  day    time  size   tip_perc\n",
       "sex    smoker                                                                \n",
       "Male   Yes          50.81  10.00    Male    Yes  Sat  Dinner     3  19.681165\n",
       "       No           48.33   9.00    Male     No  Sat  Dinner     4  18.621974\n",
       "Female Yes          44.30   2.50  Female    Yes  Sat  Dinner     3   5.643341\n",
       "       No           35.83   4.67  Female     No  Sat  Dinner     3  13.033771"
      ]
     },
     "execution_count": 31,
     "metadata": {},
     "output_type": "execute_result"
    }
   ],
   "source": [
    "# \"nbsphinx\": \"hidden\"\n",
    "\n",
    "def max_bills(df):\n",
    "\n",
    "    return df.loc[df[\"total_bill\"].idxmax()]\n",
    "\n",
    "big_bills = tips.groupby([\"sex\", \"smoker\"]).apply(max_bills)\n",
    "big_bills"
   ]
  },
  {
   "cell_type": "markdown",
   "id": "central-sampling",
   "metadata": {},
   "source": [
    "### Exercise 6\n",
    "\n",
    "Create a DataFrame with two rows indicating if a customer was a male or a female, and columns indicating which day of the week the customer visited the restaurant. The value in a given row and column should be the amount of the largest tip that a customer of a given sex and visiting on a given day paid. \n",
    "\n",
    "**Check:** <span class=\"tex2jax_ignore\">The highest tip paid on Thursday was $6.70 for males and $5.17 for females.</span>"
   ]
  },
  {
   "cell_type": "code",
   "execution_count": 22,
   "id": "empirical-certificate",
   "metadata": {
    "nbsphinx": "hidden"
   },
   "outputs": [
    {
     "data": {
      "text/html": [
       "<div>\n",
       "<style scoped>\n",
       "    .dataframe tbody tr th:only-of-type {\n",
       "        vertical-align: middle;\n",
       "    }\n",
       "\n",
       "    .dataframe tbody tr th {\n",
       "        vertical-align: top;\n",
       "    }\n",
       "\n",
       "    .dataframe thead th {\n",
       "        text-align: right;\n",
       "    }\n",
       "</style>\n",
       "<table border=\"1\" class=\"dataframe\">\n",
       "  <thead>\n",
       "    <tr style=\"text-align: right;\">\n",
       "      <th>day</th>\n",
       "      <th>Thur</th>\n",
       "      <th>Fri</th>\n",
       "      <th>Sat</th>\n",
       "      <th>Sun</th>\n",
       "    </tr>\n",
       "    <tr>\n",
       "      <th>sex</th>\n",
       "      <th></th>\n",
       "      <th></th>\n",
       "      <th></th>\n",
       "      <th></th>\n",
       "    </tr>\n",
       "  </thead>\n",
       "  <tbody>\n",
       "    <tr>\n",
       "      <th>Male</th>\n",
       "      <td>6.70</td>\n",
       "      <td>4.73</td>\n",
       "      <td>10.0</td>\n",
       "      <td>6.5</td>\n",
       "    </tr>\n",
       "    <tr>\n",
       "      <th>Female</th>\n",
       "      <td>5.17</td>\n",
       "      <td>4.30</td>\n",
       "      <td>6.5</td>\n",
       "      <td>5.2</td>\n",
       "    </tr>\n",
       "  </tbody>\n",
       "</table>\n",
       "</div>"
      ],
      "text/plain": [
       "day     Thur   Fri   Sat  Sun\n",
       "sex                          \n",
       "Male    6.70  4.73  10.0  6.5\n",
       "Female  5.17  4.30   6.5  5.2"
      ]
     },
     "execution_count": 22,
     "metadata": {},
     "output_type": "execute_result"
    }
   ],
   "source": [
    "df.groupby([\"sex\", \"day\"])[\"tip\"].max().unstack()"
   ]
  },
  {
   "cell_type": "markdown",
   "id": "equivalent-toner",
   "metadata": {},
   "source": [
    "## Exercises (Thursday)\n",
    "\n",
    "**Note.** All exercises, except for the first one, use data contained in the `names.zip` file. "
   ]
  },
  {
   "cell_type": "code",
   "execution_count": 150,
   "id": "dirty-relief",
   "metadata": {
    "nbsphinx": "hidden"
   },
   "outputs": [
    {
     "data": {
      "text/html": [
       "<div>\n",
       "<style scoped>\n",
       "    .dataframe tbody tr th:only-of-type {\n",
       "        vertical-align: middle;\n",
       "    }\n",
       "\n",
       "    .dataframe tbody tr th {\n",
       "        vertical-align: top;\n",
       "    }\n",
       "\n",
       "    .dataframe thead th {\n",
       "        text-align: right;\n",
       "    }\n",
       "</style>\n",
       "<table border=\"1\" class=\"dataframe\">\n",
       "  <thead>\n",
       "    <tr style=\"text-align: right;\">\n",
       "      <th></th>\n",
       "      <th>year</th>\n",
       "      <th>name</th>\n",
       "      <th>sex</th>\n",
       "      <th>count</th>\n",
       "    </tr>\n",
       "  </thead>\n",
       "  <tbody>\n",
       "    <tr>\n",
       "      <th>0</th>\n",
       "      <td>1880</td>\n",
       "      <td>Mary</td>\n",
       "      <td>F</td>\n",
       "      <td>7065</td>\n",
       "    </tr>\n",
       "    <tr>\n",
       "      <th>1</th>\n",
       "      <td>1880</td>\n",
       "      <td>Anna</td>\n",
       "      <td>F</td>\n",
       "      <td>2604</td>\n",
       "    </tr>\n",
       "    <tr>\n",
       "      <th>2</th>\n",
       "      <td>1880</td>\n",
       "      <td>Emma</td>\n",
       "      <td>F</td>\n",
       "      <td>2003</td>\n",
       "    </tr>\n",
       "    <tr>\n",
       "      <th>3</th>\n",
       "      <td>1880</td>\n",
       "      <td>Elizabeth</td>\n",
       "      <td>F</td>\n",
       "      <td>1939</td>\n",
       "    </tr>\n",
       "    <tr>\n",
       "      <th>4</th>\n",
       "      <td>1880</td>\n",
       "      <td>Minnie</td>\n",
       "      <td>F</td>\n",
       "      <td>1746</td>\n",
       "    </tr>\n",
       "    <tr>\n",
       "      <th>...</th>\n",
       "      <td>...</td>\n",
       "      <td>...</td>\n",
       "      <td>...</td>\n",
       "      <td>...</td>\n",
       "    </tr>\n",
       "    <tr>\n",
       "      <th>1989396</th>\n",
       "      <td>2019</td>\n",
       "      <td>Zyheem</td>\n",
       "      <td>M</td>\n",
       "      <td>5</td>\n",
       "    </tr>\n",
       "    <tr>\n",
       "      <th>1989397</th>\n",
       "      <td>2019</td>\n",
       "      <td>Zykel</td>\n",
       "      <td>M</td>\n",
       "      <td>5</td>\n",
       "    </tr>\n",
       "    <tr>\n",
       "      <th>1989398</th>\n",
       "      <td>2019</td>\n",
       "      <td>Zyking</td>\n",
       "      <td>M</td>\n",
       "      <td>5</td>\n",
       "    </tr>\n",
       "    <tr>\n",
       "      <th>1989399</th>\n",
       "      <td>2019</td>\n",
       "      <td>Zyn</td>\n",
       "      <td>M</td>\n",
       "      <td>5</td>\n",
       "    </tr>\n",
       "    <tr>\n",
       "      <th>1989400</th>\n",
       "      <td>2019</td>\n",
       "      <td>Zyran</td>\n",
       "      <td>M</td>\n",
       "      <td>5</td>\n",
       "    </tr>\n",
       "  </tbody>\n",
       "</table>\n",
       "<p>1989401 rows × 4 columns</p>\n",
       "</div>"
      ],
      "text/plain": [
       "         year       name sex  count\n",
       "0        1880       Mary   F   7065\n",
       "1        1880       Anna   F   2604\n",
       "2        1880       Emma   F   2003\n",
       "3        1880  Elizabeth   F   1939\n",
       "4        1880     Minnie   F   1746\n",
       "...       ...        ...  ..    ...\n",
       "1989396  2019     Zyheem   M      5\n",
       "1989397  2019      Zykel   M      5\n",
       "1989398  2019     Zyking   M      5\n",
       "1989399  2019        Zyn   M      5\n",
       "1989400  2019      Zyran   M      5\n",
       "\n",
       "[1989401 rows x 4 columns]"
      ]
     },
     "execution_count": 150,
     "metadata": {},
     "output_type": "execute_result"
    }
   ],
   "source": [
    "# \"nbsphinx\": \"hidden\"\n",
    "\n",
    "# dataframe with baby names\n",
    "\n",
    "import zipfile\n",
    "import pandas as pd\n",
    "\n",
    "zip = zipfile.ZipFile('names.zip')\n",
    "files = [n for n in  zip.namelist() if n.endswith(\".txt\")]\n",
    "years = [int(f.split(\".\")[0][-4:]) for f in files]\n",
    "\n",
    "frames = []\n",
    "for f in files: \n",
    "    with zip.open(f) as foo:\n",
    "        df = pd.read_csv(foo, names=[\"name\", \"sex\", \"count\"])\n",
    "    frames.append(df)\n",
    "\n",
    "names = (pd.concat(frames,keys=years)\n",
    "         .reset_index(level=0)\n",
    "         .rename({\"level_0\": \"year\"}, axis=1)\n",
    "         .reset_index(drop=True)\n",
    "        )\n",
    "names"
   ]
  },
  {
   "cell_type": "markdown",
   "id": "appointed-shame",
   "metadata": {},
   "source": [
    "### Exercise 1\n",
    "\n",
    "Construct a DataFrame with baby names data coming from the `namesbystate.zip` file. The DataFrame columns should have names \"state\", \"sex\", \"year\", \"name\", and \"count\". You don't need to save this data to a single csv file; if you do, the file size will be about 130 MB. \n",
    "\n",
    "**Check:** The DataFrame should have 6,122,890 rows."
   ]
  },
  {
   "cell_type": "code",
   "execution_count": 151,
   "id": "fitting-auditor",
   "metadata": {
    "nbsphinx": "hidden"
   },
   "outputs": [
    {
     "data": {
      "text/html": [
       "<div>\n",
       "<style scoped>\n",
       "    .dataframe tbody tr th:only-of-type {\n",
       "        vertical-align: middle;\n",
       "    }\n",
       "\n",
       "    .dataframe tbody tr th {\n",
       "        vertical-align: top;\n",
       "    }\n",
       "\n",
       "    .dataframe thead th {\n",
       "        text-align: right;\n",
       "    }\n",
       "</style>\n",
       "<table border=\"1\" class=\"dataframe\">\n",
       "  <thead>\n",
       "    <tr style=\"text-align: right;\">\n",
       "      <th></th>\n",
       "      <th>state</th>\n",
       "      <th>sex</th>\n",
       "      <th>year</th>\n",
       "      <th>name</th>\n",
       "      <th>count</th>\n",
       "    </tr>\n",
       "  </thead>\n",
       "  <tbody>\n",
       "    <tr>\n",
       "      <th>0</th>\n",
       "      <td>AK</td>\n",
       "      <td>F</td>\n",
       "      <td>1910</td>\n",
       "      <td>Mary</td>\n",
       "      <td>14</td>\n",
       "    </tr>\n",
       "    <tr>\n",
       "      <th>1</th>\n",
       "      <td>AK</td>\n",
       "      <td>F</td>\n",
       "      <td>1910</td>\n",
       "      <td>Annie</td>\n",
       "      <td>12</td>\n",
       "    </tr>\n",
       "    <tr>\n",
       "      <th>2</th>\n",
       "      <td>AK</td>\n",
       "      <td>F</td>\n",
       "      <td>1910</td>\n",
       "      <td>Anna</td>\n",
       "      <td>10</td>\n",
       "    </tr>\n",
       "    <tr>\n",
       "      <th>3</th>\n",
       "      <td>AK</td>\n",
       "      <td>F</td>\n",
       "      <td>1910</td>\n",
       "      <td>Margaret</td>\n",
       "      <td>8</td>\n",
       "    </tr>\n",
       "    <tr>\n",
       "      <th>4</th>\n",
       "      <td>AK</td>\n",
       "      <td>F</td>\n",
       "      <td>1910</td>\n",
       "      <td>Helen</td>\n",
       "      <td>7</td>\n",
       "    </tr>\n",
       "    <tr>\n",
       "      <th>...</th>\n",
       "      <td>...</td>\n",
       "      <td>...</td>\n",
       "      <td>...</td>\n",
       "      <td>...</td>\n",
       "      <td>...</td>\n",
       "    </tr>\n",
       "    <tr>\n",
       "      <th>6122885</th>\n",
       "      <td>WY</td>\n",
       "      <td>M</td>\n",
       "      <td>2019</td>\n",
       "      <td>Theo</td>\n",
       "      <td>5</td>\n",
       "    </tr>\n",
       "    <tr>\n",
       "      <th>6122886</th>\n",
       "      <td>WY</td>\n",
       "      <td>M</td>\n",
       "      <td>2019</td>\n",
       "      <td>Tristan</td>\n",
       "      <td>5</td>\n",
       "    </tr>\n",
       "    <tr>\n",
       "      <th>6122887</th>\n",
       "      <td>WY</td>\n",
       "      <td>M</td>\n",
       "      <td>2019</td>\n",
       "      <td>Vincent</td>\n",
       "      <td>5</td>\n",
       "    </tr>\n",
       "    <tr>\n",
       "      <th>6122888</th>\n",
       "      <td>WY</td>\n",
       "      <td>M</td>\n",
       "      <td>2019</td>\n",
       "      <td>Warren</td>\n",
       "      <td>5</td>\n",
       "    </tr>\n",
       "    <tr>\n",
       "      <th>6122889</th>\n",
       "      <td>WY</td>\n",
       "      <td>M</td>\n",
       "      <td>2019</td>\n",
       "      <td>Waylon</td>\n",
       "      <td>5</td>\n",
       "    </tr>\n",
       "  </tbody>\n",
       "</table>\n",
       "<p>6122890 rows × 5 columns</p>\n",
       "</div>"
      ],
      "text/plain": [
       "        state sex  year      name  count\n",
       "0          AK   F  1910      Mary     14\n",
       "1          AK   F  1910     Annie     12\n",
       "2          AK   F  1910      Anna     10\n",
       "3          AK   F  1910  Margaret      8\n",
       "4          AK   F  1910     Helen      7\n",
       "...       ...  ..   ...       ...    ...\n",
       "6122885    WY   M  2019      Theo      5\n",
       "6122886    WY   M  2019   Tristan      5\n",
       "6122887    WY   M  2019   Vincent      5\n",
       "6122888    WY   M  2019    Warren      5\n",
       "6122889    WY   M  2019    Waylon      5\n",
       "\n",
       "[6122890 rows x 5 columns]"
      ]
     },
     "execution_count": 151,
     "metadata": {},
     "output_type": "execute_result"
    }
   ],
   "source": [
    "# \"nbsphinx\": \"hidden\"\n",
    "\n",
    "zip = zipfile.ZipFile('namesbystate.zip')\n",
    "files = [n for n in  zip.namelist() if n.endswith(\".TXT\")]\n",
    "states = [f.split(\".\")[0] for f in files]\n",
    "\n",
    "frames = []\n",
    "for f in files: \n",
    "    with zip.open(f) as foo:\n",
    "        df = pd.read_csv(foo, names=[\"state\", \"sex\", \"year\", \"name\", \"count\"])\n",
    "    frames.append(df)\n",
    "\n",
    "bystate = pd.concat(frames).reset_index(drop=True)\n",
    "bystate"
   ]
  },
  {
   "cell_type": "markdown",
   "id": "operational-inventory",
   "metadata": {},
   "source": [
    "### Exercise 2\n",
    "\n",
    "Compute a DataFrame that lists the total number of babies recorded each year. \n",
    "\n",
    "**Check:** There were 201,484 babies recorded in 1880 and 3,445,321 in 2019."
   ]
  },
  {
   "cell_type": "code",
   "execution_count": 152,
   "id": "straight-substitute",
   "metadata": {
    "nbsphinx": "hidden"
   },
   "outputs": [
    {
     "data": {
      "text/plain": [
       "year\n",
       "1880     201484\n",
       "1881     192696\n",
       "1882     221533\n",
       "1883     216944\n",
       "1884     243461\n",
       "         ...   \n",
       "2015    3694784\n",
       "2016    3661373\n",
       "2017    3567022\n",
       "2018    3503806\n",
       "2019    3445321\n",
       "Name: count, Length: 140, dtype: int64"
      ]
     },
     "execution_count": 152,
     "metadata": {},
     "output_type": "execute_result"
    }
   ],
   "source": [
    "# \"nbsphinx\": \"hidden\"\n",
    "\n",
    "n_babies = names.groupby(by=\"year\")[\"count\"].sum()\n",
    "n_babies"
   ]
  },
  {
   "cell_type": "markdown",
   "id": "metallic-publication",
   "metadata": {},
   "source": [
    "### Exercise 3\n",
    "\n",
    "Compute a DataFrame that lists the number of male babies named \"John\" for each year. \n",
    "\n",
    "**Check:** There were 9,655 such babies recorded in 1880 and 8,779 in 2019."
   ]
  },
  {
   "cell_type": "code",
   "execution_count": 153,
   "id": "analyzed-radical",
   "metadata": {
    "nbsphinx": "hidden"
   },
   "outputs": [
    {
     "data": {
      "text/plain": [
       "year\n",
       "1880     9655\n",
       "1881     8769\n",
       "1882     9557\n",
       "1883     8894\n",
       "1884     9388\n",
       "        ...  \n",
       "2015    10396\n",
       "2016    10032\n",
       "2017     9499\n",
       "2018     9163\n",
       "2019     8779\n",
       "Name: count, Length: 140, dtype: int64"
      ]
     },
     "execution_count": 153,
     "metadata": {},
     "output_type": "execute_result"
    }
   ],
   "source": [
    "# \"nbsphinx\": \"hidden\"\n",
    "\n",
    "n_john = (names[(names[\"name\"] == \"John\") &\n",
    "               (names[\"sex\"] == \"M\")]\n",
    "               .groupby(by=\"year\")[\"count\"].sum())\n",
    "n_john"
   ]
  },
  {
   "cell_type": "markdown",
   "id": "domestic-store",
   "metadata": {},
   "source": [
    "### Exercise 4\n",
    "\n",
    "Compute a DataFrame that lists how many different names were used each year for males and how many for females.\n",
    "\n",
    "**Check:** In 1880 there were 942 different names used for females and 1,058 for males. In 2019 these numbers were 17,905 for females and 14,049 for males."
   ]
  },
  {
   "cell_type": "code",
   "execution_count": 155,
   "id": "finished-resource",
   "metadata": {
    "nbsphinx": "hidden"
   },
   "outputs": [
    {
     "data": {
      "text/plain": [
       "year  sex\n",
       "1880  F        942\n",
       "      M       1058\n",
       "1881  F        938\n",
       "      M        997\n",
       "1882  F       1028\n",
       "             ...  \n",
       "2017  M      14229\n",
       "2018  F      18100\n",
       "      M      14062\n",
       "2019  F      17905\n",
       "      M      14049\n",
       "Name: name, Length: 280, dtype: int64"
      ]
     },
     "execution_count": 155,
     "metadata": {},
     "output_type": "execute_result"
    }
   ],
   "source": [
    "# \"nbsphinx\": \"hidden\"\n",
    "\n",
    "num_names = names.groupby(by=[\"year\", \"sex\"])[\"name\"].count()\n",
    "num_names"
   ]
  },
  {
   "cell_type": "markdown",
   "id": "periodic-hughes",
   "metadata": {},
   "source": [
    "### Exercise 5\n",
    "\n",
    "Compute a DataFrame that for each name shows in which year the name appeared in the records for the first time.\n",
    "\n",
    "**Check:** Here are the first recorded years for a few names: Aaban 2007, Aabha 2011, Aabid 2003, Aabidah 2018. "
   ]
  },
  {
   "cell_type": "code",
   "execution_count": 156,
   "id": "critical-heading",
   "metadata": {
    "nbsphinx": "hidden"
   },
   "outputs": [
    {
     "data": {
      "text/plain": [
       "name\n",
       "Aaban      2007\n",
       "Aabha      2011\n",
       "Aabid      2003\n",
       "Aabidah    2018\n",
       "Aabir      2016\n",
       "           ... \n",
       "Zyvion     2009\n",
       "Zyvon      2015\n",
       "Zyyanna    2010\n",
       "Zyyon      2014\n",
       "Zzyzx      2010\n",
       "Name: year, Length: 99444, dtype: int64"
      ]
     },
     "execution_count": 156,
     "metadata": {},
     "output_type": "execute_result"
    }
   ],
   "source": [
    "# \"nbsphinx\": \"hidden\"\n",
    "\n",
    "first_use = names.groupby(by=[\"name\"])[\"year\"].min()\n",
    "first_use"
   ]
  },
  {
   "cell_type": "markdown",
   "id": "harmful-things",
   "metadata": {},
   "source": [
    "### Exercise 6\n",
    "\n",
    "Compute a DataFrame that shows what was the most popular name for males and the most popular name for females each year. \n",
    "\n",
    "**Check:** The most popular names in 1880  were John and Mary, and in 2019 Liam and Olivia. "
   ]
  },
  {
   "cell_type": "code",
   "execution_count": 154,
   "id": "embedded-assembly",
   "metadata": {
    "nbsphinx": "hidden"
   },
   "outputs": [
    {
     "data": {
      "text/html": [
       "<div>\n",
       "<style scoped>\n",
       "    .dataframe tbody tr th:only-of-type {\n",
       "        vertical-align: middle;\n",
       "    }\n",
       "\n",
       "    .dataframe tbody tr th {\n",
       "        vertical-align: top;\n",
       "    }\n",
       "\n",
       "    .dataframe thead th {\n",
       "        text-align: right;\n",
       "    }\n",
       "</style>\n",
       "<table border=\"1\" class=\"dataframe\">\n",
       "  <thead>\n",
       "    <tr style=\"text-align: right;\">\n",
       "      <th></th>\n",
       "      <th></th>\n",
       "      <th>year</th>\n",
       "      <th>name</th>\n",
       "      <th>sex</th>\n",
       "      <th>count</th>\n",
       "    </tr>\n",
       "    <tr>\n",
       "      <th>year</th>\n",
       "      <th>sex</th>\n",
       "      <th></th>\n",
       "      <th></th>\n",
       "      <th></th>\n",
       "      <th></th>\n",
       "    </tr>\n",
       "  </thead>\n",
       "  <tbody>\n",
       "    <tr>\n",
       "      <th rowspan=\"2\" valign=\"top\">1880</th>\n",
       "      <th>F</th>\n",
       "      <td>1880</td>\n",
       "      <td>Mary</td>\n",
       "      <td>F</td>\n",
       "      <td>7065</td>\n",
       "    </tr>\n",
       "    <tr>\n",
       "      <th>M</th>\n",
       "      <td>1880</td>\n",
       "      <td>John</td>\n",
       "      <td>M</td>\n",
       "      <td>9655</td>\n",
       "    </tr>\n",
       "    <tr>\n",
       "      <th rowspan=\"2\" valign=\"top\">1881</th>\n",
       "      <th>F</th>\n",
       "      <td>1881</td>\n",
       "      <td>Mary</td>\n",
       "      <td>F</td>\n",
       "      <td>6919</td>\n",
       "    </tr>\n",
       "    <tr>\n",
       "      <th>M</th>\n",
       "      <td>1881</td>\n",
       "      <td>John</td>\n",
       "      <td>M</td>\n",
       "      <td>8769</td>\n",
       "    </tr>\n",
       "    <tr>\n",
       "      <th>1882</th>\n",
       "      <th>F</th>\n",
       "      <td>1882</td>\n",
       "      <td>Mary</td>\n",
       "      <td>F</td>\n",
       "      <td>8148</td>\n",
       "    </tr>\n",
       "    <tr>\n",
       "      <th>...</th>\n",
       "      <th>...</th>\n",
       "      <td>...</td>\n",
       "      <td>...</td>\n",
       "      <td>...</td>\n",
       "      <td>...</td>\n",
       "    </tr>\n",
       "    <tr>\n",
       "      <th>2017</th>\n",
       "      <th>M</th>\n",
       "      <td>2017</td>\n",
       "      <td>Liam</td>\n",
       "      <td>M</td>\n",
       "      <td>18821</td>\n",
       "    </tr>\n",
       "    <tr>\n",
       "      <th rowspan=\"2\" valign=\"top\">2018</th>\n",
       "      <th>F</th>\n",
       "      <td>2018</td>\n",
       "      <td>Emma</td>\n",
       "      <td>F</td>\n",
       "      <td>18757</td>\n",
       "    </tr>\n",
       "    <tr>\n",
       "      <th>M</th>\n",
       "      <td>2018</td>\n",
       "      <td>Liam</td>\n",
       "      <td>M</td>\n",
       "      <td>19915</td>\n",
       "    </tr>\n",
       "    <tr>\n",
       "      <th rowspan=\"2\" valign=\"top\">2019</th>\n",
       "      <th>F</th>\n",
       "      <td>2019</td>\n",
       "      <td>Olivia</td>\n",
       "      <td>F</td>\n",
       "      <td>18451</td>\n",
       "    </tr>\n",
       "    <tr>\n",
       "      <th>M</th>\n",
       "      <td>2019</td>\n",
       "      <td>Liam</td>\n",
       "      <td>M</td>\n",
       "      <td>20502</td>\n",
       "    </tr>\n",
       "  </tbody>\n",
       "</table>\n",
       "<p>280 rows × 4 columns</p>\n",
       "</div>"
      ],
      "text/plain": [
       "          year    name sex  count\n",
       "year sex                         \n",
       "1880 F    1880    Mary   F   7065\n",
       "     M    1880    John   M   9655\n",
       "1881 F    1881    Mary   F   6919\n",
       "     M    1881    John   M   8769\n",
       "1882 F    1882    Mary   F   8148\n",
       "...        ...     ...  ..    ...\n",
       "2017 M    2017    Liam   M  18821\n",
       "2018 F    2018    Emma   F  18757\n",
       "     M    2018    Liam   M  19915\n",
       "2019 F    2019  Olivia   F  18451\n",
       "     M    2019    Liam   M  20502\n",
       "\n",
       "[280 rows x 4 columns]"
      ]
     },
     "execution_count": 154,
     "metadata": {},
     "output_type": "execute_result"
    }
   ],
   "source": [
    "# \"nbsphinx\": \"hidden\"\n",
    "\n",
    "def top_name(grp):\n",
    "    return grp.sort_values(by=\"count\", ascending=False).iloc[0]\n",
    "\n",
    "most_popular = names.groupby(by=[\"year\", \"sex\"]).agg(top_name)\n",
    "most_popular\\\n"
   ]
  }
 ],
 "metadata": {
  "kernelspec": {
   "display_name": "Python 3",
   "language": "python",
   "name": "python3"
  },
  "language_info": {
   "codemirror_mode": {
    "name": "ipython",
    "version": 3
   },
   "file_extension": ".py",
   "mimetype": "text/x-python",
   "name": "python",
   "nbconvert_exporter": "python",
   "pygments_lexer": "ipython3",
   "version": "3.8.5"
  }
 },
 "nbformat": 4,
 "nbformat_minor": 5
}
