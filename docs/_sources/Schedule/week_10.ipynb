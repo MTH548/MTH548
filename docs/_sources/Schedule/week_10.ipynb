{
 "cells": [
  {
   "cell_type": "markdown",
   "id": "vocal-spouse",
   "metadata": {},
   "source": [
    "# Week 10 (4/11-4/17)"
   ]
  },
  {
   "cell_type": "markdown",
   "id": "ahead-presence",
   "metadata": {},
   "source": [
    "## Resources"
   ]
  },
  {
   "cell_type": "markdown",
   "id": "minor-collins",
   "metadata": {},
   "source": [
    "### 1. Marathon data"
   ]
  },
  {
   "cell_type": "code",
   "execution_count": 1,
   "id": "handed-taste",
   "metadata": {},
   "outputs": [],
   "source": [
    "import numpy as np\n",
    "import matplotlib.pyplot as plt\n",
    "import seaborn as sns\n",
    "import pandas as pd\n",
    "\n",
    "df = pd.read_csv(\"https://www.mth548.org/_static/kde_marathon_results/marathon_results.csv\")\n",
    "df[\"tot_minutes\"] = pd.to_timedelta(df[\"Finish\"]).dt.total_seconds()/60"
   ]
  },
  {
   "cell_type": "markdown",
   "id": "8f631a5f",
   "metadata": {},
   "source": [
    "### 2. Tip amounts"
   ]
  },
  {
   "cell_type": "code",
   "execution_count": null,
   "id": "47fa206b",
   "metadata": {},
   "outputs": [],
   "source": [
    "from ipywidgets import interact, fixed\n",
    "import numpy as np\n",
    "import matplotlib.pyplot as plt\n",
    "import seaborn as sns\n",
    "\n",
    "plt.style.use('ggplot')\n",
    "sns.set_context(\"notebook\")\n",
    "\n",
    "\n",
    "df = sns.load_dataset('tips')\n",
    "\n",
    "def tip_plot(frac):\n",
    "    frac=frac/100\n",
    "    plt.figure(figsize=(12,7))\n",
    "    sns.scatterplot(data=df, x=\"total_bill\", y=\"tip\", marker='o')\n",
    "    x = np.arange(0, 55)\n",
    "    plt.plot(x, frac*x, c='b', label=f\"{frac:.0%} tip\")\n",
    "    plt.ylim(0, 11)\n",
    "    plt.title(\"Total bill vs tip amount\")\n",
    "    plt.legend()\n",
    "    plt.show()\n",
    "    \n",
    "interact(tip_plot, frac=(10, 20));"
   ]
  },
  {
   "cell_type": "markdown",
   "id": "ae60eaf2",
   "metadata": {},
   "source": [
    "### 3. Gradient descent"
   ]
  },
  {
   "cell_type": "code",
   "execution_count": 3,
   "id": "cf5f3b21",
   "metadata": {},
   "outputs": [],
   "source": [
    "import plotly.graph_objects as go\n",
    "import numpy as np\n",
    "import matplotlib.pyplot as plt\n",
    "import seaborn as sns\n",
    "\n",
    "\n",
    "def descent(Df, x0, l_rate=0.1, nsteps=1000):\n",
    "    '''\n",
    "    Performs gradient descent of a given function f. \n",
    "\n",
    "    Df: \n",
    "        Differential of f\n",
    "    x0:\n",
    "        The xtarrting point. \n",
    "    l_rate: \n",
    "        The learning rate.\n",
    "    nsteps:\n",
    "        Number of iterations to run. \n",
    "  \n",
    "    Returns:\n",
    "        A list of points computed during steps of the gradient descent.  \n",
    "    '''\n",
    "\n",
    "    x = np.array(x0, dtype='float')\n",
    "    path = [x]\n",
    "    for i in range(nsteps):\n",
    "        Dfx = np.array(Df(x))\n",
    "        x = x - l_rate*Dfx\n",
    "        path.append(x)\n",
    "    return path\n",
    "\n",
    "\n",
    "def plot_descent(f, xlim, ylim, path=None, levels=20):\n",
    "    '''\n",
    "    Creates contour plot of a functions and the path \n",
    "    computed by gradient descent applied to the function.\n",
    "    \n",
    "    f:\n",
    "        Function to be plotted\n",
    "    path:\n",
    "        List of coordinates of points computed by the \n",
    "        gradient descent algorithm.\n",
    "    xlim, ylim:\n",
    "        Tuples with limits of x- and y-values for the contour \n",
    "        plot of the function. \n",
    "    levels:\n",
    "        Specifies levels of the contour plot. \n",
    "    '''\n",
    "\n",
    "    plt.figure(figsize=(8, 8))\n",
    "    x, y = np.meshgrid(np.linspace(*xlim, 1000), np.linspace(*ylim, 1000))\n",
    "    Z = f(np.vstack([x.ravel(), y.ravel()])).reshape(x.shape)\n",
    "    plt.contourf(x, y, Z, levels=levels, cmap='bone')\n",
    "    plt.contour(x, y, Z, levels=levels, colors='gray')\n",
    "    if path is not None:\n",
    "        plt.plot([x[0] for x in path], [x[1] for x in path], 'ro-', ms=4)\n",
    "    plt.show()\n",
    "\n",
    "\n",
    "def plot_descent_step(f, xlim, ylim, path=None, levels=20, last=None, step=1):\n",
    "    plot_descent(f=f,\n",
    "                 xlim=xlim,\n",
    "                 ylim=ylim,\n",
    "                 path=path[:last:step],\n",
    "                 levels=levels)\n",
    "\n",
    "\n",
    "def plot3d(f, xlim, ylim):\n",
    "    x = np.linspace(xlim[0], xlim[1], 400)\n",
    "    y = np.linspace(ylim[0], ylim[1], 400)\n",
    "    X, Y = np.meshgrid(x, y)\n",
    "    Z = f(np.array([X, Y]))\n",
    "    fig = go.Figure(go.Surface(x=X, y=Y, z=Z, colorscale=\"picnic\"))\n",
    "    fig.update_layout(autosize=False, width=800, height=600)\n",
    "    fig.show()"
   ]
  },
  {
   "cell_type": "markdown",
   "id": "5fe15767",
   "metadata": {},
   "source": [
    "### 4. Gradient descent test functions"
   ]
  },
  {
   "cell_type": "code",
   "execution_count": 4,
   "id": "ed6e76be",
   "metadata": {},
   "outputs": [],
   "source": [
    "def h(x):\n",
    "    '''\n",
    "    Himmelblau's function\n",
    "    h(x, y) = (x^2 + y - 11)^2 + (x + y^2 - 7)^2\n",
    "    '''\n",
    "    return (x[0]**2 + x[1] - 11)**2 + (x[0] + x[1]**2 - 7)**2\n",
    "\n",
    "def Dh(x):\n",
    "    return np.array([\n",
    "        2 * (x[0]**2 + x[1] - 11) * 2 * x[0] + 2 * (x[0] + x[1]**2 - 7),\n",
    "        2 * (x[0]**2 + x[1] - 11) + 2 * (x[0] + x[1]**2 - 7) * 2 * x[1]\n",
    "    ])\n",
    "\n",
    "\n",
    "def r(x):\n",
    "    '''\n",
    "    Rosenbrock function\n",
    "    r(x, y) = (1-x)^2 + 100(y-x^2)^2\n",
    "    '''\n",
    "    return (1-x[0])**2 + 100*(x[1]-x[0]**2)**2\n",
    "\n",
    "def Dr(x):\n",
    "    return np.array([-2*(1-x[0]) - 400*(x[1]-x[0]**2)*x[0], 200*(x[1]-x[0]**2)])"
   ]
  },
  {
   "cell_type": "markdown",
   "id": "4f134abd",
   "metadata": {},
   "source": [
    "## Exercise \n",
    "\n",
    "\n",
    "1) Split marathon runners data into training and test data.\n",
    "\n",
    "1) Write a function `prob_F()` that takes as the argument the finish time of a runner in minutes and returns the probability that the runner was a female (based on KDE for male and female runners in the training data and the Bayes theorem). Plot the graph of this function for the range of 120-500 minutes. \n",
    "\n",
    "2) Use the function `prob_F()` to predict if each runner in the test data was a males or a females based on their finish time. Compute accuracy of the predictions. "
   ]
  }
 ],
 "metadata": {
  "celltoolbar": "Raw Cell Format",
  "kernelspec": {
   "display_name": "Python 3 (ipykernel)",
   "language": "python",
   "name": "python3"
  },
  "language_info": {
   "codemirror_mode": {
    "name": "ipython",
    "version": 3
   },
   "file_extension": ".py",
   "mimetype": "text/x-python",
   "name": "python",
   "nbconvert_exporter": "python",
   "pygments_lexer": "ipython3",
   "version": "3.8.12"
  }
 },
 "nbformat": 4,
 "nbformat_minor": 5
}
