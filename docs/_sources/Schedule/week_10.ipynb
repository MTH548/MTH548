{
 "cells": [
  {
   "cell_type": "markdown",
   "id": "vocal-spouse",
   "metadata": {},
   "source": [
    "# Week 10 (4/5-4/11)"
   ]
  },
  {
   "cell_type": "markdown",
   "id": "necessary-above",
   "metadata": {},
   "source": [
    "## Zoom recordings\n",
    "\n",
    "* [Tuesday](https://ub.hosted.panopto.com/Panopto/Pages/Viewer.aspx?id=179a8fcf-ad1e-4565-a36b-ad0201432e29)\n",
    "* [Thursday](https://ub.hosted.panopto.com/Panopto/Pages/Viewer.aspx?id=2b53c2ce-aa25-48ac-93e2-ad040144b048)"
   ]
  },
  {
   "cell_type": "markdown",
   "id": "extra-specific",
   "metadata": {},
   "source": [
    "## Notebook\n",
    "\n",
    "\n",
    "- [View online](../_static/weekly_notebooks/week_10_class.html)\n",
    "- Download the notebook file: [week_10_class.ipynb](../_static/weekly_notebooks/week_10_class.ipynb)."
   ]
  },
  {
   "cell_type": "markdown",
   "id": "normal-glossary",
   "metadata": {},
   "source": [
    "## KDE and Bayes Classification"
   ]
  },
  {
   "cell_type": "markdown",
   "id": "sacred-trunk",
   "metadata": {},
   "source": [
    "## Project \n",
    "\n",
    "* [KDE and marathon results](../Projects/kde_marathon_results/kde_marathon_results.ipynb)"
   ]
  },
  {
   "cell_type": "markdown",
   "id": "ahead-presence",
   "metadata": {},
   "source": [
    "## Resources"
   ]
  },
  {
   "cell_type": "markdown",
   "id": "minor-collins",
   "metadata": {},
   "source": [
    "### 1. Histogram demo"
   ]
  },
  {
   "cell_type": "code",
   "execution_count": null,
   "id": "handed-taste",
   "metadata": {},
   "outputs": [],
   "source": [
    "import numpy as np\n",
    "import seaborn as sns\n",
    "import matplotlib.pyplot as plt\n",
    "from ipywidgets import interact, fixed\n",
    "\n",
    "%config InlineBackend.figure_format = 'retina'\n",
    "sns.set_theme(style=\"darkgrid\", palette=\"bright\")\n",
    "\n",
    "def hist(data, bins=10, shift=0):\n",
    "    '''\n",
    "    Plots a histogram of data. \n",
    "    \n",
    "    bins:\n",
    "        number of bins\n",
    "    shift: \n",
    "        shift of bin boundaries. \n",
    "    '''\n",
    "    \n",
    "    plt.figure(figsize=(12,4))\n",
    "    max_shift = 5\n",
    "    data = np.array(data)\n",
    "    plt.xlim(data.min() - max_shift, data.max() + max_shift)\n",
    "    sns.histplot(data,\n",
    "                 stat=\"density\",\n",
    "                 bins=bins,\n",
    "                 binrange =  (data.min() - max_shift + shift,\n",
    "                               data.max() + max_shift + shift)\n",
    "                )\n",
    "    sns.rugplot(data, height=0.05, color='w')\n",
    "    plt.show()\n",
    "\n",
    "\n",
    "N = 50\n",
    "rng = np.random.default_rng(10)\n",
    "data = rng.normal(loc=10, scale=5, size=N)\n",
    "interact(hist, shift=(0, 5, 0.25), bins=(1, 30, 1), data=fixed(data));"
   ]
  },
  {
   "cell_type": "markdown",
   "id": "owned-cambodia",
   "metadata": {},
   "source": [
    "### 2. KDE plot"
   ]
  },
  {
   "cell_type": "code",
   "execution_count": 7,
   "id": "enclosed-spoke",
   "metadata": {},
   "outputs": [],
   "source": [
    "from scipy.stats import norm\n",
    "\n",
    "def kde(data, h, x):\n",
    "    \"\"\"\n",
    "    Compute KDE of data with  Gaussian kernels\n",
    "    \n",
    "    x:\n",
    "       KDE value will be computed for each value \n",
    "       of this array. \n",
    "    h: \n",
    "       Kernel bandwidth\n",
    "    \"\"\"\n",
    "    \n",
    "    y = np.zeros_like(x)\n",
    "    for X in data:\n",
    "        y += norm.pdf(x, loc=X, scale=h)\n",
    "    return y/len(data)\n",
    "\n",
    "\n",
    "def plot_kde(data, h=0.1, show_kernels=False):\n",
    "    \"\"\"\n",
    "    Plot KDE\n",
    "    \n",
    "    data:\n",
    "        An array with data defining KDE. \n",
    "    h:\n",
    "        Kernel bandwidth. \n",
    "    show_kernels:\n",
    "        Boolean. If true, individual kernels are \n",
    "        plotted too. \n",
    "    \"\"\"\n",
    "    \n",
    "    x = np.linspace(data.min() - 3, data.max() + 3, 400)\n",
    "    plt.figure(figsize=(14,4))\n",
    "    plt.plot(x, kde(data, h, x), lw=7, c='steelblue', alpha=0.4)\n",
    "    plt.plot(data, [0]*len(data), 'r|', ms=15, mew=2)\n",
    "    if show_kernels:\n",
    "        for X in data:\n",
    "            plt.plot(x, 1/len(data)*norm.pdf(x, loc=X, scale=h), 'r--', lw=0.7)"
   ]
  },
  {
   "cell_type": "markdown",
   "id": "written-conservative",
   "metadata": {},
   "source": [
    "### 4. KDE integral widget"
   ]
  },
  {
   "cell_type": "code",
   "execution_count": null,
   "id": "worldwide-gothic",
   "metadata": {},
   "outputs": [],
   "source": [
    "from  scipy.stats import gaussian_kde\n",
    "\n",
    "def integrate(data, lower=7, upper=12):\n",
    "    \"\"\"\n",
    "    Plot integral of KDE\n",
    "    \n",
    "    data:\n",
    "        An array with data defining KDE\n",
    "    lower, upper:\n",
    "        Limits of integration. \n",
    "    \"\"\"\n",
    "\n",
    "    kde_data = gaussian_kde(data)\n",
    "    integral = kde_data.integrate_box(lower, upper)\n",
    "    xfill = np.linspace(lower, upper, 100)\n",
    "\n",
    "    x_min = data.min() - 1\n",
    "    x_max = data.max() + 1\n",
    "    x = np.linspace(x_min, x_max, 400)\n",
    "\n",
    "    plt.figure(figsize=(10, 5))\n",
    "    plt.xlim(x_min - 1, x_max + 1)\n",
    "    plt.title(f\"$\\int^{{{upper:.2f}}}_{{{lower:.2f}}}\\ f(t)dt = {integral:.3f}$\",\n",
    "              fontsize=20,\n",
    "              y=1.1)\n",
    "    plt.plot(x, kde_data(x))\n",
    "    if lower <= upper:\n",
    "        plt.fill_between(xfill,\n",
    "                         kde_data(xfill),\n",
    "                         0,\n",
    "                         color='steelblue',\n",
    "                         alpha=0.3)\n",
    "    plt.plot(data, [0] * len(data), 'r|', ms=15)\n",
    "\n",
    "\n",
    "N = 50\n",
    "rng = np.random.default_rng(10)\n",
    "data = rng.normal(loc=10, scale=5, size=N)\n",
    "interact(integrate,\n",
    "         data=fixed(data),\n",
    "         lower=(data.min() - 1, data.max() + 1, 0.2),\n",
    "         upper=(data.min() - 1, data.max() + 1, 0.2));"
   ]
  }
 ],
 "metadata": {
  "kernelspec": {
   "display_name": "Python 3",
   "language": "python",
   "name": "python3"
  },
  "language_info": {
   "codemirror_mode": {
    "name": "ipython",
    "version": 3
   },
   "file_extension": ".py",
   "mimetype": "text/x-python",
   "name": "python",
   "nbconvert_exporter": "python",
   "pygments_lexer": "ipython3",
   "version": "3.8.5"
  }
 },
 "nbformat": 4,
 "nbformat_minor": 5
}
