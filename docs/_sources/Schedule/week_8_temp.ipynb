{
 "cells": [
  {
   "cell_type": "markdown",
   "id": "endangered-recall",
   "metadata": {},
   "source": [
    "# Week 8 (3/22-3/28)"
   ]
  },
  {
   "cell_type": "markdown",
   "id": "straight-conclusion",
   "metadata": {},
   "source": [
    "## Data formats\n",
    "\n",
    "* XML\n",
    "* [JSON](../Tools/json/json.ipynb)"
   ]
  },
  {
   "cell_type": "markdown",
   "id": "working-oklahoma",
   "metadata": {},
   "source": [
    "## lxml installation"
   ]
  },
  {
   "cell_type": "code",
   "execution_count": null,
   "id": "blond-forward",
   "metadata": {},
   "outputs": [],
   "source": [
    "%pip install lxml"
   ]
  },
  {
   "cell_type": "markdown",
   "id": "crude-variance",
   "metadata": {},
   "source": [
    "## Project \n",
    "\n",
    "* [Discord logs](../Projects/discord_logs/discord_logs.ipynb)"
   ]
  },
  {
   "cell_type": "markdown",
   "id": "dangerous-bennett",
   "metadata": {},
   "source": [
    "## Resources"
   ]
  },
  {
   "cell_type": "markdown",
   "id": "regulation-property",
   "metadata": {},
   "source": [
    "### 1. Sample Excel file"
   ]
  },
  {
   "cell_type": "raw",
   "id": "institutional-simpson",
   "metadata": {
    "raw_mimetype": "text/restructuredtext"
   },
   "source": [
    "| :download:`excel_sample.xlsx <excel_sample.xlsx>`"
   ]
  },
  {
   "cell_type": "markdown",
   "id": "regulation-parking",
   "metadata": {},
   "source": [
    "### 2. Sample SVG file"
   ]
  },
  {
   "cell_type": "markdown",
   "id": "packed-reading",
   "metadata": {},
   "source": [
    "[Dodecahedron.svg](https://upload.wikimedia.org/wikipedia/commons/a/a4/Dodecahedron.svg)"
   ]
  },
  {
   "cell_type": "code",
   "execution_count": 12,
   "id": "oriented-ballot",
   "metadata": {
    "raw_mimetype": "text/restructuredtext"
   },
   "outputs": [],
   "source": [
    "dodeca = \"https://upload.wikimedia.org/wikipedia/commons/a/a4/Dodecahedron.svg\""
   ]
  },
  {
   "cell_type": "markdown",
   "id": "southern-thanksgiving",
   "metadata": {},
   "source": [
    "### 3. National Weather service API\n",
    "\n",
    "[Documentation](https://www.weather.gov/documentation/services-web-api)"
   ]
  },
  {
   "cell_type": "markdown",
   "id": "according-baltimore",
   "metadata": {},
   "source": [
    "* Alerts url:"
   ]
  },
  {
   "cell_type": "code",
   "execution_count": 8,
   "id": "heard-shape",
   "metadata": {},
   "outputs": [],
   "source": [
    "alerts_url = \"https://api.weather.gov/alerts\""
   ]
  },
  {
   "cell_type": "markdown",
   "id": "enhanced-watershed",
   "metadata": {},
   "source": [
    "* Point url:"
   ]
  },
  {
   "cell_type": "code",
   "execution_count": 9,
   "id": "exciting-missile",
   "metadata": {},
   "outputs": [],
   "source": [
    "point_url = \"https://api.weather.gov/points/\""
   ]
  },
  {
   "cell_type": "markdown",
   "id": "spanish-mozambique",
   "metadata": {},
   "source": [
    "### 4. Nominatim API\n",
    "\n",
    "[Documentation](https://nominatim.org/release-docs/latest/)"
   ]
  },
  {
   "cell_type": "code",
   "execution_count": 10,
   "id": "classical-arena",
   "metadata": {},
   "outputs": [],
   "source": [
    "nominatim_url = \"https://nominatim.openstreetmap.org/search\""
   ]
  },
  {
   "cell_type": "markdown",
   "id": "collected-failing",
   "metadata": {},
   "source": [
    "### 5. DataFrame with times"
   ]
  },
  {
   "cell_type": "code",
   "execution_count": null,
   "id": "agricultural-soviet",
   "metadata": {},
   "outputs": [],
   "source": [
    "import pandas as pd\n",
    "\n",
    "df = pd.DataFrame([\n",
    "    {\n",
    "        \"event\": \"event_1\",\n",
    "        \"start\": '2021-03-04T23:03:12.351+00:00',\n",
    "        \"end\": '2021-03-04T23:04:08.669+00:00'\n",
    "    },\n",
    "    {\n",
    "        \"event\": \"event_2\",\n",
    "        \"start\": '2021-03-05T12:12:12.010+00:00',\n",
    "        \"end\": '2021-03-05T17:56:17.123+00:00'\n",
    "    },\n",
    "    {\n",
    "        \"event\": \"event_3\",\n",
    "        \"start\": '2021-03-04T13:29:45.594+00:00',\n",
    "        \"end\": '2021-03-06T00:04:46.032+00:00'\n",
    "    },\n",
    "])"
   ]
  },
  {
   "cell_type": "markdown",
   "id": "balanced-charger",
   "metadata": {},
   "source": [
    "## Exercise"
   ]
  },
  {
   "cell_type": "markdown",
   "id": "noticed-belle",
   "metadata": {},
   "source": [
    "Use Nominatim API and National Weather Service API to write a function `get_forecast()` that prints weather forecast for a given city in the United States. "
   ]
  },
  {
   "cell_type": "markdown",
   "id": "fixed-pixel",
   "metadata": {},
   "source": [
    "**Example.**"
   ]
  },
  {
   "cell_type": "code",
   "execution_count": 4,
   "id": "geographic-tribute",
   "metadata": {
    "nbsphinx": "hidden"
   },
   "outputs": [],
   "source": [
    "# HIDDEN\n",
    "#  \"nbsphinx\": \"hidden\",\n",
    "\n",
    "from textwrap import wrap\n",
    "from datetime import datetime\n",
    "import requests\n",
    "\n",
    "def get_forecast(city):\n",
    "    \n",
    "    \n",
    "    user_agent = \"MTH 448 testing/1.0\"\n",
    "    headers = {'User-Agent': user_agent}\n",
    "    nominatim_url = \"https://nominatim.openstreetmap.org/search\"\n",
    "    point_url = \"https://api.weather.gov/points/{lat},{lon}\"\n",
    "    \n",
    "    # get latitute and longitude \n",
    "    city, state = city.split(\",\")\n",
    "    city = city.strip()\n",
    "    state = state.strip()\n",
    "    params = {\"city\": city, \"state\": state,  \"format\": \"json\"}\n",
    "    r = requests.get(nominatim_url, params=params, headers=headers)\n",
    "    locations = r.json()\n",
    "    \n",
    "    if not locations:\n",
    "        print(f\"Location {city}, {state} not found\")\n",
    "        return None\n",
    "    \n",
    "    name = locations[0][\"display_name\"]\n",
    "    lat = locations[0]['lat']\n",
    "    lon = locations[0]['lon']\n",
    "    \n",
    "    # get url of the weather forecast webpage\n",
    "    point_url = point_url.format(lat=lat, lon=lon)\n",
    "    r = requests.get(point_url, headers=headers)\n",
    "    forecast_url = r.json()['properties']['forecast']\n",
    "    \n",
    "    # get weather forecast\n",
    "    r = requests.get(forecast_url, headers=headers)\n",
    "    \n",
    "    # print forecast\n",
    "    print(name)\n",
    "    #print(\"Updated: \", datetime.fromisoformat(r.json()['properties']['updated']).astimezone())\n",
    "    print()\n",
    "    \n",
    "    periods = r.json()['properties']['periods']\n",
    "    for p in periods:\n",
    "        print(p[\"name\"])\n",
    "        print(\"Temperature:\",  p[\"temperature\"], p['temperatureUnit'])\n",
    "        print(\"Wind:\",  p['windSpeed'], p['windDirection'])\n",
    "        print(\"\\n\".join(wrap(f\"Forecast: {p['detailedForecast']}\")))\n",
    "        print()"
   ]
  },
  {
   "cell_type": "code",
   "execution_count": 5,
   "id": "requested-aging",
   "metadata": {
    "raw_mimetype": "text/html"
   },
   "outputs": [
    {
     "name": "stdout",
     "output_type": "stream",
     "text": [
      "Buffalo, Erie County, New York, United States\n",
      "\n",
      "Tonight\n",
      "Temperature: 23 F\n",
      "Wind: 7 to 14 mph NW\n",
      "Forecast: Mostly clear, with a low around 23. Northwest wind 7 to 14\n",
      "mph.\n",
      "\n",
      "Saturday\n",
      "Temperature: 35 F\n",
      "Wind: 6 to 18 mph W\n",
      "Forecast: Sunny, with a high near 35. West wind 6 to 18 mph, with\n",
      "gusts as high as 30 mph.\n",
      "\n",
      "Saturday Night\n",
      "Temperature: 30 F\n",
      "Wind: 12 to 18 mph SW\n",
      "Forecast: Mostly clear, with a low around 30. Southwest wind 12 to 18\n",
      "mph, with gusts as high as 29 mph.\n",
      "\n",
      "Sunday\n",
      "Temperature: 39 F\n",
      "Wind: 9 to 17 mph NW\n",
      "Forecast: Mostly sunny, with a high near 39. Northwest wind 9 to 17\n",
      "mph.\n",
      "\n",
      "Sunday Night\n",
      "Temperature: 19 F\n",
      "Wind: 8 to 16 mph N\n",
      "Forecast: Mostly clear, with a low around 19. North wind 8 to 16 mph.\n",
      "\n",
      "Monday\n",
      "Temperature: 33 F\n",
      "Wind: 8 mph NE\n",
      "Forecast: Sunny, with a high near 33.\n",
      "\n",
      "Monday Night\n",
      "Temperature: 27 F\n",
      "Wind: 8 mph E\n",
      "Forecast: A chance of snow showers after 8pm. Mostly cloudy, with a\n",
      "low around 27. Chance of precipitation is 30%. Little or no snow\n",
      "accumulation expected.\n",
      "\n",
      "Tuesday\n",
      "Temperature: 44 F\n",
      "Wind: 7 mph SE\n",
      "Forecast: A chance of snow showers before 10am, then a chance of rain\n",
      "and snow showers. Partly sunny, with a high near 44. Chance of\n",
      "precipitation is 40%. Little or no snow accumulation expected.\n",
      "\n",
      "Tuesday Night\n",
      "Temperature: 35 F\n",
      "Wind: 7 mph S\n",
      "Forecast: A chance of rain showers before 3am, then a slight chance of\n",
      "rain and snow showers. Mostly cloudy, with a low around 35. Chance of\n",
      "precipitation is 40%.\n",
      "\n",
      "Wednesday\n",
      "Temperature: 47 F\n",
      "Wind: 8 mph SW\n",
      "Forecast: A slight chance of rain and snow showers before 2pm. Partly\n",
      "sunny, with a high near 47.\n",
      "\n",
      "Wednesday Night\n",
      "Temperature: 34 F\n",
      "Wind: 5 to 8 mph SW\n",
      "Forecast: A slight chance of rain showers between 8pm and 3am, then a\n",
      "slight chance of rain and snow showers. Mostly cloudy, with a low\n",
      "around 34.\n",
      "\n",
      "Thursday\n",
      "Temperature: 45 F\n",
      "Wind: 8 mph S\n",
      "Forecast: A chance of rain and snow showers. Mostly cloudy, with a\n",
      "high near 45. Chance of precipitation is 30%.\n",
      "\n",
      "Thursday Night\n",
      "Temperature: 29 F\n",
      "Wind: 8 to 12 mph NW\n",
      "Forecast: A chance of rain showers before 10pm, then a chance of rain\n",
      "and snow showers. Mostly cloudy, with a low around 29. Chance of\n",
      "precipitation is 30%.\n",
      "\n",
      "Friday\n",
      "Temperature: 39 F\n",
      "Wind: 14 mph N\n",
      "Forecast: A chance of snow showers before 1pm, then a slight chance of\n",
      "rain and snow showers. Mostly sunny, with a high near 39. Chance of\n",
      "precipitation is 30%.\n",
      "\n"
     ]
    }
   ],
   "source": [
    "get_forecast(\"Buffalo, NY\")"
   ]
  }
 ],
 "metadata": {
  "celltoolbar": "Raw Cell Format",
  "kernelspec": {
   "display_name": "Python 3",
   "language": "python",
   "name": "python3"
  },
  "language_info": {
   "codemirror_mode": {
    "name": "ipython",
    "version": 3
   },
   "file_extension": ".py",
   "mimetype": "text/x-python",
   "name": "python",
   "nbconvert_exporter": "python",
   "pygments_lexer": "ipython3",
   "version": "3.8.5"
  }
 },
 "nbformat": 4,
 "nbformat_minor": 5
}
