{
 "cells": [
  {
   "cell_type": "markdown",
   "metadata": {},
   "source": [
    "# Preliminaries"
   ]
  },
  {
   "cell_type": "markdown",
   "metadata": {},
   "source": [
    "Welcome to MTH 448/548!\n",
    "\n",
    "Here is what you need to do before the start of this course:\n",
    "\n",
    "**1.** Install on your computer [Anaconda Distribution of Python 3.9](https://www.anaconda.com/products/individual#Downloads). If you have an older version of the Anaconda Distribution installed, install the new one.\n",
    "\n",
    "**2.** Join the MTH 448/548 Discord server using the link you received by email with other course information. If you have not received the email let me know at <a href=\"mailto:badzioch@buffalo.edu?subject=MTH 448/548\"> badzioch@buffalo.edu</a>."
   ]
  }
 ],
 "metadata": {
  "kernelspec": {
   "display_name": "Python 3 (ipykernel)",
   "language": "python",
   "name": "python3"
  },
  "language_info": {
   "codemirror_mode": {
    "name": "ipython",
    "version": 3
   },
   "file_extension": ".py",
   "mimetype": "text/x-python",
   "name": "python",
   "nbconvert_exporter": "python",
   "pygments_lexer": "ipython3",
   "version": "3.8.5"
  }
 },
 "nbformat": 4,
 "nbformat_minor": 4
}
