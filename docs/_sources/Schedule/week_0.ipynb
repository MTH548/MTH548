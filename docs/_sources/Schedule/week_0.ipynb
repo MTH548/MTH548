{
 "cells": [
  {
   "cell_type": "markdown",
   "metadata": {},
   "source": [
    "# Preliminaries"
   ]
  },
  {
   "cell_type": "markdown",
   "metadata": {},
   "source": [
    "Welcome to MTH 448/548!\n",
    "\n",
    "Here is what you need to do before the start of this course:\n",
    "\n",
    "**1.** Install on your computer [Anaconda Distribution of Python 3.9](https://www.anaconda.com/products/individual#Downloads). If you have an older version of the Anaconda Distribution installed, install the new one.\n",
    "\n",
    "**2.** Join the MTH 448/548 Discord server using the link you received by email with other course information. If you have not received the email let me know at <a href=\"mailto:badzioch@buffalo.edu?subject=MTH 448/548\"> badzioch@buffalo.edu</a>.\n",
    "\n",
    "**3.** Fill out and submit the form below. **Please do it by the end of Sunday, January 31 so I can finalize group assignments**.\n",
    "\n",
    "We will meet on Zoom on Tuesday, February 2 at 12:45 PM. [Here](https://buffalo.zoom.us/j/91084963511?pwd=akVwSEI4U25VdzZuRGRlbmpoeHArQT09) is a link to the Zoom meeting.  "
   ]
  },
  {
   "cell_type": "markdown",
   "metadata": {},
   "source": [
    "<iframe src=\"https://docs.google.com/forms/d/e/1FAIpQLSfvJH7E1K9uyU02XKP0SqT5JA_EoOBwgFv2xTWLnz-IfEqf-g/viewform?embedded=true\" width=\"640\" height=\"1550\" frameborder=\"0\" marginheight=\"0\" marginwidth=\"0\">Loading…</iframe>"
   ]
  }
 ],
 "metadata": {
  "kernelspec": {
   "display_name": "Python 3 (ipykernel)",
   "language": "python",
   "name": "python3"
  },
  "language_info": {
   "codemirror_mode": {
    "name": "ipython",
    "version": 3
   },
   "file_extension": ".py",
   "mimetype": "text/x-python",
   "name": "python",
   "nbconvert_exporter": "python",
   "pygments_lexer": "ipython3",
   "version": "3.8.5"
  }
 },
 "nbformat": 4,
 "nbformat_minor": 4
}
