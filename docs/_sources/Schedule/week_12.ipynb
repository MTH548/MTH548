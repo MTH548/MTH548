{
 "cells": [
  {
   "cell_type": "markdown",
   "id": "vocal-spouse",
   "metadata": {},
   "source": [
    "# Week 12 (4/25-5/1)"
   ]
  },
  {
   "cell_type": "markdown",
   "id": "c2595b58",
   "metadata": {},
   "source": [
    "## Notebook\n",
    "\n",
    "- [View online](../_static/weekly_notebooks/week_12_class.html)\n",
    "- Download the notebook file: [week_12_class.ipynb](../_static/weekly_notebooks/week_12_class.ipynb)"
   ]
  },
  {
   "cell_type": "markdown",
   "id": "46f25417",
   "metadata": {},
   "source": [
    "## Weekly digest"
   ]
  },
  {
   "cell_type": "raw",
   "id": "da1c86e7",
   "metadata": {
    "raw_mimetype": "text/restructuredtext"
   },
   "source": [
    ".. toctree::\n",
    "   :maxdepth: 1\n",
    "\n",
    "   ../Digests/digest_12"
   ]
  },
  {
   "cell_type": "markdown",
   "id": "normal-glossary",
   "metadata": {},
   "source": [
    "## Text classification with Naive Bayes\n",
    "\n",
    "* Text processing\n",
    "* Naive Bayes classification\n",
    "* Laplace smoothing\n",
    "* Word clouds"
   ]
  },
  {
   "cell_type": "markdown",
   "id": "sacred-trunk",
   "metadata": {},
   "source": [
    "## Project \n",
    "\n",
    "* [Text with naive Bayes](../Projects/text_with_naive_bayes/text_with_naive_bayes.ipynb)"
   ]
  },
  {
   "cell_type": "markdown",
   "id": "7b5dc103",
   "metadata": {},
   "source": [
    "## Resources"
   ]
  },
  {
   "cell_type": "markdown",
   "id": "60c1124a",
   "metadata": {},
   "source": [
    "### 1. Word counts"
   ]
  },
  {
   "cell_type": "raw",
   "id": "e5e20f83",
   "metadata": {
    "raw_mimetype": "text/restructuredtext"
   },
   "source": [
    ":download:`word_counts.csv <word_counts.csv>`"
   ]
  },
  {
   "cell_type": "markdown",
   "id": "1dcd5ad9",
   "metadata": {},
   "source": [
    "### 2. Stop words"
   ]
  },
  {
   "cell_type": "raw",
   "id": "130a9dc3",
   "metadata": {
    "raw_mimetype": "text/restructuredtext"
   },
   "source": [
    ":download:`stopwords.txt <stopwords.txt>`"
   ]
  },
  {
   "cell_type": "markdown",
   "id": "incorrect-entry",
   "metadata": {},
   "source": [
    "## Exercises"
   ]
  },
  {
   "cell_type": "markdown",
   "id": "meaning-construction",
   "metadata": {},
   "source": [
    "### Exercise 1"
   ]
  },
  {
   "cell_type": "raw",
   "id": "79494a9c",
   "metadata": {
    "raw_mimetype": "text/restructuredtext"
   },
   "source": [
    "Use the file  :download:`movie_reviews.zip <./movie_reviews.zip>` to create a dataframe with two columns \"positive\" and \"negative\". Rows of the dataframe should be labeled by words appearing in the text of the reviews. The entries of a row should show how many times the given word appears in the text of negative reviews and how many times it appears in positive reviews. \n",
    "\n",
    "**Note:**\n",
    "\n",
    "1. A word is a sequence consisting of letters and possibly the apostrophe. Thus `hello` and `don't` are words. \n",
    "2. Capitalization of words should be ignored. That is, we consider `hello`, `Hello` and `HELLO` as the same word. "
   ]
  },
  {
   "cell_type": "code",
   "execution_count": 42,
   "id": "60b22ce1",
   "metadata": {
    "nbsphinx": "hidden"
   },
   "outputs": [
    {
     "data": {
      "text/html": [
       "<div>\n",
       "<style scoped>\n",
       "    .dataframe tbody tr th:only-of-type {\n",
       "        vertical-align: middle;\n",
       "    }\n",
       "\n",
       "    .dataframe tbody tr th {\n",
       "        vertical-align: top;\n",
       "    }\n",
       "\n",
       "    .dataframe thead th {\n",
       "        text-align: right;\n",
       "    }\n",
       "</style>\n",
       "<table border=\"1\" class=\"dataframe\">\n",
       "  <thead>\n",
       "    <tr style=\"text-align: right;\">\n",
       "      <th></th>\n",
       "      <th>negative</th>\n",
       "      <th>positive</th>\n",
       "    </tr>\n",
       "  </thead>\n",
       "  <tbody>\n",
       "    <tr>\n",
       "      <th>this</th>\n",
       "      <td>20294</td>\n",
       "      <td>17756</td>\n",
       "    </tr>\n",
       "    <tr>\n",
       "      <th>show</th>\n",
       "      <td>1390</td>\n",
       "      <td>1791</td>\n",
       "    </tr>\n",
       "    <tr>\n",
       "      <th>proved</th>\n",
       "      <td>49</td>\n",
       "      <td>76</td>\n",
       "    </tr>\n",
       "    <tr>\n",
       "      <th>to</th>\n",
       "      <td>34325</td>\n",
       "      <td>33630</td>\n",
       "    </tr>\n",
       "    <tr>\n",
       "      <th>be</th>\n",
       "      <td>7241</td>\n",
       "      <td>6262</td>\n",
       "    </tr>\n",
       "    <tr>\n",
       "      <th>...</th>\n",
       "      <td>...</td>\n",
       "      <td>...</td>\n",
       "    </tr>\n",
       "    <tr>\n",
       "      <th>virginny</th>\n",
       "      <td>0</td>\n",
       "      <td>2</td>\n",
       "    </tr>\n",
       "    <tr>\n",
       "      <th>seeping</th>\n",
       "      <td>0</td>\n",
       "      <td>1</td>\n",
       "    </tr>\n",
       "    <tr>\n",
       "      <th>lode</th>\n",
       "      <td>0</td>\n",
       "      <td>2</td>\n",
       "    </tr>\n",
       "    <tr>\n",
       "      <th>spooner</th>\n",
       "      <td>0</td>\n",
       "      <td>1</td>\n",
       "    </tr>\n",
       "    <tr>\n",
       "      <th>stirrings</th>\n",
       "      <td>0</td>\n",
       "      <td>1</td>\n",
       "    </tr>\n",
       "  </tbody>\n",
       "</table>\n",
       "<p>56367 rows × 2 columns</p>\n",
       "</div>"
      ],
      "text/plain": [
       "           negative  positive\n",
       "this          20294     17756\n",
       "show           1390      1791\n",
       "proved           49        76\n",
       "to            34325     33630\n",
       "be             7241      6262\n",
       "...             ...       ...\n",
       "virginny          0         2\n",
       "seeping           0         1\n",
       "lode              0         2\n",
       "spooner           0         1\n",
       "stirrings         0         1\n",
       "\n",
       "[56367 rows x 2 columns]"
      ]
     },
     "execution_count": 42,
     "metadata": {},
     "output_type": "execute_result"
    }
   ],
   "source": [
    "#  \"nbsphinx\": \"hidden\"\n",
    "from collections import Counter\n",
    "import re\n",
    "from sklearn.model_selection import train_test_split\n",
    "import pandas as pd\n",
    "\n",
    "\n",
    "movies = pd.read_csv('movie_reviews.zip')\n",
    "train_df, test_df = train_test_split(movies, test_size=0.5, random_state=1)\n",
    "grouped = train_df.groupby(by='sentiment')['review'].sum()\n",
    "\n",
    "words = {}\n",
    "for k in grouped.index:\n",
    "    words[k] = Counter(re.findall(r\"[a-z]+\", grouped[k].replace(\"<br />\", \"\").lower()))\n",
    "word_counts = pd.DataFrame(words).fillna(0).astype(int)\n",
    "word_counts.to_csv(\"word_counts.csv\")"
   ]
  },
  {
   "cell_type": "code",
   "execution_count": 43,
   "id": "79dca981",
   "metadata": {},
   "outputs": [
    {
     "data": {
      "text/html": [
       "<div>\n",
       "<style scoped>\n",
       "    .dataframe tbody tr th:only-of-type {\n",
       "        vertical-align: middle;\n",
       "    }\n",
       "\n",
       "    .dataframe tbody tr th {\n",
       "        vertical-align: top;\n",
       "    }\n",
       "\n",
       "    .dataframe thead th {\n",
       "        text-align: right;\n",
       "    }\n",
       "</style>\n",
       "<table border=\"1\" class=\"dataframe\">\n",
       "  <thead>\n",
       "    <tr style=\"text-align: right;\">\n",
       "      <th></th>\n",
       "      <th>negative</th>\n",
       "      <th>positive</th>\n",
       "    </tr>\n",
       "  </thead>\n",
       "  <tbody>\n",
       "    <tr>\n",
       "      <th>this</th>\n",
       "      <td>20294</td>\n",
       "      <td>17756</td>\n",
       "    </tr>\n",
       "    <tr>\n",
       "      <th>show</th>\n",
       "      <td>1390</td>\n",
       "      <td>1791</td>\n",
       "    </tr>\n",
       "    <tr>\n",
       "      <th>proved</th>\n",
       "      <td>49</td>\n",
       "      <td>76</td>\n",
       "    </tr>\n",
       "    <tr>\n",
       "      <th>to</th>\n",
       "      <td>34325</td>\n",
       "      <td>33630</td>\n",
       "    </tr>\n",
       "    <tr>\n",
       "      <th>be</th>\n",
       "      <td>7241</td>\n",
       "      <td>6262</td>\n",
       "    </tr>\n",
       "    <tr>\n",
       "      <th>a</th>\n",
       "      <td>39146</td>\n",
       "      <td>42334</td>\n",
       "    </tr>\n",
       "    <tr>\n",
       "      <th>waste</th>\n",
       "      <td>674</td>\n",
       "      <td>50</td>\n",
       "    </tr>\n",
       "    <tr>\n",
       "      <th>of</th>\n",
       "      <td>34273</td>\n",
       "      <td>38891</td>\n",
       "    </tr>\n",
       "    <tr>\n",
       "      <th>minutes</th>\n",
       "      <td>1099</td>\n",
       "      <td>426</td>\n",
       "    </tr>\n",
       "    <tr>\n",
       "      <th>precious</th>\n",
       "      <td>27</td>\n",
       "      <td>24</td>\n",
       "    </tr>\n",
       "  </tbody>\n",
       "</table>\n",
       "</div>"
      ],
      "text/plain": [
       "          negative  positive\n",
       "this         20294     17756\n",
       "show          1390      1791\n",
       "proved          49        76\n",
       "to           34325     33630\n",
       "be            7241      6262\n",
       "a            39146     42334\n",
       "waste          674        50\n",
       "of           34273     38891\n",
       "minutes       1099       426\n",
       "precious        27        24"
      ]
     },
     "execution_count": 43,
     "metadata": {},
     "output_type": "execute_result"
    }
   ],
   "source": [
    "word_counts.head(10) "
   ]
  },
  {
   "cell_type": "markdown",
   "id": "a4201828",
   "metadata": {},
   "source": [
    "### Exercise 2"
   ]
  },
  {
   "cell_type": "markdown",
   "id": "6ef30d7a",
   "metadata": {},
   "source": [
    "Write a function `rev_probs()` which takes as its argument text of a review and returns logarithm of probabilities that the review is positive and negative based on the training data. The function should use naive Bayes with Laplace smoothing to compute the probabilities."
   ]
  },
  {
   "cell_type": "markdown",
   "id": "0fa7f600",
   "metadata": {},
   "source": [
    "**Example:**"
   ]
  },
  {
   "cell_type": "code",
   "execution_count": 22,
   "id": "2f94ac76",
   "metadata": {},
   "outputs": [],
   "source": [
    "# sample review\n",
    "\n",
    "review = \"\"\"I saw this recent Woody Allen film because I\\'m a fan of \n",
    "his work and I make it a point to try to see everything he does, though \n",
    "the reviews of this film led me to expect a disappointing effort. They were right. \n",
    "This is a confused movie that can\\'t decide whether it wants to be a comedy, \n",
    "a romantic fantasy, or a drama about female mid-life crisis. It fails at all three.\n",
    "<br /><br />Alice (Mia Farrow) is a restless middle aged woman who has married into \n",
    "great wealth and leads a life of aimless luxury with her rather boring husband and \n",
    "their two small children. This rather mundane plot concept is livened up with such \n",
    "implausibilities as an old Chinese folk healer who makes her invisible with some magic \n",
    "herbs, and the ghost of a former lover (with whom she flies over Manhattan). If these \n",
    "additions sound too fantastic for you, how about something more prosaic, like an affair \n",
    "with a saxophone player?<br /><br />I was never quite sure of what this mixed up muddle \n",
    "was trying to say. There are only a handful of truly funny moments in the film, \n",
    "and the endingis a really preposterous touch of Pollyanna.<br /><br />Rent \\'Crimes and \n",
    "Misdemeanors\\' instead, a superbly well-done film that suceeds in combining comedy with \n",
    "a serious consideration of ethics and morals. Or go back to \"Annie Hall\" or \"Manhattan\".\"\"\""
   ]
  },
  {
   "cell_type": "code",
   "execution_count": 38,
   "id": "529b2e13",
   "metadata": {
    "nbsphinx": "hidden"
   },
   "outputs": [],
   "source": [
    "#  \"nbsphinx\": \"hidden\"\n",
    "from sklearn.model_selection import train_test_split\n",
    "import pandas as pd\n",
    "import re\n",
    "import numpy as np\n",
    "\n",
    "movies = pd.read_csv('movie_reviews.zip')\n",
    "train_df, test_df = train_test_split(movies, test_size=0.5, random_state=1)\n",
    "\n",
    "wc = word_counts + 1\n",
    "\n",
    "with open(\"stopwords.txt\") as f:\n",
    "    stops = f.read().split(\",\")\n",
    "wc = wc.drop(stops, errors=\"ignore\")\n",
    "\n",
    "class_probs = train_df[\"sentiment\"].value_counts()/len(train_df)\n",
    "\n",
    "log_wc = np.log10(wc/wc.sum())\n",
    "\n",
    "def rev_probs(rev):\n",
    "    words = [w for w in re.findall(r\"[a-z']+\", rev.replace(\"<br />\", \"\").lower()) if w in log_wc.index]\n",
    "    return sum([log_wc.loc[w] for w in words]) + np.log10(class_probs)"
   ]
  },
  {
   "cell_type": "code",
   "execution_count": 39,
   "id": "a27ea411",
   "metadata": {},
   "outputs": [
    {
     "data": {
      "text/plain": [
       "negative   -427.788529\n",
       "positive   -429.078611\n",
       "dtype: float64"
      ]
     },
     "execution_count": 39,
     "metadata": {},
     "output_type": "execute_result"
    }
   ],
   "source": [
    "rev_probs(review)"
   ]
  }
 ],
 "metadata": {
  "celltoolbar": "Raw Cell Format",
  "kernelspec": {
   "display_name": "Python 3 (ipykernel)",
   "language": "python",
   "name": "python3"
  },
  "language_info": {
   "codemirror_mode": {
    "name": "ipython",
    "version": 3
   },
   "file_extension": ".py",
   "mimetype": "text/x-python",
   "name": "python",
   "nbconvert_exporter": "python",
   "pygments_lexer": "ipython3",
   "version": "3.8.12"
  }
 },
 "nbformat": 4,
 "nbformat_minor": 5
}
