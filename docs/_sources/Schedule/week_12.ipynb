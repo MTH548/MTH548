{
 "cells": [
  {
   "cell_type": "markdown",
   "id": "vocal-spouse",
   "metadata": {},
   "source": [
    "# Week 12 (4/25-5/1)"
   ]
  },
  {
   "cell_type": "markdown",
   "id": "normal-glossary",
   "metadata": {},
   "source": [
    "## Text classification with Naive Bayes\n",
    "\n",
    "* Text processing\n",
    "* Naive Bayes classification\n",
    "* Laplace smoothing\n",
    "* Word clouds"
   ]
  },
  {
   "cell_type": "markdown",
   "id": "sacred-trunk",
   "metadata": {},
   "source": [
    "## Project \n",
    "\n",
    "* [Text with naive Bayes](../Projects/text_with_naive_bayes/text_with_naive_bayes.ipynb)"
   ]
  },
  {
   "cell_type": "markdown",
   "id": "7b5dc103",
   "metadata": {},
   "source": [
    "## Resources"
   ]
  },
  {
   "cell_type": "markdown",
   "id": "60c1124a",
   "metadata": {},
   "source": [
    "### 1. Word counts"
   ]
  },
  {
   "cell_type": "raw",
   "id": "e5e20f83",
   "metadata": {
    "raw_mimetype": "text/restructuredtext"
   },
   "source": [
    ":download:`word_counts.csv <word_counts.csv>`"
   ]
  },
  {
   "cell_type": "markdown",
   "id": "1dcd5ad9",
   "metadata": {},
   "source": [
    "### 2. Stop words"
   ]
  },
  {
   "cell_type": "raw",
   "id": "130a9dc3",
   "metadata": {
    "raw_mimetype": "text/restructuredtext"
   },
   "source": [
    ":download:`stopwords.txt <stopwords.txt>`"
   ]
  },
  {
   "cell_type": "markdown",
   "id": "incorrect-entry",
   "metadata": {},
   "source": [
    "## Exercises"
   ]
  },
  {
   "cell_type": "markdown",
   "id": "meaning-construction",
   "metadata": {},
   "source": [
    "### Exercise 1"
   ]
  },
  {
   "cell_type": "raw",
   "id": "79494a9c",
   "metadata": {
    "raw_mimetype": "text/restructuredtext"
   },
   "source": [
    "Use the file  :download:`movie_reviews.zip <./movie_reviews.zip>` to create a dataframe with two columns \"positive\" and \"negative\". Rows of the dataframe should be labeled by words appearing in the text of the reviews. The entries of a row should show how many times the given word appears in the text of negative reviews and how many times it appears in positive reviews. \n",
    "\n",
    "**Note:**\n",
    "\n",
    "1. A word is a sequence consisting of letters and possibly the apostrophe. Thus `hello` and `don't` are words. \n",
    "2. Capitalization of words should be ignored. That is, we consider `hello`, `Hello` and `HELLO` as the same word. "
   ]
  },
  {
   "cell_type": "code",
   "execution_count": 42,
   "id": "60b22ce1",
   "metadata": {
    "nbsphinx": "hidden"
   },
   "outputs": [
    {
     "data": {
      "text/html": [
       "<div>\n",
       "<style scoped>\n",
       "    .dataframe tbody tr th:only-of-type {\n",
       "        vertical-align: middle;\n",
       "    }\n",
       "\n",
       "    .dataframe tbody tr th {\n",
       "        vertical-align: top;\n",
       "    }\n",
       "\n",
       "    .dataframe thead th {\n",
       "        text-align: right;\n",
       "    }\n",
       "</style>\n",
       "<table border=\"1\" class=\"dataframe\">\n",
       "  <thead>\n",
       "    <tr style=\"text-align: right;\">\n",
       "      <th></th>\n",
       "      <th>negative</th>\n",
       "      <th>positive</th>\n",
       "    </tr>\n",
       "  </thead>\n",
       "  <tbody>\n",
       "    <tr>\n",
       "      <th>this</th>\n",
       "      <td>20294</td>\n",
       "      <td>17756</td>\n",
       "    </tr>\n",
       "    <tr>\n",
       "      <th>show</th>\n",
       "      <td>1390</td>\n",
       "      <td>1791</td>\n",
       "    </tr>\n",
       "    <tr>\n",
       "      <th>proved</th>\n",
       "      <td>49</td>\n",
       "      <td>76</td>\n",
       "    </tr>\n",
       "    <tr>\n",
       "      <th>to</th>\n",
       "      <td>34325</td>\n",
       "      <td>33630</td>\n",
       "    </tr>\n",
       "    <tr>\n",
       "      <th>be</th>\n",
       "      <td>7241</td>\n",
       "      <td>6262</td>\n",
       "    </tr>\n",
       "    <tr>\n",
       "      <th>...</th>\n",
       "      <td>...</td>\n",
       "      <td>...</td>\n",
       "    </tr>\n",
       "    <tr>\n",
       "      <th>virginny</th>\n",
       "      <td>0</td>\n",
       "      <td>2</td>\n",
       "    </tr>\n",
       "    <tr>\n",
       "      <th>seeping</th>\n",
       "      <td>0</td>\n",
       "      <td>1</td>\n",
       "    </tr>\n",
       "    <tr>\n",
       "      <th>lode</th>\n",
       "      <td>0</td>\n",
       "      <td>2</td>\n",
       "    </tr>\n",
       "    <tr>\n",
       "      <th>spooner</th>\n",
       "      <td>0</td>\n",
       "      <td>1</td>\n",
       "    </tr>\n",
       "    <tr>\n",
       "      <th>stirrings</th>\n",
       "      <td>0</td>\n",
       "      <td>1</td>\n",
       "    </tr>\n",
       "  </tbody>\n",
       "</table>\n",
       "<p>56367 rows × 2 columns</p>\n",
       "</div>"
      ],
      "text/plain": [
       "           negative  positive\n",
       "this          20294     17756\n",
       "show           1390      1791\n",
       "proved           49        76\n",
       "to            34325     33630\n",
       "be             7241      6262\n",
       "...             ...       ...\n",
       "virginny          0         2\n",
       "seeping           0         1\n",
       "lode              0         2\n",
       "spooner           0         1\n",
       "stirrings         0         1\n",
       "\n",
       "[56367 rows x 2 columns]"
      ]
     },
     "execution_count": 42,
     "metadata": {},
     "output_type": "execute_result"
    }
   ],
   "source": [
    "#  \"nbsphinx\": \"hidden\"\n",
    "from collections import Counter\n",
    "import re\n",
    "from sklearn.model_selection import train_test_split\n",
    "import pandas as pd\n",
    "\n",
    "\n",
    "movies = pd.read_csv('movie_reviews.zip')\n",
    "train_df, test_df = train_test_split(movies, test_size=0.5, random_state=1)\n",
    "grouped = train_df.groupby(by='sentiment')['review'].sum()\n",
    "\n",
    "words = {}\n",
    "for k in grouped.index:\n",
    "    words[k] = Counter(re.findall(r\"[a-z]+\", grouped[k].replace(\"<br />\", \"\").lower()))\n",
    "word_counts = pd.DataFrame(words).fillna(0).astype(int)\n",
    "word_counts.to_csv(\"word_counts.csv\")"
   ]
  },
  {
   "cell_type": "code",
   "execution_count": 43,
   "id": "79dca981",
   "metadata": {},
   "outputs": [
    {
     "data": {
      "text/html": [
       "<div>\n",
       "<style scoped>\n",
       "    .dataframe tbody tr th:only-of-type {\n",
       "        vertical-align: middle;\n",
       "    }\n",
       "\n",
       "    .dataframe tbody tr th {\n",
       "        vertical-align: top;\n",
       "    }\n",
       "\n",
       "    .dataframe thead th {\n",
       "        text-align: right;\n",
       "    }\n",
       "</style>\n",
       "<table border=\"1\" class=\"dataframe\">\n",
       "  <thead>\n",
       "    <tr style=\"text-align: right;\">\n",
       "      <th></th>\n",
       "      <th>negative</th>\n",
       "      <th>positive</th>\n",
       "    </tr>\n",
       "  </thead>\n",
       "  <tbody>\n",
       "    <tr>\n",
       "      <th>this</th>\n",
       "      <td>20294</td>\n",
       "      <td>17756</td>\n",
       "    </tr>\n",
       "    <tr>\n",
       "      <th>show</th>\n",
       "      <td>1390</td>\n",
       "      <td>1791</td>\n",
       "    </tr>\n",
       "    <tr>\n",
       "      <th>proved</th>\n",
       "      <td>49</td>\n",
       "      <td>76</td>\n",
       "    </tr>\n",
       "    <tr>\n",
       "      <th>to</th>\n",
       "      <td>34325</td>\n",
       "      <td>33630</td>\n",
       "    </tr>\n",
       "    <tr>\n",
       "      <th>be</th>\n",
       "      <td>7241</td>\n",
       "      <td>6262</td>\n",
       "    </tr>\n",
       "    <tr>\n",
       "      <th>a</th>\n",
       "      <td>39146</td>\n",
       "      <td>42334</td>\n",
       "    </tr>\n",
       "    <tr>\n",
       "      <th>waste</th>\n",
       "      <td>674</td>\n",
       "      <td>50</td>\n",
       "    </tr>\n",
       "    <tr>\n",
       "      <th>of</th>\n",
       "      <td>34273</td>\n",
       "      <td>38891</td>\n",
       "    </tr>\n",
       "    <tr>\n",
       "      <th>minutes</th>\n",
       "      <td>1099</td>\n",
       "      <td>426</td>\n",
       "    </tr>\n",
       "    <tr>\n",
       "      <th>precious</th>\n",
       "      <td>27</td>\n",
       "      <td>24</td>\n",
       "    </tr>\n",
       "  </tbody>\n",
       "</table>\n",
       "</div>"
      ],
      "text/plain": [
       "          negative  positive\n",
       "this         20294     17756\n",
       "show          1390      1791\n",
       "proved          49        76\n",
       "to           34325     33630\n",
       "be            7241      6262\n",
       "a            39146     42334\n",
       "waste          674        50\n",
       "of           34273     38891\n",
       "minutes       1099       426\n",
       "precious        27        24"
      ]
     },
     "execution_count": 43,
     "metadata": {},
     "output_type": "execute_result"
    }
   ],
   "source": [
    "word_counts.head(10) "
   ]
  },
  {
   "cell_type": "markdown",
   "id": "a4201828",
   "metadata": {},
   "source": [
    "### Exercise 2"
   ]
  },
  {
   "cell_type": "markdown",
   "id": "6ef30d7a",
   "metadata": {},
   "source": [
    "Write a function `rev_probs()` which takes as its argument text of a review and returns logarithm of probabilities that the review is positive and negative based on the training data. The function should use naive Bayes with Laplace smoothing to compute the probabilities."
   ]
  },
  {
   "cell_type": "markdown",
   "id": "0fa7f600",
   "metadata": {},
   "source": [
    "**Example:**"
   ]
  },
  {
   "cell_type": "code",
   "execution_count": 22,
   "id": "2f94ac76",
   "metadata": {},
   "outputs": [],
   "source": [
    "# sample review\n",
    "\n",
    "review = \"\"\"I saw this recent Woody Allen film because I\\'m a fan of \n",
    "his work and I make it a point to try to see everything he does, though \n",
    "the reviews of this film led me to expect a disappointing effort. They were right. \n",
    "This is a confused movie that can\\'t decide whether it wants to be a comedy, \n",
    "a romantic fantasy, or a drama about female mid-life crisis. It fails at all three.\n",
    "<br /><br />Alice (Mia Farrow) is a restless middle aged woman who has married into \n",
    "great wealth and leads a life of aimless luxury with her rather boring husband and \n",
    "their two small children. This rather mundane plot concept is livened up with such \n",
    "implausibilities as an old Chinese folk healer who makes her invisible with some magic \n",
    "herbs, and the ghost of a former lover (with whom she flies over Manhattan). If these \n",
    "additions sound too fantastic for you, how about something more prosaic, like an affair \n",
    "with a saxophone player?<br /><br />I was never quite sure of what this mixed up muddle \n",
    "was trying to say. There are only a handful of truly funny moments in the film, \n",
    "and the endingis a really preposterous touch of Pollyanna.<br /><br />Rent \\'Crimes and \n",
    "Misdemeanors\\' instead, a superbly well-done film that suceeds in combining comedy with \n",
    "a serious consideration of ethics and morals. Or go back to \"Annie Hall\" or \"Manhattan\".\"\"\""
   ]
  },
  {
   "cell_type": "code",
   "execution_count": 38,
   "id": "529b2e13",
   "metadata": {
    "nbsphinx": "hidden"
   },
   "outputs": [],
   "source": [
    "#  \"nbsphinx\": \"hidden\"\n",
    "from sklearn.model_selection import train_test_split\n",
    "import pandas as pd\n",
    "import re\n",
    "import numpy as np\n",
    "\n",
    "movies = pd.read_csv('movie_reviews.zip')\n",
    "train_df, test_df = train_test_split(movies, test_size=0.5, random_state=1)\n",
    "\n",
    "wc = word_counts + 1\n",
    "\n",
    "with open(\"stopwords.txt\") as f:\n",
    "    stops = f.read().split(\",\")\n",
    "wc = wc.drop(stops, errors=\"ignore\")\n",
    "\n",
    "class_probs = train_df[\"sentiment\"].value_counts()/len(train_df)\n",
    "\n",
    "log_wc = np.log10(wc/wc.sum())\n",
    "\n",
    "def rev_probs(rev):\n",
    "    words = [w for w in re.findall(r\"[a-z']+\", rev.replace(\"<br />\", \"\").lower()) if w in log_wc.index]\n",
    "    return sum([log_wc.loc[w] for w in words]) + np.log10(class_probs)"
   ]
  },
  {
   "cell_type": "code",
   "execution_count": 39,
   "id": "a27ea411",
   "metadata": {},
   "outputs": [
    {
     "data": {
      "text/plain": [
       "negative   -427.788529\n",
       "positive   -429.078611\n",
       "dtype: float64"
      ]
     },
     "execution_count": 39,
     "metadata": {},
     "output_type": "execute_result"
    }
   ],
   "source": [
    "rev_probs(review)"
   ]
  },
  {
   "cell_type": "markdown",
   "id": "9291bc2a",
   "metadata": {},
   "source": [
    "### Exercise 3"
   ]
  },
  {
   "cell_type": "raw",
   "id": "df200944",
   "metadata": {
    "raw_mimetype": "text/restructuredtext"
   },
   "source": [
    "The file :download:`newsgroups.zip <newsgroups.zip>`  is a zipped text file containing several thousand posts sent to various online newsgroups. Each post starts with three lines that  describe the name of the newsgroup to which the post was sent, the author of the post, and the subject. These lines are followed by the text of the post. For example:"
   ]
  },
  {
   "cell_type": "raw",
   "id": "0efe7bf1",
   "metadata": {
    "raw_mimetype": "text/html"
   },
   "source": [
    "<pre style=\"font-size:13px;\">\n",
    "\n",
    "  Newsgroup: sci.med\n",
    "  From: kcarver@dante.nmsu.edu (Kenneth Carver)\n",
    "  Subject: Isolation amplifiers for EEG/ECG *cheap*\n",
    "\n",
    "\n",
    "  I have several isolation amplifier boards that are the ideal interface\n",
    "  for EEG and ECG.  Isolation is essential for safety when connecting\n",
    "  line-powered equipment to electrodes on the body.  These boards\n",
    "  incorporate the Burr-Brown 3656 isolation module that currently sells\n",
    "  for $133, plus other op amps to produce an overall voltage gain of\n",
    "  350-400.  They are like new and guaranteed good.  $20 postpaid,\n",
    "  schematic included.  Please email me for more data.\n",
    "\n",
    "  --Ken Carver\n",
    "  \n",
    "</pre>"
   ]
  },
  {
   "cell_type": "markdown",
   "id": "99e273c5",
   "metadata": {},
   "source": [
    "Create a dataframe in which every row corresponds to one post. The columns should list the name of the newsgroup, the post author, the post subject, and the body of the post. Here is a sample:"
   ]
  },
  {
   "cell_type": "code",
   "execution_count": 7,
   "id": "c0328c45",
   "metadata": {
    "nbsphinx": "hidden"
   },
   "outputs": [],
   "source": [
    "#  \"nbsphinx\": \"hidden\"\n",
    "\n",
    "from zipfile import ZipFile, ZIP_DEFLATED\n",
    "import pandas as pd\n",
    "import io\n",
    "\n",
    "with ZipFile(\"newsgroups.csv.zip\", 'r') as zipped:\n",
    "    txt = zipped.read(\"newsgroups.csv\").decode(encoding='utf8', errors='ignore')\n",
    "    \n",
    "df = pd.read_csv(io.StringIO(txt))"
   ]
  },
  {
   "cell_type": "code",
   "execution_count": 8,
   "id": "d76a304b",
   "metadata": {},
   "outputs": [
    {
     "data": {
      "text/html": [
       "<div>\n",
       "<style scoped>\n",
       "    .dataframe tbody tr th:only-of-type {\n",
       "        vertical-align: middle;\n",
       "    }\n",
       "\n",
       "    .dataframe tbody tr th {\n",
       "        vertical-align: top;\n",
       "    }\n",
       "\n",
       "    .dataframe thead th {\n",
       "        text-align: right;\n",
       "    }\n",
       "</style>\n",
       "<table border=\"1\" class=\"dataframe\">\n",
       "  <thead>\n",
       "    <tr style=\"text-align: right;\">\n",
       "      <th></th>\n",
       "      <th>newsgroup</th>\n",
       "      <th>from</th>\n",
       "      <th>subject</th>\n",
       "      <th>body</th>\n",
       "    </tr>\n",
       "  </thead>\n",
       "  <tbody>\n",
       "    <tr>\n",
       "      <th>0</th>\n",
       "      <td>rec.autos</td>\n",
       "      <td>gwm@spl1.spl.loral.com (Gary W. Mahan)</td>\n",
       "      <td>Re: Are BMW's worth the price?</td>\n",
       "      <td>&gt;sure sounds like they got a ringer.  the 325i...</td>\n",
       "    </tr>\n",
       "    <tr>\n",
       "      <th>1</th>\n",
       "      <td>sci.med</td>\n",
       "      <td>davec@ecst.csuchico.edu (Dave Childs)</td>\n",
       "      <td>Dental Fillings question</td>\n",
       "      <td>I have been hearing bad thing about amalgam de...</td>\n",
       "    </tr>\n",
       "    <tr>\n",
       "      <th>2</th>\n",
       "      <td>alt.atheism</td>\n",
       "      <td>\"Robert Knowles\" &lt;p00261@psilink.com&gt;</td>\n",
       "      <td>Re: Islamic marriage?</td>\n",
       "      <td>&gt;DATE:   Tue, 6 Apr 1993 00:11:49 GMT\\n&gt;FROM: ...</td>\n",
       "    </tr>\n",
       "    <tr>\n",
       "      <th>3</th>\n",
       "      <td>rec.sport.baseball</td>\n",
       "      <td>sepinwal@mail.sas.upenn.edu (Alan Sepinwall)</td>\n",
       "      <td>Re: WFAN</td>\n",
       "      <td>In article &lt;1993Apr16.174843.28111@cabell.vcu....</td>\n",
       "    </tr>\n",
       "    <tr>\n",
       "      <th>4</th>\n",
       "      <td>talk.religion.misc</td>\n",
       "      <td>rwd4f@poe.acc.Virginia.EDU (Rob Dobson)</td>\n",
       "      <td>Re: A Message for you Mr. President: How do yo...</td>\n",
       "      <td>In article &lt;visser.735284180@convex.convex.com...</td>\n",
       "    </tr>\n",
       "  </tbody>\n",
       "</table>\n",
       "</div>"
      ],
      "text/plain": [
       "            newsgroup                                          from  \\\n",
       "0           rec.autos        gwm@spl1.spl.loral.com (Gary W. Mahan)   \n",
       "1             sci.med         davec@ecst.csuchico.edu (Dave Childs)   \n",
       "2         alt.atheism         \"Robert Knowles\" <p00261@psilink.com>   \n",
       "3  rec.sport.baseball  sepinwal@mail.sas.upenn.edu (Alan Sepinwall)   \n",
       "4  talk.religion.misc       rwd4f@poe.acc.Virginia.EDU (Rob Dobson)   \n",
       "\n",
       "                                             subject  \\\n",
       "0         Re: Are BMW's worth the price?               \n",
       "1                           Dental Fillings question   \n",
       "2                              Re: Islamic marriage?   \n",
       "3                                           Re: WFAN   \n",
       "4  Re: A Message for you Mr. President: How do yo...   \n",
       "\n",
       "                                                body  \n",
       "0  >sure sounds like they got a ringer.  the 325i...  \n",
       "1  I have been hearing bad thing about amalgam de...  \n",
       "2  >DATE:   Tue, 6 Apr 1993 00:11:49 GMT\\n>FROM: ...  \n",
       "3  In article <1993Apr16.174843.28111@cabell.vcu....  \n",
       "4  In article <visser.735284180@convex.convex.com...  "
      ]
     },
     "execution_count": 8,
     "metadata": {},
     "output_type": "execute_result"
    }
   ],
   "source": [
    "df.head(5)"
   ]
  },
  {
   "cell_type": "markdown",
   "id": "dc5f7a04",
   "metadata": {},
   "source": [
    "After creating the DataFrame, save it to a csv file. "
   ]
  }
 ],
 "metadata": {
  "celltoolbar": "Raw Cell Format",
  "kernelspec": {
   "display_name": "Python 3 (ipykernel)",
   "language": "python",
   "name": "python3"
  },
  "language_info": {
   "codemirror_mode": {
    "name": "ipython",
    "version": 3
   },
   "file_extension": ".py",
   "mimetype": "text/x-python",
   "name": "python",
   "nbconvert_exporter": "python",
   "pygments_lexer": "ipython3",
   "version": "3.8.12"
  }
 },
 "nbformat": 4,
 "nbformat_minor": 5
}
