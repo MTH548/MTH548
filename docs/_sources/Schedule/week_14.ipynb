{
 "cells": [
  {
   "cell_type": "markdown",
   "id": "vocal-spouse",
   "metadata": {},
   "source": [
    "# Week 14 (5/3-5/9)"
   ]
  },
  {
   "cell_type": "markdown",
   "id": "missing-spank",
   "metadata": {},
   "source": [
    "<h3 style=\"color:crimson\">Note: there is no class on Thursday, May 6. Instead, I will be available on Discord at 12:45 - 3:30 PM to answer any questions.</h3>"
   ]
  },
  {
   "cell_type": "markdown",
   "id": "normal-glossary",
   "metadata": {},
   "source": [
    "## SQL\n",
    "\n",
    "* [Joins](../Tools/SQL/sql_joins.ipynb)\n",
    "* [SQL with Python](../Tools/SQL/sql_joins.ipynb)"
   ]
  },
  {
   "cell_type": "markdown",
   "id": "cosmetic-affect",
   "metadata": {},
   "source": [
    "## Extra credit project\n",
    "\n",
    "* [Music database](../Projects/music_database/music_database.ipynb)"
   ]
  },
  {
   "cell_type": "markdown",
   "id": "pleasant-norwegian",
   "metadata": {},
   "source": [
    "## Resources"
   ]
  },
  {
   "cell_type": "markdown",
   "id": "downtown-vegetable",
   "metadata": {},
   "source": [
    "### 1. Courses SQLite database"
   ]
  },
  {
   "cell_type": "raw",
   "id": "developed-jewelry",
   "metadata": {
    "raw_mimetype": "text/restructuredtext"
   },
   "source": [
    "| :download:`courses_data.sqlite <../Tools/SQL/courses_data.sqlite>`"
   ]
  },
  {
   "cell_type": "markdown",
   "id": "careful-people",
   "metadata": {},
   "source": [
    "### 2. SQL with Python"
   ]
  },
  {
   "cell_type": "markdown",
   "id": "comic-recovery",
   "metadata": {},
   "source": [
    "Sample data:"
   ]
  },
  {
   "cell_type": "code",
   "execution_count": 5,
   "id": "corporate-artist",
   "metadata": {},
   "outputs": [],
   "source": [
    "import pandas as pd\n",
    "\n",
    "df = pd.DataFrame({'title': ['Casablanca', 'Forrest Gump', 'Goodfellas',\n",
    "                              'Chinatown', 'Jaws', 'Wall-E'],\n",
    "                   'director': ['M. Curtiz', 'R. Zemeckis', 'M. Scorsese',\n",
    "                                 'R. Polanski', 'S. Spielberg', 'A. Stanton'],\n",
    "                   'year': [1942, 1994, 1990, 1974, 1975, 2008]})"
   ]
  }
 ],
 "metadata": {
  "celltoolbar": "Raw Cell Format",
  "kernelspec": {
   "display_name": "Python 3",
   "language": "python",
   "name": "python3"
  },
  "language_info": {
   "codemirror_mode": {
    "name": "ipython",
    "version": 3
   },
   "file_extension": ".py",
   "mimetype": "text/x-python",
   "name": "python",
   "nbconvert_exporter": "python",
   "pygments_lexer": "ipython3",
   "version": "3.8.5"
  }
 },
 "nbformat": 4,
 "nbformat_minor": 5
}
