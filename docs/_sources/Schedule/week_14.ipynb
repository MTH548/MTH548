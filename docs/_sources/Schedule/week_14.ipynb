{
 "cells": [
  {
   "cell_type": "markdown",
   "id": "vocal-spouse",
   "metadata": {},
   "source": [
    "# Week 14 (5/9-5/15)"
   ]
  },
  {
   "cell_type": "markdown",
   "id": "normal-glossary",
   "metadata": {},
   "source": [
    "## SQL\n",
    "\n",
    "* [Joins](../Tools/SQL/sql_joins.ipynb)\n",
    "* [SQL with Python](../Tools/SQL/sql_with_python.ipynb)"
   ]
  },
  {
   "cell_type": "markdown",
   "id": "cosmetic-affect",
   "metadata": {},
   "source": [
    "## Optional project\n",
    "\n",
    "* [Music database](../Projects/music_database/music_database.ipynb)\n",
    "\n",
    "**Note:** The cumulative project grade will be computed as follows:\n",
    "\n",
    "- I will compute the average of the first seven projects (not including this one)\n",
    "- I will also compute the average of all eight project (including this one)\n",
    "- Then I will use the higher of the two averages. \n",
    "\n",
    "Thus, your grade will not go down if you do not complete this project, but it may go up. "
   ]
  },
  {
   "cell_type": "markdown",
   "id": "pleasant-norwegian",
   "metadata": {},
   "source": [
    "## Resources"
   ]
  },
  {
   "cell_type": "markdown",
   "id": "b100e2b6",
   "metadata": {},
   "source": [
    "### 1. Gradebook SQLite database"
   ]
  },
  {
   "cell_type": "raw",
   "id": "bc44a2f9",
   "metadata": {
    "raw_mimetype": "text/restructuredtext"
   },
   "source": [
    "| :download:`gradebook_data.sqlite <../Tools/SQL/gradebook_data.sqlite>`"
   ]
  },
  {
   "cell_type": "markdown",
   "id": "downtown-vegetable",
   "metadata": {},
   "source": [
    "### 2. Courses SQLite database"
   ]
  },
  {
   "cell_type": "raw",
   "id": "developed-jewelry",
   "metadata": {
    "raw_mimetype": "text/restructuredtext"
   },
   "source": [
    "| :download:`courses_data.sqlite <../Tools/SQL/courses_data.sqlite>`"
   ]
  },
  {
   "cell_type": "markdown",
   "id": "careful-people",
   "metadata": {},
   "source": [
    "### 3. SQL with Python"
   ]
  },
  {
   "cell_type": "markdown",
   "id": "comic-recovery",
   "metadata": {},
   "source": [
    "Sample data:"
   ]
  },
  {
   "cell_type": "code",
   "execution_count": 5,
   "id": "corporate-artist",
   "metadata": {},
   "outputs": [],
   "source": [
    "import pandas as pd\n",
    "\n",
    "df = pd.DataFrame({'title': ['Casablanca', 'Forrest Gump', 'Goodfellas',\n",
    "                              'Chinatown', 'Jaws', 'Wall-E'],\n",
    "                   'director': ['M. Curtiz', 'R. Zemeckis', 'M. Scorsese',\n",
    "                                 'R. Polanski', 'S. Spielberg', 'A. Stanton'],\n",
    "                   'year': [1942, 1994, 1990, 1974, 1975, 2008]})"
   ]
  }
 ],
 "metadata": {
  "celltoolbar": "Raw Cell Format",
  "kernelspec": {
   "display_name": "Python 3 (ipykernel)",
   "language": "python",
   "name": "python3"
  },
  "language_info": {
   "codemirror_mode": {
    "name": "ipython",
    "version": 3
   },
   "file_extension": ".py",
   "mimetype": "text/x-python",
   "name": "python",
   "nbconvert_exporter": "python",
   "pygments_lexer": "ipython3",
   "version": "3.8.12"
  }
 },
 "nbformat": 4,
 "nbformat_minor": 5
}
