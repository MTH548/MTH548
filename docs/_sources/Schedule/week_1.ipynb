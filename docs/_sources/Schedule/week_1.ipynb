{
 "cells": [
  {
   "cell_type": "markdown",
   "metadata": {},
   "source": [
    "# Week 1 (2/1-2/7)"
   ]
  },
  {
   "cell_type": "markdown",
   "metadata": {},
   "source": [
    "## Logistics \n",
    "\n",
    "* Syllabus and course organization"
   ]
  },
  {
   "cell_type": "markdown",
   "metadata": {},
   "source": [
    "## [Numpy](../Tools/Numpy/numpy_toc.rst)"
   ]
  },
  {
   "cell_type": "markdown",
   "metadata": {},
   "source": [
    "* Numpy arrays\n",
    "* Vectorization\n",
    "* Indexing and slicing\n",
    "* Aggregating and sorting\n",
    "* Broadcasting"
   ]
  },
  {
   "cell_type": "markdown",
   "metadata": {},
   "source": [
    "## Resources"
   ]
  },
  {
   "cell_type": "markdown",
   "metadata": {},
   "source": [
    "### 1. Visualizing numpy arrays"
   ]
  },
  {
   "cell_type": "code",
   "execution_count": 1,
   "metadata": {},
   "outputs": [],
   "source": [
    "import matplotlib.pyplot as plt\n",
    "import numpy as np\n",
    "\n",
    "def show(a, size=6, cmap=\"seismic\", text='limegreen', fontsize=\"large\"):\n",
    "    '''\n",
    "    Display an image of a 2-dimensional numpy array.\n",
    "    It is assumed that values of the array are between\n",
    "    0 and 1.\n",
    "    '''\n",
    "\n",
    "    h, w = a.shape\n",
    "    plt.figure(figsize=(size, size))\n",
    "    ax = plt.subplot(111)\n",
    "    plt.xticks(range(w + 1))\n",
    "    plt.yticks(range(h + 1))\n",
    "    for (j, i), v in np.ndenumerate(a):\n",
    "        ax.text(i,\n",
    "                j,\n",
    "                f\"{v:.1f}\",\n",
    "                ha='center',\n",
    "                va='center',\n",
    "                color=text,\n",
    "                weight=900,\n",
    "                fontsize=fontsize)\n",
    "    plt.imshow(a, cmap=cmap, vmin=0, vmax=1)\n",
    "    plt.show()"
   ]
  }
 ],
 "metadata": {
  "kernelspec": {
   "display_name": "Python 3",
   "language": "python",
   "name": "python3"
  },
  "language_info": {
   "codemirror_mode": {
    "name": "ipython",
    "version": 3
   },
   "file_extension": ".py",
   "mimetype": "text/x-python",
   "name": "python",
   "nbconvert_exporter": "python",
   "pygments_lexer": "ipython3",
   "version": "3.8.5"
  }
 },
 "nbformat": 4,
 "nbformat_minor": 4
}
