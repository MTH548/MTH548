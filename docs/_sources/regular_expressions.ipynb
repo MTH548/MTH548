{
 "cells": [
  {
   "cell_type": "markdown",
   "metadata": {},
   "source": [
    "# Regular expressions"
   ]
  },
  {
   "cell_type": "markdown",
   "metadata": {},
   "source": [
    "Regular expressions are a tool for specifying patterns in text strings. We can use this for search for these patterns, modify string based on search results etc.\n",
    "Regular expressions are a feature of many programming languages. In Python they are implemented by the [re](https://docs.python.org/3/library/re.html?highlight=re#module-re) module:"
   ]
  },
  {
   "cell_type": "code",
   "execution_count": 1,
   "metadata": {},
   "outputs": [],
   "source": [
    "import re"
   ]
  },
  {
   "cell_type": "markdown",
   "metadata": {},
   "source": [
    "We will use the following function to illustrate the syntax of regular expressions:"
   ]
  },
  {
   "cell_type": "code",
   "execution_count": 33,
   "metadata": {},
   "outputs": [],
   "source": [
    "from IPython.core.display import display, HTML\n",
    "\n",
    "def re_show(regex, text = \"\", flags=0):\n",
    "    \"\"\"\n",
    "    Displays text with the regex match highlighted.\n",
    "    \"\"\"\n",
    "    text_css = '''\"border-style: none;\n",
    "                   border-width: 0px;\n",
    "                   padding: 0px;\n",
    "                   font-size: 16px;\n",
    "                   color: darkslategray;\n",
    "                   background-color: white;\n",
    "                   white-space: pre;\n",
    "                   line-height: 22px;\"\n",
    "                   ''' \n",
    "    match_css = '''\"padding: 0px 1px 0px 1px;\n",
    "                    margin: 0px 0.5px 0px 0.5px;\n",
    "                    border-style: solid;\n",
    "                    border-width: 0.5px;\n",
    "                    border-color: black;\n",
    "                    background-color: cornsilk;\n",
    "                    color: red;\"\n",
    "                    '''\n",
    "    \n",
    "    r = re.compile(f\"({regex})\", flags = flags)\n",
    "    s = f'<code style={text_css}>' \n",
    "    s += r.sub(fr'<span style={match_css}>\\1</span>', text) \n",
    "    s += '</code>'\n",
    "    display(HTML(s))"
   ]
  },
  {
   "cell_type": "markdown",
   "metadata": {},
   "source": [
    "The first argument of this function is a regular expression. The second is a string in which we search for the pattern specified by the regular expression. The function prints the string with the pattern matches highlighted:"
   ]
  },
  {
   "cell_type": "code",
   "execution_count": 34,
   "metadata": {},
   "outputs": [
    {
     "data": {
      "text/html": [
       "<code style=\"border-style: none;\n",
       "                   border-width: 0px;\n",
       "                   padding: 0px;\n",
       "                   font-size: 16px;\n",
       "                   color: darkslategray;\n",
       "                   background-color: white;\n",
       "                   white-space: pre;\n",
       "                   line-height: 22px;\"\n",
       "                   >Th<span style=\"padding: 0px 1px 0px 1px;\n",
       "                    margin: 0px 0.5px 0px 0.5px;\n",
       "                    border-style: solid;\n",
       "                    border-width: 0.5px;\n",
       "                    border-color: black;\n",
       "                    background-color: cornsilk;\n",
       "                    color: red;\"\n",
       "                    >is</span> <span style=\"padding: 0px 1px 0px 1px;\n",
       "                    margin: 0px 0.5px 0px 0.5px;\n",
       "                    border-style: solid;\n",
       "                    border-width: 0.5px;\n",
       "                    border-color: black;\n",
       "                    background-color: cornsilk;\n",
       "                    color: red;\"\n",
       "                    >is</span> the course MTH 548 Data Oriented Computing!</code>"
      ],
      "text/plain": [
       "<IPython.core.display.HTML object>"
      ]
     },
     "metadata": {},
     "output_type": "display_data"
    }
   ],
   "source": [
    "text = \"This is the course MTH 548 Data Oriented Computing!\"\n",
    "re_show(r\"is\", text) # search for occurences of \"is\""
   ]
  },
  {
   "cell_type": "markdown",
   "metadata": {},
   "source": [
    "## Character classes \n",
    "\n",
    "As the above example shows, a regular expressions can simply consist of a string we want to search for. The real power of regular expressions, however, is that they can contain special character sequences with a more general  meaning. \n",
    "\n",
    "       \n",
    "| Sequence       |  What it matches                                                                   |\n",
    "|:---------------|:-----------------------------------------------------------------------------------|\n",
    "| `.`            | Anything except the newline character.                                             |\n",
    "| `\\w`           | Any words character: a letter `A-Z`,`a-z`, a digit `0-9`or the underscore `_`.     |\n",
    "| `\\W`           | Any character which is not matched by `w`.                                         |\n",
    "| `\\d`           | Any digit `0-9`.                                                                   |\n",
    "| `\\D`           | All characters which are not matched by `w`.                                       |\n",
    "| `[...]`        | Any character listed inside the square brackets.                                   |\n",
    "| `[^...]`       | Any character not listed inside the square brackets.                               |\n",
    "| `...|...`      | Match either of the patterns on two sides of the vertical bar                      |"
   ]
  },
  {
   "cell_type": "markdown",
   "metadata": {},
   "source": [
    "**Examples.**"
   ]
  },
  {
   "cell_type": "code",
   "execution_count": 5,
   "metadata": {},
   "outputs": [
    {
     "data": {
      "text/html": [
       "<code style=\"border-style: none;\n",
       "                   border-width: 0px;\n",
       "                   padding: 0px;\n",
       "                   font-size: 16px;\n",
       "                   color: darkslategray;\n",
       "                   background-color: white;\n",
       "                   white-space: pre;\n",
       "                   line-height: 22px;\"\n",
       "                   >This is<span style=\"padding: 0px 1px 0px 1px;\n",
       "                    margin: 0px 0.5px 0px 0.5px;\n",
       "                    border-style: solid;\n",
       "                    border-width: 0.5px;\n",
       "                    border-color: black;\n",
       "                    background-color:cornsilk;color: red;\"> t</span>he course MTH 548 D<span style=\"padding: 0px 1px 0px 1px;\n",
       "                    margin: 0px 0.5px 0px 0.5px;\n",
       "                    border-style: solid;\n",
       "                    border-width: 0.5px;\n",
       "                    border-color: black;\n",
       "                    background-color:cornsilk;color: red;\">at</span>a Orie<span style=\"padding: 0px 1px 0px 1px;\n",
       "                    margin: 0px 0.5px 0px 0.5px;\n",
       "                    border-style: solid;\n",
       "                    border-width: 0.5px;\n",
       "                    border-color: black;\n",
       "                    background-color:cornsilk;color: red;\">nt</span>ed Comp<span style=\"padding: 0px 1px 0px 1px;\n",
       "                    margin: 0px 0.5px 0px 0.5px;\n",
       "                    border-style: solid;\n",
       "                    border-width: 0.5px;\n",
       "                    border-color: black;\n",
       "                    background-color:cornsilk;color: red;\">ut</span>ing!</code>"
      ],
      "text/plain": [
       "<IPython.core.display.HTML object>"
      ]
     },
     "metadata": {},
     "output_type": "display_data"
    }
   ],
   "source": [
    "# match any character followed by a \"t\"\n",
    "re_show(r\".t\", text) "
   ]
  },
  {
   "cell_type": "code",
   "execution_count": 6,
   "metadata": {},
   "outputs": [
    {
     "data": {
      "text/html": [
       "<code style=\"border-style: none;\n",
       "                   border-width: 0px;\n",
       "                   padding: 0px;\n",
       "                   font-size: 16px;\n",
       "                   color: darkslategray;\n",
       "                   background-color: white;\n",
       "                   white-space: pre;\n",
       "                   line-height: 22px;\"\n",
       "                   >This is the course MTH 548 Data Oriented Comput<span style=\"padding: 0px 1px 0px 1px;\n",
       "                    margin: 0px 0.5px 0px 0.5px;\n",
       "                    border-style: solid;\n",
       "                    border-width: 0.5px;\n",
       "                    border-color: black;\n",
       "                    background-color:cornsilk;color: red;\">ing!</span></code>"
      ],
      "text/plain": [
       "<IPython.core.display.HTML object>"
      ]
     },
     "metadata": {},
     "output_type": "display_data"
    }
   ],
   "source": [
    "# match \"i\" followed by two arbitrary characters, and a non-word character:\n",
    "re_show(r\"i..\\W\", text) "
   ]
  },
  {
   "cell_type": "code",
   "execution_count": 7,
   "metadata": {},
   "outputs": [
    {
     "data": {
      "text/html": [
       "<code style=\"border-style: none;\n",
       "                   border-width: 0px;\n",
       "                   padding: 0px;\n",
       "                   font-size: 16px;\n",
       "                   color: darkslategray;\n",
       "                   background-color: white;\n",
       "                   white-space: pre;\n",
       "                   line-height: 22px;\"\n",
       "                   >This is the course MTH <span style=\"padding: 0px 1px 0px 1px;\n",
       "                    margin: 0px 0.5px 0px 0.5px;\n",
       "                    border-style: solid;\n",
       "                    border-width: 0.5px;\n",
       "                    border-color: black;\n",
       "                    background-color:cornsilk;color: red;\">54</span>8 Data Oriented Computing!</code>"
      ],
      "text/plain": [
       "<IPython.core.display.HTML object>"
      ]
     },
     "metadata": {},
     "output_type": "display_data"
    }
   ],
   "source": [
    "# match two consecutive digits\n",
    "re_show(r\"\\d\\d\", text) "
   ]
  },
  {
   "cell_type": "code",
   "execution_count": 8,
   "metadata": {},
   "outputs": [
    {
     "data": {
      "text/html": [
       "<code style=\"border-style: none;\n",
       "                   border-width: 0px;\n",
       "                   padding: 0px;\n",
       "                   font-size: 16px;\n",
       "                   color: darkslategray;\n",
       "                   background-color: white;\n",
       "                   white-space: pre;\n",
       "                   line-height: 22px;\"\n",
       "                   >This is the course MTH 548 <span style=\"padding: 0px 1px 0px 1px;\n",
       "                    margin: 0px 0.5px 0px 0.5px;\n",
       "                    border-style: solid;\n",
       "                    border-width: 0.5px;\n",
       "                    border-color: black;\n",
       "                    background-color:cornsilk;color: red;\">D</span>ata Oriente<span style=\"padding: 0px 1px 0px 1px;\n",
       "                    margin: 0px 0.5px 0px 0.5px;\n",
       "                    border-style: solid;\n",
       "                    border-width: 0.5px;\n",
       "                    border-color: black;\n",
       "                    background-color:cornsilk;color: red;\">d</span> Computing!</code>"
      ],
      "text/plain": [
       "<IPython.core.display.HTML object>"
      ]
     },
     "metadata": {},
     "output_type": "display_data"
    }
   ],
   "source": [
    "# match either \"D\" or \"d\"\n",
    "re_show(r\"[Dd]\", text) "
   ]
  },
  {
   "cell_type": "code",
   "execution_count": 9,
   "metadata": {},
   "outputs": [
    {
     "data": {
      "text/html": [
       "<code style=\"border-style: none;\n",
       "                   border-width: 0px;\n",
       "                   padding: 0px;\n",
       "                   font-size: 16px;\n",
       "                   color: darkslategray;\n",
       "                   background-color: white;\n",
       "                   white-space: pre;\n",
       "                   line-height: 22px;\"\n",
       "                   ><span style=\"padding: 0px 1px 0px 1px;\n",
       "                    margin: 0px 0.5px 0px 0.5px;\n",
       "                    border-style: solid;\n",
       "                    border-width: 0.5px;\n",
       "                    border-color: black;\n",
       "                    background-color:cornsilk;color: red;\">This</span> is the <span style=\"padding: 0px 1px 0px 1px;\n",
       "                    margin: 0px 0.5px 0px 0.5px;\n",
       "                    border-style: solid;\n",
       "                    border-width: 0.5px;\n",
       "                    border-color: black;\n",
       "                    background-color:cornsilk;color: red;\">cour</span>se MTH 548 Data <span style=\"padding: 0px 1px 0px 1px;\n",
       "                    margin: 0px 0.5px 0px 0.5px;\n",
       "                    border-style: solid;\n",
       "                    border-width: 0.5px;\n",
       "                    border-color: black;\n",
       "                    background-color:cornsilk;color: red;\">Orie</span><span style=\"padding: 0px 1px 0px 1px;\n",
       "                    margin: 0px 0.5px 0px 0.5px;\n",
       "                    border-style: solid;\n",
       "                    border-width: 0.5px;\n",
       "                    border-color: black;\n",
       "                    background-color:cornsilk;color: red;\">nted</span> <span style=\"padding: 0px 1px 0px 1px;\n",
       "                    margin: 0px 0.5px 0px 0.5px;\n",
       "                    border-style: solid;\n",
       "                    border-width: 0.5px;\n",
       "                    border-color: black;\n",
       "                    background-color:cornsilk;color: red;\">Comp</span><span style=\"padding: 0px 1px 0px 1px;\n",
       "                    margin: 0px 0.5px 0px 0.5px;\n",
       "                    border-style: solid;\n",
       "                    border-width: 0.5px;\n",
       "                    border-color: black;\n",
       "                    background-color:cornsilk;color: red;\">utin</span>g!</code>"
      ],
      "text/plain": [
       "<IPython.core.display.HTML object>"
      ]
     },
     "metadata": {},
     "output_type": "display_data"
    }
   ],
   "source": [
    "# match sequences consisting of 4 characters \n",
    "# different than the space \" \" and \"a\":\n",
    "re_show(r\"[^ a][^ a][^ a][^ a]\", text) "
   ]
  },
  {
   "cell_type": "code",
   "execution_count": 10,
   "metadata": {},
   "outputs": [
    {
     "data": {
      "text/html": [
       "<code style=\"border-style: none;\n",
       "                   border-width: 0px;\n",
       "                   padding: 0px;\n",
       "                   font-size: 16px;\n",
       "                   color: darkslategray;\n",
       "                   background-color: white;\n",
       "                   white-space: pre;\n",
       "                   line-height: 22px;\"\n",
       "                   >Th<span style=\"padding: 0px 1px 0px 1px;\n",
       "                    margin: 0px 0.5px 0px 0.5px;\n",
       "                    border-style: solid;\n",
       "                    border-width: 0.5px;\n",
       "                    border-color: black;\n",
       "                    background-color:cornsilk;color: red;\">is</span> <span style=\"padding: 0px 1px 0px 1px;\n",
       "                    margin: 0px 0.5px 0px 0.5px;\n",
       "                    border-style: solid;\n",
       "                    border-width: 0.5px;\n",
       "                    border-color: black;\n",
       "                    background-color:cornsilk;color: red;\">is</span> the course MTH 548 Data Oriented Comput<span style=\"padding: 0px 1px 0px 1px;\n",
       "                    margin: 0px 0.5px 0px 0.5px;\n",
       "                    border-style: solid;\n",
       "                    border-width: 0.5px;\n",
       "                    border-color: black;\n",
       "                    background-color:cornsilk;color: red;\">in</span>g!</code>"
      ],
      "text/plain": [
       "<IPython.core.display.HTML object>"
      ]
     },
     "metadata": {},
     "output_type": "display_data"
    }
   ],
   "source": [
    "# match either \"is\" or \"in\"\n",
    "re_show(r\"is|in\", text) "
   ]
  },
  {
   "cell_type": "markdown",
   "metadata": {},
   "source": [
    "## Repetitions\n",
    "\n",
    "In regular expressions we can specify in various ways how many times some pattern should repeat in a match:\n",
    "\n",
    "| Sequence      |  What it means                                                                      |\n",
    "|:--------------|:------------------------------------------------------------------------------------|\n",
    "| `*`           | Match the preceding pattern 0 or more times, as many times as possible.             |\n",
    "| `+`           | Match the preceding pattern 1 or more times, as many times as possible.             |\n",
    "| `?`           | Match 0 or 1 times.                                                                 |\n",
    "| `{n}`         | Match exactly `n` times.                                                            |\n",
    "| `{n, m}`      | Match as many times as possible, but at least `n` times, and no more than `m` times.|"
   ]
  },
  {
   "cell_type": "markdown",
   "metadata": {},
   "source": [
    "**Examples.**"
   ]
  },
  {
   "cell_type": "code",
   "execution_count": 11,
   "metadata": {},
   "outputs": [
    {
     "data": {
      "text/html": [
       "<code style=\"border-style: none;\n",
       "                   border-width: 0px;\n",
       "                   padding: 0px;\n",
       "                   font-size: 16px;\n",
       "                   color: darkslategray;\n",
       "                   background-color: white;\n",
       "                   white-space: pre;\n",
       "                   line-height: 22px;\"\n",
       "                   >This is the <span style=\"padding: 0px 1px 0px 1px;\n",
       "                    margin: 0px 0.5px 0px 0.5px;\n",
       "                    border-style: solid;\n",
       "                    border-width: 0.5px;\n",
       "                    border-color: black;\n",
       "                    background-color:cornsilk;color: red;\">course</span> MTH 548 Data <span style=\"padding: 0px 1px 0px 1px;\n",
       "                    margin: 0px 0.5px 0px 0.5px;\n",
       "                    border-style: solid;\n",
       "                    border-width: 0.5px;\n",
       "                    border-color: black;\n",
       "                    background-color:cornsilk;color: red;\">Orient</span>ed <span style=\"padding: 0px 1px 0px 1px;\n",
       "                    margin: 0px 0.5px 0px 0.5px;\n",
       "                    border-style: solid;\n",
       "                    border-width: 0.5px;\n",
       "                    border-color: black;\n",
       "                    background-color:cornsilk;color: red;\">Comput</span>ing!</code>"
      ],
      "text/plain": [
       "<IPython.core.display.HTML object>"
      ]
     },
     "metadata": {},
     "output_type": "display_data"
    }
   ],
   "source": [
    "# match sequences consisting of exactly 6 word characters\n",
    "re_show(r\"\\w{6}\", text) "
   ]
  },
  {
   "cell_type": "code",
   "execution_count": 12,
   "metadata": {},
   "outputs": [
    {
     "data": {
      "text/html": [
       "<code style=\"border-style: none;\n",
       "                   border-width: 0px;\n",
       "                   padding: 0px;\n",
       "                   font-size: 16px;\n",
       "                   color: darkslategray;\n",
       "                   background-color: white;\n",
       "                   white-space: pre;\n",
       "                   line-height: 22px;\"\n",
       "                   >This is the course MTH <span style=\"padding: 0px 1px 0px 1px;\n",
       "                    margin: 0px 0.5px 0px 0.5px;\n",
       "                    border-style: solid;\n",
       "                    border-width: 0.5px;\n",
       "                    border-color: black;\n",
       "                    background-color:cornsilk;color: red;\">548</span> Data Oriented Computing!</code>"
      ],
      "text/plain": [
       "<IPython.core.display.HTML object>"
      ]
     },
     "metadata": {},
     "output_type": "display_data"
    }
   ],
   "source": [
    "# match all sequences consisting of 1 or more digits\n",
    "re_show(r\"\\d+\", text) "
   ]
  },
  {
   "cell_type": "code",
   "execution_count": 13,
   "metadata": {},
   "outputs": [
    {
     "data": {
      "text/html": [
       "<code style=\"border-style: none;\n",
       "                   border-width: 0px;\n",
       "                   padding: 0px;\n",
       "                   font-size: 16px;\n",
       "                   color: darkslategray;\n",
       "                   background-color: white;\n",
       "                   white-space: pre;\n",
       "                   line-height: 22px;\"\n",
       "                   ><span style=\"padding: 0px 1px 0px 1px;\n",
       "                    margin: 0px 0.5px 0px 0.5px;\n",
       "                    border-style: solid;\n",
       "                    border-width: 0.5px;\n",
       "                    border-color: black;\n",
       "                    background-color:cornsilk;color: red;\"></span>T<span style=\"padding: 0px 1px 0px 1px;\n",
       "                    margin: 0px 0.5px 0px 0.5px;\n",
       "                    border-style: solid;\n",
       "                    border-width: 0.5px;\n",
       "                    border-color: black;\n",
       "                    background-color:cornsilk;color: red;\"></span>h<span style=\"padding: 0px 1px 0px 1px;\n",
       "                    margin: 0px 0.5px 0px 0.5px;\n",
       "                    border-style: solid;\n",
       "                    border-width: 0.5px;\n",
       "                    border-color: black;\n",
       "                    background-color:cornsilk;color: red;\"></span>i<span style=\"padding: 0px 1px 0px 1px;\n",
       "                    margin: 0px 0.5px 0px 0.5px;\n",
       "                    border-style: solid;\n",
       "                    border-width: 0.5px;\n",
       "                    border-color: black;\n",
       "                    background-color:cornsilk;color: red;\"></span>s<span style=\"padding: 0px 1px 0px 1px;\n",
       "                    margin: 0px 0.5px 0px 0.5px;\n",
       "                    border-style: solid;\n",
       "                    border-width: 0.5px;\n",
       "                    border-color: black;\n",
       "                    background-color:cornsilk;color: red;\"></span> <span style=\"padding: 0px 1px 0px 1px;\n",
       "                    margin: 0px 0.5px 0px 0.5px;\n",
       "                    border-style: solid;\n",
       "                    border-width: 0.5px;\n",
       "                    border-color: black;\n",
       "                    background-color:cornsilk;color: red;\"></span>i<span style=\"padding: 0px 1px 0px 1px;\n",
       "                    margin: 0px 0.5px 0px 0.5px;\n",
       "                    border-style: solid;\n",
       "                    border-width: 0.5px;\n",
       "                    border-color: black;\n",
       "                    background-color:cornsilk;color: red;\"></span>s<span style=\"padding: 0px 1px 0px 1px;\n",
       "                    margin: 0px 0.5px 0px 0.5px;\n",
       "                    border-style: solid;\n",
       "                    border-width: 0.5px;\n",
       "                    border-color: black;\n",
       "                    background-color:cornsilk;color: red;\"></span> <span style=\"padding: 0px 1px 0px 1px;\n",
       "                    margin: 0px 0.5px 0px 0.5px;\n",
       "                    border-style: solid;\n",
       "                    border-width: 0.5px;\n",
       "                    border-color: black;\n",
       "                    background-color:cornsilk;color: red;\"></span>t<span style=\"padding: 0px 1px 0px 1px;\n",
       "                    margin: 0px 0.5px 0px 0.5px;\n",
       "                    border-style: solid;\n",
       "                    border-width: 0.5px;\n",
       "                    border-color: black;\n",
       "                    background-color:cornsilk;color: red;\"></span>h<span style=\"padding: 0px 1px 0px 1px;\n",
       "                    margin: 0px 0.5px 0px 0.5px;\n",
       "                    border-style: solid;\n",
       "                    border-width: 0.5px;\n",
       "                    border-color: black;\n",
       "                    background-color:cornsilk;color: red;\"></span>e<span style=\"padding: 0px 1px 0px 1px;\n",
       "                    margin: 0px 0.5px 0px 0.5px;\n",
       "                    border-style: solid;\n",
       "                    border-width: 0.5px;\n",
       "                    border-color: black;\n",
       "                    background-color:cornsilk;color: red;\"></span> <span style=\"padding: 0px 1px 0px 1px;\n",
       "                    margin: 0px 0.5px 0px 0.5px;\n",
       "                    border-style: solid;\n",
       "                    border-width: 0.5px;\n",
       "                    border-color: black;\n",
       "                    background-color:cornsilk;color: red;\"></span>c<span style=\"padding: 0px 1px 0px 1px;\n",
       "                    margin: 0px 0.5px 0px 0.5px;\n",
       "                    border-style: solid;\n",
       "                    border-width: 0.5px;\n",
       "                    border-color: black;\n",
       "                    background-color:cornsilk;color: red;\"></span>o<span style=\"padding: 0px 1px 0px 1px;\n",
       "                    margin: 0px 0.5px 0px 0.5px;\n",
       "                    border-style: solid;\n",
       "                    border-width: 0.5px;\n",
       "                    border-color: black;\n",
       "                    background-color:cornsilk;color: red;\"></span>u<span style=\"padding: 0px 1px 0px 1px;\n",
       "                    margin: 0px 0.5px 0px 0.5px;\n",
       "                    border-style: solid;\n",
       "                    border-width: 0.5px;\n",
       "                    border-color: black;\n",
       "                    background-color:cornsilk;color: red;\"></span>r<span style=\"padding: 0px 1px 0px 1px;\n",
       "                    margin: 0px 0.5px 0px 0.5px;\n",
       "                    border-style: solid;\n",
       "                    border-width: 0.5px;\n",
       "                    border-color: black;\n",
       "                    background-color:cornsilk;color: red;\"></span>s<span style=\"padding: 0px 1px 0px 1px;\n",
       "                    margin: 0px 0.5px 0px 0.5px;\n",
       "                    border-style: solid;\n",
       "                    border-width: 0.5px;\n",
       "                    border-color: black;\n",
       "                    background-color:cornsilk;color: red;\"></span>e<span style=\"padding: 0px 1px 0px 1px;\n",
       "                    margin: 0px 0.5px 0px 0.5px;\n",
       "                    border-style: solid;\n",
       "                    border-width: 0.5px;\n",
       "                    border-color: black;\n",
       "                    background-color:cornsilk;color: red;\"></span> <span style=\"padding: 0px 1px 0px 1px;\n",
       "                    margin: 0px 0.5px 0px 0.5px;\n",
       "                    border-style: solid;\n",
       "                    border-width: 0.5px;\n",
       "                    border-color: black;\n",
       "                    background-color:cornsilk;color: red;\"></span>M<span style=\"padding: 0px 1px 0px 1px;\n",
       "                    margin: 0px 0.5px 0px 0.5px;\n",
       "                    border-style: solid;\n",
       "                    border-width: 0.5px;\n",
       "                    border-color: black;\n",
       "                    background-color:cornsilk;color: red;\"></span>T<span style=\"padding: 0px 1px 0px 1px;\n",
       "                    margin: 0px 0.5px 0px 0.5px;\n",
       "                    border-style: solid;\n",
       "                    border-width: 0.5px;\n",
       "                    border-color: black;\n",
       "                    background-color:cornsilk;color: red;\"></span>H<span style=\"padding: 0px 1px 0px 1px;\n",
       "                    margin: 0px 0.5px 0px 0.5px;\n",
       "                    border-style: solid;\n",
       "                    border-width: 0.5px;\n",
       "                    border-color: black;\n",
       "                    background-color:cornsilk;color: red;\"></span> <span style=\"padding: 0px 1px 0px 1px;\n",
       "                    margin: 0px 0.5px 0px 0.5px;\n",
       "                    border-style: solid;\n",
       "                    border-width: 0.5px;\n",
       "                    border-color: black;\n",
       "                    background-color:cornsilk;color: red;\">548</span><span style=\"padding: 0px 1px 0px 1px;\n",
       "                    margin: 0px 0.5px 0px 0.5px;\n",
       "                    border-style: solid;\n",
       "                    border-width: 0.5px;\n",
       "                    border-color: black;\n",
       "                    background-color:cornsilk;color: red;\"></span> <span style=\"padding: 0px 1px 0px 1px;\n",
       "                    margin: 0px 0.5px 0px 0.5px;\n",
       "                    border-style: solid;\n",
       "                    border-width: 0.5px;\n",
       "                    border-color: black;\n",
       "                    background-color:cornsilk;color: red;\"></span>D<span style=\"padding: 0px 1px 0px 1px;\n",
       "                    margin: 0px 0.5px 0px 0.5px;\n",
       "                    border-style: solid;\n",
       "                    border-width: 0.5px;\n",
       "                    border-color: black;\n",
       "                    background-color:cornsilk;color: red;\"></span>a<span style=\"padding: 0px 1px 0px 1px;\n",
       "                    margin: 0px 0.5px 0px 0.5px;\n",
       "                    border-style: solid;\n",
       "                    border-width: 0.5px;\n",
       "                    border-color: black;\n",
       "                    background-color:cornsilk;color: red;\"></span>t<span style=\"padding: 0px 1px 0px 1px;\n",
       "                    margin: 0px 0.5px 0px 0.5px;\n",
       "                    border-style: solid;\n",
       "                    border-width: 0.5px;\n",
       "                    border-color: black;\n",
       "                    background-color:cornsilk;color: red;\"></span>a<span style=\"padding: 0px 1px 0px 1px;\n",
       "                    margin: 0px 0.5px 0px 0.5px;\n",
       "                    border-style: solid;\n",
       "                    border-width: 0.5px;\n",
       "                    border-color: black;\n",
       "                    background-color:cornsilk;color: red;\"></span> <span style=\"padding: 0px 1px 0px 1px;\n",
       "                    margin: 0px 0.5px 0px 0.5px;\n",
       "                    border-style: solid;\n",
       "                    border-width: 0.5px;\n",
       "                    border-color: black;\n",
       "                    background-color:cornsilk;color: red;\"></span>O<span style=\"padding: 0px 1px 0px 1px;\n",
       "                    margin: 0px 0.5px 0px 0.5px;\n",
       "                    border-style: solid;\n",
       "                    border-width: 0.5px;\n",
       "                    border-color: black;\n",
       "                    background-color:cornsilk;color: red;\"></span>r<span style=\"padding: 0px 1px 0px 1px;\n",
       "                    margin: 0px 0.5px 0px 0.5px;\n",
       "                    border-style: solid;\n",
       "                    border-width: 0.5px;\n",
       "                    border-color: black;\n",
       "                    background-color:cornsilk;color: red;\"></span>i<span style=\"padding: 0px 1px 0px 1px;\n",
       "                    margin: 0px 0.5px 0px 0.5px;\n",
       "                    border-style: solid;\n",
       "                    border-width: 0.5px;\n",
       "                    border-color: black;\n",
       "                    background-color:cornsilk;color: red;\"></span>e<span style=\"padding: 0px 1px 0px 1px;\n",
       "                    margin: 0px 0.5px 0px 0.5px;\n",
       "                    border-style: solid;\n",
       "                    border-width: 0.5px;\n",
       "                    border-color: black;\n",
       "                    background-color:cornsilk;color: red;\"></span>n<span style=\"padding: 0px 1px 0px 1px;\n",
       "                    margin: 0px 0.5px 0px 0.5px;\n",
       "                    border-style: solid;\n",
       "                    border-width: 0.5px;\n",
       "                    border-color: black;\n",
       "                    background-color:cornsilk;color: red;\"></span>t<span style=\"padding: 0px 1px 0px 1px;\n",
       "                    margin: 0px 0.5px 0px 0.5px;\n",
       "                    border-style: solid;\n",
       "                    border-width: 0.5px;\n",
       "                    border-color: black;\n",
       "                    background-color:cornsilk;color: red;\"></span>e<span style=\"padding: 0px 1px 0px 1px;\n",
       "                    margin: 0px 0.5px 0px 0.5px;\n",
       "                    border-style: solid;\n",
       "                    border-width: 0.5px;\n",
       "                    border-color: black;\n",
       "                    background-color:cornsilk;color: red;\"></span>d<span style=\"padding: 0px 1px 0px 1px;\n",
       "                    margin: 0px 0.5px 0px 0.5px;\n",
       "                    border-style: solid;\n",
       "                    border-width: 0.5px;\n",
       "                    border-color: black;\n",
       "                    background-color:cornsilk;color: red;\"></span> <span style=\"padding: 0px 1px 0px 1px;\n",
       "                    margin: 0px 0.5px 0px 0.5px;\n",
       "                    border-style: solid;\n",
       "                    border-width: 0.5px;\n",
       "                    border-color: black;\n",
       "                    background-color:cornsilk;color: red;\"></span>C<span style=\"padding: 0px 1px 0px 1px;\n",
       "                    margin: 0px 0.5px 0px 0.5px;\n",
       "                    border-style: solid;\n",
       "                    border-width: 0.5px;\n",
       "                    border-color: black;\n",
       "                    background-color:cornsilk;color: red;\"></span>o<span style=\"padding: 0px 1px 0px 1px;\n",
       "                    margin: 0px 0.5px 0px 0.5px;\n",
       "                    border-style: solid;\n",
       "                    border-width: 0.5px;\n",
       "                    border-color: black;\n",
       "                    background-color:cornsilk;color: red;\"></span>m<span style=\"padding: 0px 1px 0px 1px;\n",
       "                    margin: 0px 0.5px 0px 0.5px;\n",
       "                    border-style: solid;\n",
       "                    border-width: 0.5px;\n",
       "                    border-color: black;\n",
       "                    background-color:cornsilk;color: red;\"></span>p<span style=\"padding: 0px 1px 0px 1px;\n",
       "                    margin: 0px 0.5px 0px 0.5px;\n",
       "                    border-style: solid;\n",
       "                    border-width: 0.5px;\n",
       "                    border-color: black;\n",
       "                    background-color:cornsilk;color: red;\"></span>u<span style=\"padding: 0px 1px 0px 1px;\n",
       "                    margin: 0px 0.5px 0px 0.5px;\n",
       "                    border-style: solid;\n",
       "                    border-width: 0.5px;\n",
       "                    border-color: black;\n",
       "                    background-color:cornsilk;color: red;\"></span>t<span style=\"padding: 0px 1px 0px 1px;\n",
       "                    margin: 0px 0.5px 0px 0.5px;\n",
       "                    border-style: solid;\n",
       "                    border-width: 0.5px;\n",
       "                    border-color: black;\n",
       "                    background-color:cornsilk;color: red;\"></span>i<span style=\"padding: 0px 1px 0px 1px;\n",
       "                    margin: 0px 0.5px 0px 0.5px;\n",
       "                    border-style: solid;\n",
       "                    border-width: 0.5px;\n",
       "                    border-color: black;\n",
       "                    background-color:cornsilk;color: red;\"></span>n<span style=\"padding: 0px 1px 0px 1px;\n",
       "                    margin: 0px 0.5px 0px 0.5px;\n",
       "                    border-style: solid;\n",
       "                    border-width: 0.5px;\n",
       "                    border-color: black;\n",
       "                    background-color:cornsilk;color: red;\"></span>g<span style=\"padding: 0px 1px 0px 1px;\n",
       "                    margin: 0px 0.5px 0px 0.5px;\n",
       "                    border-style: solid;\n",
       "                    border-width: 0.5px;\n",
       "                    border-color: black;\n",
       "                    background-color:cornsilk;color: red;\"></span>!<span style=\"padding: 0px 1px 0px 1px;\n",
       "                    margin: 0px 0.5px 0px 0.5px;\n",
       "                    border-style: solid;\n",
       "                    border-width: 0.5px;\n",
       "                    border-color: black;\n",
       "                    background-color:cornsilk;color: red;\"></span></code>"
      ],
      "text/plain": [
       "<IPython.core.display.HTML object>"
      ]
     },
     "metadata": {},
     "output_type": "display_data"
    }
   ],
   "source": [
    "# match all sequences consisting of 0 or more digits\n",
    "# notice that every empty sequence between two non-digit characters will match\n",
    "re_show(r\"\\d*\", text) "
   ]
  },
  {
   "cell_type": "code",
   "execution_count": 14,
   "metadata": {},
   "outputs": [
    {
     "data": {
      "text/html": [
       "<code style=\"border-style: none;\n",
       "                   border-width: 0px;\n",
       "                   padding: 0px;\n",
       "                   font-size: 16px;\n",
       "                   color: darkslategray;\n",
       "                   background-color: white;\n",
       "                   white-space: pre;\n",
       "                   line-height: 22px;\"\n",
       "                   ><span style=\"padding: 0px 1px 0px 1px;\n",
       "                    margin: 0px 0.5px 0px 0.5px;\n",
       "                    border-style: solid;\n",
       "                    border-width: 0.5px;\n",
       "                    border-color: black;\n",
       "                    background-color:cornsilk;color: red;\">This</span> is <span style=\"padding: 0px 1px 0px 1px;\n",
       "                    margin: 0px 0.5px 0px 0.5px;\n",
       "                    border-style: solid;\n",
       "                    border-width: 0.5px;\n",
       "                    border-color: black;\n",
       "                    background-color:cornsilk;color: red;\">the</span> <span style=\"padding: 0px 1px 0px 1px;\n",
       "                    margin: 0px 0.5px 0px 0.5px;\n",
       "                    border-style: solid;\n",
       "                    border-width: 0.5px;\n",
       "                    border-color: black;\n",
       "                    background-color:cornsilk;color: red;\">cours</span>e <span style=\"padding: 0px 1px 0px 1px;\n",
       "                    margin: 0px 0.5px 0px 0.5px;\n",
       "                    border-style: solid;\n",
       "                    border-width: 0.5px;\n",
       "                    border-color: black;\n",
       "                    background-color:cornsilk;color: red;\">MTH</span> <span style=\"padding: 0px 1px 0px 1px;\n",
       "                    margin: 0px 0.5px 0px 0.5px;\n",
       "                    border-style: solid;\n",
       "                    border-width: 0.5px;\n",
       "                    border-color: black;\n",
       "                    background-color:cornsilk;color: red;\">548</span> <span style=\"padding: 0px 1px 0px 1px;\n",
       "                    margin: 0px 0.5px 0px 0.5px;\n",
       "                    border-style: solid;\n",
       "                    border-width: 0.5px;\n",
       "                    border-color: black;\n",
       "                    background-color:cornsilk;color: red;\">Data</span> <span style=\"padding: 0px 1px 0px 1px;\n",
       "                    margin: 0px 0.5px 0px 0.5px;\n",
       "                    border-style: solid;\n",
       "                    border-width: 0.5px;\n",
       "                    border-color: black;\n",
       "                    background-color:cornsilk;color: red;\">Orien</span><span style=\"padding: 0px 1px 0px 1px;\n",
       "                    margin: 0px 0.5px 0px 0.5px;\n",
       "                    border-style: solid;\n",
       "                    border-width: 0.5px;\n",
       "                    border-color: black;\n",
       "                    background-color:cornsilk;color: red;\">ted</span> <span style=\"padding: 0px 1px 0px 1px;\n",
       "                    margin: 0px 0.5px 0px 0.5px;\n",
       "                    border-style: solid;\n",
       "                    border-width: 0.5px;\n",
       "                    border-color: black;\n",
       "                    background-color:cornsilk;color: red;\">Compu</span><span style=\"padding: 0px 1px 0px 1px;\n",
       "                    margin: 0px 0.5px 0px 0.5px;\n",
       "                    border-style: solid;\n",
       "                    border-width: 0.5px;\n",
       "                    border-color: black;\n",
       "                    background-color:cornsilk;color: red;\">ting</span>!</code>"
      ],
      "text/plain": [
       "<IPython.core.display.HTML object>"
      ]
     },
     "metadata": {},
     "output_type": "display_data"
    }
   ],
   "source": [
    "# match all sequences of at least 3 and no more tban 5 word charcters:\n",
    "re_show(r\"\\w{3,5}\", text) "
   ]
  },
  {
   "cell_type": "markdown",
   "metadata": {},
   "source": [
    "## Non-greedy matches\n",
    "\n",
    "By default regular expression matches are greedy: they will match the longest possible part of a given string which fits the specified pattern. For example the pattern `r\"a.+\"` will match the longest possible sequence starting with the letter \"a\" followed by at least one more character:"
   ]
  },
  {
   "cell_type": "code",
   "execution_count": 15,
   "metadata": {},
   "outputs": [
    {
     "data": {
      "text/html": [
       "<code style=\"border-style: none;\n",
       "                   border-width: 0px;\n",
       "                   padding: 0px;\n",
       "                   font-size: 16px;\n",
       "                   color: darkslategray;\n",
       "                   background-color: white;\n",
       "                   white-space: pre;\n",
       "                   line-height: 22px;\"\n",
       "                   >This is the course MTH 548 D<span style=\"padding: 0px 1px 0px 1px;\n",
       "                    margin: 0px 0.5px 0px 0.5px;\n",
       "                    border-style: solid;\n",
       "                    border-width: 0.5px;\n",
       "                    border-color: black;\n",
       "                    background-color:cornsilk;color: red;\">ata Oriented Computing!</span></code>"
      ],
      "text/plain": [
       "<IPython.core.display.HTML object>"
      ]
     },
     "metadata": {},
     "output_type": "display_data"
    }
   ],
   "source": [
    "re_show(r\"a.+\", text) "
   ]
  },
  {
   "cell_type": "markdown",
   "metadata": {},
   "source": [
    "The following sequences modify this behavior by specifying non-greedy matches:\n",
    "\n",
    "| Sequence      |  What it means                                                                     |\n",
    "|:--------------|:-----------------------------------------------------------------------------------|\n",
    "| `*?`          | Match the preceding pattern 0 or more times, as few times as possible.             |\n",
    "| `+?`          | Match the preceding pattern 1 or more times, as few times as possible.             |\n",
    "| `??`          | Match 0 or 1 times, as few times as possible.                                      |\n",
    "| `{n, m}?`     | Match as few times as possible, but at least `n` times and no more than `m` times. |"
   ]
  },
  {
   "cell_type": "markdown",
   "metadata": {},
   "source": [
    "**Examples.**"
   ]
  },
  {
   "cell_type": "code",
   "execution_count": 16,
   "metadata": {},
   "outputs": [
    {
     "data": {
      "text/html": [
       "<code style=\"border-style: none;\n",
       "                   border-width: 0px;\n",
       "                   padding: 0px;\n",
       "                   font-size: 16px;\n",
       "                   color: darkslategray;\n",
       "                   background-color: white;\n",
       "                   white-space: pre;\n",
       "                   line-height: 22px;\"\n",
       "                   >This is the course MTH 548 D<span style=\"padding: 0px 1px 0px 1px;\n",
       "                    margin: 0px 0.5px 0px 0.5px;\n",
       "                    border-style: solid;\n",
       "                    border-width: 0.5px;\n",
       "                    border-color: black;\n",
       "                    background-color:cornsilk;color: red;\">at</span><span style=\"padding: 0px 1px 0px 1px;\n",
       "                    margin: 0px 0.5px 0px 0.5px;\n",
       "                    border-style: solid;\n",
       "                    border-width: 0.5px;\n",
       "                    border-color: black;\n",
       "                    background-color:cornsilk;color: red;\">a </span>Oriented Computing!</code>"
      ],
      "text/plain": [
       "<IPython.core.display.HTML object>"
      ]
     },
     "metadata": {},
     "output_type": "display_data"
    }
   ],
   "source": [
    "# match all shortest possible sequences starting with \"a\" \n",
    "# followed by at least one more character\n",
    "re_show(r\"a.+?\", text) "
   ]
  },
  {
   "cell_type": "code",
   "execution_count": 17,
   "metadata": {},
   "outputs": [
    {
     "data": {
      "text/html": [
       "<code style=\"border-style: none;\n",
       "                   border-width: 0px;\n",
       "                   padding: 0px;\n",
       "                   font-size: 16px;\n",
       "                   color: darkslategray;\n",
       "                   background-color: white;\n",
       "                   white-space: pre;\n",
       "                   line-height: 22px;\"\n",
       "                   >This is the course MTH 548 Data Or<span style=\"padding: 0px 1px 0px 1px;\n",
       "                    margin: 0px 0.5px 0px 0.5px;\n",
       "                    border-style: solid;\n",
       "                    border-width: 0.5px;\n",
       "                    border-color: black;\n",
       "                    background-color:cornsilk;color: red;\">ien</span>ted Comput<span style=\"padding: 0px 1px 0px 1px;\n",
       "                    margin: 0px 0.5px 0px 0.5px;\n",
       "                    border-style: solid;\n",
       "                    border-width: 0.5px;\n",
       "                    border-color: black;\n",
       "                    background-color:cornsilk;color: red;\">in</span>g!</code>"
      ],
      "text/plain": [
       "<IPython.core.display.HTML object>"
      ]
     },
     "metadata": {},
     "output_type": "display_data"
    }
   ],
   "source": [
    "# match all sequences consisting of \"i\" followed by an \"e\" \n",
    "# repeated 0 or 1 times, and ending with \"n\"\n",
    "re_show(r\"ie??n\", text) "
   ]
  },
  {
   "cell_type": "markdown",
   "metadata": {},
   "source": [
    "## Grouping patterns\n",
    "\n",
    "As the last example shows, by default the sequences `*`, `*?` `+`, `+?` etc. apply only to the single symbol preceding them. For example,  the regular expression `\"ie?n\"` means that the character `e` should be \n",
    "repeated 0 or 1 times. In order to indicate that `?` applies the whole sequence `ie` we need to enclose this sequence in parentheses: `(ie)?n`."
   ]
  },
  {
   "cell_type": "markdown",
   "metadata": {},
   "source": [
    "**Examples.**"
   ]
  },
  {
   "cell_type": "code",
   "execution_count": 18,
   "metadata": {},
   "outputs": [
    {
     "data": {
      "text/html": [
       "<code style=\"border-style: none;\n",
       "                   border-width: 0px;\n",
       "                   padding: 0px;\n",
       "                   font-size: 16px;\n",
       "                   color: darkslategray;\n",
       "                   background-color: white;\n",
       "                   white-space: pre;\n",
       "                   line-height: 22px;\"\n",
       "                   >This is the course MTH 548 Data Or<span style=\"padding: 0px 1px 0px 1px;\n",
       "                    margin: 0px 0.5px 0px 0.5px;\n",
       "                    border-style: solid;\n",
       "                    border-width: 0.5px;\n",
       "                    border-color: black;\n",
       "                    background-color:cornsilk;color: red;\">ien</span>ted Computi<span style=\"padding: 0px 1px 0px 1px;\n",
       "                    margin: 0px 0.5px 0px 0.5px;\n",
       "                    border-style: solid;\n",
       "                    border-width: 0.5px;\n",
       "                    border-color: black;\n",
       "                    background-color:cornsilk;color: red;\">n</span>g!</code>"
      ],
      "text/plain": [
       "<IPython.core.display.HTML object>"
      ]
     },
     "metadata": {},
     "output_type": "display_data"
    }
   ],
   "source": [
    "# match all sequences consisting of \"ei\" repeated 0 or 1 times \n",
    "# (as many times as possible), followed an \"n\"\n",
    "re_show(r\"(ie)?n\", text) "
   ]
  },
  {
   "cell_type": "code",
   "execution_count": 19,
   "metadata": {},
   "outputs": [
    {
     "data": {
      "text/html": [
       "<code style=\"border-style: none;\n",
       "                   border-width: 0px;\n",
       "                   padding: 0px;\n",
       "                   font-size: 16px;\n",
       "                   color: darkslategray;\n",
       "                   background-color: white;\n",
       "                   white-space: pre;\n",
       "                   line-height: 22px;\"\n",
       "                   >Th<span style=\"padding: 0px 1px 0px 1px;\n",
       "                    margin: 0px 0.5px 0px 0.5px;\n",
       "                    border-style: solid;\n",
       "                    border-width: 0.5px;\n",
       "                    border-color: black;\n",
       "                    background-color:cornsilk;color: red;\">is is </span>the course MTH 548 Data Oriented Computing!</code>"
      ],
      "text/plain": [
       "<IPython.core.display.HTML object>"
      ]
     },
     "metadata": {},
     "output_type": "display_data"
    }
   ],
   "source": [
    "# match all sequences consisting of \"is\" \n",
    "# repeated at least once, and as many times as possible\n",
    "re_show(r\"(is )+\", text) "
   ]
  },
  {
   "cell_type": "code",
   "execution_count": 20,
   "metadata": {},
   "outputs": [
    {
     "data": {
      "text/html": [
       "<code style=\"border-style: none;\n",
       "                   border-width: 0px;\n",
       "                   padding: 0px;\n",
       "                   font-size: 16px;\n",
       "                   color: darkslategray;\n",
       "                   background-color: white;\n",
       "                   white-space: pre;\n",
       "                   line-height: 22px;\"\n",
       "                   >This is <span style=\"padding: 0px 1px 0px 1px;\n",
       "                    margin: 0px 0.5px 0px 0.5px;\n",
       "                    border-style: solid;\n",
       "                    border-width: 0.5px;\n",
       "                    border-color: black;\n",
       "                    background-color:cornsilk;color: red;\">the course</span> MTH 548 Data <span style=\"padding: 0px 1px 0px 1px;\n",
       "                    margin: 0px 0.5px 0px 0.5px;\n",
       "                    border-style: solid;\n",
       "                    border-width: 0.5px;\n",
       "                    border-color: black;\n",
       "                    background-color:cornsilk;color: red;\">Oriented Computing</span>!</code>"
      ],
      "text/plain": [
       "<IPython.core.display.HTML object>"
      ]
     },
     "metadata": {},
     "output_type": "display_data"
    }
   ],
   "source": [
    "# match a sequence of word characters followed by a space, \n",
    "# and then by another word chatacter sequence starting with either \"c\" or \"C\"\n",
    "re_show(r\"\\w* (c|C)\\w*\", text) "
   ]
  },
  {
   "cell_type": "markdown",
   "metadata": {},
   "source": [
    "Compare the last example to one without grouping:"
   ]
  },
  {
   "cell_type": "code",
   "execution_count": 21,
   "metadata": {},
   "outputs": [
    {
     "data": {
      "text/html": [
       "<code style=\"border-style: none;\n",
       "                   border-width: 0px;\n",
       "                   padding: 0px;\n",
       "                   font-size: 16px;\n",
       "                   color: darkslategray;\n",
       "                   background-color: white;\n",
       "                   white-space: pre;\n",
       "                   line-height: 22px;\"\n",
       "                   >This is <span style=\"padding: 0px 1px 0px 1px;\n",
       "                    margin: 0px 0.5px 0px 0.5px;\n",
       "                    border-style: solid;\n",
       "                    border-width: 0.5px;\n",
       "                    border-color: black;\n",
       "                    background-color:cornsilk;color: red;\">the c</span>ourse MTH 548 Data Oriented <span style=\"padding: 0px 1px 0px 1px;\n",
       "                    margin: 0px 0.5px 0px 0.5px;\n",
       "                    border-style: solid;\n",
       "                    border-width: 0.5px;\n",
       "                    border-color: black;\n",
       "                    background-color:cornsilk;color: red;\">Computing</span>!</code>"
      ],
      "text/plain": [
       "<IPython.core.display.HTML object>"
      ]
     },
     "metadata": {},
     "output_type": "display_data"
    }
   ],
   "source": [
    "# match either a word character sequence followed by \" c\" \n",
    "# or a sequence staring with \"C\" followed by word characters\n",
    "re_show(r\"\\w* c|C\\w*\", text) "
   ]
  },
  {
   "cell_type": "markdown",
   "metadata": {},
   "source": [
    "## Anchors\n",
    "\n",
    "Anchors are sequences which not match any character, but rather a specific position in a string:\n",
    "\n",
    "| Sequence      |  What it means                                                                              |\n",
    "|:--------------|:--------------------------------------------------------------------------------------------|\n",
    "| `^`           | Match the beginning of the string                                                           |\n",
    "| `$`           | Match the end of the string.                                                                |\n",
    "| `\\b`          | Match a word boundary, e.i. a space between word character and a non-word character         |\n",
    "| `\\B`          | Match a space which is not a word boundary.                                                 |"
   ]
  },
  {
   "cell_type": "code",
   "execution_count": 22,
   "metadata": {},
   "outputs": [
    {
     "data": {
      "text/html": [
       "<code style=\"border-style: none;\n",
       "                   border-width: 0px;\n",
       "                   padding: 0px;\n",
       "                   font-size: 16px;\n",
       "                   color: darkslategray;\n",
       "                   background-color: white;\n",
       "                   white-space: pre;\n",
       "                   line-height: 22px;\"\n",
       "                   ><span style=\"padding: 0px 1px 0px 1px;\n",
       "                    margin: 0px 0.5px 0px 0.5px;\n",
       "                    border-style: solid;\n",
       "                    border-width: 0.5px;\n",
       "                    border-color: black;\n",
       "                    background-color:cornsilk;color: red;\">This is the course MTH 548 Da</span>ta Oriented Computing!</code>"
      ],
      "text/plain": [
       "<IPython.core.display.HTML object>"
      ]
     },
     "metadata": {},
     "output_type": "display_data"
    }
   ],
   "source": [
    "# match everything from the beginning of the string \n",
    "# until the first occurence of the letter \"a\"\n",
    "re_show(r\"^.*?a\", text) "
   ]
  },
  {
   "cell_type": "code",
   "execution_count": 23,
   "metadata": {},
   "outputs": [
    {
     "data": {
      "text/html": [
       "<code style=\"border-style: none;\n",
       "                   border-width: 0px;\n",
       "                   padding: 0px;\n",
       "                   font-size: 16px;\n",
       "                   color: darkslategray;\n",
       "                   background-color: white;\n",
       "                   white-space: pre;\n",
       "                   line-height: 22px;\"\n",
       "                   ><span style=\"padding: 0px 1px 0px 1px;\n",
       "                    margin: 0px 0.5px 0px 0.5px;\n",
       "                    border-style: solid;\n",
       "                    border-width: 0.5px;\n",
       "                    border-color: black;\n",
       "                    background-color:cornsilk;color: red;\"></span>This<span style=\"padding: 0px 1px 0px 1px;\n",
       "                    margin: 0px 0.5px 0px 0.5px;\n",
       "                    border-style: solid;\n",
       "                    border-width: 0.5px;\n",
       "                    border-color: black;\n",
       "                    background-color:cornsilk;color: red;\"></span> <span style=\"padding: 0px 1px 0px 1px;\n",
       "                    margin: 0px 0.5px 0px 0.5px;\n",
       "                    border-style: solid;\n",
       "                    border-width: 0.5px;\n",
       "                    border-color: black;\n",
       "                    background-color:cornsilk;color: red;\"></span>is<span style=\"padding: 0px 1px 0px 1px;\n",
       "                    margin: 0px 0.5px 0px 0.5px;\n",
       "                    border-style: solid;\n",
       "                    border-width: 0.5px;\n",
       "                    border-color: black;\n",
       "                    background-color:cornsilk;color: red;\"></span> <span style=\"padding: 0px 1px 0px 1px;\n",
       "                    margin: 0px 0.5px 0px 0.5px;\n",
       "                    border-style: solid;\n",
       "                    border-width: 0.5px;\n",
       "                    border-color: black;\n",
       "                    background-color:cornsilk;color: red;\"></span>the<span style=\"padding: 0px 1px 0px 1px;\n",
       "                    margin: 0px 0.5px 0px 0.5px;\n",
       "                    border-style: solid;\n",
       "                    border-width: 0.5px;\n",
       "                    border-color: black;\n",
       "                    background-color:cornsilk;color: red;\"></span> <span style=\"padding: 0px 1px 0px 1px;\n",
       "                    margin: 0px 0.5px 0px 0.5px;\n",
       "                    border-style: solid;\n",
       "                    border-width: 0.5px;\n",
       "                    border-color: black;\n",
       "                    background-color:cornsilk;color: red;\"></span>course<span style=\"padding: 0px 1px 0px 1px;\n",
       "                    margin: 0px 0.5px 0px 0.5px;\n",
       "                    border-style: solid;\n",
       "                    border-width: 0.5px;\n",
       "                    border-color: black;\n",
       "                    background-color:cornsilk;color: red;\"></span> <span style=\"padding: 0px 1px 0px 1px;\n",
       "                    margin: 0px 0.5px 0px 0.5px;\n",
       "                    border-style: solid;\n",
       "                    border-width: 0.5px;\n",
       "                    border-color: black;\n",
       "                    background-color:cornsilk;color: red;\"></span>MTH<span style=\"padding: 0px 1px 0px 1px;\n",
       "                    margin: 0px 0.5px 0px 0.5px;\n",
       "                    border-style: solid;\n",
       "                    border-width: 0.5px;\n",
       "                    border-color: black;\n",
       "                    background-color:cornsilk;color: red;\"></span> <span style=\"padding: 0px 1px 0px 1px;\n",
       "                    margin: 0px 0.5px 0px 0.5px;\n",
       "                    border-style: solid;\n",
       "                    border-width: 0.5px;\n",
       "                    border-color: black;\n",
       "                    background-color:cornsilk;color: red;\"></span>548<span style=\"padding: 0px 1px 0px 1px;\n",
       "                    margin: 0px 0.5px 0px 0.5px;\n",
       "                    border-style: solid;\n",
       "                    border-width: 0.5px;\n",
       "                    border-color: black;\n",
       "                    background-color:cornsilk;color: red;\"></span> <span style=\"padding: 0px 1px 0px 1px;\n",
       "                    margin: 0px 0.5px 0px 0.5px;\n",
       "                    border-style: solid;\n",
       "                    border-width: 0.5px;\n",
       "                    border-color: black;\n",
       "                    background-color:cornsilk;color: red;\"></span>Data<span style=\"padding: 0px 1px 0px 1px;\n",
       "                    margin: 0px 0.5px 0px 0.5px;\n",
       "                    border-style: solid;\n",
       "                    border-width: 0.5px;\n",
       "                    border-color: black;\n",
       "                    background-color:cornsilk;color: red;\"></span> <span style=\"padding: 0px 1px 0px 1px;\n",
       "                    margin: 0px 0.5px 0px 0.5px;\n",
       "                    border-style: solid;\n",
       "                    border-width: 0.5px;\n",
       "                    border-color: black;\n",
       "                    background-color:cornsilk;color: red;\"></span>Oriented<span style=\"padding: 0px 1px 0px 1px;\n",
       "                    margin: 0px 0.5px 0px 0.5px;\n",
       "                    border-style: solid;\n",
       "                    border-width: 0.5px;\n",
       "                    border-color: black;\n",
       "                    background-color:cornsilk;color: red;\"></span> <span style=\"padding: 0px 1px 0px 1px;\n",
       "                    margin: 0px 0.5px 0px 0.5px;\n",
       "                    border-style: solid;\n",
       "                    border-width: 0.5px;\n",
       "                    border-color: black;\n",
       "                    background-color:cornsilk;color: red;\"></span>Computing<span style=\"padding: 0px 1px 0px 1px;\n",
       "                    margin: 0px 0.5px 0px 0.5px;\n",
       "                    border-style: solid;\n",
       "                    border-width: 0.5px;\n",
       "                    border-color: black;\n",
       "                    background-color:cornsilk;color: red;\"></span>!</code>"
      ],
      "text/plain": [
       "<IPython.core.display.HTML object>"
      ]
     },
     "metadata": {},
     "output_type": "display_data"
    }
   ],
   "source": [
    "# match all word boundaries\n",
    "re_show(r\"\\b\", text) "
   ]
  },
  {
   "cell_type": "code",
   "execution_count": 24,
   "metadata": {},
   "outputs": [
    {
     "data": {
      "text/html": [
       "<code style=\"border-style: none;\n",
       "                   border-width: 0px;\n",
       "                   padding: 0px;\n",
       "                   font-size: 16px;\n",
       "                   color: darkslategray;\n",
       "                   background-color: white;\n",
       "                   white-space: pre;\n",
       "                   line-height: 22px;\"\n",
       "                   >T<span style=\"padding: 0px 1px 0px 1px;\n",
       "                    margin: 0px 0.5px 0px 0.5px;\n",
       "                    border-style: solid;\n",
       "                    border-width: 0.5px;\n",
       "                    border-color: black;\n",
       "                    background-color:cornsilk;color: red;\">his</span> is t<span style=\"padding: 0px 1px 0px 1px;\n",
       "                    margin: 0px 0.5px 0px 0.5px;\n",
       "                    border-style: solid;\n",
       "                    border-width: 0.5px;\n",
       "                    border-color: black;\n",
       "                    background-color:cornsilk;color: red;\">he</span> course MTH 548 Data Oriented Computing!</code>"
      ],
      "text/plain": [
       "<IPython.core.display.HTML object>"
      ]
     },
     "metadata": {},
     "output_type": "display_data"
    }
   ],
   "source": [
    "# match sequences which start with an \"h\",\n",
    "# end at a word boundary, and are as short as possible\n",
    "re_show(r\"h.*?\\b\", text) "
   ]
  },
  {
   "cell_type": "markdown",
   "metadata": {},
   "source": [
    "## Flags"
   ]
  },
  {
   "cell_type": "markdown",
   "metadata": {},
   "source": [
    "In addition to a regular expression many functions in the `re` module accept flags, which modify the meaning of the regular expression:\n",
    "\n",
    "| Flag          |  What it means                                                                              |\n",
    "|:--------------|:--------------------------------------------------------------------------------------------|\n",
    "| `re.I`        | Ignore distinction between lower and upper case characters.                                 |\n",
    "| `re.M`        | In a multiline string the symbols `^` and `$` match the beginning and the end of a line.    |\n",
    "| `re.S`        | The symbol `.` matches everything, including the newline character `\"\\n\"`.                  |"
   ]
  },
  {
   "cell_type": "markdown",
   "metadata": {},
   "source": [
    "**Examples.** We will use again the function `re_show` which admits an additional `flags` argument. "
   ]
  },
  {
   "cell_type": "code",
   "execution_count": 36,
   "metadata": {},
   "outputs": [
    {
     "name": "stdout",
     "output_type": "stream",
     "text": [
      "Twinkle, twinkle, little star,\n",
      "How I wonder what you are!\n",
      "Up above the world so high,\n",
      "Like a diamond in the sky.\n"
     ]
    }
   ],
   "source": [
    "# a multiline text sample to experiment with \n",
    "from textwrap import dedent\n",
    "text = '''\n",
    "       Twinkle, twinkle, little star,\n",
    "       How I wonder what you are!\n",
    "       Up above the world so high,\n",
    "       Like a diamond in the sky.\n",
    "       '''\n",
    "text = dedent(text).strip()\n",
    "print(text)"
   ]
  },
  {
   "cell_type": "code",
   "execution_count": 26,
   "metadata": {},
   "outputs": [
    {
     "data": {
      "text/html": [
       "<code style=\"border-style: none;\n",
       "                   border-width: 0px;\n",
       "                   padding: 0px;\n",
       "                   font-size: 16px;\n",
       "                   color: darkslategray;\n",
       "                   background-color: white;\n",
       "                   white-space: pre;\n",
       "                   line-height: 22px;\"\n",
       "                   ><span style=\"padding: 0px 1px 0px 1px;\n",
       "                    margin: 0px 0.5px 0px 0.5px;\n",
       "                    border-style: solid;\n",
       "                    border-width: 0.5px;\n",
       "                    border-color: black;\n",
       "                    background-color:cornsilk;color: red;\">Twinkle</span>, <span style=\"padding: 0px 1px 0px 1px;\n",
       "                    margin: 0px 0.5px 0px 0.5px;\n",
       "                    border-style: solid;\n",
       "                    border-width: 0.5px;\n",
       "                    border-color: black;\n",
       "                    background-color:cornsilk;color: red;\">twinkle</span>, little star,\n",
       "How I wonder what you are!\n",
       "Up above the world so high,\n",
       "Like a diamond in the sky.</code>"
      ],
      "text/plain": [
       "<IPython.core.display.HTML object>"
      ]
     },
     "metadata": {},
     "output_type": "display_data"
    }
   ],
   "source": [
    "# find the word \"twinkle\" in either upper or lower case\n",
    "re_show(r\"twinkle\", text, flags =  re.I)"
   ]
  },
  {
   "cell_type": "code",
   "execution_count": 27,
   "metadata": {},
   "outputs": [
    {
     "data": {
      "text/html": [
       "<code style=\"border-style: none;\n",
       "                   border-width: 0px;\n",
       "                   padding: 0px;\n",
       "                   font-size: 16px;\n",
       "                   color: darkslategray;\n",
       "                   background-color: white;\n",
       "                   white-space: pre;\n",
       "                   line-height: 22px;\"\n",
       "                   >Twinkle, twinkle, little <span style=\"padding: 0px 1px 0px 1px;\n",
       "                    margin: 0px 0.5px 0px 0.5px;\n",
       "                    border-style: solid;\n",
       "                    border-width: 0.5px;\n",
       "                    border-color: black;\n",
       "                    background-color:cornsilk;color: red;\">star,\n",
       "How I wonder what you are!</span>\n",
       "Up above the world so high,\n",
       "Like a diamond in the sky.</code>"
      ],
      "text/plain": [
       "<IPython.core.display.HTML object>"
      ]
     },
     "metadata": {},
     "output_type": "display_data"
    }
   ],
   "source": [
    "# find a sequence starting with \"star\", ending with \"!\",\n",
    "# and possibly including newline characters\n",
    "re_show(r\"star.*!\", text, flags =  re.S)"
   ]
  },
  {
   "cell_type": "code",
   "execution_count": 28,
   "metadata": {},
   "outputs": [
    {
     "data": {
      "text/html": [
       "<code style=\"border-style: none;\n",
       "                   border-width: 0px;\n",
       "                   padding: 0px;\n",
       "                   font-size: 16px;\n",
       "                   color: darkslategray;\n",
       "                   background-color: white;\n",
       "                   white-space: pre;\n",
       "                   line-height: 22px;\"\n",
       "                   ><span style=\"padding: 0px 1px 0px 1px;\n",
       "                    margin: 0px 0.5px 0px 0.5px;\n",
       "                    border-style: solid;\n",
       "                    border-width: 0.5px;\n",
       "                    border-color: black;\n",
       "                    background-color:cornsilk;color: red;\">Twinkle</span>, twinkle, little star,\n",
       "<span style=\"padding: 0px 1px 0px 1px;\n",
       "                    margin: 0px 0.5px 0px 0.5px;\n",
       "                    border-style: solid;\n",
       "                    border-width: 0.5px;\n",
       "                    border-color: black;\n",
       "                    background-color:cornsilk;color: red;\">How</span> I wonder what you are!\n",
       "<span style=\"padding: 0px 1px 0px 1px;\n",
       "                    margin: 0px 0.5px 0px 0.5px;\n",
       "                    border-style: solid;\n",
       "                    border-width: 0.5px;\n",
       "                    border-color: black;\n",
       "                    background-color:cornsilk;color: red;\">Up</span> above the world so high,\n",
       "<span style=\"padding: 0px 1px 0px 1px;\n",
       "                    margin: 0px 0.5px 0px 0.5px;\n",
       "                    border-style: solid;\n",
       "                    border-width: 0.5px;\n",
       "                    border-color: black;\n",
       "                    background-color:cornsilk;color: red;\">Like</span> a diamond in the sky.</code>"
      ],
      "text/plain": [
       "<IPython.core.display.HTML object>"
      ]
     },
     "metadata": {},
     "output_type": "display_data"
    }
   ],
   "source": [
    "# find shortest possible sequences which start\n",
    "# at the beginning of a line, contain at least one\n",
    "# character, and end at a word boundary\n",
    "re_show(r\"^.+?\\b\", text, flags =  re.M)"
   ]
  },
  {
   "cell_type": "markdown",
   "metadata": {},
   "source": [
    "**Note.** Flags can be combined using the vertical bar `|` character:"
   ]
  },
  {
   "cell_type": "code",
   "execution_count": 37,
   "metadata": {},
   "outputs": [
    {
     "data": {
      "text/html": [
       "<code style=\"border-style: none;\n",
       "                   border-width: 0px;\n",
       "                   padding: 0px;\n",
       "                   font-size: 16px;\n",
       "                   color: darkslategray;\n",
       "                   background-color: white;\n",
       "                   white-space: pre;\n",
       "                   line-height: 22px;\"\n",
       "                   ><span style=\"padding: 0px 1px 0px 1px;\n",
       "                    margin: 0px 0.5px 0px 0.5px;\n",
       "                    border-style: solid;\n",
       "                    border-width: 0.5px;\n",
       "                    border-color: black;\n",
       "                    background-color: cornsilk;\n",
       "                    color: red;\"\n",
       "                    >Twinkle, twinkle, little star,\n",
       "How I wonder what you are!</span>\n",
       "Up above the world so high,\n",
       "Like a diamond in the sky.</code>"
      ],
      "text/plain": [
       "<IPython.core.display.HTML object>"
      ]
     },
     "metadata": {},
     "output_type": "display_data"
    }
   ],
   "source": [
    "# re.I and re.S combined\n",
    "re_show(r\"twinkle.*!\", text, flags =  re.I|re.S)"
   ]
  },
  {
   "cell_type": "markdown",
   "metadata": {},
   "source": [
    "## Matching special characters \n",
    "\n",
    "As we have seen above several, characters (`.`, `+`, `*` etc.) have special meaning when used in a regular expression. In order to match such characters literally, we precede them by a backslash `\\`, so they become `\\.`, `\\+`, `\\*` and so on. The backlash itself is matched by entering `\\\\`."
   ]
  },
  {
   "cell_type": "markdown",
   "metadata": {},
   "source": [
    "**Example.**"
   ]
  },
  {
   "cell_type": "code",
   "execution_count": 51,
   "metadata": {},
   "outputs": [
    {
     "data": {
      "text/html": [
       "<code style=\"border-style: none;\n",
       "                   border-width: 0px;\n",
       "                   padding: 0px;\n",
       "                   font-size: 16px;\n",
       "                   color: darkslategray;\n",
       "                   background-color: white;\n",
       "                   white-space: pre;\n",
       "                   line-height: 22px;\"\n",
       "                   ><span style=\"padding: 0px 1px 0px 1px;\n",
       "                    margin: 0px 0.5px 0px 0.5px;\n",
       "                    border-style: solid;\n",
       "                    border-width: 0.5px;\n",
       "                    border-color: black;\n",
       "                    background-color: cornsilk;\n",
       "                    color: red;\"\n",
       "                    >***</span> \\hello\\ <span style=\"padding: 0px 1px 0px 1px;\n",
       "                    margin: 0px 0.5px 0px 0.5px;\n",
       "                    border-style: solid;\n",
       "                    border-width: 0.5px;\n",
       "                    border-color: black;\n",
       "                    background-color: cornsilk;\n",
       "                    color: red;\"\n",
       "                    >***</span></code>"
      ],
      "text/plain": [
       "<IPython.core.display.HTML object>"
      ]
     },
     "metadata": {},
     "output_type": "display_data"
    }
   ],
   "source": [
    "text = \"*** \\hello\\ ***\"\n",
    "# match the sequence \"***\"\n",
    "re_show(r\"\\*{3}\", text)"
   ]
  },
  {
   "cell_type": "code",
   "execution_count": 49,
   "metadata": {},
   "outputs": [
    {
     "data": {
      "text/html": [
       "<code style=\"border-style: none;\n",
       "                   border-width: 0px;\n",
       "                   padding: 0px;\n",
       "                   font-size: 16px;\n",
       "                   color: darkslategray;\n",
       "                   background-color: white;\n",
       "                   white-space: pre;\n",
       "                   line-height: 22px;\"\n",
       "                   >*** <span style=\"padding: 0px 1px 0px 1px;\n",
       "                    margin: 0px 0.5px 0px 0.5px;\n",
       "                    border-style: solid;\n",
       "                    border-width: 0.5px;\n",
       "                    border-color: black;\n",
       "                    background-color: cornsilk;\n",
       "                    color: red;\"\n",
       "                    >\\hello\\</span> ***</code>"
      ],
      "text/plain": [
       "<IPython.core.display.HTML object>"
      ]
     },
     "metadata": {},
     "output_type": "display_data"
    }
   ],
   "source": [
    "# match a sequence which stats and ends \n",
    "# with a backlash \"\\\"\n",
    "re_show(r\"\\\\.*\\\\\", text)"
   ]
  },
  {
   "cell_type": "code",
   "execution_count": 64,
   "metadata": {},
   "outputs": [
    {
     "data": {
      "text/html": [
       "<code style=\"border-style: none;\n",
       "                   border-width: 0px;\n",
       "                   padding: 0px;\n",
       "                   font-size: 16px;\n",
       "                   color: darkslategray;\n",
       "                   background-color: white;\n",
       "                   white-space: pre;\n",
       "                   line-height: 22px;\"\n",
       "                   >¯\\_<span style=\"padding: 0px 1px 0px 1px;\n",
       "                    margin: 0px 0.5px 0px 0.5px;\n",
       "                    border-style: solid;\n",
       "                    border-width: 0.5px;\n",
       "                    border-color: black;\n",
       "                    background-color: cornsilk;\n",
       "                    color: red;\"\n",
       "                    >(ツ)</span>_/¯</code>"
      ],
      "text/plain": [
       "<IPython.core.display.HTML object>"
      ]
     },
     "metadata": {},
     "output_type": "display_data"
    }
   ],
   "source": [
    "# match a sequence enclosed in parentheses \"(...)\"\n",
    "text = \"¯\\_(ツ)_/¯\"\n",
    "re_show(r\"\\(.*\\)\", text)"
   ]
  }
 ],
 "metadata": {
  "kernelspec": {
   "display_name": "Python 3",
   "language": "python",
   "name": "python3"
  },
  "language_info": {
   "codemirror_mode": {
    "name": "ipython",
    "version": 3
   },
   "file_extension": ".py",
   "mimetype": "text/x-python",
   "name": "python",
   "nbconvert_exporter": "python",
   "pygments_lexer": "ipython3",
   "version": "3.7.3"
  }
 },
 "nbformat": 4,
 "nbformat_minor": 2
}
