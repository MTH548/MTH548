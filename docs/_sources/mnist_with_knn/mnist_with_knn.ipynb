{
 "cells": [
  {
   "cell_type": "markdown",
   "metadata": {},
   "source": [
    "# Project: Recognizing digits with k-NN"
   ]
  },
  {
   "cell_type": "code",
   "execution_count": 3,
   "metadata": {
    "nbsphinx": "hidden"
   },
   "outputs": [],
   "source": [
    "import numpy as np\n",
    "import random\n",
    "\n",
    "import plotly.express as px\n",
    "import plotly.io as pio\n",
    "import plotly.graph_objects as go\n",
    "from plotly.subplots import make_subplots\n",
    "\n",
    "n = 50\n",
    "rows = 5 \n",
    "cols = 10\n",
    "\n",
    "# get images of digits from the MNIST dataset \n",
    "with open(\"mnist-images-ubyte\", 'rb') as foo:\n",
    "    pics = np.array([int(b) for b in foo.read()[16:]]).reshape(-1, 28**2)\n",
    "\n",
    "\n",
    "# get corresponding labels\n",
    "with open(\"mnist-labels-ubyte\", 'rb') as foo:\n",
    "    labels = np.array([int(b) for b in foo.read()[8:]])\n",
    "\n",
    "s = random.sample(range(pics.shape[0]), n)\n",
    "sample_pics = pics[s]\n",
    "sample_labels = np.array(labels)[s]\n",
    "\n",
    "fig = make_subplots(rows=rows, cols=cols, subplot_titles=([str(l) for l in sample_labels[:n]]))\n",
    "fig.update_layout(width=800, height=500, paper_bgcolor='rgb(255,255,255)', plot_bgcolor='rgb(255,255,255)')\n",
    "\n",
    "fig.update_xaxes(visible=False)\n",
    "fig.update_yaxes(visible=False, scaleanchor=\"x\")\n",
    "\n",
    "for i in range(n):\n",
    "    hmap = go.Heatmap(z=sample_pics[i].reshape(28,28)[::-1], colorscale = 'gray_r', showscale=False)\n",
    "    fig.add_trace(hmap, row=i//10 + 1 , col=i%10 + 1)\n",
    "    \n",
    "for i in fig['layout']['annotations']:\n",
    "    i['font'] = dict(size=15,color='#ff0000')\n",
    "fig.write_image(\"digits.png\")"
   ]
  },
  {
   "cell_type": "markdown",
   "metadata": {},
   "source": [
    "The [MNIST database](http://yann.lecun.com/exdb/mnist/) is a collection of 60,000 images of handwritten digits from 0 through 9, with numerical labels. Here is sample of images included in the database:\n",
    "\n",
    "![MNIST digits](digits.png)"
   ]
  },
  {
   "cell_type": "markdown",
   "metadata": {},
   "source": [
    "## Objectives"
   ]
  },
  {
   "cell_type": "markdown",
   "metadata": {},
   "source": [
    "Download MNIST files for this project:"
   ]
  },
  {
   "cell_type": "raw",
   "metadata": {
    "raw_mimetype": "text/restructuredtext"
   },
   "source": [
    "| :download:`train-images-idx3-ubyte <train-images-idx3-ubyte>`\n",
    "| :download:`train-labels-idx1-ubyte <train-labels-idx1-ubyte>`"
   ]
  },
  {
   "cell_type": "markdown",
   "metadata": {},
   "source": [
    "The first file contains images of digits and the second the corresponding labels. The format of both files is described on the [MNIST database website](http://yann.lecun.com/exdb/mnist/). "
   ]
  },
  {
   "cell_type": "markdown",
   "metadata": {},
   "source": [
    "Investigate how useful the k-Nearest Neighbors algorithm is for classification of images in the MNIST database, and describe your results. \n",
    "\n",
    "Here are some questions which you may consider:\n",
    "\n",
    "- How does the classification accuracy depend on the size of the training set and on the number of neighbors? \n",
    "- Various ways of measuring distances between images, and their impact on classification. \n",
    "- What to do if an image we want to classify has equal number of neighbors with two different labels? How does this affect accuracy of classification? \n",
    "- Analyze examples of images that have not been classified correctly. What went wrong with them? \n",
    "- Anything else you find interesting."
   ]
  }
 ],
 "metadata": {
  "celltoolbar": "Raw Cell Format",
  "kernelspec": {
   "display_name": "Python 3",
   "language": "python",
   "name": "python3"
  },
  "language_info": {
   "codemirror_mode": {
    "name": "ipython",
    "version": 3
   },
   "file_extension": ".py",
   "mimetype": "text/x-python",
   "name": "python",
   "nbconvert_exporter": "python",
   "pygments_lexer": "ipython3",
   "version": "3.7.6"
  }
 },
 "nbformat": 4,
 "nbformat_minor": 4
}
