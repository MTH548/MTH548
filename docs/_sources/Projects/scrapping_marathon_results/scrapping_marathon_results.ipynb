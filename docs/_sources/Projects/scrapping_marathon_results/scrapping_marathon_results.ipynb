{
 "cells": [
  {
   "cell_type": "code",
   "execution_count": 4,
   "metadata": {
    "nbsphinx": "hidden"
   },
   "outputs": [],
   "source": [
    "# HIDDEN\n",
    "#  \"nbsphinx\": \"hidden\"\n",
    "\n",
    "import pandas as pd\n",
    "\n",
    "marathon_df = pd.read_csv(\"chicago_results_m4.csv\")"
   ]
  },
  {
   "cell_type": "markdown",
   "metadata": {},
   "source": [
    "# Project: Scrapping marathon results"
   ]
  },
  {
   "cell_type": "markdown",
   "metadata": {},
   "source": [
    "<html>\n",
    "<h1 style=\"color:teal;\">Project weight: 6 points</h1>\n",
    "</html>"
   ]
  },
  {
   "cell_type": "markdown",
   "metadata": {},
   "source": [
    "The website [results.chicagomarathon.com/well-known/2019/](https://results.chicagomarathon.com/well-known/2019/) contains results of the 2019 Chicago Marathon. Using this website we can get a list of runners, The name of each runner is linked to a webpage with more detailed information about the runner. "
   ]
  },
  {
   "cell_type": "markdown",
   "metadata": {},
   "source": [
    "## Objectives\n",
    "\n",
    "Use requests and BeautifulSoup to scrap information about the top 50 male runners. The information you retrieve should include the following data:\n",
    "\n",
    "* name\n",
    "* age group\n",
    "* bib number\n",
    "* age\n",
    "* city/state\n",
    "* split times \n",
    "\n",
    "Record this data in a pandas DataFrame and show the DataFrame in the notebook. The format of the resulting DataFrame should be as follows:"
   ]
  },
  {
   "cell_type": "code",
   "execution_count": 5,
   "metadata": {},
   "outputs": [
    {
     "data": {
      "text/html": [
       "<div>\n",
       "<style scoped>\n",
       "    .dataframe tbody tr th:only-of-type {\n",
       "        vertical-align: middle;\n",
       "    }\n",
       "\n",
       "    .dataframe tbody tr th {\n",
       "        vertical-align: top;\n",
       "    }\n",
       "\n",
       "    .dataframe thead th {\n",
       "        text-align: right;\n",
       "    }\n",
       "</style>\n",
       "<table border=\"1\" class=\"dataframe\">\n",
       "  <thead>\n",
       "    <tr style=\"text-align: right;\">\n",
       "      <th></th>\n",
       "      <th>Name (CTZ)</th>\n",
       "      <th>Age Group</th>\n",
       "      <th>Bib Number</th>\n",
       "      <th>Age</th>\n",
       "      <th>City, State</th>\n",
       "      <th>05K</th>\n",
       "      <th>10K</th>\n",
       "      <th>15K</th>\n",
       "      <th>20K</th>\n",
       "      <th>HALF</th>\n",
       "      <th>25K</th>\n",
       "      <th>30K</th>\n",
       "      <th>35K</th>\n",
       "      <th>40K</th>\n",
       "      <th>Finish</th>\n",
       "    </tr>\n",
       "  </thead>\n",
       "  <tbody>\n",
       "    <tr>\n",
       "      <th>0</th>\n",
       "      <td>Cherono, Lawrence (KEN)</td>\n",
       "      <td>30-34</td>\n",
       "      <td>4</td>\n",
       "      <td>31</td>\n",
       "      <td>Chepkoilel</td>\n",
       "      <td>00:14:45</td>\n",
       "      <td>00:29:28</td>\n",
       "      <td>00:44:11</td>\n",
       "      <td>00:59:01</td>\n",
       "      <td>01:02:15</td>\n",
       "      <td>01:13:57</td>\n",
       "      <td>01:28:59</td>\n",
       "      <td>01:43:54</td>\n",
       "      <td>01:59:10</td>\n",
       "      <td>02:05:45</td>\n",
       "    </tr>\n",
       "    <tr>\n",
       "      <th>1</th>\n",
       "      <td>Debela, Dejene (ETH)</td>\n",
       "      <td>20-24</td>\n",
       "      <td>38</td>\n",
       "      <td>24</td>\n",
       "      <td>West Chester</td>\n",
       "      <td>00:14:45</td>\n",
       "      <td>00:29:29</td>\n",
       "      <td>00:44:12</td>\n",
       "      <td>00:59:02</td>\n",
       "      <td>01:02:16</td>\n",
       "      <td>01:13:56</td>\n",
       "      <td>01:28:59</td>\n",
       "      <td>01:43:53</td>\n",
       "      <td>01:59:08</td>\n",
       "      <td>02:05:46</td>\n",
       "    </tr>\n",
       "    <tr>\n",
       "      <th>2</th>\n",
       "      <td>Mengstu, Asefa (ETH)</td>\n",
       "      <td>30-34</td>\n",
       "      <td>5</td>\n",
       "      <td>31</td>\n",
       "      <td>Addis Ababa</td>\n",
       "      <td>00:14:46</td>\n",
       "      <td>00:29:29</td>\n",
       "      <td>00:44:12</td>\n",
       "      <td>00:59:02</td>\n",
       "      <td>01:02:15</td>\n",
       "      <td>01:13:55</td>\n",
       "      <td>01:28:59</td>\n",
       "      <td>01:43:53</td>\n",
       "      <td>01:59:08</td>\n",
       "      <td>02:05:48</td>\n",
       "    </tr>\n",
       "    <tr>\n",
       "      <th>3</th>\n",
       "      <td>Karoki, Bedan (KEN)</td>\n",
       "      <td>25-29</td>\n",
       "      <td>9</td>\n",
       "      <td>29</td>\n",
       "      <td>Mbuyu</td>\n",
       "      <td>00:14:45</td>\n",
       "      <td>00:29:27</td>\n",
       "      <td>00:44:10</td>\n",
       "      <td>00:59:02</td>\n",
       "      <td>01:02:15</td>\n",
       "      <td>01:13:54</td>\n",
       "      <td>01:28:59</td>\n",
       "      <td>01:43:53</td>\n",
       "      <td>01:59:09</td>\n",
       "      <td>02:05:53</td>\n",
       "    </tr>\n",
       "  </tbody>\n",
       "</table>\n",
       "</div>"
      ],
      "text/plain": [
       "                Name (CTZ) Age Group  Bib Number  Age   City, State       05K  \\\n",
       "0  Cherono, Lawrence (KEN)     30-34           4   31    Chepkoilel  00:14:45   \n",
       "1     Debela, Dejene (ETH)     20-24          38   24  West Chester  00:14:45   \n",
       "2     Mengstu, Asefa (ETH)     30-34           5   31   Addis Ababa  00:14:46   \n",
       "3      Karoki, Bedan (KEN)     25-29           9   29         Mbuyu  00:14:45   \n",
       "\n",
       "        10K       15K       20K      HALF       25K       30K       35K  \\\n",
       "0  00:29:28  00:44:11  00:59:01  01:02:15  01:13:57  01:28:59  01:43:54   \n",
       "1  00:29:29  00:44:12  00:59:02  01:02:16  01:13:56  01:28:59  01:43:53   \n",
       "2  00:29:29  00:44:12  00:59:02  01:02:15  01:13:55  01:28:59  01:43:53   \n",
       "3  00:29:27  00:44:10  00:59:02  01:02:15  01:13:54  01:28:59  01:43:53   \n",
       "\n",
       "        40K    Finish  \n",
       "0  01:59:10  02:05:45  \n",
       "1  01:59:08  02:05:46  \n",
       "2  01:59:08  02:05:48  \n",
       "3  01:59:09  02:05:53  "
      ]
     },
     "execution_count": 5,
     "metadata": {},
     "output_type": "execute_result"
    }
   ],
   "source": [
    "marathon_df"
   ]
  },
  {
   "cell_type": "markdown",
   "metadata": {},
   "source": [
    "## Notes\n",
    "\n",
    "* Do not scrap more than 50 runners to limit the usage of the web server hosting the marathon website. \n",
    "* Add a delay of 2 seconds between each request sent to the server. \n",
    "* This is a programming assignment. There is no required narrative, aside from code documentation and possible notes explaining how your code works. Reports will be graded based on \n",
    "\n",
    "    - code correctness and completeness (80%)\n",
    "    - report organization and code documentation (20%)"
   ]
  }
 ],
 "metadata": {
  "kernelspec": {
   "display_name": "Python 3",
   "language": "python",
   "name": "python3"
  },
  "language_info": {
   "codemirror_mode": {
    "name": "ipython",
    "version": 3
   },
   "file_extension": ".py",
   "mimetype": "text/x-python",
   "name": "python",
   "nbconvert_exporter": "python",
   "pygments_lexer": "ipython3",
   "version": "3.8.5"
  }
 },
 "nbformat": 4,
 "nbformat_minor": 4
}
