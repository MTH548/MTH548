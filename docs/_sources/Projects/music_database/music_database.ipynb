{
 "cells": [
  {
   "cell_type": "markdown",
   "id": "comic-mongolia",
   "metadata": {},
   "source": [
    "# Project: Music database"
   ]
  },
  {
   "cell_type": "markdown",
   "id": "dominant-plastic",
   "metadata": {},
   "source": [
    "<div class=\"alert alert-info\">\n",
    "<b>Extra credit</b>\n",
    "<p>You are not required to complete this project. If you do, the grade from this project will replace the lowest project grade you received. If your grade for this project will be lower that all other your project grades, it will not be used. Thus, your grade will not go down whether you complete this project or not.</p>  \n",
    "\n",
    "<p>**Note.** If your grade for some project has been lowered due disciplinary issues (plagiarism etc.) this grade will not be changed. However, the next lowest grade can be replaced.</p>  \n",
    "</div>"
   ]
  },
  {
   "cell_type": "code",
   "execution_count": 7,
   "id": "sticky-bangladesh",
   "metadata": {
    "nbsphinx": "hidden"
   },
   "outputs": [],
   "source": [
    "import pandas as pd \n",
    "pd.set_option('precision', 2)\n",
    "\n",
    "def show_results(ex):\n",
    "    df = pd.read_csv(f\"{ex}.csv\")\n",
    "    display(df.style.hide_index())"
   ]
  },
  {
   "cell_type": "markdown",
   "id": "intellectual-julian",
   "metadata": {},
   "source": [
    "## Objectives\n",
    "\n",
    "Download the following SQLite file, which contains a database of music recordings:"
   ]
  },
  {
   "cell_type": "raw",
   "id": "dramatic-israel",
   "metadata": {
    "raw_mimetype": "text/restructuredtext"
   },
   "source": [
    "| :download:`music_data.sqlite <./music_data.sqlite>`"
   ]
  },
  {
   "cell_type": "markdown",
   "id": "daily-while",
   "metadata": {},
   "source": [
    "[Here](music_data_diagram.pdf) is a pdf file showing the structure of this database: tables it consists of and names of columns in each table. "
   ]
  },
  {
   "cell_type": "markdown",
   "id": "attached-packaging",
   "metadata": {},
   "source": [
    "Use SQL queries to solve exercises given below. "
   ]
  },
  {
   "cell_type": "markdown",
   "id": "dirty-programming",
   "metadata": {},
   "source": [
    "### Notes. \n",
    "\n",
    "1. For illustration, each exercise shows the first five rows of the results you should obtain. Your answers should not be limited to just 5 results - show either all results or the number specified in the statement of an exercise.  \n",
    "\n",
    "2. Your solutions must be obtained with SQL only, using the `%%sql` magic. You must not use pandas etc. \n",
    "\n",
    "3. This is a programming assignment. Your work will be graded primarily based on the results of the code, and also on the code documentation and report organization. You don't need to include a narrative.  "
   ]
  },
  {
   "cell_type": "markdown",
   "id": "educated-nebraska",
   "metadata": {},
   "source": [
    "### Exercise 1\n",
    "\n",
    "Create a table with names of all tracks where the composer is Miles Davis. Track names should be listed in the alphabetical order."
   ]
  },
  {
   "cell_type": "code",
   "execution_count": 7,
   "id": "united-check",
   "metadata": {},
   "outputs": [
    {
     "data": {
      "text/html": [
       "<style  type=\"text/css\" >\n",
       "</style><table id=\"T_941874b0_a096_11eb_9a66_acde48001122\" ><thead>    <tr>        <th class=\"col_heading level0 col0\" >Name</th>        <th class=\"col_heading level0 col1\" >Composer</th>    </tr></thead><tbody>\n",
       "                <tr>\n",
       "                                <td id=\"T_941874b0_a096_11eb_9a66_acde48001122row0_col0\" class=\"data row0 col0\" >'Round Midnight</td>\n",
       "                        <td id=\"T_941874b0_a096_11eb_9a66_acde48001122row0_col1\" class=\"data row0 col1\" >Miles Davis</td>\n",
       "            </tr>\n",
       "            <tr>\n",
       "                                <td id=\"T_941874b0_a096_11eb_9a66_acde48001122row1_col0\" class=\"data row1 col0\" >Black Satin</td>\n",
       "                        <td id=\"T_941874b0_a096_11eb_9a66_acde48001122row1_col1\" class=\"data row1 col1\" >Miles Davis</td>\n",
       "            </tr>\n",
       "            <tr>\n",
       "                                <td id=\"T_941874b0_a096_11eb_9a66_acde48001122row2_col0\" class=\"data row2 col0\" >Bye Bye Blackbird</td>\n",
       "                        <td id=\"T_941874b0_a096_11eb_9a66_acde48001122row2_col1\" class=\"data row2 col1\" >Miles Davis</td>\n",
       "            </tr>\n",
       "            <tr>\n",
       "                                <td id=\"T_941874b0_a096_11eb_9a66_acde48001122row3_col0\" class=\"data row3 col0\" >Compulsion</td>\n",
       "                        <td id=\"T_941874b0_a096_11eb_9a66_acde48001122row3_col1\" class=\"data row3 col1\" >Miles Davis</td>\n",
       "            </tr>\n",
       "            <tr>\n",
       "                                <td id=\"T_941874b0_a096_11eb_9a66_acde48001122row4_col0\" class=\"data row4 col0\" >E.S.P.</td>\n",
       "                        <td id=\"T_941874b0_a096_11eb_9a66_acde48001122row4_col1\" class=\"data row4 col1\" >Miles Davis</td>\n",
       "            </tr>\n",
       "    </tbody></table>"
      ],
      "text/plain": [
       "<pandas.io.formats.style.Styler at 0x7fde7c2a8340>"
      ]
     },
     "metadata": {},
     "output_type": "display_data"
    }
   ],
   "source": [
    "show_results(\"ex1\")"
   ]
  },
  {
   "cell_type": "markdown",
   "id": "retained-heater",
   "metadata": {},
   "source": [
    "### Exercise 2\n",
    "\n",
    "Create a table that lists titles and composers for all tracks where the name of the composer includes  \"Clapton\". Order the table in the alphabetical order of track titles."
   ]
  },
  {
   "cell_type": "code",
   "execution_count": 8,
   "id": "directed-influence",
   "metadata": {},
   "outputs": [
    {
     "data": {
      "text/html": [
       "<style  type=\"text/css\" >\n",
       "</style><table id=\"T_c5e27e50_a096_11eb_9a66_acde48001122\" ><thead>    <tr>        <th class=\"col_heading level0 col0\" >Name</th>        <th class=\"col_heading level0 col1\" >Composer</th>    </tr></thead><tbody>\n",
       "                <tr>\n",
       "                                <td id=\"T_c5e27e50_a096_11eb_9a66_acde48001122row0_col0\" class=\"data row0 col0\" >After Midnight</td>\n",
       "                        <td id=\"T_c5e27e50_a096_11eb_9a66_acde48001122row0_col1\" class=\"data row0 col1\" >Clapton/J. J. Cale</td>\n",
       "            </tr>\n",
       "            <tr>\n",
       "                                <td id=\"T_c5e27e50_a096_11eb_9a66_acde48001122row1_col0\" class=\"data row1 col0\" >Badge</td>\n",
       "                        <td id=\"T_c5e27e50_a096_11eb_9a66_acde48001122row1_col1\" class=\"data row1 col1\" >Clapton/Harrison</td>\n",
       "            </tr>\n",
       "            <tr>\n",
       "                                <td id=\"T_c5e27e50_a096_11eb_9a66_acde48001122row2_col0\" class=\"data row2 col0\" >Bell Bottom Blues</td>\n",
       "                        <td id=\"T_c5e27e50_a096_11eb_9a66_acde48001122row2_col1\" class=\"data row2 col1\" >Clapton</td>\n",
       "            </tr>\n",
       "            <tr>\n",
       "                                <td id=\"T_c5e27e50_a096_11eb_9a66_acde48001122row3_col0\" class=\"data row3 col0\" >Cocaine</td>\n",
       "                        <td id=\"T_c5e27e50_a096_11eb_9a66_acde48001122row3_col1\" class=\"data row3 col1\" >Cale/Clapton</td>\n",
       "            </tr>\n",
       "            <tr>\n",
       "                                <td id=\"T_c5e27e50_a096_11eb_9a66_acde48001122row4_col0\" class=\"data row4 col0\" >Crossroads</td>\n",
       "                        <td id=\"T_c5e27e50_a096_11eb_9a66_acde48001122row4_col1\" class=\"data row4 col1\" >Clapton/Robert Johnson Arr: Eric Clapton</td>\n",
       "            </tr>\n",
       "    </tbody></table>"
      ],
      "text/plain": [
       "<pandas.io.formats.style.Styler at 0x7fde7c2a84c0>"
      ]
     },
     "metadata": {},
     "output_type": "display_data"
    }
   ],
   "source": [
    "show_results(\"ex2\")"
   ]
  },
  {
   "cell_type": "markdown",
   "id": "applicable-albert",
   "metadata": {},
   "source": [
    "### Exercise 3\n",
    "\n",
    "Create a table with the album title, the album artist, and the number of tracks in the album. \n",
    "Display 10 rows of this table with most tracks, ordered in the descending order of the number of tracks. "
   ]
  },
  {
   "cell_type": "code",
   "execution_count": 9,
   "id": "associate-wilderness",
   "metadata": {},
   "outputs": [
    {
     "data": {
      "text/html": [
       "<style  type=\"text/css\" >\n",
       "</style><table id=\"T_09f42274_a097_11eb_9a66_acde48001122\" ><thead>    <tr>        <th class=\"col_heading level0 col0\" >Title</th>        <th class=\"col_heading level0 col1\" >Artist</th>        <th class=\"col_heading level0 col2\" >NumTracks</th>    </tr></thead><tbody>\n",
       "                <tr>\n",
       "                                <td id=\"T_09f42274_a097_11eb_9a66_acde48001122row0_col0\" class=\"data row0 col0\" >Greatest Hits</td>\n",
       "                        <td id=\"T_09f42274_a097_11eb_9a66_acde48001122row0_col1\" class=\"data row0 col1\" >Lenny Kravitz</td>\n",
       "                        <td id=\"T_09f42274_a097_11eb_9a66_acde48001122row0_col2\" class=\"data row0 col2\" >57</td>\n",
       "            </tr>\n",
       "            <tr>\n",
       "                                <td id=\"T_09f42274_a097_11eb_9a66_acde48001122row1_col0\" class=\"data row1 col0\" >Minha Historia</td>\n",
       "                        <td id=\"T_09f42274_a097_11eb_9a66_acde48001122row1_col1\" class=\"data row1 col1\" >Chico Buarque</td>\n",
       "                        <td id=\"T_09f42274_a097_11eb_9a66_acde48001122row1_col2\" class=\"data row1 col2\" >34</td>\n",
       "            </tr>\n",
       "            <tr>\n",
       "                                <td id=\"T_09f42274_a097_11eb_9a66_acde48001122row2_col0\" class=\"data row2 col0\" >Unplugged</td>\n",
       "                        <td id=\"T_09f42274_a097_11eb_9a66_acde48001122row2_col1\" class=\"data row2 col1\" >Eric Clapton</td>\n",
       "                        <td id=\"T_09f42274_a097_11eb_9a66_acde48001122row2_col2\" class=\"data row2 col2\" >30</td>\n",
       "            </tr>\n",
       "            <tr>\n",
       "                                <td id=\"T_09f42274_a097_11eb_9a66_acde48001122row3_col0\" class=\"data row3 col0\" >Lost, Season 3</td>\n",
       "                        <td id=\"T_09f42274_a097_11eb_9a66_acde48001122row3_col1\" class=\"data row3 col1\" >Lost</td>\n",
       "                        <td id=\"T_09f42274_a097_11eb_9a66_acde48001122row3_col2\" class=\"data row3 col2\" >26</td>\n",
       "            </tr>\n",
       "            <tr>\n",
       "                                <td id=\"T_09f42274_a097_11eb_9a66_acde48001122row4_col0\" class=\"data row4 col0\" >Lost, Season 1</td>\n",
       "                        <td id=\"T_09f42274_a097_11eb_9a66_acde48001122row4_col1\" class=\"data row4 col1\" >Lost</td>\n",
       "                        <td id=\"T_09f42274_a097_11eb_9a66_acde48001122row4_col2\" class=\"data row4 col2\" >25</td>\n",
       "            </tr>\n",
       "    </tbody></table>"
      ],
      "text/plain": [
       "<pandas.io.formats.style.Styler at 0x7fde7c2a8c10>"
      ]
     },
     "metadata": {},
     "output_type": "display_data"
    }
   ],
   "source": [
    "show_results(\"ex3\")"
   ]
  },
  {
   "cell_type": "markdown",
   "id": "quantitative-cover",
   "metadata": {},
   "source": [
    "### Exercise 4\n",
    "Create a table listing the album title, the name of the artist and the total length of the album in minutes for each album whose total length is more than 90 minutes. Order the table according to album lengths in the descending order. \n",
    "\n",
    "**Note.** The `tracks` table lists lengths of tracks in milliseconds. One second is equal to 1000 milliseconds. "
   ]
  },
  {
   "cell_type": "code",
   "execution_count": 10,
   "id": "measured-shepherd",
   "metadata": {},
   "outputs": [
    {
     "data": {
      "text/html": [
       "<style  type=\"text/css\" >\n",
       "</style><table id=\"T_46cc7624_a097_11eb_9a66_acde48001122\" ><thead>    <tr>        <th class=\"col_heading level0 col0\" >Title</th>        <th class=\"col_heading level0 col1\" >Artist</th>        <th class=\"col_heading level0 col2\" >Minutes</th>    </tr></thead><tbody>\n",
       "                <tr>\n",
       "                                <td id=\"T_46cc7624_a097_11eb_9a66_acde48001122row0_col0\" class=\"data row0 col0\" >Lost, Season 3</td>\n",
       "                        <td id=\"T_46cc7624_a097_11eb_9a66_acde48001122row0_col1\" class=\"data row0 col1\" >Lost</td>\n",
       "                        <td id=\"T_46cc7624_a097_11eb_9a66_acde48001122row0_col2\" class=\"data row0 col2\" >1177</td>\n",
       "            </tr>\n",
       "            <tr>\n",
       "                                <td id=\"T_46cc7624_a097_11eb_9a66_acde48001122row1_col0\" class=\"data row1 col0\" >Battlestar Galactica (Classic), Season 1</td>\n",
       "                        <td id=\"T_46cc7624_a097_11eb_9a66_acde48001122row1_col1\" class=\"data row1 col1\" >Battlestar Galactica (Classic)</td>\n",
       "                        <td id=\"T_46cc7624_a097_11eb_9a66_acde48001122row1_col2\" class=\"data row1 col2\" >1170</td>\n",
       "            </tr>\n",
       "            <tr>\n",
       "                                <td id=\"T_46cc7624_a097_11eb_9a66_acde48001122row2_col0\" class=\"data row2 col0\" >Lost, Season 1</td>\n",
       "                        <td id=\"T_46cc7624_a097_11eb_9a66_acde48001122row2_col1\" class=\"data row2 col1\" >Lost</td>\n",
       "                        <td id=\"T_46cc7624_a097_11eb_9a66_acde48001122row2_col2\" class=\"data row2 col2\" >1080</td>\n",
       "            </tr>\n",
       "            <tr>\n",
       "                                <td id=\"T_46cc7624_a097_11eb_9a66_acde48001122row3_col0\" class=\"data row3 col0\" >Lost, Season 2</td>\n",
       "                        <td id=\"T_46cc7624_a097_11eb_9a66_acde48001122row3_col1\" class=\"data row3 col1\" >Lost</td>\n",
       "                        <td id=\"T_46cc7624_a097_11eb_9a66_acde48001122row3_col2\" class=\"data row3 col2\" >1054</td>\n",
       "            </tr>\n",
       "            <tr>\n",
       "                                <td id=\"T_46cc7624_a097_11eb_9a66_acde48001122row4_col0\" class=\"data row4 col0\" >Heroes, Season 1</td>\n",
       "                        <td id=\"T_46cc7624_a097_11eb_9a66_acde48001122row4_col1\" class=\"data row4 col1\" >Heroes</td>\n",
       "                        <td id=\"T_46cc7624_a097_11eb_9a66_acde48001122row4_col2\" class=\"data row4 col2\" >996</td>\n",
       "            </tr>\n",
       "    </tbody></table>"
      ],
      "text/plain": [
       "<pandas.io.formats.style.Styler at 0x7fde7c2a8c40>"
      ]
     },
     "metadata": {},
     "output_type": "display_data"
    }
   ],
   "source": [
    "show_results(\"ex4\")"
   ]
  },
  {
   "cell_type": "markdown",
   "id": "killing-nashville",
   "metadata": {},
   "source": [
    "### Exercise  5\n",
    "\n",
    "Create a table listing AlbumId and the title of each album that has at least one track in the \"Jazz\" genre. Order album titles alphabetically. "
   ]
  },
  {
   "cell_type": "code",
   "execution_count": 11,
   "id": "norman-filter",
   "metadata": {},
   "outputs": [
    {
     "data": {
      "text/html": [
       "<style  type=\"text/css\" >\n",
       "</style><table id=\"T_d5b07048_a097_11eb_9a66_acde48001122\" ><thead>    <tr>        <th class=\"col_heading level0 col0\" >AlbumId</th>        <th class=\"col_heading level0 col1\" >AlbumTitle</th>    </tr></thead><tbody>\n",
       "                <tr>\n",
       "                                <td id=\"T_d5b07048_a097_11eb_9a66_acde48001122row0_col0\" class=\"data row0 col0\" >93</td>\n",
       "                        <td id=\"T_d5b07048_a097_11eb_9a66_acde48001122row0_col1\" class=\"data row0 col1\" >Blue Moods</td>\n",
       "            </tr>\n",
       "            <tr>\n",
       "                                <td id=\"T_d5b07048_a097_11eb_9a66_acde48001122row1_col0\" class=\"data row1 col0\" >38</td>\n",
       "                        <td id=\"T_d5b07048_a097_11eb_9a66_acde48001122row1_col1\" class=\"data row1 col1\" >Heart of the Night</td>\n",
       "            </tr>\n",
       "            <tr>\n",
       "                                <td id=\"T_d5b07048_a097_11eb_9a66_acde48001122row2_col0\" class=\"data row2 col0\" >157</td>\n",
       "                        <td id=\"T_d5b07048_a097_11eb_9a66_acde48001122row2_col1\" class=\"data row2 col1\" >Miles Ahead</td>\n",
       "            </tr>\n",
       "            <tr>\n",
       "                                <td id=\"T_d5b07048_a097_11eb_9a66_acde48001122row3_col0\" class=\"data row3 col0\" >204</td>\n",
       "                        <td id=\"T_d5b07048_a097_11eb_9a66_acde48001122row3_col1\" class=\"data row3 col1\" >Morning Dance</td>\n",
       "            </tr>\n",
       "            <tr>\n",
       "                                <td id=\"T_d5b07048_a097_11eb_9a66_acde48001122row4_col0\" class=\"data row4 col0\" >68</td>\n",
       "                        <td id=\"T_d5b07048_a097_11eb_9a66_acde48001122row4_col1\" class=\"data row4 col1\" >Outbreak</td>\n",
       "            </tr>\n",
       "    </tbody></table>"
      ],
      "text/plain": [
       "<pandas.io.formats.style.Styler at 0x7fde79296220>"
      ]
     },
     "metadata": {},
     "output_type": "display_data"
    }
   ],
   "source": [
    "show_results(\"ex5\")"
   ]
  },
  {
   "cell_type": "markdown",
   "id": "junior-timing",
   "metadata": {},
   "source": [
    "### Exercise 6\n",
    "\n",
    "Create a table which lists AlbumId, the album title and the price of 10 most expensive albums. The price of an album is the sum of prices of all its tracks. Order the list from the highest album price to the lowest."
   ]
  },
  {
   "cell_type": "code",
   "execution_count": 8,
   "id": "color-refrigerator",
   "metadata": {},
   "outputs": [
    {
     "data": {
      "text/html": [
       "<style  type=\"text/css\" >\n",
       "</style><table id=\"T_d331f750_a098_11eb_8e01_acde48001122\" ><thead>    <tr>        <th class=\"col_heading level0 col0\" >AlbumId</th>        <th class=\"col_heading level0 col1\" >AlbumTitle</th>        <th class=\"col_heading level0 col2\" >Price</th>    </tr></thead><tbody>\n",
       "                <tr>\n",
       "                                <td id=\"T_d331f750_a098_11eb_8e01_acde48001122row0_col0\" class=\"data row0 col0\" >141</td>\n",
       "                        <td id=\"T_d331f750_a098_11eb_8e01_acde48001122row0_col1\" class=\"data row0 col1\" >Greatest Hits</td>\n",
       "                        <td id=\"T_d331f750_a098_11eb_8e01_acde48001122row0_col2\" class=\"data row0 col2\" >56.43</td>\n",
       "            </tr>\n",
       "            <tr>\n",
       "                                <td id=\"T_d331f750_a098_11eb_8e01_acde48001122row1_col0\" class=\"data row1 col0\" >229</td>\n",
       "                        <td id=\"T_d331f750_a098_11eb_8e01_acde48001122row1_col1\" class=\"data row1 col1\" >Lost, Season 3</td>\n",
       "                        <td id=\"T_d331f750_a098_11eb_8e01_acde48001122row1_col2\" class=\"data row1 col2\" >51.74</td>\n",
       "            </tr>\n",
       "            <tr>\n",
       "                                <td id=\"T_d331f750_a098_11eb_8e01_acde48001122row2_col0\" class=\"data row2 col0\" >251</td>\n",
       "                        <td id=\"T_d331f750_a098_11eb_8e01_acde48001122row2_col1\" class=\"data row2 col1\" >The Office, Season 3</td>\n",
       "                        <td id=\"T_d331f750_a098_11eb_8e01_acde48001122row2_col2\" class=\"data row2 col2\" >49.75</td>\n",
       "            </tr>\n",
       "            <tr>\n",
       "                                <td id=\"T_d331f750_a098_11eb_8e01_acde48001122row3_col0\" class=\"data row3 col0\" >230</td>\n",
       "                        <td id=\"T_d331f750_a098_11eb_8e01_acde48001122row3_col1\" class=\"data row3 col1\" >Lost, Season 1</td>\n",
       "                        <td id=\"T_d331f750_a098_11eb_8e01_acde48001122row3_col2\" class=\"data row3 col2\" >49.75</td>\n",
       "            </tr>\n",
       "            <tr>\n",
       "                                <td id=\"T_d331f750_a098_11eb_8e01_acde48001122row4_col0\" class=\"data row4 col0\" >253</td>\n",
       "                        <td id=\"T_d331f750_a098_11eb_8e01_acde48001122row4_col1\" class=\"data row4 col1\" >Battlestar Galactica (Classic), Season 1</td>\n",
       "                        <td id=\"T_d331f750_a098_11eb_8e01_acde48001122row4_col2\" class=\"data row4 col2\" >47.76</td>\n",
       "            </tr>\n",
       "    </tbody></table>"
      ],
      "text/plain": [
       "<pandas.io.formats.style.Styler at 0x7ff9c5987c40>"
      ]
     },
     "metadata": {},
     "output_type": "display_data"
    }
   ],
   "source": [
    "show_results(\"ex6\")"
   ]
  },
  {
   "cell_type": "markdown",
   "id": "prepared-peninsula",
   "metadata": {},
   "source": [
    "### Exercise 7\n",
    "\n",
    "Create a table that lists AlbumId and the title of each album which consist of exactly 10 tracks. Order the table in the alphabetical order of album titles."
   ]
  },
  {
   "cell_type": "code",
   "execution_count": 9,
   "id": "duplicate-computer",
   "metadata": {},
   "outputs": [
    {
     "data": {
      "text/html": [
       "<style  type=\"text/css\" >\n",
       "</style><table id=\"T_627c2b42_a099_11eb_8e01_acde48001122\" ><thead>    <tr>        <th class=\"col_heading level0 col0\" >AlbumId</th>        <th class=\"col_heading level0 col1\" >AlbumTitle</th>    </tr></thead><tbody>\n",
       "                <tr>\n",
       "                                <td id=\"T_627c2b42_a099_11eb_8e01_acde48001122row0_col0\" class=\"data row0 col0\" >127</td>\n",
       "                        <td id=\"T_627c2b42_a099_11eb_8e01_acde48001122row0_col1\" class=\"data row0 col1\" >BBC Sessions [Disc 2] [Live]</td>\n",
       "            </tr>\n",
       "            <tr>\n",
       "                                <td id=\"T_627c2b42_a099_11eb_8e01_acde48001122row1_col0\" class=\"data row1 col0\" >17</td>\n",
       "                        <td id=\"T_627c2b42_a099_11eb_8e01_acde48001122row1_col1\" class=\"data row1 col1\" >Black Sabbath Vol. 4 (Remaster)</td>\n",
       "            </tr>\n",
       "            <tr>\n",
       "                                <td id=\"T_627c2b42_a099_11eb_8e01_acde48001122row2_col0\" class=\"data row2 col0\" >97</td>\n",
       "                        <td id=\"T_627c2b42_a099_11eb_8e01_acde48001122row2_col1\" class=\"data row2 col1\" >Brave New World</td>\n",
       "            </tr>\n",
       "            <tr>\n",
       "                                <td id=\"T_627c2b42_a099_11eb_8e01_acde48001122row3_col0\" class=\"data row3 col0\" >191</td>\n",
       "                        <td id=\"T_627c2b42_a099_11eb_8e01_acde48001122row3_col1\" class=\"data row3 col1\" >Cesta Básica</td>\n",
       "            </tr>\n",
       "            <tr>\n",
       "                                <td id=\"T_627c2b42_a099_11eb_8e01_acde48001122row4_col0\" class=\"data row4 col0\" >116</td>\n",
       "                        <td id=\"T_627c2b42_a099_11eb_8e01_acde48001122row4_col1\" class=\"data row4 col1\" >Emergency On Planet Earth</td>\n",
       "            </tr>\n",
       "    </tbody></table>"
      ],
      "text/plain": [
       "<pandas.io.formats.style.Styler at 0x7ff9c59871f0>"
      ]
     },
     "metadata": {},
     "output_type": "display_data"
    }
   ],
   "source": [
    "show_results(\"ex7\")"
   ]
  },
  {
   "cell_type": "markdown",
   "id": "handy-draft",
   "metadata": {},
   "source": [
    "### Exercise 8\n",
    "\n",
    "Create a table with two columns: one, called NumTracks listing the number of tracks in an album, and the second called NumAlbums which shows how many albums have such number of tracks. Order the table in the ascending order of NumTracks. "
   ]
  },
  {
   "cell_type": "code",
   "execution_count": 12,
   "id": "certified-alcohol",
   "metadata": {},
   "outputs": [
    {
     "data": {
      "text/html": [
       "<style  type=\"text/css\" >\n",
       "</style><table id=\"T_ba971e34_a104_11eb_8e01_acde48001122\" ><thead>    <tr>        <th class=\"col_heading level0 col0\" >NumTracks</th>        <th class=\"col_heading level0 col1\" >NumAlbums</th>    </tr></thead><tbody>\n",
       "                <tr>\n",
       "                                <td id=\"T_ba971e34_a104_11eb_8e01_acde48001122row0_col0\" class=\"data row0 col0\" >1</td>\n",
       "                        <td id=\"T_ba971e34_a104_11eb_8e01_acde48001122row0_col1\" class=\"data row0 col1\" >82</td>\n",
       "            </tr>\n",
       "            <tr>\n",
       "                                <td id=\"T_ba971e34_a104_11eb_8e01_acde48001122row1_col0\" class=\"data row1 col0\" >2</td>\n",
       "                        <td id=\"T_ba971e34_a104_11eb_8e01_acde48001122row1_col1\" class=\"data row1 col1\" >8</td>\n",
       "            </tr>\n",
       "            <tr>\n",
       "                                <td id=\"T_ba971e34_a104_11eb_8e01_acde48001122row2_col0\" class=\"data row2 col0\" >3</td>\n",
       "                        <td id=\"T_ba971e34_a104_11eb_8e01_acde48001122row2_col1\" class=\"data row2 col1\" >3</td>\n",
       "            </tr>\n",
       "            <tr>\n",
       "                                <td id=\"T_ba971e34_a104_11eb_8e01_acde48001122row3_col0\" class=\"data row3 col0\" >4</td>\n",
       "                        <td id=\"T_ba971e34_a104_11eb_8e01_acde48001122row3_col1\" class=\"data row3 col1\" >2</td>\n",
       "            </tr>\n",
       "            <tr>\n",
       "                                <td id=\"T_ba971e34_a104_11eb_8e01_acde48001122row4_col0\" class=\"data row4 col0\" >5</td>\n",
       "                        <td id=\"T_ba971e34_a104_11eb_8e01_acde48001122row4_col1\" class=\"data row4 col1\" >2</td>\n",
       "            </tr>\n",
       "    </tbody></table>"
      ],
      "text/plain": [
       "<pandas.io.formats.style.Styler at 0x7ff9c892b370>"
      ]
     },
     "metadata": {},
     "output_type": "display_data"
    }
   ],
   "source": [
    "show_results(\"ex8\")"
   ]
  },
  {
   "cell_type": "markdown",
   "id": "duplicate-finland",
   "metadata": {},
   "source": [
    "### Exercise 9\n",
    "\n",
    "Create a table which has one row for each album, listing the longest track of the album. The columns should be \n",
    "AlbumId, album title, TrackId, track title, and track time in milliseconds. Order the table according to track times in the descending order and display the first 10 rows."
   ]
  },
  {
   "cell_type": "code",
   "execution_count": 11,
   "id": "turkish-layout",
   "metadata": {},
   "outputs": [
    {
     "data": {
      "text/html": [
       "<style  type=\"text/css\" >\n",
       "</style><table id=\"T_fc86a456_a099_11eb_8e01_acde48001122\" ><thead>    <tr>        <th class=\"col_heading level0 col0\" >AlbumId</th>        <th class=\"col_heading level0 col1\" >AlbumTitle</th>        <th class=\"col_heading level0 col2\" >TrackId</th>        <th class=\"col_heading level0 col3\" >TrackName</th>        <th class=\"col_heading level0 col4\" >Milliseconds</th>    </tr></thead><tbody>\n",
       "                <tr>\n",
       "                                <td id=\"T_fc86a456_a099_11eb_8e01_acde48001122row0_col0\" class=\"data row0 col0\" >227</td>\n",
       "                        <td id=\"T_fc86a456_a099_11eb_8e01_acde48001122row0_col1\" class=\"data row0 col1\" >Battlestar Galactica, Season 3</td>\n",
       "                        <td id=\"T_fc86a456_a099_11eb_8e01_acde48001122row0_col2\" class=\"data row0 col2\" >2820</td>\n",
       "                        <td id=\"T_fc86a456_a099_11eb_8e01_acde48001122row0_col3\" class=\"data row0 col3\" >Occupation / Precipice</td>\n",
       "                        <td id=\"T_fc86a456_a099_11eb_8e01_acde48001122row0_col4\" class=\"data row0 col4\" >5286953</td>\n",
       "            </tr>\n",
       "            <tr>\n",
       "                                <td id=\"T_fc86a456_a099_11eb_8e01_acde48001122row1_col0\" class=\"data row1 col0\" >229</td>\n",
       "                        <td id=\"T_fc86a456_a099_11eb_8e01_acde48001122row1_col1\" class=\"data row1 col1\" >Lost, Season 3</td>\n",
       "                        <td id=\"T_fc86a456_a099_11eb_8e01_acde48001122row1_col2\" class=\"data row1 col2\" >3224</td>\n",
       "                        <td id=\"T_fc86a456_a099_11eb_8e01_acde48001122row1_col3\" class=\"data row1 col3\" >Through a Looking Glass</td>\n",
       "                        <td id=\"T_fc86a456_a099_11eb_8e01_acde48001122row1_col4\" class=\"data row1 col4\" >5088838</td>\n",
       "            </tr>\n",
       "            <tr>\n",
       "                                <td id=\"T_fc86a456_a099_11eb_8e01_acde48001122row2_col0\" class=\"data row2 col0\" >253</td>\n",
       "                        <td id=\"T_fc86a456_a099_11eb_8e01_acde48001122row2_col1\" class=\"data row2 col1\" >Battlestar Galactica (Classic), Season 1</td>\n",
       "                        <td id=\"T_fc86a456_a099_11eb_8e01_acde48001122row2_col2\" class=\"data row2 col2\" >3244</td>\n",
       "                        <td id=\"T_fc86a456_a099_11eb_8e01_acde48001122row2_col3\" class=\"data row2 col3\" >Greetings from Earth, Pt. 1</td>\n",
       "                        <td id=\"T_fc86a456_a099_11eb_8e01_acde48001122row2_col4\" class=\"data row2 col4\" >2960293</td>\n",
       "            </tr>\n",
       "            <tr>\n",
       "                                <td id=\"T_fc86a456_a099_11eb_8e01_acde48001122row3_col0\" class=\"data row3 col0\" >231</td>\n",
       "                        <td id=\"T_fc86a456_a099_11eb_8e01_acde48001122row3_col1\" class=\"data row3 col1\" >Lost, Season 2</td>\n",
       "                        <td id=\"T_fc86a456_a099_11eb_8e01_acde48001122row3_col2\" class=\"data row3 col2\" >2910</td>\n",
       "                        <td id=\"T_fc86a456_a099_11eb_8e01_acde48001122row3_col3\" class=\"data row3 col3\" >Dave</td>\n",
       "                        <td id=\"T_fc86a456_a099_11eb_8e01_acde48001122row3_col4\" class=\"data row3 col4\" >2825166</td>\n",
       "            </tr>\n",
       "            <tr>\n",
       "                                <td id=\"T_fc86a456_a099_11eb_8e01_acde48001122row4_col0\" class=\"data row4 col0\" >228</td>\n",
       "                        <td id=\"T_fc86a456_a099_11eb_8e01_acde48001122row4_col1\" class=\"data row4 col1\" >Heroes, Season 1</td>\n",
       "                        <td id=\"T_fc86a456_a099_11eb_8e01_acde48001122row4_col2\" class=\"data row4 col2\" >3223</td>\n",
       "                        <td id=\"T_fc86a456_a099_11eb_8e01_acde48001122row4_col3\" class=\"data row4 col3\" >How to Stop an Exploding Man</td>\n",
       "                        <td id=\"T_fc86a456_a099_11eb_8e01_acde48001122row4_col4\" class=\"data row4 col4\" >2687103</td>\n",
       "            </tr>\n",
       "    </tbody></table>"
      ],
      "text/plain": [
       "<pandas.io.formats.style.Styler at 0x7ff9c892ba30>"
      ]
     },
     "metadata": {},
     "output_type": "display_data"
    }
   ],
   "source": [
    "show_results(\"ex9\")"
   ]
  },
  {
   "cell_type": "markdown",
   "id": "cognitive-sharp",
   "metadata": {},
   "source": [
    "### Exercise 10\n",
    "\n",
    "Every track in the `tracks` table corresponds to one genre, but an album may consist of tracks of various genres. \n",
    "\n",
    "Create a table showing AlbumId, the album title, and the number of distinct track genres for all albums which have more than one genre. Order the list in the alphabetical order of album titles. "
   ]
  },
  {
   "cell_type": "code",
   "execution_count": 13,
   "id": "focal-colombia",
   "metadata": {},
   "outputs": [
    {
     "data": {
      "text/html": [
       "<style  type=\"text/css\" >\n",
       "</style><table id=\"T_72ecb654_a134_11eb_8e01_acde48001122\" ><thead>    <tr>        <th class=\"col_heading level0 col0\" >AlbumId</th>        <th class=\"col_heading level0 col1\" >Title</th>        <th class=\"col_heading level0 col2\" >NumGenres</th>    </tr></thead><tbody>\n",
       "                <tr>\n",
       "                                <td id=\"T_72ecb654_a134_11eb_8e01_acde48001122row0_col0\" class=\"data row0 col0\" >227</td>\n",
       "                        <td id=\"T_72ecb654_a134_11eb_8e01_acde48001122row0_col1\" class=\"data row0 col1\" >Battlestar Galactica, Season 3</td>\n",
       "                        <td id=\"T_72ecb654_a134_11eb_8e01_acde48001122row0_col2\" class=\"data row0 col2\" >3</td>\n",
       "            </tr>\n",
       "            <tr>\n",
       "                                <td id=\"T_72ecb654_a134_11eb_8e01_acde48001122row1_col0\" class=\"data row1 col0\" >141</td>\n",
       "                        <td id=\"T_72ecb654_a134_11eb_8e01_acde48001122row1_col1\" class=\"data row1 col1\" >Greatest Hits</td>\n",
       "                        <td id=\"T_72ecb654_a134_11eb_8e01_acde48001122row1_col2\" class=\"data row1 col2\" >3</td>\n",
       "            </tr>\n",
       "            <tr>\n",
       "                                <td id=\"T_72ecb654_a134_11eb_8e01_acde48001122row2_col0\" class=\"data row2 col0\" >228</td>\n",
       "                        <td id=\"T_72ecb654_a134_11eb_8e01_acde48001122row2_col1\" class=\"data row2 col1\" >Heroes, Season 1</td>\n",
       "                        <td id=\"T_72ecb654_a134_11eb_8e01_acde48001122row2_col2\" class=\"data row2 col2\" >2</td>\n",
       "            </tr>\n",
       "            <tr>\n",
       "                                <td id=\"T_72ecb654_a134_11eb_8e01_acde48001122row3_col0\" class=\"data row3 col0\" >261</td>\n",
       "                        <td id=\"T_72ecb654_a134_11eb_8e01_acde48001122row3_col1\" class=\"data row3 col1\" >LOST, Season 4</td>\n",
       "                        <td id=\"T_72ecb654_a134_11eb_8e01_acde48001122row3_col2\" class=\"data row3 col2\" >2</td>\n",
       "            </tr>\n",
       "            <tr>\n",
       "                                <td id=\"T_72ecb654_a134_11eb_8e01_acde48001122row4_col0\" class=\"data row4 col0\" >102</td>\n",
       "                        <td id=\"T_72ecb654_a134_11eb_8e01_acde48001122row4_col1\" class=\"data row4 col1\" >Live After Death</td>\n",
       "                        <td id=\"T_72ecb654_a134_11eb_8e01_acde48001122row4_col2\" class=\"data row4 col2\" >2</td>\n",
       "            </tr>\n",
       "    </tbody></table>"
      ],
      "text/plain": [
       "<pandas.io.formats.style.Styler at 0x7ff9c894bd00>"
      ]
     },
     "metadata": {},
     "output_type": "display_data"
    }
   ],
   "source": [
    "show_results(\"ex10\")"
   ]
  }
 ],
 "metadata": {
  "celltoolbar": "Raw Cell Format",
  "kernelspec": {
   "display_name": "Python 3",
   "language": "python",
   "name": "python3"
  },
  "language_info": {
   "codemirror_mode": {
    "name": "ipython",
    "version": 3
   },
   "file_extension": ".py",
   "mimetype": "text/x-python",
   "name": "python",
   "nbconvert_exporter": "python",
   "pygments_lexer": "ipython3",
   "version": "3.8.5"
  }
 },
 "nbformat": 4,
 "nbformat_minor": 5
}
