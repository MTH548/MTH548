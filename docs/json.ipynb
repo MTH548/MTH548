{
 "cells": [
  {
   "cell_type": "markdown",
   "metadata": {},
   "source": [
    "# JSON\n",
    "\n",
    "[JSON](https://www.json.org/json-en.html) is a format for representing various types of data (numbers, lists, dictionaries etc.) in the form of text strings. The benefit of encoding data in this way is that strings can be be easily stored in text files or shared over Internet. A useful feature of JSON is that data encoded in this format is easy to read and understand. For example, a list `[1, 2, 3]` in the JSON format becomes simply a string `'[1, 2, 3]'`."
   ]
  },
  {
   "cell_type": "markdown",
   "metadata": {},
   "source": [
    "## The json module"
   ]
  },
  {
   "cell_type": "markdown",
   "metadata": {},
   "source": [
    "The Python module `json` provides tools for reading and writing JSON data. "
   ]
  },
  {
   "cell_type": "code",
   "execution_count": 1,
   "metadata": {},
   "outputs": [],
   "source": [
    "import json"
   ]
  },
  {
   "cell_type": "markdown",
   "metadata": {},
   "source": [
    "Below is a brief overview of the most commonly used functions in the `json` module. See the [json module  documentation](https://docs.python.org/3/library/json.html) for details. "
   ]
  },
  {
   "cell_type": "raw",
   "metadata": {
    "raw_mimetype": "text/restructuredtext"
   },
   "source": [
    ".. function::  json.dumps(obj)"
   ]
  },
  {
   "cell_type": "markdown",
   "metadata": {},
   "source": [
    "This function takes as an argument an Python object `obj` and returns a string representing the object in the JSON format."
   ]
  },
  {
   "cell_type": "markdown",
   "metadata": {},
   "source": [
    "**Examples.**"
   ]
  },
  {
   "cell_type": "code",
   "execution_count": 2,
   "metadata": {},
   "outputs": [
    {
     "data": {
      "text/plain": [
       "'[1, 2, 3, \"Buffalo\", -7.5]'"
      ]
     },
     "execution_count": 2,
     "metadata": {},
     "output_type": "execute_result"
    }
   ],
   "source": [
    "my_list = [1, 2, 3, 'Buffalo', -7.5]\n",
    "json.dumps(my_list)"
   ]
  },
  {
   "cell_type": "code",
   "execution_count": 3,
   "metadata": {},
   "outputs": [
    {
     "data": {
      "text/plain": [
       "'{\"name\": \"Maggie\", \"age\": 19, \"grades\": [\"A\", \"B+\", \"A-\"]}'"
      ]
     },
     "execution_count": 3,
     "metadata": {},
     "output_type": "execute_result"
    }
   ],
   "source": [
    "student = {\"name\": \"Maggie\", \"age\": 19, \"grades\": [\"A\", \"B+\", \"A-\"]}\n",
    "jstudent = json.dumps(student)\n",
    "jstudent"
   ]
  },
  {
   "cell_type": "raw",
   "metadata": {
    "raw_mimetype": "text/restructuredtext"
   },
   "source": [
    ".. function::  json.loads(s)"
   ]
  },
  {
   "cell_type": "markdown",
   "metadata": {},
   "source": [
    "This function is inverse of `json.dumps`: it takes a JSON encoded string `s` and returns the corresponding Python object:"
   ]
  },
  {
   "cell_type": "code",
   "execution_count": 4,
   "metadata": {},
   "outputs": [
    {
     "data": {
      "text/plain": [
       "{'name': 'Maggie', 'age': 19, 'grades': ['A', 'B+', 'A-']}"
      ]
     },
     "execution_count": 4,
     "metadata": {},
     "output_type": "execute_result"
    }
   ],
   "source": [
    "d = json.loads(jstudent)\n",
    "d"
   ]
  },
  {
   "cell_type": "code",
   "execution_count": 5,
   "metadata": {},
   "outputs": [
    {
     "data": {
      "text/plain": [
       "'Maggie'"
      ]
     },
     "execution_count": 5,
     "metadata": {},
     "output_type": "execute_result"
    }
   ],
   "source": [
    "d['name']"
   ]
  },
  {
   "cell_type": "raw",
   "metadata": {
    "raw_mimetype": "text/restructuredtext"
   },
   "source": [
    ".. function::  json.dump(obj, fp)"
   ]
  },
  {
   "cell_type": "markdown",
   "metadata": {},
   "source": [
    "This function is similar to `json.dumps` but instead of producing a string representing `obj`, it writes this string to a file object `fp`. For example, the code below saves the dictionary `student` to a text file `student.json`:"
   ]
  },
  {
   "cell_type": "code",
   "execution_count": 6,
   "metadata": {},
   "outputs": [],
   "source": [
    "student = {\"name\": \"Maggie\", \"age\": 19, \"grades\": [\"A\", \"B+\", \"A-\"]}\n",
    "\n",
    "with open('student.json', 'w') as f:\n",
    "    json.dump(student, f)"
   ]
  },
  {
   "cell_type": "markdown",
   "metadata": {},
   "source": [
    "Here is a link to the file produced in this way: [student.json](student.json)."
   ]
  },
  {
   "cell_type": "raw",
   "metadata": {
    "raw_mimetype": "text/restructuredtext"
   },
   "source": [
    ".. function::  json.load(fp)"
   ]
  },
  {
   "cell_type": "markdown",
   "metadata": {},
   "source": [
    "This function, in turn, is similar to `json.loads`, but it takes as its argument a file object `fp` which contains a JSON formatted string, and returns the corresponding Python object:"
   ]
  },
  {
   "cell_type": "code",
   "execution_count": 7,
   "metadata": {},
   "outputs": [
    {
     "data": {
      "text/plain": [
       "{'name': 'Maggie', 'age': 19, 'grades': ['A', 'B+', 'A-']}"
      ]
     },
     "execution_count": 7,
     "metadata": {},
     "output_type": "execute_result"
    }
   ],
   "source": [
    "with open('student.json') as f:\n",
    "    d = json.load(f)\n",
    "d"
   ]
  },
  {
   "cell_type": "markdown",
   "metadata": {},
   "source": [
    "## Example: currency exchange rates"
   ]
  },
  {
   "cell_type": "markdown",
   "metadata": {},
   "source": [
    "The website [www.exchangeratesapi.io](https://www.exchangeratesapi.io/) provides current and historical currency exchange rates. We can use it, for example, to obtain the latest exchange rates against the US dollar:  "
   ]
  },
  {
   "cell_type": "code",
   "execution_count": 8,
   "metadata": {
    "nbsphinx": "hidden"
   },
   "outputs": [],
   "source": [
    "# \"nbsphinx\": \"hidden\"\n",
    "\n",
    "# this is cheat redefining the print function so that printout \n",
    "# looks better when rendered by Sphinx\n",
    "normal_print = print\n",
    "\n",
    "def new_print(s, width=100):\n",
    "    s = str(s)\n",
    "    lines = s.split('\\n')\n",
    "    for line in lines:\n",
    "        for n in range(0, len(line), width):\n",
    "            normal_print(line[n:n+width])\n",
    "\n",
    "print = new_print"
   ]
  },
  {
   "cell_type": "code",
   "execution_count": 10,
   "metadata": {},
   "outputs": [
    {
     "name": "stdout",
     "output_type": "stream",
     "text": [
      "{\"rates\":{\"CAD\":1.4161682074,\"HKD\":7.7541236179,\"ISK\":139.8404930216,\"PHP\":50.9298531811,\"DKK\":6.766\n",
      "9929309,\"HUF\":325.1042233098,\"CZK\":24.7553017945,\"GBP\":0.805691499,\"RON\":4.3753851731,\"SEK\":10.00317\n",
      "20138,\"IDR\":16393.0034439007,\"INR\":75.6751857894,\"BRL\":5.1215334421,\"RUB\":79.8790103317,\"HRK\":6.9118\n",
      "18017,\"JPY\":108.1566068515,\"THB\":32.6998368679,\"CHF\":0.9580387892,\"EUR\":0.9062896502,\"MYR\":4.3326083\n",
      "016,\"BGN\":1.7725212978,\"TRY\":6.5683342396,\"CNY\":7.0996012326,\"NOK\":10.5934384629,\"NZD\":1.6680261011,\n",
      "\"ZAR\":17.8798259924,\"USD\":1.0,\"MXN\":23.7864781584,\"SGD\":1.4257748777,\"AUD\":1.6332245786,\"ILS\":3.5838\n",
      "317926,\"KRW\":1224.8685880007,\"PLN\":4.124433569},\"base\":\"USD\",\"date\":\"2020-03-30\"}\n"
     ]
    }
   ],
   "source": [
    "import requests \n",
    "rates = requests.get('https://api.exchangeratesapi.io/latest?base=USD').text \n",
    "\n",
    "print(rates)"
   ]
  },
  {
   "cell_type": "code",
   "execution_count": 11,
   "metadata": {
    "nbsphinx": "hidden"
   },
   "outputs": [],
   "source": [
    "# \"nbsphinx\": \"hidden\"\n",
    "\n",
    "# revert to the standard print function\n",
    "print = normal_print"
   ]
  },
  {
   "cell_type": "markdown",
   "metadata": {},
   "source": [
    "The exchange rates are provided as a JSON encoded string. Using the `json.loads` function we can convert this string into a Python dictionary:"
   ]
  },
  {
   "cell_type": "code",
   "execution_count": 12,
   "metadata": {},
   "outputs": [
    {
     "data": {
      "text/plain": [
       "{'rates': {'CAD': 1.4161682074,\n",
       "  'HKD': 7.7541236179,\n",
       "  'ISK': 139.8404930216,\n",
       "  'PHP': 50.9298531811,\n",
       "  'DKK': 6.7669929309,\n",
       "  'HUF': 325.1042233098,\n",
       "  'CZK': 24.7553017945,\n",
       "  'GBP': 0.805691499,\n",
       "  'RON': 4.3753851731,\n",
       "  'SEK': 10.0031720138,\n",
       "  'IDR': 16393.0034439007,\n",
       "  'INR': 75.6751857894,\n",
       "  'BRL': 5.1215334421,\n",
       "  'RUB': 79.8790103317,\n",
       "  'HRK': 6.911818017,\n",
       "  'JPY': 108.1566068515,\n",
       "  'THB': 32.6998368679,\n",
       "  'CHF': 0.9580387892,\n",
       "  'EUR': 0.9062896502,\n",
       "  'MYR': 4.3326083016,\n",
       "  'BGN': 1.7725212978,\n",
       "  'TRY': 6.5683342396,\n",
       "  'CNY': 7.0996012326,\n",
       "  'NOK': 10.5934384629,\n",
       "  'NZD': 1.6680261011,\n",
       "  'ZAR': 17.8798259924,\n",
       "  'USD': 1.0,\n",
       "  'MXN': 23.7864781584,\n",
       "  'SGD': 1.4257748777,\n",
       "  'AUD': 1.6332245786,\n",
       "  'ILS': 3.5838317926,\n",
       "  'KRW': 1224.8685880007,\n",
       "  'PLN': 4.124433569},\n",
       " 'base': 'USD',\n",
       " 'date': '2020-03-30'}"
      ]
     },
     "execution_count": 12,
     "metadata": {},
     "output_type": "execute_result"
    }
   ],
   "source": [
    "rates_d = json.loads(rates)\n",
    "rates_d"
   ]
  },
  {
   "cell_type": "markdown",
   "metadata": {},
   "source": [
    "We can use the dictionary obtained in this way to check how much 1 USD is worth in terms of any other listed currency:"
   ]
  },
  {
   "cell_type": "code",
   "execution_count": 13,
   "metadata": {},
   "outputs": [
    {
     "data": {
      "text/plain": [
       "1.4161682074"
      ]
     },
     "execution_count": 13,
     "metadata": {},
     "output_type": "execute_result"
    }
   ],
   "source": [
    "# value of 1 USD in Canadian dollars\n",
    "rates_d['rates']['CAD']"
   ]
  }
 ],
 "metadata": {
  "kernelspec": {
   "display_name": "Python 3",
   "language": "python",
   "name": "python3"
  },
  "language_info": {
   "codemirror_mode": {
    "name": "ipython",
    "version": 3
   },
   "file_extension": ".py",
   "mimetype": "text/x-python",
   "name": "python",
   "nbconvert_exporter": "python",
   "pygments_lexer": "ipython3",
   "version": "3.7.6"
  }
 },
 "nbformat": 4,
 "nbformat_minor": 4
}
