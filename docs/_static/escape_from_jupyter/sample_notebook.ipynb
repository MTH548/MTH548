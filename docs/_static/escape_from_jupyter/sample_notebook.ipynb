{
 "cells": [
  {
   "cell_type": "markdown",
   "metadata": {},
   "source": [
    "# Sample notebook\n",
    "\n",
    "This notebook serves as an illustration of the process of exporting a Jupyter notebook `.ipynb` file to a Python `.py` file. \n",
    "\n",
    "After the export, content of markdown cells - like this one - should be transformed into commented text in the Python file. Content of code cells should be transformed into raw Python code. \n",
    "\n",
    "Here is an example of a code cell:"
   ]
  },
  {
   "cell_type": "code",
   "execution_count": 1,
   "metadata": {},
   "outputs": [
    {
     "name": "stdout",
     "output_type": "stream",
     "text": [
      "Welcome Martha!\n",
      "Welcome Bob!\n",
      "Welcome Alice!\n"
     ]
    }
   ],
   "source": [
    "def welcome(s):\n",
    "    return f\"Welcome {s}!\"\n",
    "\n",
    "for name in [\"Martha\", \"Bob\", \"Alice\"]:\n",
    "    print(welcome(name))"
   ]
  },
  {
   "cell_type": "markdown",
   "metadata": {},
   "source": [
    "**Note.** The export process should discard the output of code cells. Only the content of markdown and code cells and code cell numbers should be preserved. \n",
    "\n",
    "Here is another code cell:"
   ]
  },
  {
   "cell_type": "code",
   "execution_count": 28,
   "metadata": {},
   "outputs": [
    {
     "name": "stdout",
     "output_type": "stream",
     "text": [
      "ascii_letters: abcdefghijklmnopqrstuvwxyzABCDEFGHIJKLMNOPQRSTUVWXYZ\n",
      "ascii_lowercase: abcdefghijklmnopqrstuvwxyz\n",
      "ascii_uppercase: ABCDEFGHIJKLMNOPQRSTUVWXYZ\n",
      "digits: 0123456789\n",
      "hexdigits: 0123456789abcdefABCDEF\n",
      "octdigits: 01234567\n",
      "printable: 0123456789abcdefghijklmnopqrstuvwxyzABCDEFGHIJKLMNOPQRSTUVWXYZ!\"#$%&'()*+,-./:;<=>?@[\\]^_`{|}~ \t\n",
      "\r",
      "\u000b",
      "\f",
      "\n",
      "punctuation: !\"#$%&'()*+,-./:;<=>?@[\\]^_`{|}~\n",
      "whitespace:  \t\n",
      "\r",
      "\u000b",
      "\f",
      "\n"
     ]
    }
   ],
   "source": [
    "# code cells may contain code comments\n",
    "import string \n",
    "\n",
    "for x in [x for x in dir(string) if not x.startswith(\"__\")]:\n",
    "    y = getattr(string, x)\n",
    "    if type(y) == str:\n",
    "        print(f\"{x}: {y}\")"
   ]
  },
  {
   "cell_type": "markdown",
   "metadata": {},
   "source": [
    "The content below looks like Python code, but it is a part of a markdown cell, so it should be treated as text:\n",
    "\n",
    "```\n",
    "N = 100\n",
    "for i in range(N):\n",
    "    print(5*i)\n",
    "```\n",
    "\n",
    "One more code cell:"
   ]
  },
  {
   "cell_type": "code",
   "execution_count": 29,
   "metadata": {},
   "outputs": [
    {
     "data": {
      "text/plain": [
       "2"
      ]
     },
     "execution_count": 29,
     "metadata": {},
     "output_type": "execute_result"
    }
   ],
   "source": [
    "1+1"
   ]
  }
 ],
 "metadata": {
  "kernelspec": {
   "display_name": "Python 3",
   "language": "python",
   "name": "python3"
  },
  "language_info": {
   "codemirror_mode": {
    "name": "ipython",
    "version": 3
   },
   "file_extension": ".py",
   "mimetype": "text/x-python",
   "name": "python",
   "nbconvert_exporter": "python",
   "pygments_lexer": "ipython3",
   "version": "3.7.6"
  }
 },
 "nbformat": 4,
 "nbformat_minor": 4
}
