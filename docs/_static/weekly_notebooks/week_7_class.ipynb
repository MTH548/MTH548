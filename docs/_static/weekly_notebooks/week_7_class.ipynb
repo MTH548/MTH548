{
 "cells": [
  {
   "cell_type": "markdown",
   "id": "monthly-offer",
   "metadata": {},
   "source": [
    "# Week 7"
   ]
  },
  {
   "cell_type": "markdown",
   "id": "directed-signal",
   "metadata": {},
   "source": [
    "## Requests"
   ]
  },
  {
   "cell_type": "code",
   "execution_count": 107,
   "id": "afraid-promotion",
   "metadata": {},
   "outputs": [],
   "source": [
    "import requests"
   ]
  },
  {
   "cell_type": "code",
   "execution_count": 108,
   "id": "overhead-laundry",
   "metadata": {},
   "outputs": [],
   "source": [
    "r = requests.get(\"https://mth548.org\")"
   ]
  },
  {
   "cell_type": "code",
   "execution_count": 109,
   "id": "departmental-training",
   "metadata": {},
   "outputs": [
    {
     "data": {
      "text/plain": [
       "200"
      ]
     },
     "execution_count": 109,
     "metadata": {},
     "output_type": "execute_result"
    }
   ],
   "source": [
    "r.status_code"
   ]
  },
  {
   "cell_type": "code",
   "execution_count": 110,
   "id": "federal-collaboration",
   "metadata": {},
   "outputs": [
    {
     "data": {
      "text/plain": [
       "{'Connection': 'keep-alive', 'Content-Length': '6087', 'Server': 'GitHub.com', 'Content-Type': 'text/html; charset=utf-8', 'Last-Modified': 'Mon, 15 Mar 2021 18:36:30 GMT', 'Access-Control-Allow-Origin': '*', 'ETag': 'W/\"604fa92e-4b3c\"', 'expires': 'Tue, 16 Mar 2021 18:47:03 GMT', 'Cache-Control': 'max-age=600', 'Content-Encoding': 'gzip', 'x-proxy-cache': 'MISS', 'X-GitHub-Request-Id': 'CC02:0E74:E4BE2B:14D9F5C:6050FACF', 'Accept-Ranges': 'bytes', 'Date': 'Tue, 16 Mar 2021 18:37:03 GMT', 'Via': '1.1 varnish', 'Age': '0', 'X-Served-By': 'cache-ewr18134-EWR', 'X-Cache': 'MISS', 'X-Cache-Hits': '0', 'X-Timer': 'S1615919823.199817,VS0,VE12', 'Vary': 'Accept-Encoding', 'X-Fastly-Request-ID': 'e8fc34624fbe119b6b818767e6f6fc8efeb44063'}"
      ]
     },
     "execution_count": 110,
     "metadata": {},
     "output_type": "execute_result"
    }
   ],
   "source": [
    "r.headers"
   ]
  },
  {
   "cell_type": "code",
   "execution_count": 111,
   "id": "packed-interstate",
   "metadata": {},
   "outputs": [
    {
     "data": {
      "text/plain": [
       "requests.structures.CaseInsensitiveDict"
      ]
     },
     "execution_count": 111,
     "metadata": {},
     "output_type": "execute_result"
    }
   ],
   "source": [
    "type(r.headers)"
   ]
  },
  {
   "cell_type": "code",
   "execution_count": 112,
   "id": "ruled-sleeping",
   "metadata": {},
   "outputs": [
    {
     "data": {
      "text/plain": [
       "{'Connection': 'keep-alive',\n",
       " 'Content-Length': '6087',\n",
       " 'Server': 'GitHub.com',\n",
       " 'Content-Type': 'text/html; charset=utf-8',\n",
       " 'Last-Modified': 'Mon, 15 Mar 2021 18:36:30 GMT',\n",
       " 'Access-Control-Allow-Origin': '*',\n",
       " 'ETag': 'W/\"604fa92e-4b3c\"',\n",
       " 'expires': 'Tue, 16 Mar 2021 18:47:03 GMT',\n",
       " 'Cache-Control': 'max-age=600',\n",
       " 'Content-Encoding': 'gzip',\n",
       " 'x-proxy-cache': 'MISS',\n",
       " 'X-GitHub-Request-Id': 'CC02:0E74:E4BE2B:14D9F5C:6050FACF',\n",
       " 'Accept-Ranges': 'bytes',\n",
       " 'Date': 'Tue, 16 Mar 2021 18:37:03 GMT',\n",
       " 'Via': '1.1 varnish',\n",
       " 'Age': '0',\n",
       " 'X-Served-By': 'cache-ewr18134-EWR',\n",
       " 'X-Cache': 'MISS',\n",
       " 'X-Cache-Hits': '0',\n",
       " 'X-Timer': 'S1615919823.199817,VS0,VE12',\n",
       " 'Vary': 'Accept-Encoding',\n",
       " 'X-Fastly-Request-ID': 'e8fc34624fbe119b6b818767e6f6fc8efeb44063'}"
      ]
     },
     "execution_count": 112,
     "metadata": {},
     "output_type": "execute_result"
    }
   ],
   "source": [
    "dict(r.headers)"
   ]
  },
  {
   "cell_type": "code",
   "execution_count": 113,
   "id": "indonesian-passing",
   "metadata": {},
   "outputs": [
    {
     "data": {
      "text/plain": [
       "'\\n\\n<!DOCTYPE html>\\n<html class=\"writer-html5\" lang=\"en\" >\\n<head>\\n  <meta charset=\"utf-8\" />\\n  \\n  <meta name=\"viewport\" content=\"width=device-width, initial-scale=1.0\" />\\n  \\n  <title>Syllabus &mdash; MTH 448/548 0.0.1 documentation</title>\\n  \\n\\n  \\n  <link rel=\"stylesheet\" href=\"_static/css/theme.css\" type=\"text/css\" />\\n  <link rel=\"stylesheet\" href=\"_static/pygments.css\" type=\"text/css\" />\\n  <link rel=\"stylesheet\" href=\"_static/copybutton.css\" type=\"text/css\" />\\n  <link rel=\"stylesheet\" href=\"_static/css/custom.css\" type=\"text/css\" />\\n\\n  \\n  \\n    <link rel=\"shortcut icon\" href=\"_static/favicon.ico\"/>\\n  \\n\\n  \\n  \\n\\n  \\n    <link rel=\"canonical\" href=\"https://www.mth548.org/index.html\" />\\n\\n  \\n  <!--[if lt IE 9]>\\n    <script src=\"_static/js/html5shiv.min.js\"></script>\\n  <![endif]-->\\n  \\n    \\n      <script type=\"text/javascript\" id=\"documentation_options\" data-url_root=\"./\" src=\"_static/documentation_options.js\"></script>\\n        <script src=\"_static/jquery.js\"></script>\\n        <script src=\"_stati'"
      ]
     },
     "execution_count": 113,
     "metadata": {},
     "output_type": "execute_result"
    }
   ],
   "source": [
    "r.text[:1000]"
   ]
  },
  {
   "cell_type": "markdown",
   "id": "novel-fiber",
   "metadata": {},
   "source": [
    "### Downloading binary files"
   ]
  },
  {
   "cell_type": "code",
   "execution_count": 13,
   "id": "particular-philosophy",
   "metadata": {},
   "outputs": [],
   "source": [
    "rubrics = \"https://www.mth548.org/_static/report_rubrics.pdf\""
   ]
  },
  {
   "cell_type": "code",
   "execution_count": 15,
   "id": "running-occupation",
   "metadata": {},
   "outputs": [],
   "source": [
    "r = requests.get(rubrics)"
   ]
  },
  {
   "cell_type": "code",
   "execution_count": 18,
   "id": "facial-sword",
   "metadata": {},
   "outputs": [],
   "source": [
    "with open(\"rubrics.pdf\", 'wb') as f:\n",
    "    f.write(r.content)"
   ]
  },
  {
   "cell_type": "markdown",
   "id": "composite-williams",
   "metadata": {},
   "source": [
    "### Graduate student directory"
   ]
  },
  {
   "cell_type": "code",
   "execution_count": 19,
   "id": "dedicated-singer",
   "metadata": {},
   "outputs": [],
   "source": [
    "grad_url = \"http://www.buffalo.edu/cas/math/people/grad-directory.html\""
   ]
  },
  {
   "cell_type": "code",
   "execution_count": 105,
   "id": "twenty-youth",
   "metadata": {},
   "outputs": [
    {
     "data": {
      "text/plain": [
       "'<!DOCTYPE HTML><html lang=\"en\" class=\"ubcms-65\"><!-- cmspub05 0316-143634 --><head><meta http-equiv=\"X-UA-Compatible\" content=\"IE=edge\"/><meta http-equiv=\"content-type\" content=\"text/html; charset=UTF-8\"/><meta id=\"meta-viewport\" name=\"viewport\" content=\"width=device-width,initial-scale=1\"/><script>if (screen.width > 720 && screen.width < 960) document.getElementById(\\'meta-viewport\\').setAttribute(\\'content\\',\\'width=960\\');</script><script>(function(w,d,s,l,i){w[l]=w[l]||[];w[l].push({\\'gtm.start\\':new Date().getTime(),event:\\'gtm.js\\'});var f=d.getElementsByTagName(s)[0],j=d.createElement(s),dl=l!=\\'dataLayer\\'?\\'&l=\\'+l:\\'\\';j.async=true;j.src=\\'https://www.googletagmanager.com/gtm.js?id=\\'+i+dl;f.parentNode.insertBefore(j,f);})(window,document,\\'script\\',\\'dataLayer\\',\\'GTM-T5KRRKT\\');</script><title>Graduate Student Directory - Department of Mathematics - University at Buffalo</title><link rel=\"canonical\" href=\"http://www.buffalo.edu/cas/math/people/grad-directory.html\"/><meta name=\"date\" content=\"2021-'"
      ]
     },
     "execution_count": 105,
     "metadata": {},
     "output_type": "execute_result"
    }
   ],
   "source": [
    "grads = requests.get(grad_url).text\n",
    "grads[:1000]"
   ]
  },
  {
   "cell_type": "markdown",
   "id": "biological-hazard",
   "metadata": {},
   "source": [
    "## HTML"
   ]
  },
  {
   "cell_type": "code",
   "execution_count": 53,
   "id": "white-beginning",
   "metadata": {},
   "outputs": [
    {
     "data": {
      "text/html": [
       "\n",
       "<html>\n",
       "\n",
       "<head>\n",
       "<style>\n",
       ".myclass {\n",
       "    color: magenta;\n",
       "    font-weight: 900;\n",
       "    background-color: lime;\n",
       "}\n",
       "</style>\n",
       "</head>\n",
       "\n",
       "\n",
       "<body>\n",
       "<h1 style=\"color:red; font-size: 100px;\">Hello!</h1>\n",
       "\n",
       "<p>This is a paragraph of text</p>\n",
       "<p class=\"myclass\">This is another paragraph</p>\n",
       "\n",
       "<p> Here is some text <span style=\"color:green;\"> and some colored text</span> <br/> and some more text.</p>\n",
       "\n",
       "<p>This is the website of the <a href=\"http://www.math.buffalo.edu\" title=\"Math Dept\" target=\"blank_\">Math Department</a> ! </p>\n",
       "\n",
       "<ol>\n",
       "<li> Item 1</li>\n",
       "<li> Item 2</li>\n",
       "<li> Item 3</li>\n",
       "</ol>\n",
       "\n",
       "\n",
       "<ul>\n",
       "<li> Item 1</li>\n",
       "<li> Item 2</li>\n",
       "<li> Item 3</li>\n",
       "</ul>\n",
       "\n",
       "<h2 class=\"myclass\">Grade Table</h2>\n",
       "\n",
       "\n",
       "<table>\n",
       "<tr>\n",
       "<th>Name</th><th>Exam score</th><th>Grade</th>\n",
       "</tr>\n",
       "<tr>\n",
       "<td>John</td><td>90</td><td>A</td>\n",
       "</tr>\n",
       "<tr>\n",
       "<td>Mary</td><td>72</td><td>B-</td>\n",
       "</tr>\n",
       "<tr>\n",
       "<td>Bob</td><td>60</td><td>C+</td>\n",
       "</tr>\n",
       "</table>\n",
       "\n",
       "<img src=\"https://picsum.photos/200\" alt=\"a picture\", width=\"400\", height=\"600\">\n",
       "\n",
       "</body>\n",
       "\n",
       "\n",
       "\n",
       "</html>\n"
      ],
      "text/plain": [
       "<IPython.core.display.HTML object>"
      ]
     },
     "metadata": {},
     "output_type": "display_data"
    }
   ],
   "source": [
    "%%HTML\n",
    "\n",
    "<html>\n",
    "\n",
    "<head>\n",
    "<style>\n",
    ".myclass {\n",
    "    color: magenta;\n",
    "    font-weight: 900;\n",
    "    background-color: lime;\n",
    "}\n",
    "</style>\n",
    "</head>\n",
    "\n",
    "\n",
    "<body>\n",
    "<h1 style=\"color:red; font-size: 100px;\">Hello!</h1>\n",
    "\n",
    "<p>This is a paragraph of text</p>\n",
    "<p class=\"myclass\">This is another paragraph</p>\n",
    "\n",
    "<p> Here is some text <span style=\"color:green;\"> and some colored text</span> <br/> and some more text.</p>\n",
    "\n",
    "<p>This is the website of the <a href=\"http://www.math.buffalo.edu\" title=\"Math Dept\" target=\"blank_\">Math Department</a> ! </p>\n",
    "\n",
    "<ol>\n",
    "<li> Item 1</li>\n",
    "<li> Item 2</li>\n",
    "<li> Item 3</li>\n",
    "</ol>\n",
    "\n",
    "\n",
    "<ul>\n",
    "<li> Item 1</li>\n",
    "<li> Item 2</li>\n",
    "<li> Item 3</li>\n",
    "</ul>\n",
    "\n",
    "<h2 class=\"myclass\">Grade Table</h2>\n",
    "\n",
    "\n",
    "<table>\n",
    "<tr>\n",
    "<th>Name</th><th>Exam score</th><th>Grade</th>\n",
    "</tr>\n",
    "<tr>\n",
    "<td>John</td><td>90</td><td>A</td>\n",
    "</tr>\n",
    "<tr>\n",
    "<td>Mary</td><td>72</td><td>B-</td>\n",
    "</tr>\n",
    "<tr>\n",
    "<td>Bob</td><td>60</td><td>C+</td>\n",
    "</tr>\n",
    "</table>\n",
    "\n",
    "<img src=\"https://picsum.photos/200\" alt=\"a picture\", width=\"400\", height=\"600\">\n",
    "\n",
    "</body>\n",
    "\n",
    "\n",
    "\n",
    "</html>"
   ]
  },
  {
   "cell_type": "markdown",
   "id": "engaged-height",
   "metadata": {},
   "source": [
    "## Beautiful Soup"
   ]
  },
  {
   "cell_type": "code",
   "execution_count": 103,
   "id": "fluid-analysis",
   "metadata": {},
   "outputs": [
    {
     "data": {
      "text/plain": [
       "'<!DOCTYPE HTML><html lang=\"en\" class=\"ubcms-65\"><!-- cmspub05 0316-143634 --><head><meta http-equiv=\"X-UA-Compatible\" content=\"IE=edge\"/><meta http-equiv=\"content-type\" content=\"text/html; charset=UTF-8\"/><meta id=\"meta-viewport\" name=\"viewport\" content=\"width=device-width,initial-scale=1\"/><script>if (screen.width > 720 && screen.width < 960) document.getElementById(\\'meta-viewport\\').setAttribute(\\'content\\',\\'width=960\\');</script><script>(function(w,d,s,l,i){w[l]=w[l]||[];w[l].push({\\'gtm.start\\':new Date().getTime(),event:\\'gtm.js\\'});var f=d.getElementsByTagName(s)[0],j=d.createElement(s),dl=l!=\\'dataLayer\\'?\\'&l=\\'+l:\\'\\';j.async=true;j.src=\\'https://www.googletagmanager.com/gtm.js?id=\\'+i+dl;f.parentNode.insertBefore(j,f);})(window,document,\\'script\\',\\'dataLayer\\',\\'GTM-T5KRRKT\\');</script><title>Graduate Student Directory - Department of Mathematics - University at Buffalo</title><link rel=\"canonical\" href=\"http://www.buffalo.edu/cas/math/people/grad-directory.html\"/><meta name=\"date\" content=\"2021-'"
      ]
     },
     "execution_count": 103,
     "metadata": {},
     "output_type": "execute_result"
    }
   ],
   "source": [
    "grad_url = \"http://www.buffalo.edu/cas/math/people/grad-directory.html\"\n",
    "grads = requests.get(grad_url).text\n",
    "grads[:1000]"
   ]
  },
  {
   "cell_type": "code",
   "execution_count": 56,
   "id": "outside-moment",
   "metadata": {},
   "outputs": [],
   "source": [
    "from bs4 import BeautifulSoup"
   ]
  },
  {
   "cell_type": "code",
   "execution_count": 57,
   "id": "continent-tribute",
   "metadata": {},
   "outputs": [],
   "source": [
    "soup = BeautifulSoup(grads)"
   ]
  },
  {
   "cell_type": "code",
   "execution_count": 101,
   "id": "fiscal-allergy",
   "metadata": {},
   "outputs": [
    {
     "name": "stdout",
     "output_type": "stream",
     "text": [
      "<!DOCTYPE HTML>\n",
      "<html class=\"ubcms-65\" lang=\"en\">\n",
      " <!-- cmspub01 0316-135515 -->\n",
      " <head>\n",
      "  <meta content=\"IE=edge\" http-equiv=\"X-UA-Compatible\"/>\n",
      "  <meta content=\"text/html; charset=utf-8\" http-equiv=\"content-type\"/>\n",
      "  <meta content=\"width=device-width,initial-scale=1\" id=\"meta-viewport\" name=\"viewport\"/>\n",
      "  <script>\n",
      "   if (screen.width > 720 && screen.width < 960) document.getElementById('meta-viewport').setAttribute('content','width=960');\n",
      "  </script>\n",
      "  <script>\n",
      "   (function(w,d,s,l,i){w[l]=w[l]||[];w[l].push({'gtm.start':new Date().getTime(),event:'gtm.js'});var f=d.getElementsByTagName(s)[0],j=d.createElement(s),dl=l!='dataLayer'?'&l='+l:'';j.async=true;j.src='https://www.googletagmanager.com/gtm.js?id='+i+dl;f.parentNode.insertBefore(j,f);})(window,document,'script','dataLayer','GTM-T5KRRKT');\n",
      "  </script>\n",
      "  <title>\n",
      "   Graduate Student Directory - Department of Mathematics - University at Buffalo\n",
      "  </title>\n",
      "  <link href=\"http://www.buffalo.edu/cas/math/people/grad-directory.html\" re\n"
     ]
    }
   ],
   "source": [
    "print(soup.prettify()[:1000])"
   ]
  },
  {
   "cell_type": "code",
   "execution_count": 99,
   "id": "architectural-tender",
   "metadata": {},
   "outputs": [
    {
     "data": {
      "text/plain": [
       "[<a href=\"#skip-to-content\" id=\"skip-to-content-link\">Skip to Content</a>,\n",
       " <a href=\"http://arts-sciences.buffalo.edu/\">College of Arts and Sciences</a>,\n",
       " <a href=\"//www.buffalo.edu\">UB Home</a>,\n",
       " <a href=\"//www.buffalo.edu/maps\">Maps</a>,\n",
       " <a href=\"//www.buffalo.edu/directory/\">UB Directory</a>]"
      ]
     },
     "execution_count": 99,
     "metadata": {},
     "output_type": "execute_result"
    }
   ],
   "source": [
    "links = soup.find_all('a')\n",
    "links[:5]"
   ]
  },
  {
   "cell_type": "code",
   "execution_count": 61,
   "id": "human-surface",
   "metadata": {},
   "outputs": [
    {
     "data": {
      "text/plain": [
       "<a href=\"https://ubfoundation.buffalo.edu/giving/?gift_allocation=01-3-0-01240\" target=\"_blank\"> Support UB Math </a>"
      ]
     },
     "execution_count": 61,
     "metadata": {},
     "output_type": "execute_result"
    }
   ],
   "source": [
    "link = links[9]\n",
    "link"
   ]
  },
  {
   "cell_type": "code",
   "execution_count": 62,
   "id": "joined-peripheral",
   "metadata": {},
   "outputs": [
    {
     "data": {
      "text/plain": [
       "' Support UB Math '"
      ]
     },
     "execution_count": 62,
     "metadata": {},
     "output_type": "execute_result"
    }
   ],
   "source": [
    "link.get_text()"
   ]
  },
  {
   "cell_type": "code",
   "execution_count": 64,
   "id": "allied-biography",
   "metadata": {},
   "outputs": [
    {
     "data": {
      "text/plain": [
       "{'href': 'https://ubfoundation.buffalo.edu/giving/?gift_allocation=01-3-0-01240',\n",
       " 'target': '_blank'}"
      ]
     },
     "execution_count": 64,
     "metadata": {},
     "output_type": "execute_result"
    }
   ],
   "source": [
    "link.attrs"
   ]
  },
  {
   "cell_type": "code",
   "execution_count": 65,
   "id": "naked-example",
   "metadata": {},
   "outputs": [
    {
     "data": {
      "text/plain": [
       "'https://ubfoundation.buffalo.edu/giving/?gift_allocation=01-3-0-01240'"
      ]
     },
     "execution_count": 65,
     "metadata": {},
     "output_type": "execute_result"
    }
   ],
   "source": [
    "link['href']"
   ]
  },
  {
   "cell_type": "code",
   "execution_count": 68,
   "id": "outstanding-appointment",
   "metadata": {},
   "outputs": [
    {
     "data": {
      "text/plain": [
       "'_blank'"
      ]
     },
     "execution_count": 68,
     "metadata": {},
     "output_type": "execute_result"
    }
   ],
   "source": [
    "link['target']"
   ]
  },
  {
   "cell_type": "code",
   "execution_count": 98,
   "id": "rural-swaziland",
   "metadata": {},
   "outputs": [
    {
     "data": {
      "text/plain": [
       "[<div class=\"htmlsnippet section\"><div><!-- Global site tag (gtag.js) - Google Analytics --><script async=\"\" src=\"https://www.googletagmanager.com/gtag/js?id=UA-127757988-27\"></script><script>\n",
       "   window.dataLayer = window.dataLayer || [];\n",
       "   function gtag(){dataLayer.push(arguments);}\n",
       "   gtag('js', new Date());\n",
       " \n",
       "   gtag('config', 'UA-127757988-27');\n",
       " </script></div></div>,\n",
       " <div><!-- Global site tag (gtag.js) - Google Analytics --><script async=\"\" src=\"https://www.googletagmanager.com/gtag/js?id=UA-127757988-27\"></script><script>\n",
       "   window.dataLayer = window.dataLayer || [];\n",
       "   function gtag(){dataLayer.push(arguments);}\n",
       "   gtag('js', new Date());\n",
       " \n",
       "   gtag('config', 'UA-127757988-27');\n",
       " </script></div>]"
      ]
     },
     "execution_count": 98,
     "metadata": {},
     "output_type": "execute_result"
    }
   ],
   "source": [
    "divs = soup.find_all('div')\n",
    "divs[-2:]"
   ]
  },
  {
   "cell_type": "code",
   "execution_count": 71,
   "id": "unique-spectacular",
   "metadata": {},
   "outputs": [
    {
     "data": {
      "text/plain": [
       "<div class=\"title section\"><h2 id=\"title-1\" onpaste=\"onPasteFilterPlainText(event)\"><a href=\"/cas/math.html\">Department of Mathematics</a></h2></div>"
      ]
     },
     "execution_count": 71,
     "metadata": {},
     "output_type": "execute_result"
    }
   ],
   "source": [
    "div1 = divs[-10]\n",
    "div1"
   ]
  },
  {
   "cell_type": "code",
   "execution_count": 74,
   "id": "known-johnson",
   "metadata": {},
   "outputs": [
    {
     "data": {
      "text/plain": [
       "<h2 id=\"title-1\" onpaste=\"onPasteFilterPlainText(event)\"><a href=\"/cas/math.html\">Department of Mathematics</a></h2>"
      ]
     },
     "execution_count": 74,
     "metadata": {},
     "output_type": "execute_result"
    }
   ],
   "source": [
    "h2 = div1.find_all('h2')\n",
    "h2 = h2[0]\n",
    "h2"
   ]
  },
  {
   "cell_type": "code",
   "execution_count": 75,
   "id": "duplicate-forth",
   "metadata": {},
   "outputs": [
    {
     "data": {
      "text/plain": [
       "[<a href=\"/cas/math.html\">Department of Mathematics</a>]"
      ]
     },
     "execution_count": 75,
     "metadata": {},
     "output_type": "execute_result"
    }
   ],
   "source": [
    "h2.find_all('a')"
   ]
  },
  {
   "cell_type": "markdown",
   "id": "constant-parish",
   "metadata": {},
   "source": [
    "### Retrieving graduate students' names and emails"
   ]
  },
  {
   "cell_type": "code",
   "execution_count": 95,
   "id": "swiss-circus",
   "metadata": {},
   "outputs": [
    {
     "data": {
      "text/plain": [
       "[<p><b>COVID-19 UPDATES  •  3/11/2021</b></p>,\n",
       " <p>UB is committed to achieving inclusive excellence in a deliberate, intentional and coordinated fashion, embedding it in every aspect of our operations. We aspire to foster a healthy, productive, ethical, fair, and affirming campus community to allow all students, faculty and staff to thrive and realize their full potential. <br/></p>,\n",
       " <p><a href=\"#letter_a\">A</a> | <a href=\"#letter_b\">B</a> | <a href=\"#letter_c\">C</a> | <a href=\"#letter_d\">D</a> | E | <a href=\"#letter_f\">F</a> | <a href=\"#letter_g\">G</a> | <a href=\"#letter_h\">H</a> | I | <a href=\"#letter_j\">J</a> | <a href=\"#letter_h\">K</a> | <a href=\"#letter_l\">L</a> | <a href=\"#letter_m\">M</a> | <a href=\"#letter_n\">N</a> | <a href=\"#letter_o\">O</a> | <a href=\"#letter_p\">P</a> | Q | <a href=\"#letter_r\">R</a> | <a href=\"#letter_s\">S</a> | <a href=\"#letter_t\">T</a> | <a href=\"#letter_u\">U</a> | <a href=\"#letter_v\">V</a> | <a href=\"#letter_w\">W</a> | <a href=\"#letter_x\">X</a> | <a href=\"#letter_y\">Y</a> | <a href=\"#letter_z\">Z</a></p>,\n",
       " <p><b>Abeya Ranasinghe Mudiyanselage, Asela V.</b><br/> Office: 138  Phone: 645-8823<br/> Email: <a href=\"mailto:aselavir@buffalo.edu\">aselavir@buffalo.edu</a></p>,\n",
       " <p><b>Ahn, Min Woong</b><br/> Office: 126  Phone: 645-8816<br/> Email: <a href=\"mailto:minwoong@buffalo.edu\">minwoong@buffalo.edu</a></p>]"
      ]
     },
     "execution_count": 95,
     "metadata": {},
     "output_type": "execute_result"
    }
   ],
   "source": [
    "ptags = soup.find_all('p')\n",
    "ptags[:5]"
   ]
  },
  {
   "cell_type": "code",
   "execution_count": 77,
   "id": "controlling-vacation",
   "metadata": {},
   "outputs": [
    {
     "data": {
      "text/plain": [
       "<p><b>Chen, Yen-Lin<br/> </b> Office: 125 Phone: 645-8815<br/> Email: <a href=\"mailto:yenlinch@buffalo.edu\">yenlinch@buffalo.edu</a><br/></p>"
      ]
     },
     "execution_count": 77,
     "metadata": {},
     "output_type": "execute_result"
    }
   ],
   "source": [
    "ptags[10]"
   ]
  },
  {
   "cell_type": "code",
   "execution_count": 78,
   "id": "alternate-commercial",
   "metadata": {},
   "outputs": [
    {
     "data": {
      "text/plain": [
       "'Chen, Yen-Lin  Office: 125 Phone: 645-8815 Email: yenlinch@buffalo.edu'"
      ]
     },
     "execution_count": 78,
     "metadata": {},
     "output_type": "execute_result"
    }
   ],
   "source": [
    "ptags[10].get_text()"
   ]
  },
  {
   "cell_type": "code",
   "execution_count": 94,
   "id": "opponent-constitution",
   "metadata": {},
   "outputs": [
    {
     "data": {
      "text/plain": [
       "[<p><b>Abeya Ranasinghe Mudiyanselage, Asela V.</b><br/> Office: 138  Phone: 645-8823<br/> Email: <a href=\"mailto:aselavir@buffalo.edu\">aselavir@buffalo.edu</a></p>,\n",
       " <p><b>Ahn, Min Woong</b><br/> Office: 126  Phone: 645-8816<br/> Email: <a href=\"mailto:minwoong@buffalo.edu\">minwoong@buffalo.edu</a></p>,\n",
       " <p><b>Alegria, Linda</b><br/> Office: 138 Phone: 645-8823<br/> Email: <a href=\"mailto:lindaale@buffalo.edu\">lindaale@buffalo.edu</a><br/></p>,\n",
       " <p><b>Betz, Katherine</b><br/> Office: 132 Phone: 645-8820<br/> Email: <a href=\"mailto:kbetz2@buffalo.edu\">kbetz2@buffalo.edu</a><br/></p>,\n",
       " <p><b>Cain Charles</b><br/> Email: <a href=\"mailto:ccain2@buffalo.edu\">ccain2@buffalo.edu</a></p>]"
      ]
     },
     "execution_count": 94,
     "metadata": {},
     "output_type": "execute_result"
    }
   ],
   "source": [
    "ptags = [p for p in ptags if \"Email\" in p.get_text()]\n",
    "ptags[:5]"
   ]
  },
  {
   "cell_type": "code",
   "execution_count": 81,
   "id": "editorial-belief",
   "metadata": {},
   "outputs": [
    {
     "data": {
      "text/plain": [
       "<p><b>Casper, Michael<br/> </b> Office: 222  Phone: 645-8779<br/> Email: <a href=\"mailto:mjcasper@buffalo.edu\">mjcasper@buffalo.edu</a></p>"
      ]
     },
     "execution_count": 81,
     "metadata": {},
     "output_type": "execute_result"
    }
   ],
   "source": [
    "p = ptags[5]\n",
    "p"
   ]
  },
  {
   "cell_type": "code",
   "execution_count": 83,
   "id": "sublime-discussion",
   "metadata": {},
   "outputs": [
    {
     "data": {
      "text/plain": [
       "'Casper, Michael '"
      ]
     },
     "execution_count": 83,
     "metadata": {},
     "output_type": "execute_result"
    }
   ],
   "source": [
    "p.find('b').get_text()"
   ]
  },
  {
   "cell_type": "code",
   "execution_count": 84,
   "id": "cognitive-reservation",
   "metadata": {},
   "outputs": [
    {
     "data": {
      "text/plain": [
       "'mjcasper@buffalo.edu'"
      ]
     },
     "execution_count": 84,
     "metadata": {},
     "output_type": "execute_result"
    }
   ],
   "source": [
    "p.find('a').get_text()"
   ]
  },
  {
   "cell_type": "code",
   "execution_count": 88,
   "id": "civil-stanford",
   "metadata": {},
   "outputs": [
    {
     "data": {
      "text/plain": [
       "'mjcasper@buffalo.edu'"
      ]
     },
     "execution_count": 88,
     "metadata": {},
     "output_type": "execute_result"
    }
   ],
   "source": [
    "p.find('a')['href'].split(\":\")[1]"
   ]
  },
  {
   "cell_type": "code",
   "execution_count": 93,
   "id": "driven-toolbox",
   "metadata": {},
   "outputs": [
    {
     "data": {
      "text/plain": [
       "[{'name': 'Abeya Ranasinghe Mudiyanselage, Asela V.',\n",
       "  'email': 'aselavir@buffalo.edu'},\n",
       " {'name': 'Ahn, Min Woong', 'email': 'minwoong@buffalo.edu'},\n",
       " {'name': 'Alegria, Linda', 'email': 'lindaale@buffalo.edu'},\n",
       " {'name': 'Betz, Katherine', 'email': 'kbetz2@buffalo.edu'},\n",
       " {'name': 'Cain Charles', 'email': 'ccain2@buffalo.edu'}]"
      ]
     },
     "execution_count": 93,
     "metadata": {},
     "output_type": "execute_result"
    }
   ],
   "source": [
    "directory = []\n",
    "for p in ptags:\n",
    "    listing = {}\n",
    "    listing[\"name\"] = p.find('b').get_text().strip()\n",
    "    listing[\"email\"] = p.find('a').get_text().strip()\n",
    "    directory.append(listing)\n",
    "directory[:5]"
   ]
  },
  {
   "cell_type": "code",
   "execution_count": 92,
   "id": "innocent-failure",
   "metadata": {},
   "outputs": [
    {
     "data": {
      "text/html": [
       "<div>\n",
       "<style scoped>\n",
       "    .dataframe tbody tr th:only-of-type {\n",
       "        vertical-align: middle;\n",
       "    }\n",
       "\n",
       "    .dataframe tbody tr th {\n",
       "        vertical-align: top;\n",
       "    }\n",
       "\n",
       "    .dataframe thead th {\n",
       "        text-align: right;\n",
       "    }\n",
       "</style>\n",
       "<table border=\"1\" class=\"dataframe\">\n",
       "  <thead>\n",
       "    <tr style=\"text-align: right;\">\n",
       "      <th></th>\n",
       "      <th>name</th>\n",
       "      <th>email</th>\n",
       "    </tr>\n",
       "  </thead>\n",
       "  <tbody>\n",
       "    <tr>\n",
       "      <th>0</th>\n",
       "      <td>Abeya Ranasinghe Mudiyanselage, Asela V.</td>\n",
       "      <td>aselavir@buffalo.edu</td>\n",
       "    </tr>\n",
       "    <tr>\n",
       "      <th>1</th>\n",
       "      <td>Ahn, Min Woong</td>\n",
       "      <td>minwoong@buffalo.edu</td>\n",
       "    </tr>\n",
       "    <tr>\n",
       "      <th>2</th>\n",
       "      <td>Alegria, Linda</td>\n",
       "      <td>lindaale@buffalo.edu</td>\n",
       "    </tr>\n",
       "    <tr>\n",
       "      <th>3</th>\n",
       "      <td>Betz, Katherine</td>\n",
       "      <td>kbetz2@buffalo.edu</td>\n",
       "    </tr>\n",
       "    <tr>\n",
       "      <th>4</th>\n",
       "      <td>Cain Charles</td>\n",
       "      <td>ccain2@buffalo.edu</td>\n",
       "    </tr>\n",
       "  </tbody>\n",
       "</table>\n",
       "</div>"
      ],
      "text/plain": [
       "                                       name                 email\n",
       "0  Abeya Ranasinghe Mudiyanselage, Asela V.  aselavir@buffalo.edu\n",
       "1                            Ahn, Min Woong  minwoong@buffalo.edu\n",
       "2                            Alegria, Linda  lindaale@buffalo.edu\n",
       "3                           Betz, Katherine    kbetz2@buffalo.edu\n",
       "4                              Cain Charles    ccain2@buffalo.edu"
      ]
     },
     "execution_count": 92,
     "metadata": {},
     "output_type": "execute_result"
    }
   ],
   "source": [
    "import pandas as pd\n",
    "\n",
    "df = pd.DataFrame(directory)\n",
    "df.head(5)"
   ]
  },
  {
   "cell_type": "markdown",
   "id": "hungarian-animation",
   "metadata": {},
   "source": [
    "## Faculty Page"
   ]
  },
  {
   "cell_type": "code",
   "execution_count": 117,
   "id": "offshore-adaptation",
   "metadata": {},
   "outputs": [],
   "source": [
    "import requests\n",
    "from bs4 import BeautifulSoup\n",
    "\n",
    "faculty_url = \"http://www.buffalo.edu/cas/math/people/faculty.html\"\n",
    "r = requests.get(faculty_url)"
   ]
  },
  {
   "cell_type": "code",
   "execution_count": 119,
   "id": "taken-notification",
   "metadata": {
    "scrolled": false
   },
   "outputs": [],
   "source": [
    "faculty = BeautifulSoup(r.text)"
   ]
  },
  {
   "cell_type": "code",
   "execution_count": 143,
   "id": "laughing-messenger",
   "metadata": {},
   "outputs": [
    {
     "name": "stdout",
     "output_type": "stream",
     "text": [
      "<!DOCTYPE HTML>\n",
      "<html class=\"ubcms-65\" lang=\"en\">\n",
      " <!-- cmspub01 0318-124949 -->\n",
      " <head>\n",
      "  <meta content=\"IE=edge\" http-equiv=\"X-UA-Compatible\"/>\n",
      "  <meta content=\"text/html; charset=utf-8\" http-equiv=\"content-type\"/>\n",
      "  <meta content=\"width=device-width,initial-scale=1\" id=\"meta-viewport\" name=\"viewport\"/>\n",
      "  <script>\n",
      "   if (screen.width > 720 && screen.width < 960) document.getElementById('meta-viewport').setAttribute('content','width=960');\n",
      "  </script>\n",
      "  <script>\n",
      "   (function(w,d,s,l,i){w[l]=w[l]||[];w[l].push({'gtm.start':new Date().getTime(),event:'gtm.js'});var f=d.getElementsByTagName(s)[0],j=d.createElement(s),dl=l!='dataLayer'?'&l='+l:'';j.async=true;j.src='https://www.googletagmanager.com/gtm.js?id='+i+dl;f.parentNode.insertBefore(j,f);})(window,document,'script','dataLayer','GTM-T5KRRKT');\n",
      "  </script>\n",
      "  <title>\n",
      "   Faculty - Department of Mathematics - University at Buffalo\n",
      "  </title>\n",
      "  <link href=\"http://www.buffalo.edu/cas/math/people/faculty.html\" rel=\"canonical\"/>\n",
      "  <meta co\n"
     ]
    }
   ],
   "source": [
    "print(faculty.prettify()[:1000])"
   ]
  },
  {
   "cell_type": "code",
   "execution_count": 122,
   "id": "widespread-median",
   "metadata": {},
   "outputs": [
    {
     "data": {
      "text/plain": [
       "1052"
      ]
     },
     "execution_count": 122,
     "metadata": {},
     "output_type": "execute_result"
    }
   ],
   "source": [
    "len(faculty.find_all('div'))"
   ]
  },
  {
   "cell_type": "code",
   "execution_count": 125,
   "id": "adjusted-water",
   "metadata": {},
   "outputs": [
    {
     "data": {
      "text/plain": [
       "[<a href=\"//www.buffalo.edu\">UB Home</a>,\n",
       " <a href=\"//www.buffalo.edu\"> <i class=\"icon icon-ub-logo\"></i><span class=\"ada-hidden\">University at Buffalo</span> <span class=\"logo\"> <img alt=\"\" class=\"black\" height=\"20\" src=\"/v-be9166b6b4a1ea7e5771e2eba1d410cf/etc.clientlibs/wci/components/block/header/clientlibs/resources/ub-logo-black.png\" width=\"181\"/> </span> </a>]"
      ]
     },
     "execution_count": 125,
     "metadata": {},
     "output_type": "execute_result"
    }
   ],
   "source": [
    "faculty.find_all('a', href=\"//www.buffalo.edu\")"
   ]
  },
  {
   "cell_type": "code",
   "execution_count": 126,
   "id": "mexican-queens",
   "metadata": {},
   "outputs": [],
   "source": [
    "divs = faculty.find_all(\"div\", class_=\"profileinfo-teaser\")"
   ]
  },
  {
   "cell_type": "code",
   "execution_count": 127,
   "id": "boxed-violation",
   "metadata": {},
   "outputs": [
    {
     "data": {
      "text/plain": [
       "54"
      ]
     },
     "execution_count": 127,
     "metadata": {},
     "output_type": "execute_result"
    }
   ],
   "source": [
    "len(divs)"
   ]
  },
  {
   "cell_type": "code",
   "execution_count": 128,
   "id": "extended-replica",
   "metadata": {},
   "outputs": [
    {
     "data": {
      "text/plain": [
       "<div class=\"profileinfo-teaser\"><div class=\"profileinfo-teaser-photo\"><noscript><picture><img alt=\"Gino Biondini. \" class=\"img-60 img-60x60 cq-dd-image\" height=\"60\" src=\"/content/shared/cas/math/faculty/biondini/_jcr_content/profileinfo.img.60.60.z.jpg/1600442809023.jpg\" srcset=\"/content/shared/cas/math/faculty/biondini/jcr:content/profileinfo.img.120.120.z.q65.jpg/1600442809023.jpg 2x\" width=\"60\"/></picture></noscript><picture class=\"no-display\"><img alt=\"Gino Biondini. \" class=\"img-60 img-60x60 cq-dd-image lazyload\" data-src=\"/content/shared/cas/math/faculty/biondini/jcr%3acontent/profileinfo.img.60.60.z.jpg/1600442809023.jpg\" data-srcset=\"/content/shared/cas/math/faculty/biondini/jcr:content/profileinfo.img.120.120.z.q65.jpg/1600442809023.jpg 2x\" height=\"60\" src=\"data:image/gif;base64,R0lGODlhAQABAIAAAAAAAP///yH5BAEAAAAALAAAAAABAAEAAAIBRAA7\" width=\"60\"/></picture><script>jQuery('picture.no-display').removeClass('no-display');</script></div><div class=\"profileinfo-teaser-name\"><a class=\"title\" href=\"/cas/math/people/faculty.host.html/content/shared/cas/math/faculty/biondini.html\"> <b>Gino Biondini<span>,</span></b><small> PhD</small> </a><div class=\"profileinfo-teaser-degree\">PhD, Theoretical Physics, University of Perugia, Italy</div></div><div class=\"profileinfo-teaser-info\"><div class=\"profileinfo-teaser-contact hide-in-narrow\"><p>226 &amp; 324 Mathematics Building</p><p>UB North Campus</p><p>Phone: (716) 645-8810</p><p>Fax: (716) 645 5039</p><p><a class=\"longtext\" href=\"mailto:biondini@buffalo.edu\">biondini@buffalo.edu</a></p></div><div class=\"profileinfo-teaser-professional\"><div class=\"profileinfo-teaser-titles\"><div><div class=\"profileinfo-teaser-school-title\">Professor &amp; Department Chair</div><div class=\"profileinfo-teaser-school-name\">Department of Mathematics</div></div></div></div><div class=\"profileinfo-teaser-alt-contact\"><div class=\"profileinfo-teaser-mobile-contact hide-in-wide buttoncomponent green\"><a class=\"profileinfo-teaser-btn-white\" href=\"tel:(716)%20645-8810\">Call<span class=\"ada-hidden\"> Gino Biondini</span></a> <a class=\"profileinfo-teaser-btn-white\" href=\"mailto:biondini@buffalo.edu\">Email<span class=\"ada-hidden\"> Gino Biondini</span></a> <a href=\"/cas/math/people/faculty.host.html/content/shared/cas/math/faculty/biondini.html\">Profile<span class=\"ada-hidden\"> for Gino Biondini</span></a></div><div class=\"profileinfo-teaser-3col-contact hide-in-narrow\"><p>226 &amp; 324 Mathematics Building</p><p>UB North Campus</p><p>Phone: (716) 645-8810</p><p>Fax: (716) 645 5039</p><p><a class=\"longtext\" href=\"mailto:biondini@buffalo.edu\">biondini@buffalo.edu</a></p></div></div></div><div class=\"clearfix\"></div></div>"
      ]
     },
     "execution_count": 128,
     "metadata": {},
     "output_type": "execute_result"
    }
   ],
   "source": [
    "d = divs[0]\n",
    "d"
   ]
  },
  {
   "cell_type": "code",
   "execution_count": 131,
   "id": "small-preview",
   "metadata": {},
   "outputs": [
    {
     "data": {
      "text/plain": [
       "'Gino Biondini'"
      ]
     },
     "execution_count": 131,
     "metadata": {},
     "output_type": "execute_result"
    }
   ],
   "source": [
    "d.find('b').get_text()[:-1]"
   ]
  },
  {
   "cell_type": "code",
   "execution_count": 134,
   "id": "accredited-niger",
   "metadata": {},
   "outputs": [
    {
     "data": {
      "text/plain": [
       "<div class=\"profileinfo-teaser-contact hide-in-narrow\"><p>226 &amp; 324 Mathematics Building</p><p>UB North Campus</p><p>Phone: (716) 645-8810</p><p>Fax: (716) 645 5039</p><p><a class=\"longtext\" href=\"mailto:biondini@buffalo.edu\">biondini@buffalo.edu</a></p></div>"
      ]
     },
     "execution_count": 134,
     "metadata": {},
     "output_type": "execute_result"
    }
   ],
   "source": [
    "contact = d.find('div', class_=\"profileinfo-teaser-contact hide-in-narrow\")\n",
    "contact"
   ]
  },
  {
   "cell_type": "code",
   "execution_count": 135,
   "id": "occasional-subscriber",
   "metadata": {},
   "outputs": [
    {
     "data": {
      "text/plain": [
       "[<p>226 &amp; 324 Mathematics Building</p>,\n",
       " <p>UB North Campus</p>,\n",
       " <p>Phone: (716) 645-8810</p>,\n",
       " <p>Fax: (716) 645 5039</p>,\n",
       " <p><a class=\"longtext\" href=\"mailto:biondini@buffalo.edu\">biondini@buffalo.edu</a></p>]"
      ]
     },
     "execution_count": 135,
     "metadata": {},
     "output_type": "execute_result"
    }
   ],
   "source": [
    "contact.find_all('p')"
   ]
  },
  {
   "cell_type": "code",
   "execution_count": 138,
   "id": "particular-stadium",
   "metadata": {},
   "outputs": [
    {
     "name": "stdout",
     "output_type": "stream",
     "text": [
      "226 & 324 Mathematics Building\n",
      "UB North Campus\n",
      "Phone: (716) 645-8810\n",
      "Fax: (716) 645 5039\n",
      "biondini@buffalo.edu\n"
     ]
    }
   ],
   "source": [
    "print(\"\\n\".join([p.get_text() for p in contact.find_all('p')]))"
   ]
  },
  {
   "cell_type": "code",
   "execution_count": 144,
   "id": "drawn-cincinnati",
   "metadata": {},
   "outputs": [
    {
     "name": "stdout",
     "output_type": "stream",
     "text": [
      "Gino Biondini\n",
      "226 & 324 Mathematics Building\n",
      "UB North Campus\n",
      "Phone: (716) 645-8810\n",
      "Fax: (716) 645 5039\n",
      "biondini@buffalo.edu\n",
      "\n",
      "\n",
      "John Ringland\n",
      "206 Mathematics Building\n",
      "UB North Campus\n",
      "Phone: (716) 645-8778\n",
      "Fax: (716) 645-5039\n",
      "ringland@buffalo.edu\n",
      "\n",
      "\n",
      "Joseph Hundley\n",
      "203 & 232 Mathematics Building\n",
      "UB North Campus\n",
      "Phone: (716) 645-8771 & (716) 645-8784\n",
      "Fax: (716) 645-5039\n",
      "jahundle@buffalo.edu\n",
      "\n",
      "\n",
      "Yiqiang Li\n",
      "212 & 230 Mathematics Building\n",
      "UB North Campus\n",
      "Phone: (716) 645-8830 (Jenny Russell, 716-645-8782)\n",
      "Fax: (716) 645-5039\n",
      "gsdmath@buffalo.edu\n",
      "\n",
      "\n",
      "Rupam Acharya\n",
      "313 Mathematics Building\n",
      "UB North Campus\n",
      "Phone: (716) 645-8804\n",
      "Fax: (716) 645-5039\n",
      "rupamach@buffalo.edu\n",
      "\n",
      "\n"
     ]
    }
   ],
   "source": [
    "for d in divs[:5]:\n",
    "    print(d.find('b').get_text()[:-1])\n",
    "    contact = d.find('div', class_=\"profileinfo-teaser-contact hide-in-narrow\")\n",
    "    print(\"\\n\".join([p.get_text() for p in contact.find_all('p')]))\n",
    "    print(\"\\n\")"
   ]
  },
  {
   "cell_type": "code",
   "execution_count": 142,
   "id": "negative-encyclopedia",
   "metadata": {},
   "outputs": [
    {
     "name": "stdout",
     "output_type": "stream",
     "text": [
      "0\n",
      "1\n",
      "2\n",
      "3\n",
      "4\n",
      "5\n",
      "6\n",
      "7\n",
      "8\n",
      "9\n"
     ]
    }
   ],
   "source": [
    "from time import sleep\n",
    "\n",
    "for i in range(10):\n",
    "    print(i)\n",
    "    sleep(2)"
   ]
  }
 ],
 "metadata": {
  "kernelspec": {
   "display_name": "Python 3",
   "language": "python",
   "name": "python3"
  },
  "language_info": {
   "codemirror_mode": {
    "name": "ipython",
    "version": 3
   },
   "file_extension": ".py",
   "mimetype": "text/x-python",
   "name": "python",
   "nbconvert_exporter": "python",
   "pygments_lexer": "ipython3",
   "version": "3.8.5"
  }
 },
 "nbformat": 4,
 "nbformat_minor": 5
}
