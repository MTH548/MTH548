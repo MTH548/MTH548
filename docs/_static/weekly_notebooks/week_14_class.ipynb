{
 "cells": [
  {
   "cell_type": "markdown",
   "id": "automated-peter",
   "metadata": {},
   "source": [
    "## Week 14"
   ]
  },
  {
   "cell_type": "code",
   "execution_count": 2,
   "id": "final-particular",
   "metadata": {},
   "outputs": [],
   "source": [
    "%load_ext sql"
   ]
  },
  {
   "cell_type": "code",
   "execution_count": 3,
   "id": "israeli-floor",
   "metadata": {},
   "outputs": [],
   "source": [
    "%%sql\n",
    "sqlite:///courses_data.sqlite"
   ]
  },
  {
   "cell_type": "code",
   "execution_count": 4,
   "id": "sustained-liver",
   "metadata": {},
   "outputs": [
    {
     "name": "stdout",
     "output_type": "stream",
     "text": [
      " * sqlite:///courses_data.sqlite\n",
      "Done.\n"
     ]
    },
    {
     "data": {
      "text/html": [
       "<table>\n",
       "    <tr>\n",
       "        <th>type</th>\n",
       "        <th>name</th>\n",
       "        <th>tbl_name</th>\n",
       "        <th>rootpage</th>\n",
       "        <th>sql</th>\n",
       "    </tr>\n",
       "    <tr>\n",
       "        <td>table</td>\n",
       "        <td>students</td>\n",
       "        <td>students</td>\n",
       "        <td>2</td>\n",
       "        <td>CREATE TABLE students (<br>\tstudent_id INTEGER, <br>\tfirst_name TEXT, <br>\tlast_name TEXT, <br>\tmajor TEXT<br>)</td>\n",
       "    </tr>\n",
       "    <tr>\n",
       "        <td>table</td>\n",
       "        <td>mth141</td>\n",
       "        <td>mth141</td>\n",
       "        <td>3</td>\n",
       "        <td>CREATE TABLE mth141 (<br>\tstudent_id INTEGER, <br>\tgrade TEXT<br>)</td>\n",
       "    </tr>\n",
       "    <tr>\n",
       "        <td>table</td>\n",
       "        <td>eng101</td>\n",
       "        <td>eng101</td>\n",
       "        <td>4</td>\n",
       "        <td>CREATE TABLE eng101 (<br>\tstudent_id INTEGER, <br>\tgrade TEXT<br>)</td>\n",
       "    </tr>\n",
       "</table>"
      ],
      "text/plain": [
       "[('table', 'students', 'students', 2, 'CREATE TABLE students (\\n\\tstudent_id INTEGER, \\n\\tfirst_name TEXT, \\n\\tlast_name TEXT, \\n\\tmajor TEXT\\n)'),\n",
       " ('table', 'mth141', 'mth141', 3, 'CREATE TABLE mth141 (\\n\\tstudent_id INTEGER, \\n\\tgrade TEXT\\n)'),\n",
       " ('table', 'eng101', 'eng101', 4, 'CREATE TABLE eng101 (\\n\\tstudent_id INTEGER, \\n\\tgrade TEXT\\n)')]"
      ]
     },
     "execution_count": 4,
     "metadata": {},
     "output_type": "execute_result"
    }
   ],
   "source": [
    "%%sql\n",
    "SELECT * \n",
    "FROM sqlite_master;"
   ]
  },
  {
   "cell_type": "code",
   "execution_count": 5,
   "id": "billion-macro",
   "metadata": {},
   "outputs": [
    {
     "name": "stdout",
     "output_type": "stream",
     "text": [
      " * sqlite:///courses_data.sqlite\n",
      "Done.\n"
     ]
    },
    {
     "data": {
      "text/html": [
       "<table>\n",
       "    <tr>\n",
       "        <th>student_id</th>\n",
       "        <th>first_name</th>\n",
       "        <th>last_name</th>\n",
       "        <th>major</th>\n",
       "    </tr>\n",
       "    <tr>\n",
       "        <td>196</td>\n",
       "        <td>Rosina</td>\n",
       "        <td>Hovey</td>\n",
       "        <td>biology</td>\n",
       "    </tr>\n",
       "    <tr>\n",
       "        <td>165</td>\n",
       "        <td>Stanton</td>\n",
       "        <td>Mcgaugh</td>\n",
       "        <td>biology</td>\n",
       "    </tr>\n",
       "    <tr>\n",
       "        <td>123</td>\n",
       "        <td>Jonnie</td>\n",
       "        <td>Hillock</td>\n",
       "        <td>mathematics</td>\n",
       "    </tr>\n",
       "    <tr>\n",
       "        <td>136</td>\n",
       "        <td>Chu</td>\n",
       "        <td>Flax</td>\n",
       "        <td>mathematics</td>\n",
       "    </tr>\n",
       "    <tr>\n",
       "        <td>122</td>\n",
       "        <td>Rosalinda</td>\n",
       "        <td>Trippe</td>\n",
       "        <td>biology</td>\n",
       "    </tr>\n",
       "</table>"
      ],
      "text/plain": [
       "[(196, 'Rosina', 'Hovey', 'biology'),\n",
       " (165, 'Stanton', 'Mcgaugh', 'biology'),\n",
       " (123, 'Jonnie', 'Hillock', 'mathematics'),\n",
       " (136, 'Chu', 'Flax', 'mathematics'),\n",
       " (122, 'Rosalinda', 'Trippe', 'biology')]"
      ]
     },
     "execution_count": 5,
     "metadata": {},
     "output_type": "execute_result"
    }
   ],
   "source": [
    "%%sql\n",
    "SELECT * \n",
    "FROM students\n",
    "LIMIT 5"
   ]
  },
  {
   "cell_type": "code",
   "execution_count": 6,
   "id": "extended-grave",
   "metadata": {},
   "outputs": [
    {
     "name": "stdout",
     "output_type": "stream",
     "text": [
      " * sqlite:///courses_data.sqlite\n",
      "Done.\n"
     ]
    },
    {
     "data": {
      "text/html": [
       "<table>\n",
       "    <tr>\n",
       "        <th>student_id</th>\n",
       "        <th>grade</th>\n",
       "    </tr>\n",
       "    <tr>\n",
       "        <td>122</td>\n",
       "        <td>A</td>\n",
       "    </tr>\n",
       "    <tr>\n",
       "        <td>109</td>\n",
       "        <td>C</td>\n",
       "    </tr>\n",
       "    <tr>\n",
       "        <td>127</td>\n",
       "        <td>A</td>\n",
       "    </tr>\n",
       "    <tr>\n",
       "        <td>140</td>\n",
       "        <td>F</td>\n",
       "    </tr>\n",
       "    <tr>\n",
       "        <td>145</td>\n",
       "        <td>C</td>\n",
       "    </tr>\n",
       "    <tr>\n",
       "        <td>157</td>\n",
       "        <td>F</td>\n",
       "    </tr>\n",
       "    <tr>\n",
       "        <td>188</td>\n",
       "        <td>C</td>\n",
       "    </tr>\n",
       "</table>"
      ],
      "text/plain": [
       "[(122, 'A'),\n",
       " (109, 'C'),\n",
       " (127, 'A'),\n",
       " (140, 'F'),\n",
       " (145, 'C'),\n",
       " (157, 'F'),\n",
       " (188, 'C')]"
      ]
     },
     "execution_count": 6,
     "metadata": {},
     "output_type": "execute_result"
    }
   ],
   "source": [
    "%%sql \n",
    "SELECT * \n",
    "FROM mth141"
   ]
  },
  {
   "cell_type": "code",
   "execution_count": 7,
   "id": "false-acoustic",
   "metadata": {},
   "outputs": [
    {
     "name": "stdout",
     "output_type": "stream",
     "text": [
      " * sqlite:///courses_data.sqlite\n",
      "Done.\n"
     ]
    },
    {
     "data": {
      "text/html": [
       "<table>\n",
       "    <tr>\n",
       "        <th>student_id</th>\n",
       "        <th>grade</th>\n",
       "    </tr>\n",
       "    <tr>\n",
       "        <td>165</td>\n",
       "        <td>F</td>\n",
       "    </tr>\n",
       "    <tr>\n",
       "        <td>123</td>\n",
       "        <td>C</td>\n",
       "    </tr>\n",
       "    <tr>\n",
       "        <td>122</td>\n",
       "        <td>A</td>\n",
       "    </tr>\n",
       "    <tr>\n",
       "        <td>189</td>\n",
       "        <td>A</td>\n",
       "    </tr>\n",
       "    <tr>\n",
       "        <td>140</td>\n",
       "        <td>D</td>\n",
       "    </tr>\n",
       "    <tr>\n",
       "        <td>188</td>\n",
       "        <td>A</td>\n",
       "    </tr>\n",
       "</table>"
      ],
      "text/plain": [
       "[(165, 'F'), (123, 'C'), (122, 'A'), (189, 'A'), (140, 'D'), (188, 'A')]"
      ]
     },
     "execution_count": 7,
     "metadata": {},
     "output_type": "execute_result"
    }
   ],
   "source": [
    "%%sql \n",
    "SELECT * \n",
    "FROM eng101"
   ]
  },
  {
   "cell_type": "markdown",
   "id": "completed-relaxation",
   "metadata": {},
   "source": [
    "## INNER JOIN"
   ]
  },
  {
   "cell_type": "code",
   "execution_count": 13,
   "id": "narrative-badge",
   "metadata": {},
   "outputs": [
    {
     "name": "stdout",
     "output_type": "stream",
     "text": [
      " * sqlite:///courses_data.sqlite\n",
      "Done.\n"
     ]
    },
    {
     "data": {
      "text/html": [
       "<table>\n",
       "    <tr>\n",
       "        <th>student_id</th>\n",
       "        <th>mth141_grade</th>\n",
       "        <th>eng101_grade</th>\n",
       "    </tr>\n",
       "    <tr>\n",
       "        <td>122</td>\n",
       "        <td>A</td>\n",
       "        <td>A</td>\n",
       "    </tr>\n",
       "    <tr>\n",
       "        <td>140</td>\n",
       "        <td>F</td>\n",
       "        <td>D</td>\n",
       "    </tr>\n",
       "    <tr>\n",
       "        <td>188</td>\n",
       "        <td>C</td>\n",
       "        <td>A</td>\n",
       "    </tr>\n",
       "</table>"
      ],
      "text/plain": [
       "[(122, 'A', 'A'), (140, 'F', 'D'), (188, 'C', 'A')]"
      ]
     },
     "execution_count": 13,
     "metadata": {},
     "output_type": "execute_result"
    }
   ],
   "source": [
    "%%sql\n",
    "SELECT \n",
    "    m.student_id, \n",
    "    m.grade AS mth141_grade,\n",
    "    e.grade AS eng101_grade\n",
    "FROM mth141 AS m INNER JOIN eng101 AS e\n",
    "ON m.student_id = e.student_id"
   ]
  },
  {
   "cell_type": "markdown",
   "id": "standard-scoop",
   "metadata": {},
   "source": [
    "## LEFT JOIN"
   ]
  },
  {
   "cell_type": "code",
   "execution_count": 14,
   "id": "arabic-injection",
   "metadata": {},
   "outputs": [
    {
     "name": "stdout",
     "output_type": "stream",
     "text": [
      " * sqlite:///courses_data.sqlite\n",
      "Done.\n"
     ]
    },
    {
     "data": {
      "text/html": [
       "<table>\n",
       "    <tr>\n",
       "        <th>student_id</th>\n",
       "        <th>mth141_grade</th>\n",
       "        <th>eng101_grade</th>\n",
       "    </tr>\n",
       "    <tr>\n",
       "        <td>122</td>\n",
       "        <td>A</td>\n",
       "        <td>A</td>\n",
       "    </tr>\n",
       "    <tr>\n",
       "        <td>109</td>\n",
       "        <td>C</td>\n",
       "        <td>None</td>\n",
       "    </tr>\n",
       "    <tr>\n",
       "        <td>127</td>\n",
       "        <td>A</td>\n",
       "        <td>None</td>\n",
       "    </tr>\n",
       "    <tr>\n",
       "        <td>140</td>\n",
       "        <td>F</td>\n",
       "        <td>D</td>\n",
       "    </tr>\n",
       "    <tr>\n",
       "        <td>145</td>\n",
       "        <td>C</td>\n",
       "        <td>None</td>\n",
       "    </tr>\n",
       "    <tr>\n",
       "        <td>157</td>\n",
       "        <td>F</td>\n",
       "        <td>None</td>\n",
       "    </tr>\n",
       "    <tr>\n",
       "        <td>188</td>\n",
       "        <td>C</td>\n",
       "        <td>A</td>\n",
       "    </tr>\n",
       "</table>"
      ],
      "text/plain": [
       "[(122, 'A', 'A'),\n",
       " (109, 'C', None),\n",
       " (127, 'A', None),\n",
       " (140, 'F', 'D'),\n",
       " (145, 'C', None),\n",
       " (157, 'F', None),\n",
       " (188, 'C', 'A')]"
      ]
     },
     "execution_count": 14,
     "metadata": {},
     "output_type": "execute_result"
    }
   ],
   "source": [
    "%%sql\n",
    "SELECT \n",
    "    m.student_id, \n",
    "    m.grade AS mth141_grade,\n",
    "    e.grade AS eng101_grade\n",
    "FROM mth141 AS m LEFT JOIN eng101 AS e\n",
    "ON m.student_id = e.student_id"
   ]
  },
  {
   "cell_type": "markdown",
   "id": "naval-sponsorship",
   "metadata": {},
   "source": [
    "## Simulated RIGHT JOIN"
   ]
  },
  {
   "cell_type": "code",
   "execution_count": 15,
   "id": "classified-brick",
   "metadata": {},
   "outputs": [
    {
     "name": "stdout",
     "output_type": "stream",
     "text": [
      " * sqlite:///courses_data.sqlite\n",
      "Done.\n"
     ]
    },
    {
     "data": {
      "text/html": [
       "<table>\n",
       "    <tr>\n",
       "        <th>student_id</th>\n",
       "        <th>mth141_grade</th>\n",
       "        <th>eng101_grade</th>\n",
       "    </tr>\n",
       "    <tr>\n",
       "        <td>165</td>\n",
       "        <td>None</td>\n",
       "        <td>F</td>\n",
       "    </tr>\n",
       "    <tr>\n",
       "        <td>123</td>\n",
       "        <td>None</td>\n",
       "        <td>C</td>\n",
       "    </tr>\n",
       "    <tr>\n",
       "        <td>122</td>\n",
       "        <td>A</td>\n",
       "        <td>A</td>\n",
       "    </tr>\n",
       "    <tr>\n",
       "        <td>189</td>\n",
       "        <td>None</td>\n",
       "        <td>A</td>\n",
       "    </tr>\n",
       "    <tr>\n",
       "        <td>140</td>\n",
       "        <td>F</td>\n",
       "        <td>D</td>\n",
       "    </tr>\n",
       "    <tr>\n",
       "        <td>188</td>\n",
       "        <td>C</td>\n",
       "        <td>A</td>\n",
       "    </tr>\n",
       "</table>"
      ],
      "text/plain": [
       "[(165, None, 'F'),\n",
       " (123, None, 'C'),\n",
       " (122, 'A', 'A'),\n",
       " (189, None, 'A'),\n",
       " (140, 'F', 'D'),\n",
       " (188, 'C', 'A')]"
      ]
     },
     "execution_count": 15,
     "metadata": {},
     "output_type": "execute_result"
    }
   ],
   "source": [
    "%%sql\n",
    "SELECT \n",
    "    e.student_id, \n",
    "    m.grade AS mth141_grade,\n",
    "    e.grade AS eng101_grade\n",
    "FROM eng101 AS e  LEFT JOIN mth141 AS m\n",
    "ON m.student_id = e.student_id"
   ]
  },
  {
   "cell_type": "markdown",
   "id": "mineral-arizona",
   "metadata": {},
   "source": [
    "## Simulated FULL OUTER JOIN"
   ]
  },
  {
   "cell_type": "code",
   "execution_count": 21,
   "id": "primary-pointer",
   "metadata": {},
   "outputs": [
    {
     "name": "stdout",
     "output_type": "stream",
     "text": [
      " * sqlite:///courses_data.sqlite\n",
      "Done.\n"
     ]
    },
    {
     "data": {
      "text/html": [
       "<table>\n",
       "    <tr>\n",
       "        <th>student_id</th>\n",
       "        <th>mth141_grade</th>\n",
       "        <th>eng101_grade</th>\n",
       "    </tr>\n",
       "    <tr>\n",
       "        <td>109</td>\n",
       "        <td>C</td>\n",
       "        <td>None</td>\n",
       "    </tr>\n",
       "    <tr>\n",
       "        <td>122</td>\n",
       "        <td>A</td>\n",
       "        <td>A</td>\n",
       "    </tr>\n",
       "    <tr>\n",
       "        <td>123</td>\n",
       "        <td>None</td>\n",
       "        <td>C</td>\n",
       "    </tr>\n",
       "    <tr>\n",
       "        <td>127</td>\n",
       "        <td>A</td>\n",
       "        <td>None</td>\n",
       "    </tr>\n",
       "    <tr>\n",
       "        <td>140</td>\n",
       "        <td>F</td>\n",
       "        <td>D</td>\n",
       "    </tr>\n",
       "    <tr>\n",
       "        <td>145</td>\n",
       "        <td>C</td>\n",
       "        <td>None</td>\n",
       "    </tr>\n",
       "    <tr>\n",
       "        <td>157</td>\n",
       "        <td>F</td>\n",
       "        <td>None</td>\n",
       "    </tr>\n",
       "    <tr>\n",
       "        <td>165</td>\n",
       "        <td>None</td>\n",
       "        <td>F</td>\n",
       "    </tr>\n",
       "    <tr>\n",
       "        <td>188</td>\n",
       "        <td>C</td>\n",
       "        <td>A</td>\n",
       "    </tr>\n",
       "    <tr>\n",
       "        <td>189</td>\n",
       "        <td>None</td>\n",
       "        <td>A</td>\n",
       "    </tr>\n",
       "</table>"
      ],
      "text/plain": [
       "[(109, 'C', None),\n",
       " (122, 'A', 'A'),\n",
       " (123, None, 'C'),\n",
       " (127, 'A', None),\n",
       " (140, 'F', 'D'),\n",
       " (145, 'C', None),\n",
       " (157, 'F', None),\n",
       " (165, None, 'F'),\n",
       " (188, 'C', 'A'),\n",
       " (189, None, 'A')]"
      ]
     },
     "execution_count": 21,
     "metadata": {},
     "output_type": "execute_result"
    }
   ],
   "source": [
    "%%sql \n",
    "SELECT \n",
    "    m.student_id, \n",
    "    m.grade AS mth141_grade,\n",
    "    e.grade AS eng101_grade\n",
    "FROM mth141 AS m LEFT JOIN eng101 AS e\n",
    "ON m.student_id = e.student_id\n",
    "UNION \n",
    "SELECT \n",
    "    e.student_id, \n",
    "    m.grade AS mth141_grade,\n",
    "    e.grade AS eng101_grade\n",
    "FROM eng101 AS e  LEFT JOIN mth141 AS m\n",
    "ON m.student_id = e.student_id"
   ]
  },
  {
   "cell_type": "markdown",
   "id": "greatest-plaintiff",
   "metadata": {},
   "source": [
    "## More complex queries"
   ]
  },
  {
   "cell_type": "code",
   "execution_count": 24,
   "id": "unlike-attention",
   "metadata": {},
   "outputs": [
    {
     "name": "stdout",
     "output_type": "stream",
     "text": [
      " * sqlite:///courses_data.sqlite\n",
      "Done.\n"
     ]
    },
    {
     "data": {
      "text/html": [
       "<table>\n",
       "    <tr>\n",
       "        <th>student_id</th>\n",
       "        <th>first_name</th>\n",
       "        <th>last_name</th>\n",
       "        <th>major</th>\n",
       "        <th>mth141_grade</th>\n",
       "        <th>eng101_grade</th>\n",
       "    </tr>\n",
       "    <tr>\n",
       "        <td>165</td>\n",
       "        <td>Stanton</td>\n",
       "        <td>Mcgaugh</td>\n",
       "        <td>biology</td>\n",
       "        <td>None</td>\n",
       "        <td>F</td>\n",
       "    </tr>\n",
       "    <tr>\n",
       "        <td>123</td>\n",
       "        <td>Jonnie</td>\n",
       "        <td>Hillock</td>\n",
       "        <td>mathematics</td>\n",
       "        <td>None</td>\n",
       "        <td>C</td>\n",
       "    </tr>\n",
       "    <tr>\n",
       "        <td>122</td>\n",
       "        <td>Rosalinda</td>\n",
       "        <td>Trippe</td>\n",
       "        <td>biology</td>\n",
       "        <td>A</td>\n",
       "        <td>A</td>\n",
       "    </tr>\n",
       "    <tr>\n",
       "        <td>109</td>\n",
       "        <td>Shawnna</td>\n",
       "        <td>Coate</td>\n",
       "        <td>mathematics</td>\n",
       "        <td>C</td>\n",
       "        <td>None</td>\n",
       "    </tr>\n",
       "    <tr>\n",
       "        <td>189</td>\n",
       "        <td>Marcia</td>\n",
       "        <td>Hinkel</td>\n",
       "        <td>mathematics</td>\n",
       "        <td>None</td>\n",
       "        <td>A</td>\n",
       "    </tr>\n",
       "    <tr>\n",
       "        <td>127</td>\n",
       "        <td>Adelina</td>\n",
       "        <td>Brummitt</td>\n",
       "        <td>biology</td>\n",
       "        <td>A</td>\n",
       "        <td>None</td>\n",
       "    </tr>\n",
       "    <tr>\n",
       "        <td>140</td>\n",
       "        <td>Ludivina</td>\n",
       "        <td>Hoskin</td>\n",
       "        <td>computer science</td>\n",
       "        <td>F</td>\n",
       "        <td>D</td>\n",
       "    </tr>\n",
       "    <tr>\n",
       "        <td>145</td>\n",
       "        <td>Ilona</td>\n",
       "        <td>Rabe</td>\n",
       "        <td>computer science</td>\n",
       "        <td>C</td>\n",
       "        <td>None</td>\n",
       "    </tr>\n",
       "    <tr>\n",
       "        <td>157</td>\n",
       "        <td>Wilbert</td>\n",
       "        <td>Haskell</td>\n",
       "        <td>computer science</td>\n",
       "        <td>F</td>\n",
       "        <td>None</td>\n",
       "    </tr>\n",
       "    <tr>\n",
       "        <td>188</td>\n",
       "        <td>Randall</td>\n",
       "        <td>Lindbloom</td>\n",
       "        <td>mathematics</td>\n",
       "        <td>C</td>\n",
       "        <td>A</td>\n",
       "    </tr>\n",
       "</table>"
      ],
      "text/plain": [
       "[(165, 'Stanton', 'Mcgaugh', 'biology', None, 'F'),\n",
       " (123, 'Jonnie', 'Hillock', 'mathematics', None, 'C'),\n",
       " (122, 'Rosalinda', 'Trippe', 'biology', 'A', 'A'),\n",
       " (109, 'Shawnna', 'Coate', 'mathematics', 'C', None),\n",
       " (189, 'Marcia', 'Hinkel', 'mathematics', None, 'A'),\n",
       " (127, 'Adelina', 'Brummitt', 'biology', 'A', None),\n",
       " (140, 'Ludivina', 'Hoskin', 'computer science', 'F', 'D'),\n",
       " (145, 'Ilona', 'Rabe', 'computer science', 'C', None),\n",
       " (157, 'Wilbert', 'Haskell', 'computer science', 'F', None),\n",
       " (188, 'Randall', 'Lindbloom', 'mathematics', 'C', 'A')]"
      ]
     },
     "execution_count": 24,
     "metadata": {},
     "output_type": "execute_result"
    }
   ],
   "source": [
    "%%sql\n",
    "SELECT\n",
    "   students.*,\n",
    "   c.mth141_grade,\n",
    "   c.eng101_grade\n",
    "FROM \n",
    "(\n",
    "    SELECT \n",
    "        m.student_id, \n",
    "        m.grade AS mth141_grade,\n",
    "        e.grade AS eng101_grade\n",
    "    FROM mth141 AS m LEFT JOIN eng101 AS e\n",
    "    ON m.student_id = e.student_id\n",
    "    UNION \n",
    "    SELECT \n",
    "        e.student_id, \n",
    "        m.grade AS mth141_grade,\n",
    "        e.grade AS eng101_grade\n",
    "    FROM eng101 AS e  LEFT JOIN mth141 AS m\n",
    "    ON m.student_id = e.student_id\n",
    ") AS c INNER JOIN students\n",
    "ON c.student_id = students.student_id"
   ]
  },
  {
   "cell_type": "markdown",
   "id": "classified-platform",
   "metadata": {},
   "source": [
    "## Views"
   ]
  },
  {
   "cell_type": "code",
   "execution_count": 39,
   "id": "perfect-spectrum",
   "metadata": {},
   "outputs": [
    {
     "name": "stdout",
     "output_type": "stream",
     "text": [
      " * sqlite:///courses_data.sqlite\n",
      "Done.\n",
      "Done.\n"
     ]
    },
    {
     "data": {
      "text/plain": [
       "[]"
      ]
     },
     "execution_count": 39,
     "metadata": {},
     "output_type": "execute_result"
    }
   ],
   "source": [
    "%%sql\n",
    "DROP VIEW IF EXISTS combined_grades;\n",
    "CREATE TEMP VIEW combined_grades\n",
    "AS \n",
    "SELECT \n",
    "    m.student_id, \n",
    "    m.grade AS mth141_grade,\n",
    "    e.grade AS eng101_grade\n",
    "FROM mth141 AS m LEFT JOIN eng101 AS e\n",
    "ON m.student_id = e.student_id\n",
    "UNION \n",
    "SELECT \n",
    "    e.student_id, \n",
    "    m.grade AS mth141_grade,\n",
    "    e.grade AS eng101_grade\n",
    "FROM eng101 AS e  LEFT JOIN mth141 AS m\n",
    "ON m.student_id = e.student_id"
   ]
  },
  {
   "cell_type": "code",
   "execution_count": 26,
   "id": "meaning-bidder",
   "metadata": {},
   "outputs": [
    {
     "name": "stdout",
     "output_type": "stream",
     "text": [
      " * sqlite:///courses_data.sqlite\n",
      "Done.\n"
     ]
    },
    {
     "data": {
      "text/html": [
       "<table>\n",
       "    <tr>\n",
       "        <th>student_id</th>\n",
       "        <th>mth141_grade</th>\n",
       "        <th>eng101_grade</th>\n",
       "    </tr>\n",
       "    <tr>\n",
       "        <td>109</td>\n",
       "        <td>C</td>\n",
       "        <td>None</td>\n",
       "    </tr>\n",
       "    <tr>\n",
       "        <td>122</td>\n",
       "        <td>A</td>\n",
       "        <td>A</td>\n",
       "    </tr>\n",
       "    <tr>\n",
       "        <td>123</td>\n",
       "        <td>None</td>\n",
       "        <td>C</td>\n",
       "    </tr>\n",
       "    <tr>\n",
       "        <td>127</td>\n",
       "        <td>A</td>\n",
       "        <td>None</td>\n",
       "    </tr>\n",
       "    <tr>\n",
       "        <td>140</td>\n",
       "        <td>F</td>\n",
       "        <td>D</td>\n",
       "    </tr>\n",
       "    <tr>\n",
       "        <td>145</td>\n",
       "        <td>C</td>\n",
       "        <td>None</td>\n",
       "    </tr>\n",
       "    <tr>\n",
       "        <td>157</td>\n",
       "        <td>F</td>\n",
       "        <td>None</td>\n",
       "    </tr>\n",
       "    <tr>\n",
       "        <td>165</td>\n",
       "        <td>None</td>\n",
       "        <td>F</td>\n",
       "    </tr>\n",
       "    <tr>\n",
       "        <td>188</td>\n",
       "        <td>C</td>\n",
       "        <td>A</td>\n",
       "    </tr>\n",
       "    <tr>\n",
       "        <td>189</td>\n",
       "        <td>None</td>\n",
       "        <td>A</td>\n",
       "    </tr>\n",
       "</table>"
      ],
      "text/plain": [
       "[(109, 'C', None),\n",
       " (122, 'A', 'A'),\n",
       " (123, None, 'C'),\n",
       " (127, 'A', None),\n",
       " (140, 'F', 'D'),\n",
       " (145, 'C', None),\n",
       " (157, 'F', None),\n",
       " (165, None, 'F'),\n",
       " (188, 'C', 'A'),\n",
       " (189, None, 'A')]"
      ]
     },
     "execution_count": 26,
     "metadata": {},
     "output_type": "execute_result"
    }
   ],
   "source": [
    "%%sql\n",
    "SELECT * \n",
    "FROM combined_grades"
   ]
  },
  {
   "cell_type": "code",
   "execution_count": 27,
   "id": "parallel-faith",
   "metadata": {},
   "outputs": [
    {
     "name": "stdout",
     "output_type": "stream",
     "text": [
      " * sqlite:///courses_data.sqlite\n",
      "Done.\n"
     ]
    },
    {
     "data": {
      "text/html": [
       "<table>\n",
       "    <tr>\n",
       "        <th>student_id</th>\n",
       "        <th>first_name</th>\n",
       "        <th>last_name</th>\n",
       "        <th>major</th>\n",
       "        <th>mth141_grade</th>\n",
       "        <th>eng101_grade</th>\n",
       "    </tr>\n",
       "    <tr>\n",
       "        <td>165</td>\n",
       "        <td>Stanton</td>\n",
       "        <td>Mcgaugh</td>\n",
       "        <td>biology</td>\n",
       "        <td>None</td>\n",
       "        <td>F</td>\n",
       "    </tr>\n",
       "    <tr>\n",
       "        <td>123</td>\n",
       "        <td>Jonnie</td>\n",
       "        <td>Hillock</td>\n",
       "        <td>mathematics</td>\n",
       "        <td>None</td>\n",
       "        <td>C</td>\n",
       "    </tr>\n",
       "    <tr>\n",
       "        <td>122</td>\n",
       "        <td>Rosalinda</td>\n",
       "        <td>Trippe</td>\n",
       "        <td>biology</td>\n",
       "        <td>A</td>\n",
       "        <td>A</td>\n",
       "    </tr>\n",
       "    <tr>\n",
       "        <td>109</td>\n",
       "        <td>Shawnna</td>\n",
       "        <td>Coate</td>\n",
       "        <td>mathematics</td>\n",
       "        <td>C</td>\n",
       "        <td>None</td>\n",
       "    </tr>\n",
       "    <tr>\n",
       "        <td>189</td>\n",
       "        <td>Marcia</td>\n",
       "        <td>Hinkel</td>\n",
       "        <td>mathematics</td>\n",
       "        <td>None</td>\n",
       "        <td>A</td>\n",
       "    </tr>\n",
       "    <tr>\n",
       "        <td>127</td>\n",
       "        <td>Adelina</td>\n",
       "        <td>Brummitt</td>\n",
       "        <td>biology</td>\n",
       "        <td>A</td>\n",
       "        <td>None</td>\n",
       "    </tr>\n",
       "    <tr>\n",
       "        <td>140</td>\n",
       "        <td>Ludivina</td>\n",
       "        <td>Hoskin</td>\n",
       "        <td>computer science</td>\n",
       "        <td>F</td>\n",
       "        <td>D</td>\n",
       "    </tr>\n",
       "    <tr>\n",
       "        <td>145</td>\n",
       "        <td>Ilona</td>\n",
       "        <td>Rabe</td>\n",
       "        <td>computer science</td>\n",
       "        <td>C</td>\n",
       "        <td>None</td>\n",
       "    </tr>\n",
       "    <tr>\n",
       "        <td>157</td>\n",
       "        <td>Wilbert</td>\n",
       "        <td>Haskell</td>\n",
       "        <td>computer science</td>\n",
       "        <td>F</td>\n",
       "        <td>None</td>\n",
       "    </tr>\n",
       "    <tr>\n",
       "        <td>188</td>\n",
       "        <td>Randall</td>\n",
       "        <td>Lindbloom</td>\n",
       "        <td>mathematics</td>\n",
       "        <td>C</td>\n",
       "        <td>A</td>\n",
       "    </tr>\n",
       "</table>"
      ],
      "text/plain": [
       "[(165, 'Stanton', 'Mcgaugh', 'biology', None, 'F'),\n",
       " (123, 'Jonnie', 'Hillock', 'mathematics', None, 'C'),\n",
       " (122, 'Rosalinda', 'Trippe', 'biology', 'A', 'A'),\n",
       " (109, 'Shawnna', 'Coate', 'mathematics', 'C', None),\n",
       " (189, 'Marcia', 'Hinkel', 'mathematics', None, 'A'),\n",
       " (127, 'Adelina', 'Brummitt', 'biology', 'A', None),\n",
       " (140, 'Ludivina', 'Hoskin', 'computer science', 'F', 'D'),\n",
       " (145, 'Ilona', 'Rabe', 'computer science', 'C', None),\n",
       " (157, 'Wilbert', 'Haskell', 'computer science', 'F', None),\n",
       " (188, 'Randall', 'Lindbloom', 'mathematics', 'C', 'A')]"
      ]
     },
     "execution_count": 27,
     "metadata": {},
     "output_type": "execute_result"
    }
   ],
   "source": [
    "%%sql\n",
    "SELECT\n",
    "   students.*,\n",
    "   c.mth141_grade,\n",
    "   c.eng101_grade\n",
    "FROM \n",
    "combined_grades AS c INNER JOIN students\n",
    "ON c.student_id = students.student_id"
   ]
  },
  {
   "cell_type": "code",
   "execution_count": 28,
   "id": "personal-default",
   "metadata": {},
   "outputs": [
    {
     "name": "stdout",
     "output_type": "stream",
     "text": [
      " * sqlite:///courses_data.sqlite\n",
      "Done.\n"
     ]
    },
    {
     "data": {
      "text/html": [
       "<table>\n",
       "    <tr>\n",
       "        <th>type</th>\n",
       "        <th>name</th>\n",
       "        <th>tbl_name</th>\n",
       "        <th>rootpage</th>\n",
       "        <th>sql</th>\n",
       "    </tr>\n",
       "    <tr>\n",
       "        <td>table</td>\n",
       "        <td>students</td>\n",
       "        <td>students</td>\n",
       "        <td>2</td>\n",
       "        <td>CREATE TABLE students (<br>\tstudent_id INTEGER, <br>\tfirst_name TEXT, <br>\tlast_name TEXT, <br>\tmajor TEXT<br>)</td>\n",
       "    </tr>\n",
       "    <tr>\n",
       "        <td>table</td>\n",
       "        <td>mth141</td>\n",
       "        <td>mth141</td>\n",
       "        <td>3</td>\n",
       "        <td>CREATE TABLE mth141 (<br>\tstudent_id INTEGER, <br>\tgrade TEXT<br>)</td>\n",
       "    </tr>\n",
       "    <tr>\n",
       "        <td>table</td>\n",
       "        <td>eng101</td>\n",
       "        <td>eng101</td>\n",
       "        <td>4</td>\n",
       "        <td>CREATE TABLE eng101 (<br>\tstudent_id INTEGER, <br>\tgrade TEXT<br>)</td>\n",
       "    </tr>\n",
       "    <tr>\n",
       "        <td>view</td>\n",
       "        <td>combined_grades</td>\n",
       "        <td>combined_grades</td>\n",
       "        <td>0</td>\n",
       "        <td>CREATE VIEW combined_grades AS <br>SELECT <br>    m.student_id, <br>    m.grade AS mth141_grade,<br>    e.grade AS eng101_grade<br>FROM mth141 AS m LEFT JOIN eng101 AS e<br>ON m.student_id = e.student_id<br>UNION <br>SELECT <br>    e.student_id, <br>    m.grade AS mth141_grade,<br>    e.grade AS eng101_grade<br>FROM eng101 AS e  LEFT JOIN mth141 AS m<br>ON m.student_id = e.student_id</td>\n",
       "    </tr>\n",
       "</table>"
      ],
      "text/plain": [
       "[('table', 'students', 'students', 2, 'CREATE TABLE students (\\n\\tstudent_id INTEGER, \\n\\tfirst_name TEXT, \\n\\tlast_name TEXT, \\n\\tmajor TEXT\\n)'),\n",
       " ('table', 'mth141', 'mth141', 3, 'CREATE TABLE mth141 (\\n\\tstudent_id INTEGER, \\n\\tgrade TEXT\\n)'),\n",
       " ('table', 'eng101', 'eng101', 4, 'CREATE TABLE eng101 (\\n\\tstudent_id INTEGER, \\n\\tgrade TEXT\\n)'),\n",
       " ('view', 'combined_grades', 'combined_grades', 0, 'CREATE VIEW combined_grades AS \\nSELECT \\n    m.student_id, \\n    m.grade AS mth141_grade,\\n    e.grade AS eng101_grade\\nFROM mth141 AS m LEFT JOIN e ... (62 characters truncated) ...    e.student_id, \\n    m.grade AS mth141_grade,\\n    e.grade AS eng101_grade\\nFROM eng101 AS e  LEFT JOIN mth141 AS m\\nON m.student_id = e.student_id')]"
      ]
     },
     "execution_count": 28,
     "metadata": {},
     "output_type": "execute_result"
    }
   ],
   "source": [
    "%%sql \n",
    "SELECT * \n",
    "FROM sqlite_master;"
   ]
  },
  {
   "cell_type": "markdown",
   "id": "complete-listing",
   "metadata": {},
   "source": [
    "## SQL with Python"
   ]
  },
  {
   "cell_type": "code",
   "execution_count": 40,
   "id": "electronic-afghanistan",
   "metadata": {},
   "outputs": [],
   "source": [
    "import sqlalchemy\n",
    "engine = sqlalchemy.create_engine(\"sqlite:///movie_data.sqlite\")"
   ]
  },
  {
   "cell_type": "code",
   "execution_count": 42,
   "id": "trying-bedroom",
   "metadata": {},
   "outputs": [],
   "source": [
    "import pandas as pd\n",
    "\n",
    "df = pd.DataFrame({'title': ['Casablanca', 'Forrest Gump', 'Goodfellas',\n",
    "                              'Chinatown', 'Jaws', 'Wall-E'],\n",
    "                   'director': ['M. Curtiz', 'R. Zemeckis', 'M. Scorsese',\n",
    "                                 'R. Polanski', 'S. Spielberg', 'A. Stanton'],\n",
    "                   'year': [1942, 1994, 1990, 1974, 1975, 2008]})"
   ]
  },
  {
   "cell_type": "code",
   "execution_count": 43,
   "id": "naughty-vessel",
   "metadata": {},
   "outputs": [
    {
     "data": {
      "text/html": [
       "<div>\n",
       "<style scoped>\n",
       "    .dataframe tbody tr th:only-of-type {\n",
       "        vertical-align: middle;\n",
       "    }\n",
       "\n",
       "    .dataframe tbody tr th {\n",
       "        vertical-align: top;\n",
       "    }\n",
       "\n",
       "    .dataframe thead th {\n",
       "        text-align: right;\n",
       "    }\n",
       "</style>\n",
       "<table border=\"1\" class=\"dataframe\">\n",
       "  <thead>\n",
       "    <tr style=\"text-align: right;\">\n",
       "      <th></th>\n",
       "      <th>title</th>\n",
       "      <th>director</th>\n",
       "      <th>year</th>\n",
       "    </tr>\n",
       "  </thead>\n",
       "  <tbody>\n",
       "    <tr>\n",
       "      <th>0</th>\n",
       "      <td>Casablanca</td>\n",
       "      <td>M. Curtiz</td>\n",
       "      <td>1942</td>\n",
       "    </tr>\n",
       "    <tr>\n",
       "      <th>1</th>\n",
       "      <td>Forrest Gump</td>\n",
       "      <td>R. Zemeckis</td>\n",
       "      <td>1994</td>\n",
       "    </tr>\n",
       "    <tr>\n",
       "      <th>2</th>\n",
       "      <td>Goodfellas</td>\n",
       "      <td>M. Scorsese</td>\n",
       "      <td>1990</td>\n",
       "    </tr>\n",
       "    <tr>\n",
       "      <th>3</th>\n",
       "      <td>Chinatown</td>\n",
       "      <td>R. Polanski</td>\n",
       "      <td>1974</td>\n",
       "    </tr>\n",
       "    <tr>\n",
       "      <th>4</th>\n",
       "      <td>Jaws</td>\n",
       "      <td>S. Spielberg</td>\n",
       "      <td>1975</td>\n",
       "    </tr>\n",
       "    <tr>\n",
       "      <th>5</th>\n",
       "      <td>Wall-E</td>\n",
       "      <td>A. Stanton</td>\n",
       "      <td>2008</td>\n",
       "    </tr>\n",
       "  </tbody>\n",
       "</table>\n",
       "</div>"
      ],
      "text/plain": [
       "          title      director  year\n",
       "0    Casablanca     M. Curtiz  1942\n",
       "1  Forrest Gump   R. Zemeckis  1994\n",
       "2    Goodfellas   M. Scorsese  1990\n",
       "3     Chinatown   R. Polanski  1974\n",
       "4          Jaws  S. Spielberg  1975\n",
       "5        Wall-E    A. Stanton  2008"
      ]
     },
     "execution_count": 43,
     "metadata": {},
     "output_type": "execute_result"
    }
   ],
   "source": [
    "df"
   ]
  },
  {
   "cell_type": "code",
   "execution_count": 45,
   "id": "protective-briefing",
   "metadata": {},
   "outputs": [],
   "source": [
    "df.to_sql(\"movies\",\n",
    "          con=engine,\n",
    "          index=False,\n",
    "          dtype={\"title\": sqlalchemy.types.TEXT,\n",
    "                 \"director\": sqlalchemy.types.TEXT,\n",
    "                 \"year\": sqlalchemy.types.INT}\n",
    ")"
   ]
  },
  {
   "cell_type": "code",
   "execution_count": 46,
   "id": "impossible-deposit",
   "metadata": {},
   "outputs": [],
   "source": [
    "%%sql\n",
    "sqlite:///movie_data.sqlite"
   ]
  },
  {
   "cell_type": "code",
   "execution_count": 47,
   "id": "empirical-religion",
   "metadata": {},
   "outputs": [
    {
     "name": "stdout",
     "output_type": "stream",
     "text": [
      "   sqlite:///courses_data.sqlite\n",
      " * sqlite:///movie_data.sqlite\n",
      "Done.\n"
     ]
    },
    {
     "data": {
      "text/html": [
       "<table>\n",
       "    <tr>\n",
       "        <th>title</th>\n",
       "        <th>director</th>\n",
       "        <th>year</th>\n",
       "    </tr>\n",
       "    <tr>\n",
       "        <td>Casablanca</td>\n",
       "        <td>M. Curtiz</td>\n",
       "        <td>1942</td>\n",
       "    </tr>\n",
       "    <tr>\n",
       "        <td>Forrest Gump</td>\n",
       "        <td>R. Zemeckis</td>\n",
       "        <td>1994</td>\n",
       "    </tr>\n",
       "    <tr>\n",
       "        <td>Goodfellas</td>\n",
       "        <td>M. Scorsese</td>\n",
       "        <td>1990</td>\n",
       "    </tr>\n",
       "    <tr>\n",
       "        <td>Chinatown</td>\n",
       "        <td>R. Polanski</td>\n",
       "        <td>1974</td>\n",
       "    </tr>\n",
       "    <tr>\n",
       "        <td>Jaws</td>\n",
       "        <td>S. Spielberg</td>\n",
       "        <td>1975</td>\n",
       "    </tr>\n",
       "    <tr>\n",
       "        <td>Wall-E</td>\n",
       "        <td>A. Stanton</td>\n",
       "        <td>2008</td>\n",
       "    </tr>\n",
       "</table>"
      ],
      "text/plain": [
       "[('Casablanca', 'M. Curtiz', 1942),\n",
       " ('Forrest Gump', 'R. Zemeckis', 1994),\n",
       " ('Goodfellas', 'M. Scorsese', 1990),\n",
       " ('Chinatown', 'R. Polanski', 1974),\n",
       " ('Jaws', 'S. Spielberg', 1975),\n",
       " ('Wall-E', 'A. Stanton', 2008)]"
      ]
     },
     "execution_count": 47,
     "metadata": {},
     "output_type": "execute_result"
    }
   ],
   "source": [
    "%%sql\n",
    "SELECT * \n",
    "FROM movies"
   ]
  },
  {
   "cell_type": "code",
   "execution_count": 48,
   "id": "indirect-friend",
   "metadata": {},
   "outputs": [
    {
     "data": {
      "text/plain": [
       "'\\nSELECT * \\nFROM movies \\nWHERE year > 1980\\nORDER BY year DESC\\n'"
      ]
     },
     "execution_count": 48,
     "metadata": {},
     "output_type": "execute_result"
    }
   ],
   "source": [
    "query = \"\"\"\n",
    "SELECT * \n",
    "FROM movies \n",
    "WHERE year > 1980\n",
    "ORDER BY year DESC\n",
    "\"\"\"\n",
    "\n",
    "query"
   ]
  },
  {
   "cell_type": "code",
   "execution_count": 49,
   "id": "balanced-detroit",
   "metadata": {},
   "outputs": [
    {
     "data": {
      "text/html": [
       "<div>\n",
       "<style scoped>\n",
       "    .dataframe tbody tr th:only-of-type {\n",
       "        vertical-align: middle;\n",
       "    }\n",
       "\n",
       "    .dataframe tbody tr th {\n",
       "        vertical-align: top;\n",
       "    }\n",
       "\n",
       "    .dataframe thead th {\n",
       "        text-align: right;\n",
       "    }\n",
       "</style>\n",
       "<table border=\"1\" class=\"dataframe\">\n",
       "  <thead>\n",
       "    <tr style=\"text-align: right;\">\n",
       "      <th></th>\n",
       "      <th>title</th>\n",
       "      <th>director</th>\n",
       "      <th>year</th>\n",
       "    </tr>\n",
       "  </thead>\n",
       "  <tbody>\n",
       "    <tr>\n",
       "      <th>0</th>\n",
       "      <td>Wall-E</td>\n",
       "      <td>A. Stanton</td>\n",
       "      <td>2008</td>\n",
       "    </tr>\n",
       "    <tr>\n",
       "      <th>1</th>\n",
       "      <td>Forrest Gump</td>\n",
       "      <td>R. Zemeckis</td>\n",
       "      <td>1994</td>\n",
       "    </tr>\n",
       "    <tr>\n",
       "      <th>2</th>\n",
       "      <td>Goodfellas</td>\n",
       "      <td>M. Scorsese</td>\n",
       "      <td>1990</td>\n",
       "    </tr>\n",
       "  </tbody>\n",
       "</table>\n",
       "</div>"
      ],
      "text/plain": [
       "          title     director  year\n",
       "0        Wall-E   A. Stanton  2008\n",
       "1  Forrest Gump  R. Zemeckis  1994\n",
       "2    Goodfellas  M. Scorsese  1990"
      ]
     },
     "execution_count": 49,
     "metadata": {},
     "output_type": "execute_result"
    }
   ],
   "source": [
    "result = pd.read_sql_query(query, con=engine)\n",
    "result"
   ]
  },
  {
   "cell_type": "markdown",
   "id": "pressing-jackson",
   "metadata": {},
   "source": [
    "## Extra credit project"
   ]
  },
  {
   "cell_type": "code",
   "execution_count": 51,
   "id": "lucky-gilbert",
   "metadata": {},
   "outputs": [],
   "source": [
    "%%sql \n",
    "sqlite:///music_data.sqlite"
   ]
  },
  {
   "cell_type": "code",
   "execution_count": 52,
   "id": "heard-diversity",
   "metadata": {},
   "outputs": [
    {
     "name": "stdout",
     "output_type": "stream",
     "text": [
      "   sqlite:///courses_data.sqlite\n",
      "   sqlite:///movie_data.sqlite\n",
      " * sqlite:///music_data.sqlite\n",
      "Done.\n"
     ]
    },
    {
     "data": {
      "text/html": [
       "<table>\n",
       "    <tr>\n",
       "        <th>type</th>\n",
       "        <th>name</th>\n",
       "        <th>tbl_name</th>\n",
       "        <th>rootpage</th>\n",
       "        <th>sql</th>\n",
       "    </tr>\n",
       "    <tr>\n",
       "        <td>table</td>\n",
       "        <td>albums</td>\n",
       "        <td>albums</td>\n",
       "        <td>2</td>\n",
       "        <td>CREATE TABLE &quot;albums&quot;\r",
       "<br>(\r",
       "<br>    [AlbumId] INTEGER PRIMARY KEY AUTOINCREMENT NOT NULL,\r",
       "<br>    [Title] NVARCHAR(160)  NOT NULL,\r",
       "<br>    [ArtistId] INTEGER  NOT NULL,\r",
       "<br>    FOREIGN KEY ([ArtistId]) REFERENCES &quot;artists&quot; ([ArtistId]) \r",
       "<br>\t\tON DELETE NO ACTION ON UPDATE NO ACTION\r",
       "<br>)</td>\n",
       "    </tr>\n",
       "    <tr>\n",
       "        <td>table</td>\n",
       "        <td>sqlite_sequence</td>\n",
       "        <td>sqlite_sequence</td>\n",
       "        <td>3</td>\n",
       "        <td>CREATE TABLE sqlite_sequence(name,seq)</td>\n",
       "    </tr>\n",
       "    <tr>\n",
       "        <td>table</td>\n",
       "        <td>artists</td>\n",
       "        <td>artists</td>\n",
       "        <td>4</td>\n",
       "        <td>CREATE TABLE &quot;artists&quot;\r",
       "<br>(\r",
       "<br>    [ArtistId] INTEGER PRIMARY KEY AUTOINCREMENT NOT NULL,\r",
       "<br>    [Name] NVARCHAR(120)\r",
       "<br>)</td>\n",
       "    </tr>\n",
       "    <tr>\n",
       "        <td>table</td>\n",
       "        <td>genres</td>\n",
       "        <td>genres</td>\n",
       "        <td>10</td>\n",
       "        <td>CREATE TABLE &quot;genres&quot;\r",
       "<br>(\r",
       "<br>    [GenreId] INTEGER PRIMARY KEY AUTOINCREMENT NOT NULL,\r",
       "<br>    [Name] NVARCHAR(120)\r",
       "<br>)</td>\n",
       "    </tr>\n",
       "    <tr>\n",
       "        <td>table</td>\n",
       "        <td>media_types</td>\n",
       "        <td>media_types</td>\n",
       "        <td>15</td>\n",
       "        <td>CREATE TABLE &quot;media_types&quot;\r",
       "<br>(\r",
       "<br>    [MediaTypeId] INTEGER PRIMARY KEY AUTOINCREMENT NOT NULL,\r",
       "<br>    [Name] NVARCHAR(120)\r",
       "<br>)</td>\n",
       "    </tr>\n",
       "    <tr>\n",
       "        <td>table</td>\n",
       "        <td>tracks</td>\n",
       "        <td>tracks</td>\n",
       "        <td>20</td>\n",
       "        <td>CREATE TABLE &quot;tracks&quot;\r",
       "<br>(\r",
       "<br>    [TrackId] INTEGER PRIMARY KEY AUTOINCREMENT NOT NULL,\r",
       "<br>    [Name] NVARCHAR(200)  NOT NULL,\r",
       "<br>    [AlbumId] INTEGER,\r",
       "<br>    [MediaTypeId] INTEGER  NOT NULL,\r",
       "<br>    [GenreId] INTEGER,\r",
       "<br>    [Composer] NVARCHAR(220),\r",
       "<br>    [Milliseconds] INTEGER  NOT NULL,\r",
       "<br>    [Bytes] INTEGER,\r",
       "<br>    [UnitPrice] NUMERIC(10,2)  NOT NULL,\r",
       "<br>    FOREIGN KEY ([AlbumId]) REFERENCES &quot;albums&quot; ([AlbumId]) \r",
       "<br>\t\tON DELETE NO ACTION ON UPDATE NO ACTION,\r",
       "<br>    FOREIGN KEY ([GenreId]) REFERENCES &quot;genres&quot; ([GenreId]) \r",
       "<br>\t\tON DELETE NO ACTION ON UPDATE NO ACTION,\r",
       "<br>    FOREIGN KEY ([MediaTypeId]) REFERENCES &quot;media_types&quot; ([MediaTypeId]) \r",
       "<br>\t\tON DELETE NO ACTION ON UPDATE NO ACTION\r",
       "<br>)</td>\n",
       "    </tr>\n",
       "</table>"
      ],
      "text/plain": [
       "[('table', 'albums', 'albums', 2, 'CREATE TABLE \"albums\"\\r\\n(\\r\\n    [AlbumId] INTEGER PRIMARY KEY AUTOINCREMENT NOT NULL,\\r\\n    [Title] NVARCHAR(160)  NOT NULL,\\r\\n    [ArtistId] INTEGER  NOT NULL,\\r\\n    FOREIGN KEY ([ArtistId]) REFERENCES \"artists\" ([ArtistId]) \\r\\n\\t\\tON DELETE NO ACTION ON UPDATE NO ACTION\\r\\n)'),\n",
       " ('table', 'sqlite_sequence', 'sqlite_sequence', 3, 'CREATE TABLE sqlite_sequence(name,seq)'),\n",
       " ('table', 'artists', 'artists', 4, 'CREATE TABLE \"artists\"\\r\\n(\\r\\n    [ArtistId] INTEGER PRIMARY KEY AUTOINCREMENT NOT NULL,\\r\\n    [Name] NVARCHAR(120)\\r\\n)'),\n",
       " ('table', 'genres', 'genres', 10, 'CREATE TABLE \"genres\"\\r\\n(\\r\\n    [GenreId] INTEGER PRIMARY KEY AUTOINCREMENT NOT NULL,\\r\\n    [Name] NVARCHAR(120)\\r\\n)'),\n",
       " ('table', 'media_types', 'media_types', 15, 'CREATE TABLE \"media_types\"\\r\\n(\\r\\n    [MediaTypeId] INTEGER PRIMARY KEY AUTOINCREMENT NOT NULL,\\r\\n    [Name] NVARCHAR(120)\\r\\n)'),\n",
       " ('table', 'tracks', 'tracks', 20, 'CREATE TABLE \"tracks\"\\r\\n(\\r\\n    [TrackId] INTEGER PRIMARY KEY AUTOINCREMENT NOT NULL,\\r\\n    [Name] NVARCHAR(200)  NOT NULL,\\r\\n    [AlbumId] INTEG ... (415 characters truncated) ... ON UPDATE NO ACTION,\\r\\n    FOREIGN KEY ([MediaTypeId]) REFERENCES \"media_types\" ([MediaTypeId]) \\r\\n\\t\\tON DELETE NO ACTION ON UPDATE NO ACTION\\r\\n)')]"
      ]
     },
     "execution_count": 52,
     "metadata": {},
     "output_type": "execute_result"
    }
   ],
   "source": [
    "%%sql\n",
    "SELECT * \n",
    "FROM sqlite_master"
   ]
  },
  {
   "cell_type": "code",
   "execution_count": 54,
   "id": "coordinate-wireless",
   "metadata": {},
   "outputs": [
    {
     "name": "stdout",
     "output_type": "stream",
     "text": [
      "   sqlite:///courses_data.sqlite\n",
      "   sqlite:///movie_data.sqlite\n",
      " * sqlite:///music_data.sqlite\n",
      "Done.\n"
     ]
    },
    {
     "data": {
      "text/html": [
       "<table>\n",
       "    <tr>\n",
       "        <th>TrackId</th>\n",
       "        <th>Name</th>\n",
       "        <th>AlbumId</th>\n",
       "        <th>MediaTypeId</th>\n",
       "        <th>GenreId</th>\n",
       "        <th>Composer</th>\n",
       "        <th>Milliseconds</th>\n",
       "        <th>Bytes</th>\n",
       "        <th>UnitPrice</th>\n",
       "    </tr>\n",
       "    <tr>\n",
       "        <td>1</td>\n",
       "        <td>For Those About To Rock (We Salute You)</td>\n",
       "        <td>1</td>\n",
       "        <td>1</td>\n",
       "        <td>1</td>\n",
       "        <td>Angus Young, Malcolm Young, Brian Johnson</td>\n",
       "        <td>343719</td>\n",
       "        <td>11170334</td>\n",
       "        <td>0.99</td>\n",
       "    </tr>\n",
       "    <tr>\n",
       "        <td>2</td>\n",
       "        <td>Balls to the Wall</td>\n",
       "        <td>2</td>\n",
       "        <td>2</td>\n",
       "        <td>1</td>\n",
       "        <td>None</td>\n",
       "        <td>342562</td>\n",
       "        <td>5510424</td>\n",
       "        <td>0.99</td>\n",
       "    </tr>\n",
       "    <tr>\n",
       "        <td>3</td>\n",
       "        <td>Fast As a Shark</td>\n",
       "        <td>3</td>\n",
       "        <td>2</td>\n",
       "        <td>1</td>\n",
       "        <td>F. Baltes, S. Kaufman, U. Dirkscneider &amp; W. Hoffman</td>\n",
       "        <td>230619</td>\n",
       "        <td>3990994</td>\n",
       "        <td>0.99</td>\n",
       "    </tr>\n",
       "    <tr>\n",
       "        <td>4</td>\n",
       "        <td>Restless and Wild</td>\n",
       "        <td>3</td>\n",
       "        <td>2</td>\n",
       "        <td>1</td>\n",
       "        <td>F. Baltes, R.A. Smith-Diesel, S. Kaufman, U. Dirkscneider &amp; W. Hoffman</td>\n",
       "        <td>252051</td>\n",
       "        <td>4331779</td>\n",
       "        <td>0.99</td>\n",
       "    </tr>\n",
       "    <tr>\n",
       "        <td>5</td>\n",
       "        <td>Princess of the Dawn</td>\n",
       "        <td>3</td>\n",
       "        <td>2</td>\n",
       "        <td>1</td>\n",
       "        <td>Deaffy &amp; R.A. Smith-Diesel</td>\n",
       "        <td>375418</td>\n",
       "        <td>6290521</td>\n",
       "        <td>0.99</td>\n",
       "    </tr>\n",
       "</table>"
      ],
      "text/plain": [
       "[(1, 'For Those About To Rock (We Salute You)', 1, 1, 1, 'Angus Young, Malcolm Young, Brian Johnson', 343719, 11170334, 0.99),\n",
       " (2, 'Balls to the Wall', 2, 2, 1, None, 342562, 5510424, 0.99),\n",
       " (3, 'Fast As a Shark', 3, 2, 1, 'F. Baltes, S. Kaufman, U. Dirkscneider & W. Hoffman', 230619, 3990994, 0.99),\n",
       " (4, 'Restless and Wild', 3, 2, 1, 'F. Baltes, R.A. Smith-Diesel, S. Kaufman, U. Dirkscneider & W. Hoffman', 252051, 4331779, 0.99),\n",
       " (5, 'Princess of the Dawn', 3, 2, 1, 'Deaffy & R.A. Smith-Diesel', 375418, 6290521, 0.99)]"
      ]
     },
     "execution_count": 54,
     "metadata": {},
     "output_type": "execute_result"
    }
   ],
   "source": [
    "%%sql\n",
    "SELECT * \n",
    "FROM tracks\n",
    "LIMIT 5"
   ]
  },
  {
   "cell_type": "code",
   "execution_count": 56,
   "id": "pleased-shanghai",
   "metadata": {},
   "outputs": [
    {
     "name": "stdout",
     "output_type": "stream",
     "text": [
      "   sqlite:///courses_data.sqlite\n",
      "   sqlite:///movie_data.sqlite\n",
      " * sqlite:///music_data.sqlite\n",
      "Done.\n"
     ]
    },
    {
     "data": {
      "text/html": [
       "<table>\n",
       "    <tr>\n",
       "        <th>MediaTypeId</th>\n",
       "        <th>Name</th>\n",
       "    </tr>\n",
       "    <tr>\n",
       "        <td>1</td>\n",
       "        <td>MPEG audio file</td>\n",
       "    </tr>\n",
       "    <tr>\n",
       "        <td>2</td>\n",
       "        <td>Protected AAC audio file</td>\n",
       "    </tr>\n",
       "    <tr>\n",
       "        <td>3</td>\n",
       "        <td>Protected MPEG-4 video file</td>\n",
       "    </tr>\n",
       "    <tr>\n",
       "        <td>4</td>\n",
       "        <td>Purchased AAC audio file</td>\n",
       "    </tr>\n",
       "    <tr>\n",
       "        <td>5</td>\n",
       "        <td>AAC audio file</td>\n",
       "    </tr>\n",
       "</table>"
      ],
      "text/plain": [
       "[(1, 'MPEG audio file'),\n",
       " (2, 'Protected AAC audio file'),\n",
       " (3, 'Protected MPEG-4 video file'),\n",
       " (4, 'Purchased AAC audio file'),\n",
       " (5, 'AAC audio file')]"
      ]
     },
     "execution_count": 56,
     "metadata": {},
     "output_type": "execute_result"
    }
   ],
   "source": [
    "%%sql \n",
    "SELECT * \n",
    "FROM media_types\n",
    "LIMIT 5"
   ]
  },
  {
   "cell_type": "code",
   "execution_count": 57,
   "id": "sporting-negative",
   "metadata": {},
   "outputs": [
    {
     "name": "stdout",
     "output_type": "stream",
     "text": [
      "   sqlite:///courses_data.sqlite\n",
      "   sqlite:///movie_data.sqlite\n",
      " * sqlite:///music_data.sqlite\n",
      "Done.\n"
     ]
    },
    {
     "data": {
      "text/html": [
       "<table>\n",
       "    <tr>\n",
       "        <th>GenreId</th>\n",
       "        <th>Name</th>\n",
       "    </tr>\n",
       "    <tr>\n",
       "        <td>1</td>\n",
       "        <td>Rock</td>\n",
       "    </tr>\n",
       "    <tr>\n",
       "        <td>2</td>\n",
       "        <td>Jazz</td>\n",
       "    </tr>\n",
       "    <tr>\n",
       "        <td>3</td>\n",
       "        <td>Metal</td>\n",
       "    </tr>\n",
       "    <tr>\n",
       "        <td>4</td>\n",
       "        <td>Alternative &amp; Punk</td>\n",
       "    </tr>\n",
       "    <tr>\n",
       "        <td>5</td>\n",
       "        <td>Rock And Roll</td>\n",
       "    </tr>\n",
       "    <tr>\n",
       "        <td>6</td>\n",
       "        <td>Blues</td>\n",
       "    </tr>\n",
       "    <tr>\n",
       "        <td>7</td>\n",
       "        <td>Latin</td>\n",
       "    </tr>\n",
       "    <tr>\n",
       "        <td>8</td>\n",
       "        <td>Reggae</td>\n",
       "    </tr>\n",
       "    <tr>\n",
       "        <td>9</td>\n",
       "        <td>Pop</td>\n",
       "    </tr>\n",
       "    <tr>\n",
       "        <td>10</td>\n",
       "        <td>Soundtrack</td>\n",
       "    </tr>\n",
       "    <tr>\n",
       "        <td>11</td>\n",
       "        <td>Bossa Nova</td>\n",
       "    </tr>\n",
       "    <tr>\n",
       "        <td>12</td>\n",
       "        <td>Easy Listening</td>\n",
       "    </tr>\n",
       "    <tr>\n",
       "        <td>13</td>\n",
       "        <td>Heavy Metal</td>\n",
       "    </tr>\n",
       "    <tr>\n",
       "        <td>14</td>\n",
       "        <td>R&amp;B/Soul</td>\n",
       "    </tr>\n",
       "    <tr>\n",
       "        <td>15</td>\n",
       "        <td>Electronica/Dance</td>\n",
       "    </tr>\n",
       "    <tr>\n",
       "        <td>16</td>\n",
       "        <td>World</td>\n",
       "    </tr>\n",
       "    <tr>\n",
       "        <td>17</td>\n",
       "        <td>Hip Hop/Rap</td>\n",
       "    </tr>\n",
       "    <tr>\n",
       "        <td>18</td>\n",
       "        <td>Science Fiction</td>\n",
       "    </tr>\n",
       "    <tr>\n",
       "        <td>19</td>\n",
       "        <td>TV Shows</td>\n",
       "    </tr>\n",
       "    <tr>\n",
       "        <td>20</td>\n",
       "        <td>Sci Fi &amp; Fantasy</td>\n",
       "    </tr>\n",
       "    <tr>\n",
       "        <td>21</td>\n",
       "        <td>Drama</td>\n",
       "    </tr>\n",
       "    <tr>\n",
       "        <td>22</td>\n",
       "        <td>Comedy</td>\n",
       "    </tr>\n",
       "    <tr>\n",
       "        <td>23</td>\n",
       "        <td>Alternative</td>\n",
       "    </tr>\n",
       "    <tr>\n",
       "        <td>24</td>\n",
       "        <td>Classical</td>\n",
       "    </tr>\n",
       "    <tr>\n",
       "        <td>25</td>\n",
       "        <td>Opera</td>\n",
       "    </tr>\n",
       "</table>"
      ],
      "text/plain": [
       "[(1, 'Rock'),\n",
       " (2, 'Jazz'),\n",
       " (3, 'Metal'),\n",
       " (4, 'Alternative & Punk'),\n",
       " (5, 'Rock And Roll'),\n",
       " (6, 'Blues'),\n",
       " (7, 'Latin'),\n",
       " (8, 'Reggae'),\n",
       " (9, 'Pop'),\n",
       " (10, 'Soundtrack'),\n",
       " (11, 'Bossa Nova'),\n",
       " (12, 'Easy Listening'),\n",
       " (13, 'Heavy Metal'),\n",
       " (14, 'R&B/Soul'),\n",
       " (15, 'Electronica/Dance'),\n",
       " (16, 'World'),\n",
       " (17, 'Hip Hop/Rap'),\n",
       " (18, 'Science Fiction'),\n",
       " (19, 'TV Shows'),\n",
       " (20, 'Sci Fi & Fantasy'),\n",
       " (21, 'Drama'),\n",
       " (22, 'Comedy'),\n",
       " (23, 'Alternative'),\n",
       " (24, 'Classical'),\n",
       " (25, 'Opera')]"
      ]
     },
     "execution_count": 57,
     "metadata": {},
     "output_type": "execute_result"
    }
   ],
   "source": [
    "%%sql \n",
    "SELECT * \n",
    "FROM genres"
   ]
  },
  {
   "cell_type": "code",
   "execution_count": 58,
   "id": "mechanical-geography",
   "metadata": {},
   "outputs": [
    {
     "name": "stdout",
     "output_type": "stream",
     "text": [
      "   sqlite:///courses_data.sqlite\n",
      "   sqlite:///movie_data.sqlite\n",
      " * sqlite:///music_data.sqlite\n",
      "Done.\n"
     ]
    },
    {
     "data": {
      "text/html": [
       "<table>\n",
       "    <tr>\n",
       "        <th>ArtistId</th>\n",
       "        <th>Name</th>\n",
       "    </tr>\n",
       "    <tr>\n",
       "        <td>1</td>\n",
       "        <td>AC/DC</td>\n",
       "    </tr>\n",
       "    <tr>\n",
       "        <td>2</td>\n",
       "        <td>Accept</td>\n",
       "    </tr>\n",
       "    <tr>\n",
       "        <td>3</td>\n",
       "        <td>Aerosmith</td>\n",
       "    </tr>\n",
       "    <tr>\n",
       "        <td>4</td>\n",
       "        <td>Alanis Morissette</td>\n",
       "    </tr>\n",
       "    <tr>\n",
       "        <td>5</td>\n",
       "        <td>Alice In Chains</td>\n",
       "    </tr>\n",
       "</table>"
      ],
      "text/plain": [
       "[(1, 'AC/DC'),\n",
       " (2, 'Accept'),\n",
       " (3, 'Aerosmith'),\n",
       " (4, 'Alanis Morissette'),\n",
       " (5, 'Alice In Chains')]"
      ]
     },
     "execution_count": 58,
     "metadata": {},
     "output_type": "execute_result"
    }
   ],
   "source": [
    "%%sql\n",
    "SELECT * \n",
    "FROM artists\n",
    "LIMIT 5"
   ]
  },
  {
   "cell_type": "code",
   "execution_count": 59,
   "id": "elder-champagne",
   "metadata": {},
   "outputs": [
    {
     "name": "stdout",
     "output_type": "stream",
     "text": [
      "   sqlite:///courses_data.sqlite\n",
      "   sqlite:///movie_data.sqlite\n",
      " * sqlite:///music_data.sqlite\n",
      "Done.\n"
     ]
    },
    {
     "data": {
      "text/html": [
       "<table>\n",
       "    <tr>\n",
       "        <th>AlbumId</th>\n",
       "        <th>Title</th>\n",
       "        <th>ArtistId</th>\n",
       "    </tr>\n",
       "    <tr>\n",
       "        <td>1</td>\n",
       "        <td>For Those About To Rock We Salute You</td>\n",
       "        <td>1</td>\n",
       "    </tr>\n",
       "    <tr>\n",
       "        <td>2</td>\n",
       "        <td>Balls to the Wall</td>\n",
       "        <td>2</td>\n",
       "    </tr>\n",
       "    <tr>\n",
       "        <td>3</td>\n",
       "        <td>Restless and Wild</td>\n",
       "        <td>2</td>\n",
       "    </tr>\n",
       "    <tr>\n",
       "        <td>4</td>\n",
       "        <td>Let There Be Rock</td>\n",
       "        <td>1</td>\n",
       "    </tr>\n",
       "    <tr>\n",
       "        <td>5</td>\n",
       "        <td>Big Ones</td>\n",
       "        <td>3</td>\n",
       "    </tr>\n",
       "</table>"
      ],
      "text/plain": [
       "[(1, 'For Those About To Rock We Salute You', 1),\n",
       " (2, 'Balls to the Wall', 2),\n",
       " (3, 'Restless and Wild', 2),\n",
       " (4, 'Let There Be Rock', 1),\n",
       " (5, 'Big Ones', 3)]"
      ]
     },
     "execution_count": 59,
     "metadata": {},
     "output_type": "execute_result"
    }
   ],
   "source": [
    "%%sql \n",
    "SELECT * \n",
    "FROM albums \n",
    "LIMIT 5"
   ]
  },
  {
   "cell_type": "code",
   "execution_count": null,
   "id": "governmental-logic",
   "metadata": {},
   "outputs": [],
   "source": []
  }
 ],
 "metadata": {
  "kernelspec": {
   "display_name": "Python 3",
   "language": "python",
   "name": "python3"
  },
  "language_info": {
   "codemirror_mode": {
    "name": "ipython",
    "version": 3
   },
   "file_extension": ".py",
   "mimetype": "text/x-python",
   "name": "python",
   "nbconvert_exporter": "python",
   "pygments_lexer": "ipython3",
   "version": "3.8.5"
  }
 },
 "nbformat": 4,
 "nbformat_minor": 5
}
