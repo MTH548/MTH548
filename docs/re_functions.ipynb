{
 "cells": [
  {
   "cell_type": "markdown",
   "metadata": {},
   "source": [
    "# Functions in the re module"
   ]
  },
  {
   "cell_type": "markdown",
   "metadata": {},
   "source": [
    "The Python `re` module had several functions for searching and modifying strings using regular expressions. Here we describe two of them. See the [re module documentation](https://docs.python.org/3/library/re.html?highlight=re#module-re) for the complete list. "
   ]
  },
  {
   "cell_type": "code",
   "execution_count": 1,
   "metadata": {},
   "outputs": [],
   "source": [
    "import re"
   ]
  },
  {
   "cell_type": "markdown",
   "metadata": {},
   "source": [
    "## re.findall"
   ]
  },
  {
   "cell_type": "raw",
   "metadata": {
    "raw_mimetype": "text/restructuredtext"
   },
   "source": [
    ".. function:: re.findall(pattern, string, flags=0)\n",
    "   :module: re"
   ]
  },
  {
   "cell_type": "markdown",
   "metadata": {},
   "source": [
    "\n",
    "This function returns a list of all matches of the `pattern` in the `string`. The third argument, `flags` can be used to specify flags for the regular expression.\n",
    "\n",
    "For example, here we find all sequences of digits in a string:"
   ]
  },
  {
   "cell_type": "code",
   "execution_count": 2,
   "metadata": {},
   "outputs": [
    {
     "data": {
      "text/plain": [
       "['57', '100', '171', '3']"
      ]
     },
     "execution_count": 2,
     "metadata": {},
     "output_type": "execute_result"
    }
   ],
   "source": [
    "text1 = \"This costs $57 for a 100 lbs box, so $171 for 3 boxes.\"\n",
    "re.findall(r\"\\d+\", text1)"
   ]
  },
  {
   "cell_type": "markdown",
   "metadata": {},
   "source": [
    "### re.findall with match groups\n",
    "\n",
    "In some cases we are interested only in a part of a match. For example, we may want to find all dollar amounts in the format \"$57\", but we are interested in the numeric value \"57\" only. Such situations can be handled using match groups (i.e. parts of a regular expression enclosed in parentheses). If we create a match group in the pattern, then the whole pattern will be matched, but only the value of the match group will be returned:"
   ]
  },
  {
   "cell_type": "code",
   "execution_count": 3,
   "metadata": {},
   "outputs": [
    {
     "data": {
      "text/plain": [
       "['57', '171']"
      ]
     },
     "execution_count": 3,
     "metadata": {},
     "output_type": "execute_result"
    }
   ],
   "source": [
    "# search for sequences of digits starting with \"$\", \n",
    "# but return digits only\n",
    "re.findall(r\"\\$(\\d+)\", text1)"
   ]
  },
  {
   "cell_type": "markdown",
   "metadata": {},
   "source": [
    "If the pattern includes more than one match group, `re.findall` will return a list of tuples with values of the match groups:"
   ]
  },
  {
   "cell_type": "code",
   "execution_count": 4,
   "metadata": {},
   "outputs": [
    {
     "data": {
      "text/plain": [
       "[('9', '30'), ('10', '15')]"
      ]
     },
     "execution_count": 4,
     "metadata": {},
     "output_type": "execute_result"
    }
   ],
   "source": [
    "text2 = \"This class starts at 9:30, and ends at at 10:15\"\n",
    "# find all tuples in the form (hours, minutes)\n",
    "re.findall(r\"(\\d+):(\\d+)\", text2)"
   ]
  },
  {
   "cell_type": "markdown",
   "metadata": {},
   "source": [
    "### Non-capturing match groups\n",
    "\n",
    "It often happens that need to create a match group in a regular expression for the purpose of specifying what should be matched, and not because we want to retrieve its value. Such match groups can be specified using the format `(?:...)`, and then their values will not be returned by `re.findall`.   "
   ]
  },
  {
   "cell_type": "code",
   "execution_count": 12,
   "metadata": {},
   "outputs": [
    {
     "name": "stdout",
     "output_type": "stream",
     "text": [
      "BUF 11:30 PM =>=>=>=> EWR 12:45 PM\n",
      "EWR 7:45 PM =>=>=>=>=> LHR 6:55 AM\n"
     ]
    }
   ],
   "source": [
    "# string with a flight itinerary\n",
    "from textwrap import dedent\n",
    "text3= \"\"\"\n",
    "       BUF 11:30 PM =>=>=>=> EWR 12:45 PM\n",
    "       EWR 7:45 PM =>=>=>=>=> LHR 6:55 AM\n",
    "       \"\"\"\n",
    "text3 = dedent(text3).strip()\n",
    "print(text3)"
   ]
  },
  {
   "cell_type": "code",
   "execution_count": 14,
   "metadata": {},
   "outputs": [
    {
     "data": {
      "text/plain": [
       "[('BUF 11:30 PM', 'EWR 12:45 PM'), ('EWR 7:45 PM', 'LHR 6:55 AM')]"
      ]
     },
     "execution_count": 14,
     "metadata": {},
     "output_type": "execute_result"
    }
   ],
   "source": [
    "# find all flight arrivals and departures\n",
    "re.findall(r\"\"\"(.+?)        # match departure\n",
    "               \\ (?:=>)+ \\  # match, but not capture, the =>=> part\n",
    "               (.+)         # match arrival\n",
    "            \"\"\",\n",
    "           text3, re.X)"
   ]
  },
  {
   "cell_type": "markdown",
   "metadata": {},
   "source": [
    "## re.sub"
   ]
  },
  {
   "cell_type": "raw",
   "metadata": {
    "raw_mimetype": "text/restructuredtext"
   },
   "source": [
    ".. function:: re.sub(pattern, repl, string, count=0, flags=0)\n",
    "   :module: re"
   ]
  },
  {
   "cell_type": "markdown",
   "metadata": {},
   "source": [
    "This function finds matches of the `pattern` in the `string` and replaces them with the `repl` string. The `count` argument specifies the maximum number of replacements to be performed. The default value `count=0` means the all matches will be replaced. The `flags` argument can specify regular expression flags.  "
   ]
  },
  {
   "cell_type": "markdown",
   "metadata": {},
   "source": [
    "We will use the following function to illustrate the effects of `re.sub`:"
   ]
  },
  {
   "cell_type": "code",
   "execution_count": 11,
   "metadata": {},
   "outputs": [
    {
     "name": "stdout",
     "output_type": "stream",
     "text": [
      "\u001b[1mORIGINAL STRING:\u001b[0m\n",
      "This is the original text.\n",
      "\n",
      "\u001b[1mMODIFIED STRING:\u001b[0m\n",
      "This is the modified text.\n"
     ]
    }
   ],
   "source": [
    "def show_diff(original, modified):\n",
    "    print(f\"\\033[1mORIGINAL STRING:\\033[0m\\n{original}\\n\")\n",
    "    print(f\"\\033[1mMODIFIED STRING:\\033[0m\\n{modified}\")\n",
    "    \n",
    "\n",
    "show_diff(\"This is the original text.\", \"This is the modified text.\")"
   ]
  },
  {
   "cell_type": "markdown",
   "metadata": {},
   "source": [
    "Here is a basic application of `re.sub`:"
   ]
  },
  {
   "cell_type": "code",
   "execution_count": 5,
   "metadata": {},
   "outputs": [
    {
     "name": "stdout",
     "output_type": "stream",
     "text": [
      "\u001b[1mORIGINAL STRING:\u001b[0m\n",
      "This costs $57 for a 100 lbs box, so $171 for 3 boxes.\n",
      "\n",
      "\u001b[1mMODIFIED STRING:\u001b[0m\n",
      "This costs $(NUMBER) for a (NUMBER) lbs box, so $(NUMBER) for (NUMBER) boxes.\n"
     ]
    }
   ],
   "source": [
    "text4 = \"This costs $57 for a 100 lbs box, so $171 for 3 boxes.\"\n",
    "\n",
    "# replace all sequences of digits by the string \"(NUMBER)\"\n",
    "new_text = re.sub(r\"\\d+\", r\"(NUMBER)\", text4)\n",
    "\n",
    "# print results\n",
    "show_diff(text4, new_text)"
   ]
  },
  {
   "cell_type": "markdown",
   "metadata": {},
   "source": [
    "### re.sub with backreferences\n",
    "\n",
    "The function `re.sub` is more flexible than the example above suggests, since the value of the replacement string `repl` can depend on the value of the match being replaced. In order to make use of this, we need to specify one or more match groups in the pattern. Each capturing match group creates a *backreference* i.e., a label `\\1`, `\\2`, `\\3` etc. (with `\\1` denoting the leftmost match group). When these labels are used in the replacement string, they by themselves get replaced by values of the corresponding match groups."
   ]
  },
  {
   "cell_type": "markdown",
   "metadata": {},
   "source": [
    "**Examples.**"
   ]
  },
  {
   "cell_type": "code",
   "execution_count": 8,
   "metadata": {},
   "outputs": [
    {
     "name": "stdout",
     "output_type": "stream",
     "text": [
      "\u001b[1mORIGINAL STRING:\u001b[0m\n",
      "This costs $57 for a 100 lbs box, so $171 for 3 boxes.\n",
      "\n",
      "\u001b[1mMODIFIED STRING:\u001b[0m\n",
      "This costs $57.00 for a 100 lbs box, so $171.00 for 3 boxes.\n"
     ]
    }
   ],
   "source": [
    "text4 = \"This costs $57 for a 100 lbs box, so $171 for 3 boxes.\"\n",
    "\n",
    "# add decimal digits \".00\" to all prices\n",
    "new_text = re.sub(r\"\"\"(\\$\\d+)    # match \"$\" followed by digits\n",
    "                                 # the whole pattern is a match group \n",
    "                                 # with backreference \\1 \n",
    "                   \"\"\", \n",
    "                  r\"\\1.00\", text4, flags = re.X)\n",
    "\n",
    "# print results\n",
    "show_diff(text4, new_text)"
   ]
  },
  {
   "cell_type": "code",
   "execution_count": 9,
   "metadata": {},
   "outputs": [
    {
     "name": "stdout",
     "output_type": "stream",
     "text": [
      "\u001b[1mORIGINAL STRING:\u001b[0m\n",
      "Flight itinerary:\n",
      "BUF => EWR =>=>=> LHR\n",
      "\n",
      "\u001b[1mMODIFIED STRING:\u001b[0m\n",
      "Flight itinerary:\n",
      "From: BUF To: EWR\n",
      "From: EWR To: LHR\n"
     ]
    }
   ],
   "source": [
    "text5 = \"Flight itinerary:\\nBUF => EWR =>=>=> LHR\"\n",
    "\n",
    "# reformat the itinerary\n",
    "new_text = re.sub(r\"\"\"(.+?)           # \\1 first airport\n",
    "                      \\ (?:=>)+\\      #    the =>=> part\n",
    "                      (.+)            # \\2 second airport\n",
    "                      \\ (?:=>)+\\      #    the =>=> part\n",
    "                      (.+)            # \\3 third airport\n",
    "                      \"\"\", \n",
    "                  r\"From: \\1 To: \\2\\nFrom: \\2 To: \\3\", text5, flags=re.X)\n",
    "\n",
    "# print results\n",
    "show_diff(text5, new_text)"
   ]
  },
  {
   "cell_type": "markdown",
   "metadata": {},
   "source": [
    "### re.sub with a function argument"
   ]
  },
  {
   "cell_type": "markdown",
   "metadata": {},
   "source": [
    "There is even more that can be accomplished using `re.sub`. The value of the argument `repl` instead of a string can be a function. For each match of the pattern this function is called with a *match object* argument, which contains information about the match (its position in the string, values of match groups etc.). The function needs to return a string, which will be substituted for the matched pattern. For more information see the documentation of the `re` module. "
   ]
  },
  {
   "cell_type": "markdown",
   "metadata": {},
   "source": [
    "**Example.**\n",
    "\n",
    "The code below replaces distances given in miles by distances in kilometers."
   ]
  },
  {
   "cell_type": "code",
   "execution_count": 10,
   "metadata": {},
   "outputs": [
    {
     "name": "stdout",
     "output_type": "stream",
     "text": [
      "\u001b[1mORIGINAL STRING:\u001b[0m\n",
      "Buffalo is 370 miles away from New York City \n",
      "(about 6 hours by car) and 100 miles from Toronto.\n",
      "\n",
      "\u001b[1mMODIFIED STRING:\u001b[0m\n",
      "Buffalo is 594 km away from New York City \n",
      "(about 6 hours by car) and 160 km from Toronto.\n"
     ]
    }
   ],
   "source": [
    "from textwrap import dedent\n",
    "text6 = \"\"\"\n",
    "        Buffalo is 370 miles away from New York City \n",
    "        (about 6 hours by car) and 100 miles from Toronto.\n",
    "        \"\"\"\n",
    "text6 = dedent(text6).strip()\n",
    "\n",
    "def convert(match):\n",
    "    \n",
    "    # match.group(1) is the value od the first match group\n",
    "    # in our case it will be a number with a distance in miles\n",
    "    d_km = int(float(match.group(1))*1.606)\n",
    "    # return a string with the distance in km\n",
    "    return f\"{d_km} km\"\n",
    "\n",
    "# find distances in miles and replace them \n",
    "# by values of the `convert` function\n",
    "new_text = re.sub(\"(\\d+) miles\", convert, text6)\n",
    "\n",
    "\n",
    "# print results\n",
    "show_diff(text6, new_text)"
   ]
  }
 ],
 "metadata": {
  "celltoolbar": "Raw Cell Format",
  "kernelspec": {
   "display_name": "Python 3",
   "language": "python",
   "name": "python3"
  },
  "language_info": {
   "codemirror_mode": {
    "name": "ipython",
    "version": 3
   },
   "file_extension": ".py",
   "mimetype": "text/x-python",
   "name": "python",
   "nbconvert_exporter": "python",
   "pygments_lexer": "ipython3",
   "version": "3.7.6"
  }
 },
 "nbformat": 4,
 "nbformat_minor": 2
}
