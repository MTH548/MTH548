{
 "cells": [
  {
   "cell_type": "markdown",
   "metadata": {},
   "source": [
    "# Regular expressions"
   ]
  },
  {
   "cell_type": "markdown",
   "metadata": {},
   "source": [
    "Regular expressions are a tool for specifying patterns (phone numbers, e-mail addresses etc.), in text strings. We can use them to search strings for such patterns, modify strings based on search results etc."
   ]
  },
  {
   "cell_type": "markdown",
   "metadata": {},
   "source": [
    "## Prelude: raw strings\n",
    "\n",
    "In Python strings the backslash character `\\` has a special meaning. For example `\\n` denotes a new line, `\\t` the tab, `\\U` indicates a UTF-32 encoded unicode character  etc.:"
   ]
  },
  {
   "cell_type": "code",
   "execution_count": 1,
   "metadata": {},
   "outputs": [
    {
     "name": "stdout",
     "output_type": "stream",
     "text": [
      "Hello\tthere,\n",
      "this is a cat: 🐱.\n"
     ]
    }
   ],
   "source": [
    "print(\"Hello\\tthere,\\nthis is a cat: \\U0001F431.\")"
   ]
  },
  {
   "cell_type": "markdown",
   "metadata": {},
   "source": [
    "This creates conflicts with the syntax of regular expressions, since in this setting we want backslashes to be interpreted literally, as backslashes. There are two ways to resolve this. The first is to enter each backslash as \n",
    "`\\\\` - which indicates that we really mean a backslash:"
   ]
  },
  {
   "cell_type": "code",
   "execution_count": 2,
   "metadata": {},
   "outputs": [
    {
     "name": "stdout",
     "output_type": "stream",
     "text": [
      "Hello\\tthere,\\nthis is a cat: \\U0001F431.\n"
     ]
    }
   ],
   "source": [
    "print(\"Hello\\\\tthere,\\\\nthis is a cat: \\\\U0001F431.\")"
   ]
  },
  {
   "cell_type": "markdown",
   "metadata": {},
   "source": [
    "The second method is to precede the string with the `r` character, to create a \"raw string\", in which backlashes are treated like any other character:"
   ]
  },
  {
   "cell_type": "code",
   "execution_count": 3,
   "metadata": {},
   "outputs": [
    {
     "name": "stdout",
     "output_type": "stream",
     "text": [
      "Hello\\tthere,\\nthis is a cat: \\U0001F431.\n"
     ]
    }
   ],
   "source": [
    "print(r\"Hello\\tthere,\\nthis is a cat: \\U0001F431.\")"
   ]
  },
  {
   "cell_type": "markdown",
   "metadata": {},
   "source": [
    "While working with regular expressions this second method is usually more convenient, and we will use it below."
   ]
  },
  {
   "cell_type": "markdown",
   "metadata": {},
   "source": [
    "## Visualizing regular expressions\n",
    "\n",
    "Regular expressions are a feature of many programming languages. In Python they are implemented by the [re](https://docs.python.org/3/library/re.html?highlight=re#module-re) module:"
   ]
  },
  {
   "cell_type": "code",
   "execution_count": 4,
   "metadata": {},
   "outputs": [],
   "source": [
    "import re"
   ]
  },
  {
   "cell_type": "markdown",
   "metadata": {},
   "source": [
    "We will use the following function to illustrate the syntax of regular expressions:"
   ]
  },
  {
   "cell_type": "code",
   "execution_count": 5,
   "metadata": {},
   "outputs": [],
   "source": [
    "from IPython.core.display import display, HTML\n",
    "\n",
    "def re_show(regex, text = \"\", flags=0):\n",
    "    \"\"\"\n",
    "    Displays text with the regex match highlighted.\n",
    "    \"\"\"\n",
    "    text_css = '''\"border-style: none;\n",
    "                   border-width: 0px;\n",
    "                   padding: 0px;\n",
    "                   font-size: 14px;\n",
    "                   color: darkslategray;\n",
    "                   background-color: white;\n",
    "                   white-space: pre;\n",
    "                   line-height: 20px;\"\n",
    "                   ''' \n",
    "    match_css = '''\"padding: 0px 1px 0px 1px;\n",
    "                    margin: 0px 0.5px 0px 0.5px;\n",
    "                    border-style: solid;\n",
    "                    border-width: 0.5px;\n",
    "                    border-color: darkred;\n",
    "                    background-color: cornsilk;\n",
    "                    color: red;\"\n",
    "                    '''\n",
    "    \n",
    "    r = re.compile(f\"({regex})\", flags = flags)\n",
    "    s = f'<code style={text_css}>' \n",
    "    s += r.sub(fr'<span style={match_css}>\\1</span>', text) \n",
    "    s += '</code>'\n",
    "    display(HTML(s))"
   ]
  },
  {
   "cell_type": "markdown",
   "metadata": {},
   "source": [
    "The first argument of this function is a regular expression. The second is a string in which we search for the pattern specified by the regular expression. The function prints the string with the pattern matches highlighted:"
   ]
  },
  {
   "cell_type": "code",
   "execution_count": 6,
   "metadata": {},
   "outputs": [
    {
     "data": {
      "text/html": [
       "<code style=\"border-style: none;\n",
       "                   border-width: 0px;\n",
       "                   padding: 0px;\n",
       "                   font-size: 14px;\n",
       "                   color: darkslategray;\n",
       "                   background-color: white;\n",
       "                   white-space: pre;\n",
       "                   line-height: 20px;\"\n",
       "                   >Th<span style=\"padding: 0px 1px 0px 1px;\n",
       "                    margin: 0px 0.5px 0px 0.5px;\n",
       "                    border-style: solid;\n",
       "                    border-width: 0.5px;\n",
       "                    border-color: darkred;\n",
       "                    background-color: cornsilk;\n",
       "                    color: red;\"\n",
       "                    >is</span> <span style=\"padding: 0px 1px 0px 1px;\n",
       "                    margin: 0px 0.5px 0px 0.5px;\n",
       "                    border-style: solid;\n",
       "                    border-width: 0.5px;\n",
       "                    border-color: darkred;\n",
       "                    background-color: cornsilk;\n",
       "                    color: red;\"\n",
       "                    >is</span> the course MTH 548 Data Oriented Computing!</code>"
      ],
      "text/plain": [
       "<IPython.core.display.HTML object>"
      ]
     },
     "metadata": {},
     "output_type": "display_data"
    }
   ],
   "source": [
    "text = \"This is the course MTH 548 Data Oriented Computing!\"\n",
    "re_show(r\"is\", text) # search for all occurences of \"is\""
   ]
  },
  {
   "cell_type": "markdown",
   "metadata": {},
   "source": [
    "## Character classes \n",
    "\n",
    "As the above example shows, a regular expressions can simply consist of a string we want to search for. The real power of regular expressions, however, is that they can contain special character sequences with a more general  meaning. \n",
    "\n",
    "       \n",
    "| Sequence       |  What it matches                                                                   |\n",
    "|:---------------|:-----------------------------------------------------------------------------------|\n",
    "| `.`            | Anything except the newline character.                                             |\n",
    "| `\\w`           | Any words character: a letter `A-Z`,`a-z`, a digit `0-9`or the underscore `_`.     |\n",
    "| `\\W`           | Any character which is not matched by `w`.                                         |\n",
    "| `\\d`           | Any digit `0-9`.                                                                   |\n",
    "| `\\D`           | All characters which are not matched by `w`.                                       |\n",
    "| `[...]`        | Any character listed inside the square brackets.                                   |\n",
    "| `[^...]`       | Any character not listed inside the square brackets.                               |\n",
    "| `...|...`      | Match either of the patterns on two sides of the vertical bar                      |"
   ]
  },
  {
   "cell_type": "markdown",
   "metadata": {},
   "source": [
    "**Examples.**"
   ]
  },
  {
   "cell_type": "code",
   "execution_count": 7,
   "metadata": {},
   "outputs": [
    {
     "data": {
      "text/html": [
       "<code style=\"border-style: none;\n",
       "                   border-width: 0px;\n",
       "                   padding: 0px;\n",
       "                   font-size: 14px;\n",
       "                   color: darkslategray;\n",
       "                   background-color: white;\n",
       "                   white-space: pre;\n",
       "                   line-height: 20px;\"\n",
       "                   >This is<span style=\"padding: 0px 1px 0px 1px;\n",
       "                    margin: 0px 0.5px 0px 0.5px;\n",
       "                    border-style: solid;\n",
       "                    border-width: 0.5px;\n",
       "                    border-color: darkred;\n",
       "                    background-color: cornsilk;\n",
       "                    color: red;\"\n",
       "                    > t</span>he course MTH 548 D<span style=\"padding: 0px 1px 0px 1px;\n",
       "                    margin: 0px 0.5px 0px 0.5px;\n",
       "                    border-style: solid;\n",
       "                    border-width: 0.5px;\n",
       "                    border-color: darkred;\n",
       "                    background-color: cornsilk;\n",
       "                    color: red;\"\n",
       "                    >at</span>a Orie<span style=\"padding: 0px 1px 0px 1px;\n",
       "                    margin: 0px 0.5px 0px 0.5px;\n",
       "                    border-style: solid;\n",
       "                    border-width: 0.5px;\n",
       "                    border-color: darkred;\n",
       "                    background-color: cornsilk;\n",
       "                    color: red;\"\n",
       "                    >nt</span>ed Comp<span style=\"padding: 0px 1px 0px 1px;\n",
       "                    margin: 0px 0.5px 0px 0.5px;\n",
       "                    border-style: solid;\n",
       "                    border-width: 0.5px;\n",
       "                    border-color: darkred;\n",
       "                    background-color: cornsilk;\n",
       "                    color: red;\"\n",
       "                    >ut</span>ing!</code>"
      ],
      "text/plain": [
       "<IPython.core.display.HTML object>"
      ]
     },
     "metadata": {},
     "output_type": "display_data"
    }
   ],
   "source": [
    "# match any character followed by a \"t\"\n",
    "re_show(r\".t\", text) "
   ]
  },
  {
   "cell_type": "code",
   "execution_count": 8,
   "metadata": {},
   "outputs": [
    {
     "data": {
      "text/html": [
       "<code style=\"border-style: none;\n",
       "                   border-width: 0px;\n",
       "                   padding: 0px;\n",
       "                   font-size: 14px;\n",
       "                   color: darkslategray;\n",
       "                   background-color: white;\n",
       "                   white-space: pre;\n",
       "                   line-height: 20px;\"\n",
       "                   >This is the course MTH 548 Data Oriented Comput<span style=\"padding: 0px 1px 0px 1px;\n",
       "                    margin: 0px 0.5px 0px 0.5px;\n",
       "                    border-style: solid;\n",
       "                    border-width: 0.5px;\n",
       "                    border-color: darkred;\n",
       "                    background-color: cornsilk;\n",
       "                    color: red;\"\n",
       "                    >ing!</span></code>"
      ],
      "text/plain": [
       "<IPython.core.display.HTML object>"
      ]
     },
     "metadata": {},
     "output_type": "display_data"
    }
   ],
   "source": [
    "# match \"i\" followed by two arbitrary characters, and a non-word character:\n",
    "re_show(r\"i..\\W\", text) "
   ]
  },
  {
   "cell_type": "code",
   "execution_count": 9,
   "metadata": {},
   "outputs": [
    {
     "data": {
      "text/html": [
       "<code style=\"border-style: none;\n",
       "                   border-width: 0px;\n",
       "                   padding: 0px;\n",
       "                   font-size: 14px;\n",
       "                   color: darkslategray;\n",
       "                   background-color: white;\n",
       "                   white-space: pre;\n",
       "                   line-height: 20px;\"\n",
       "                   >This is the course MTH <span style=\"padding: 0px 1px 0px 1px;\n",
       "                    margin: 0px 0.5px 0px 0.5px;\n",
       "                    border-style: solid;\n",
       "                    border-width: 0.5px;\n",
       "                    border-color: darkred;\n",
       "                    background-color: cornsilk;\n",
       "                    color: red;\"\n",
       "                    >54</span>8 Data Oriented Computing!</code>"
      ],
      "text/plain": [
       "<IPython.core.display.HTML object>"
      ]
     },
     "metadata": {},
     "output_type": "display_data"
    }
   ],
   "source": [
    "# match two consecutive digits\n",
    "re_show(r\"\\d\\d\", text) "
   ]
  },
  {
   "cell_type": "code",
   "execution_count": 10,
   "metadata": {},
   "outputs": [
    {
     "data": {
      "text/html": [
       "<code style=\"border-style: none;\n",
       "                   border-width: 0px;\n",
       "                   padding: 0px;\n",
       "                   font-size: 14px;\n",
       "                   color: darkslategray;\n",
       "                   background-color: white;\n",
       "                   white-space: pre;\n",
       "                   line-height: 20px;\"\n",
       "                   >This is the course MTH 548 <span style=\"padding: 0px 1px 0px 1px;\n",
       "                    margin: 0px 0.5px 0px 0.5px;\n",
       "                    border-style: solid;\n",
       "                    border-width: 0.5px;\n",
       "                    border-color: darkred;\n",
       "                    background-color: cornsilk;\n",
       "                    color: red;\"\n",
       "                    >D</span>ata Oriente<span style=\"padding: 0px 1px 0px 1px;\n",
       "                    margin: 0px 0.5px 0px 0.5px;\n",
       "                    border-style: solid;\n",
       "                    border-width: 0.5px;\n",
       "                    border-color: darkred;\n",
       "                    background-color: cornsilk;\n",
       "                    color: red;\"\n",
       "                    >d</span> Computing!</code>"
      ],
      "text/plain": [
       "<IPython.core.display.HTML object>"
      ]
     },
     "metadata": {},
     "output_type": "display_data"
    }
   ],
   "source": [
    "# match either \"D\" or \"d\"\n",
    "re_show(r\"[Dd]\", text) "
   ]
  },
  {
   "cell_type": "code",
   "execution_count": 11,
   "metadata": {},
   "outputs": [
    {
     "data": {
      "text/html": [
       "<code style=\"border-style: none;\n",
       "                   border-width: 0px;\n",
       "                   padding: 0px;\n",
       "                   font-size: 14px;\n",
       "                   color: darkslategray;\n",
       "                   background-color: white;\n",
       "                   white-space: pre;\n",
       "                   line-height: 20px;\"\n",
       "                   ><span style=\"padding: 0px 1px 0px 1px;\n",
       "                    margin: 0px 0.5px 0px 0.5px;\n",
       "                    border-style: solid;\n",
       "                    border-width: 0.5px;\n",
       "                    border-color: darkred;\n",
       "                    background-color: cornsilk;\n",
       "                    color: red;\"\n",
       "                    >This</span> is the <span style=\"padding: 0px 1px 0px 1px;\n",
       "                    margin: 0px 0.5px 0px 0.5px;\n",
       "                    border-style: solid;\n",
       "                    border-width: 0.5px;\n",
       "                    border-color: darkred;\n",
       "                    background-color: cornsilk;\n",
       "                    color: red;\"\n",
       "                    >cour</span>se MTH 548 Data <span style=\"padding: 0px 1px 0px 1px;\n",
       "                    margin: 0px 0.5px 0px 0.5px;\n",
       "                    border-style: solid;\n",
       "                    border-width: 0.5px;\n",
       "                    border-color: darkred;\n",
       "                    background-color: cornsilk;\n",
       "                    color: red;\"\n",
       "                    >Orie</span><span style=\"padding: 0px 1px 0px 1px;\n",
       "                    margin: 0px 0.5px 0px 0.5px;\n",
       "                    border-style: solid;\n",
       "                    border-width: 0.5px;\n",
       "                    border-color: darkred;\n",
       "                    background-color: cornsilk;\n",
       "                    color: red;\"\n",
       "                    >nted</span> <span style=\"padding: 0px 1px 0px 1px;\n",
       "                    margin: 0px 0.5px 0px 0.5px;\n",
       "                    border-style: solid;\n",
       "                    border-width: 0.5px;\n",
       "                    border-color: darkred;\n",
       "                    background-color: cornsilk;\n",
       "                    color: red;\"\n",
       "                    >Comp</span><span style=\"padding: 0px 1px 0px 1px;\n",
       "                    margin: 0px 0.5px 0px 0.5px;\n",
       "                    border-style: solid;\n",
       "                    border-width: 0.5px;\n",
       "                    border-color: darkred;\n",
       "                    background-color: cornsilk;\n",
       "                    color: red;\"\n",
       "                    >utin</span>g!</code>"
      ],
      "text/plain": [
       "<IPython.core.display.HTML object>"
      ]
     },
     "metadata": {},
     "output_type": "display_data"
    }
   ],
   "source": [
    "# match sequences consisting of 4 characters \n",
    "# different than the space \" \" and \"a\":\n",
    "re_show(r\"[^ a][^ a][^ a][^ a]\", text) "
   ]
  },
  {
   "cell_type": "code",
   "execution_count": 12,
   "metadata": {},
   "outputs": [
    {
     "data": {
      "text/html": [
       "<code style=\"border-style: none;\n",
       "                   border-width: 0px;\n",
       "                   padding: 0px;\n",
       "                   font-size: 14px;\n",
       "                   color: darkslategray;\n",
       "                   background-color: white;\n",
       "                   white-space: pre;\n",
       "                   line-height: 20px;\"\n",
       "                   >Th<span style=\"padding: 0px 1px 0px 1px;\n",
       "                    margin: 0px 0.5px 0px 0.5px;\n",
       "                    border-style: solid;\n",
       "                    border-width: 0.5px;\n",
       "                    border-color: darkred;\n",
       "                    background-color: cornsilk;\n",
       "                    color: red;\"\n",
       "                    >is</span> <span style=\"padding: 0px 1px 0px 1px;\n",
       "                    margin: 0px 0.5px 0px 0.5px;\n",
       "                    border-style: solid;\n",
       "                    border-width: 0.5px;\n",
       "                    border-color: darkred;\n",
       "                    background-color: cornsilk;\n",
       "                    color: red;\"\n",
       "                    >is</span> the course MTH 548 Data Oriented Comput<span style=\"padding: 0px 1px 0px 1px;\n",
       "                    margin: 0px 0.5px 0px 0.5px;\n",
       "                    border-style: solid;\n",
       "                    border-width: 0.5px;\n",
       "                    border-color: darkred;\n",
       "                    background-color: cornsilk;\n",
       "                    color: red;\"\n",
       "                    >in</span>g!</code>"
      ],
      "text/plain": [
       "<IPython.core.display.HTML object>"
      ]
     },
     "metadata": {},
     "output_type": "display_data"
    }
   ],
   "source": [
    "# match either \"is\" or \"in\"\n",
    "re_show(r\"is|in\", text) "
   ]
  },
  {
   "cell_type": "markdown",
   "metadata": {},
   "source": [
    "## Repetitions\n",
    "\n",
    "In regular expressions we can specify in various ways how many times some pattern should repeat in a match:\n",
    "\n",
    "| Sequence      |  What it means                                                                      |\n",
    "|:--------------|:------------------------------------------------------------------------------------|\n",
    "| `*`           | Match the preceding pattern 0 or more times, as many times as possible.             |\n",
    "| `+`           | Match the preceding pattern 1 or more times, as many times as possible.             |\n",
    "| `?`           | Match 0 or 1 times.                                                                 |\n",
    "| `{n}`         | Match exactly `n` times.                                                            |\n",
    "| `{n, m}`      | Match as many times as possible, but at least `n` times, and no more than `m` times.|\n",
    "| `{n,}`        | Match as many times as possible, but at least `n` times.                            |\n",
    "| `{,m}`        | Match as many times as possible, but no more than `m` times.                        |"
   ]
  },
  {
   "cell_type": "markdown",
   "metadata": {},
   "source": [
    "**Examples.**"
   ]
  },
  {
   "cell_type": "code",
   "execution_count": 13,
   "metadata": {},
   "outputs": [
    {
     "data": {
      "text/html": [
       "<code style=\"border-style: none;\n",
       "                   border-width: 0px;\n",
       "                   padding: 0px;\n",
       "                   font-size: 14px;\n",
       "                   color: darkslategray;\n",
       "                   background-color: white;\n",
       "                   white-space: pre;\n",
       "                   line-height: 20px;\"\n",
       "                   >This is the <span style=\"padding: 0px 1px 0px 1px;\n",
       "                    margin: 0px 0.5px 0px 0.5px;\n",
       "                    border-style: solid;\n",
       "                    border-width: 0.5px;\n",
       "                    border-color: darkred;\n",
       "                    background-color: cornsilk;\n",
       "                    color: red;\"\n",
       "                    >course</span> MTH 548 Data <span style=\"padding: 0px 1px 0px 1px;\n",
       "                    margin: 0px 0.5px 0px 0.5px;\n",
       "                    border-style: solid;\n",
       "                    border-width: 0.5px;\n",
       "                    border-color: darkred;\n",
       "                    background-color: cornsilk;\n",
       "                    color: red;\"\n",
       "                    >Orient</span>ed <span style=\"padding: 0px 1px 0px 1px;\n",
       "                    margin: 0px 0.5px 0px 0.5px;\n",
       "                    border-style: solid;\n",
       "                    border-width: 0.5px;\n",
       "                    border-color: darkred;\n",
       "                    background-color: cornsilk;\n",
       "                    color: red;\"\n",
       "                    >Comput</span>ing!</code>"
      ],
      "text/plain": [
       "<IPython.core.display.HTML object>"
      ]
     },
     "metadata": {},
     "output_type": "display_data"
    }
   ],
   "source": [
    "# match sequences consisting of exactly 6 word characters\n",
    "re_show(r\"\\w{6}\", text) "
   ]
  },
  {
   "cell_type": "code",
   "execution_count": 14,
   "metadata": {},
   "outputs": [
    {
     "data": {
      "text/html": [
       "<code style=\"border-style: none;\n",
       "                   border-width: 0px;\n",
       "                   padding: 0px;\n",
       "                   font-size: 14px;\n",
       "                   color: darkslategray;\n",
       "                   background-color: white;\n",
       "                   white-space: pre;\n",
       "                   line-height: 20px;\"\n",
       "                   >This is the course MTH <span style=\"padding: 0px 1px 0px 1px;\n",
       "                    margin: 0px 0.5px 0px 0.5px;\n",
       "                    border-style: solid;\n",
       "                    border-width: 0.5px;\n",
       "                    border-color: darkred;\n",
       "                    background-color: cornsilk;\n",
       "                    color: red;\"\n",
       "                    >548</span> Data Oriented Computing!</code>"
      ],
      "text/plain": [
       "<IPython.core.display.HTML object>"
      ]
     },
     "metadata": {},
     "output_type": "display_data"
    }
   ],
   "source": [
    "# match all sequences consisting of 1 or more digits\n",
    "re_show(r\"\\d+\", text) "
   ]
  },
  {
   "cell_type": "code",
   "execution_count": 15,
   "metadata": {},
   "outputs": [
    {
     "data": {
      "text/html": [
       "<code style=\"border-style: none;\n",
       "                   border-width: 0px;\n",
       "                   padding: 0px;\n",
       "                   font-size: 14px;\n",
       "                   color: darkslategray;\n",
       "                   background-color: white;\n",
       "                   white-space: pre;\n",
       "                   line-height: 20px;\"\n",
       "                   ><span style=\"padding: 0px 1px 0px 1px;\n",
       "                    margin: 0px 0.5px 0px 0.5px;\n",
       "                    border-style: solid;\n",
       "                    border-width: 0.5px;\n",
       "                    border-color: darkred;\n",
       "                    background-color: cornsilk;\n",
       "                    color: red;\"\n",
       "                    ></span>T<span style=\"padding: 0px 1px 0px 1px;\n",
       "                    margin: 0px 0.5px 0px 0.5px;\n",
       "                    border-style: solid;\n",
       "                    border-width: 0.5px;\n",
       "                    border-color: darkred;\n",
       "                    background-color: cornsilk;\n",
       "                    color: red;\"\n",
       "                    ></span>h<span style=\"padding: 0px 1px 0px 1px;\n",
       "                    margin: 0px 0.5px 0px 0.5px;\n",
       "                    border-style: solid;\n",
       "                    border-width: 0.5px;\n",
       "                    border-color: darkred;\n",
       "                    background-color: cornsilk;\n",
       "                    color: red;\"\n",
       "                    ></span>i<span style=\"padding: 0px 1px 0px 1px;\n",
       "                    margin: 0px 0.5px 0px 0.5px;\n",
       "                    border-style: solid;\n",
       "                    border-width: 0.5px;\n",
       "                    border-color: darkred;\n",
       "                    background-color: cornsilk;\n",
       "                    color: red;\"\n",
       "                    ></span>s<span style=\"padding: 0px 1px 0px 1px;\n",
       "                    margin: 0px 0.5px 0px 0.5px;\n",
       "                    border-style: solid;\n",
       "                    border-width: 0.5px;\n",
       "                    border-color: darkred;\n",
       "                    background-color: cornsilk;\n",
       "                    color: red;\"\n",
       "                    ></span> <span style=\"padding: 0px 1px 0px 1px;\n",
       "                    margin: 0px 0.5px 0px 0.5px;\n",
       "                    border-style: solid;\n",
       "                    border-width: 0.5px;\n",
       "                    border-color: darkred;\n",
       "                    background-color: cornsilk;\n",
       "                    color: red;\"\n",
       "                    ></span>i<span style=\"padding: 0px 1px 0px 1px;\n",
       "                    margin: 0px 0.5px 0px 0.5px;\n",
       "                    border-style: solid;\n",
       "                    border-width: 0.5px;\n",
       "                    border-color: darkred;\n",
       "                    background-color: cornsilk;\n",
       "                    color: red;\"\n",
       "                    ></span>s<span style=\"padding: 0px 1px 0px 1px;\n",
       "                    margin: 0px 0.5px 0px 0.5px;\n",
       "                    border-style: solid;\n",
       "                    border-width: 0.5px;\n",
       "                    border-color: darkred;\n",
       "                    background-color: cornsilk;\n",
       "                    color: red;\"\n",
       "                    ></span> <span style=\"padding: 0px 1px 0px 1px;\n",
       "                    margin: 0px 0.5px 0px 0.5px;\n",
       "                    border-style: solid;\n",
       "                    border-width: 0.5px;\n",
       "                    border-color: darkred;\n",
       "                    background-color: cornsilk;\n",
       "                    color: red;\"\n",
       "                    ></span>t<span style=\"padding: 0px 1px 0px 1px;\n",
       "                    margin: 0px 0.5px 0px 0.5px;\n",
       "                    border-style: solid;\n",
       "                    border-width: 0.5px;\n",
       "                    border-color: darkred;\n",
       "                    background-color: cornsilk;\n",
       "                    color: red;\"\n",
       "                    ></span>h<span style=\"padding: 0px 1px 0px 1px;\n",
       "                    margin: 0px 0.5px 0px 0.5px;\n",
       "                    border-style: solid;\n",
       "                    border-width: 0.5px;\n",
       "                    border-color: darkred;\n",
       "                    background-color: cornsilk;\n",
       "                    color: red;\"\n",
       "                    ></span>e<span style=\"padding: 0px 1px 0px 1px;\n",
       "                    margin: 0px 0.5px 0px 0.5px;\n",
       "                    border-style: solid;\n",
       "                    border-width: 0.5px;\n",
       "                    border-color: darkred;\n",
       "                    background-color: cornsilk;\n",
       "                    color: red;\"\n",
       "                    ></span> <span style=\"padding: 0px 1px 0px 1px;\n",
       "                    margin: 0px 0.5px 0px 0.5px;\n",
       "                    border-style: solid;\n",
       "                    border-width: 0.5px;\n",
       "                    border-color: darkred;\n",
       "                    background-color: cornsilk;\n",
       "                    color: red;\"\n",
       "                    ></span>c<span style=\"padding: 0px 1px 0px 1px;\n",
       "                    margin: 0px 0.5px 0px 0.5px;\n",
       "                    border-style: solid;\n",
       "                    border-width: 0.5px;\n",
       "                    border-color: darkred;\n",
       "                    background-color: cornsilk;\n",
       "                    color: red;\"\n",
       "                    ></span>o<span style=\"padding: 0px 1px 0px 1px;\n",
       "                    margin: 0px 0.5px 0px 0.5px;\n",
       "                    border-style: solid;\n",
       "                    border-width: 0.5px;\n",
       "                    border-color: darkred;\n",
       "                    background-color: cornsilk;\n",
       "                    color: red;\"\n",
       "                    ></span>u<span style=\"padding: 0px 1px 0px 1px;\n",
       "                    margin: 0px 0.5px 0px 0.5px;\n",
       "                    border-style: solid;\n",
       "                    border-width: 0.5px;\n",
       "                    border-color: darkred;\n",
       "                    background-color: cornsilk;\n",
       "                    color: red;\"\n",
       "                    ></span>r<span style=\"padding: 0px 1px 0px 1px;\n",
       "                    margin: 0px 0.5px 0px 0.5px;\n",
       "                    border-style: solid;\n",
       "                    border-width: 0.5px;\n",
       "                    border-color: darkred;\n",
       "                    background-color: cornsilk;\n",
       "                    color: red;\"\n",
       "                    ></span>s<span style=\"padding: 0px 1px 0px 1px;\n",
       "                    margin: 0px 0.5px 0px 0.5px;\n",
       "                    border-style: solid;\n",
       "                    border-width: 0.5px;\n",
       "                    border-color: darkred;\n",
       "                    background-color: cornsilk;\n",
       "                    color: red;\"\n",
       "                    ></span>e<span style=\"padding: 0px 1px 0px 1px;\n",
       "                    margin: 0px 0.5px 0px 0.5px;\n",
       "                    border-style: solid;\n",
       "                    border-width: 0.5px;\n",
       "                    border-color: darkred;\n",
       "                    background-color: cornsilk;\n",
       "                    color: red;\"\n",
       "                    ></span> <span style=\"padding: 0px 1px 0px 1px;\n",
       "                    margin: 0px 0.5px 0px 0.5px;\n",
       "                    border-style: solid;\n",
       "                    border-width: 0.5px;\n",
       "                    border-color: darkred;\n",
       "                    background-color: cornsilk;\n",
       "                    color: red;\"\n",
       "                    ></span>M<span style=\"padding: 0px 1px 0px 1px;\n",
       "                    margin: 0px 0.5px 0px 0.5px;\n",
       "                    border-style: solid;\n",
       "                    border-width: 0.5px;\n",
       "                    border-color: darkred;\n",
       "                    background-color: cornsilk;\n",
       "                    color: red;\"\n",
       "                    ></span>T<span style=\"padding: 0px 1px 0px 1px;\n",
       "                    margin: 0px 0.5px 0px 0.5px;\n",
       "                    border-style: solid;\n",
       "                    border-width: 0.5px;\n",
       "                    border-color: darkred;\n",
       "                    background-color: cornsilk;\n",
       "                    color: red;\"\n",
       "                    ></span>H<span style=\"padding: 0px 1px 0px 1px;\n",
       "                    margin: 0px 0.5px 0px 0.5px;\n",
       "                    border-style: solid;\n",
       "                    border-width: 0.5px;\n",
       "                    border-color: darkred;\n",
       "                    background-color: cornsilk;\n",
       "                    color: red;\"\n",
       "                    ></span> <span style=\"padding: 0px 1px 0px 1px;\n",
       "                    margin: 0px 0.5px 0px 0.5px;\n",
       "                    border-style: solid;\n",
       "                    border-width: 0.5px;\n",
       "                    border-color: darkred;\n",
       "                    background-color: cornsilk;\n",
       "                    color: red;\"\n",
       "                    >548</span><span style=\"padding: 0px 1px 0px 1px;\n",
       "                    margin: 0px 0.5px 0px 0.5px;\n",
       "                    border-style: solid;\n",
       "                    border-width: 0.5px;\n",
       "                    border-color: darkred;\n",
       "                    background-color: cornsilk;\n",
       "                    color: red;\"\n",
       "                    ></span> <span style=\"padding: 0px 1px 0px 1px;\n",
       "                    margin: 0px 0.5px 0px 0.5px;\n",
       "                    border-style: solid;\n",
       "                    border-width: 0.5px;\n",
       "                    border-color: darkred;\n",
       "                    background-color: cornsilk;\n",
       "                    color: red;\"\n",
       "                    ></span>D<span style=\"padding: 0px 1px 0px 1px;\n",
       "                    margin: 0px 0.5px 0px 0.5px;\n",
       "                    border-style: solid;\n",
       "                    border-width: 0.5px;\n",
       "                    border-color: darkred;\n",
       "                    background-color: cornsilk;\n",
       "                    color: red;\"\n",
       "                    ></span>a<span style=\"padding: 0px 1px 0px 1px;\n",
       "                    margin: 0px 0.5px 0px 0.5px;\n",
       "                    border-style: solid;\n",
       "                    border-width: 0.5px;\n",
       "                    border-color: darkred;\n",
       "                    background-color: cornsilk;\n",
       "                    color: red;\"\n",
       "                    ></span>t<span style=\"padding: 0px 1px 0px 1px;\n",
       "                    margin: 0px 0.5px 0px 0.5px;\n",
       "                    border-style: solid;\n",
       "                    border-width: 0.5px;\n",
       "                    border-color: darkred;\n",
       "                    background-color: cornsilk;\n",
       "                    color: red;\"\n",
       "                    ></span>a<span style=\"padding: 0px 1px 0px 1px;\n",
       "                    margin: 0px 0.5px 0px 0.5px;\n",
       "                    border-style: solid;\n",
       "                    border-width: 0.5px;\n",
       "                    border-color: darkred;\n",
       "                    background-color: cornsilk;\n",
       "                    color: red;\"\n",
       "                    ></span> <span style=\"padding: 0px 1px 0px 1px;\n",
       "                    margin: 0px 0.5px 0px 0.5px;\n",
       "                    border-style: solid;\n",
       "                    border-width: 0.5px;\n",
       "                    border-color: darkred;\n",
       "                    background-color: cornsilk;\n",
       "                    color: red;\"\n",
       "                    ></span>O<span style=\"padding: 0px 1px 0px 1px;\n",
       "                    margin: 0px 0.5px 0px 0.5px;\n",
       "                    border-style: solid;\n",
       "                    border-width: 0.5px;\n",
       "                    border-color: darkred;\n",
       "                    background-color: cornsilk;\n",
       "                    color: red;\"\n",
       "                    ></span>r<span style=\"padding: 0px 1px 0px 1px;\n",
       "                    margin: 0px 0.5px 0px 0.5px;\n",
       "                    border-style: solid;\n",
       "                    border-width: 0.5px;\n",
       "                    border-color: darkred;\n",
       "                    background-color: cornsilk;\n",
       "                    color: red;\"\n",
       "                    ></span>i<span style=\"padding: 0px 1px 0px 1px;\n",
       "                    margin: 0px 0.5px 0px 0.5px;\n",
       "                    border-style: solid;\n",
       "                    border-width: 0.5px;\n",
       "                    border-color: darkred;\n",
       "                    background-color: cornsilk;\n",
       "                    color: red;\"\n",
       "                    ></span>e<span style=\"padding: 0px 1px 0px 1px;\n",
       "                    margin: 0px 0.5px 0px 0.5px;\n",
       "                    border-style: solid;\n",
       "                    border-width: 0.5px;\n",
       "                    border-color: darkred;\n",
       "                    background-color: cornsilk;\n",
       "                    color: red;\"\n",
       "                    ></span>n<span style=\"padding: 0px 1px 0px 1px;\n",
       "                    margin: 0px 0.5px 0px 0.5px;\n",
       "                    border-style: solid;\n",
       "                    border-width: 0.5px;\n",
       "                    border-color: darkred;\n",
       "                    background-color: cornsilk;\n",
       "                    color: red;\"\n",
       "                    ></span>t<span style=\"padding: 0px 1px 0px 1px;\n",
       "                    margin: 0px 0.5px 0px 0.5px;\n",
       "                    border-style: solid;\n",
       "                    border-width: 0.5px;\n",
       "                    border-color: darkred;\n",
       "                    background-color: cornsilk;\n",
       "                    color: red;\"\n",
       "                    ></span>e<span style=\"padding: 0px 1px 0px 1px;\n",
       "                    margin: 0px 0.5px 0px 0.5px;\n",
       "                    border-style: solid;\n",
       "                    border-width: 0.5px;\n",
       "                    border-color: darkred;\n",
       "                    background-color: cornsilk;\n",
       "                    color: red;\"\n",
       "                    ></span>d<span style=\"padding: 0px 1px 0px 1px;\n",
       "                    margin: 0px 0.5px 0px 0.5px;\n",
       "                    border-style: solid;\n",
       "                    border-width: 0.5px;\n",
       "                    border-color: darkred;\n",
       "                    background-color: cornsilk;\n",
       "                    color: red;\"\n",
       "                    ></span> <span style=\"padding: 0px 1px 0px 1px;\n",
       "                    margin: 0px 0.5px 0px 0.5px;\n",
       "                    border-style: solid;\n",
       "                    border-width: 0.5px;\n",
       "                    border-color: darkred;\n",
       "                    background-color: cornsilk;\n",
       "                    color: red;\"\n",
       "                    ></span>C<span style=\"padding: 0px 1px 0px 1px;\n",
       "                    margin: 0px 0.5px 0px 0.5px;\n",
       "                    border-style: solid;\n",
       "                    border-width: 0.5px;\n",
       "                    border-color: darkred;\n",
       "                    background-color: cornsilk;\n",
       "                    color: red;\"\n",
       "                    ></span>o<span style=\"padding: 0px 1px 0px 1px;\n",
       "                    margin: 0px 0.5px 0px 0.5px;\n",
       "                    border-style: solid;\n",
       "                    border-width: 0.5px;\n",
       "                    border-color: darkred;\n",
       "                    background-color: cornsilk;\n",
       "                    color: red;\"\n",
       "                    ></span>m<span style=\"padding: 0px 1px 0px 1px;\n",
       "                    margin: 0px 0.5px 0px 0.5px;\n",
       "                    border-style: solid;\n",
       "                    border-width: 0.5px;\n",
       "                    border-color: darkred;\n",
       "                    background-color: cornsilk;\n",
       "                    color: red;\"\n",
       "                    ></span>p<span style=\"padding: 0px 1px 0px 1px;\n",
       "                    margin: 0px 0.5px 0px 0.5px;\n",
       "                    border-style: solid;\n",
       "                    border-width: 0.5px;\n",
       "                    border-color: darkred;\n",
       "                    background-color: cornsilk;\n",
       "                    color: red;\"\n",
       "                    ></span>u<span style=\"padding: 0px 1px 0px 1px;\n",
       "                    margin: 0px 0.5px 0px 0.5px;\n",
       "                    border-style: solid;\n",
       "                    border-width: 0.5px;\n",
       "                    border-color: darkred;\n",
       "                    background-color: cornsilk;\n",
       "                    color: red;\"\n",
       "                    ></span>t<span style=\"padding: 0px 1px 0px 1px;\n",
       "                    margin: 0px 0.5px 0px 0.5px;\n",
       "                    border-style: solid;\n",
       "                    border-width: 0.5px;\n",
       "                    border-color: darkred;\n",
       "                    background-color: cornsilk;\n",
       "                    color: red;\"\n",
       "                    ></span>i<span style=\"padding: 0px 1px 0px 1px;\n",
       "                    margin: 0px 0.5px 0px 0.5px;\n",
       "                    border-style: solid;\n",
       "                    border-width: 0.5px;\n",
       "                    border-color: darkred;\n",
       "                    background-color: cornsilk;\n",
       "                    color: red;\"\n",
       "                    ></span>n<span style=\"padding: 0px 1px 0px 1px;\n",
       "                    margin: 0px 0.5px 0px 0.5px;\n",
       "                    border-style: solid;\n",
       "                    border-width: 0.5px;\n",
       "                    border-color: darkred;\n",
       "                    background-color: cornsilk;\n",
       "                    color: red;\"\n",
       "                    ></span>g<span style=\"padding: 0px 1px 0px 1px;\n",
       "                    margin: 0px 0.5px 0px 0.5px;\n",
       "                    border-style: solid;\n",
       "                    border-width: 0.5px;\n",
       "                    border-color: darkred;\n",
       "                    background-color: cornsilk;\n",
       "                    color: red;\"\n",
       "                    ></span>!<span style=\"padding: 0px 1px 0px 1px;\n",
       "                    margin: 0px 0.5px 0px 0.5px;\n",
       "                    border-style: solid;\n",
       "                    border-width: 0.5px;\n",
       "                    border-color: darkred;\n",
       "                    background-color: cornsilk;\n",
       "                    color: red;\"\n",
       "                    ></span></code>"
      ],
      "text/plain": [
       "<IPython.core.display.HTML object>"
      ]
     },
     "metadata": {},
     "output_type": "display_data"
    }
   ],
   "source": [
    "# match all sequences consisting of 0 or more digits\n",
    "# notice that every empty sequence between two non-digit characters will match\n",
    "re_show(r\"\\d*\", text) "
   ]
  },
  {
   "cell_type": "code",
   "execution_count": 16,
   "metadata": {},
   "outputs": [
    {
     "data": {
      "text/html": [
       "<code style=\"border-style: none;\n",
       "                   border-width: 0px;\n",
       "                   padding: 0px;\n",
       "                   font-size: 14px;\n",
       "                   color: darkslategray;\n",
       "                   background-color: white;\n",
       "                   white-space: pre;\n",
       "                   line-height: 20px;\"\n",
       "                   ><span style=\"padding: 0px 1px 0px 1px;\n",
       "                    margin: 0px 0.5px 0px 0.5px;\n",
       "                    border-style: solid;\n",
       "                    border-width: 0.5px;\n",
       "                    border-color: darkred;\n",
       "                    background-color: cornsilk;\n",
       "                    color: red;\"\n",
       "                    >This</span> is <span style=\"padding: 0px 1px 0px 1px;\n",
       "                    margin: 0px 0.5px 0px 0.5px;\n",
       "                    border-style: solid;\n",
       "                    border-width: 0.5px;\n",
       "                    border-color: darkred;\n",
       "                    background-color: cornsilk;\n",
       "                    color: red;\"\n",
       "                    >the</span> <span style=\"padding: 0px 1px 0px 1px;\n",
       "                    margin: 0px 0.5px 0px 0.5px;\n",
       "                    border-style: solid;\n",
       "                    border-width: 0.5px;\n",
       "                    border-color: darkred;\n",
       "                    background-color: cornsilk;\n",
       "                    color: red;\"\n",
       "                    >cours</span>e <span style=\"padding: 0px 1px 0px 1px;\n",
       "                    margin: 0px 0.5px 0px 0.5px;\n",
       "                    border-style: solid;\n",
       "                    border-width: 0.5px;\n",
       "                    border-color: darkred;\n",
       "                    background-color: cornsilk;\n",
       "                    color: red;\"\n",
       "                    >MTH</span> <span style=\"padding: 0px 1px 0px 1px;\n",
       "                    margin: 0px 0.5px 0px 0.5px;\n",
       "                    border-style: solid;\n",
       "                    border-width: 0.5px;\n",
       "                    border-color: darkred;\n",
       "                    background-color: cornsilk;\n",
       "                    color: red;\"\n",
       "                    >548</span> <span style=\"padding: 0px 1px 0px 1px;\n",
       "                    margin: 0px 0.5px 0px 0.5px;\n",
       "                    border-style: solid;\n",
       "                    border-width: 0.5px;\n",
       "                    border-color: darkred;\n",
       "                    background-color: cornsilk;\n",
       "                    color: red;\"\n",
       "                    >Data</span> <span style=\"padding: 0px 1px 0px 1px;\n",
       "                    margin: 0px 0.5px 0px 0.5px;\n",
       "                    border-style: solid;\n",
       "                    border-width: 0.5px;\n",
       "                    border-color: darkred;\n",
       "                    background-color: cornsilk;\n",
       "                    color: red;\"\n",
       "                    >Orien</span><span style=\"padding: 0px 1px 0px 1px;\n",
       "                    margin: 0px 0.5px 0px 0.5px;\n",
       "                    border-style: solid;\n",
       "                    border-width: 0.5px;\n",
       "                    border-color: darkred;\n",
       "                    background-color: cornsilk;\n",
       "                    color: red;\"\n",
       "                    >ted</span> <span style=\"padding: 0px 1px 0px 1px;\n",
       "                    margin: 0px 0.5px 0px 0.5px;\n",
       "                    border-style: solid;\n",
       "                    border-width: 0.5px;\n",
       "                    border-color: darkred;\n",
       "                    background-color: cornsilk;\n",
       "                    color: red;\"\n",
       "                    >Compu</span><span style=\"padding: 0px 1px 0px 1px;\n",
       "                    margin: 0px 0.5px 0px 0.5px;\n",
       "                    border-style: solid;\n",
       "                    border-width: 0.5px;\n",
       "                    border-color: darkred;\n",
       "                    background-color: cornsilk;\n",
       "                    color: red;\"\n",
       "                    >ting</span>!</code>"
      ],
      "text/plain": [
       "<IPython.core.display.HTML object>"
      ]
     },
     "metadata": {},
     "output_type": "display_data"
    }
   ],
   "source": [
    "# match all sequences of at least 3 and no more tban 5 word charcters:\n",
    "re_show(r\"\\w{3,5}\", text) "
   ]
  },
  {
   "cell_type": "markdown",
   "metadata": {},
   "source": [
    "## Non-greedy matches\n",
    "\n",
    "By default regular expression matches are greedy: they will match the longest possible part of a given string which fits the specified pattern. For example the pattern `r\".+ \"` will match the longest possible sequence starting with the letter \"D\" and ending with a space:"
   ]
  },
  {
   "cell_type": "code",
   "execution_count": 17,
   "metadata": {},
   "outputs": [
    {
     "data": {
      "text/html": [
       "<code style=\"border-style: none;\n",
       "                   border-width: 0px;\n",
       "                   padding: 0px;\n",
       "                   font-size: 14px;\n",
       "                   color: darkslategray;\n",
       "                   background-color: white;\n",
       "                   white-space: pre;\n",
       "                   line-height: 20px;\"\n",
       "                   >This is the course MTH 548 <span style=\"padding: 0px 1px 0px 1px;\n",
       "                    margin: 0px 0.5px 0px 0.5px;\n",
       "                    border-style: solid;\n",
       "                    border-width: 0.5px;\n",
       "                    border-color: darkred;\n",
       "                    background-color: cornsilk;\n",
       "                    color: red;\"\n",
       "                    >Data Oriented </span>Computing!</code>"
      ],
      "text/plain": [
       "<IPython.core.display.HTML object>"
      ]
     },
     "metadata": {},
     "output_type": "display_data"
    }
   ],
   "source": [
    "re_show(r\"D.* \", text)"
   ]
  },
  {
   "cell_type": "markdown",
   "metadata": {},
   "source": [
    "The following sequences modify this behavior by specifying non-greedy matches:\n",
    "\n",
    "| Sequence      |  What it means                                                                     |\n",
    "|:--------------|:-----------------------------------------------------------------------------------|\n",
    "| `*?`          | Match the preceding pattern 0 or more times, as few times as possible.             |\n",
    "| `+?`          | Match the preceding pattern 1 or more times, as few times as possible.             |\n",
    "| `??`          | Match 0 or 1 times, as few times as possible.                                      |\n",
    "| `{n, m}?`     | Match as few times as possible, but at least `n` times and no more than `m` times. |\n",
    "| `{n,}?`       | Match as few times as possible, but at least `n` times.                            |\n",
    "| `{,m}? `      | Match as few times as possible, and no more than `m` times.                        |"
   ]
  },
  {
   "cell_type": "markdown",
   "metadata": {},
   "source": [
    "**Examples.**"
   ]
  },
  {
   "cell_type": "code",
   "execution_count": 18,
   "metadata": {},
   "outputs": [
    {
     "data": {
      "text/html": [
       "<code style=\"border-style: none;\n",
       "                   border-width: 0px;\n",
       "                   padding: 0px;\n",
       "                   font-size: 14px;\n",
       "                   color: darkslategray;\n",
       "                   background-color: white;\n",
       "                   white-space: pre;\n",
       "                   line-height: 20px;\"\n",
       "                   >This is the course MTH 548 <span style=\"padding: 0px 1px 0px 1px;\n",
       "                    margin: 0px 0.5px 0px 0.5px;\n",
       "                    border-style: solid;\n",
       "                    border-width: 0.5px;\n",
       "                    border-color: darkred;\n",
       "                    background-color: cornsilk;\n",
       "                    color: red;\"\n",
       "                    >Data </span>Oriented Computing!</code>"
      ],
      "text/plain": [
       "<IPython.core.display.HTML object>"
      ]
     },
     "metadata": {},
     "output_type": "display_data"
    }
   ],
   "source": [
    "# match shortest possible sequences starting with \"D\" \n",
    "# and ending with a space \" \"\n",
    "re_show(r\"D.*? \", text) "
   ]
  },
  {
   "cell_type": "code",
   "execution_count": 19,
   "metadata": {},
   "outputs": [
    {
     "data": {
      "text/html": [
       "<code style=\"border-style: none;\n",
       "                   border-width: 0px;\n",
       "                   padding: 0px;\n",
       "                   font-size: 14px;\n",
       "                   color: darkslategray;\n",
       "                   background-color: white;\n",
       "                   white-space: pre;\n",
       "                   line-height: 20px;\"\n",
       "                   >This is the course MTH 548 Data Or<span style=\"padding: 0px 1px 0px 1px;\n",
       "                    margin: 0px 0.5px 0px 0.5px;\n",
       "                    border-style: solid;\n",
       "                    border-width: 0.5px;\n",
       "                    border-color: darkred;\n",
       "                    background-color: cornsilk;\n",
       "                    color: red;\"\n",
       "                    >ien</span>ted Comput<span style=\"padding: 0px 1px 0px 1px;\n",
       "                    margin: 0px 0.5px 0px 0.5px;\n",
       "                    border-style: solid;\n",
       "                    border-width: 0.5px;\n",
       "                    border-color: darkred;\n",
       "                    background-color: cornsilk;\n",
       "                    color: red;\"\n",
       "                    >in</span>g!</code>"
      ],
      "text/plain": [
       "<IPython.core.display.HTML object>"
      ]
     },
     "metadata": {},
     "output_type": "display_data"
    }
   ],
   "source": [
    "# match all sequences consisting of \"i\" followed by an \"e\" \n",
    "# repeated 0 or 1 times, and ending with \"n\"\n",
    "re_show(r\"ie??n\", text) "
   ]
  },
  {
   "cell_type": "markdown",
   "metadata": {},
   "source": [
    "## Match groups\n",
    "\n",
    "As the last example shows, by default the sequences `*`, `*?` `+`, `+?` etc. apply only to the single symbol preceding them. For example,  the regular expression `\"ie?n\"` means that the character `e` should be \n",
    "repeated 0 or 1 times. In order to indicate that `?` applies the whole group `ie` we need to enclose this group in parentheses: `(ie)?n`. A part of a regular expression wrapped in parentheses is called a *match group*. "
   ]
  },
  {
   "cell_type": "markdown",
   "metadata": {},
   "source": [
    "**Examples.**"
   ]
  },
  {
   "cell_type": "code",
   "execution_count": 20,
   "metadata": {},
   "outputs": [
    {
     "data": {
      "text/html": [
       "<code style=\"border-style: none;\n",
       "                   border-width: 0px;\n",
       "                   padding: 0px;\n",
       "                   font-size: 14px;\n",
       "                   color: darkslategray;\n",
       "                   background-color: white;\n",
       "                   white-space: pre;\n",
       "                   line-height: 20px;\"\n",
       "                   >This is the course MTH 548 Data Or<span style=\"padding: 0px 1px 0px 1px;\n",
       "                    margin: 0px 0.5px 0px 0.5px;\n",
       "                    border-style: solid;\n",
       "                    border-width: 0.5px;\n",
       "                    border-color: darkred;\n",
       "                    background-color: cornsilk;\n",
       "                    color: red;\"\n",
       "                    >ien</span>ted Computi<span style=\"padding: 0px 1px 0px 1px;\n",
       "                    margin: 0px 0.5px 0px 0.5px;\n",
       "                    border-style: solid;\n",
       "                    border-width: 0.5px;\n",
       "                    border-color: darkred;\n",
       "                    background-color: cornsilk;\n",
       "                    color: red;\"\n",
       "                    >n</span>g!</code>"
      ],
      "text/plain": [
       "<IPython.core.display.HTML object>"
      ]
     },
     "metadata": {},
     "output_type": "display_data"
    }
   ],
   "source": [
    "# match all sequences consisting of \"ei\" repeated 0 or 1 times \n",
    "# (as many times as possible), followed an \"n\"\n",
    "re_show(r\"(ie)?n\", text) "
   ]
  },
  {
   "cell_type": "code",
   "execution_count": 21,
   "metadata": {},
   "outputs": [
    {
     "data": {
      "text/html": [
       "<code style=\"border-style: none;\n",
       "                   border-width: 0px;\n",
       "                   padding: 0px;\n",
       "                   font-size: 14px;\n",
       "                   color: darkslategray;\n",
       "                   background-color: white;\n",
       "                   white-space: pre;\n",
       "                   line-height: 20px;\"\n",
       "                   >Th<span style=\"padding: 0px 1px 0px 1px;\n",
       "                    margin: 0px 0.5px 0px 0.5px;\n",
       "                    border-style: solid;\n",
       "                    border-width: 0.5px;\n",
       "                    border-color: darkred;\n",
       "                    background-color: cornsilk;\n",
       "                    color: red;\"\n",
       "                    >is is </span>the course MTH 548 Data Oriented Computing!</code>"
      ],
      "text/plain": [
       "<IPython.core.display.HTML object>"
      ]
     },
     "metadata": {},
     "output_type": "display_data"
    }
   ],
   "source": [
    "# match all occurences of \"is \" repeated at least once, \n",
    "# and as many times as possible\n",
    "re_show(r\"(is )+\", text) "
   ]
  },
  {
   "cell_type": "code",
   "execution_count": 22,
   "metadata": {},
   "outputs": [
    {
     "data": {
      "text/html": [
       "<code style=\"border-style: none;\n",
       "                   border-width: 0px;\n",
       "                   padding: 0px;\n",
       "                   font-size: 14px;\n",
       "                   color: darkslategray;\n",
       "                   background-color: white;\n",
       "                   white-space: pre;\n",
       "                   line-height: 20px;\"\n",
       "                   >This is <span style=\"padding: 0px 1px 0px 1px;\n",
       "                    margin: 0px 0.5px 0px 0.5px;\n",
       "                    border-style: solid;\n",
       "                    border-width: 0.5px;\n",
       "                    border-color: darkred;\n",
       "                    background-color: cornsilk;\n",
       "                    color: red;\"\n",
       "                    >the course</span> MTH 548 Data <span style=\"padding: 0px 1px 0px 1px;\n",
       "                    margin: 0px 0.5px 0px 0.5px;\n",
       "                    border-style: solid;\n",
       "                    border-width: 0.5px;\n",
       "                    border-color: darkred;\n",
       "                    background-color: cornsilk;\n",
       "                    color: red;\"\n",
       "                    >Oriented Computing</span>!</code>"
      ],
      "text/plain": [
       "<IPython.core.display.HTML object>"
      ]
     },
     "metadata": {},
     "output_type": "display_data"
    }
   ],
   "source": [
    "# match a sequence of word characters followed by a space, \n",
    "# and then by another word chatacter sequence starting with either \"c\" or \"C\"\n",
    "re_show(r\"\\w* (c|C)\\w*\", text) "
   ]
  },
  {
   "cell_type": "markdown",
   "metadata": {},
   "source": [
    "Compare the last example to one without grouping:"
   ]
  },
  {
   "cell_type": "code",
   "execution_count": 23,
   "metadata": {},
   "outputs": [
    {
     "data": {
      "text/html": [
       "<code style=\"border-style: none;\n",
       "                   border-width: 0px;\n",
       "                   padding: 0px;\n",
       "                   font-size: 14px;\n",
       "                   color: darkslategray;\n",
       "                   background-color: white;\n",
       "                   white-space: pre;\n",
       "                   line-height: 20px;\"\n",
       "                   >This is <span style=\"padding: 0px 1px 0px 1px;\n",
       "                    margin: 0px 0.5px 0px 0.5px;\n",
       "                    border-style: solid;\n",
       "                    border-width: 0.5px;\n",
       "                    border-color: darkred;\n",
       "                    background-color: cornsilk;\n",
       "                    color: red;\"\n",
       "                    >the c</span>ourse MTH 548 Data Oriented <span style=\"padding: 0px 1px 0px 1px;\n",
       "                    margin: 0px 0.5px 0px 0.5px;\n",
       "                    border-style: solid;\n",
       "                    border-width: 0.5px;\n",
       "                    border-color: darkred;\n",
       "                    background-color: cornsilk;\n",
       "                    color: red;\"\n",
       "                    >Computing</span>!</code>"
      ],
      "text/plain": [
       "<IPython.core.display.HTML object>"
      ]
     },
     "metadata": {},
     "output_type": "display_data"
    }
   ],
   "source": [
    "# match either a word character sequence followed by \" c\" \n",
    "# or a sequence staring with \"C\" followed by word characters\n",
    "re_show(r\"\\w* c|C\\w*\", text) "
   ]
  },
  {
   "cell_type": "markdown",
   "metadata": {},
   "source": [
    "## Anchors\n",
    "\n",
    "Anchors are sequences which not match any character, but rather a specific position in a string:\n",
    "\n",
    "| Sequence      |  What it means                                                                              |\n",
    "|:--------------|:--------------------------------------------------------------------------------------------|\n",
    "| `^`           | Match the beginning of the string                                                           |\n",
    "| `$`           | Match the end of the string.                                                                |\n",
    "| `\\b`          | Match a word boundary, e.i. a space between word character and a non-word character         |\n",
    "| `\\B`          | Match a space which is not a word boundary.                                                 |"
   ]
  },
  {
   "cell_type": "code",
   "execution_count": 24,
   "metadata": {},
   "outputs": [
    {
     "data": {
      "text/html": [
       "<code style=\"border-style: none;\n",
       "                   border-width: 0px;\n",
       "                   padding: 0px;\n",
       "                   font-size: 14px;\n",
       "                   color: darkslategray;\n",
       "                   background-color: white;\n",
       "                   white-space: pre;\n",
       "                   line-height: 20px;\"\n",
       "                   ><span style=\"padding: 0px 1px 0px 1px;\n",
       "                    margin: 0px 0.5px 0px 0.5px;\n",
       "                    border-style: solid;\n",
       "                    border-width: 0.5px;\n",
       "                    border-color: darkred;\n",
       "                    background-color: cornsilk;\n",
       "                    color: red;\"\n",
       "                    >This is the course MTH 548 Da</span>ta Oriented Computing!</code>"
      ],
      "text/plain": [
       "<IPython.core.display.HTML object>"
      ]
     },
     "metadata": {},
     "output_type": "display_data"
    }
   ],
   "source": [
    "# match everything from the beginning of the string \n",
    "# until the first occurence of the letter \"a\"\n",
    "re_show(r\"^.*?a\", text) "
   ]
  },
  {
   "cell_type": "code",
   "execution_count": 25,
   "metadata": {},
   "outputs": [
    {
     "data": {
      "text/html": [
       "<code style=\"border-style: none;\n",
       "                   border-width: 0px;\n",
       "                   padding: 0px;\n",
       "                   font-size: 14px;\n",
       "                   color: darkslategray;\n",
       "                   background-color: white;\n",
       "                   white-space: pre;\n",
       "                   line-height: 20px;\"\n",
       "                   ><span style=\"padding: 0px 1px 0px 1px;\n",
       "                    margin: 0px 0.5px 0px 0.5px;\n",
       "                    border-style: solid;\n",
       "                    border-width: 0.5px;\n",
       "                    border-color: darkred;\n",
       "                    background-color: cornsilk;\n",
       "                    color: red;\"\n",
       "                    ></span>This<span style=\"padding: 0px 1px 0px 1px;\n",
       "                    margin: 0px 0.5px 0px 0.5px;\n",
       "                    border-style: solid;\n",
       "                    border-width: 0.5px;\n",
       "                    border-color: darkred;\n",
       "                    background-color: cornsilk;\n",
       "                    color: red;\"\n",
       "                    ></span> <span style=\"padding: 0px 1px 0px 1px;\n",
       "                    margin: 0px 0.5px 0px 0.5px;\n",
       "                    border-style: solid;\n",
       "                    border-width: 0.5px;\n",
       "                    border-color: darkred;\n",
       "                    background-color: cornsilk;\n",
       "                    color: red;\"\n",
       "                    ></span>is<span style=\"padding: 0px 1px 0px 1px;\n",
       "                    margin: 0px 0.5px 0px 0.5px;\n",
       "                    border-style: solid;\n",
       "                    border-width: 0.5px;\n",
       "                    border-color: darkred;\n",
       "                    background-color: cornsilk;\n",
       "                    color: red;\"\n",
       "                    ></span> <span style=\"padding: 0px 1px 0px 1px;\n",
       "                    margin: 0px 0.5px 0px 0.5px;\n",
       "                    border-style: solid;\n",
       "                    border-width: 0.5px;\n",
       "                    border-color: darkred;\n",
       "                    background-color: cornsilk;\n",
       "                    color: red;\"\n",
       "                    ></span>the<span style=\"padding: 0px 1px 0px 1px;\n",
       "                    margin: 0px 0.5px 0px 0.5px;\n",
       "                    border-style: solid;\n",
       "                    border-width: 0.5px;\n",
       "                    border-color: darkred;\n",
       "                    background-color: cornsilk;\n",
       "                    color: red;\"\n",
       "                    ></span> <span style=\"padding: 0px 1px 0px 1px;\n",
       "                    margin: 0px 0.5px 0px 0.5px;\n",
       "                    border-style: solid;\n",
       "                    border-width: 0.5px;\n",
       "                    border-color: darkred;\n",
       "                    background-color: cornsilk;\n",
       "                    color: red;\"\n",
       "                    ></span>course<span style=\"padding: 0px 1px 0px 1px;\n",
       "                    margin: 0px 0.5px 0px 0.5px;\n",
       "                    border-style: solid;\n",
       "                    border-width: 0.5px;\n",
       "                    border-color: darkred;\n",
       "                    background-color: cornsilk;\n",
       "                    color: red;\"\n",
       "                    ></span> <span style=\"padding: 0px 1px 0px 1px;\n",
       "                    margin: 0px 0.5px 0px 0.5px;\n",
       "                    border-style: solid;\n",
       "                    border-width: 0.5px;\n",
       "                    border-color: darkred;\n",
       "                    background-color: cornsilk;\n",
       "                    color: red;\"\n",
       "                    ></span>MTH<span style=\"padding: 0px 1px 0px 1px;\n",
       "                    margin: 0px 0.5px 0px 0.5px;\n",
       "                    border-style: solid;\n",
       "                    border-width: 0.5px;\n",
       "                    border-color: darkred;\n",
       "                    background-color: cornsilk;\n",
       "                    color: red;\"\n",
       "                    ></span> <span style=\"padding: 0px 1px 0px 1px;\n",
       "                    margin: 0px 0.5px 0px 0.5px;\n",
       "                    border-style: solid;\n",
       "                    border-width: 0.5px;\n",
       "                    border-color: darkred;\n",
       "                    background-color: cornsilk;\n",
       "                    color: red;\"\n",
       "                    ></span>548<span style=\"padding: 0px 1px 0px 1px;\n",
       "                    margin: 0px 0.5px 0px 0.5px;\n",
       "                    border-style: solid;\n",
       "                    border-width: 0.5px;\n",
       "                    border-color: darkred;\n",
       "                    background-color: cornsilk;\n",
       "                    color: red;\"\n",
       "                    ></span> <span style=\"padding: 0px 1px 0px 1px;\n",
       "                    margin: 0px 0.5px 0px 0.5px;\n",
       "                    border-style: solid;\n",
       "                    border-width: 0.5px;\n",
       "                    border-color: darkred;\n",
       "                    background-color: cornsilk;\n",
       "                    color: red;\"\n",
       "                    ></span>Data<span style=\"padding: 0px 1px 0px 1px;\n",
       "                    margin: 0px 0.5px 0px 0.5px;\n",
       "                    border-style: solid;\n",
       "                    border-width: 0.5px;\n",
       "                    border-color: darkred;\n",
       "                    background-color: cornsilk;\n",
       "                    color: red;\"\n",
       "                    ></span> <span style=\"padding: 0px 1px 0px 1px;\n",
       "                    margin: 0px 0.5px 0px 0.5px;\n",
       "                    border-style: solid;\n",
       "                    border-width: 0.5px;\n",
       "                    border-color: darkred;\n",
       "                    background-color: cornsilk;\n",
       "                    color: red;\"\n",
       "                    ></span>Oriented<span style=\"padding: 0px 1px 0px 1px;\n",
       "                    margin: 0px 0.5px 0px 0.5px;\n",
       "                    border-style: solid;\n",
       "                    border-width: 0.5px;\n",
       "                    border-color: darkred;\n",
       "                    background-color: cornsilk;\n",
       "                    color: red;\"\n",
       "                    ></span> <span style=\"padding: 0px 1px 0px 1px;\n",
       "                    margin: 0px 0.5px 0px 0.5px;\n",
       "                    border-style: solid;\n",
       "                    border-width: 0.5px;\n",
       "                    border-color: darkred;\n",
       "                    background-color: cornsilk;\n",
       "                    color: red;\"\n",
       "                    ></span>Computing<span style=\"padding: 0px 1px 0px 1px;\n",
       "                    margin: 0px 0.5px 0px 0.5px;\n",
       "                    border-style: solid;\n",
       "                    border-width: 0.5px;\n",
       "                    border-color: darkred;\n",
       "                    background-color: cornsilk;\n",
       "                    color: red;\"\n",
       "                    ></span>!</code>"
      ],
      "text/plain": [
       "<IPython.core.display.HTML object>"
      ]
     },
     "metadata": {},
     "output_type": "display_data"
    }
   ],
   "source": [
    "# match all word boundaries\n",
    "re_show(r\"\\b\", text) "
   ]
  },
  {
   "cell_type": "code",
   "execution_count": 26,
   "metadata": {},
   "outputs": [
    {
     "data": {
      "text/html": [
       "<code style=\"border-style: none;\n",
       "                   border-width: 0px;\n",
       "                   padding: 0px;\n",
       "                   font-size: 14px;\n",
       "                   color: darkslategray;\n",
       "                   background-color: white;\n",
       "                   white-space: pre;\n",
       "                   line-height: 20px;\"\n",
       "                   >T<span style=\"padding: 0px 1px 0px 1px;\n",
       "                    margin: 0px 0.5px 0px 0.5px;\n",
       "                    border-style: solid;\n",
       "                    border-width: 0.5px;\n",
       "                    border-color: darkred;\n",
       "                    background-color: cornsilk;\n",
       "                    color: red;\"\n",
       "                    >his</span> is t<span style=\"padding: 0px 1px 0px 1px;\n",
       "                    margin: 0px 0.5px 0px 0.5px;\n",
       "                    border-style: solid;\n",
       "                    border-width: 0.5px;\n",
       "                    border-color: darkred;\n",
       "                    background-color: cornsilk;\n",
       "                    color: red;\"\n",
       "                    >he</span> course MTH 548 Data Oriented Computing!</code>"
      ],
      "text/plain": [
       "<IPython.core.display.HTML object>"
      ]
     },
     "metadata": {},
     "output_type": "display_data"
    }
   ],
   "source": [
    "# match sequences which start with an \"h\",\n",
    "# end at a word boundary, and are as short as possible\n",
    "re_show(r\"h.*?\\b\", text) "
   ]
  },
  {
   "cell_type": "markdown",
   "metadata": {},
   "source": [
    "## Flags"
   ]
  },
  {
   "cell_type": "markdown",
   "metadata": {},
   "source": [
    "In addition to a regular expression many functions in the `re` module accept flags, which modify the meaning of the regular expression:\n",
    "\n",
    "| Flag          |  What it means                                                                              |\n",
    "|:--------------|:--------------------------------------------------------------------------------------------|\n",
    "| `re.I`        | Ignore distinction between lower and upper case characters.                                 |\n",
    "| `re.M`        | In a multiline string the symbols `^` and `$` match the beginning and the end of a line.    |\n",
    "| `re.S`        | The symbol `.` matches everything, including the newline character `\"\\n\"`.                  |\n",
    "| `re.X`        | The regular expression may contain comments (see below for details).                        |"
   ]
  },
  {
   "cell_type": "markdown",
   "metadata": {},
   "source": [
    "**Examples.** We will use again the function `re_show` which admits an additional `flags` argument. "
   ]
  },
  {
   "cell_type": "code",
   "execution_count": 27,
   "metadata": {},
   "outputs": [
    {
     "name": "stdout",
     "output_type": "stream",
     "text": [
      "Twinkle, twinkle, little star,\n",
      "How I wonder what you are!\n",
      "Up above the world so high,\n",
      "Like a diamond in the sky.\n"
     ]
    }
   ],
   "source": [
    "# a multiline text sample to experiment with \n",
    "from textwrap import dedent\n",
    "text2 = '''\n",
    "       Twinkle, twinkle, little star,\n",
    "       How I wonder what you are!\n",
    "       Up above the world so high,\n",
    "       Like a diamond in the sky.\n",
    "       '''\n",
    "text2 = dedent(text2).strip()\n",
    "print(text2)"
   ]
  },
  {
   "cell_type": "code",
   "execution_count": 28,
   "metadata": {},
   "outputs": [
    {
     "data": {
      "text/html": [
       "<code style=\"border-style: none;\n",
       "                   border-width: 0px;\n",
       "                   padding: 0px;\n",
       "                   font-size: 14px;\n",
       "                   color: darkslategray;\n",
       "                   background-color: white;\n",
       "                   white-space: pre;\n",
       "                   line-height: 20px;\"\n",
       "                   ><span style=\"padding: 0px 1px 0px 1px;\n",
       "                    margin: 0px 0.5px 0px 0.5px;\n",
       "                    border-style: solid;\n",
       "                    border-width: 0.5px;\n",
       "                    border-color: darkred;\n",
       "                    background-color: cornsilk;\n",
       "                    color: red;\"\n",
       "                    >Twinkle</span>, <span style=\"padding: 0px 1px 0px 1px;\n",
       "                    margin: 0px 0.5px 0px 0.5px;\n",
       "                    border-style: solid;\n",
       "                    border-width: 0.5px;\n",
       "                    border-color: darkred;\n",
       "                    background-color: cornsilk;\n",
       "                    color: red;\"\n",
       "                    >twinkle</span>, little star,\n",
       "How I wonder what you are!\n",
       "Up above the world so high,\n",
       "Like a diamond in the sky.</code>"
      ],
      "text/plain": [
       "<IPython.core.display.HTML object>"
      ]
     },
     "metadata": {},
     "output_type": "display_data"
    }
   ],
   "source": [
    "# find the word \"twinkle\" in either upper or lower case\n",
    "re_show(r\"twinkle\", text2, flags =  re.I)"
   ]
  },
  {
   "cell_type": "code",
   "execution_count": 29,
   "metadata": {},
   "outputs": [
    {
     "data": {
      "text/html": [
       "<code style=\"border-style: none;\n",
       "                   border-width: 0px;\n",
       "                   padding: 0px;\n",
       "                   font-size: 14px;\n",
       "                   color: darkslategray;\n",
       "                   background-color: white;\n",
       "                   white-space: pre;\n",
       "                   line-height: 20px;\"\n",
       "                   >Twinkle, twinkle, little <span style=\"padding: 0px 1px 0px 1px;\n",
       "                    margin: 0px 0.5px 0px 0.5px;\n",
       "                    border-style: solid;\n",
       "                    border-width: 0.5px;\n",
       "                    border-color: darkred;\n",
       "                    background-color: cornsilk;\n",
       "                    color: red;\"\n",
       "                    >star,\n",
       "How I wonder what you are!</span>\n",
       "Up above the world so high,\n",
       "Like a diamond in the sky.</code>"
      ],
      "text/plain": [
       "<IPython.core.display.HTML object>"
      ]
     },
     "metadata": {},
     "output_type": "display_data"
    }
   ],
   "source": [
    "# find a sequence starting with \"star\", ending with \"!\",\n",
    "# and possibly including newline characters\n",
    "re_show(r\"star.*!\", text2, flags =  re.S)"
   ]
  },
  {
   "cell_type": "code",
   "execution_count": 30,
   "metadata": {
    "scrolled": true
   },
   "outputs": [
    {
     "data": {
      "text/html": [
       "<code style=\"border-style: none;\n",
       "                   border-width: 0px;\n",
       "                   padding: 0px;\n",
       "                   font-size: 14px;\n",
       "                   color: darkslategray;\n",
       "                   background-color: white;\n",
       "                   white-space: pre;\n",
       "                   line-height: 20px;\"\n",
       "                   ><span style=\"padding: 0px 1px 0px 1px;\n",
       "                    margin: 0px 0.5px 0px 0.5px;\n",
       "                    border-style: solid;\n",
       "                    border-width: 0.5px;\n",
       "                    border-color: darkred;\n",
       "                    background-color: cornsilk;\n",
       "                    color: red;\"\n",
       "                    >Twinkle</span>, twinkle, little star,\n",
       "<span style=\"padding: 0px 1px 0px 1px;\n",
       "                    margin: 0px 0.5px 0px 0.5px;\n",
       "                    border-style: solid;\n",
       "                    border-width: 0.5px;\n",
       "                    border-color: darkred;\n",
       "                    background-color: cornsilk;\n",
       "                    color: red;\"\n",
       "                    >How</span> I wonder what you are!\n",
       "<span style=\"padding: 0px 1px 0px 1px;\n",
       "                    margin: 0px 0.5px 0px 0.5px;\n",
       "                    border-style: solid;\n",
       "                    border-width: 0.5px;\n",
       "                    border-color: darkred;\n",
       "                    background-color: cornsilk;\n",
       "                    color: red;\"\n",
       "                    >Up</span> above the world so high,\n",
       "<span style=\"padding: 0px 1px 0px 1px;\n",
       "                    margin: 0px 0.5px 0px 0.5px;\n",
       "                    border-style: solid;\n",
       "                    border-width: 0.5px;\n",
       "                    border-color: darkred;\n",
       "                    background-color: cornsilk;\n",
       "                    color: red;\"\n",
       "                    >Like</span> a diamond in the sky.</code>"
      ],
      "text/plain": [
       "<IPython.core.display.HTML object>"
      ]
     },
     "metadata": {},
     "output_type": "display_data"
    }
   ],
   "source": [
    "# find shortest possible sequences which start\n",
    "# at the beginning of a line, contain at least one\n",
    "# character, and end at a word boundary\n",
    "re_show(r\"^.+?\\b\", text2, flags =  re.M)"
   ]
  },
  {
   "cell_type": "markdown",
   "metadata": {},
   "source": [
    "**Note.** Flags can be combined using the vertical bar `|` character:"
   ]
  },
  {
   "cell_type": "code",
   "execution_count": 31,
   "metadata": {},
   "outputs": [
    {
     "data": {
      "text/html": [
       "<code style=\"border-style: none;\n",
       "                   border-width: 0px;\n",
       "                   padding: 0px;\n",
       "                   font-size: 14px;\n",
       "                   color: darkslategray;\n",
       "                   background-color: white;\n",
       "                   white-space: pre;\n",
       "                   line-height: 20px;\"\n",
       "                   ><span style=\"padding: 0px 1px 0px 1px;\n",
       "                    margin: 0px 0.5px 0px 0.5px;\n",
       "                    border-style: solid;\n",
       "                    border-width: 0.5px;\n",
       "                    border-color: darkred;\n",
       "                    background-color: cornsilk;\n",
       "                    color: red;\"\n",
       "                    >Twinkle, twinkle, little star,\n",
       "How I wonder what you are!</span>\n",
       "Up above the world so high,\n",
       "Like a diamond in the sky.</code>"
      ],
      "text/plain": [
       "<IPython.core.display.HTML object>"
      ]
     },
     "metadata": {},
     "output_type": "display_data"
    }
   ],
   "source": [
    "# re.I and re.S combined\n",
    "re_show(r\"twinkle.*!\", text2, flags =  re.I|re.S)"
   ]
  },
  {
   "cell_type": "markdown",
   "metadata": {},
   "source": [
    "## Inserting comments"
   ]
  },
  {
   "cell_type": "markdown",
   "metadata": {},
   "source": [
    "More complex regular expression can look very cryptic and be difficult to understand. To make them more readable, it is possible insert comments explaining what they do piece by piece. The flag `re.X` signals that a regular expression may contain comments. If this flag is used it has the following effect:\n",
    "\n",
    "* All space and newline characters in the regular expression are ignored.\n",
    "* If a line in the regular expression contains the `#` character then this character and the reminder of the line are  also ignored.\n",
    "* Exception: the space and `#` characters are matched if they are preceded by a backslash: `\\ `, `\\#` or they are entered as a part of a character group, i.e. enclosed in square brackets `[ #]` or `[^ #]`. "
   ]
  },
  {
   "cell_type": "code",
   "execution_count": 32,
   "metadata": {},
   "outputs": [
    {
     "data": {
      "text/html": [
       "<code style=\"border-style: none;\n",
       "                   border-width: 0px;\n",
       "                   padding: 0px;\n",
       "                   font-size: 14px;\n",
       "                   color: darkslategray;\n",
       "                   background-color: white;\n",
       "                   white-space: pre;\n",
       "                   line-height: 20px;\"\n",
       "                   >The solution is x=<span style=\"padding: 0px 1px 0px 1px;\n",
       "                    margin: 0px 0.5px 0px 0.5px;\n",
       "                    border-style: solid;\n",
       "                    border-width: 0.5px;\n",
       "                    border-color: darkred;\n",
       "                    background-color: cornsilk;\n",
       "                    color: red;\"\n",
       "                    >5.71</span>, y = <span style=\"padding: 0px 1px 0px 1px;\n",
       "                    margin: 0px 0.5px 0px 0.5px;\n",
       "                    border-style: solid;\n",
       "                    border-width: 0.5px;\n",
       "                    border-color: darkred;\n",
       "                    background-color: cornsilk;\n",
       "                    color: red;\"\n",
       "                    >-13.2</span>, and  z=<span style=\"padding: 0px 1px 0px 1px;\n",
       "                    margin: 0px 0.5px 0px 0.5px;\n",
       "                    border-style: solid;\n",
       "                    border-width: 0.5px;\n",
       "                    border-color: darkred;\n",
       "                    background-color: cornsilk;\n",
       "                    color: red;\"\n",
       "                    >0</span>.</code>"
      ],
      "text/plain": [
       "<IPython.core.display.HTML object>"
      ]
     },
     "metadata": {},
     "output_type": "display_data"
    }
   ],
   "source": [
    "text5 = \"The solution is x=5.71, y = -13.2, and  z=0.\"\n",
    "# match numbers in the decimal form\n",
    "re_show(r\"\"\"-?          # possibly the minus sign\n",
    "            \\d+         # digits before the decimal point\n",
    "            (\\.\\d+)?    # possibly the decimal part: period and more digits\n",
    "            \"\"\", text5, re.X)"
   ]
  },
  {
   "cell_type": "markdown",
   "metadata": {},
   "source": [
    "## Matching special characters \n",
    "\n",
    "As we have seen above several, characters (`.`, `+`, `*` etc.) have special meaning when used in a regular expression. In order to match such characters literally, we precede them by a backslash `\\`, so they become `\\.`, `\\+`, `\\*` and so on. The backlash itself is matched by entering `\\\\`."
   ]
  },
  {
   "cell_type": "markdown",
   "metadata": {},
   "source": [
    "**Example.**"
   ]
  },
  {
   "cell_type": "code",
   "execution_count": 33,
   "metadata": {},
   "outputs": [
    {
     "data": {
      "text/html": [
       "<code style=\"border-style: none;\n",
       "                   border-width: 0px;\n",
       "                   padding: 0px;\n",
       "                   font-size: 14px;\n",
       "                   color: darkslategray;\n",
       "                   background-color: white;\n",
       "                   white-space: pre;\n",
       "                   line-height: 20px;\"\n",
       "                   ><span style=\"padding: 0px 1px 0px 1px;\n",
       "                    margin: 0px 0.5px 0px 0.5px;\n",
       "                    border-style: solid;\n",
       "                    border-width: 0.5px;\n",
       "                    border-color: darkred;\n",
       "                    background-color: cornsilk;\n",
       "                    color: red;\"\n",
       "                    >***</span> \\hello\\ <span style=\"padding: 0px 1px 0px 1px;\n",
       "                    margin: 0px 0.5px 0px 0.5px;\n",
       "                    border-style: solid;\n",
       "                    border-width: 0.5px;\n",
       "                    border-color: darkred;\n",
       "                    background-color: cornsilk;\n",
       "                    color: red;\"\n",
       "                    >***</span></code>"
      ],
      "text/plain": [
       "<IPython.core.display.HTML object>"
      ]
     },
     "metadata": {},
     "output_type": "display_data"
    }
   ],
   "source": [
    "text3 = \"*** \\hello\\ ***\"\n",
    "# match the sequence \"***\"\n",
    "re_show(r\"\\*{3}\", text3)"
   ]
  },
  {
   "cell_type": "code",
   "execution_count": 34,
   "metadata": {},
   "outputs": [
    {
     "data": {
      "text/html": [
       "<code style=\"border-style: none;\n",
       "                   border-width: 0px;\n",
       "                   padding: 0px;\n",
       "                   font-size: 14px;\n",
       "                   color: darkslategray;\n",
       "                   background-color: white;\n",
       "                   white-space: pre;\n",
       "                   line-height: 20px;\"\n",
       "                   >*** <span style=\"padding: 0px 1px 0px 1px;\n",
       "                    margin: 0px 0.5px 0px 0.5px;\n",
       "                    border-style: solid;\n",
       "                    border-width: 0.5px;\n",
       "                    border-color: darkred;\n",
       "                    background-color: cornsilk;\n",
       "                    color: red;\"\n",
       "                    >\\hello\\</span> ***</code>"
      ],
      "text/plain": [
       "<IPython.core.display.HTML object>"
      ]
     },
     "metadata": {},
     "output_type": "display_data"
    }
   ],
   "source": [
    "# match a sequence which starts and ends \n",
    "# with a backlash \"\\\"\n",
    "re_show(r\"\\\\.*\\\\\", text3)"
   ]
  },
  {
   "cell_type": "code",
   "execution_count": 35,
   "metadata": {},
   "outputs": [
    {
     "data": {
      "text/html": [
       "<code style=\"border-style: none;\n",
       "                   border-width: 0px;\n",
       "                   padding: 0px;\n",
       "                   font-size: 14px;\n",
       "                   color: darkslategray;\n",
       "                   background-color: white;\n",
       "                   white-space: pre;\n",
       "                   line-height: 20px;\"\n",
       "                   >¯\\_<span style=\"padding: 0px 1px 0px 1px;\n",
       "                    margin: 0px 0.5px 0px 0.5px;\n",
       "                    border-style: solid;\n",
       "                    border-width: 0.5px;\n",
       "                    border-color: darkred;\n",
       "                    background-color: cornsilk;\n",
       "                    color: red;\"\n",
       "                    >(ツ)</span>_/¯</code>"
      ],
      "text/plain": [
       "<IPython.core.display.HTML object>"
      ]
     },
     "metadata": {},
     "output_type": "display_data"
    }
   ],
   "source": [
    "# match a sequence enclosed in parentheses \"(...)\"\n",
    "text4 = \"¯\\_(ツ)_/¯\"\n",
    "re_show(r\"\\(.*\\)\", text4)"
   ]
  }
 ],
 "metadata": {
  "kernelspec": {
   "display_name": "Python 3",
   "language": "python",
   "name": "python3"
  },
  "language_info": {
   "codemirror_mode": {
    "name": "ipython",
    "version": 3
   },
   "file_extension": ".py",
   "mimetype": "text/x-python",
   "name": "python",
   "nbconvert_exporter": "python",
   "pygments_lexer": "ipython3",
   "version": "3.7.6"
  }
 },
 "nbformat": 4,
 "nbformat_minor": 2
}
