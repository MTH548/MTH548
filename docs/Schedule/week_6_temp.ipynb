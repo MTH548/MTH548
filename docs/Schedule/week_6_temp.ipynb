{
 "cells": [
  {
   "cell_type": "markdown",
   "id": "endangered-recall",
   "metadata": {},
   "source": [
    "# Week 6 (3/8-3/14)"
   ]
  },
  {
   "cell_type": "markdown",
   "id": "straight-conclusion",
   "metadata": {},
   "source": [
    "## Plotting tools\n",
    "\n",
    "* [Seaborn](../Tools/Seaborn/seaborn_toc.rst)\n",
    "* [Plotly](../Tools/Plotly/plotly_toc.rst)\n",
    "\n",
    "To install Plotly execute the following in a Jupyter notebook code cell:"
   ]
  },
  {
   "cell_type": "code",
   "execution_count": 1,
   "id": "geological-glucose",
   "metadata": {
    "execution": {
     "iopub.execute_input": "2021-03-04T21:24:30.738162Z",
     "iopub.status.busy": "2021-03-04T21:24:30.737503Z",
     "iopub.status.idle": "2021-03-04T21:24:33.678937Z",
     "shell.execute_reply": "2021-03-04T21:24:33.679727Z"
    }
   },
   "outputs": [
    {
     "name": "stdout",
     "output_type": "stream",
     "text": [
      "Requirement already satisfied: plotly in /Users/bb/opt/anaconda3/lib/python3.8/site-packages (4.14.1)\r\n",
      "Requirement already satisfied: six in /Users/bb/opt/anaconda3/lib/python3.8/site-packages (from plotly) (1.15.0)\r\n",
      "Requirement already satisfied: retrying>=1.3.3 in /Users/bb/opt/anaconda3/lib/python3.8/site-packages (from plotly) (1.3.3)\r\n"
     ]
    },
    {
     "name": "stdout",
     "output_type": "stream",
     "text": [
      "Note: you may need to restart the kernel to use updated packages.\n"
     ]
    }
   ],
   "source": [
    "%pip install plotly"
   ]
  },
  {
   "cell_type": "markdown",
   "id": "crude-variance",
   "metadata": {},
   "source": [
    "## Project \n",
    "\n",
    "* [Baby names](../Projects/baby_names/baby_names.ipynb)"
   ]
  }
 ],
 "metadata": {
  "kernelspec": {
   "display_name": "Python 3",
   "language": "python",
   "name": "python3"
  },
  "language_info": {
   "codemirror_mode": {
    "name": "ipython",
    "version": 3
   },
   "file_extension": ".py",
   "mimetype": "text/x-python",
   "name": "python",
   "nbconvert_exporter": "python",
   "pygments_lexer": "ipython3",
   "version": "3.8.5"
  }
 },
 "nbformat": 4,
 "nbformat_minor": 5
}
