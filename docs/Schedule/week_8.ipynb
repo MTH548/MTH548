{
 "cells": [
  {
   "cell_type": "markdown",
   "id": "endangered-recall",
   "metadata": {},
   "source": [
    "# Week 8 (3/22-3/28)"
   ]
  },
  {
   "cell_type": "markdown",
   "id": "numerical-international",
   "metadata": {},
   "source": [
    "## Zoom Recordings\n",
    "\n",
    "* [Tuesday](https://ub.hosted.panopto.com/Panopto/Pages/Viewer.aspx?id=7edcc6fb-0b2f-4916-9886-acf4013e4dae)\n"
   ]
  },
  {
   "cell_type": "markdown",
   "id": "suffering-january",
   "metadata": {},
   "source": [
    "## Notebook\n",
    "\n",
    "- [View online](../_static/weekly_notebooks/week_8_class.html)\n",
    "- Download the notebook file: [week_7_class.ipynb](../_static/weekly_notebooks/week_8_class.ipynb)."
   ]
  },
  {
   "cell_type": "markdown",
   "id": "straight-conclusion",
   "metadata": {},
   "source": [
    "## Data formats\n",
    "\n",
    "* XML\n",
    "* [JSON](../Tools/json/json.ipynb)"
   ]
  },
  {
   "cell_type": "markdown",
   "id": "working-oklahoma",
   "metadata": {},
   "source": [
    "## lxml installation"
   ]
  },
  {
   "cell_type": "code",
   "execution_count": null,
   "id": "blond-forward",
   "metadata": {},
   "outputs": [],
   "source": [
    "%pip install lxml"
   ]
  },
  {
   "cell_type": "markdown",
   "id": "dangerous-bennett",
   "metadata": {},
   "source": [
    "## Resources"
   ]
  },
  {
   "cell_type": "markdown",
   "id": "regulation-property",
   "metadata": {},
   "source": [
    "### 1. Sample Excel file"
   ]
  },
  {
   "cell_type": "raw",
   "id": "institutional-simpson",
   "metadata": {
    "raw_mimetype": "text/restructuredtext"
   },
   "source": [
    "| :download:`excel_sample.xlsx <excel_sample.xlsx>`"
   ]
  },
  {
   "cell_type": "markdown",
   "id": "regulation-parking",
   "metadata": {},
   "source": [
    "### 2. Sample SVG files"
   ]
  },
  {
   "cell_type": "markdown",
   "id": "packed-reading",
   "metadata": {},
   "source": [
    "[Dodecahedron.svg](https://upload.wikimedia.org/wikipedia/commons/a/a4/Dodecahedron.svg)"
   ]
  },
  {
   "cell_type": "code",
   "execution_count": 12,
   "id": "oriented-ballot",
   "metadata": {
    "raw_mimetype": "text/restructuredtext"
   },
   "outputs": [],
   "source": [
    "dodeca = \"https://upload.wikimedia.org/wikipedia/commons/a/a4/Dodecahedron.svg\""
   ]
  },
  {
   "cell_type": "markdown",
   "id": "therapeutic-button",
   "metadata": {},
   "source": [
    "[Usa_counties_large.svg](https://upload.wikimedia.org/wikipedia/commons/5/59/Usa_counties_large.svg)"
   ]
  },
  {
   "cell_type": "code",
   "execution_count": 2,
   "id": "annoying-repository",
   "metadata": {},
   "outputs": [],
   "source": [
    "counties = \"https://upload.wikimedia.org/wikipedia/commons/5/59/Usa_counties_large.svg\""
   ]
  },
  {
   "cell_type": "markdown",
   "id": "southern-thanksgiving",
   "metadata": {},
   "source": [
    "### 3. National Weather Service API\n",
    "\n",
    "[Documentation](https://www.weather.gov/documentation/services-web-api)"
   ]
  },
  {
   "cell_type": "markdown",
   "id": "according-baltimore",
   "metadata": {},
   "source": [
    "* Alerts url:"
   ]
  },
  {
   "cell_type": "code",
   "execution_count": 8,
   "id": "heard-shape",
   "metadata": {},
   "outputs": [],
   "source": [
    "alerts_url = \"https://api.weather.gov/alerts\""
   ]
  },
  {
   "cell_type": "markdown",
   "id": "enhanced-watershed",
   "metadata": {},
   "source": [
    "* Point url:"
   ]
  },
  {
   "cell_type": "code",
   "execution_count": 9,
   "id": "exciting-missile",
   "metadata": {},
   "outputs": [],
   "source": [
    "point_url = \"https://api.weather.gov/points/\""
   ]
  },
  {
   "cell_type": "markdown",
   "id": "spanish-mozambique",
   "metadata": {},
   "source": [
    "### 4. Nominatim API\n",
    "\n",
    "[Documentation](https://nominatim.org/release-docs/latest/)"
   ]
  },
  {
   "cell_type": "code",
   "execution_count": 10,
   "id": "classical-arena",
   "metadata": {},
   "outputs": [],
   "source": [
    "nominatim_url = \"https://nominatim.openstreetmap.org/search\""
   ]
  },
  {
   "cell_type": "markdown",
   "id": "wound-apache",
   "metadata": {},
   "source": [
    "### 5. OpenCage Geocoding API\n",
    "\n",
    "[Documentation](https://opencagedata.com/)"
   ]
  },
  {
   "cell_type": "code",
   "execution_count": 3,
   "id": "authorized-watershed",
   "metadata": {},
   "outputs": [],
   "source": [
    "oc_url =  \"https://api.opencagedata.com/geocode/v1/json\""
   ]
  },
  {
   "cell_type": "markdown",
   "id": "collected-failing",
   "metadata": {},
   "source": [
    "### 6. DataFrame with times"
   ]
  },
  {
   "cell_type": "code",
   "execution_count": null,
   "id": "agricultural-soviet",
   "metadata": {},
   "outputs": [],
   "source": [
    "import pandas as pd\n",
    "\n",
    "df = pd.DataFrame([\n",
    "    {\n",
    "        \"event\": \"event_1\",\n",
    "        \"start\": '2021-03-04T23:03:12.351+00:00',\n",
    "        \"end\": '2021-03-04T23:04:08.669+00:00'\n",
    "    },\n",
    "    {\n",
    "        \"event\": \"event_2\",\n",
    "        \"start\": '2021-03-05T12:12:12.010+00:00',\n",
    "        \"end\": '2021-03-05T17:56:17.123+00:00'\n",
    "    },\n",
    "    {\n",
    "        \"event\": \"event_3\",\n",
    "        \"start\": '2021-03-04T13:29:45.594+00:00',\n",
    "        \"end\": '2021-03-06T00:04:46.032+00:00'\n",
    "    },\n",
    "])"
   ]
  },
  {
   "cell_type": "markdown",
   "id": "balanced-charger",
   "metadata": {},
   "source": [
    "## Exercise"
   ]
  },
  {
   "cell_type": "markdown",
   "id": "noticed-belle",
   "metadata": {},
   "source": [
    "Use Nominatim API and National Weather Service API to write a function `get_forecast()` that prints weather forecast for a given city in the United States. "
   ]
  },
  {
   "cell_type": "markdown",
   "id": "fixed-pixel",
   "metadata": {},
   "source": [
    "**Example.**"
   ]
  },
  {
   "cell_type": "code",
   "execution_count": 1,
   "id": "geographic-tribute",
   "metadata": {
    "nbsphinx": "hidden"
   },
   "outputs": [],
   "source": [
    "# HIDDEN\n",
    "#  \"nbsphinx\": \"hidden\",\n",
    "\n",
    "from textwrap import wrap\n",
    "from datetime import datetime\n",
    "import requests\n",
    "\n",
    "def get_forecast(city):\n",
    "    \n",
    "    \n",
    "    user_agent = \"MTH 448 testing/1.0\"\n",
    "    headers = {'User-Agent': user_agent}\n",
    "    nominatim_url = \"https://nominatim.openstreetmap.org/search\"\n",
    "    point_url = \"https://api.weather.gov/points/{lat},{lon}\"\n",
    "    \n",
    "    # get latitute and longitude \n",
    "    city, state = city.split(\",\")\n",
    "    city = city.strip()\n",
    "    state = state.strip()\n",
    "    params = {\"city\": city, \"state\": state,  \"format\": \"json\"}\n",
    "    r = requests.get(nominatim_url, params=params, headers=headers)\n",
    "    locations = r.json()\n",
    "    \n",
    "    if not locations:\n",
    "        print(f\"Location {city}, {state} not found\")\n",
    "        return None\n",
    "    \n",
    "    name = locations[0][\"display_name\"]\n",
    "    lat = locations[0]['lat']\n",
    "    lon = locations[0]['lon']\n",
    "    \n",
    "    # get url of the weather forecast webpage\n",
    "    point_url = point_url.format(lat=lat, lon=lon)\n",
    "    r = requests.get(point_url, headers=headers)\n",
    "    forecast_url = r.json()['properties']['forecast']\n",
    "    \n",
    "    # get weather forecast\n",
    "    r = requests.get(forecast_url, headers=headers)\n",
    "    \n",
    "    # print forecast\n",
    "    print(name)\n",
    "    #print(\"Updated: \", datetime.fromisoformat(r.json()['properties']['updated']).astimezone())\n",
    "    print()\n",
    "    \n",
    "    periods = r.json()['properties']['periods']\n",
    "    for p in periods:\n",
    "        print(p[\"name\"])\n",
    "        print(\"Temperature:\",  p[\"temperature\"], p['temperatureUnit'])\n",
    "        print(\"Wind:\",  p['windSpeed'], p['windDirection'])\n",
    "        print(\"\\n\".join(wrap(f\"Forecast: {p['detailedForecast']}\")))\n",
    "        print()"
   ]
  },
  {
   "cell_type": "code",
   "execution_count": 2,
   "id": "requested-aging",
   "metadata": {
    "raw_mimetype": "text/html"
   },
   "outputs": [
    {
     "name": "stdout",
     "output_type": "stream",
     "text": [
      "Buffalo, Erie County, New York, United States\n",
      "\n",
      "Tonight\n",
      "Temperature: 35 F\n",
      "Wind: 0 to 3 mph SE\n",
      "Forecast: Clear, with a low around 35. Southeast wind 0 to 3 mph.\n",
      "\n",
      "Monday\n",
      "Temperature: 57 F\n",
      "Wind: 1 to 9 mph SW\n",
      "Forecast: Sunny, with a high near 57. Southwest wind 1 to 9 mph.\n",
      "\n",
      "Monday Night\n",
      "Temperature: 40 F\n",
      "Wind: 2 to 7 mph S\n",
      "Forecast: Mostly clear, with a low around 40. South wind 2 to 7 mph.\n",
      "\n",
      "Tuesday\n",
      "Temperature: 63 F\n",
      "Wind: 6 mph S\n",
      "Forecast: Mostly sunny, with a high near 63. South wind around 6 mph.\n",
      "\n",
      "Tuesday Night\n",
      "Temperature: 50 F\n",
      "Wind: 7 to 10 mph SE\n",
      "Forecast: A slight chance of rain showers after 1am. Mostly cloudy,\n",
      "with a low around 50. Southeast wind 7 to 10 mph. Chance of\n",
      "precipitation is 20%.\n",
      "\n",
      "Wednesday\n",
      "Temperature: 63 F\n",
      "Wind: 10 to 14 mph S\n",
      "Forecast: A chance of rain showers. Partly sunny, with a high near 63.\n",
      "Chance of precipitation is 40%. New rainfall amounts less than a tenth\n",
      "of an inch possible.\n",
      "\n",
      "Wednesday Night\n",
      "Temperature: 50 F\n",
      "Wind: 14 mph SW\n",
      "Forecast: A chance of rain showers. Partly cloudy, with a low around\n",
      "50. Chance of precipitation is 30%.\n",
      "\n",
      "Thursday\n",
      "Temperature: 52 F\n",
      "Wind: 8 to 13 mph SW\n",
      "Forecast: Partly sunny, with a high near 52.\n",
      "\n",
      "Thursday Night\n",
      "Temperature: 47 F\n",
      "Wind: 3 to 9 mph SE\n",
      "Forecast: Rain showers likely. Mostly cloudy, with a low around 47.\n",
      "Chance of precipitation is 70%.\n",
      "\n",
      "Friday\n",
      "Temperature: 54 F\n",
      "Wind: 8 to 12 mph S\n",
      "Forecast: Rain showers likely. Mostly cloudy, with a high near 54.\n",
      "Chance of precipitation is 70%.\n",
      "\n",
      "Friday Night\n",
      "Temperature: 37 F\n",
      "Wind: 13 to 24 mph SW\n",
      "Forecast: A chance of rain showers. Mostly cloudy, with a low around\n",
      "37. Chance of precipitation is 50%.\n",
      "\n",
      "Saturday\n",
      "Temperature: 46 F\n",
      "Wind: 14 to 21 mph SW\n",
      "Forecast: Partly sunny, with a high near 46.\n",
      "\n",
      "Saturday Night\n",
      "Temperature: 36 F\n",
      "Wind: 9 to 13 mph SW\n",
      "Forecast: Partly cloudy, with a low around 36.\n",
      "\n",
      "Sunday\n",
      "Temperature: 45 F\n",
      "Wind: 9 to 17 mph SW\n",
      "Forecast: A chance of rain showers after 8am. Partly sunny, with a\n",
      "high near 45. Chance of precipitation is 30%.\n",
      "\n"
     ]
    }
   ],
   "source": [
    "get_forecast(\"Buffalo, NY\")"
   ]
  }
 ],
 "metadata": {
  "celltoolbar": "Raw Cell Format",
  "kernelspec": {
   "display_name": "Python 3",
   "language": "python",
   "name": "python3"
  },
  "language_info": {
   "codemirror_mode": {
    "name": "ipython",
    "version": 3
   },
   "file_extension": ".py",
   "mimetype": "text/x-python",
   "name": "python",
   "nbconvert_exporter": "python",
   "pygments_lexer": "ipython3",
   "version": "3.8.5"
  }
 },
 "nbformat": 4,
 "nbformat_minor": 5
}
