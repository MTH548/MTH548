{
 "cells": [
  {
   "cell_type": "markdown",
   "id": "external-violin",
   "metadata": {},
   "source": [
    "# Week 8 (3/28-4/3)"
   ]
  },
  {
   "cell_type": "markdown",
   "id": "3ef742f9",
   "metadata": {},
   "source": [
    "## Notebook\n",
    "\n",
    "- [View online](../_static/weekly_notebooks/week_8_class.html)\n",
    "- Download the notebook file: [week_8_class.ipynb](../_static/weekly_notebooks/week_8_class.ipynb)"
   ]
  },
  {
   "cell_type": "markdown",
   "id": "57395d16",
   "metadata": {},
   "source": [
    "## Weekly digest"
   ]
  },
  {
   "cell_type": "raw",
   "id": "87e98dd8",
   "metadata": {
    "raw_mimetype": "text/restructuredtext"
   },
   "source": [
    ".. toctree::\n",
    "   :maxdepth: 1\n",
    "\n",
    "   ../Digests/digest_8"
   ]
  },
  {
   "cell_type": "markdown",
   "id": "4404b51d",
   "metadata": {},
   "source": [
    "## Project\n",
    "\n",
    "* [Scrapping marathon results](../Projects/scrapping_marathon_results/scrapping_marathon_results.ipynb)"
   ]
  },
  {
   "cell_type": "markdown",
   "id": "christian-magic",
   "metadata": {},
   "source": [
    "## Data formats\n",
    "\n",
    "* XML\n",
    "* [JSON](../Tools/json/json.ipynb)"
   ]
  },
  {
   "cell_type": "markdown",
   "id": "quality-resistance",
   "metadata": {},
   "source": [
    "## lxml installation"
   ]
  },
  {
   "cell_type": "code",
   "execution_count": null,
   "id": "legal-marsh",
   "metadata": {},
   "outputs": [],
   "source": [
    "%pip install lxml"
   ]
  },
  {
   "cell_type": "markdown",
   "id": "speaking-enforcement",
   "metadata": {},
   "source": [
    "## Resources"
   ]
  },
  {
   "cell_type": "markdown",
   "id": "other-minute",
   "metadata": {},
   "source": [
    "### 1. Sample Excel file"
   ]
  },
  {
   "cell_type": "raw",
   "id": "alternative-nurse",
   "metadata": {
    "raw_mimetype": "text/restructuredtext"
   },
   "source": [
    "| :download:`excel_sample.xlsx <excel_sample.xlsx>`"
   ]
  },
  {
   "cell_type": "markdown",
   "id": "useful-helmet",
   "metadata": {},
   "source": [
    "### 2. Sample SVG files"
   ]
  },
  {
   "cell_type": "markdown",
   "id": "particular-keyboard",
   "metadata": {},
   "source": [
    "[Dodecahedron.svg](https://upload.wikimedia.org/wikipedia/commons/a/a4/Dodecahedron.svg)"
   ]
  },
  {
   "cell_type": "code",
   "execution_count": 12,
   "id": "pursuant-sacramento",
   "metadata": {
    "raw_mimetype": "text/restructuredtext"
   },
   "outputs": [],
   "source": [
    "dodeca = \"https://upload.wikimedia.org/wikipedia/commons/a/a4/Dodecahedron.svg\""
   ]
  },
  {
   "cell_type": "markdown",
   "id": "artificial-disease",
   "metadata": {},
   "source": [
    "[Usa_counties_large.svg](https://upload.wikimedia.org/wikipedia/commons/5/59/Usa_counties_large.svg)"
   ]
  },
  {
   "cell_type": "code",
   "execution_count": 2,
   "id": "improving-orange",
   "metadata": {},
   "outputs": [],
   "source": [
    "counties = \"https://upload.wikimedia.org/wikipedia/commons/5/59/Usa_counties_large.svg\""
   ]
  },
  {
   "cell_type": "markdown",
   "id": "decreased-charles",
   "metadata": {},
   "source": [
    "### 3. National Weather Service API\n",
    "\n",
    "[Documentation](https://www.weather.gov/documentation/services-web-api)"
   ]
  },
  {
   "cell_type": "markdown",
   "id": "affiliated-letter",
   "metadata": {},
   "source": [
    "* Alerts url:"
   ]
  },
  {
   "cell_type": "code",
   "execution_count": 8,
   "id": "spectacular-webcam",
   "metadata": {},
   "outputs": [],
   "source": [
    "alerts_url = \"https://api.weather.gov/alerts\""
   ]
  },
  {
   "cell_type": "markdown",
   "id": "simple-burden",
   "metadata": {},
   "source": [
    "* Point url:"
   ]
  },
  {
   "cell_type": "code",
   "execution_count": 9,
   "id": "bound-demand",
   "metadata": {},
   "outputs": [],
   "source": [
    "point_url = \"https://api.weather.gov/points/\""
   ]
  },
  {
   "cell_type": "markdown",
   "id": "direct-combining",
   "metadata": {},
   "source": [
    "### 4. Nominatim API\n",
    "\n",
    "[Documentation](https://nominatim.org/release-docs/latest/)"
   ]
  },
  {
   "cell_type": "code",
   "execution_count": 10,
   "id": "treated-struggle",
   "metadata": {},
   "outputs": [],
   "source": [
    "nominatim_url = \"https://nominatim.openstreetmap.org/search\""
   ]
  },
  {
   "cell_type": "markdown",
   "id": "golden-joint",
   "metadata": {},
   "source": [
    "## Exercise"
   ]
  },
  {
   "cell_type": "markdown",
   "id": "serious-liability",
   "metadata": {},
   "source": [
    "Use Nominatim API and National Weather Service API to write a function `get_forecast()` that prints weather forecast for a given city in the United States. "
   ]
  },
  {
   "cell_type": "markdown",
   "id": "institutional-henry",
   "metadata": {},
   "source": [
    "**Example.**"
   ]
  },
  {
   "cell_type": "code",
   "execution_count": 1,
   "id": "rental-marks",
   "metadata": {
    "nbsphinx": "hidden"
   },
   "outputs": [],
   "source": [
    "# HIDDEN\n",
    "#  \"nbsphinx\": \"hidden\",\n",
    "\n",
    "from textwrap import wrap\n",
    "from datetime import datetime\n",
    "import requests\n",
    "\n",
    "def get_forecast(city):\n",
    "    \n",
    "    \n",
    "    user_agent = \"MTH 448 testing/1.0\"\n",
    "    headers = {'User-Agent': user_agent}\n",
    "    nominatim_url = \"https://nominatim.openstreetmap.org/search\"\n",
    "    point_url = \"https://api.weather.gov/points/{lat},{lon}\"\n",
    "    \n",
    "    # get latitute and longitude \n",
    "    city, state = city.split(\",\")\n",
    "    city = city.strip()\n",
    "    state = state.strip()\n",
    "    params = {\"city\": city, \"state\": state,  \"format\": \"json\"}\n",
    "    r = requests.get(nominatim_url, params=params, headers=headers)\n",
    "    locations = r.json()\n",
    "    \n",
    "    if not locations:\n",
    "        print(f\"Location {city}, {state} not found\")\n",
    "        return None\n",
    "    \n",
    "    name = locations[0][\"display_name\"]\n",
    "    lat = locations[0]['lat']\n",
    "    lon = locations[0]['lon']\n",
    "    \n",
    "    # get url of the weather forecast webpage\n",
    "    point_url = point_url.format(lat=lat, lon=lon)\n",
    "    r = requests.get(point_url, headers=headers)\n",
    "    forecast_url = r.json()['properties']['forecast']\n",
    "    \n",
    "    # get weather forecast\n",
    "    r = requests.get(forecast_url, headers=headers)\n",
    "    \n",
    "    # print forecast\n",
    "    print(name)\n",
    "    #print(\"Updated: \", datetime.fromisoformat(r.json()['properties']['updated']).astimezone())\n",
    "    print()\n",
    "    \n",
    "    periods = r.json()['properties']['periods']\n",
    "    for p in periods:\n",
    "        print(p[\"name\"])\n",
    "        print(\"Temperature:\",  p[\"temperature\"], p['temperatureUnit'])\n",
    "        print(\"Wind:\",  p['windSpeed'], p['windDirection'])\n",
    "        print(\"\\n\".join(wrap(f\"Forecast: {p['detailedForecast']}\")))\n",
    "        print()"
   ]
  },
  {
   "cell_type": "code",
   "execution_count": 2,
   "id": "excessive-merchant",
   "metadata": {
    "raw_mimetype": "text/html"
   },
   "outputs": [
    {
     "name": "stdout",
     "output_type": "stream",
     "text": [
      "Buffalo, Erie County, New York, United States\n",
      "\n",
      "Today\n",
      "Temperature: 38 F\n",
      "Wind: 16 to 22 mph SW\n",
      "Forecast: A chance of rain showers before 4pm, then rain and snow.\n",
      "Cloudy, with a high near 38. Southwest wind 16 to 22 mph. Chance of\n",
      "precipitation is 80%. New rainfall amounts less than a tenth of an\n",
      "inch possible.\n",
      "\n",
      "Tonight\n",
      "Temperature: 27 F\n",
      "Wind: 21 mph W\n",
      "Forecast: Rain and snow before 2am, then snow and areas of blowing\n",
      "snow. Cloudy, with a low around 27. West wind around 21 mph. Chance of\n",
      "precipitation is 100%. New snow accumulation of 1 to 2 inches\n",
      "possible.\n",
      "\n",
      "Sunday\n",
      "Temperature: 30 F\n",
      "Wind: 17 to 21 mph W\n",
      "Forecast: Snow and areas of blowing snow before 4pm, then a chance of\n",
      "snow showers. Cloudy, with a high near 30. West wind 17 to 21 mph,\n",
      "with gusts as high as 31 mph. Chance of precipitation is 90%. New snow\n",
      "accumulation of 1 to 2 inches possible.\n",
      "\n",
      "Sunday Night\n",
      "Temperature: 16 F\n",
      "Wind: 15 to 20 mph NW\n",
      "Forecast: A chance of snow showers. Mostly cloudy, with a low around\n",
      "16. Northwest wind 15 to 20 mph, with gusts as high as 31 mph. Chance\n",
      "of precipitation is 40%. New snow accumulation of less than half an\n",
      "inch possible.\n",
      "\n",
      "Monday\n",
      "Temperature: 28 F\n",
      "Wind: 17 mph NW\n",
      "Forecast: A chance of snow showers. Mostly cloudy, with a high near\n",
      "28. Northwest wind around 17 mph, with gusts as high as 28 mph. Chance\n",
      "of precipitation is 30%. New snow accumulation of less than half an\n",
      "inch possible.\n",
      "\n",
      "Monday Night\n",
      "Temperature: 16 F\n",
      "Wind: 8 to 17 mph NW\n",
      "Forecast: A chance of snow showers before 11pm. Mostly cloudy, with a\n",
      "low around 16. Chance of precipitation is 30%. Little or no snow\n",
      "accumulation expected.\n",
      "\n",
      "Tuesday\n",
      "Temperature: 36 F\n",
      "Wind: 6 to 9 mph NW\n",
      "Forecast: Mostly sunny, with a high near 36.\n",
      "\n",
      "Tuesday Night\n",
      "Temperature: 22 F\n",
      "Wind: 5 to 8 mph S\n",
      "Forecast: A slight chance of snow showers after 2am. Mostly cloudy,\n",
      "with a low around 22.\n",
      "\n",
      "Wednesday\n",
      "Temperature: 43 F\n",
      "Wind: 10 mph E\n",
      "Forecast: A chance of snow showers before 1pm, then rain showers\n",
      "likely. Mostly cloudy, with a high near 43. Chance of precipitation is\n",
      "60%.\n",
      "\n",
      "Wednesday Night\n",
      "Temperature: 37 F\n",
      "Wind: 10 mph SE\n",
      "Forecast: Rain showers likely. Cloudy, with a low around 37. Chance of\n",
      "precipitation is 60%.\n",
      "\n",
      "Thursday\n",
      "Temperature: 62 F\n",
      "Wind: 10 to 14 mph S\n",
      "Forecast: Rain showers likely. Mostly cloudy, with a high near 62.\n",
      "Chance of precipitation is 70%.\n",
      "\n",
      "Thursday Night\n",
      "Temperature: 36 F\n",
      "Wind: 14 mph SW\n",
      "Forecast: Rain showers likely. Mostly cloudy, with a low around 36.\n",
      "Chance of precipitation is 70%.\n",
      "\n",
      "Friday\n",
      "Temperature: 44 F\n",
      "Wind: 13 to 20 mph SW\n",
      "Forecast: A chance of rain showers. Partly sunny, with a high near 44.\n",
      "Chance of precipitation is 40%.\n",
      "\n",
      "Friday Night\n",
      "Temperature: 31 F\n",
      "Wind: 10 to 18 mph W\n",
      "Forecast: A chance of rain showers before 7pm, then a chance of rain\n",
      "and snow showers. Mostly cloudy, with a low around 31. Chance of\n",
      "precipitation is 30%.\n",
      "\n"
     ]
    }
   ],
   "source": [
    "get_forecast(\"Buffalo, NY\")"
   ]
  }
 ],
 "metadata": {
  "celltoolbar": "Raw Cell Format",
  "kernelspec": {
   "display_name": "Python 3 (ipykernel)",
   "language": "python",
   "name": "python3"
  },
  "language_info": {
   "codemirror_mode": {
    "name": "ipython",
    "version": 3
   },
   "file_extension": ".py",
   "mimetype": "text/x-python",
   "name": "python",
   "nbconvert_exporter": "python",
   "pygments_lexer": "ipython3",
   "version": "3.8.12"
  }
 },
 "nbformat": 4,
 "nbformat_minor": 5
}
