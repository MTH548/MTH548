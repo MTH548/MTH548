{
 "cells": [
  {
   "cell_type": "markdown",
   "id": "vocal-spouse",
   "metadata": {},
   "source": [
    "# Week 11 (4/12-4/18)"
   ]
  },
  {
   "cell_type": "markdown",
   "id": "normal-glossary",
   "metadata": {},
   "source": [
    "## Processig text and naive Bayes classification\n",
    "\n",
    "* String methods\n",
    "* Regular expressions\n",
    "* Naive Bayes classification"
   ]
  },
  {
   "cell_type": "markdown",
   "id": "sacred-trunk",
   "metadata": {},
   "source": [
    "## Project \n",
    "\n",
    "* [Text with naive Bayes](../Projects/text_with_naive_bayes/text_with_naive_bayes.ipynb)"
   ]
  },
  {
   "cell_type": "markdown",
   "id": "ahead-presence",
   "metadata": {},
   "source": [
    "## Resources"
   ]
  },
  {
   "cell_type": "markdown",
   "id": "minor-collins",
   "metadata": {},
   "source": [
    "### 1. re_show"
   ]
  },
  {
   "cell_type": "code",
   "execution_count": null,
   "id": "handed-taste",
   "metadata": {},
   "outputs": [],
   "source": [
    "import html\n",
    "from IPython.core.display import display, HTML\n",
    "\n",
    "def re_show(regex, text=\"\", flags=0):\n",
    "    \"\"\"\n",
    "    Displays text with the regex match highlighted.\n",
    "    \"\"\"\n",
    "    text_css = '''\"border-style: none;\n",
    "                   border-width: 0px;\n",
    "                   padding: 0px;\n",
    "                   font-size: 14px;\n",
    "                   color: darkslategray;\n",
    "                   background-color: white;\n",
    "                   white-space: pre;\n",
    "                   line-height: 20px;\"\n",
    "                   '''\n",
    "    match_css = '''\"padding: 0px 1px 0px 1px;\n",
    "                    margin: 0px 0.5px 0px 0.5px;\n",
    "                    border-style: solid;\n",
    "                    border-width: 0.5px;\n",
    "                    border-color: darkred;\n",
    "                    background-color: cornsilk;\n",
    "                    color: red;\"\n",
    "                    '''\n",
    "    \n",
    "    text = html.escape(text)\n",
    "    r = re.compile(f\"({regex})\", flags=flags)\n",
    "    t = r.sub(fr'<span style={match_css}>\\1</span>', text)\n",
    "    display(HTML(f'<code style={text_css}>{t}</code>'))"
   ]
  },
  {
   "cell_type": "markdown",
   "id": "found-conditions",
   "metadata": {},
   "source": [
    "## Exercises"
   ]
  },
  {
   "cell_type": "markdown",
   "id": "commercial-corner",
   "metadata": {},
   "source": [
    "### Exercise 1.  \n",
    "\n",
    "Create a pandas DataFrame in which every row corresponds to one newsgroups post. The columns should list the name of the newsgroup, the post sender, the post subject and the post body. Here is a sample:"
   ]
  },
  {
   "cell_type": "code",
   "execution_count": 5,
   "id": "certain-willow",
   "metadata": {
    "nbsphinx": "hidden"
   },
   "outputs": [],
   "source": [
    "#  \"nbsphinx\": \"hidden\"\n",
    "\n",
    "from zipfile import ZipFile, ZIP_DEFLATED\n",
    "import pandas as pd\n",
    "import io\n",
    "\n",
    "with ZipFile(\"newsgroups.csv.zip\", 'r') as zipped:\n",
    "    txt = zipped.read(\"newsgroups.csv\").decode(encoding='utf8', errors='ignore')\n",
    "    \n",
    "df = pd.read_csv(io.StringIO(txt))"
   ]
  },
  {
   "cell_type": "code",
   "execution_count": 7,
   "id": "caroline-sweet",
   "metadata": {},
   "outputs": [
    {
     "data": {
      "text/html": [
       "<div>\n",
       "<style scoped>\n",
       "    .dataframe tbody tr th:only-of-type {\n",
       "        vertical-align: middle;\n",
       "    }\n",
       "\n",
       "    .dataframe tbody tr th {\n",
       "        vertical-align: top;\n",
       "    }\n",
       "\n",
       "    .dataframe thead th {\n",
       "        text-align: right;\n",
       "    }\n",
       "</style>\n",
       "<table border=\"1\" class=\"dataframe\">\n",
       "  <thead>\n",
       "    <tr style=\"text-align: right;\">\n",
       "      <th></th>\n",
       "      <th>newsgroup</th>\n",
       "      <th>from</th>\n",
       "      <th>subject</th>\n",
       "      <th>body</th>\n",
       "    </tr>\n",
       "  </thead>\n",
       "  <tbody>\n",
       "    <tr>\n",
       "      <th>0</th>\n",
       "      <td>rec.autos</td>\n",
       "      <td>gwm@spl1.spl.loral.com (Gary W. Mahan)</td>\n",
       "      <td>Re: Are BMW's worth the price?</td>\n",
       "      <td>\\n\\n&gt;sure sounds like they got a ringer.  the ...</td>\n",
       "    </tr>\n",
       "    <tr>\n",
       "      <th>1</th>\n",
       "      <td>sci.med</td>\n",
       "      <td>davec@ecst.csuchico.edu (Dave Childs)</td>\n",
       "      <td>Dental Fillings question</td>\n",
       "      <td>\\n\\nI have been hearing bad thing about amalga...</td>\n",
       "    </tr>\n",
       "    <tr>\n",
       "      <th>2</th>\n",
       "      <td>alt.atheism</td>\n",
       "      <td>\"Robert Knowles\" &lt;p00261@psilink.com&gt;</td>\n",
       "      <td>Re: Islamic marriage?</td>\n",
       "      <td>\\n\\n&gt;DATE:   Tue, 6 Apr 1993 00:11:49 GMT\\n&gt;FR...</td>\n",
       "    </tr>\n",
       "    <tr>\n",
       "      <th>3</th>\n",
       "      <td>rec.sport.baseball</td>\n",
       "      <td>sepinwal@mail.sas.upenn.edu (Alan Sepinwall)</td>\n",
       "      <td>Re: WFAN</td>\n",
       "      <td>\\n\\nIn article &lt;1993Apr16.174843.28111@cabell....</td>\n",
       "    </tr>\n",
       "    <tr>\n",
       "      <th>4</th>\n",
       "      <td>talk.religion.misc</td>\n",
       "      <td>rwd4f@poe.acc.Virginia.EDU (Rob Dobson)</td>\n",
       "      <td>Re: A Message for you Mr. President: How do yo...</td>\n",
       "      <td>\\n\\nIn article &lt;visser.735284180@convex.convex...</td>\n",
       "    </tr>\n",
       "  </tbody>\n",
       "</table>\n",
       "</div>"
      ],
      "text/plain": [
       "            newsgroup                                          from  \\\n",
       "0           rec.autos        gwm@spl1.spl.loral.com (Gary W. Mahan)   \n",
       "1             sci.med         davec@ecst.csuchico.edu (Dave Childs)   \n",
       "2         alt.atheism         \"Robert Knowles\" <p00261@psilink.com>   \n",
       "3  rec.sport.baseball  sepinwal@mail.sas.upenn.edu (Alan Sepinwall)   \n",
       "4  talk.religion.misc       rwd4f@poe.acc.Virginia.EDU (Rob Dobson)   \n",
       "\n",
       "                                             subject  \\\n",
       "0         Re: Are BMW's worth the price?               \n",
       "1                           Dental Fillings question   \n",
       "2                              Re: Islamic marriage?   \n",
       "3                                           Re: WFAN   \n",
       "4  Re: A Message for you Mr. President: How do yo...   \n",
       "\n",
       "                                                body  \n",
       "0  \\n\\n>sure sounds like they got a ringer.  the ...  \n",
       "1  \\n\\nI have been hearing bad thing about amalga...  \n",
       "2  \\n\\n>DATE:   Tue, 6 Apr 1993 00:11:49 GMT\\n>FR...  \n",
       "3  \\n\\nIn article <1993Apr16.174843.28111@cabell....  \n",
       "4  \\n\\nIn article <visser.735284180@convex.convex...  "
      ]
     },
     "execution_count": 7,
     "metadata": {},
     "output_type": "execute_result"
    }
   ],
   "source": [
    "df.head(5)"
   ]
  },
  {
   "cell_type": "markdown",
   "id": "conscious-danger",
   "metadata": {},
   "source": [
    "### Exercise 2.\n",
    "\n",
    "For each newsgroup create a list consisting of pairs `(word, count)` where `word` is a word appearing in one of the newsgroup post and `count` is the number of times `word` appears in all newsgroup posts. Sort the list from the highest word count to the lowest. "
   ]
  },
  {
   "cell_type": "code",
   "execution_count": null,
   "id": "public-lafayette",
   "metadata": {},
   "outputs": [],
   "source": []
  }
 ],
 "metadata": {
  "kernelspec": {
   "display_name": "Python 3",
   "language": "python",
   "name": "python3"
  },
  "language_info": {
   "codemirror_mode": {
    "name": "ipython",
    "version": 3
   },
   "file_extension": ".py",
   "mimetype": "text/x-python",
   "name": "python",
   "nbconvert_exporter": "python",
   "pygments_lexer": "ipython3",
   "version": "3.8.5"
  }
 },
 "nbformat": 4,
 "nbformat_minor": 5
}
