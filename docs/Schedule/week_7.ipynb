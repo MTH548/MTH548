{
 "cells": [
  {
   "cell_type": "markdown",
   "id": "endangered-recall",
   "metadata": {},
   "source": [
    "# Week 7 (3/15-3/21)"
   ]
  },
  {
   "cell_type": "markdown",
   "id": "understanding-elements",
   "metadata": {},
   "source": [
    "## Zoom Recordings\n",
    "\n",
    "* [Tuesday](https://ub.hosted.panopto.com/Panopto/Pages/Viewer.aspx?id=7ee024fd-72f4-4a4c-ad38-aced0143bd87)\n",
    "* [Thursday](https://ub.hosted.panopto.com/Panopto/Pages/Viewer.aspx?id=1b12e6cd-71a4-49f5-b1d5-acef0127a028)"
   ]
  },
  {
   "cell_type": "markdown",
   "id": "operational-samoa",
   "metadata": {},
   "source": [
    "## Notebook\n",
    "\n",
    "- [View online](../_static/weekly_notebooks/week_7_class.html)\n",
    "- Download the notebook file: [week_7_class.ipynb](../_static/weekly_notebooks/week_7_class.ipynb)."
   ]
  },
  {
   "cell_type": "markdown",
   "id": "straight-conclusion",
   "metadata": {},
   "source": [
    "## Web scrapping\n",
    "\n",
    "* [Requests](../Tools/requests/requests.ipynb)\n",
    "* [BeautifulSoup](../Tools/beautiful_soup/beautiful_soup.ipynb)\n",
    "* [Accessing developer tools in a web browser](https://balsamiq.com/support/faqs/browserconsole/)"
   ]
  },
  {
   "cell_type": "markdown",
   "id": "crude-variance",
   "metadata": {},
   "source": [
    "## Project \n",
    "\n",
    "* [Scrapping marathon results](../Projects/scrapping_marathon_results/scrapping_marathon_results.ipynb)"
   ]
  },
  {
   "cell_type": "markdown",
   "id": "dangerous-bennett",
   "metadata": {},
   "source": [
    "## Resources"
   ]
  },
  {
   "cell_type": "markdown",
   "id": "southern-thanksgiving",
   "metadata": {},
   "source": [
    "### 1. UB Mathematics graduate students directory"
   ]
  },
  {
   "cell_type": "code",
   "execution_count": 1,
   "id": "exciting-missile",
   "metadata": {},
   "outputs": [],
   "source": [
    "grad_url = \"http://www.buffalo.edu/cas/math/people/grad-directory.html\""
   ]
  },
  {
   "cell_type": "markdown",
   "id": "spanish-mozambique",
   "metadata": {},
   "source": [
    "### 2. UB Mathematics faculty directory"
   ]
  },
  {
   "cell_type": "code",
   "execution_count": null,
   "id": "classical-arena",
   "metadata": {},
   "outputs": [],
   "source": [
    "faculty_url = \"http://www.buffalo.edu/cas/math/people/faculty.html\""
   ]
  },
  {
   "cell_type": "markdown",
   "id": "balanced-charger",
   "metadata": {},
   "source": [
    "## Exercise"
   ]
  },
  {
   "cell_type": "markdown",
   "id": "noticed-belle",
   "metadata": {},
   "source": [
    "Here is the url to a webpage of the UB catalog listing undergraduate mathematics courses:"
   ]
  },
  {
   "cell_type": "code",
   "execution_count": 3,
   "id": "induced-gossip",
   "metadata": {},
   "outputs": [],
   "source": [
    "courses_url = \"https://catalog.buffalo.edu/courses/mathematics.html\""
   ]
  },
  {
   "cell_type": "markdown",
   "id": "fixed-pixel",
   "metadata": {},
   "source": [
    "Retrieve course codes, titles, and descriptions of all courses and organize them in a pandas DataFrame. The resulting DataFrame should look as follows:"
   ]
  },
  {
   "cell_type": "code",
   "execution_count": 9,
   "id": "geographic-tribute",
   "metadata": {
    "nbsphinx": "hidden"
   },
   "outputs": [],
   "source": [
    "# HIDDEN\n",
    "#  \"nbsphinx\": \"hidden\",\n",
    "\n",
    "import requests\n",
    "from bs4 import BeautifulSoup\n",
    "import pandas as pd\n",
    "import plotly.graph_objects as go\n",
    "import textwrap\n",
    "\n",
    "url = \"http://catalog.buffalo.edu/courses/mathematics.html\"\n",
    "\n",
    "r = requests.get(url).text\n",
    "soup = BeautifulSoup(r)\n",
    "courses = soup.find_all('ul')[5].find_all('li')\n",
    "\n",
    "course_dir = []\n",
    "for c in courses:\n",
    "    listing = {}\n",
    "    course = c.find('a').get_text().split()\n",
    "\n",
    "    listing[\"course_code\"] = \" \".join(course[:2])\n",
    "    listing[\"title\"] = \" \".join(course[2:])\n",
    "    listing[\"description\"] = c.find('p',\n",
    "                                    class_=\"course-description\").get_text()\n",
    "    course_dir.append(listing)\n",
    "\n",
    "math_courses = pd.DataFrame(course_dir)\n",
    "\n",
    "math_courses['description'] = math_courses['description'].map(\n",
    "    lambda x: textwrap.shorten(x, width=60, placeholder=\"...\"))\n",
    "math_courses['title'] = math_courses['title'].map(\n",
    "    lambda x: textwrap.shorten(x, width=50, placeholder=\"...\"))"
   ]
  },
  {
   "cell_type": "code",
   "execution_count": 10,
   "id": "requested-aging",
   "metadata": {
    "raw_mimetype": "text/html"
   },
   "outputs": [
    {
     "data": {
      "text/html": [
       "<div>\n",
       "<style scoped>\n",
       "    .dataframe tbody tr th:only-of-type {\n",
       "        vertical-align: middle;\n",
       "    }\n",
       "\n",
       "    .dataframe tbody tr th {\n",
       "        vertical-align: top;\n",
       "    }\n",
       "\n",
       "    .dataframe thead th {\n",
       "        text-align: right;\n",
       "    }\n",
       "</style>\n",
       "<table border=\"1\" class=\"dataframe\">\n",
       "  <thead>\n",
       "    <tr style=\"text-align: right;\">\n",
       "      <th></th>\n",
       "      <th>course_code</th>\n",
       "      <th>title</th>\n",
       "      <th>description</th>\n",
       "    </tr>\n",
       "  </thead>\n",
       "  <tbody>\n",
       "    <tr>\n",
       "      <th>0</th>\n",
       "      <td>MTH 101LR</td>\n",
       "      <td>Introduction to Contemporary Mathematics</td>\n",
       "      <td>This course is intended for students who do no...</td>\n",
       "    </tr>\n",
       "    <tr>\n",
       "      <th>1</th>\n",
       "      <td>MTH 115LR</td>\n",
       "      <td>Survey of Algebra and Trigonometry</td>\n",
       "      <td>A pre-calculus course; covers topics from the ...</td>\n",
       "    </tr>\n",
       "    <tr>\n",
       "      <th>2</th>\n",
       "      <td>MTH 120LEC</td>\n",
       "      <td>Selected Topics in Calculus</td>\n",
       "      <td>Allows transfer students to efficiently learn ...</td>\n",
       "    </tr>\n",
       "    <tr>\n",
       "      <th>3</th>\n",
       "      <td>MTH 121LR</td>\n",
       "      <td>Survey of Calculus and Its Applications I</td>\n",
       "      <td>For students in social, biological, and manage...</td>\n",
       "    </tr>\n",
       "    <tr>\n",
       "      <th>4</th>\n",
       "      <td>MTH 122LR</td>\n",
       "      <td>Survey of Calculus and Its Applications II</td>\n",
       "      <td>Continuation of MTH 121. Maximization of funct...</td>\n",
       "    </tr>\n",
       "    <tr>\n",
       "      <th>...</th>\n",
       "      <td>...</td>\n",
       "      <td>...</td>\n",
       "      <td>...</td>\n",
       "    </tr>\n",
       "    <tr>\n",
       "      <th>64</th>\n",
       "      <td>MTH 470LEC</td>\n",
       "      <td>Topics in Mathematics</td>\n",
       "      <td>Treats problems, methods, and recent developme...</td>\n",
       "    </tr>\n",
       "    <tr>\n",
       "      <th>65</th>\n",
       "      <td>MTH 495TUT</td>\n",
       "      <td>Undergraduate Supervised Teaching</td>\n",
       "      <td>Students who have at least junior status and s...</td>\n",
       "    </tr>\n",
       "    <tr>\n",
       "      <th>66</th>\n",
       "      <td>MTH 496TUT</td>\n",
       "      <td>Internship in Mathematics</td>\n",
       "      <td>Students get field experience in mathematical ...</td>\n",
       "    </tr>\n",
       "    <tr>\n",
       "      <th>67</th>\n",
       "      <td>MTH 497TUT</td>\n",
       "      <td>Honors Thesis in Mathematics</td>\n",
       "      <td>Open only to math majors intending to seek an ...</td>\n",
       "    </tr>\n",
       "    <tr>\n",
       "      <th>68</th>\n",
       "      <td>MTH 499TUT</td>\n",
       "      <td>Independent Study</td>\n",
       "      <td>Individual study arranged between student and ...</td>\n",
       "    </tr>\n",
       "  </tbody>\n",
       "</table>\n",
       "<p>69 rows × 3 columns</p>\n",
       "</div>"
      ],
      "text/plain": [
       "   course_code                                       title  \\\n",
       "0    MTH 101LR    Introduction to Contemporary Mathematics   \n",
       "1    MTH 115LR          Survey of Algebra and Trigonometry   \n",
       "2   MTH 120LEC                 Selected Topics in Calculus   \n",
       "3    MTH 121LR   Survey of Calculus and Its Applications I   \n",
       "4    MTH 122LR  Survey of Calculus and Its Applications II   \n",
       "..         ...                                         ...   \n",
       "64  MTH 470LEC                       Topics in Mathematics   \n",
       "65  MTH 495TUT           Undergraduate Supervised Teaching   \n",
       "66  MTH 496TUT                   Internship in Mathematics   \n",
       "67  MTH 497TUT                Honors Thesis in Mathematics   \n",
       "68  MTH 499TUT                           Independent Study   \n",
       "\n",
       "                                          description  \n",
       "0   This course is intended for students who do no...  \n",
       "1   A pre-calculus course; covers topics from the ...  \n",
       "2   Allows transfer students to efficiently learn ...  \n",
       "3   For students in social, biological, and manage...  \n",
       "4   Continuation of MTH 121. Maximization of funct...  \n",
       "..                                                ...  \n",
       "64  Treats problems, methods, and recent developme...  \n",
       "65  Students who have at least junior status and s...  \n",
       "66  Students get field experience in mathematical ...  \n",
       "67  Open only to math majors intending to seek an ...  \n",
       "68  Individual study arranged between student and ...  \n",
       "\n",
       "[69 rows x 3 columns]"
      ]
     },
     "execution_count": 10,
     "metadata": {},
     "output_type": "execute_result"
    }
   ],
   "source": [
    "math_courses"
   ]
  }
 ],
 "metadata": {
  "kernelspec": {
   "display_name": "Python 3",
   "language": "python",
   "name": "python3"
  },
  "language_info": {
   "codemirror_mode": {
    "name": "ipython",
    "version": 3
   },
   "file_extension": ".py",
   "mimetype": "text/x-python",
   "name": "python",
   "nbconvert_exporter": "python",
   "pygments_lexer": "ipython3",
   "version": "3.8.5"
  }
 },
 "nbformat": 4,
 "nbformat_minor": 5
}
