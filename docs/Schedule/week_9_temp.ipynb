{
 "cells": [
  {
   "cell_type": "markdown",
   "id": "controversial-citizenship",
   "metadata": {},
   "source": [
    "# Week 9 (3/29-4/4)"
   ]
  },
  {
   "cell_type": "markdown",
   "id": "outside-emperor",
   "metadata": {},
   "source": [
    "## Data formats\n",
    "\n",
    "* [JSON](../Tools/json/json.ipynb)\n",
    "* Dates and times"
   ]
  },
  {
   "cell_type": "markdown",
   "id": "liquid-stylus",
   "metadata": {},
   "source": [
    "## Project\n",
    "\n",
    "* [Discord logs](../Projects/discord_logs/discord_logs.ipynb)"
   ]
  },
  {
   "cell_type": "markdown",
   "id": "basic-denver",
   "metadata": {},
   "source": [
    "## Resources"
   ]
  },
  {
   "cell_type": "markdown",
   "id": "retained-plain",
   "metadata": {},
   "source": [
    "### 1. OpenCage Geocoding API\n",
    "\n",
    "[Documentation](https://opencagedata.com/)"
   ]
  },
  {
   "cell_type": "code",
   "execution_count": 3,
   "id": "chronic-yellow",
   "metadata": {},
   "outputs": [],
   "source": [
    "oc_url =  \"https://api.opencagedata.com/geocode/v1/json\""
   ]
  },
  {
   "cell_type": "markdown",
   "id": "prostate-impact",
   "metadata": {},
   "source": [
    "### 2. DataFrame with times"
   ]
  },
  {
   "cell_type": "code",
   "execution_count": null,
   "id": "official-competition",
   "metadata": {},
   "outputs": [],
   "source": [
    "import pandas as pd\n",
    "\n",
    "df = pd.DataFrame([\n",
    "    {\n",
    "        \"event\": \"event_1\",\n",
    "        \"start\": '2021-03-04T23:03:12.351+00:00',\n",
    "        \"end\": '2021-03-04T23:04:08.669+00:00'\n",
    "    },\n",
    "    {\n",
    "        \"event\": \"event_2\",\n",
    "        \"start\": '2021-03-05T12:12:12.010+00:00',\n",
    "        \"end\": '2021-03-05T17:56:17.123+00:00'\n",
    "    },\n",
    "    {\n",
    "        \"event\": \"event_3\",\n",
    "        \"start\": '2021-03-04T13:29:45.594+00:00',\n",
    "        \"end\": '2021-03-06T00:04:46.032+00:00'\n",
    "    },\n",
    "])"
   ]
  }
 ],
 "metadata": {
  "celltoolbar": "Raw Cell Format",
  "kernelspec": {
   "display_name": "Python 3",
   "language": "python",
   "name": "python3"
  },
  "language_info": {
   "codemirror_mode": {
    "name": "ipython",
    "version": 3
   },
   "file_extension": ".py",
   "mimetype": "text/x-python",
   "name": "python",
   "nbconvert_exporter": "python",
   "pygments_lexer": "ipython3",
   "version": "3.8.5"
  }
 },
 "nbformat": 4,
 "nbformat_minor": 5
}
