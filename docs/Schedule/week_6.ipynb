{
 "cells": [
  {
   "cell_type": "markdown",
   "id": "endangered-recall",
   "metadata": {},
   "source": [
    "# Week 6 (3/8-3/14)"
   ]
  },
  {
   "cell_type": "markdown",
   "id": "ahead-equivalent",
   "metadata": {},
   "source": [
    "## Zoom Recordings\n",
    "\n",
    "* [Tuesday](https://ub.hosted.panopto.com/Panopto/Pages/Viewer.aspx?id=9b489fef-4392-494c-aa43-ace6014fc691)\n",
    "* [Thursday](https://ub.hosted.panopto.com/Panopto/Pages/Viewer.aspx?id=eb9fcc11-ad64-4440-8193-ace801440ec4)"
   ]
  },
  {
   "cell_type": "markdown",
   "id": "shared-ethiopia",
   "metadata": {},
   "source": [
    "## Notebook\n",
    "\n",
    "- [View online](../_static/weekly_notebooks/week_6_class.html)\n",
    "- Download the notebook file: [week_6_class.ipynb](../_static/weekly_notebooks/week_6_class.ipynb)."
   ]
  },
  {
   "cell_type": "code",
   "execution_count": null,
   "id": "quick-lebanon",
   "metadata": {},
   "outputs": [],
   "source": [
    "%pip install plotly"
   ]
  },
  {
   "cell_type": "markdown",
   "id": "crude-variance",
   "metadata": {},
   "source": [
    "## Project \n",
    "\n",
    "* [Baby names](../Projects/baby_names/baby_names.ipynb)"
   ]
  },
  {
   "cell_type": "markdown",
   "id": "russian-plain",
   "metadata": {},
   "source": [
    "## Resources"
   ]
  },
  {
   "cell_type": "markdown",
   "id": "suburban-murray",
   "metadata": {},
   "source": [
    "### 1. Data for choropleth maps"
   ]
  },
  {
   "cell_type": "code",
   "execution_count": 2,
   "id": "pacific-parker",
   "metadata": {},
   "outputs": [],
   "source": [
    "url = \"https://raw.githubusercontent.com/plotly/datasets/master/2011_us_ag_exports.csv\""
   ]
  },
  {
   "cell_type": "markdown",
   "id": "deadly-works",
   "metadata": {},
   "source": [
    "### 2. Create a DataFrame with baby names"
   ]
  },
  {
   "cell_type": "code",
   "execution_count": null,
   "id": "productive-recycling",
   "metadata": {},
   "outputs": [],
   "source": [
    "from zipfile import ZipFile\n",
    "import requests\n",
    "import pandas as pd\n",
    "\n",
    "# download names.zip\n",
    "r = requests.get(\"https://www.ssa.gov/oact/babynames/names.zip\")\n",
    "with open(\"names.zip\", 'wb') as foo:\n",
    "    foo.write(r.content)\n",
    "\n",
    "# read zipped csv file\n",
    "with ZipFile(\"names.zip\", 'r') as z:\n",
    "    fnames = (f for f in z.namelist() if f.endswith(\".txt\"))\n",
    "    file_dict = {}\n",
    "    for f in fnames:\n",
    "        with z.open(f) as foo:\n",
    "            file_dict[int(f[3:-4])] = pd.read_csv(foo, names=[\"name\", \"sex\", \"count\"])\n",
    "\n",
    "# concatenate dataframes\n",
    "df = pd.concat(file_dict.values(), keys=file_dict.keys())\n",
    "df.reset_index(level=0, inplace=True)\n",
    "df.rename({\"level_0\": \"year\"}, axis=1, inplace=True)"
   ]
  }
 ],
 "metadata": {
  "kernelspec": {
   "display_name": "Python 3",
   "language": "python",
   "name": "python3"
  },
  "language_info": {
   "codemirror_mode": {
    "name": "ipython",
    "version": 3
   },
   "file_extension": ".py",
   "mimetype": "text/x-python",
   "name": "python",
   "nbconvert_exporter": "python",
   "pygments_lexer": "ipython3",
   "version": "3.8.5"
  }
 },
 "nbformat": 4,
 "nbformat_minor": 5
}
