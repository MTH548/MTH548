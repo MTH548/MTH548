{
 "cells": [
  {
   "cell_type": "markdown",
   "id": "endangered-recall",
   "metadata": {},
   "source": [
    "# Week 6 (3/8-3/14)"
   ]
  },
  {
   "cell_type": "markdown",
   "id": "disturbed-gibraltar",
   "metadata": {},
   "source": [
    "## Zoom Recordings\n",
    "\n",
    "* [Tuesday](https://ub.hosted.panopto.com/Panopto/Pages/Viewer.aspx?id=9b489fef-4392-494c-aa43-ace6014fc691)"
   ]
  },
  {
   "cell_type": "markdown",
   "id": "straight-conclusion",
   "metadata": {},
   "source": [
    "## Plotting tools\n",
    "\n",
    "* [Seaborn](../Tools/Seaborn/seaborn_toc.rst)\n",
    "* [Plotly](../Tools/Plotly/plotly_toc.rst)\n",
    "\n",
    "To install Plotly execute the following in a Jupyter notebook code cell:"
   ]
  },
  {
   "cell_type": "markdown",
   "id": "coastal-america",
   "metadata": {},
   "source": [
    "```\n",
    "%pip install plotly\n",
    "```"
   ]
  },
  {
   "cell_type": "markdown",
   "id": "crude-variance",
   "metadata": {},
   "source": [
    "## Project \n",
    "\n",
    "* [Baby names](../Projects/baby_names/baby_names.ipynb)"
   ]
  },
  {
   "cell_type": "markdown",
   "id": "russian-plain",
   "metadata": {},
   "source": [
    "## Resources"
   ]
  },
  {
   "cell_type": "markdown",
   "id": "suburban-murray",
   "metadata": {},
   "source": [
    "### 1. Data for choropleth maps"
   ]
  },
  {
   "cell_type": "markdown",
   "id": "separated-modeling",
   "metadata": {},
   "source": [
    "```\n",
    "url = \"https://raw.githubusercontent.com/plotly/datasets/master/2011_us_ag_exports.csv\"\n",
    "```"
   ]
  }
 ],
 "metadata": {
  "kernelspec": {
   "display_name": "Python 3",
   "language": "python",
   "name": "python3"
  },
  "language_info": {
   "codemirror_mode": {
    "name": "ipython",
    "version": 3
   },
   "file_extension": ".py",
   "mimetype": "text/x-python",
   "name": "python",
   "nbconvert_exporter": "python",
   "pygments_lexer": "ipython3",
   "version": "3.8.5"
  }
 },
 "nbformat": 4,
 "nbformat_minor": 5
}
