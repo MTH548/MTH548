{
 "cells": [
  {
   "cell_type": "markdown",
   "id": "vocal-spouse",
   "metadata": {},
   "source": [
    "# Week 11 (4/18-4/24)"
   ]
  },
  {
   "cell_type": "markdown",
   "id": "2805471d",
   "metadata": {},
   "source": [
    "## Notebook\n",
    "\n",
    "- [View online](../_static/weekly_notebooks/week_11_class.html)\n",
    "- Download the notebook file: [week_10_class.ipynb](../_static/weekly_notebooks/week_11_class.ipynb)"
   ]
  },
  {
   "cell_type": "markdown",
   "id": "normal-glossary",
   "metadata": {},
   "source": [
    "## Linear regression\n",
    "\n",
    "* Linear regression and cost functions\n",
    "* Gradient descent\n",
    "* Linear regression with sklearn\n",
    "\n",
    "## Processig text\n",
    "\n",
    "* String methods\n",
    "* [Regular expressions](../Tools/Regex/regex_toc.rst)"
   ]
  },
  {
   "cell_type": "markdown",
   "id": "sacred-trunk",
   "metadata": {},
   "source": [
    "## Project \n",
    "\n",
    "* [KDE and marathon results](../Projects/kde_marathon_results/kde_marathon_results.ipynb)"
   ]
  },
  {
   "cell_type": "markdown",
   "id": "ahead-presence",
   "metadata": {},
   "source": [
    "## Resources"
   ]
  },
  {
   "cell_type": "markdown",
   "id": "7974dbfd-22c5-4cab-ade6-db1ee024dea3",
   "metadata": {},
   "source": [
    "### 1. Tips predictions "
   ]
  },
  {
   "cell_type": "code",
   "execution_count": 1,
   "id": "7f74d9bb",
   "metadata": {},
   "outputs": [
    {
     "data": {
      "application/vnd.jupyter.widget-view+json": {
       "model_id": "",
       "version_major": 2,
       "version_minor": 0
      },
      "text/plain": [
       "interactive(children=(FloatSlider(value=0.15000000000000002, description='a', max=0.2, min=0.1, step=0.01), Fl…"
      ]
     },
     "metadata": {},
     "output_type": "display_data"
    }
   ],
   "source": [
    "from ipywidgets import interact, fixed\n",
    "import numpy as np\n",
    "import matplotlib.pyplot as plt\n",
    "import seaborn as sns\n",
    "\n",
    "plt.style.use('ggplot')\n",
    "sns.set_context(\"notebook\")\n",
    "\n",
    "\n",
    "df = sns.load_dataset('tips')\n",
    "\n",
    "def tip_plot(a, b):\n",
    "    \n",
    "    predict = a*df['total_bill'] + b\n",
    "    cost = ((predict - df['tip'])**2).sum()\n",
    "    \n",
    "    plt.figure(figsize=(12,7))\n",
    "    sns.scatterplot(data=df, x=\"total_bill\", y=\"tip\", marker='o')\n",
    "    x = np.arange(0, 55)\n",
    "    plt.plot(x, a*x + b, c='b', lw=5, alpha=0.5)\n",
    "    plt.ylim(0, 11)\n",
    "    plt.title(f\"a={a:.2f}   b={b:.2f}   C(a, b)={cost:.2f}\", fontdict={'fontsize':20})\n",
    "    plt.show()\n",
    "    \n",
    "interact(tip_plot, a=(0.1, 0.2, 0.01), b=(0.0, 1.0, 0.1));"
   ]
  },
  {
   "cell_type": "markdown",
   "id": "5a566da0-f946-49d1-8857-b73a7470db6f",
   "metadata": {},
   "source": [
    "### 2. Gradient descent"
   ]
  },
  {
   "cell_type": "code",
   "execution_count": 3,
   "id": "57039c77-03c6-43b6-922f-5c8f2e43bbb6",
   "metadata": {},
   "outputs": [],
   "source": [
    "import plotly.graph_objects as go\n",
    "import numpy as np\n",
    "import matplotlib.pyplot as plt\n",
    "import seaborn as sns\n",
    "\n",
    "\n",
    "def descent(Df, x0, l_rate=0.1, nsteps=1000):\n",
    "    '''\n",
    "    Performs gradient descent of a given function f. \n",
    "\n",
    "    Df: \n",
    "        Differential of f\n",
    "    x0:\n",
    "        The xtarrting point. \n",
    "    l_rate: \n",
    "        The learning rate.\n",
    "    nsteps:\n",
    "        Number of iterations to run. \n",
    "  \n",
    "    Returns:\n",
    "        A list of points computed during steps of the gradient descent.  \n",
    "    '''\n",
    "\n",
    "    x = np.array(x0, dtype='float')\n",
    "    path = [x]\n",
    "    for i in range(nsteps):\n",
    "        Dfx = np.array(Df(x))\n",
    "        x = x - l_rate*Dfx\n",
    "        path.append(x)\n",
    "    return path\n",
    "\n",
    "\n",
    "def plot_descent(f, xlim, ylim, path=None, levels=20):\n",
    "    '''\n",
    "    Creates contour plot of a functions and the path \n",
    "    computed by gradient descent applied to the function.\n",
    "    \n",
    "    f:\n",
    "        Function to be plotted\n",
    "    path:\n",
    "        List of coordinates of points computed by the \n",
    "        gradient descent algorithm.\n",
    "    xlim, ylim:\n",
    "        Tuples with limits of x- and y-values for the contour \n",
    "        plot of the function. \n",
    "    levels:\n",
    "        Specifies levels of the contour plot. \n",
    "    '''\n",
    "\n",
    "    plt.figure(figsize=(8, 8))\n",
    "    x, y = np.meshgrid(np.linspace(*xlim, 1000), np.linspace(*ylim, 1000))\n",
    "    Z = f(np.vstack([x.ravel(), y.ravel()])).reshape(x.shape)\n",
    "    plt.contourf(x, y, Z, levels=levels, cmap='bone')\n",
    "    plt.contour(x, y, Z, levels=levels, colors='gray')\n",
    "    if path is not None:\n",
    "        plt.plot([x[0] for x in path], [x[1] for x in path], 'ro-', ms=4)\n",
    "    plt.show()\n",
    "\n",
    "\n",
    "def plot_descent_step(f, xlim, ylim, path=None, levels=20, last=None, step=1):\n",
    "    plot_descent(f=f,\n",
    "                 xlim=xlim,\n",
    "                 ylim=ylim,\n",
    "                 path=path[:last:step],\n",
    "                 levels=levels)\n",
    "\n",
    "\n",
    "def plot3d(f, xlim, ylim):\n",
    "    x = np.linspace(xlim[0], xlim[1], 400)\n",
    "    y = np.linspace(ylim[0], ylim[1], 400)\n",
    "    X, Y = np.meshgrid(x, y)\n",
    "    Z = f(np.array([X, Y]))\n",
    "    fig = go.Figure(go.Surface(x=X, y=Y, z=Z, colorscale=\"picnic\"))\n",
    "    fig.update_layout(autosize=False, width=800, height=600)\n",
    "    fig.show()"
   ]
  },
  {
   "cell_type": "markdown",
   "id": "24528381-fbd7-4d31-bc62-3f109d70b889",
   "metadata": {},
   "source": [
    "### 3. Gradient descent test functions"
   ]
  },
  {
   "cell_type": "code",
   "execution_count": 4,
   "id": "9277a673-db7c-411d-a1c0-9d4a9fe1d00f",
   "metadata": {},
   "outputs": [],
   "source": [
    "def h(x):\n",
    "    '''\n",
    "    Himmelblau's function\n",
    "    h(x, y) = (x^2 + y - 11)^2 + (x + y^2 - 7)^2\n",
    "    '''\n",
    "    return (x[0]**2 + x[1] - 11)**2 + (x[0] + x[1]**2 - 7)**2\n",
    "\n",
    "def Dh(x):\n",
    "    return np.array([\n",
    "        2 * (x[0]**2 + x[1] - 11) * 2 * x[0] + 2 * (x[0] + x[1]**2 - 7),\n",
    "        2 * (x[0]**2 + x[1] - 11) + 2 * (x[0] + x[1]**2 - 7) * 2 * x[1]\n",
    "    ])\n",
    "\n",
    "\n",
    "def r(x):\n",
    "    '''\n",
    "    Rosenbrock function\n",
    "    r(x, y) = (1-x)^2 + 100(y-x^2)^2\n",
    "    '''\n",
    "    return (1-x[0])**2 + 100*(x[1]-x[0]**2)**2\n",
    "\n",
    "def Dr(x):\n",
    "    return np.array([-2*(1-x[0]) - 400*(x[1]-x[0]**2)*x[0], 200*(x[1]-x[0]**2)])"
   ]
  },
  {
   "cell_type": "markdown",
   "id": "pending-wednesday",
   "metadata": {},
   "source": [
    "### 4. Text sample"
   ]
  },
  {
   "cell_type": "code",
   "execution_count": null,
   "id": "minute-weekly",
   "metadata": {},
   "outputs": [],
   "source": [
    "sample = \"\"\"I am writing in reference to the our conversation on Tuesday, March 2, 2021.\n",
    "Your order of 100,000 units of GC-1344 microcontrollers has been confirmed.\n",
    "You will be billed $19.50 per unit for the total of $1,950,000.00.\n",
    "The expected delivery date is Friday, April 30, 2021. In case of any further\n",
    "questions please contact our sales department by email support@simonis.biz,\n",
    "phone (294) 934-0923 or fax (294) 934-0202.\n",
    "\n",
    "Delfina Fischer\n",
    "Manager, Simonis LLC\n",
    "delfina.fisher@simonis.biz\n",
    "(294) 934 0937\n",
    "\"\"\""
   ]
  },
  {
   "cell_type": "markdown",
   "id": "minor-collins",
   "metadata": {},
   "source": [
    "### 5. re_show"
   ]
  },
  {
   "cell_type": "code",
   "execution_count": 10,
   "id": "handed-taste",
   "metadata": {},
   "outputs": [],
   "source": [
    "import html\n",
    "import re\n",
    "from IPython.core.display import display, HTML\n",
    "\n",
    "\n",
    "def re_show(regex, text=\"\", flags=0):\n",
    "    \"\"\"\n",
    "    Displays text with the regex match highlighted.\n",
    "    \"\"\"\n",
    "    text_css = '''\"border-style: none;\n",
    "                   border-width: 0px;\n",
    "                   padding: 0px;\n",
    "                   font-size: 14px;\n",
    "                   color: darkslategray;\n",
    "                   background-color: white;\n",
    "                   white-space: pre;\n",
    "                   line-height: 20px;\"\n",
    "                   '''\n",
    "    match_css = '''\"padding: 0px 1px 0px 1px;\n",
    "                    margin: 0px 0.5px 0px 0.5px;\n",
    "                    border-style: solid;\n",
    "                    border-width: 0.5px;\n",
    "                    border-color: darkred;\n",
    "                    background-color: cornsilk;\n",
    "                    color: red;\"\n",
    "                    '''\n",
    "\n",
    "    r = re.compile(f\"({regex})\", flags=flags)\n",
    "    t = r.sub(fr'###START###\\1###END###', text)\n",
    "    t = html.escape(t)\n",
    "    t = t.replace(\"###START###\", f\"<span style={match_css}>\")\n",
    "    t = t.replace(\"###END###\", f\"</span>\")\n",
    "    display(HTML(f'<code style={text_css}>{t}</code>'))"
   ]
  },
  {
   "cell_type": "markdown",
   "id": "egyptian-belize",
   "metadata": {},
   "source": [
    "## Exercises"
   ]
  },
  {
   "cell_type": "markdown",
   "id": "married-maker",
   "metadata": {
    "tags": []
   },
   "source": [
    "### Exercise 1.  "
   ]
  },
  {
   "cell_type": "raw",
   "id": "north-candidate",
   "metadata": {
    "raw_mimetype": "text/restructuredtext"
   },
   "source": [
    "The file :download:`newsgroups.zip <newsgroups.zip>`  is a zipped text file containing several thousand posts sent to various online newsgroups. Each post starts with three lines that  describe the name of the newsgroup to which the post was sent, the author of the post, and the subject. These lines are followed by the text of the post. For example:"
   ]
  },
  {
   "cell_type": "raw",
   "id": "initial-venture",
   "metadata": {
    "raw_mimetype": "text/html",
    "tags": []
   },
   "source": [
    "<pre style=\"font-size:13px;\">\n",
    "\n",
    "  Newsgroup: sci.med\n",
    "  From: kcarver@dante.nmsu.edu (Kenneth Carver)\n",
    "  Subject: Isolation amplifiers for EEG/ECG *cheap*\n",
    "\n",
    "\n",
    "  I have several isolation amplifier boards that are the ideal interface\n",
    "  for EEG and ECG.  Isolation is essential for safety when connecting\n",
    "  line-powered equipment to electrodes on the body.  These boards\n",
    "  incorporate the Burr-Brown 3656 isolation module that currently sells\n",
    "  for $133, plus other op amps to produce an overall voltage gain of\n",
    "  350-400.  They are like new and guaranteed good.  $20 postpaid,\n",
    "  schematic included.  Please email me for more data.\n",
    "\n",
    "  --Ken Carver\n",
    "  \n",
    "</pre>"
   ]
  },
  {
   "cell_type": "markdown",
   "id": "considered-nutrition",
   "metadata": {},
   "source": [
    "Create a pandas DataFrame in which every row corresponds to one post. The columns should list the name of the newsgroup, the post author, the post subject, and the body of the post. Here is a sample:"
   ]
  },
  {
   "cell_type": "code",
   "execution_count": 14,
   "id": "placed-contributor",
   "metadata": {
    "nbsphinx": "hidden"
   },
   "outputs": [],
   "source": [
    "#  \"nbsphinx\": \"hidden\"\n",
    "\n",
    "from zipfile import ZipFile, ZIP_DEFLATED\n",
    "import pandas as pd\n",
    "import io\n",
    "\n",
    "with ZipFile(\"newsgroups.csv.zip\", 'r') as zipped:\n",
    "    txt = zipped.read(\"newsgroups.csv\").decode(encoding='utf8', errors='ignore')\n",
    "    \n",
    "df = pd.read_csv(io.StringIO(txt))"
   ]
  },
  {
   "cell_type": "code",
   "execution_count": 15,
   "id": "first-saudi",
   "metadata": {},
   "outputs": [
    {
     "data": {
      "text/html": [
       "<div>\n",
       "<style scoped>\n",
       "    .dataframe tbody tr th:only-of-type {\n",
       "        vertical-align: middle;\n",
       "    }\n",
       "\n",
       "    .dataframe tbody tr th {\n",
       "        vertical-align: top;\n",
       "    }\n",
       "\n",
       "    .dataframe thead th {\n",
       "        text-align: right;\n",
       "    }\n",
       "</style>\n",
       "<table border=\"1\" class=\"dataframe\">\n",
       "  <thead>\n",
       "    <tr style=\"text-align: right;\">\n",
       "      <th></th>\n",
       "      <th>newsgroup</th>\n",
       "      <th>from</th>\n",
       "      <th>subject</th>\n",
       "      <th>body</th>\n",
       "    </tr>\n",
       "  </thead>\n",
       "  <tbody>\n",
       "    <tr>\n",
       "      <th>0</th>\n",
       "      <td>rec.autos</td>\n",
       "      <td>gwm@spl1.spl.loral.com (Gary W. Mahan)</td>\n",
       "      <td>Re: Are BMW's worth the price?</td>\n",
       "      <td>&gt;sure sounds like they got a ringer.  the 325i...</td>\n",
       "    </tr>\n",
       "    <tr>\n",
       "      <th>1</th>\n",
       "      <td>sci.med</td>\n",
       "      <td>davec@ecst.csuchico.edu (Dave Childs)</td>\n",
       "      <td>Dental Fillings question</td>\n",
       "      <td>I have been hearing bad thing about amalgam de...</td>\n",
       "    </tr>\n",
       "    <tr>\n",
       "      <th>2</th>\n",
       "      <td>alt.atheism</td>\n",
       "      <td>\"Robert Knowles\" &lt;p00261@psilink.com&gt;</td>\n",
       "      <td>Re: Islamic marriage?</td>\n",
       "      <td>&gt;DATE:   Tue, 6 Apr 1993 00:11:49 GMT\\n&gt;FROM: ...</td>\n",
       "    </tr>\n",
       "    <tr>\n",
       "      <th>3</th>\n",
       "      <td>rec.sport.baseball</td>\n",
       "      <td>sepinwal@mail.sas.upenn.edu (Alan Sepinwall)</td>\n",
       "      <td>Re: WFAN</td>\n",
       "      <td>In article &lt;1993Apr16.174843.28111@cabell.vcu....</td>\n",
       "    </tr>\n",
       "    <tr>\n",
       "      <th>4</th>\n",
       "      <td>talk.religion.misc</td>\n",
       "      <td>rwd4f@poe.acc.Virginia.EDU (Rob Dobson)</td>\n",
       "      <td>Re: A Message for you Mr. President: How do yo...</td>\n",
       "      <td>In article &lt;visser.735284180@convex.convex.com...</td>\n",
       "    </tr>\n",
       "  </tbody>\n",
       "</table>\n",
       "</div>"
      ],
      "text/plain": [
       "            newsgroup                                          from  \\\n",
       "0           rec.autos        gwm@spl1.spl.loral.com (Gary W. Mahan)   \n",
       "1             sci.med         davec@ecst.csuchico.edu (Dave Childs)   \n",
       "2         alt.atheism         \"Robert Knowles\" <p00261@psilink.com>   \n",
       "3  rec.sport.baseball  sepinwal@mail.sas.upenn.edu (Alan Sepinwall)   \n",
       "4  talk.religion.misc       rwd4f@poe.acc.Virginia.EDU (Rob Dobson)   \n",
       "\n",
       "                                             subject  \\\n",
       "0         Re: Are BMW's worth the price?               \n",
       "1                           Dental Fillings question   \n",
       "2                              Re: Islamic marriage?   \n",
       "3                                           Re: WFAN   \n",
       "4  Re: A Message for you Mr. President: How do yo...   \n",
       "\n",
       "                                                body  \n",
       "0  >sure sounds like they got a ringer.  the 325i...  \n",
       "1  I have been hearing bad thing about amalgam de...  \n",
       "2  >DATE:   Tue, 6 Apr 1993 00:11:49 GMT\\n>FROM: ...  \n",
       "3  In article <1993Apr16.174843.28111@cabell.vcu....  \n",
       "4  In article <visser.735284180@convex.convex.com...  "
      ]
     },
     "execution_count": 15,
     "metadata": {},
     "output_type": "execute_result"
    }
   ],
   "source": [
    "df.head(5)"
   ]
  },
  {
   "cell_type": "markdown",
   "id": "solved-spirituality",
   "metadata": {},
   "source": [
    "After creating the DataFrame, save it to a csv file. "
   ]
  },
  {
   "cell_type": "markdown",
   "id": "mounted-fusion",
   "metadata": {},
   "source": [
    "### Exercise 2.\n",
    "\n",
    "Complete regex exercises posted [here](http://play.inginf.units.it). You don't need to do them all. The first few are easier, then they get more tricky. "
   ]
  }
 ],
 "metadata": {
  "celltoolbar": "Raw Cell Format",
  "kernelspec": {
   "display_name": "Python 3 (ipykernel)",
   "language": "python",
   "name": "python3"
  },
  "language_info": {
   "codemirror_mode": {
    "name": "ipython",
    "version": 3
   },
   "file_extension": ".py",
   "mimetype": "text/x-python",
   "name": "python",
   "nbconvert_exporter": "python",
   "pygments_lexer": "ipython3",
   "version": "3.8.12"
  }
 },
 "nbformat": 4,
 "nbformat_minor": 5
}
