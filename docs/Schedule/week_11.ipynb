{
 "cells": [
  {
   "cell_type": "markdown",
   "id": "vocal-spouse",
   "metadata": {},
   "source": [
    "# Week 11 (4/12-4/18)"
   ]
  },
  {
   "cell_type": "markdown",
   "id": "sensitive-national",
   "metadata": {},
   "source": [
    "## Zoom recordings\n",
    "\n",
    "* [Tuesday](https://ub.hosted.panopto.com/Panopto/Pages/Viewer.aspx?id=9fd46d0b-aebd-41d9-b1ee-ad0901419561)\n",
    "* [Thursday](https://ub.hosted.panopto.com/Panopto/Pages/Viewer.aspx?id=86dd614b-7e4e-4554-9bb2-ad0b01423ff5)"
   ]
  },
  {
   "cell_type": "markdown",
   "id": "historical-island",
   "metadata": {},
   "source": [
    "## Notebook\n",
    "\n",
    "\n",
    "- [View online](../_static/weekly_notebooks/week_11_class.html)\n",
    "- Download the notebook file: [week_11_class.ipynb](../_static/weekly_notebooks/week_11_class.ipynb)."
   ]
  },
  {
   "cell_type": "markdown",
   "id": "normal-glossary",
   "metadata": {},
   "source": [
    "## KDE \n",
    "\n",
    "* Cross validation\n",
    "* KDE with multidimensional data\n",
    "\n",
    "\n",
    "## Processig text\n",
    "\n",
    "* String methods\n",
    "* Regular expressions"
   ]
  },
  {
   "cell_type": "markdown",
   "id": "sacred-trunk",
   "metadata": {},
   "source": [
    "## Project \n",
    "\n",
    "* [KDE and marathon results](../Projects/kde_marathon_results/kde_marathon_results.ipynb)"
   ]
  },
  {
   "cell_type": "markdown",
   "id": "ahead-presence",
   "metadata": {},
   "source": [
    "## Resources"
   ]
  },
  {
   "cell_type": "markdown",
   "id": "numeric-logic",
   "metadata": {},
   "source": [
    "### 1. Marathon data"
   ]
  },
  {
   "cell_type": "code",
   "execution_count": 4,
   "id": "romantic-cause",
   "metadata": {},
   "outputs": [],
   "source": [
    "import numpy as np\n",
    "import matplotlib.pyplot as plt\n",
    "import seaborn as sns\n",
    "import pandas as pd\n",
    "\n",
    "df = pd.read_csv(\"https://www.mth548.org/_static/kde_marathon_results/marathon_results.csv\")\n",
    "df[\"tot_minutes\"] = pd.to_timedelta(df[\"Finish\"]).dt.total_seconds()/60"
   ]
  },
  {
   "cell_type": "markdown",
   "id": "under-uniform",
   "metadata": {},
   "source": [
    "### 2. Function of 2 variables"
   ]
  },
  {
   "cell_type": "code",
   "execution_count": 2,
   "id": "dated-cosmetic",
   "metadata": {},
   "outputs": [],
   "source": [
    "def f(x, y):\n",
    "    return (x**2 + y - 11)**2 + (x + y**2 - 7)**2 - 150"
   ]
  },
  {
   "cell_type": "markdown",
   "id": "pending-wednesday",
   "metadata": {},
   "source": [
    "### 3. Text sample"
   ]
  },
  {
   "cell_type": "code",
   "execution_count": null,
   "id": "minute-weekly",
   "metadata": {},
   "outputs": [],
   "source": [
    "sample = \"\"\"I am writing in reference to the our conversation on Tuesday, March 2, 2021.\n",
    "Your order of 100,000 units of GC-1344 microcontrollers has been confirmed.\n",
    "You will be billed $19.50 per unit for the total of $1,950,000.00.\n",
    "The expected delivery date is Friday, April 30, 2021. In case of any further\n",
    "questions please contact our sales department by email support@simonis.biz,\n",
    "phone (294) 934-0923 or fax (294) 934-0202.\n",
    "\n",
    "Delfina Fischer\n",
    "Manager, Simonis LLC\n",
    "delfina.fisher@simonis.biz\n",
    "(294) 934 0937\n",
    "\"\"\""
   ]
  },
  {
   "cell_type": "markdown",
   "id": "minor-collins",
   "metadata": {},
   "source": [
    "### 4. re_show"
   ]
  },
  {
   "cell_type": "code",
   "execution_count": 10,
   "id": "handed-taste",
   "metadata": {},
   "outputs": [],
   "source": [
    "import html\n",
    "import re\n",
    "from IPython.core.display import display, HTML\n",
    "\n",
    "\n",
    "def re_show(regex, text=\"\", flags=0):\n",
    "    \"\"\"\n",
    "    Displays text with the regex match highlighted.\n",
    "    \"\"\"\n",
    "    text_css = '''\"border-style: none;\n",
    "                   border-width: 0px;\n",
    "                   padding: 0px;\n",
    "                   font-size: 14px;\n",
    "                   color: darkslategray;\n",
    "                   background-color: white;\n",
    "                   white-space: pre;\n",
    "                   line-height: 20px;\"\n",
    "                   '''\n",
    "    match_css = '''\"padding: 0px 1px 0px 1px;\n",
    "                    margin: 0px 0.5px 0px 0.5px;\n",
    "                    border-style: solid;\n",
    "                    border-width: 0.5px;\n",
    "                    border-color: darkred;\n",
    "                    background-color: cornsilk;\n",
    "                    color: red;\"\n",
    "                    '''\n",
    "\n",
    "    r = re.compile(f\"({regex})\", flags=flags)\n",
    "    t = r.sub(fr'###START###\\1###END###', text)\n",
    "    t = html.escape(t)\n",
    "    t = t.replace(\"###START###\", f\"<span style={match_css}>\")\n",
    "    t = t.replace(\"###END###\", f\"</span>\")\n",
    "    display(HTML(f'<code style={text_css}>{t}</code>'))"
   ]
  },
  {
   "cell_type": "markdown",
   "id": "egyptian-belize",
   "metadata": {},
   "source": [
    "## Exercises"
   ]
  },
  {
   "cell_type": "markdown",
   "id": "mounted-fusion",
   "metadata": {},
   "source": [
    "### Exercise 1.\n",
    "\n",
    "Complete regex exercises posted [here](http://play.inginf.units.it). You don't need to do them all. The first few are easier, then they get more tricky. "
   ]
  },
  {
   "cell_type": "markdown",
   "id": "married-maker",
   "metadata": {},
   "source": [
    "### Exercise 2.  "
   ]
  },
  {
   "cell_type": "raw",
   "id": "north-candidate",
   "metadata": {
    "raw_mimetype": "text/restructuredtext"
   },
   "source": [
    "The file :download:`newsgroups.zip <newsgroups.zip>`  is a zipped text file containing several thousand posts sent to various online newsgroups. Each post starts with three lines that  describe the name of the newsgroup to which the post was sent, the author of the post, and the subject. These lines are followed by the text of the post. For example:"
   ]
  },
  {
   "cell_type": "raw",
   "id": "initial-venture",
   "metadata": {
    "raw_mimetype": "text/html"
   },
   "source": [
    "<pre style=\"font-size:13px;\">\n",
    "\n",
    "  Newsgroup: sci.med\n",
    "  From: kcarver@dante.nmsu.edu (Kenneth Carver)\n",
    "  Subject: Isolation amplifiers for EEG/ECG *cheap*\n",
    "\n",
    "\n",
    "  I have several isolation amplifier boards that are the ideal interface\n",
    "  for EEG and ECG.  Isolation is essential for safety when connecting\n",
    "  line-powered equipment to electrodes on the body.  These boards\n",
    "  incorporate the Burr-Brown 3656 isolation module that currently sells\n",
    "  for $133, plus other op amps to produce an overall voltage gain of\n",
    "  350-400.  They are like new and guaranteed good.  $20 postpaid,\n",
    "  schematic included.  Please email me for more data.\n",
    "\n",
    "  --Ken Carver\n",
    "  \n",
    "</pre>"
   ]
  },
  {
   "cell_type": "markdown",
   "id": "considered-nutrition",
   "metadata": {},
   "source": [
    "Create a pandas DataFrame in which every row corresponds to one post. The columns should list the name of the newsgroup, the post author, the post subject, and the body of the post. Here is a sample:"
   ]
  },
  {
   "cell_type": "code",
   "execution_count": 14,
   "id": "placed-contributor",
   "metadata": {
    "nbsphinx": "hidden"
   },
   "outputs": [],
   "source": [
    "#  \"nbsphinx\": \"hidden\"\n",
    "\n",
    "from zipfile import ZipFile, ZIP_DEFLATED\n",
    "import pandas as pd\n",
    "import io\n",
    "\n",
    "with ZipFile(\"newsgroups.csv.zip\", 'r') as zipped:\n",
    "    txt = zipped.read(\"newsgroups.csv\").decode(encoding='utf8', errors='ignore')\n",
    "    \n",
    "df = pd.read_csv(io.StringIO(txt))"
   ]
  },
  {
   "cell_type": "code",
   "execution_count": 15,
   "id": "first-saudi",
   "metadata": {},
   "outputs": [
    {
     "data": {
      "text/html": [
       "<div>\n",
       "<style scoped>\n",
       "    .dataframe tbody tr th:only-of-type {\n",
       "        vertical-align: middle;\n",
       "    }\n",
       "\n",
       "    .dataframe tbody tr th {\n",
       "        vertical-align: top;\n",
       "    }\n",
       "\n",
       "    .dataframe thead th {\n",
       "        text-align: right;\n",
       "    }\n",
       "</style>\n",
       "<table border=\"1\" class=\"dataframe\">\n",
       "  <thead>\n",
       "    <tr style=\"text-align: right;\">\n",
       "      <th></th>\n",
       "      <th>newsgroup</th>\n",
       "      <th>from</th>\n",
       "      <th>subject</th>\n",
       "      <th>body</th>\n",
       "    </tr>\n",
       "  </thead>\n",
       "  <tbody>\n",
       "    <tr>\n",
       "      <th>0</th>\n",
       "      <td>rec.autos</td>\n",
       "      <td>gwm@spl1.spl.loral.com (Gary W. Mahan)</td>\n",
       "      <td>Re: Are BMW's worth the price?</td>\n",
       "      <td>&gt;sure sounds like they got a ringer.  the 325i...</td>\n",
       "    </tr>\n",
       "    <tr>\n",
       "      <th>1</th>\n",
       "      <td>sci.med</td>\n",
       "      <td>davec@ecst.csuchico.edu (Dave Childs)</td>\n",
       "      <td>Dental Fillings question</td>\n",
       "      <td>I have been hearing bad thing about amalgam de...</td>\n",
       "    </tr>\n",
       "    <tr>\n",
       "      <th>2</th>\n",
       "      <td>alt.atheism</td>\n",
       "      <td>\"Robert Knowles\" &lt;p00261@psilink.com&gt;</td>\n",
       "      <td>Re: Islamic marriage?</td>\n",
       "      <td>&gt;DATE:   Tue, 6 Apr 1993 00:11:49 GMT\\n&gt;FROM: ...</td>\n",
       "    </tr>\n",
       "    <tr>\n",
       "      <th>3</th>\n",
       "      <td>rec.sport.baseball</td>\n",
       "      <td>sepinwal@mail.sas.upenn.edu (Alan Sepinwall)</td>\n",
       "      <td>Re: WFAN</td>\n",
       "      <td>In article &lt;1993Apr16.174843.28111@cabell.vcu....</td>\n",
       "    </tr>\n",
       "    <tr>\n",
       "      <th>4</th>\n",
       "      <td>talk.religion.misc</td>\n",
       "      <td>rwd4f@poe.acc.Virginia.EDU (Rob Dobson)</td>\n",
       "      <td>Re: A Message for you Mr. President: How do yo...</td>\n",
       "      <td>In article &lt;visser.735284180@convex.convex.com...</td>\n",
       "    </tr>\n",
       "  </tbody>\n",
       "</table>\n",
       "</div>"
      ],
      "text/plain": [
       "            newsgroup                                          from  \\\n",
       "0           rec.autos        gwm@spl1.spl.loral.com (Gary W. Mahan)   \n",
       "1             sci.med         davec@ecst.csuchico.edu (Dave Childs)   \n",
       "2         alt.atheism         \"Robert Knowles\" <p00261@psilink.com>   \n",
       "3  rec.sport.baseball  sepinwal@mail.sas.upenn.edu (Alan Sepinwall)   \n",
       "4  talk.religion.misc       rwd4f@poe.acc.Virginia.EDU (Rob Dobson)   \n",
       "\n",
       "                                             subject  \\\n",
       "0         Re: Are BMW's worth the price?               \n",
       "1                           Dental Fillings question   \n",
       "2                              Re: Islamic marriage?   \n",
       "3                                           Re: WFAN   \n",
       "4  Re: A Message for you Mr. President: How do yo...   \n",
       "\n",
       "                                                body  \n",
       "0  >sure sounds like they got a ringer.  the 325i...  \n",
       "1  I have been hearing bad thing about amalgam de...  \n",
       "2  >DATE:   Tue, 6 Apr 1993 00:11:49 GMT\\n>FROM: ...  \n",
       "3  In article <1993Apr16.174843.28111@cabell.vcu....  \n",
       "4  In article <visser.735284180@convex.convex.com...  "
      ]
     },
     "execution_count": 15,
     "metadata": {},
     "output_type": "execute_result"
    }
   ],
   "source": [
    "df.head(5)"
   ]
  },
  {
   "cell_type": "markdown",
   "id": "solved-spirituality",
   "metadata": {},
   "source": [
    "After creating the DataFrame, save it to a csv file. "
   ]
  }
 ],
 "metadata": {
  "celltoolbar": "Raw Cell Format",
  "kernelspec": {
   "display_name": "Python 3",
   "language": "python",
   "name": "python3"
  },
  "language_info": {
   "codemirror_mode": {
    "name": "ipython",
    "version": 3
   },
   "file_extension": ".py",
   "mimetype": "text/x-python",
   "name": "python",
   "nbconvert_exporter": "python",
   "pygments_lexer": "ipython3",
   "version": "3.8.5"
  }
 },
 "nbformat": 4,
 "nbformat_minor": 5
}
