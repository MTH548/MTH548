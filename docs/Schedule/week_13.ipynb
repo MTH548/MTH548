{
 "cells": [
  {
   "cell_type": "markdown",
   "id": "vocal-spouse",
   "metadata": {},
   "source": [
    "# Week 13 (4/26-5/2)"
   ]
  },
  {
   "cell_type": "markdown",
   "id": "prescription-highlight",
   "metadata": {},
   "source": [
    "## Zoom recordings\n",
    "\n",
    "* [Tuesday](https://ub.hosted.panopto.com/Panopto/Pages/Viewer.aspx?id=77eaaca4-7f5b-42ea-979b-ad17015de570)\n",
    "* [Thursday](https://ub.hosted.panopto.com/Panopto/Pages/Viewer.aspx?id=4292b190-ec2b-482a-9ae8-ad1901400add)"
   ]
  },
  {
   "cell_type": "markdown",
   "id": "occupied-heavy",
   "metadata": {},
   "source": [
    "## Notebook\n",
    "\n",
    "- [View online](../_static/weekly_notebooks/week_13_class.html)\n",
    "- Download the notebook file: [week_13_class.ipynb](../_static/weekly_notebooks/week_13_class.ipynb)."
   ]
  },
  {
   "cell_type": "markdown",
   "id": "favorite-indianapolis",
   "metadata": {},
   "source": [
    "## Weekly digests"
   ]
  },
  {
   "cell_type": "raw",
   "id": "offensive-syracuse",
   "metadata": {
    "raw_mimetype": "text/restructuredtext"
   },
   "source": [
    ".. toctree::\n",
    "   :maxdepth: 1\n",
    "\n",
    "   ../Digests/digest_13"
   ]
  },
  {
   "cell_type": "markdown",
   "id": "normal-glossary",
   "metadata": {},
   "source": [
    "## SQL\n",
    "\n",
    "* [SQL basics](../Tools/SQL/sql_basics.ipynb)\n",
    "* [SQL queries](../Tools/SQL/sql_queries.ipynb)\n",
    "* [Joins, union, intersection](../Tools/SQL/sql_joins.ipynb)\n",
    "* [SQL with Python](../Tools/SQL/sql_joins.ipynb)"
   ]
  },
  {
   "cell_type": "markdown",
   "id": "fundamental-desire",
   "metadata": {},
   "source": [
    "### Online SQL interface examples\n",
    "\n",
    "* [Google BigQuery](https://cloud.google.com/bigquery/docs/reference/standard-sql/query-syntax)\n",
    "* [StackExchange Data Explorer](https://data.stackexchange.com/tutorial/intro-to-queries)"
   ]
  },
  {
   "cell_type": "markdown",
   "id": "incorrect-entry",
   "metadata": {},
   "source": [
    "## Resources"
   ]
  },
  {
   "cell_type": "markdown",
   "id": "played-forest",
   "metadata": {},
   "source": [
    "### 1. ipython-sql installation"
   ]
  },
  {
   "cell_type": "code",
   "execution_count": null,
   "id": "elder-engagement",
   "metadata": {},
   "outputs": [],
   "source": [
    "%pip install ipython-sql"
   ]
  },
  {
   "cell_type": "markdown",
   "id": "bulgarian-nebraska",
   "metadata": {},
   "source": [
    "### 2. Gradebook SQLite database"
   ]
  },
  {
   "cell_type": "raw",
   "id": "engaged-sweden",
   "metadata": {
    "raw_mimetype": "text/restructuredtext"
   },
   "source": [
    "| :download:`gradebook_data.sqlite <../Tools/SQL/gradebook_data.sqlite>`"
   ]
  },
  {
   "cell_type": "markdown",
   "id": "immune-luxury",
   "metadata": {},
   "source": [
    "### 3. Word cloud sample"
   ]
  },
  {
   "cell_type": "code",
   "execution_count": 10,
   "id": "protected-junction",
   "metadata": {},
   "outputs": [],
   "source": [
    "review = \"\"\"\n",
    "This film is absolutely awful, but nevertheless, it can be hilarious at times,\n",
    "although this humor is entirely unintentional.The plot was beyond ridiculous. \n",
    "I don't even think a 2 year-old would be convinced by the ludicrous idiocy that\n",
    "the film-makers tried to slap together into a story. However, on the positive\n",
    "side, some of the horrifically inane plot twists provide a great deal of humor.\n",
    "For example, \"Wow, Lady Hogbottom has a giant missile hidden in her back yard!\"\n",
    "It gets worse (and even funnier), but I'll spare you.The acting is generally\n",
    "laughable. Most of the kids' roles are sort of cute, but not very believable.\n",
    "On the other hand, Annie is pretty awful all-around. The adults don't take their\n",
    "roles seriously at all, but this is largely a good thing. If they'd tried to be\n",
    "believable, the film would've been even worse. Which is difficult to imagine.\n",
    "Once you get past the overall crappiness of the movie, there are actually a few \n",
    "standout moments of almost-not-crappiness. The scene where Lady Hogbottom's son \n",
    "runs away with the maid is surprisingly hilarious, though it's an annoying letdown \n",
    "when they get caught by the police. The butler character, while very minor, is a ray \n",
    "of sunlight that almost, but never quite pierces through the gloom.Watching this \n",
    "movie actually caused me physical pain. Nevertheless, there were a few redeeming \n",
    "parts that made it almost watchable without beginning to hemorrhage internally. \n",
    "Judged on its good parts alone, the movie would be about a 5; unfortunately, \n",
    "the rest of the movie hardly deserves a 1. Thus, I give it a 3. That's being pretty \n",
    "generous, I'd say.\n",
    "\"\"\""
   ]
  },
  {
   "cell_type": "markdown",
   "id": "downtown-vegetable",
   "metadata": {},
   "source": [
    "### 4. Courses SQLite database"
   ]
  },
  {
   "cell_type": "raw",
   "id": "developed-jewelry",
   "metadata": {
    "raw_mimetype": "text/restructuredtext"
   },
   "source": [
    "| :download:`courses_data.sqlite <../Tools/SQL/courses_data.sqlite>`"
   ]
  }
 ],
 "metadata": {
  "celltoolbar": "Raw Cell Format",
  "kernelspec": {
   "display_name": "Python 3",
   "language": "python",
   "name": "python3"
  },
  "language_info": {
   "codemirror_mode": {
    "name": "ipython",
    "version": 3
   },
   "file_extension": ".py",
   "mimetype": "text/x-python",
   "name": "python",
   "nbconvert_exporter": "python",
   "pygments_lexer": "ipython3",
   "version": "3.8.5"
  }
 },
 "nbformat": 4,
 "nbformat_minor": 5
}
