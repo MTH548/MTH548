{
 "cells": [
  {
   "cell_type": "markdown",
   "id": "controversial-citizenship",
   "metadata": {},
   "source": [
    "# Week 9 (4/4-4/10)"
   ]
  },
  {
   "cell_type": "markdown",
   "id": "5a1457c6",
   "metadata": {},
   "source": [
    "## Notebook\n",
    "\n",
    "- [View online](../_static/weekly_notebooks/week_9_class.html)\n",
    "- Download the notebook file: [week_9_class.ipynb](../_static/weekly_notebooks/week_9_class.ipynb)"
   ]
  },
  {
   "cell_type": "markdown",
   "id": "5a504115",
   "metadata": {},
   "source": [
    "## Weekly digest"
   ]
  },
  {
   "cell_type": "raw",
   "id": "ab565556",
   "metadata": {
    "raw_mimetype": "text/restructuredtext"
   },
   "source": [
    ".. toctree::\n",
    "   :maxdepth: 1\n",
    "\n",
    "   ../Digests/digest_9"
   ]
  },
  {
   "cell_type": "markdown",
   "id": "outside-emperor",
   "metadata": {},
   "source": [
    "## Data formats\n",
    "\n",
    "* [JSON](../Tools/json/json.ipynb)\n",
    "* Dates and times"
   ]
  },
  {
   "cell_type": "markdown",
   "id": "liquid-stylus",
   "metadata": {},
   "source": [
    "## Project\n",
    "\n",
    "* [Discord logs](../Projects/discord_logs/discord_logs.ipynb)"
   ]
  },
  {
   "cell_type": "markdown",
   "id": "basic-denver",
   "metadata": {},
   "source": [
    "## Resources"
   ]
  },
  {
   "cell_type": "markdown",
   "id": "retained-plain",
   "metadata": {},
   "source": [
    "### 1. OpenCage Geocoding API\n",
    "\n",
    "[Documentation](https://opencagedata.com/)"
   ]
  },
  {
   "cell_type": "code",
   "execution_count": 1,
   "id": "chronic-yellow",
   "metadata": {},
   "outputs": [],
   "source": [
    "oc_url =  \"https://api.opencagedata.com/geocode/v1/json\"\n",
    "key = \"65b1171691324bb68feac286a27\""
   ]
  },
  {
   "cell_type": "markdown",
   "id": "prostate-impact",
   "metadata": {},
   "source": [
    "### 2. DataFrame with times"
   ]
  },
  {
   "cell_type": "code",
   "execution_count": 2,
   "id": "official-competition",
   "metadata": {},
   "outputs": [],
   "source": [
    "import pandas as pd\n",
    "\n",
    "df = pd.DataFrame([\n",
    "    {\n",
    "        \"event\": \"event_1\",\n",
    "        \"start\": '2021-03-04T23:03:12.351+00:00',\n",
    "        \"end\": '2021-03-04T23:04:08.669+00:00'\n",
    "    },\n",
    "    {\n",
    "        \"event\": \"event_2\",\n",
    "        \"start\": '2021-03-05T12:12:12.010+00:00',\n",
    "        \"end\": '2021-03-05T17:56:17.123+00:00'\n",
    "    },\n",
    "    {\n",
    "        \"event\": \"event_3\",\n",
    "        \"start\": '2021-03-04T13:29:45.594+00:00',\n",
    "        \"end\": '2021-03-06T00:04:46.032+00:00'\n",
    "    },\n",
    "])"
   ]
  },
  {
   "cell_type": "markdown",
   "id": "263d7c0a-9369-4bc9-8dbe-8af02cd85be1",
   "metadata": {},
   "source": [
    "### 3. Marathon results"
   ]
  },
  {
   "cell_type": "raw",
   "id": "2456c2ac",
   "metadata": {
    "raw_mimetype": "text/restructuredtext"
   },
   "source": [
    "| :download:`marathon_results.csv <../_static/kde_marathon_results/marathon_results.csv>`"
   ]
  },
  {
   "cell_type": "markdown",
   "id": "c0196370-7d59-4c67-a379-17a65e0e5d58",
   "metadata": {},
   "source": [
    "### 4. Histogram demo"
   ]
  },
  {
   "cell_type": "code",
   "execution_count": null,
   "id": "handed-taste",
   "metadata": {},
   "outputs": [],
   "source": [
    "import numpy as np\n",
    "import seaborn as sns\n",
    "import matplotlib.pyplot as plt\n",
    "from ipywidgets import interact, fixed\n",
    "\n",
    "%config InlineBackend.figure_format = 'retina'\n",
    "sns.set_theme(style=\"darkgrid\", palette=\"bright\")\n",
    "\n",
    "def hist(data, bins=10, shift=0):\n",
    "    '''\n",
    "    Plots a histogram of data. \n",
    "    \n",
    "    bins:\n",
    "        number of bins\n",
    "    shift: \n",
    "        shift of bin boundaries. \n",
    "    '''\n",
    "    \n",
    "    plt.figure(figsize=(12,4))\n",
    "    max_shift = 5\n",
    "    data = np.array(data)\n",
    "    plt.xlim(data.min() - max_shift, data.max() + max_shift)\n",
    "    sns.histplot(data,\n",
    "                 stat=\"density\",\n",
    "                 bins=bins,\n",
    "                 binrange =  (data.min() - max_shift + shift,\n",
    "                               data.max() + max_shift + shift)\n",
    "                )\n",
    "    sns.rugplot(data, height=0.05, color='w')\n",
    "    plt.show()\n",
    "\n",
    "\n",
    "N = 50\n",
    "rng = np.random.default_rng(10)\n",
    "data = rng.normal(loc=10, scale=5, size=N)\n",
    "interact(hist, shift=(0, 5, 0.25), bins=(1, 30, 1), data=fixed(data));"
   ]
  },
  {
   "cell_type": "markdown",
   "id": "8015c34c-035b-4a17-bb2a-d4eca15a8180",
   "metadata": {},
   "source": [
    "### 5. KDE plot"
   ]
  },
  {
   "cell_type": "code",
   "execution_count": null,
   "id": "enclosed-spoke",
   "metadata": {},
   "outputs": [],
   "source": [
    "from scipy.stats import norm\n",
    "\n",
    "def kde(data, h, x):\n",
    "    \"\"\"\n",
    "    Compute KDE of data with  Gaussian kernels\n",
    "    \n",
    "    x:\n",
    "       KDE value will be computed for each value \n",
    "       of this array. \n",
    "    h: \n",
    "       Kernel bandwidth\n",
    "    \"\"\"\n",
    "    \n",
    "    y = np.zeros_like(x)\n",
    "    for X in data:\n",
    "        y += norm.pdf(x, loc=X, scale=h)\n",
    "    return y/len(data)\n",
    "\n",
    "\n",
    "def plot_kde(data, h=0.1, show_kernels=False):\n",
    "    \"\"\"\n",
    "    Plot KDE\n",
    "    \n",
    "    data:\n",
    "        An array with data defining KDE. \n",
    "    h:\n",
    "        Kernel bandwidth. \n",
    "    show_kernels:\n",
    "        Boolean. If true, individual kernels are \n",
    "        plotted too. \n",
    "    \"\"\"\n",
    "    \n",
    "    x = np.linspace(data.min() - 3, data.max() + 3, 400)\n",
    "    plt.figure(figsize=(14,4))\n",
    "    plt.plot(x, kde(data, h, x), lw=7, c='steelblue', alpha=0.4)\n",
    "    plt.plot(data, [0]*len(data), 'r|', ms=15, mew=2)\n",
    "    if show_kernels:\n",
    "        for X in data:\n",
    "            plt.plot(x, 1/len(data)*norm.pdf(x, loc=X, scale=h), 'r--', lw=0.7)"
   ]
  },
  {
   "cell_type": "markdown",
   "id": "ff2b63f0-1a69-4c25-b292-aa43b26e32c2",
   "metadata": {},
   "source": [
    "### 6. KDE integral widget"
   ]
  },
  {
   "cell_type": "code",
   "execution_count": null,
   "id": "worldwide-gothic",
   "metadata": {},
   "outputs": [],
   "source": [
    "from ipywidgets import interact, fixed, FloatSlider\n",
    "from  scipy.stats import gaussian_kde\n",
    "\n",
    "def integrate(data, lower=7, upper=12):\n",
    "    \"\"\"\n",
    "    Plot integral of KDE\n",
    "\n",
    "    data:\n",
    "        An array with data defining KDE\n",
    "    lower, upper:\n",
    "        Limits of integration.\n",
    "    \"\"\"\n",
    "\n",
    "    kde_data = gaussian_kde(data)\n",
    "    integral = kde_data.integrate_box(lower, upper)\n",
    "    xfill = np.linspace(lower, upper, 100)\n",
    "\n",
    "    x_min = data.min() - 1\n",
    "    x_max = data.max() + 1\n",
    "    x = np.linspace(x_min, x_max, 400)\n",
    "\n",
    "    plt.figure(figsize=(10, 5))\n",
    "    plt.xlim(x_min - 1, x_max + 1)\n",
    "    plt.title(f\"$\\int^{{{upper:.2f}}}_{{{lower:.2f}}}\\ f(t)dt = {integral:.3f}$\",\n",
    "              fontsize=20,\n",
    "              y=1.1)\n",
    "    plt.plot(x, kde_data(x))\n",
    "    if lower <= upper:\n",
    "        plt.fill_between(xfill,\n",
    "                         kde_data(xfill),\n",
    "                         0,\n",
    "                         color='steelblue',\n",
    "                         alpha=0.3)\n",
    "    plt.plot(data, [0] * len(data), 'r|', ms=15)\n",
    "\n",
    "\n",
    "N = 50\n",
    "rng = np.random.default_rng(10)\n",
    "data = rng.normal(loc=10, scale=5, size=N)\n",
    "interact(integrate,\n",
    "         data=fixed(data),\n",
    "         lower=FloatSlider(min=data.min() - 1, \n",
    "                           max=data.max() + 1, \n",
    "                           step=0.2, \n",
    "                           continuous_update=False),\n",
    "         upper=FloatSlider(min=data.min() - 1, \n",
    "                           max=data.max() + 1, \n",
    "                           step=0.2, \n",
    "                           continuous_update=False));"
   ]
  }
 ],
 "metadata": {
  "celltoolbar": "Raw Cell Format",
  "kernelspec": {
   "display_name": "Python 3 (ipykernel)",
   "language": "python",
   "name": "python3"
  },
  "language_info": {
   "codemirror_mode": {
    "name": "ipython",
    "version": 3
   },
   "file_extension": ".py",
   "mimetype": "text/x-python",
   "name": "python",
   "nbconvert_exporter": "python",
   "pygments_lexer": "ipython3",
   "version": "3.8.12"
  }
 },
 "nbformat": 4,
 "nbformat_minor": 5
}
