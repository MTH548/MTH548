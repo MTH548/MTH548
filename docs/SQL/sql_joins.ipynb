{
 "cells": [
  {
   "cell_type": "markdown",
   "metadata": {},
   "source": [
    "# SQL joins, union, intersection"
   ]
  },
  {
   "cell_type": "code",
   "execution_count": 9,
   "metadata": {
    "nbsphinx": "hidden"
   },
   "outputs": [
    {
     "data": {
      "text/html": [
       "<div>\n",
       "<style scoped>\n",
       "    .dataframe tbody tr th:only-of-type {\n",
       "        vertical-align: middle;\n",
       "    }\n",
       "\n",
       "    .dataframe tbody tr th {\n",
       "        vertical-align: top;\n",
       "    }\n",
       "\n",
       "    .dataframe thead th {\n",
       "        text-align: right;\n",
       "    }\n",
       "</style>\n",
       "<table border=\"1\" class=\"dataframe\">\n",
       "  <thead>\n",
       "    <tr style=\"text-align: right;\">\n",
       "      <th></th>\n",
       "      <th>student_id</th>\n",
       "      <th>grade</th>\n",
       "    </tr>\n",
       "  </thead>\n",
       "  <tbody>\n",
       "    <tr>\n",
       "      <th>4</th>\n",
       "      <td>122</td>\n",
       "      <td>A</td>\n",
       "    </tr>\n",
       "    <tr>\n",
       "      <th>6</th>\n",
       "      <td>109</td>\n",
       "      <td>C</td>\n",
       "    </tr>\n",
       "    <tr>\n",
       "      <th>10</th>\n",
       "      <td>127</td>\n",
       "      <td>A</td>\n",
       "    </tr>\n",
       "    <tr>\n",
       "      <th>12</th>\n",
       "      <td>140</td>\n",
       "      <td>F</td>\n",
       "    </tr>\n",
       "    <tr>\n",
       "      <th>13</th>\n",
       "      <td>145</td>\n",
       "      <td>C</td>\n",
       "    </tr>\n",
       "    <tr>\n",
       "      <th>17</th>\n",
       "      <td>157</td>\n",
       "      <td>F</td>\n",
       "    </tr>\n",
       "    <tr>\n",
       "      <th>18</th>\n",
       "      <td>188</td>\n",
       "      <td>C</td>\n",
       "    </tr>\n",
       "  </tbody>\n",
       "</table>\n",
       "</div>"
      ],
      "text/plain": [
       "    student_id grade\n",
       "4          122     A\n",
       "6          109     C\n",
       "10         127     A\n",
       "12         140     F\n",
       "13         145     C\n",
       "17         157     F\n",
       "18         188     C"
      ]
     },
     "metadata": {},
     "output_type": "display_data"
    },
    {
     "data": {
      "text/html": [
       "<div>\n",
       "<style scoped>\n",
       "    .dataframe tbody tr th:only-of-type {\n",
       "        vertical-align: middle;\n",
       "    }\n",
       "\n",
       "    .dataframe tbody tr th {\n",
       "        vertical-align: top;\n",
       "    }\n",
       "\n",
       "    .dataframe thead th {\n",
       "        text-align: right;\n",
       "    }\n",
       "</style>\n",
       "<table border=\"1\" class=\"dataframe\">\n",
       "  <thead>\n",
       "    <tr style=\"text-align: right;\">\n",
       "      <th></th>\n",
       "      <th>student_id</th>\n",
       "      <th>grade</th>\n",
       "    </tr>\n",
       "  </thead>\n",
       "  <tbody>\n",
       "    <tr>\n",
       "      <th>1</th>\n",
       "      <td>165</td>\n",
       "      <td>F</td>\n",
       "    </tr>\n",
       "    <tr>\n",
       "      <th>2</th>\n",
       "      <td>123</td>\n",
       "      <td>C</td>\n",
       "    </tr>\n",
       "    <tr>\n",
       "      <th>4</th>\n",
       "      <td>122</td>\n",
       "      <td>A</td>\n",
       "    </tr>\n",
       "    <tr>\n",
       "      <th>7</th>\n",
       "      <td>189</td>\n",
       "      <td>A</td>\n",
       "    </tr>\n",
       "    <tr>\n",
       "      <th>12</th>\n",
       "      <td>140</td>\n",
       "      <td>D</td>\n",
       "    </tr>\n",
       "    <tr>\n",
       "      <th>18</th>\n",
       "      <td>188</td>\n",
       "      <td>A</td>\n",
       "    </tr>\n",
       "  </tbody>\n",
       "</table>\n",
       "</div>"
      ],
      "text/plain": [
       "    student_id grade\n",
       "1          165     F\n",
       "2          123     C\n",
       "4          122     A\n",
       "7          189     A\n",
       "12         140     D\n",
       "18         188     A"
      ]
     },
     "metadata": {},
     "output_type": "display_data"
    }
   ],
   "source": [
    "# \"nbsphinx\": \"hidden\"\n",
    "\n",
    "# create the courses_data.sqlite database\n",
    "\n",
    "import os\n",
    "import re\n",
    "import pandas as pd\n",
    "import random\n",
    "import numpy as np\n",
    "from sqlalchemy import create_engine, types\n",
    "from bisect import bisect_left\n",
    "\n",
    "\n",
    "fname = \"courses_data.sqlite\"\n",
    "\n",
    "names = \"\"\"\n",
    "Rosina Hovey  \n",
    "Stanton Mcgaugh  \n",
    "Jonnie Hillock  \n",
    "Chu Flax  \n",
    "Rosalinda Trippe  \n",
    "Fran Mount  \n",
    "Shawnna Coate  \n",
    "Marcia Hinkel  \n",
    "Starr Bachand  \n",
    "Lottie Champine  \n",
    "Adelina Brummitt  \n",
    "Tenisha Rippel  \n",
    "Ludivina Hoskin  \n",
    "Ilona Rabe  \n",
    "Nilsa Mccallon  \n",
    "Miquel Follansbee  \n",
    "Elyse Boucher  \n",
    "Wilbert Haskell  \n",
    "Randall Lindbloom  \n",
    "Irmgard Gibney  \n",
    "Leticia Mendivil  \n",
    "Lucas Netherland  \n",
    "Floretta Brubaker  \n",
    "Chanell Prada  \n",
    "Rachell Emrick  \n",
    "Isobel Sollers  \n",
    "Lucila Dorais  \n",
    "Bonnie Gabriel  \n",
    "Lasandra Hendricks  \n",
    "Evelia Pastore  \n",
    "\"\"\"\n",
    "names = re.findall(r\"\\w+ \\w+\", names)[:20]\n",
    "first_names = [n.split()[0] for n in names]\n",
    "last_names = [n.split()[1] for n in names]\n",
    "\n",
    "df_students = pd.DataFrame()\n",
    "\n",
    "df_students['student_id'] = np.random.permutation(range(100,200))[:len(names)]\n",
    "df_students['first_name'] = first_names\n",
    "df_students['last_name'] = last_names\n",
    "\n",
    "\n",
    "def choose_major(x):\n",
    "    major = ['mathematics', 'computer science', 'biology']\n",
    "    return major[bisect_left([0.4, 0.8], random.random())]\n",
    "\n",
    "df_students['major'] = df_students['student_id'].map(choose_major)   \n",
    "    \n",
    "\n",
    "df_mth141 = pd.DataFrame()  \n",
    "df_eng101 = pd.DataFrame()  \n",
    "df_mth141['student_id'] = df_students[(df_students['student_id'] % 6).isin([1, 2])]['student_id']\n",
    "df_eng101['student_id'] = df_students[(df_students['student_id'] % 6).isin([2, 3])]['student_id']   \n",
    "\n",
    "letters = [\"A\", \"A\", \"B\", \"B\", \"C\", \"D\", \"F\"]\n",
    "df_mth141['grade'] = np.random.choice(letters, len(df_mth141))\n",
    "df_eng101['grade'] = np.random.choice(letters, len(df_eng101))\n",
    "\n",
    "if os.path.exists(fname):\n",
    "    os.remove(fname)\n",
    "engine = create_engine(f'sqlite:///{fname}')\n",
    "\n",
    "df_students.to_sql('students', \n",
    "                   con=engine, \n",
    "                   index=False, \n",
    "                   dtype={'student_id': types.INT,\n",
    "                          'first_name': types.TEXT, \n",
    "                          'last_name': types.TEXT,\n",
    "                           'major': types.TEXT})\n",
    "                   \n",
    "df_mth141.to_sql('mth141', \n",
    "                   con=engine, \n",
    "                   index=False, \n",
    "                   dtype={'student_id': types.INT,\n",
    "                          'grade': types.TEXT})  \n",
    "                   \n",
    "df_eng101.to_sql('eng101', \n",
    "                   con=engine, \n",
    "                   index=False, \n",
    "                   dtype={'student_id': types.INT,\n",
    "                          'grade': types.TEXT}) \n",
    "\n",
    "display(df_mth141)\n",
    "display(df_eng101)"
   ]
  },
  {
   "cell_type": "markdown",
   "metadata": {},
   "source": [
    "We frequently need to combine data from several database tables and queries to extract information we want. The operators `UNION`, `INTERSECT`,  `EXCEPT` and various types of joins are tools that help us accomplish such tasks. \n",
    "\n",
    "In the examples below we will be using the SQLite database `courses_data.sqlite`. It can be downloaded here:"
   ]
  },
  {
   "cell_type": "raw",
   "metadata": {
    "raw_mimetype": "text/restructuredtext"
   },
   "source": [
    "| :download:`courses_data.sqlite <./courses_data.sqlite>`"
   ]
  },
  {
   "cell_type": "markdown",
   "metadata": {},
   "source": [
    "To execute SQL code in Jupyter Notebook we will use the `ipython-sql` notebook extension. Assuming that this extension is already installed (see [SQL Basics](sql_basics.ipynb) for installation instructions), the code below will load it:"
   ]
  },
  {
   "cell_type": "code",
   "execution_count": 1,
   "metadata": {},
   "outputs": [],
   "source": [
    "%load_ext sql"
   ]
  },
  {
   "cell_type": "markdown",
   "metadata": {},
   "source": [
    "Next, we connect to the `courses_data.sqlite` database:"
   ]
  },
  {
   "cell_type": "code",
   "execution_count": 2,
   "metadata": {},
   "outputs": [
    {
     "data": {
      "text/plain": [
       "'Connected: @courses_data.sqlite'"
      ]
     },
     "execution_count": 2,
     "metadata": {},
     "output_type": "execute_result"
    }
   ],
   "source": [
    "%%sql \n",
    "sqlite:///courses_data.sqlite"
   ]
  },
  {
   "cell_type": "markdown",
   "metadata": {},
   "source": [
    "This database consists of a three tables: `students`, `mth141`, and `eng101`. The `students` table contains information \n",
    "(names, id numbers, majors) of some college students:"
   ]
  },
  {
   "cell_type": "code",
   "execution_count": 3,
   "metadata": {},
   "outputs": [
    {
     "name": "stdout",
     "output_type": "stream",
     "text": [
      " * sqlite:///courses_data.sqlite\n",
      "Done.\n"
     ]
    },
    {
     "data": {
      "text/html": [
       "<table>\n",
       "    <tr>\n",
       "        <th>student_id</th>\n",
       "        <th>first_name</th>\n",
       "        <th>last_name</th>\n",
       "        <th>major</th>\n",
       "    </tr>\n",
       "    <tr>\n",
       "        <td>196</td>\n",
       "        <td>Rosina</td>\n",
       "        <td>Hovey</td>\n",
       "        <td>biology</td>\n",
       "    </tr>\n",
       "    <tr>\n",
       "        <td>165</td>\n",
       "        <td>Stanton</td>\n",
       "        <td>Mcgaugh</td>\n",
       "        <td>biology</td>\n",
       "    </tr>\n",
       "    <tr>\n",
       "        <td>123</td>\n",
       "        <td>Jonnie</td>\n",
       "        <td>Hillock</td>\n",
       "        <td>mathematics</td>\n",
       "    </tr>\n",
       "    <tr>\n",
       "        <td>136</td>\n",
       "        <td>Chu</td>\n",
       "        <td>Flax</td>\n",
       "        <td>mathematics</td>\n",
       "    </tr>\n",
       "    <tr>\n",
       "        <td>122</td>\n",
       "        <td>Rosalinda</td>\n",
       "        <td>Trippe</td>\n",
       "        <td>biology</td>\n",
       "    </tr>\n",
       "</table>"
      ],
      "text/plain": [
       "[(196, 'Rosina', 'Hovey', 'biology'),\n",
       " (165, 'Stanton', 'Mcgaugh', 'biology'),\n",
       " (123, 'Jonnie', 'Hillock', 'mathematics'),\n",
       " (136, 'Chu', 'Flax', 'mathematics'),\n",
       " (122, 'Rosalinda', 'Trippe', 'biology')]"
      ]
     },
     "execution_count": 3,
     "metadata": {},
     "output_type": "execute_result"
    }
   ],
   "source": [
    "%%sql \n",
    "SELECT * \n",
    "FROM students\n",
    "LIMIT 5;"
   ]
  },
  {
   "cell_type": "markdown",
   "metadata": {},
   "source": [
    "The tables `mth141` and `eng101` contain student grades from two courses: MTH 141 and ENG 101, respectively. Each grade is associated to an id number of a student:"
   ]
  },
  {
   "cell_type": "code",
   "execution_count": 4,
   "metadata": {},
   "outputs": [
    {
     "name": "stdout",
     "output_type": "stream",
     "text": [
      " * sqlite:///courses_data.sqlite\n",
      "Done.\n"
     ]
    },
    {
     "data": {
      "text/html": [
       "<table>\n",
       "    <tr>\n",
       "        <th>student_id</th>\n",
       "        <th>grade</th>\n",
       "    </tr>\n",
       "    <tr>\n",
       "        <td>109</td>\n",
       "        <td>C</td>\n",
       "    </tr>\n",
       "    <tr>\n",
       "        <td>122</td>\n",
       "        <td>A</td>\n",
       "    </tr>\n",
       "    <tr>\n",
       "        <td>127</td>\n",
       "        <td>A</td>\n",
       "    </tr>\n",
       "    <tr>\n",
       "        <td>140</td>\n",
       "        <td>F</td>\n",
       "    </tr>\n",
       "    <tr>\n",
       "        <td>145</td>\n",
       "        <td>C</td>\n",
       "    </tr>\n",
       "    <tr>\n",
       "        <td>157</td>\n",
       "        <td>F</td>\n",
       "    </tr>\n",
       "    <tr>\n",
       "        <td>188</td>\n",
       "        <td>C</td>\n",
       "    </tr>\n",
       "</table>"
      ],
      "text/plain": [
       "[(109, 'C'),\n",
       " (122, 'A'),\n",
       " (127, 'A'),\n",
       " (140, 'F'),\n",
       " (145, 'C'),\n",
       " (157, 'F'),\n",
       " (188, 'C')]"
      ]
     },
     "execution_count": 4,
     "metadata": {},
     "output_type": "execute_result"
    }
   ],
   "source": [
    "%%sql \n",
    "SELECT * \n",
    "FROM mth141\n",
    "ORDER BY student_id;"
   ]
  },
  {
   "cell_type": "code",
   "execution_count": 5,
   "metadata": {},
   "outputs": [
    {
     "name": "stdout",
     "output_type": "stream",
     "text": [
      " * sqlite:///courses_data.sqlite\n",
      "Done.\n"
     ]
    },
    {
     "data": {
      "text/html": [
       "<table>\n",
       "    <tr>\n",
       "        <th>student_id</th>\n",
       "        <th>grade</th>\n",
       "    </tr>\n",
       "    <tr>\n",
       "        <td>122</td>\n",
       "        <td>A</td>\n",
       "    </tr>\n",
       "    <tr>\n",
       "        <td>123</td>\n",
       "        <td>C</td>\n",
       "    </tr>\n",
       "    <tr>\n",
       "        <td>140</td>\n",
       "        <td>D</td>\n",
       "    </tr>\n",
       "    <tr>\n",
       "        <td>165</td>\n",
       "        <td>F</td>\n",
       "    </tr>\n",
       "    <tr>\n",
       "        <td>188</td>\n",
       "        <td>A</td>\n",
       "    </tr>\n",
       "    <tr>\n",
       "        <td>189</td>\n",
       "        <td>A</td>\n",
       "    </tr>\n",
       "</table>"
      ],
      "text/plain": [
       "[(122, 'A'), (123, 'C'), (140, 'D'), (165, 'F'), (188, 'A'), (189, 'A')]"
      ]
     },
     "execution_count": 5,
     "metadata": {},
     "output_type": "execute_result"
    }
   ],
   "source": [
    "%%sql \n",
    "SELECT * \n",
    "FROM eng101\n",
    "ORDER BY student_id;"
   ]
  },
  {
   "cell_type": "markdown",
   "metadata": {},
   "source": [
    "## INTERSECT"
   ]
  },
  {
   "cell_type": "markdown",
   "metadata": {},
   "source": [
    "Lets say that we want to know id numbers of students who took both courses, MTH 141 and ENG 101. We can accomplish this using the `INTERSECT` operator. Given two queries, it returns records which are selected by both of them: "
   ]
  },
  {
   "cell_type": "code",
   "execution_count": 6,
   "metadata": {},
   "outputs": [
    {
     "name": "stdout",
     "output_type": "stream",
     "text": [
      " * sqlite:///courses_data.sqlite\n",
      "Done.\n"
     ]
    },
    {
     "data": {
      "text/html": [
       "<table>\n",
       "    <tr>\n",
       "        <th>student_id</th>\n",
       "    </tr>\n",
       "    <tr>\n",
       "        <td>122</td>\n",
       "    </tr>\n",
       "    <tr>\n",
       "        <td>140</td>\n",
       "    </tr>\n",
       "    <tr>\n",
       "        <td>188</td>\n",
       "    </tr>\n",
       "</table>"
      ],
      "text/plain": [
       "[(122,), (140,), (188,)]"
      ]
     },
     "execution_count": 6,
     "metadata": {},
     "output_type": "execute_result"
    }
   ],
   "source": [
    "%%sql \n",
    "SELECT student_id\n",
    "FROM mth141\n",
    "INTERSECT\n",
    "SELECT student_id\n",
    "FROM eng101;"
   ]
  },
  {
   "cell_type": "markdown",
   "metadata": {},
   "source": [
    "## UNION"
   ]
  },
  {
   "cell_type": "markdown",
   "metadata": {},
   "source": [
    "The `UNION` operator combines two queries, returning records selected by either one of them. Identical records selected by both queries are returned only once. \n",
    "\n",
    "As an example, we can use `UNION` to get a list of id numbers of students who took either MTH 141 or  ENG 101, or both: "
   ]
  },
  {
   "cell_type": "code",
   "execution_count": 7,
   "metadata": {},
   "outputs": [
    {
     "name": "stdout",
     "output_type": "stream",
     "text": [
      " * sqlite:///courses_data.sqlite\n",
      "Done.\n"
     ]
    },
    {
     "data": {
      "text/html": [
       "<table>\n",
       "    <tr>\n",
       "        <th>student_id</th>\n",
       "    </tr>\n",
       "    <tr>\n",
       "        <td>109</td>\n",
       "    </tr>\n",
       "    <tr>\n",
       "        <td>122</td>\n",
       "    </tr>\n",
       "    <tr>\n",
       "        <td>123</td>\n",
       "    </tr>\n",
       "    <tr>\n",
       "        <td>127</td>\n",
       "    </tr>\n",
       "    <tr>\n",
       "        <td>140</td>\n",
       "    </tr>\n",
       "    <tr>\n",
       "        <td>145</td>\n",
       "    </tr>\n",
       "    <tr>\n",
       "        <td>157</td>\n",
       "    </tr>\n",
       "    <tr>\n",
       "        <td>165</td>\n",
       "    </tr>\n",
       "    <tr>\n",
       "        <td>188</td>\n",
       "    </tr>\n",
       "    <tr>\n",
       "        <td>189</td>\n",
       "    </tr>\n",
       "</table>"
      ],
      "text/plain": [
       "[(109,),\n",
       " (122,),\n",
       " (123,),\n",
       " (127,),\n",
       " (140,),\n",
       " (145,),\n",
       " (157,),\n",
       " (165,),\n",
       " (188,),\n",
       " (189,)]"
      ]
     },
     "execution_count": 7,
     "metadata": {},
     "output_type": "execute_result"
    }
   ],
   "source": [
    "%%sql\n",
    "SELECT student_id\n",
    "FROM mth141\n",
    "UNION\n",
    "SELECT student_id\n",
    "FROM eng101;"
   ]
  },
  {
   "cell_type": "markdown",
   "metadata": {},
   "source": [
    "## EXCEPT"
   ]
  },
  {
   "cell_type": "markdown",
   "metadata": {},
   "source": [
    "Given two queries, the `EXCEPT` operator returns these records selected by the first query, which are not selected by the second query.  \n",
    "\n",
    "Below we use it to get a list of id numbers of students who took  MTH 141 but not ENG 101: "
   ]
  },
  {
   "cell_type": "code",
   "execution_count": 8,
   "metadata": {},
   "outputs": [
    {
     "name": "stdout",
     "output_type": "stream",
     "text": [
      " * sqlite:///courses_data.sqlite\n",
      "Done.\n"
     ]
    },
    {
     "data": {
      "text/html": [
       "<table>\n",
       "    <tr>\n",
       "        <th>student_id</th>\n",
       "    </tr>\n",
       "    <tr>\n",
       "        <td>109</td>\n",
       "    </tr>\n",
       "    <tr>\n",
       "        <td>127</td>\n",
       "    </tr>\n",
       "    <tr>\n",
       "        <td>145</td>\n",
       "    </tr>\n",
       "    <tr>\n",
       "        <td>157</td>\n",
       "    </tr>\n",
       "</table>"
      ],
      "text/plain": [
       "[(109,), (127,), (145,), (157,)]"
      ]
     },
     "execution_count": 8,
     "metadata": {},
     "output_type": "execute_result"
    }
   ],
   "source": [
    "%%sql \n",
    "SELECT student_id\n",
    "FROM mth141\n",
    "EXCEPT\n",
    "SELECT student_id\n",
    "FROM eng101;"
   ]
  },
  {
   "cell_type": "markdown",
   "metadata": {},
   "source": [
    "|\n",
    "\n",
    "<div class=\"alert alert-info\">\n",
    "    \n",
    "<b>Note</b> \n",
    "    \n",
    "The operators `INTERSECT`, `UNION` and `EXCEPT` can be used to combine only queries which return the same number of columns.  \n",
    "</div>"
   ]
  },
  {
   "cell_type": "markdown",
   "metadata": {},
   "source": [
    "## Joins"
   ]
  },
  {
   "cell_type": "markdown",
   "metadata": {},
   "source": [
    "Let say that we want to combine records from the `mth141` and `eng101` tables so that we get student id numbers in one column, MTH 141 grades in the second column, and ENG 101 grades in the last column. This can be done in a few different ways depending on what precisely we want to accomplish:\n",
    "\n",
    "**Case 1.** We can get records of only these students who took both courses and have a grade for both MTH 141 and ENG 101. \n",
    "\n",
    "**Case 2.** We can get records of all students who took MTH 141. The column with ENG 101 grades will contain either a grade, for students who took ENG 101, or NULL otherwise. \n",
    "\n",
    "**Case 3.** We can get records of all students who took ENG 101, and populate the MTH 141 column with either  grades or NULL values depending on whether a student took MTH 141 or not. \n",
    "\n",
    "**Case 4.** We can get records of students who took either course. The MTH 141 and ENG 101 columns will be populated with grades wherever they exist, and with NULL values elsewhere. \n",
    "\n",
    "SQL lets us implement each of these scenarios using different types of table joins: the inner join in case 1, the left and right joins in cases 2 and 3, and the full outer join in case 4. "
   ]
  },
  {
   "cell_type": "markdown",
   "metadata": {},
   "source": [
    "### Inner join"
   ]
  },
  {
   "cell_type": "markdown",
   "metadata": {},
   "source": [
    "The `INNER JOIN` clause is used as follows:"
   ]
  },
  {
   "cell_type": "raw",
   "metadata": {
    "raw_mimetype": "text/restructuredtext"
   },
   "source": [
    ".. code-block:: none\n",
    "\n",
    "   SELECT column1, column2, ...\n",
    "   FROM \n",
    "       left_table INNER JOIN right_table\n",
    "       ON condition;"
   ]
  },
  {
   "cell_type": "markdown",
   "metadata": {},
   "source": [
    "This clause returns combinations of every record of `left_table` with every record of `right_table` for which the specified condition is satisfied. Records of either table which do not have a match are omitted. \n",
    "\n",
    "For example, the query below returns combined records from tables `mth141` and `eng101` which have the same student id number:"
   ]
  },
  {
   "cell_type": "code",
   "execution_count": 9,
   "metadata": {},
   "outputs": [
    {
     "name": "stdout",
     "output_type": "stream",
     "text": [
      " * sqlite:///courses_data.sqlite\n",
      "Done.\n"
     ]
    },
    {
     "data": {
      "text/html": [
       "<table>\n",
       "    <tr>\n",
       "        <th>student_id</th>\n",
       "        <th>grade</th>\n",
       "        <th>student_id_1</th>\n",
       "        <th>grade_1</th>\n",
       "    </tr>\n",
       "    <tr>\n",
       "        <td>122</td>\n",
       "        <td>A</td>\n",
       "        <td>122</td>\n",
       "        <td>A</td>\n",
       "    </tr>\n",
       "    <tr>\n",
       "        <td>140</td>\n",
       "        <td>F</td>\n",
       "        <td>140</td>\n",
       "        <td>D</td>\n",
       "    </tr>\n",
       "    <tr>\n",
       "        <td>188</td>\n",
       "        <td>C</td>\n",
       "        <td>188</td>\n",
       "        <td>A</td>\n",
       "    </tr>\n",
       "</table>"
      ],
      "text/plain": [
       "[(122, 'A', 122, 'A'), (140, 'F', 140, 'D'), (188, 'C', 188, 'A')]"
      ]
     },
     "execution_count": 9,
     "metadata": {},
     "output_type": "execute_result"
    }
   ],
   "source": [
    "%%sql\n",
    "SELECT *\n",
    "FROM \n",
    "    mth141 INNER JOIN eng101\n",
    "    ON mth141.student_id = eng101.student_id;"
   ]
  },
  {
   "cell_type": "markdown",
   "metadata": {},
   "source": [
    "Notice that to identify which column comes from which table we need to prefix each column name with the name of a table. E.g. `mth141.student_id` denotes column `student_id` in  table `mth141`. \n",
    "\n",
    "The above query returns `student_id` column twice since this column appears in both tables. Also, names of columns with grades are not informative.  We can fix this by specifying which columns we want to retrieve and using aliases:"
   ]
  },
  {
   "cell_type": "code",
   "execution_count": 10,
   "metadata": {},
   "outputs": [
    {
     "name": "stdout",
     "output_type": "stream",
     "text": [
      " * sqlite:///courses_data.sqlite\n",
      "Done.\n"
     ]
    },
    {
     "data": {
      "text/html": [
       "<table>\n",
       "    <tr>\n",
       "        <th>student_id</th>\n",
       "        <th>mth141_grade</th>\n",
       "        <th>eng101_grade</th>\n",
       "    </tr>\n",
       "    <tr>\n",
       "        <td>122</td>\n",
       "        <td>A</td>\n",
       "        <td>A</td>\n",
       "    </tr>\n",
       "    <tr>\n",
       "        <td>140</td>\n",
       "        <td>F</td>\n",
       "        <td>D</td>\n",
       "    </tr>\n",
       "    <tr>\n",
       "        <td>188</td>\n",
       "        <td>C</td>\n",
       "        <td>A</td>\n",
       "    </tr>\n",
       "</table>"
      ],
      "text/plain": [
       "[(122, 'A', 'A'), (140, 'F', 'D'), (188, 'C', 'A')]"
      ]
     },
     "execution_count": 10,
     "metadata": {},
     "output_type": "execute_result"
    }
   ],
   "source": [
    "%%sql\n",
    "SELECT \n",
    "    mth141.student_id,\n",
    "    mth141.grade AS mth141_grade,\n",
    "    eng101.grade AS eng101_grade\n",
    "FROM \n",
    "    mth141 INNER JOIN eng101\n",
    "    ON mth141.student_id = eng101.student_id;"
   ]
  },
  {
   "cell_type": "markdown",
   "metadata": {},
   "source": [
    "The condition in `INNER JOIN` (and other types of joins) does not need to test just equality of column values. For example, below we return records of students who took both courses, and received a different grade in each course:  "
   ]
  },
  {
   "cell_type": "code",
   "execution_count": 12,
   "metadata": {},
   "outputs": [
    {
     "name": "stdout",
     "output_type": "stream",
     "text": [
      " * sqlite:///courses_data.sqlite\n",
      "Done.\n"
     ]
    },
    {
     "data": {
      "text/html": [
       "<table>\n",
       "    <tr>\n",
       "        <th>student_id</th>\n",
       "        <th>mth141_grade</th>\n",
       "        <th>eng101_grade</th>\n",
       "    </tr>\n",
       "    <tr>\n",
       "        <td>140</td>\n",
       "        <td>F</td>\n",
       "        <td>D</td>\n",
       "    </tr>\n",
       "    <tr>\n",
       "        <td>188</td>\n",
       "        <td>C</td>\n",
       "        <td>A</td>\n",
       "    </tr>\n",
       "</table>"
      ],
      "text/plain": [
       "[(140, 'F', 'D'), (188, 'C', 'A')]"
      ]
     },
     "execution_count": 12,
     "metadata": {},
     "output_type": "execute_result"
    }
   ],
   "source": [
    "%%sql\n",
    "SELECT \n",
    "    mth141.student_id,\n",
    "    mth141.grade AS mth141_grade,\n",
    "    eng101.grade AS eng101_grade\n",
    "FROM \n",
    "    mth141 INNER JOIN eng101\n",
    "    ON mth141.student_id = eng101.student_id \n",
    "       AND mth141.grade != eng101.grade;"
   ]
  },
  {
   "cell_type": "markdown",
   "metadata": {},
   "source": [
    "### Left join"
   ]
  },
  {
   "cell_type": "markdown",
   "metadata": {},
   "source": [
    "The `LEFT JOIN` clause is used as follows: "
   ]
  },
  {
   "cell_type": "raw",
   "metadata": {
    "raw_mimetype": "text/restructuredtext"
   },
   "source": [
    ".. code-block:: none\n",
    "\n",
    "   SELECT column1, column2, ...\n",
    "   FROM \n",
    "      left_table LEFT JOIN right_table\n",
    "      ON condition;"
   ]
  },
  {
   "cell_type": "markdown",
   "metadata": {},
   "source": [
    "It combines every record of `left_table` with every record of `right_table` for which the given condition is satisfied. Records in the `left_table` that not have a match in `right_table` are combined with NULL values. \n",
    "\n",
    "For example, we can use `LEFT JOIN` to list MTH 141 students, and include their grades in ENG 101 if they exist:"
   ]
  },
  {
   "cell_type": "code",
   "execution_count": 13,
   "metadata": {},
   "outputs": [
    {
     "name": "stdout",
     "output_type": "stream",
     "text": [
      " * sqlite:///courses_data.sqlite\n",
      "Done.\n"
     ]
    },
    {
     "data": {
      "text/html": [
       "<table>\n",
       "    <tr>\n",
       "        <th>student_id</th>\n",
       "        <th>mth141_grade</th>\n",
       "        <th>eng101_grade</th>\n",
       "    </tr>\n",
       "    <tr>\n",
       "        <td>122</td>\n",
       "        <td>A</td>\n",
       "        <td>A</td>\n",
       "    </tr>\n",
       "    <tr>\n",
       "        <td>109</td>\n",
       "        <td>C</td>\n",
       "        <td>None</td>\n",
       "    </tr>\n",
       "    <tr>\n",
       "        <td>127</td>\n",
       "        <td>A</td>\n",
       "        <td>None</td>\n",
       "    </tr>\n",
       "    <tr>\n",
       "        <td>140</td>\n",
       "        <td>F</td>\n",
       "        <td>D</td>\n",
       "    </tr>\n",
       "    <tr>\n",
       "        <td>145</td>\n",
       "        <td>C</td>\n",
       "        <td>None</td>\n",
       "    </tr>\n",
       "    <tr>\n",
       "        <td>157</td>\n",
       "        <td>F</td>\n",
       "        <td>None</td>\n",
       "    </tr>\n",
       "    <tr>\n",
       "        <td>188</td>\n",
       "        <td>C</td>\n",
       "        <td>A</td>\n",
       "    </tr>\n",
       "</table>"
      ],
      "text/plain": [
       "[(122, 'A', 'A'),\n",
       " (109, 'C', None),\n",
       " (127, 'A', None),\n",
       " (140, 'F', 'D'),\n",
       " (145, 'C', None),\n",
       " (157, 'F', None),\n",
       " (188, 'C', 'A')]"
      ]
     },
     "execution_count": 13,
     "metadata": {},
     "output_type": "execute_result"
    }
   ],
   "source": [
    "%%sql\n",
    "SELECT \n",
    "    mth141.student_id,\n",
    "    mth141.grade AS mth141_grade,\n",
    "    eng101.grade AS eng101_grade\n",
    "FROM \n",
    "    mth141 LEFT JOIN eng101\n",
    "    ON mth141.student_id = eng101.student_id;"
   ]
  },
  {
   "cell_type": "markdown",
   "metadata": {},
   "source": [
    "### Right join"
   ]
  },
  {
   "cell_type": "markdown",
   "metadata": {},
   "source": [
    "`RIGHT JOIN` is similar to `LEFT JOIN`, but with roles of the `right_table` and `left_table` reversed: if a record of `right_table` does not have a matching record in the `left_table`, then it gets matched with NULL values. \n",
    "\n",
    "While `RIGHT JOIN` is a standard part of SQL, it is not implemented by SQLite. This is a minor inconvenience since we can get the same results by switching tables and using `LEFT JOIN`. Below we do this to get grades of ENG 101 students, supplements by MTH 141 grades if they exist:"
   ]
  },
  {
   "cell_type": "code",
   "execution_count": 14,
   "metadata": {},
   "outputs": [
    {
     "name": "stdout",
     "output_type": "stream",
     "text": [
      " * sqlite:///courses_data.sqlite\n",
      "Done.\n"
     ]
    },
    {
     "data": {
      "text/html": [
       "<table>\n",
       "    <tr>\n",
       "        <th>student_id</th>\n",
       "        <th>mth141_grade</th>\n",
       "        <th>eng101_grade</th>\n",
       "    </tr>\n",
       "    <tr>\n",
       "        <td>165</td>\n",
       "        <td>None</td>\n",
       "        <td>F</td>\n",
       "    </tr>\n",
       "    <tr>\n",
       "        <td>123</td>\n",
       "        <td>None</td>\n",
       "        <td>C</td>\n",
       "    </tr>\n",
       "    <tr>\n",
       "        <td>122</td>\n",
       "        <td>A</td>\n",
       "        <td>A</td>\n",
       "    </tr>\n",
       "    <tr>\n",
       "        <td>189</td>\n",
       "        <td>None</td>\n",
       "        <td>A</td>\n",
       "    </tr>\n",
       "    <tr>\n",
       "        <td>140</td>\n",
       "        <td>F</td>\n",
       "        <td>D</td>\n",
       "    </tr>\n",
       "    <tr>\n",
       "        <td>188</td>\n",
       "        <td>C</td>\n",
       "        <td>A</td>\n",
       "    </tr>\n",
       "</table>"
      ],
      "text/plain": [
       "[(165, None, 'F'),\n",
       " (123, None, 'C'),\n",
       " (122, 'A', 'A'),\n",
       " (189, None, 'A'),\n",
       " (140, 'F', 'D'),\n",
       " (188, 'C', 'A')]"
      ]
     },
     "execution_count": 14,
     "metadata": {},
     "output_type": "execute_result"
    }
   ],
   "source": [
    "%%sql\n",
    "SELECT \n",
    "    eng101.student_id,\n",
    "    mth141.grade AS mth141_grade,\n",
    "    eng101.grade AS eng101_grade\n",
    "FROM \n",
    "    eng101 LEFT JOIN mth141\n",
    "    ON mth141.student_id = eng101.student_id;"
   ]
  },
  {
   "cell_type": "markdown",
   "metadata": {},
   "source": [
    "### Full outer join"
   ]
  },
  {
   "cell_type": "markdown",
   "metadata": {},
   "source": [
    "`FULL OUTER JOIN` is a combination of `LEFT JOIN` and `RIGHT JOIN`. It matches all records of `left_table` with all records of `right_table` based on a specified condition. If a record of either of the two tables does not have a match in the other table, it is matched with NULL values. \n",
    "\n",
    "Again, while `FULL OUTER JOIN` is a standard SQL feature, SQLite does not implement it. However, we can get the same results using `LEFT JOIN` and `UNION`. For example, below we compute the full outer join of the `mth141` and `eng101` tables for records with the same student id number:"
   ]
  },
  {
   "cell_type": "code",
   "execution_count": 18,
   "metadata": {},
   "outputs": [
    {
     "name": "stdout",
     "output_type": "stream",
     "text": [
      " * sqlite:///courses_data.sqlite\n",
      "Done.\n"
     ]
    },
    {
     "data": {
      "text/html": [
       "<table>\n",
       "    <tr>\n",
       "        <th>student_id</th>\n",
       "        <th>mth141_grade</th>\n",
       "        <th>eng101_grade</th>\n",
       "    </tr>\n",
       "    <tr>\n",
       "        <td>109</td>\n",
       "        <td>C</td>\n",
       "        <td>None</td>\n",
       "    </tr>\n",
       "    <tr>\n",
       "        <td>122</td>\n",
       "        <td>A</td>\n",
       "        <td>A</td>\n",
       "    </tr>\n",
       "    <tr>\n",
       "        <td>123</td>\n",
       "        <td>None</td>\n",
       "        <td>C</td>\n",
       "    </tr>\n",
       "    <tr>\n",
       "        <td>127</td>\n",
       "        <td>A</td>\n",
       "        <td>None</td>\n",
       "    </tr>\n",
       "    <tr>\n",
       "        <td>140</td>\n",
       "        <td>F</td>\n",
       "        <td>D</td>\n",
       "    </tr>\n",
       "    <tr>\n",
       "        <td>145</td>\n",
       "        <td>C</td>\n",
       "        <td>None</td>\n",
       "    </tr>\n",
       "    <tr>\n",
       "        <td>157</td>\n",
       "        <td>F</td>\n",
       "        <td>None</td>\n",
       "    </tr>\n",
       "    <tr>\n",
       "        <td>165</td>\n",
       "        <td>None</td>\n",
       "        <td>F</td>\n",
       "    </tr>\n",
       "    <tr>\n",
       "        <td>188</td>\n",
       "        <td>C</td>\n",
       "        <td>A</td>\n",
       "    </tr>\n",
       "    <tr>\n",
       "        <td>189</td>\n",
       "        <td>None</td>\n",
       "        <td>A</td>\n",
       "    </tr>\n",
       "</table>"
      ],
      "text/plain": [
       "[(109, 'C', None),\n",
       " (122, 'A', 'A'),\n",
       " (123, None, 'C'),\n",
       " (127, 'A', None),\n",
       " (140, 'F', 'D'),\n",
       " (145, 'C', None),\n",
       " (157, 'F', None),\n",
       " (165, None, 'F'),\n",
       " (188, 'C', 'A'),\n",
       " (189, None, 'A')]"
      ]
     },
     "execution_count": 18,
     "metadata": {},
     "output_type": "execute_result"
    }
   ],
   "source": [
    "%%sql \n",
    "SELECT \n",
    "    mth141.student_id AS student_id,\n",
    "    mth141.grade AS mth141_grade,\n",
    "    eng101.grade AS eng101_grade       \n",
    "FROM \n",
    "    mth141 LEFT JOIN eng101 \n",
    "    ON mth141.student_id = eng101.student_id \n",
    "UNION\n",
    "SELECT \n",
    "    eng101.student_id AS student_id,\n",
    "    mth141.grade AS mth141_grade,\n",
    "    eng101.grade AS eng101_grade\n",
    "FROM \n",
    "    eng101 \n",
    "    LEFT JOIN mth141\n",
    "    ON mth141.student_id = eng101.student_id;"
   ]
  },
  {
   "cell_type": "markdown",
   "metadata": {},
   "source": [
    "### Multiple joins"
   ]
  },
  {
   "cell_type": "markdown",
   "metadata": {},
   "source": [
    "We can combine more that two tables by iterating the join operation. For example, below we use `INNER JOIN` twice to get grades of students who took both MTH 141 and ENG 101 combined with student names and majors:"
   ]
  },
  {
   "cell_type": "code",
   "execution_count": 16,
   "metadata": {},
   "outputs": [
    {
     "name": "stdout",
     "output_type": "stream",
     "text": [
      " * sqlite:///courses_data.sqlite\n",
      "Done.\n"
     ]
    },
    {
     "data": {
      "text/html": [
       "<table>\n",
       "    <tr>\n",
       "        <th>student_id</th>\n",
       "        <th>first_name</th>\n",
       "        <th>last_name</th>\n",
       "        <th>major</th>\n",
       "        <th>mth141_grade</th>\n",
       "        <th>eng101_grade</th>\n",
       "    </tr>\n",
       "    <tr>\n",
       "        <td>122</td>\n",
       "        <td>Rosalinda</td>\n",
       "        <td>Trippe</td>\n",
       "        <td>biology</td>\n",
       "        <td>A</td>\n",
       "        <td>A</td>\n",
       "    </tr>\n",
       "    <tr>\n",
       "        <td>140</td>\n",
       "        <td>Ludivina</td>\n",
       "        <td>Hoskin</td>\n",
       "        <td>computer science</td>\n",
       "        <td>F</td>\n",
       "        <td>D</td>\n",
       "    </tr>\n",
       "    <tr>\n",
       "        <td>188</td>\n",
       "        <td>Randall</td>\n",
       "        <td>Lindbloom</td>\n",
       "        <td>mathematics</td>\n",
       "        <td>C</td>\n",
       "        <td>A</td>\n",
       "    </tr>\n",
       "</table>"
      ],
      "text/plain": [
       "[(122, 'Rosalinda', 'Trippe', 'biology', 'A', 'A'),\n",
       " (140, 'Ludivina', 'Hoskin', 'computer science', 'F', 'D'),\n",
       " (188, 'Randall', 'Lindbloom', 'mathematics', 'C', 'A')]"
      ]
     },
     "execution_count": 16,
     "metadata": {},
     "output_type": "execute_result"
    }
   ],
   "source": [
    "%%sql\n",
    "SELECT \n",
    "    students.*, \n",
    "    mth141.grade AS mth141_grade,\n",
    "    eng101.grade AS eng101_grade\n",
    "FROM \n",
    "    students INNER JOIN mth141 INNER JOIN eng101\n",
    "    ON students.student_id = mth141.student_id \n",
    "       AND students.student_id = eng101.student_id;"
   ]
  },
  {
   "cell_type": "markdown",
   "metadata": {},
   "source": [
    "Here is a more complex example. We retrieve grades of students who took either of the two courses and combine them with student names and majors. Notice that the first `FROM` is followed by a join of a query getting all grades and the `students` table. To identify columns of the query getting grades, we give it a name `combined_grades`: "
   ]
  },
  {
   "cell_type": "code",
   "execution_count": 19,
   "metadata": {},
   "outputs": [
    {
     "name": "stdout",
     "output_type": "stream",
     "text": [
      " * sqlite:///courses_data.sqlite\n",
      "Done.\n"
     ]
    },
    {
     "data": {
      "text/html": [
       "<table>\n",
       "    <tr>\n",
       "        <th>student_id</th>\n",
       "        <th>first_name</th>\n",
       "        <th>last_name</th>\n",
       "        <th>major</th>\n",
       "        <th>mth141_grade</th>\n",
       "        <th>eng101_grade</th>\n",
       "    </tr>\n",
       "    <tr>\n",
       "        <td>165</td>\n",
       "        <td>Stanton</td>\n",
       "        <td>Mcgaugh</td>\n",
       "        <td>biology</td>\n",
       "        <td>None</td>\n",
       "        <td>F</td>\n",
       "    </tr>\n",
       "    <tr>\n",
       "        <td>123</td>\n",
       "        <td>Jonnie</td>\n",
       "        <td>Hillock</td>\n",
       "        <td>mathematics</td>\n",
       "        <td>None</td>\n",
       "        <td>C</td>\n",
       "    </tr>\n",
       "    <tr>\n",
       "        <td>122</td>\n",
       "        <td>Rosalinda</td>\n",
       "        <td>Trippe</td>\n",
       "        <td>biology</td>\n",
       "        <td>A</td>\n",
       "        <td>A</td>\n",
       "    </tr>\n",
       "    <tr>\n",
       "        <td>109</td>\n",
       "        <td>Shawnna</td>\n",
       "        <td>Coate</td>\n",
       "        <td>mathematics</td>\n",
       "        <td>C</td>\n",
       "        <td>None</td>\n",
       "    </tr>\n",
       "    <tr>\n",
       "        <td>189</td>\n",
       "        <td>Marcia</td>\n",
       "        <td>Hinkel</td>\n",
       "        <td>mathematics</td>\n",
       "        <td>None</td>\n",
       "        <td>A</td>\n",
       "    </tr>\n",
       "    <tr>\n",
       "        <td>127</td>\n",
       "        <td>Adelina</td>\n",
       "        <td>Brummitt</td>\n",
       "        <td>biology</td>\n",
       "        <td>A</td>\n",
       "        <td>None</td>\n",
       "    </tr>\n",
       "    <tr>\n",
       "        <td>140</td>\n",
       "        <td>Ludivina</td>\n",
       "        <td>Hoskin</td>\n",
       "        <td>computer science</td>\n",
       "        <td>F</td>\n",
       "        <td>D</td>\n",
       "    </tr>\n",
       "    <tr>\n",
       "        <td>145</td>\n",
       "        <td>Ilona</td>\n",
       "        <td>Rabe</td>\n",
       "        <td>computer science</td>\n",
       "        <td>C</td>\n",
       "        <td>None</td>\n",
       "    </tr>\n",
       "    <tr>\n",
       "        <td>157</td>\n",
       "        <td>Wilbert</td>\n",
       "        <td>Haskell</td>\n",
       "        <td>computer science</td>\n",
       "        <td>F</td>\n",
       "        <td>None</td>\n",
       "    </tr>\n",
       "    <tr>\n",
       "        <td>188</td>\n",
       "        <td>Randall</td>\n",
       "        <td>Lindbloom</td>\n",
       "        <td>mathematics</td>\n",
       "        <td>C</td>\n",
       "        <td>A</td>\n",
       "    </tr>\n",
       "</table>"
      ],
      "text/plain": [
       "[(165, 'Stanton', 'Mcgaugh', 'biology', None, 'F'),\n",
       " (123, 'Jonnie', 'Hillock', 'mathematics', None, 'C'),\n",
       " (122, 'Rosalinda', 'Trippe', 'biology', 'A', 'A'),\n",
       " (109, 'Shawnna', 'Coate', 'mathematics', 'C', None),\n",
       " (189, 'Marcia', 'Hinkel', 'mathematics', None, 'A'),\n",
       " (127, 'Adelina', 'Brummitt', 'biology', 'A', None),\n",
       " (140, 'Ludivina', 'Hoskin', 'computer science', 'F', 'D'),\n",
       " (145, 'Ilona', 'Rabe', 'computer science', 'C', None),\n",
       " (157, 'Wilbert', 'Haskell', 'computer science', 'F', None),\n",
       " (188, 'Randall', 'Lindbloom', 'mathematics', 'C', 'A')]"
      ]
     },
     "execution_count": 19,
     "metadata": {},
     "output_type": "execute_result"
    }
   ],
   "source": [
    "%%sql \n",
    "SELECT \n",
    "    students.*, \n",
    "    combined_grades.mth141_grade,\n",
    "    combined_grades.eng101_grade  \n",
    "FROM \n",
    "    (SELECT \n",
    "         mth141.student_id AS student_id,\n",
    "         mth141.grade AS mth141_grade,\n",
    "         eng101.grade AS eng101_grade  \n",
    "     FROM \n",
    "         mth141 LEFT JOIN eng101 \n",
    "         ON mth141.student_id = eng101.student_id \n",
    "     UNION\n",
    "     SELECT \n",
    "         eng101.student_id AS student_id,\n",
    "         mth141.grade AS mth141_grade,\n",
    "         eng101.grade AS eng101_grade\n",
    "     FROM \n",
    "         eng101 LEFT JOIN mth141\n",
    "         ON mth141.student_id = eng101.student_id  \n",
    "     ) AS combined_grades\n",
    "     INNER JOIN students\n",
    "     ON combined_grades.student_id = students.student_id;"
   ]
  }
 ],
 "metadata": {
  "celltoolbar": "Raw Cell Format",
  "kernelspec": {
   "display_name": "Python 3",
   "language": "python",
   "name": "python3"
  },
  "language_info": {
   "codemirror_mode": {
    "name": "ipython",
    "version": 3
   },
   "file_extension": ".py",
   "mimetype": "text/x-python",
   "name": "python",
   "nbconvert_exporter": "python",
   "pygments_lexer": "ipython3",
   "version": "3.7.6"
  }
 },
 "nbformat": 4,
 "nbformat_minor": 4
}
